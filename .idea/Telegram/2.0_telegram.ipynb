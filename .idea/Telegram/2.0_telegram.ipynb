{
 "cells": [
  {
   "cell_type": "code",
   "execution_count": null,
   "outputs": [],
   "source": [
    "bot_2.send_document()"
   ],
   "metadata": {
    "collapsed": false
   }
  },
  {
   "cell_type": "code",
   "execution_count": 9,
   "outputs": [
    {
     "data": {
      "text/plain": "<telegram.message.Message at 0x2a7e2689b48>"
     },
     "execution_count": 9,
     "metadata": {},
     "output_type": "execute_result"
    }
   ],
   "source": [
    "bot_2.send_photo(-677235937,open(r\"C:\\Users\\fzh00\\Desktop\\美女.jpg\",'rb'),timeout=100)"
   ],
   "metadata": {
    "collapsed": false
   }
  },
  {
   "cell_type": "code",
   "execution_count": 2,
   "outputs": [
    {
     "data": {
      "text/plain": "<telegram.message.Message at 0x2a7e26a6088>"
     },
     "execution_count": 2,
     "metadata": {},
     "output_type": "execute_result"
    }
   ],
   "source": [
    "import telegram\n",
    "import  datetime\n",
    "# 用你的bot token创建一个bot实例\n",
    "bot_2 = telegram.Bot(token='6377312623:AAGz3ZSMVswWq0QVlihRPklw8b7skSBP16Y')\n",
    "bot_2.send_message(-677235937,'2.0版本的telegram')\n",
    "\n",
    "# https://api.telegram.org/bot6377312623:AAGz3ZSMVswWq0QVlihRPklw8b7skSBP16Y/getUpdates"
   ],
   "metadata": {
    "collapsed": false
   }
  },
  {
   "cell_type": "code",
   "execution_count": 5,
   "outputs": [
    {
     "data": {
      "text/plain": "<telegram.message.Message at 0x2a7e26c4d18>"
     },
     "execution_count": 5,
     "metadata": {},
     "output_type": "execute_result"
    }
   ],
   "source": [
    "bot_2.send_video(-677235937,open(r\"C:\\Users\\fzh00\\Desktop\\测试视频.mp4\",'rb'),timeout=100)"
   ],
   "metadata": {
    "collapsed": false
   }
  },
  {
   "cell_type": "code",
   "execution_count": 10,
   "outputs": [
    {
     "data": {
      "text/plain": "<telegram.message.Message at 0x2a7e26a3498>"
     },
     "execution_count": 10,
     "metadata": {},
     "output_type": "execute_result"
    }
   ],
   "source": [
    "bot_2.send_photo(-677235937,open(r\"C:\\Users\\fzh00\\Pictures\\Snipaste_2023-01-20_17-06-52.png\",'rb'),timeout=100)"
   ],
   "metadata": {
    "collapsed": false
   }
  }
 ],
 "metadata": {
  "kernelspec": {
   "name": "py36",
   "language": "python",
   "display_name": "py36"
  },
  "language_info": {
   "codemirror_mode": {
    "name": "ipython",
    "version": 2
   },
   "file_extension": ".py",
   "mimetype": "text/x-python",
   "name": "python",
   "nbconvert_exporter": "python",
   "pygments_lexer": "ipython2",
   "version": "2.7.6"
  }
 },
 "nbformat": 4,
 "nbformat_minor": 0
}
