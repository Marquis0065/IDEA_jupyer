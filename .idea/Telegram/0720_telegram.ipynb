{
 "cells": [
  {
   "cell_type": "code",
   "execution_count": 4,
   "outputs": [
    {
     "data": {
      "text/plain": "<telegram.message.Message at 0x20010c00438>"
     },
     "execution_count": 4,
     "metadata": {},
     "output_type": "execute_result"
    }
   ],
   "source": [
    "telegram_bot.send_photo(chat_id=-677235937,photo=open(r\"C:\\Users\\fzh00\\Desktop\\美女.jpg\",'rb'),timeout=1000)"
   ],
   "metadata": {
    "collapsed": false
   }
  },
  {
   "cell_type": "code",
   "execution_count": 3,
   "outputs": [
    {
     "data": {
      "text/plain": "<telegram.message.Message at 0x20010c001e8>"
     },
     "execution_count": 3,
     "metadata": {},
     "output_type": "execute_result"
    }
   ],
   "source": [
    "telegram_bot.sendMessage(-677235937,'sendMessage，应该是一样的方法 ',timeout=1000)"
   ],
   "metadata": {
    "collapsed": false
   }
  },
  {
   "cell_type": "code",
   "execution_count": 1,
   "outputs": [
    {
     "data": {
      "text/plain": "<telegram.message.Message at 0x2000f5c8548>"
     },
     "execution_count": 1,
     "metadata": {},
     "output_type": "execute_result"
    }
   ],
   "source": [
    "import telegram\n",
    "import datetime\n",
    "telegram_bot = telegram.Bot(token='6377312623:AAGz3ZSMVswWq0QVlihRPklw8b7skSBP16Y')\n",
    "telegram_bot.send_message(-677235937,'今天 是{}'.format(datetime.date.today()),timeout=1000)"
   ],
   "metadata": {
    "collapsed": false
   }
  }
 ],
 "metadata": {
  "kernelspec": {
   "name": "py36",
   "language": "python",
   "display_name": "py36"
  },
  "language_info": {
   "codemirror_mode": {
    "name": "ipython",
    "version": 2
   },
   "file_extension": ".py",
   "mimetype": "text/x-python",
   "name": "python",
   "nbconvert_exporter": "python",
   "pygments_lexer": "ipython2",
   "version": "2.7.6"
  }
 },
 "nbformat": 4,
 "nbformat_minor": 0
}
