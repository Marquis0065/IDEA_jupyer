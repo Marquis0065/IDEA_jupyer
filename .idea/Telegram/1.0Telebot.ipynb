{
 "cells": [
  {
   "cell_type": "code",
   "execution_count": null,
   "outputs": [],
   "source": [],
   "metadata": {
    "collapsed": false
   }
  },
  {
   "cell_type": "code",
   "execution_count": 2,
   "outputs": [
    {
     "name": "stdout",
     "output_type": "stream",
     "text": [
      "pydev_jupyter_vars\t remove_imported_pydev_package\t sys\t telebot\t \n"
     ]
    }
   ],
   "source": [
    "who"
   ],
   "metadata": {
    "collapsed": false
   }
  },
  {
   "cell_type": "code",
   "execution_count": 5,
   "outputs": [
    {
     "data": {
      "text/plain": "<coroutine object Bot.send_message at 0x0000016FB3FDDBD0>"
     },
     "execution_count": 5,
     "metadata": {},
     "output_type": "execute_result"
    }
   ],
   "source": [
    "import telegram\n",
    "# 用你的bot token创建一个bot实例\n",
    "bot = telegram.Bot(token='6377312623:AAGz3ZSMVswWq0QVlihRPklw8b7skSBP16Y')\n",
    "bot.send_message(-677235937,'另一种方式发送')"
   ],
   "metadata": {
    "collapsed": false
   }
  },
  {
   "cell_type": "code",
   "execution_count": 4,
   "outputs": [
    {
     "data": {
      "text/plain": "<telebot.types.Message at 0x16fb3ad3cd0>"
     },
     "execution_count": 4,
     "metadata": {},
     "output_type": "execute_result"
    }
   ],
   "source": [
    "bot.send_video(-677235937,open(r\"C:\\Users\\fzh00\\Desktop\\测试视频.mp4\",'rb'))"
   ],
   "metadata": {
    "collapsed": false
   }
  },
  {
   "cell_type": "code",
   "execution_count": 3,
   "outputs": [
    {
     "data": {
      "text/plain": "<telebot.types.Message at 0x16fb24eace0>"
     },
     "execution_count": 3,
     "metadata": {},
     "output_type": "execute_result"
    }
   ],
   "source": [
    "bot.send_photo(-677235937,open(r\"C:\\Users\\fzh00\\Pictures\\Snipaste_2023-01-20_17-07-34.png\",'rb'))"
   ],
   "metadata": {
    "collapsed": false
   }
  },
  {
   "cell_type": "code",
   "execution_count": 2,
   "outputs": [
    {
     "data": {
      "text/plain": "<telebot.types.Message at 0x16fb24eb580>"
     },
     "execution_count": 2,
     "metadata": {},
     "output_type": "execute_result"
    }
   ],
   "source": [
    "bot.send_document(-677235937,open(r\"C:\\Data\\Jupyter_file\\Python数据清洗基础\\办公自动化\\4、考勤统计\\排班.xlsx\",'rb'))"
   ],
   "metadata": {
    "collapsed": false
   }
  },
  {
   "cell_type": "code",
   "execution_count": 1,
   "outputs": [
    {
     "data": {
      "text/plain": "<telebot.types.Message at 0x16fac7c9bd0>"
     },
     "execution_count": 1,
     "metadata": {},
     "output_type": "execute_result"
    }
   ],
   "source": [
    "import telebot\n",
    "bot = telebot.TeleBot(\"6377312623:AAGz3ZSMVswWq0QVlihRPklw8b7skSBP16Y\", parse_mode=None)\n",
    "bot.send_message(-677235937,'project-anaconda的测试消息55555')\n",
    "#success"
   ],
   "metadata": {
    "collapsed": false
   }
  },
  {
   "cell_type": "code",
   "execution_count": 9,
   "outputs": [],
   "source": [
    "files=open(r\"C:\\Users\\fzh00\\Desktop\\文件\\excel\\1. Excel基础操作\\1.4 图表.xlsx\", 'rb')\n",
    "bot.send_document(6210512460,files)\n",
    "files.close()"
   ],
   "metadata": {
    "collapsed": false
   }
  },
  {
   "cell_type": "code",
   "execution_count": 1,
   "outputs": [
    {
     "name": "stderr",
     "output_type": "stream",
     "text": [
      "C:\\Users\\fzh00\\IdeaProjects\\python_idea\\.idea\\Telegram\\telebot.py:22: RuntimeWarning: coroutine 'TelegramBaseClient.connect' was never awaited\n",
      "  client.connect()\n",
      "RuntimeWarning: Enable tracemalloc to get the object allocation traceback\n",
      "C:\\Users\\fzh00\\IdeaProjects\\python_idea\\.idea\\Telegram\\telebot.py:25: RuntimeWarning: coroutine 'UserMethods.is_user_authorized' was never awaited\n",
      "  if not client.is_user_authorized():\n",
      "RuntimeWarning: Enable tracemalloc to get the object allocation traceback\n",
      "C:\\Users\\fzh00\\IdeaProjects\\python_idea\\.idea\\Telegram\\telebot.py:36: RuntimeWarning: coroutine 'MessageMethods.send_message' was never awaited\n",
      "  client.send_message(-677235937, '这是来自idea', parse_mode='html')\n",
      "RuntimeWarning: Enable tracemalloc to get the object allocation traceback\n"
     ]
    },
    {
     "ename": "AttributeError",
     "evalue": "module 'telebot' has no attribute 'TeleBot'",
     "output_type": "error",
     "traceback": [
      "\u001B[1;31m---------------------------------------------------------------------------\u001B[0m",
      "\u001B[1;31mAttributeError\u001B[0m                            Traceback (most recent call last)",
      "Cell \u001B[1;32mIn[1], line 2\u001B[0m\n\u001B[0;32m      1\u001B[0m \u001B[38;5;28;01mimport\u001B[39;00m \u001B[38;5;21;01mtelebot\u001B[39;00m\n\u001B[1;32m----> 2\u001B[0m bot \u001B[38;5;241m=\u001B[39m \u001B[43mtelebot\u001B[49m\u001B[38;5;241;43m.\u001B[39;49m\u001B[43mTeleBot\u001B[49m(\u001B[38;5;124m\"\u001B[39m\u001B[38;5;124m6377312623:AAGz3ZSMVswWq0QVlihRPklw8b7skSBP16Y\u001B[39m\u001B[38;5;124m\"\u001B[39m, parse_mode\u001B[38;5;241m=\u001B[39m\u001B[38;5;28;01mNone\u001B[39;00m)\n\u001B[0;32m      3\u001B[0m bot\u001B[38;5;241m.\u001B[39mget_me()\n\u001B[0;32m      4\u001B[0m bot\u001B[38;5;241m.\u001B[39msend_message(\u001B[38;5;241m-\u001B[39m\u001B[38;5;241m677235937\u001B[39m,\u001B[38;5;124m'\u001B[39m\u001B[38;5;124m今天是2023年7月19日\u001B[39m\u001B[38;5;124m'\u001B[39m)\n",
      "\u001B[1;31mAttributeError\u001B[0m: module 'telebot' has no attribute 'TeleBot'"
     ]
    }
   ],
   "source": [
    "import telebot\n",
    "bot = telebot.TeleBot(\"6377312623:AAGz3ZSMVswWq0QVlihRPklw8b7skSBP16Y\", parse_mode=None)\n",
    "bot.get_me()\n",
    "bot.send_message(-677235937,'今天是2023年7月19日')"
   ],
   "metadata": {
    "collapsed": false
   }
  },
  {
   "cell_type": "code",
   "execution_count": 1,
   "outputs": [],
   "source": [
    "import telebot\n",
    "\n",
    "bot = telebot.TeleBot(\"6377312623:AAGz3ZSMVswWq0QVlihRPklw8b7skSBP16Y\", parse_mode=None) # You can set parse_mode by default. HTML or MARKDOWN\n",
    "@bot.message_handler(commands=['start', 'help'])\n",
    "def send_welcome(message):\n",
    "    bot.reply_to(message, \"Howdy, how are you doing?\")\n"
   ],
   "metadata": {
    "collapsed": false
   }
  },
  {
   "cell_type": "code",
   "execution_count": 5,
   "outputs": [
    {
     "ename": "AttributeError",
     "evalue": "'str' object has no attribute 'chat'",
     "output_type": "error",
     "traceback": [
      "\u001B[1;31m---------------------------------------------------------------------------\u001B[0m",
      "\u001B[1;31mAttributeError\u001B[0m                            Traceback (most recent call last)",
      "Cell \u001B[1;32mIn[5], line 1\u001B[0m\n\u001B[1;32m----> 1\u001B[0m handle_start_help(\u001B[38;5;124m'\u001B[39m\u001B[38;5;124m/start\u001B[39m\u001B[38;5;124m'\u001B[39m)\n",
      "Cell \u001B[1;32mIn[4], line 7\u001B[0m, in \u001B[0;36mhandle_start_help\u001B[1;34m(message)\u001B[0m\n\u001B[0;32m      5\u001B[0m \u001B[38;5;129m@bot\u001B[39m\u001B[38;5;241m.\u001B[39mmessage_handler(commands\u001B[38;5;241m=\u001B[39m[\u001B[38;5;124m'\u001B[39m\u001B[38;5;124mstart\u001B[39m\u001B[38;5;124m'\u001B[39m, \u001B[38;5;124m'\u001B[39m\u001B[38;5;124mhelp\u001B[39m\u001B[38;5;124m'\u001B[39m])\n\u001B[0;32m      6\u001B[0m \u001B[38;5;28;01mdef\u001B[39;00m \u001B[38;5;21mhandle_start_help\u001B[39m(message):\n\u001B[1;32m----> 7\u001B[0m     bot\u001B[38;5;241m.\u001B[39mreply_to(message, \u001B[38;5;124m\"\u001B[39m\u001B[38;5;124mHowdy, how are you doing?,我现在就回复你\u001B[39m\u001B[38;5;124m\"\u001B[39m)\n",
      "File \u001B[1;32mC:\\ProgramData\\Anaconda3\\envs\\telegram\\Lib\\site-packages\\telebot\\__init__.py:4515\u001B[0m, in \u001B[0;36mTeleBot.reply_to\u001B[1;34m(self, message, text, **kwargs)\u001B[0m\n\u001B[0;32m   4500\u001B[0m \u001B[38;5;28;01mdef\u001B[39;00m \u001B[38;5;21mreply_to\u001B[39m(\u001B[38;5;28mself\u001B[39m, message: types\u001B[38;5;241m.\u001B[39mMessage, text: \u001B[38;5;28mstr\u001B[39m, \u001B[38;5;241m*\u001B[39m\u001B[38;5;241m*\u001B[39mkwargs) \u001B[38;5;241m-\u001B[39m\u001B[38;5;241m>\u001B[39m types\u001B[38;5;241m.\u001B[39mMessage:\n\u001B[0;32m   4501\u001B[0m \u001B[38;5;250m    \u001B[39m\u001B[38;5;124;03m\"\"\"\u001B[39;00m\n\u001B[0;32m   4502\u001B[0m \u001B[38;5;124;03m    Convenience function for `send_message(message.chat.id, text, reply_to_message_id=message.message_id, **kwargs)`\u001B[39;00m\n\u001B[0;32m   4503\u001B[0m \u001B[38;5;124;03m    \u001B[39;00m\n\u001B[1;32m   (...)\u001B[0m\n\u001B[0;32m   4513\u001B[0m \u001B[38;5;124;03m    :rtype: :class:`telebot.types.Message`\u001B[39;00m\n\u001B[0;32m   4514\u001B[0m \u001B[38;5;124;03m    \"\"\"\u001B[39;00m\n\u001B[1;32m-> 4515\u001B[0m     \u001B[38;5;28;01mreturn\u001B[39;00m \u001B[38;5;28mself\u001B[39m\u001B[38;5;241m.\u001B[39msend_message(message\u001B[38;5;241m.\u001B[39mchat\u001B[38;5;241m.\u001B[39mid, text, reply_to_message_id\u001B[38;5;241m=\u001B[39mmessage\u001B[38;5;241m.\u001B[39mmessage_id, \u001B[38;5;241m*\u001B[39m\u001B[38;5;241m*\u001B[39mkwargs)\n",
      "\u001B[1;31mAttributeError\u001B[0m: 'str' object has no attribute 'chat'"
     ]
    }
   ],
   "source": [
    "handle_start_help('/start')"
   ],
   "metadata": {
    "collapsed": false
   }
  },
  {
   "cell_type": "code",
   "execution_count": 4,
   "outputs": [],
   "source": [
    "import telebot\n",
    "bot = telebot.TeleBot(\"6377312623:AAGz3ZSMVswWq0QVlihRPklw8b7skSBP16Y\")\n",
    "\n",
    "# 只处理命令 '/start' 和 '/help'\n",
    "@bot.message_handler(commands=['start', 'help'])\n",
    "def handle_start_help(message):\n",
    "    bot.reply_to(message, \"Howdy, how are you doing?,我现在就回复你\")\n",
    "\n",
    "# 只处理用户发送内容为“文件”和“音频”的message\n",
    "@bot.message_handler(content_types=['document', 'audio'])\n",
    "def handle_docs_audio(message):\n",
    "    pass\n",
    "\n",
    "# Handles all text messages that match the regular expression\n",
    "@bot.message_handler(regexp=\"SOME_REGEXP\")\n",
    "def handle_message(message):\n",
    "    pass\n",
    "\n",
    "# Handles all messages for which the lambda returns True\n",
    "@bot.message_handler(func=lambda message: message.document.mime_type == 'text/plain', content_types=['document'])\n",
    "def handle_text_doc(message):\n",
    "    pass\n",
    "\n",
    "# Which could also be defined as:\n",
    "def test_message(message):\n",
    "    return message.document.mime_type == 'text/plain'\n",
    "\n",
    "@bot.message_handler(func=test_message, content_types=['document'])\n",
    "def handle_text_doc(message):\n",
    "    pass\n",
    "\n",
    "# Handlers can be stacked to create a function which will be called if either message_handler is eligible\n",
    "# This handler will be called if the message starts with '/hello' OR is some emoji\n",
    "@bot.message_handler(commands=['hello'])\n",
    "@bot.message_handler(func=lambda msg: msg.text.encode(\"utf-8\") == SOME_FANCY_EMOJI)\n",
    "def send_something(message):\n",
    "    pass\n"
   ],
   "metadata": {
    "collapsed": false
   }
  }
 ],
 "metadata": {
  "kernelspec": {
   "name": "cda_python",
   "language": "python",
   "display_name": "cda_python"
  },
  "language_info": {
   "codemirror_mode": {
    "name": "ipython",
    "version": 2
   },
   "file_extension": ".py",
   "mimetype": "text/x-python",
   "name": "python",
   "nbconvert_exporter": "python",
   "pygments_lexer": "ipython2",
   "version": "2.7.6"
  }
 },
 "nbformat": 4,
 "nbformat_minor": 0
}
