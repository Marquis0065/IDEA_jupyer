{
 "cells": [
  {
   "cell_type": "code",
   "execution_count": 1,
   "metadata": {
    "collapsed": true
   },
   "outputs": [
    {
     "name": "stderr",
     "output_type": "stream",
     "text": [
      "C:\\Users\\fzh00\\IdeaProjects\\python_idea\\.idea\\Telegram\\telebot.py:21: RuntimeWarning: coroutine 'TelegramBaseClient.connect' was never awaited\n",
      "  client.connect()\n",
      "RuntimeWarning: Enable tracemalloc to get the object allocation traceback\n",
      "C:\\Users\\fzh00\\IdeaProjects\\python_idea\\.idea\\Telegram\\telebot.py:24: RuntimeWarning: coroutine 'UserMethods.is_user_authorized' was never awaited\n",
      "  if not client.is_user_authorized():\n",
      "RuntimeWarning: Enable tracemalloc to get the object allocation traceback\n",
      "C:\\Users\\fzh00\\IdeaProjects\\python_idea\\.idea\\Telegram\\telebot.py:35: RuntimeWarning: coroutine 'MessageMethods.send_message' was never awaited\n",
      "  client.send_message(-677235937, '这是来自idea', parse_mode='html')\n",
      "RuntimeWarning: Enable tracemalloc to get the object allocation traceback\n"
     ]
    },
    {
     "ename": "AttributeError",
     "evalue": "module 'telebot' has no attribute 'TeleBot'",
     "output_type": "error",
     "traceback": [
      "\u001B[1;31m---------------------------------------------------------------------------\u001B[0m",
      "\u001B[1;31mAttributeError\u001B[0m                            Traceback (most recent call last)",
      "Cell \u001B[1;32mIn[1], line 2\u001B[0m\n\u001B[0;32m      1\u001B[0m \u001B[38;5;28;01mimport\u001B[39;00m \u001B[38;5;21;01mtelebot\u001B[39;00m\n\u001B[1;32m----> 2\u001B[0m bot \u001B[38;5;241m=\u001B[39m telebot\u001B[38;5;241m.\u001B[39mTeleBot(\u001B[38;5;124m\"\u001B[39m\u001B[38;5;124m6377312623:AAGz3ZSMVswWq0QVlihRPklw8b7skSBP16Y\u001B[39m\u001B[38;5;124m\"\u001B[39m, parse_mode\u001B[38;5;241m=\u001B[39m\u001B[38;5;28;01mNone\u001B[39;00m)\n\u001B[0;32m      3\u001B[0m bot\u001B[38;5;241m.\u001B[39msend_message(\u001B[38;5;241m-\u001B[39m\u001B[38;5;241m677235937\u001B[39m,\u001B[38;5;124m'\u001B[39m\u001B[38;5;124m重新开机，\u001B[39m\u001B[38;5;124m'\u001B[39m)\n",
      "\u001B[1;31mAttributeError\u001B[0m: module 'telebot' has no attribute 'TeleBot'"
     ]
    }
   ],
   "source": [
    "import telebot\n",
    "bot = telebot.TeleBot(\"6377312623:AAGz3ZSMVswWq0QVlihRPklw8b7skSBP16Y\", parse_mode=None)\n",
    "bot.send_message(-677235937,'重新开机，')"
   ]
  }
 ],
 "metadata": {
  "kernelspec": {
   "name": "telegram",
   "language": "python",
   "display_name": "telegram"
  },
  "language_info": {
   "codemirror_mode": {
    "name": "ipython",
    "version": 2
   },
   "file_extension": ".py",
   "mimetype": "text/x-python",
   "name": "python",
   "nbconvert_exporter": "python",
   "pygments_lexer": "ipython2",
   "version": "2.7.6"
  }
 },
 "nbformat": 4,
 "nbformat_minor": 0
}
