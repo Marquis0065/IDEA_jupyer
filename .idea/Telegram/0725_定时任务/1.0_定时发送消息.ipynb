{
 "cells": [
  {
   "cell_type": "code",
   "execution_count": 11,
   "outputs": [
    {
     "ename": "KeyboardInterrupt",
     "evalue": "",
     "output_type": "error",
     "traceback": [
      "\u001B[1;31m---------------------------------------------------------------------------\u001B[0m",
      "\u001B[1;31mKeyboardInterrupt\u001B[0m                         Traceback (most recent call last)",
      "Cell \u001B[1;32mIn[11], line 16\u001B[0m\n\u001B[0;32m     14\u001B[0m \u001B[38;5;28;01mwhile\u001B[39;00m \u001B[38;5;28;01mTrue\u001B[39;00m:\n\u001B[0;32m     15\u001B[0m     schedule\u001B[38;5;241m.\u001B[39mrun_pending()\n\u001B[1;32m---> 16\u001B[0m     \u001B[43mtime\u001B[49m\u001B[38;5;241;43m.\u001B[39;49m\u001B[43msleep\u001B[49m\u001B[43m(\u001B[49m\u001B[38;5;241;43m1\u001B[39;49m\u001B[43m)\u001B[49m\n",
      "\u001B[1;31mKeyboardInterrupt\u001B[0m: "
     ]
    }
   ],
   "source": [
    "# 创建Telegram bot实例\n",
    "bot_0725 = telebot.TeleBot(\"6377312623:AAGz3ZSMVswWq0QVlihRPklw8b7skSBP16Y\")\n",
    "# 定义要发送的消息内容和目标聊天ID\n",
    "message = f\"jupyter你好,3分钟的时间到了：{time.strftime('%Y-%m-%d %H:%M:%S',time.localtime())},可以看电影了\"\n",
    "chat_id = -677235937\n",
    "# 定义定时任务函数\n",
    "def send_message():\n",
    "    bot_0725.send_message(chat_id, message)\n",
    "    bot_0725.send_video(chat_id,open(r\"C:\\Users\\fzh00\\Desktop\\roof.mp4\",'rb'))\n",
    "# 设置每天定时发送消息的时间\n",
    "# schedule.every().day.at(\"09:00\").do(send_message)\n",
    "schedule.every(3).minutes.do(send_message)\n",
    "# 循环执行定时任务\n",
    "while True:\n",
    "    schedule.run_pending()\n",
    "    time.sleep(1)"
   ],
   "metadata": {
    "collapsed": false
   }
  },
  {
   "cell_type": "code",
   "execution_count": 3,
   "outputs": [
    {
     "data": {
      "text/plain": "'C:\\\\ProgramData\\\\Anaconda3\\\\envs\\\\cda_python\\\\lib\\\\os.py'"
     },
     "execution_count": 3,
     "metadata": {},
     "output_type": "execute_result"
    }
   ],
   "source": [
    "import os\n",
    "os.__file__"
   ],
   "metadata": {
    "collapsed": false
   }
  },
  {
   "cell_type": "code",
   "execution_count": 2,
   "outputs": [],
   "source": [
    "import schedule\n",
    "import time\n",
    "import datetime\n",
    "import telebot"
   ],
   "metadata": {
    "collapsed": false
   }
  }
 ],
 "metadata": {
  "kernelspec": {
   "display_name": "Python 3",
   "language": "python",
   "name": "python3"
  },
  "language_info": {
   "codemirror_mode": {
    "name": "ipython",
    "version": 2
   },
   "file_extension": ".py",
   "mimetype": "text/x-python",
   "name": "python",
   "nbconvert_exporter": "python",
   "pygments_lexer": "ipython2",
   "version": "2.7.6"
  }
 },
 "nbformat": 4,
 "nbformat_minor": 0
}
