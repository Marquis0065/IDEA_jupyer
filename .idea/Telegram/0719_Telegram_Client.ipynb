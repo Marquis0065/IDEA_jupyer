{
 "cells": [
  {
   "cell_type": "code",
   "execution_count": 15,
   "outputs": [
    {
     "ename": "RuntimeError",
     "evalue": "You must use \"async with\" if the event loop is running (i.e. you are inside an \"async def\")",
     "output_type": "error",
     "traceback": [
      "\u001B[1;31m---------------------------------------------------------------------------\u001B[0m",
      "\u001B[1;31mRuntimeError\u001B[0m                              Traceback (most recent call last)",
      "Cell \u001B[1;32mIn[15], line 8\u001B[0m\n\u001B[0;32m      5\u001B[0m api_hash \u001B[38;5;241m=\u001B[39m \u001B[38;5;124m'\u001B[39m\u001B[38;5;124m0014bdcb9a38a91365966a9956f61e6b\u001B[39m\u001B[38;5;124m'\u001B[39m\n\u001B[0;32m      7\u001B[0m \u001B[38;5;66;03m# The first parameter is the .session file name (absolute paths allowed)\u001B[39;00m\n\u001B[1;32m----> 8\u001B[0m \u001B[38;5;28;01mwith\u001B[39;00m TelegramClient(\u001B[38;5;124m'\u001B[39m\u001B[38;5;124mteleClient.session\u001B[39m\u001B[38;5;124m'\u001B[39m, api_id, api_hash) \u001B[38;5;28;01mas\u001B[39;00m client:\n\u001B[0;32m      9\u001B[0m     \u001B[38;5;66;03m# client.loop.run_until_complete(client.send_message('me', 'Hello, myself!'))\u001B[39;00m\n\u001B[0;32m     10\u001B[0m     client\u001B[38;5;241m.\u001B[39msend_message(\u001B[38;5;124m'\u001B[39m\u001B[38;5;124mme\u001B[39m\u001B[38;5;124m'\u001B[39m, \u001B[38;5;124m'\u001B[39m\u001B[38;5;124mHello, myself!\u001B[39m\u001B[38;5;124m'\u001B[39m)\n",
      "File \u001B[1;32mC:\\ProgramData\\Anaconda3\\envs\\telegram\\Lib\\site-packages\\telethon\\helpers.py:214\u001B[0m, in \u001B[0;36m_sync_enter\u001B[1;34m(self)\u001B[0m\n\u001B[0;32m    211\u001B[0m     loop \u001B[38;5;241m=\u001B[39m \u001B[38;5;28mself\u001B[39m\u001B[38;5;241m.\u001B[39m_client\u001B[38;5;241m.\u001B[39mloop\n\u001B[0;32m    213\u001B[0m \u001B[38;5;28;01mif\u001B[39;00m loop\u001B[38;5;241m.\u001B[39mis_running():\n\u001B[1;32m--> 214\u001B[0m     \u001B[38;5;28;01mraise\u001B[39;00m \u001B[38;5;167;01mRuntimeError\u001B[39;00m(\n\u001B[0;32m    215\u001B[0m         \u001B[38;5;124m'\u001B[39m\u001B[38;5;124mYou must use \u001B[39m\u001B[38;5;124m\"\u001B[39m\u001B[38;5;124masync with\u001B[39m\u001B[38;5;124m\"\u001B[39m\u001B[38;5;124m if the event loop \u001B[39m\u001B[38;5;124m'\u001B[39m\n\u001B[0;32m    216\u001B[0m         \u001B[38;5;124m'\u001B[39m\u001B[38;5;124mis running (i.e. you are inside an \u001B[39m\u001B[38;5;124m\"\u001B[39m\u001B[38;5;124masync def\u001B[39m\u001B[38;5;124m\"\u001B[39m\u001B[38;5;124m)\u001B[39m\u001B[38;5;124m'\u001B[39m\n\u001B[0;32m    217\u001B[0m     )\n\u001B[0;32m    219\u001B[0m \u001B[38;5;28;01mreturn\u001B[39;00m loop\u001B[38;5;241m.\u001B[39mrun_until_complete(\u001B[38;5;28mself\u001B[39m\u001B[38;5;241m.\u001B[39m\u001B[38;5;21m__aenter__\u001B[39m())\n",
      "\u001B[1;31mRuntimeError\u001B[0m: You must use \"async with\" if the event loop is running (i.e. you are inside an \"async def\")"
     ]
    }
   ],
   "source": [
    "from telethon import TelegramClient\n",
    "\n",
    "# Use your own values from my.telegram.org\n",
    "api_id = 29778012\n",
    "api_hash = '0014bdcb9a38a91365966a9956f61e6b'\n",
    "\n",
    "# The first parameter is the .session file name (absolute paths allowed)\n",
    "with TelegramClient('teleClient.session', api_id, api_hash) as client:\n",
    "    # client.loop.run_until_complete(client.send_message('me', 'Hello, myself!'))\n",
    "    client.send_message('me', 'Hello, myself!')"
   ],
   "metadata": {
    "collapsed": false
   }
  },
  {
   "cell_type": "code",
   "execution_count": 2,
   "outputs": [
    {
     "name": "stderr",
     "output_type": "stream",
     "text": [
      "C:\\Users\\fzh00\\AppData\\Local\\Temp\\ipykernel_35104\\2317879920.py:5: RuntimeWarning: coroutine 'AuthMethods._start' was never awaited\n",
      "  client = TelegramClient('teleClient-2',api_id,api_hash).start()\n",
      "RuntimeWarning: Enable tracemalloc to get the object allocation traceback\n"
     ]
    },
    {
     "ename": "AttributeError",
     "evalue": "'coroutine' object has no attribute 'is_user_authorized'",
     "output_type": "error",
     "traceback": [
      "\u001B[1;31m---------------------------------------------------------------------------\u001B[0m",
      "\u001B[1;31mAttributeError\u001B[0m                            Traceback (most recent call last)",
      "Cell \u001B[1;32mIn[2], line 6\u001B[0m\n\u001B[0;32m      4\u001B[0m phone\u001B[38;5;241m=\u001B[39m\u001B[38;5;124m'\u001B[39m\u001B[38;5;124m+639272771573\u001B[39m\u001B[38;5;124m'\u001B[39m\n\u001B[0;32m      5\u001B[0m client \u001B[38;5;241m=\u001B[39m TelegramClient(\u001B[38;5;124m'\u001B[39m\u001B[38;5;124mteleClient-2\u001B[39m\u001B[38;5;124m'\u001B[39m,api_id,api_hash)\u001B[38;5;241m.\u001B[39mstart()\n\u001B[1;32m----> 6\u001B[0m \u001B[38;5;28;01mif\u001B[39;00m \u001B[38;5;129;01mnot\u001B[39;00m client\u001B[38;5;241m.\u001B[39mis_user_authorized():\n\u001B[0;32m      7\u001B[0m     client\u001B[38;5;241m.\u001B[39msend_code_request(phone)\n\u001B[0;32m      8\u001B[0m     \u001B[38;5;66;03m# signing of the client\u001B[39;00m\n",
      "\u001B[1;31mAttributeError\u001B[0m: 'coroutine' object has no attribute 'is_user_authorized'"
     ]
    }
   ],
   "source": [
    "from telethon import TelegramClient\n",
    "api_id = 29778012\n",
    "api_hash = '0014bdcb9a38a91365966a9956f61e6b'\n",
    "phone='+639272771573'\n",
    "client = TelegramClient('teleClient-2',api_id,api_hash).start()\n",
    "if not client.is_user_authorized():\n",
    "    client.send_code_request(phone)\n",
    "    # signing of the client\n",
    "    client.sign_in(phone, input('Enter the code: '))\n",
    "client.get_me()\n",
    "client.send_message(-677235937, 'Hello! Talking to you from Telethon',parse_mode='html')\n",
    "client.disconnect()"
   ],
   "metadata": {
    "collapsed": false
   }
  },
  {
   "cell_type": "code",
   "execution_count": 1,
   "outputs": [
    {
     "ename": "TypeError",
     "evalue": "'coroutine' object does not support the context manager protocol",
     "output_type": "error",
     "traceback": [
      "\u001B[1;31m---------------------------------------------------------------------------\u001B[0m",
      "\u001B[1;31mTypeError\u001B[0m                                 Traceback (most recent call last)",
      "Cell \u001B[1;32mIn[1], line 10\u001B[0m\n\u001B[0;32m      6\u001B[0m \u001B[38;5;28;01masync\u001B[39;00m \u001B[38;5;28;01mdef\u001B[39;00m \u001B[38;5;21mmain\u001B[39m():\n\u001B[0;32m      7\u001B[0m     \u001B[38;5;66;03m# Now you can use all client methods listed below, like for example...\u001B[39;00m\n\u001B[0;32m      8\u001B[0m     \u001B[38;5;28;01mawait\u001B[39;00m client\u001B[38;5;241m.\u001B[39msend_message(\u001B[38;5;124m'\u001B[39m\u001B[38;5;124mme\u001B[39m\u001B[38;5;124m'\u001B[39m, \u001B[38;5;124m'\u001B[39m\u001B[38;5;124mHello to myself!\u001B[39m\u001B[38;5;124m'\u001B[39m)\n\u001B[1;32m---> 10\u001B[0m \u001B[38;5;28;01mwith\u001B[39;00m client:\n\u001B[0;32m     11\u001B[0m     client\u001B[38;5;241m.\u001B[39mloop\u001B[38;5;241m.\u001B[39mrun_until_complete(main())\n",
      "\u001B[1;31mTypeError\u001B[0m: 'coroutine' object does not support the context manager protocol"
     ]
    }
   ],
   "source": [
    "from telethon import TelegramClient\n",
    "api_id = 29778012\n",
    "api_hash = '0014bdcb9a38a91365966a9956f61e6b'\n",
    "client = TelegramClient('name', api_id, api_hash).start()\n",
    "\n",
    "async def main():\n",
    "    # Now you can use all client methods listed below, like for example...\n",
    "    await client.send_message('me', 'Hello to myself!')\n",
    "\n",
    "with client:\n",
    "    client.loop.run_until_complete(main())"
   ],
   "metadata": {
    "collapsed": false
   }
  },
  {
   "cell_type": "code",
   "execution_count": null,
   "outputs": [],
   "source": [
    "#自定义聊天\n",
    "@client.on(events.NewMessage)\n",
    "async def my_event_handler(event):\n",
    "    if 'hello' in event.raw_text:\n",
    "        await event.reply('hi!')\n",
    "    if 'what' and 'name' in event.raw_text:\n",
    "        await event.reply('Haimei_bot,Thanks!')\n",
    "#某个人的信息\n",
    "peer = client.get_input_entity('@HuingZM')#可更换用户名\n",
    "peer = utils.get_input_peer(peer)\n",
    "print(peer)\n",
    "# 打印信息#InputPeerUser(user_id=1234556, access_hash=-5728264861981944)\n",
    "# 给特定的人或频道发消息\n",
    "result = client(SendMessageRequest('HuingZM', 'Hello there!'))\n",
    "result = client(SendMessageRequest(PeerChannel(1182116619), 'Hello there!'))\n",
    "print(result)\n",
    "# 打印群消息\n",
    "dialogs = client.get_dialogs()\n",
    "# 打印群信息\n",
    "print(client.get_entity(\"@hello\"))#可更换群组名\n",
    "# 打印频道信息\n",
    "my_channel = client.get_entity(dialog.title)\n",
    "print(my_channel)\n",
    "# 获取 全部聊天 信息\n",
    "for message in client.iter_messages(1182116619):\n",
    "    print(message)\n",
    "# 判断 列表信息\n",
    "for dialog in client.iter_dialogs():\n",
    "    friend_info = client.get_entity(dialog.title) #dialog.title为first_name\n",
    "    if type(friend_info) is not telethon.tl.types.User:\n",
    "        channel_id = friend_info.id\n",
    "        channel_title = friend_info.title\n",
    "        channel_username = friend_info.username\n",
    "        dict_channel_info = {\"channel_id\":channel_id,\"channel_title\":channel_title,\"channel_username\":channel_username}\n",
    "        print(dialog.title,\"这是一个频道\",dict_channel_info)\n",
    "    else:\n",
    "        if friend_info.bot is False:\n",
    "            user_id = friend_info.id\n",
    "            user_name = friend_info.username\n",
    "            is_bot = friend_info.bot\n",
    "            user_phone = friend_info.phone\n",
    "            dict_user_info = {'user_id':user_id,'user_name':user_name,'user_phone':user_phone,'is_bot':is_bot}\n",
    "            print(dialog.title,\"这是一个用户\",dict_user_info)\n",
    "        else:\n",
    "            bot_id = friend_info.id\n",
    "            bot_name = friend_info.username\n",
    "            is_bot = friend_info.bot\n",
    "            dict_bot_info = {'bot_id':bot_id,'bot_name':bot_name,'is_bot':is_bot}\n",
    "            print(dialog.title,'这是一个机器人',dict_bot_info)\n",
    "# 获取 频道成员信息\n",
    "from telethon.tl.functions.channels import GetParticipantsRequest\n",
    "from telethon.tl.types import ChannelParticipantsSearch\n",
    "from time import sleep\n",
    "\n",
    "offset = 0\n",
    "limit = 100\n",
    "all_participants = []\n",
    "\n",
    "while True:\n",
    "    participants = client(GetParticipantsRequest(\n",
    "        1387666944, ChannelParticipantsSearch(''), offset, limit, hash=0\n",
    "    ))\n",
    "    if not participants.users:\n",
    "        break\n",
    "    all_participants.extend(participants.users)\n",
    "    for par in all_participants:\n",
    "        print(par)\n",
    "# 邀请进群组\n",
    "from telethon.tl.functions.messages import AddChatUserRequest\n",
    "client(AddChatUserRequest(\n",
    "    chat_id = -269442445 , #chat_id\n",
    "    user_id = 585015279 , #被邀请人id\n",
    "    fwd_limit=10  # Allow the user to see the 10 last messages\n",
    "))\n",
    "# 邀请进频道\n",
    "from telethon.tl.functions.channels import InviteToChannelRequest\n",
    "client(InviteToChannelRequest(\n",
    "    channel=1182116619, #频道id\n",
    "    users = ['HuingZM'],#列表格式的username\n",
    "))\n",
    "# 获取频道成员信息并将成员加入自己的群组或频道,并加入欢迎语\n",
    "for dialog in client.iter_dialogs():\n",
    "    friend_info = client.get_entity(dialog.title) #dialog.title为first_name\n",
    "    if type(friend_info) is not telethon.tl.types.User:\n",
    "        channel_id = friend_info.id\n",
    "        channel_title = friend_info.title\n",
    "        channel_username = friend_info.username\n",
    "        dict_channel_info = {\"channel_id\":channel_id,\"channel_title\":channel_title,\"channel_username\":channel_username}\n",
    "        # print(dialog.title,\"这是一个频道\",dict_channel_info)\n",
    "        channel = client.get_entity(PeerChannel(channel_id))  # 根据群组id获取群组对\n",
    "        responses = client.iter_participants(channel, aggressive=True) # 获取群组所有用户信息\n",
    "        for response in responses:\n",
    "            if response.username is not None:\n",
    "                d = {'id':response.id,'username':response.username}\n",
    "                print(d)\n",
    "                time.sleep(2)\n",
    "                client(InviteToChannelRequest(\n",
    "                    channel=1219921340,\n",
    "                    users = [d.get('username')],\n",
    "                ))\n",
    "                client.send_message(1219921340,'''✨Welcome to <a href=\"https://t.me/haimei_group\">BiBi's group</a> chat {} !'''.format(d.get('username')) ,parse_mode=\"html\")\n",
    "                #防止出现UserPrivacyRestrictedError\n",
    "                time.sleep(2)\n",
    "# 转发消息\n",
    "    messages = client.get_messages('china_BiBi')#括号参数为来源频道username，因为要获取信息id\n",
    "    mes_id = messages[0].id\n",
    "    client.forward_messages(1219921340,mes_id,1182116619)\n",
    "#第一个参数为目标频道id，第二个信息id,第三个来源频道id\n",
    "# 实时转发消息\n",
    "messages = client.get_messages('china_BiBi')\n",
    "mes_id_1 = messages[0].id\n",
    "while True:\n",
    "    messages = client.get_messages('china_BiBi')\n",
    "    mes_id = messages[0].id\n",
    "    if mes_id != mes_id_1:\n",
    "        client.forward_messages(1219921340,mes_id,1182116619)\n",
    "        mes_id_1 = mes_id"
   ],
   "metadata": {
    "collapsed": false
   }
  },
  {
   "cell_type": "code",
   "execution_count": 12,
   "outputs": [
    {
     "name": "stderr",
     "output_type": "stream",
     "text": [
      "C:\\Users\\fzh00\\AppData\\Local\\Temp\\ipykernel_28772\\332797396.py:4: RuntimeWarning: coroutine 'TelegramBaseClient.connect' was never awaited\n",
      "  client.connect()\n",
      "RuntimeWarning: Enable tracemalloc to get the object allocation traceback\n",
      "C:\\Users\\fzh00\\AppData\\Local\\Temp\\ipykernel_28772\\332797396.py:5: RuntimeWarning: coroutine 'MessageMethods.send_message' was never awaited\n",
      "  client.send_message(-677235937, 'Hello! Talking to you from Telethon',parse_mode='html')\n",
      "RuntimeWarning: Enable tracemalloc to get the object allocation traceback\n",
      "C:\\Users\\fzh00\\AppData\\Local\\Temp\\ipykernel_28772\\332797396.py:6: RuntimeWarning: coroutine 'UploadMethods.send_file' was never awaited\n",
      "  client.send_file(-677235937, open(r\"C:\\Users\\fzh00\\Desktop\\美女.jpg\",'rb'))\n",
      "RuntimeWarning: Enable tracemalloc to get the object allocation traceback\n"
     ]
    },
    {
     "data": {
      "text/plain": "<Future pending cb=[shield.<locals>._outer_done_callback() at C:\\ProgramData\\Anaconda3\\envs\\telegram\\Lib\\asyncio\\tasks.py:898]>"
     },
     "execution_count": 12,
     "metadata": {},
     "output_type": "execute_result"
    }
   ],
   "source": [
    "api_id = 29778012\n",
    "api_hash = '0014bdcb9a38a91365966a9956f61e6b'\n",
    "client = TelegramClient('teleClient-2',api_id,api_hash)\n",
    "client.connect()\n",
    "client.send_message(-677235937, 'Hello! Talking to you from Telethon',parse_mode='html')\n",
    "client.send_file(-677235937, open(r\"C:\\Users\\fzh00\\Desktop\\美女.jpg\",'rb'))\n",
    "client.disconnect()"
   ],
   "metadata": {
    "collapsed": false
   }
  },
  {
   "cell_type": "code",
   "execution_count": 3,
   "outputs": [],
   "source": [
    "from telethon import TelegramClient, sync,events\n",
    "import logging\n",
    "import random\n",
    "import asyncio\n",
    "import telethon\n",
    "from telethon.tl.types import PeerUser, PeerChat, PeerChannel,UpdateNewChannelMessage\n",
    "from telethon.tl.functions.messages import SendMessageRequest\n",
    "from telethon.tl import types, functions\n",
    "from telethon import utils"
   ],
   "metadata": {
    "collapsed": false
   }
  },
  {
   "cell_type": "code",
   "execution_count": 2,
   "outputs": [
    {
     "name": "stderr",
     "output_type": "stream",
     "text": [
      "C:\\Users\\fzh00\\AppData\\Local\\Temp\\ipykernel_28772\\1453605064.py:11: RuntimeWarning: coroutine 'TelegramBaseClient.connect' was never awaited\n",
      "  client.connect()\n",
      "RuntimeWarning: Enable tracemalloc to get the object allocation traceback\n",
      "C:\\Users\\fzh00\\AppData\\Local\\Temp\\ipykernel_28772\\1453605064.py:13: RuntimeWarning: coroutine 'UserMethods.is_user_authorized' was never awaited\n",
      "  if not client.is_user_authorized():\n",
      "RuntimeWarning: Enable tracemalloc to get the object allocation traceback\n",
      "C:\\Users\\fzh00\\AppData\\Local\\Temp\\ipykernel_28772\\1453605064.py:17: RuntimeWarning: coroutine 'UserMethods.get_me' was never awaited\n",
      "  client.get_me()\n",
      "RuntimeWarning: Enable tracemalloc to get the object allocation traceback\n"
     ]
    },
    {
     "data": {
      "text/plain": "<Future pending cb=[shield.<locals>._outer_done_callback() at C:\\ProgramData\\Anaconda3\\envs\\telegram\\Lib\\asyncio\\tasks.py:898]>"
     },
     "execution_count": 2,
     "metadata": {},
     "output_type": "execute_result"
    }
   ],
   "source": [
    "from telethon import TelegramClient, sync\n",
    "import socks\n",
    "# Use your own values here\n",
    "api_id = 29778012\n",
    "api_hash = '0014bdcb9a38a91365966a9956f61e6b'\n",
    "phone = '+639272771573'\n",
    "token='6377312623:AAGz3ZSMVswWq0QVlihRPklw8b7skSBP16Y'\n",
    "client = TelegramClient('teleClient-2',api_id,api_hash)\n",
    "client.connect()\n",
    "# client.start()\n",
    "#此处的some_name是一个随便起的名称，第一次运行会让你输入手机号和验证码，之后会生成一个some_name.session的文件，再次运行的时候就不需要反复输入手机号验证码了\n",
    "if not client.is_user_authorized():\n",
    "    client.send_code_request(phone)\n",
    "    # signing of the client\n",
    "    client.sign_in(phone, input('Enter the code: '))\n",
    "client.get_me()\n",
    "client.disconnect()"
   ],
   "metadata": {
    "collapsed": false
   }
  }
 ],
 "metadata": {
  "kernelspec": {
   "name": "telegram",
   "language": "python",
   "display_name": "telegram"
  },
  "language_info": {
   "codemirror_mode": {
    "name": "ipython",
    "version": 2
   },
   "file_extension": ".py",
   "mimetype": "text/x-python",
   "name": "python",
   "nbconvert_exporter": "python",
   "pygments_lexer": "ipython2",
   "version": "2.7.6"
  }
 },
 "nbformat": 4,
 "nbformat_minor": 0
}
