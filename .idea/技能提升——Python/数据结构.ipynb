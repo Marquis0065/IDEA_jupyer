{
 "cells": [
  {
   "cell_type": "code",
   "execution_count": 1,
   "outputs": [],
   "source": [
    "# 4个进程\n",
    "import time\n",
    "import random\n",
    "from multiprocessing import Process,Queue,current_process\n",
    "def worker(input:Queue,output:Queue):\n",
    "    for func,args in iter(input.get,'QUIT'):\n",
    "        result = calculate(func,args)\n",
    "        output.put(result)\n",
    "\n",
    "def calculate(func,args):\n",
    "    result = func(*args)\n",
    "    return f'{current_process()}:{func.__name__}{args}={result}'\n",
    "\n",
    "def mul(a,b):\n",
    "    time.sleep(0.5*random.random())\n",
    "    return a*b\n",
    "def plus(a,b):\n",
    "    time.sleep(0.5*random.random())\n",
    "    return a+b\n",
    "def main():\n",
    "    NUMBER_OF_PROCESS=4\n",
    "    COUNT_OF_TASK1=20\n",
    "    COUNT_OF_TASK2=10\n",
    "    TASK1=[(mul,(i,10))for i in range(COUNT_OF_TASK1)]\n",
    "    TASK2=[(plus,(i,20))for i in range(COUNT_OF_TASK2)]\n",
    "\n",
    "    task_queqe = Queue()\n",
    "    done_queue = Queue()\n",
    "    for task in TASK1:\n",
    "        task_queqe.put(task)\n",
    "    for i in range(NUMBER_OF_PROCESS):\n",
    "        Process(target=worker,args=(task_queqe,done_queue)).start()\n",
    "    print('result:')\n",
    "    for i in range(len(TASK1)):\n",
    "        print('\\t',done_queue.get())\n",
    "    for task in TASK2:\n",
    "        task_queqe.put(task)\n",
    "    for i in range(len(TASK2)):\n",
    "        print('\\t',done_queue.get())\n",
    "\n",
    "    # 发出来个停止信号\n",
    "    for i in range(NUMBER_OF_PROCESS):\n",
    "        task_queqe.put('QUIT')"
   ],
   "metadata": {
    "collapsed": false
   }
  },
  {
   "cell_type": "code",
   "execution_count": null,
   "outputs": [
    {
     "name": "stdout",
     "output_type": "stream",
     "text": [
      "result:\n"
     ]
    }
   ],
   "source": [
    "main()"
   ],
   "metadata": {
    "collapsed": false,
    "pycharm": {
     "is_executing": true
    }
   }
  },
  {
   "cell_type": "code",
   "execution_count": null,
   "outputs": [],
   "source": [
    "# muiltiprocess ,采用进程而非线程\n",
    "# 共享作业队列 ，多进程并行并发，绕开GIL\n",
    "from  multiprocessing import Queue\n",
    "multi = Queue()\n",
    "q = Queue(2) # 超过这个数量 就会阻塞"
   ],
   "metadata": {
    "collapsed": false
   }
  },
  {
   "cell_type": "code",
   "execution_count": 10,
   "outputs": [
    {
     "data": {
      "text/plain": "'fox'"
     },
     "execution_count": 10,
     "metadata": {},
     "output_type": "execute_result"
    }
   ],
   "source": [
    "seque.put('fox')\n",
    "seque.get()"
   ],
   "metadata": {
    "collapsed": false
   }
  },
  {
   "cell_type": "code",
   "execution_count": 9,
   "outputs": [
    {
     "data": {
      "text/plain": "'tiger'"
     },
     "execution_count": 9,
     "metadata": {},
     "output_type": "execute_result"
    }
   ],
   "source": [
    "#数据结构 LifoQueue的并行计算\n",
    "from queue import LifoQueue\n",
    "seque = LifoQueue()\n",
    "seque.put('cat')\n",
    "seque.put('dog')\n",
    "seque.put('tiger')\n",
    "seque.get()"
   ],
   "metadata": {
    "collapsed": false
   }
  },
  {
   "cell_type": "code",
   "execution_count": 8,
   "outputs": [
    {
     "name": "stdout",
     "output_type": "stream",
     "text": [
      "---Excuting job\n",
      "---Excuting job\n",
      "---Excuting job\n",
      "---Excuting job\n",
      "---Excuting job\n",
      "---Excuting job\n",
      "---Excuting job\n",
      "---Excuting job\n",
      "---Excuting job\n",
      "---Excuting job\n",
      "---Excuting job\n",
      "---Excuting job\n",
      "DoneDone 10\n",
      "Done 0\n",
      "Done 9\n",
      "Done 3\n",
      "Done 11\n",
      "Done 2\n",
      "Done 6\n",
      "Done 5\n",
      "Done 1\n",
      " 8\n",
      "Done 7\n",
      "Done 4\n",
      "Resule: 11[H]\n",
      "Resule: 0[H]\n",
      "Resule: 10[H]\n",
      "Resule: 3[H]\n",
      "Resule: 9[H]\n",
      "Resule: 2[H]\n",
      "Resule: 6[H]\n",
      "Resule: 5[H]\n",
      "Resule: 1[H]\n",
      "Resule: 8[H]\n",
      "Resule: 7[H]\n",
      "Resule: 4[H]\n",
      "elapsed:0:00:03.021268\n"
     ]
    }
   ],
   "source": [
    "# 线程池\n",
    "from queue import Queue\n",
    "import time\n",
    "from datetime import datetime\n",
    "from concurrent.futures import ThreadPoolExecutor,as_completed\n",
    "\n",
    "def worker(q,idx):\n",
    "    print('---Excuting job')\n",
    "    data = q.get()\n",
    "    time.sleep(3)\n",
    "    print('Done',idx)\n",
    "    return f'{data}[H]'\n",
    "q = Queue()\n",
    "# threading.Thread(target=worker,args=(q,),daemon=Ture).start()\n",
    "start_time = datetime.now()\n",
    "with ThreadPoolExecutor(max_workers=12) as excutor:\n",
    "    futures = {\n",
    "        excutor.submit(worker,q,idx):idx for idx in range(12)\n",
    "    }\n",
    "    # 生产者制造数据\n",
    "    for i in range(12):\n",
    "        q.put(i)\n",
    "    # 归并结果\n",
    "    for f in as_completed(futures):\n",
    "        print('Resule:',f.result())\n",
    "end_time = datetime.now()\n",
    "elapsed = end_time-start_time\n",
    "print(f'elapsed:{elapsed}')"
   ],
   "metadata": {
    "collapsed": false
   }
  },
  {
   "cell_type": "code",
   "execution_count": 3,
   "outputs": [
    {
     "name": "stdout",
     "output_type": "stream",
     "text": [
      "working on 0\n",
      "Finished 0\n",
      "working on 1\n",
      "Finished 1\n",
      "working on 2\n",
      "Finished 2\n",
      "working on 3\n",
      "Finished 3\n",
      "working on 4\n",
      "Finished 4\n",
      "working on 5\n",
      "Finished 5\n",
      "working on 6\n",
      "Finished 6\n",
      "working on 7\n",
      "Finished 7\n",
      "working on 8\n",
      "Finished 8\n",
      "working on 9\n",
      "Finished 9\n",
      "All work done\n"
     ]
    }
   ],
   "source": [
    "# 线程例子\n",
    "import threading\n",
    "import queue\n",
    "# 消费者\n",
    "def worker(q):\n",
    "    while  1:\n",
    "        item = q.get()\n",
    "        print(f'working on {item}')\n",
    "        print(f'Finished {item}')\n",
    "        q.task_done()\n",
    "q = queue.Queue()\n",
    "threading.Thread(target=worker,args=(q, ),daemon=True).start()\n",
    "for item in range(10):\n",
    "    q.put(item)\n",
    "q.join()\n",
    "print('All work done')"
   ],
   "metadata": {
    "collapsed": false
   }
  },
  {
   "cell_type": "code",
   "execution_count": 23,
   "outputs": [
    {
     "data": {
      "text/plain": "'cat'"
     },
     "execution_count": 23,
     "metadata": {},
     "output_type": "execute_result"
    }
   ],
   "source": [
    "# Queue的并行计算锁语义\n",
    "from queue import Queue\n",
    "que = Queue()\n",
    "que.put('cat')\n",
    "que.put('dog')\n",
    "que.put('tiger')\n",
    "que.get() # 先进先出,如果没有数据，就一直在等待。。。"
   ],
   "metadata": {
    "collapsed": false
   }
  },
  {
   "cell_type": "code",
   "execution_count": 22,
   "outputs": [
    {
     "data": {
      "text/plain": "['A', 'D', 'E', 'B', 'F', 'C']"
     },
     "execution_count": 22,
     "metadata": {},
     "output_type": "execute_result"
    }
   ],
   "source": [
    "def roundrobin(*iterables):\n",
    "    iterators = deque(map(iter,iterables))\n",
    "    while iterators:\n",
    "        try:\n",
    "            while 1:\n",
    "                yield next(iterators[0])\n",
    "                iterators.rotate(-1)\n",
    "        except StopIteration:\n",
    "            iterators.popleft()\n",
    "list(roundrobin('ABC','D','EF'))"
   ],
   "metadata": {
    "collapsed": false
   }
  },
  {
   "cell_type": "code",
   "execution_count": 21,
   "outputs": [
    {
     "ename": "TypeError",
     "evalue": "'list_iterator' object is not subscriptable",
     "output_type": "error",
     "traceback": [
      "\u001B[1;31m---------------------------------------------------------------------------\u001B[0m",
      "\u001B[1;31mTypeError\u001B[0m                                 Traceback (most recent call last)",
      "Cell \u001B[1;32mIn[21], line 1\u001B[0m\n\u001B[1;32m----> 1\u001B[0m \u001B[43mdeque\u001B[49m\u001B[43m(\u001B[49m\u001B[38;5;28;43mmap\u001B[39;49m\u001B[43m(\u001B[49m\u001B[38;5;28;43miter\u001B[39;49m\u001B[43m,\u001B[49m\u001B[43m[\u001B[49m\u001B[43m(\u001B[49m\u001B[38;5;241;43m1\u001B[39;49m\u001B[43m,\u001B[49m\u001B[38;5;241;43m2\u001B[39;49m\u001B[43m,\u001B[49m\u001B[38;5;241;43m3\u001B[39;49m\u001B[43m,\u001B[49m\u001B[38;5;124;43m'\u001B[39;49m\u001B[38;5;124;43mb\u001B[39;49m\u001B[38;5;124;43m'\u001B[39;49m\u001B[43m)\u001B[49m\u001B[43m,\u001B[49m\u001B[43m[\u001B[49m\u001B[38;5;124;43m'\u001B[39;49m\u001B[38;5;124;43mb\u001B[39;49m\u001B[38;5;124;43m'\u001B[39;49m\u001B[43m,\u001B[49m\u001B[38;5;124;43m'\u001B[39;49m\u001B[38;5;124;43mbb\u001B[39;49m\u001B[38;5;124;43m'\u001B[39;49m\u001B[43m,\u001B[49m\u001B[38;5;124;43m'\u001B[39;49m\u001B[38;5;124;43mccc\u001B[39;49m\u001B[38;5;124;43m'\u001B[39;49m\u001B[43m]\u001B[49m\u001B[43m]\u001B[49m\u001B[43m)\u001B[49m\u001B[43m)\u001B[49m\u001B[38;5;241;43m.\u001B[39;49m\u001B[43mpop\u001B[49m\u001B[43m(\u001B[49m\u001B[43m)\u001B[49m\u001B[43m[\u001B[49m\u001B[38;5;241;43m0\u001B[39;49m\u001B[43m]\u001B[49m\n",
      "\u001B[1;31mTypeError\u001B[0m: 'list_iterator' object is not subscriptable"
     ]
    }
   ],
   "source": [
    "deque(map(iter,[(1,2,3,'b'),['b','bb','ccc']]))"
   ],
   "metadata": {
    "collapsed": false
   }
  },
  {
   "cell_type": "code",
   "execution_count": 16,
   "outputs": [
    {
     "data": {
      "text/plain": "<map at 0x24196d3fb50>"
     },
     "execution_count": 16,
     "metadata": {},
     "output_type": "execute_result"
    }
   ],
   "source": [
    "map(iter,[(1,2,3,'b'),['b','bb','ccc']])"
   ],
   "metadata": {
    "collapsed": false
   }
  },
  {
   "cell_type": "code",
   "execution_count": 17,
   "outputs": [
    {
     "data": {
      "text/plain": "range(0, 10)"
     },
     "execution_count": 17,
     "metadata": {},
     "output_type": "execute_result"
    }
   ],
   "source": [
    "range(10)"
   ],
   "metadata": {
    "collapsed": false
   }
  },
  {
   "cell_type": "code",
   "execution_count": 14,
   "outputs": [
    {
     "data": {
      "text/plain": "deque([2, 3, 4, 5, 1])"
     },
     "execution_count": 14,
     "metadata": {},
     "output_type": "execute_result"
    }
   ],
   "source": [
    "d.rotate(-2)\n",
    "d"
   ],
   "metadata": {
    "collapsed": false
   }
  },
  {
   "cell_type": "code",
   "execution_count": 13,
   "outputs": [
    {
     "data": {
      "text/plain": "deque([5, 1, 2, 3, 4])"
     },
     "execution_count": 13,
     "metadata": {},
     "output_type": "execute_result"
    }
   ],
   "source": [
    "d = deque([1,2,3,4,5])\n",
    "d.rotate(1) # 正数往右旋转1，负数向左旋转1\n",
    "d"
   ],
   "metadata": {
    "collapsed": false
   }
  },
  {
   "cell_type": "code",
   "execution_count": 12,
   "outputs": [
    {
     "name": "stdout",
     "output_type": "stream",
     "text": [
      "element: 0\n"
     ]
    },
    {
     "data": {
      "text/plain": "1"
     },
     "execution_count": 12,
     "metadata": {},
     "output_type": "execute_result"
    },
    {
     "name": "stdout",
     "output_type": "stream",
     "text": [
      "element: 2\n"
     ]
    },
    {
     "data": {
      "text/plain": "3"
     },
     "execution_count": 12,
     "metadata": {},
     "output_type": "execute_result"
    },
    {
     "name": "stdout",
     "output_type": "stream",
     "text": [
      "element: 4\n"
     ]
    },
    {
     "data": {
      "text/plain": "5"
     },
     "execution_count": 12,
     "metadata": {},
     "output_type": "execute_result"
    },
    {
     "name": "stdout",
     "output_type": "stream",
     "text": [
      "element: 6\n"
     ]
    },
    {
     "data": {
      "text/plain": "7"
     },
     "execution_count": 12,
     "metadata": {},
     "output_type": "execute_result"
    },
    {
     "name": "stdout",
     "output_type": "stream",
     "text": [
      "element: 8\n"
     ]
    },
    {
     "data": {
      "text/plain": "9"
     },
     "execution_count": 12,
     "metadata": {},
     "output_type": "execute_result"
    }
   ],
   "source": [
    "iterators = iter(range(10))\n",
    "for ele in iterators:\n",
    "    print('element:',ele)\n",
    "    next(iterators)"
   ],
   "metadata": {
    "collapsed": false
   }
  },
  {
   "cell_type": "code",
   "execution_count": 8,
   "outputs": [
    {
     "data": {
      "text/plain": "deque(['20700,2019/3/28,2,26,13\\n',\n       '20745,2019/3/30,1,23,23\\n',\n       '20749,2019/3/31,4,26,6.5\\n'],\n      maxlen=3)"
     },
     "execution_count": 8,
     "metadata": {},
     "output_type": "execute_result"
    }
   ],
   "source": [
    "def tail(filename,n=5):\n",
    "    with open(filename) as f:\n",
    "        return deque(f,n)\n",
    "file = r\"C:\\Users\\fzh00\\Desktop\\文件\\excel\\3.7 sales_detail.csv\"\n",
    "tail(file,n=3)"
   ],
   "metadata": {
    "collapsed": false
   }
  },
  {
   "cell_type": "code",
   "execution_count": 4,
   "outputs": [
    {
     "data": {
      "text/plain": "'tiger'"
     },
     "execution_count": 4,
     "metadata": {},
     "output_type": "execute_result"
    }
   ],
   "source": [
    "queue.pop()"
   ],
   "metadata": {
    "collapsed": false
   }
  },
  {
   "cell_type": "code",
   "execution_count": 3,
   "outputs": [
    {
     "data": {
      "text/plain": "'cat'"
     },
     "execution_count": 3,
     "metadata": {},
     "output_type": "execute_result"
    }
   ],
   "source": [
    "queue = deque()\n",
    "queue.append('cat')\n",
    "queue.append('dog')\n",
    "queue.append('tiger')\n",
    "queue.popleft()\n",
    "# 队列先进先出"
   ],
   "metadata": {
    "collapsed": false
   }
  },
  {
   "cell_type": "code",
   "execution_count": 2,
   "outputs": [
    {
     "data": {
      "text/plain": "'tiger'"
     },
     "execution_count": 2,
     "metadata": {},
     "output_type": "execute_result"
    },
    {
     "data": {
      "text/plain": "'dog'"
     },
     "execution_count": 2,
     "metadata": {},
     "output_type": "execute_result"
    },
    {
     "data": {
      "text/plain": "'cat'"
     },
     "execution_count": 2,
     "metadata": {},
     "output_type": "execute_result"
    }
   ],
   "source": [
    "# 双端队列deque\n",
    "from collections import deque\n",
    "stack = deque()\n",
    "stack.append('cat')\n",
    "stack.append('dog')\n",
    "stack.append('tiger')\n",
    "stack.pop()\n",
    "stack.pop()\n",
    "stack.pop() # 堆栈理念"
   ],
   "metadata": {
    "collapsed": false
   }
  },
  {
   "cell_type": "code",
   "execution_count": 1,
   "outputs": [],
   "source": [
    "from IPython.core.interactiveshell import InteractiveShell\n",
    "InteractiveShell.ast_node_interactivity = \"all\""
   ],
   "metadata": {
    "collapsed": false
   }
  }
 ],
 "metadata": {
  "kernelspec": {
   "name": "auto_report",
   "language": "python",
   "display_name": "auto_report"
  },
  "language_info": {
   "codemirror_mode": {
    "name": "ipython",
    "version": 2
   },
   "file_extension": ".py",
   "mimetype": "text/x-python",
   "name": "python",
   "nbconvert_exporter": "python",
   "pygments_lexer": "ipython2",
   "version": "2.7.6"
  }
 },
 "nbformat": 4,
 "nbformat_minor": 0
}
