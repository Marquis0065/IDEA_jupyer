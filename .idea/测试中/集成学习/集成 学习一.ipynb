{
 "cells": [
  {
   "cell_type": "code",
   "execution_count": 14,
   "outputs": [
    {
     "data": {
      "text/plain": "BaggingClassifier(base_estimator=LogisticRegression(), n_estimators=50)",
      "text/html": "<style>#sk-container-id-5 {color: black;background-color: white;}#sk-container-id-5 pre{padding: 0;}#sk-container-id-5 div.sk-toggleable {background-color: white;}#sk-container-id-5 label.sk-toggleable__label {cursor: pointer;display: block;width: 100%;margin-bottom: 0;padding: 0.3em;box-sizing: border-box;text-align: center;}#sk-container-id-5 label.sk-toggleable__label-arrow:before {content: \"▸\";float: left;margin-right: 0.25em;color: #696969;}#sk-container-id-5 label.sk-toggleable__label-arrow:hover:before {color: black;}#sk-container-id-5 div.sk-estimator:hover label.sk-toggleable__label-arrow:before {color: black;}#sk-container-id-5 div.sk-toggleable__content {max-height: 0;max-width: 0;overflow: hidden;text-align: left;background-color: #f0f8ff;}#sk-container-id-5 div.sk-toggleable__content pre {margin: 0.2em;color: black;border-radius: 0.25em;background-color: #f0f8ff;}#sk-container-id-5 input.sk-toggleable__control:checked~div.sk-toggleable__content {max-height: 200px;max-width: 100%;overflow: auto;}#sk-container-id-5 input.sk-toggleable__control:checked~label.sk-toggleable__label-arrow:before {content: \"▾\";}#sk-container-id-5 div.sk-estimator input.sk-toggleable__control:checked~label.sk-toggleable__label {background-color: #d4ebff;}#sk-container-id-5 div.sk-label input.sk-toggleable__control:checked~label.sk-toggleable__label {background-color: #d4ebff;}#sk-container-id-5 input.sk-hidden--visually {border: 0;clip: rect(1px 1px 1px 1px);clip: rect(1px, 1px, 1px, 1px);height: 1px;margin: -1px;overflow: hidden;padding: 0;position: absolute;width: 1px;}#sk-container-id-5 div.sk-estimator {font-family: monospace;background-color: #f0f8ff;border: 1px dotted black;border-radius: 0.25em;box-sizing: border-box;margin-bottom: 0.5em;}#sk-container-id-5 div.sk-estimator:hover {background-color: #d4ebff;}#sk-container-id-5 div.sk-parallel-item::after {content: \"\";width: 100%;border-bottom: 1px solid gray;flex-grow: 1;}#sk-container-id-5 div.sk-label:hover label.sk-toggleable__label {background-color: #d4ebff;}#sk-container-id-5 div.sk-serial::before {content: \"\";position: absolute;border-left: 1px solid gray;box-sizing: border-box;top: 0;bottom: 0;left: 50%;z-index: 0;}#sk-container-id-5 div.sk-serial {display: flex;flex-direction: column;align-items: center;background-color: white;padding-right: 0.2em;padding-left: 0.2em;position: relative;}#sk-container-id-5 div.sk-item {position: relative;z-index: 1;}#sk-container-id-5 div.sk-parallel {display: flex;align-items: stretch;justify-content: center;background-color: white;position: relative;}#sk-container-id-5 div.sk-item::before, #sk-container-id-5 div.sk-parallel-item::before {content: \"\";position: absolute;border-left: 1px solid gray;box-sizing: border-box;top: 0;bottom: 0;left: 50%;z-index: -1;}#sk-container-id-5 div.sk-parallel-item {display: flex;flex-direction: column;z-index: 1;position: relative;background-color: white;}#sk-container-id-5 div.sk-parallel-item:first-child::after {align-self: flex-end;width: 50%;}#sk-container-id-5 div.sk-parallel-item:last-child::after {align-self: flex-start;width: 50%;}#sk-container-id-5 div.sk-parallel-item:only-child::after {width: 0;}#sk-container-id-5 div.sk-dashed-wrapped {border: 1px dashed gray;margin: 0 0.4em 0.5em 0.4em;box-sizing: border-box;padding-bottom: 0.4em;background-color: white;}#sk-container-id-5 div.sk-label label {font-family: monospace;font-weight: bold;display: inline-block;line-height: 1.2em;}#sk-container-id-5 div.sk-label-container {text-align: center;}#sk-container-id-5 div.sk-container {/* jupyter's `normalize.less` sets `[hidden] { display: none; }` but bootstrap.min.css set `[hidden] { display: none !important; }` so we also need the `!important` here to be able to override the default hidden behavior on the sphinx rendered scikit-learn.org. See: https://github.com/scikit-learn/scikit-learn/issues/21755 */display: inline-block !important;position: relative;}#sk-container-id-5 div.sk-text-repr-fallback {display: none;}</style><div id=\"sk-container-id-5\" class=\"sk-top-container\"><div class=\"sk-text-repr-fallback\"><pre>BaggingClassifier(base_estimator=LogisticRegression(), n_estimators=50)</pre><b>In a Jupyter environment, please rerun this cell to show the HTML representation or trust the notebook. <br />On GitHub, the HTML representation is unable to render, please try loading this page with nbviewer.org.</b></div><div class=\"sk-container\" hidden><div class=\"sk-item sk-dashed-wrapped\"><div class=\"sk-label-container\"><div class=\"sk-label sk-toggleable\"><input class=\"sk-toggleable__control sk-hidden--visually\" id=\"sk-estimator-id-7\" type=\"checkbox\" ><label for=\"sk-estimator-id-7\" class=\"sk-toggleable__label sk-toggleable__label-arrow\">BaggingClassifier</label><div class=\"sk-toggleable__content\"><pre>BaggingClassifier(base_estimator=LogisticRegression(), n_estimators=50)</pre></div></div></div><div class=\"sk-parallel\"><div class=\"sk-parallel-item\"><div class=\"sk-item\"><div class=\"sk-label-container\"><div class=\"sk-label sk-toggleable\"><input class=\"sk-toggleable__control sk-hidden--visually\" id=\"sk-estimator-id-8\" type=\"checkbox\" ><label for=\"sk-estimator-id-8\" class=\"sk-toggleable__label sk-toggleable__label-arrow\">base_estimator: LogisticRegression</label><div class=\"sk-toggleable__content\"><pre>LogisticRegression()</pre></div></div></div><div class=\"sk-serial\"><div class=\"sk-item\"><div class=\"sk-estimator sk-toggleable\"><input class=\"sk-toggleable__control sk-hidden--visually\" id=\"sk-estimator-id-9\" type=\"checkbox\" ><label for=\"sk-estimator-id-9\" class=\"sk-toggleable__label sk-toggleable__label-arrow\">LogisticRegression</label><div class=\"sk-toggleable__content\"><pre>LogisticRegression()</pre></div></div></div></div></div></div></div></div></div></div>"
     },
     "execution_count": 14,
     "metadata": {},
     "output_type": "execute_result"
    },
    {
     "data": {
      "text/plain": "0.6341463414634146"
     },
     "execution_count": 14,
     "metadata": {},
     "output_type": "execute_result"
    },
    {
     "name": "stdout",
     "output_type": "stream",
     "text": [
      "              precision    recall  f1-score   support\n",
      "\n",
      "           0       0.65      0.84      0.73      7832\n",
      "           1       0.58      0.33      0.42      5247\n",
      "\n",
      "    accuracy                           0.63     13079\n",
      "   macro avg       0.61      0.58      0.58     13079\n",
      "weighted avg       0.62      0.63      0.61     13079\n",
      "\n"
     ]
    }
   ],
   "source": [
    "# 基学习器用逻辑回归，集成50个基学习器\n",
    "from sklearn.linear_model import LogisticRegression\n",
    "from sklearn.ensemble import BaggingClassifier\n",
    "LR3 = LogisticRegression()\n",
    "# 如果没有指定机器学习器，则\n",
    "bag = BaggingClassifier(base_estimator=LR3,n_estimators=50)\n",
    "bag.fit(Xtrain, Ytrain)   # 计算\n",
    "bag.score(Xtest, Ytest)   # 准确率\n",
    "print(classification_report(Ytest, bag.predict(Xtest)))"
   ],
   "metadata": {
    "collapsed": false
   }
  },
  {
   "cell_type": "code",
   "execution_count": 13,
   "outputs": [
    {
     "data": {
      "text/plain": "AdaBoostClassifier(base_estimator=LogisticRegression(), n_estimators=20)",
      "text/html": "<style>#sk-container-id-4 {color: black;background-color: white;}#sk-container-id-4 pre{padding: 0;}#sk-container-id-4 div.sk-toggleable {background-color: white;}#sk-container-id-4 label.sk-toggleable__label {cursor: pointer;display: block;width: 100%;margin-bottom: 0;padding: 0.3em;box-sizing: border-box;text-align: center;}#sk-container-id-4 label.sk-toggleable__label-arrow:before {content: \"▸\";float: left;margin-right: 0.25em;color: #696969;}#sk-container-id-4 label.sk-toggleable__label-arrow:hover:before {color: black;}#sk-container-id-4 div.sk-estimator:hover label.sk-toggleable__label-arrow:before {color: black;}#sk-container-id-4 div.sk-toggleable__content {max-height: 0;max-width: 0;overflow: hidden;text-align: left;background-color: #f0f8ff;}#sk-container-id-4 div.sk-toggleable__content pre {margin: 0.2em;color: black;border-radius: 0.25em;background-color: #f0f8ff;}#sk-container-id-4 input.sk-toggleable__control:checked~div.sk-toggleable__content {max-height: 200px;max-width: 100%;overflow: auto;}#sk-container-id-4 input.sk-toggleable__control:checked~label.sk-toggleable__label-arrow:before {content: \"▾\";}#sk-container-id-4 div.sk-estimator input.sk-toggleable__control:checked~label.sk-toggleable__label {background-color: #d4ebff;}#sk-container-id-4 div.sk-label input.sk-toggleable__control:checked~label.sk-toggleable__label {background-color: #d4ebff;}#sk-container-id-4 input.sk-hidden--visually {border: 0;clip: rect(1px 1px 1px 1px);clip: rect(1px, 1px, 1px, 1px);height: 1px;margin: -1px;overflow: hidden;padding: 0;position: absolute;width: 1px;}#sk-container-id-4 div.sk-estimator {font-family: monospace;background-color: #f0f8ff;border: 1px dotted black;border-radius: 0.25em;box-sizing: border-box;margin-bottom: 0.5em;}#sk-container-id-4 div.sk-estimator:hover {background-color: #d4ebff;}#sk-container-id-4 div.sk-parallel-item::after {content: \"\";width: 100%;border-bottom: 1px solid gray;flex-grow: 1;}#sk-container-id-4 div.sk-label:hover label.sk-toggleable__label {background-color: #d4ebff;}#sk-container-id-4 div.sk-serial::before {content: \"\";position: absolute;border-left: 1px solid gray;box-sizing: border-box;top: 0;bottom: 0;left: 50%;z-index: 0;}#sk-container-id-4 div.sk-serial {display: flex;flex-direction: column;align-items: center;background-color: white;padding-right: 0.2em;padding-left: 0.2em;position: relative;}#sk-container-id-4 div.sk-item {position: relative;z-index: 1;}#sk-container-id-4 div.sk-parallel {display: flex;align-items: stretch;justify-content: center;background-color: white;position: relative;}#sk-container-id-4 div.sk-item::before, #sk-container-id-4 div.sk-parallel-item::before {content: \"\";position: absolute;border-left: 1px solid gray;box-sizing: border-box;top: 0;bottom: 0;left: 50%;z-index: -1;}#sk-container-id-4 div.sk-parallel-item {display: flex;flex-direction: column;z-index: 1;position: relative;background-color: white;}#sk-container-id-4 div.sk-parallel-item:first-child::after {align-self: flex-end;width: 50%;}#sk-container-id-4 div.sk-parallel-item:last-child::after {align-self: flex-start;width: 50%;}#sk-container-id-4 div.sk-parallel-item:only-child::after {width: 0;}#sk-container-id-4 div.sk-dashed-wrapped {border: 1px dashed gray;margin: 0 0.4em 0.5em 0.4em;box-sizing: border-box;padding-bottom: 0.4em;background-color: white;}#sk-container-id-4 div.sk-label label {font-family: monospace;font-weight: bold;display: inline-block;line-height: 1.2em;}#sk-container-id-4 div.sk-label-container {text-align: center;}#sk-container-id-4 div.sk-container {/* jupyter's `normalize.less` sets `[hidden] { display: none; }` but bootstrap.min.css set `[hidden] { display: none !important; }` so we also need the `!important` here to be able to override the default hidden behavior on the sphinx rendered scikit-learn.org. See: https://github.com/scikit-learn/scikit-learn/issues/21755 */display: inline-block !important;position: relative;}#sk-container-id-4 div.sk-text-repr-fallback {display: none;}</style><div id=\"sk-container-id-4\" class=\"sk-top-container\"><div class=\"sk-text-repr-fallback\"><pre>AdaBoostClassifier(base_estimator=LogisticRegression(), n_estimators=20)</pre><b>In a Jupyter environment, please rerun this cell to show the HTML representation or trust the notebook. <br />On GitHub, the HTML representation is unable to render, please try loading this page with nbviewer.org.</b></div><div class=\"sk-container\" hidden><div class=\"sk-item sk-dashed-wrapped\"><div class=\"sk-label-container\"><div class=\"sk-label sk-toggleable\"><input class=\"sk-toggleable__control sk-hidden--visually\" id=\"sk-estimator-id-4\" type=\"checkbox\" ><label for=\"sk-estimator-id-4\" class=\"sk-toggleable__label sk-toggleable__label-arrow\">AdaBoostClassifier</label><div class=\"sk-toggleable__content\"><pre>AdaBoostClassifier(base_estimator=LogisticRegression(), n_estimators=20)</pre></div></div></div><div class=\"sk-parallel\"><div class=\"sk-parallel-item\"><div class=\"sk-item\"><div class=\"sk-label-container\"><div class=\"sk-label sk-toggleable\"><input class=\"sk-toggleable__control sk-hidden--visually\" id=\"sk-estimator-id-5\" type=\"checkbox\" ><label for=\"sk-estimator-id-5\" class=\"sk-toggleable__label sk-toggleable__label-arrow\">base_estimator: LogisticRegression</label><div class=\"sk-toggleable__content\"><pre>LogisticRegression()</pre></div></div></div><div class=\"sk-serial\"><div class=\"sk-item\"><div class=\"sk-estimator sk-toggleable\"><input class=\"sk-toggleable__control sk-hidden--visually\" id=\"sk-estimator-id-6\" type=\"checkbox\" ><label for=\"sk-estimator-id-6\" class=\"sk-toggleable__label sk-toggleable__label-arrow\">LogisticRegression</label><div class=\"sk-toggleable__content\"><pre>LogisticRegression()</pre></div></div></div></div></div></div></div></div></div></div>"
     },
     "execution_count": 13,
     "metadata": {},
     "output_type": "execute_result"
    },
    {
     "data": {
      "text/plain": "0.6342992583530851"
     },
     "execution_count": 13,
     "metadata": {},
     "output_type": "execute_result"
    },
    {
     "name": "stdout",
     "output_type": "stream",
     "text": [
      "              precision    recall  f1-score   support\n",
      "\n",
      "           0       0.65      0.84      0.73      7832\n",
      "           1       0.58      0.33      0.42      5247\n",
      "\n",
      "    accuracy                           0.63     13079\n",
      "   macro avg       0.61      0.58      0.58     13079\n",
      "weighted avg       0.62      0.63      0.61     13079\n",
      "\n"
     ]
    }
   ],
   "source": [
    "#Boosting,Bagging\n",
    "# 基学习器用逻辑回归，集成最多20个基学习器\n",
    "from sklearn.linear_model import LogisticRegression\n",
    "from sklearn.ensemble import AdaBoostClassifier\n",
    "#先实例一个机器学习器\n",
    "LR2 = LogisticRegression()\n",
    "# 如果没有指定机器学习器，则默认为决策树（最大深度为1）\n",
    "ada= AdaBoostClassifier(base_estimator= LR2, n_estimators= 20)  # 实例化\n",
    "ada.fit(Xtrain, Ytrain)   # 计算\n",
    "ada.score(Xtest, Ytest)\n",
    "print(classification_report(Ytest, ada.predict(Xtest)))"
   ],
   "metadata": {
    "collapsed": false
   }
  },
  {
   "cell_type": "code",
   "execution_count": 51,
   "outputs": [
    {
     "data": {
      "text/plain": "array([0, 1, 0], dtype=int64)"
     },
     "execution_count": 51,
     "metadata": {},
     "output_type": "execute_result"
    }
   ],
   "source": [
    "#预测\n",
    "LR.predict(df_new)"
   ],
   "metadata": {
    "collapsed": false
   }
  },
  {
   "cell_type": "code",
   "execution_count": 50,
   "outputs": [
    {
     "data": {
      "text/plain": "   GEND  AART  ADBT  ADEP  AHBP  AHCH  ARES  AHRT  ADGS  AHRL  ...  c210pmr  \\\n0     0     1     0     0     1     1     0     0     1     0  ...       57   \n1     1     1     0     1     1     1     0     1     1     0  ...       42   \n2     1     0     0     0     0     0     0     0     0     0  ...       64   \n\n   c210poo  c210psu  c210pwc  c210wht  ilor  meda  pdpe  tins  zhip19  \n0       64       79       22       48    45    50    55    12       8  \n1       87       79       18       76    15    50    55    11       5  \n2       92       96       33       92    38    59    61    13       8  \n\n[3 rows x 49 columns]",
      "text/html": "<div>\n<style scoped>\n    .dataframe tbody tr th:only-of-type {\n        vertical-align: middle;\n    }\n\n    .dataframe tbody tr th {\n        vertical-align: top;\n    }\n\n    .dataframe thead th {\n        text-align: right;\n    }\n</style>\n<table border=\"1\" class=\"dataframe\">\n  <thead>\n    <tr style=\"text-align: right;\">\n      <th></th>\n      <th>GEND</th>\n      <th>AART</th>\n      <th>ADBT</th>\n      <th>ADEP</th>\n      <th>AHBP</th>\n      <th>AHCH</th>\n      <th>ARES</th>\n      <th>AHRT</th>\n      <th>ADGS</th>\n      <th>AHRL</th>\n      <th>...</th>\n      <th>c210pmr</th>\n      <th>c210poo</th>\n      <th>c210psu</th>\n      <th>c210pwc</th>\n      <th>c210wht</th>\n      <th>ilor</th>\n      <th>meda</th>\n      <th>pdpe</th>\n      <th>tins</th>\n      <th>zhip19</th>\n    </tr>\n  </thead>\n  <tbody>\n    <tr>\n      <th>0</th>\n      <td>0</td>\n      <td>1</td>\n      <td>0</td>\n      <td>0</td>\n      <td>1</td>\n      <td>1</td>\n      <td>0</td>\n      <td>0</td>\n      <td>1</td>\n      <td>0</td>\n      <td>...</td>\n      <td>57</td>\n      <td>64</td>\n      <td>79</td>\n      <td>22</td>\n      <td>48</td>\n      <td>45</td>\n      <td>50</td>\n      <td>55</td>\n      <td>12</td>\n      <td>8</td>\n    </tr>\n    <tr>\n      <th>1</th>\n      <td>1</td>\n      <td>1</td>\n      <td>0</td>\n      <td>1</td>\n      <td>1</td>\n      <td>1</td>\n      <td>0</td>\n      <td>1</td>\n      <td>1</td>\n      <td>0</td>\n      <td>...</td>\n      <td>42</td>\n      <td>87</td>\n      <td>79</td>\n      <td>18</td>\n      <td>76</td>\n      <td>15</td>\n      <td>50</td>\n      <td>55</td>\n      <td>11</td>\n      <td>5</td>\n    </tr>\n    <tr>\n      <th>2</th>\n      <td>1</td>\n      <td>0</td>\n      <td>0</td>\n      <td>0</td>\n      <td>0</td>\n      <td>0</td>\n      <td>0</td>\n      <td>0</td>\n      <td>0</td>\n      <td>0</td>\n      <td>...</td>\n      <td>64</td>\n      <td>92</td>\n      <td>96</td>\n      <td>33</td>\n      <td>92</td>\n      <td>38</td>\n      <td>59</td>\n      <td>61</td>\n      <td>13</td>\n      <td>8</td>\n    </tr>\n  </tbody>\n</table>\n<p>3 rows × 49 columns</p>\n</div>"
     },
     "execution_count": 50,
     "metadata": {},
     "output_type": "execute_result"
    }
   ],
   "source": [
    "# 新进数据预测\n",
    "df_new= pd.read_csv('保险数据_新进数据.csv').drop(\"resp_flag\", axis= 1)\n",
    "for i in df_new.columns:\n",
    "    if df_new[i].dtype =='object':\n",
    "        df_new[i] = LabelEncoder().fit_transform(df_new[i])\n",
    "df_new.head()"
   ],
   "metadata": {
    "collapsed": false
   }
  },
  {
   "cell_type": "code",
   "execution_count": 12,
   "outputs": [
    {
     "data": {
      "text/plain": "LogisticRegression()",
      "text/html": "<style>#sk-container-id-3 {color: black;background-color: white;}#sk-container-id-3 pre{padding: 0;}#sk-container-id-3 div.sk-toggleable {background-color: white;}#sk-container-id-3 label.sk-toggleable__label {cursor: pointer;display: block;width: 100%;margin-bottom: 0;padding: 0.3em;box-sizing: border-box;text-align: center;}#sk-container-id-3 label.sk-toggleable__label-arrow:before {content: \"▸\";float: left;margin-right: 0.25em;color: #696969;}#sk-container-id-3 label.sk-toggleable__label-arrow:hover:before {color: black;}#sk-container-id-3 div.sk-estimator:hover label.sk-toggleable__label-arrow:before {color: black;}#sk-container-id-3 div.sk-toggleable__content {max-height: 0;max-width: 0;overflow: hidden;text-align: left;background-color: #f0f8ff;}#sk-container-id-3 div.sk-toggleable__content pre {margin: 0.2em;color: black;border-radius: 0.25em;background-color: #f0f8ff;}#sk-container-id-3 input.sk-toggleable__control:checked~div.sk-toggleable__content {max-height: 200px;max-width: 100%;overflow: auto;}#sk-container-id-3 input.sk-toggleable__control:checked~label.sk-toggleable__label-arrow:before {content: \"▾\";}#sk-container-id-3 div.sk-estimator input.sk-toggleable__control:checked~label.sk-toggleable__label {background-color: #d4ebff;}#sk-container-id-3 div.sk-label input.sk-toggleable__control:checked~label.sk-toggleable__label {background-color: #d4ebff;}#sk-container-id-3 input.sk-hidden--visually {border: 0;clip: rect(1px 1px 1px 1px);clip: rect(1px, 1px, 1px, 1px);height: 1px;margin: -1px;overflow: hidden;padding: 0;position: absolute;width: 1px;}#sk-container-id-3 div.sk-estimator {font-family: monospace;background-color: #f0f8ff;border: 1px dotted black;border-radius: 0.25em;box-sizing: border-box;margin-bottom: 0.5em;}#sk-container-id-3 div.sk-estimator:hover {background-color: #d4ebff;}#sk-container-id-3 div.sk-parallel-item::after {content: \"\";width: 100%;border-bottom: 1px solid gray;flex-grow: 1;}#sk-container-id-3 div.sk-label:hover label.sk-toggleable__label {background-color: #d4ebff;}#sk-container-id-3 div.sk-serial::before {content: \"\";position: absolute;border-left: 1px solid gray;box-sizing: border-box;top: 0;bottom: 0;left: 50%;z-index: 0;}#sk-container-id-3 div.sk-serial {display: flex;flex-direction: column;align-items: center;background-color: white;padding-right: 0.2em;padding-left: 0.2em;position: relative;}#sk-container-id-3 div.sk-item {position: relative;z-index: 1;}#sk-container-id-3 div.sk-parallel {display: flex;align-items: stretch;justify-content: center;background-color: white;position: relative;}#sk-container-id-3 div.sk-item::before, #sk-container-id-3 div.sk-parallel-item::before {content: \"\";position: absolute;border-left: 1px solid gray;box-sizing: border-box;top: 0;bottom: 0;left: 50%;z-index: -1;}#sk-container-id-3 div.sk-parallel-item {display: flex;flex-direction: column;z-index: 1;position: relative;background-color: white;}#sk-container-id-3 div.sk-parallel-item:first-child::after {align-self: flex-end;width: 50%;}#sk-container-id-3 div.sk-parallel-item:last-child::after {align-self: flex-start;width: 50%;}#sk-container-id-3 div.sk-parallel-item:only-child::after {width: 0;}#sk-container-id-3 div.sk-dashed-wrapped {border: 1px dashed gray;margin: 0 0.4em 0.5em 0.4em;box-sizing: border-box;padding-bottom: 0.4em;background-color: white;}#sk-container-id-3 div.sk-label label {font-family: monospace;font-weight: bold;display: inline-block;line-height: 1.2em;}#sk-container-id-3 div.sk-label-container {text-align: center;}#sk-container-id-3 div.sk-container {/* jupyter's `normalize.less` sets `[hidden] { display: none; }` but bootstrap.min.css set `[hidden] { display: none !important; }` so we also need the `!important` here to be able to override the default hidden behavior on the sphinx rendered scikit-learn.org. See: https://github.com/scikit-learn/scikit-learn/issues/21755 */display: inline-block !important;position: relative;}#sk-container-id-3 div.sk-text-repr-fallback {display: none;}</style><div id=\"sk-container-id-3\" class=\"sk-top-container\"><div class=\"sk-text-repr-fallback\"><pre>LogisticRegression()</pre><b>In a Jupyter environment, please rerun this cell to show the HTML representation or trust the notebook. <br />On GitHub, the HTML representation is unable to render, please try loading this page with nbviewer.org.</b></div><div class=\"sk-container\" hidden><div class=\"sk-item\"><div class=\"sk-estimator sk-toggleable\"><input class=\"sk-toggleable__control sk-hidden--visually\" id=\"sk-estimator-id-3\" type=\"checkbox\" checked><label for=\"sk-estimator-id-3\" class=\"sk-toggleable__label sk-toggleable__label-arrow\">LogisticRegression</label><div class=\"sk-toggleable__content\"><pre>LogisticRegression()</pre></div></div></div></div></div>"
     },
     "execution_count": 12,
     "metadata": {},
     "output_type": "execute_result"
    },
    {
     "data": {
      "text/plain": "0.6335346739047327"
     },
     "execution_count": 12,
     "metadata": {},
     "output_type": "execute_result"
    },
    {
     "name": "stdout",
     "output_type": "stream",
     "text": [
      "              precision    recall  f1-score   support\n",
      "\n",
      "           0       0.65      0.83      0.73      7832\n",
      "           1       0.57      0.34      0.42      5247\n",
      "\n",
      "    accuracy                           0.63     13079\n",
      "   macro avg       0.61      0.58      0.58     13079\n",
      "weighted avg       0.62      0.63      0.61     13079\n",
      "\n"
     ]
    }
   ],
   "source": [
    "#单独逻辑回归\n",
    "# 训练模型\n",
    "from sklearn.linear_model import LogisticRegression\n",
    "#实例化\n",
    "LR = LogisticRegression()\n",
    "LR.fit(Xtrain,Ytrain)\n",
    "#逻辑回归的准确率，正常先看训练集，高参后再看测试集\n",
    "LR.score(Xtest,Ytest)\n",
    "# 模型评估\n",
    "from sklearn.metrics import classification_report\n",
    "print(classification_report(Ytest, LR.predict(Xtest)))"
   ],
   "metadata": {
    "collapsed": false
   }
  },
  {
   "cell_type": "code",
   "execution_count": 9,
   "outputs": [],
   "source": [
    "# 分割测试集\n",
    "# 分层抽样 stratify=labels,按因变量y的比例\n",
    "from sklearn.model_selection import train_test_split\n",
    "Xtrain, Xtest, Ytrain, Ytest= train_test_split(df1, labels,\n",
    "                                               test_size= 0.3,\n",
    "                                               random_state= 42,\n",
    "                                               stratify= labels)"
   ],
   "metadata": {
    "collapsed": false
   }
  },
  {
   "cell_type": "code",
   "execution_count": 8,
   "outputs": [
    {
     "data": {
      "text/plain": "    GEND  AART  ADBT  ADEP  AHBP  AHCH  ARES  AHRT  ADGS  AHRL  ...  c210pmr  \\\n0      1     0     0     0     0     0     0     0     0     0  ...       52   \n1      1     0     0     0     0     0     0     0     0     0  ...       44   \n17     0     0     0     0     0     0     0     0     0     0  ...       63   \n18     0     0     0     0     0     0     0     0     0     0  ...       61   \n19     0     1     1     0     1     1     0     0     1     0  ...       41   \n\n    c210poo  c210psu  c210pwc  c210wht  ilor  meda  pdpe  tins  zhip19  \n0        65     71.0       22     79.0  15.0  64.0    42     8       8  \n1        81     99.0       37     65.0  17.0  61.0    46     6       3  \n17       93     99.0       41     68.0  19.0  35.0    68    11       9  \n18       86     98.0       28     82.0  19.0  64.0    42     6       8  \n19       77     99.0       50     55.0  19.0  61.0    46    11       0  \n\n[5 rows x 49 columns]",
      "text/html": "<div>\n<style scoped>\n    .dataframe tbody tr th:only-of-type {\n        vertical-align: middle;\n    }\n\n    .dataframe tbody tr th {\n        vertical-align: top;\n    }\n\n    .dataframe thead th {\n        text-align: right;\n    }\n</style>\n<table border=\"1\" class=\"dataframe\">\n  <thead>\n    <tr style=\"text-align: right;\">\n      <th></th>\n      <th>GEND</th>\n      <th>AART</th>\n      <th>ADBT</th>\n      <th>ADEP</th>\n      <th>AHBP</th>\n      <th>AHCH</th>\n      <th>ARES</th>\n      <th>AHRT</th>\n      <th>ADGS</th>\n      <th>AHRL</th>\n      <th>...</th>\n      <th>c210pmr</th>\n      <th>c210poo</th>\n      <th>c210psu</th>\n      <th>c210pwc</th>\n      <th>c210wht</th>\n      <th>ilor</th>\n      <th>meda</th>\n      <th>pdpe</th>\n      <th>tins</th>\n      <th>zhip19</th>\n    </tr>\n  </thead>\n  <tbody>\n    <tr>\n      <th>0</th>\n      <td>1</td>\n      <td>0</td>\n      <td>0</td>\n      <td>0</td>\n      <td>0</td>\n      <td>0</td>\n      <td>0</td>\n      <td>0</td>\n      <td>0</td>\n      <td>0</td>\n      <td>...</td>\n      <td>52</td>\n      <td>65</td>\n      <td>71.0</td>\n      <td>22</td>\n      <td>79.0</td>\n      <td>15.0</td>\n      <td>64.0</td>\n      <td>42</td>\n      <td>8</td>\n      <td>8</td>\n    </tr>\n    <tr>\n      <th>1</th>\n      <td>1</td>\n      <td>0</td>\n      <td>0</td>\n      <td>0</td>\n      <td>0</td>\n      <td>0</td>\n      <td>0</td>\n      <td>0</td>\n      <td>0</td>\n      <td>0</td>\n      <td>...</td>\n      <td>44</td>\n      <td>81</td>\n      <td>99.0</td>\n      <td>37</td>\n      <td>65.0</td>\n      <td>17.0</td>\n      <td>61.0</td>\n      <td>46</td>\n      <td>6</td>\n      <td>3</td>\n    </tr>\n    <tr>\n      <th>17</th>\n      <td>0</td>\n      <td>0</td>\n      <td>0</td>\n      <td>0</td>\n      <td>0</td>\n      <td>0</td>\n      <td>0</td>\n      <td>0</td>\n      <td>0</td>\n      <td>0</td>\n      <td>...</td>\n      <td>63</td>\n      <td>93</td>\n      <td>99.0</td>\n      <td>41</td>\n      <td>68.0</td>\n      <td>19.0</td>\n      <td>35.0</td>\n      <td>68</td>\n      <td>11</td>\n      <td>9</td>\n    </tr>\n    <tr>\n      <th>18</th>\n      <td>0</td>\n      <td>0</td>\n      <td>0</td>\n      <td>0</td>\n      <td>0</td>\n      <td>0</td>\n      <td>0</td>\n      <td>0</td>\n      <td>0</td>\n      <td>0</td>\n      <td>...</td>\n      <td>61</td>\n      <td>86</td>\n      <td>98.0</td>\n      <td>28</td>\n      <td>82.0</td>\n      <td>19.0</td>\n      <td>64.0</td>\n      <td>42</td>\n      <td>6</td>\n      <td>8</td>\n    </tr>\n    <tr>\n      <th>19</th>\n      <td>0</td>\n      <td>1</td>\n      <td>1</td>\n      <td>0</td>\n      <td>1</td>\n      <td>1</td>\n      <td>0</td>\n      <td>0</td>\n      <td>1</td>\n      <td>0</td>\n      <td>...</td>\n      <td>41</td>\n      <td>77</td>\n      <td>99.0</td>\n      <td>50</td>\n      <td>55.0</td>\n      <td>19.0</td>\n      <td>61.0</td>\n      <td>46</td>\n      <td>11</td>\n      <td>0</td>\n    </tr>\n  </tbody>\n</table>\n<p>5 rows × 49 columns</p>\n</div>"
     },
     "execution_count": 8,
     "metadata": {},
     "output_type": "execute_result"
    }
   ],
   "source": [
    "for i in df1.columns:\n",
    "    if df1[i].dtype =='object':\n",
    "        df1[i] = LabelEncoder().fit_transform(df1[i])\n",
    "df1.head()"
   ],
   "metadata": {
    "collapsed": false
   }
  },
  {
   "cell_type": "code",
   "execution_count": 7,
   "outputs": [
    {
     "data": {
      "text/plain": "array([ 2, 11, 10, ...,  0, 10, 11], dtype=int64)"
     },
     "execution_count": 7,
     "metadata": {},
     "output_type": "execute_result"
    }
   ],
   "source": [
    "# 数据编码,label这个库可以做数据编码\n",
    "from sklearn.preprocessing import LabelEncoder\n",
    "#需要先实例化\n",
    "LabelEncoder().fit_transform(df1['age'])"
   ],
   "metadata": {
    "collapsed": false
   }
  },
  {
   "cell_type": "code",
   "execution_count": 20,
   "outputs": [
    {
     "data": {
      "text/plain": "resp_flag    0\nGEND         0\nAART         0\nADBT         0\nADEP         0\nAHBP         0\nAHCH         0\nARES         0\nAHRT         0\nADGS         0\nAHRL         0\nAVIS         0\nBANK         0\nFINI         0\nINLI         0\nINMEDI       0\nINVE         0\nIOLP         0\nONLA         0\nSGFA         0\nSGLL         0\nSGOE         0\nSGSE         0\nSGTC         0\nNOC19        0\nNAH19        0\nage          0\nc210apvt     0\nc210b200     0\nc210blu      0\nc210bpvt     0\nc210cip      0\nc210ebi      0\nc210hmi      0\nc210hva      0\nc210kses     0\nc210mah      0\nc210mob      0\nc210mys      0\nc210pdv      0\nc210pmr      0\nc210poo      0\nc210psu      0\nc210pwc      0\nc210wht      0\nilor         0\nmeda         0\npdpe         0\ntins         0\nzhip19       0\ndtype: int64"
     },
     "execution_count": 20,
     "metadata": {},
     "output_type": "execute_result"
    }
   ],
   "source": [
    "df1.isnull().sum()"
   ],
   "metadata": {
    "collapsed": false
   }
  },
  {
   "cell_type": "code",
   "execution_count": 5,
   "outputs": [
    {
     "data": {
      "text/plain": "   GEND AART ADBT ADEP AHBP AHCH ARES AHRT ADGS AHRL  ... c210pmr c210poo  \\\n0     M    N    N    N    N    N    N    N    N    N  ...      52      65   \n1     M    N    N    N    N    N    N    N    N    N  ...      44      81   \n17    F    N    N    N    N    N    N    N    N    N  ...      63      93   \n18    F    N    N    N    N    N    N    N    N    N  ...      61      86   \n19    F    Y    Y    N    Y    Y    N    N    Y    N  ...      41      77   \n\n   c210psu c210pwc c210wht  ilor  meda pdpe tins zhip19  \n0     71.0      22    79.0  15.0  64.0   42    8      8  \n1     99.0      37    65.0  17.0  61.0   46    6      3  \n17    99.0      41    68.0  19.0  35.0   68   11      9  \n18    98.0      28    82.0  19.0  64.0   42    6      8  \n19    99.0      50    55.0  19.0  61.0   46   11      0  \n\n[5 rows x 49 columns]",
      "text/html": "<div>\n<style scoped>\n    .dataframe tbody tr th:only-of-type {\n        vertical-align: middle;\n    }\n\n    .dataframe tbody tr th {\n        vertical-align: top;\n    }\n\n    .dataframe thead th {\n        text-align: right;\n    }\n</style>\n<table border=\"1\" class=\"dataframe\">\n  <thead>\n    <tr style=\"text-align: right;\">\n      <th></th>\n      <th>GEND</th>\n      <th>AART</th>\n      <th>ADBT</th>\n      <th>ADEP</th>\n      <th>AHBP</th>\n      <th>AHCH</th>\n      <th>ARES</th>\n      <th>AHRT</th>\n      <th>ADGS</th>\n      <th>AHRL</th>\n      <th>...</th>\n      <th>c210pmr</th>\n      <th>c210poo</th>\n      <th>c210psu</th>\n      <th>c210pwc</th>\n      <th>c210wht</th>\n      <th>ilor</th>\n      <th>meda</th>\n      <th>pdpe</th>\n      <th>tins</th>\n      <th>zhip19</th>\n    </tr>\n  </thead>\n  <tbody>\n    <tr>\n      <th>0</th>\n      <td>M</td>\n      <td>N</td>\n      <td>N</td>\n      <td>N</td>\n      <td>N</td>\n      <td>N</td>\n      <td>N</td>\n      <td>N</td>\n      <td>N</td>\n      <td>N</td>\n      <td>...</td>\n      <td>52</td>\n      <td>65</td>\n      <td>71.0</td>\n      <td>22</td>\n      <td>79.0</td>\n      <td>15.0</td>\n      <td>64.0</td>\n      <td>42</td>\n      <td>8</td>\n      <td>8</td>\n    </tr>\n    <tr>\n      <th>1</th>\n      <td>M</td>\n      <td>N</td>\n      <td>N</td>\n      <td>N</td>\n      <td>N</td>\n      <td>N</td>\n      <td>N</td>\n      <td>N</td>\n      <td>N</td>\n      <td>N</td>\n      <td>...</td>\n      <td>44</td>\n      <td>81</td>\n      <td>99.0</td>\n      <td>37</td>\n      <td>65.0</td>\n      <td>17.0</td>\n      <td>61.0</td>\n      <td>46</td>\n      <td>6</td>\n      <td>3</td>\n    </tr>\n    <tr>\n      <th>17</th>\n      <td>F</td>\n      <td>N</td>\n      <td>N</td>\n      <td>N</td>\n      <td>N</td>\n      <td>N</td>\n      <td>N</td>\n      <td>N</td>\n      <td>N</td>\n      <td>N</td>\n      <td>...</td>\n      <td>63</td>\n      <td>93</td>\n      <td>99.0</td>\n      <td>41</td>\n      <td>68.0</td>\n      <td>19.0</td>\n      <td>35.0</td>\n      <td>68</td>\n      <td>11</td>\n      <td>9</td>\n    </tr>\n    <tr>\n      <th>18</th>\n      <td>F</td>\n      <td>N</td>\n      <td>N</td>\n      <td>N</td>\n      <td>N</td>\n      <td>N</td>\n      <td>N</td>\n      <td>N</td>\n      <td>N</td>\n      <td>N</td>\n      <td>...</td>\n      <td>61</td>\n      <td>86</td>\n      <td>98.0</td>\n      <td>28</td>\n      <td>82.0</td>\n      <td>19.0</td>\n      <td>64.0</td>\n      <td>42</td>\n      <td>6</td>\n      <td>8</td>\n    </tr>\n    <tr>\n      <th>19</th>\n      <td>F</td>\n      <td>Y</td>\n      <td>Y</td>\n      <td>N</td>\n      <td>Y</td>\n      <td>Y</td>\n      <td>N</td>\n      <td>N</td>\n      <td>Y</td>\n      <td>N</td>\n      <td>...</td>\n      <td>41</td>\n      <td>77</td>\n      <td>99.0</td>\n      <td>50</td>\n      <td>55.0</td>\n      <td>19.0</td>\n      <td>61.0</td>\n      <td>46</td>\n      <td>11</td>\n      <td>0</td>\n    </tr>\n  </tbody>\n</table>\n<p>5 rows × 49 columns</p>\n</div>"
     },
     "execution_count": 5,
     "metadata": {},
     "output_type": "execute_result"
    }
   ],
   "source": [
    "#分割标签\n",
    "labels = df1.pop('resp_flag')\n",
    "df1.head()"
   ],
   "metadata": {
    "collapsed": false
   }
  },
  {
   "cell_type": "code",
   "execution_count": 4,
   "outputs": [],
   "source": [
    "#数据预处理\n",
    "#,重复值 df.duplicated().sum()\n",
    "#缺失值处理,\n",
    "df1 = df.dropna()\n",
    "#异常值"
   ],
   "metadata": {
    "collapsed": false
   }
  },
  {
   "cell_type": "code",
   "execution_count": 13,
   "outputs": [
    {
     "name": "stdout",
     "output_type": "stream",
     "text": [
      "<class 'pandas.core.frame.DataFrame'>\n",
      "RangeIndex: 43666 entries, 0 to 43665\n",
      "Data columns (total 50 columns):\n",
      " #   Column     Non-Null Count  Dtype  \n",
      "---  ------     --------------  -----  \n",
      " 0   resp_flag  43666 non-null  int64  \n",
      " 1   GEND       43666 non-null  object \n",
      " 2   AART       43666 non-null  object \n",
      " 3   ADBT       43666 non-null  object \n",
      " 4   ADEP       43666 non-null  object \n",
      " 5   AHBP       43666 non-null  object \n",
      " 6   AHCH       43666 non-null  object \n",
      " 7   ARES       43666 non-null  object \n",
      " 8   AHRT       43666 non-null  object \n",
      " 9   ADGS       43666 non-null  object \n",
      " 10  AHRL       43666 non-null  object \n",
      " 11  AVIS       43666 non-null  object \n",
      " 12  BANK       43666 non-null  object \n",
      " 13  FINI       43666 non-null  object \n",
      " 14  INLI       43666 non-null  object \n",
      " 15  INMEDI     43666 non-null  object \n",
      " 16  INVE       43666 non-null  object \n",
      " 17  IOLP       43666 non-null  object \n",
      " 18  ONLA       43666 non-null  object \n",
      " 19  SGFA       43666 non-null  object \n",
      " 20  SGLL       43666 non-null  object \n",
      " 21  SGOE       43666 non-null  object \n",
      " 22  SGSE       43666 non-null  object \n",
      " 23  SGTC       43666 non-null  object \n",
      " 24  NOC19      43666 non-null  int64  \n",
      " 25  NAH19      43666 non-null  int64  \n",
      " 26  age        43662 non-null  float64\n",
      " 27  c210apvt   43666 non-null  int64  \n",
      " 28  c210b200   43661 non-null  float64\n",
      " 29  c210blu    43666 non-null  int64  \n",
      " 30  c210bpvt   43666 non-null  int64  \n",
      " 31  c210cip    43664 non-null  float64\n",
      " 32  c210ebi    43666 non-null  int64  \n",
      " 33  c210hmi    43659 non-null  float64\n",
      " 34  c210hva    43651 non-null  float64\n",
      " 35  c210kses   43666 non-null  int64  \n",
      " 36  c210mah    43651 non-null  float64\n",
      " 37  c210mob    43666 non-null  int64  \n",
      " 38  c210mys    43666 non-null  int64  \n",
      " 39  c210pdv    43666 non-null  int64  \n",
      " 40  c210pmr    43666 non-null  int64  \n",
      " 41  c210poo    43666 non-null  int64  \n",
      " 42  c210psu    43643 non-null  float64\n",
      " 43  c210pwc    43666 non-null  int64  \n",
      " 44  c210wht    43652 non-null  float64\n",
      " 45  ilor       43660 non-null  float64\n",
      " 46  meda       43651 non-null  float64\n",
      " 47  pdpe       43666 non-null  int64  \n",
      " 48  tins       43666 non-null  int64  \n",
      " 49  zhip19     43666 non-null  int64  \n",
      "dtypes: float64(10), int64(17), object(23)\n",
      "memory usage: 16.7+ MB\n"
     ]
    }
   ],
   "source": [
    "df.info()"
   ],
   "metadata": {
    "collapsed": false
   }
  },
  {
   "cell_type": "code",
   "execution_count": 3,
   "outputs": [
    {
     "data": {
      "text/plain": "   resp_flag GEND AART ADBT ADEP AHBP AHCH ARES AHRT ADGS  ... c210pmr  \\\n0          0    M    N    N    N    N    N    N    N    N  ...      52   \n1          0    M    N    N    N    N    N    N    N    N  ...      44   \n2          0    F    N    N    N    N    N    N    N    N  ...      38   \n3          0    F    N    N    N    N    N    N    N    N  ...      45   \n4          0    F    N    N    N    N    N    N    N    N  ...      32   \n\n  c210poo c210psu c210pwc c210wht  ilor  meda pdpe tins zhip19  \n0      65    71.0      22    79.0  15.0  64.0   42    8      8  \n1      81    99.0      37    65.0  17.0  61.0   46    6      3  \n2      44    62.0      44    47.0  20.0  61.0   46    7      3  \n3      71    99.0      39    71.0   4.0  62.0   37    8      9  \n4      13    36.0      15    65.0   9.0   NaN   37    4      3  \n\n[5 rows x 50 columns]",
      "text/html": "<div>\n<style scoped>\n    .dataframe tbody tr th:only-of-type {\n        vertical-align: middle;\n    }\n\n    .dataframe tbody tr th {\n        vertical-align: top;\n    }\n\n    .dataframe thead th {\n        text-align: right;\n    }\n</style>\n<table border=\"1\" class=\"dataframe\">\n  <thead>\n    <tr style=\"text-align: right;\">\n      <th></th>\n      <th>resp_flag</th>\n      <th>GEND</th>\n      <th>AART</th>\n      <th>ADBT</th>\n      <th>ADEP</th>\n      <th>AHBP</th>\n      <th>AHCH</th>\n      <th>ARES</th>\n      <th>AHRT</th>\n      <th>ADGS</th>\n      <th>...</th>\n      <th>c210pmr</th>\n      <th>c210poo</th>\n      <th>c210psu</th>\n      <th>c210pwc</th>\n      <th>c210wht</th>\n      <th>ilor</th>\n      <th>meda</th>\n      <th>pdpe</th>\n      <th>tins</th>\n      <th>zhip19</th>\n    </tr>\n  </thead>\n  <tbody>\n    <tr>\n      <th>0</th>\n      <td>0</td>\n      <td>M</td>\n      <td>N</td>\n      <td>N</td>\n      <td>N</td>\n      <td>N</td>\n      <td>N</td>\n      <td>N</td>\n      <td>N</td>\n      <td>N</td>\n      <td>...</td>\n      <td>52</td>\n      <td>65</td>\n      <td>71.0</td>\n      <td>22</td>\n      <td>79.0</td>\n      <td>15.0</td>\n      <td>64.0</td>\n      <td>42</td>\n      <td>8</td>\n      <td>8</td>\n    </tr>\n    <tr>\n      <th>1</th>\n      <td>0</td>\n      <td>M</td>\n      <td>N</td>\n      <td>N</td>\n      <td>N</td>\n      <td>N</td>\n      <td>N</td>\n      <td>N</td>\n      <td>N</td>\n      <td>N</td>\n      <td>...</td>\n      <td>44</td>\n      <td>81</td>\n      <td>99.0</td>\n      <td>37</td>\n      <td>65.0</td>\n      <td>17.0</td>\n      <td>61.0</td>\n      <td>46</td>\n      <td>6</td>\n      <td>3</td>\n    </tr>\n    <tr>\n      <th>2</th>\n      <td>0</td>\n      <td>F</td>\n      <td>N</td>\n      <td>N</td>\n      <td>N</td>\n      <td>N</td>\n      <td>N</td>\n      <td>N</td>\n      <td>N</td>\n      <td>N</td>\n      <td>...</td>\n      <td>38</td>\n      <td>44</td>\n      <td>62.0</td>\n      <td>44</td>\n      <td>47.0</td>\n      <td>20.0</td>\n      <td>61.0</td>\n      <td>46</td>\n      <td>7</td>\n      <td>3</td>\n    </tr>\n    <tr>\n      <th>3</th>\n      <td>0</td>\n      <td>F</td>\n      <td>N</td>\n      <td>N</td>\n      <td>N</td>\n      <td>N</td>\n      <td>N</td>\n      <td>N</td>\n      <td>N</td>\n      <td>N</td>\n      <td>...</td>\n      <td>45</td>\n      <td>71</td>\n      <td>99.0</td>\n      <td>39</td>\n      <td>71.0</td>\n      <td>4.0</td>\n      <td>62.0</td>\n      <td>37</td>\n      <td>8</td>\n      <td>9</td>\n    </tr>\n    <tr>\n      <th>4</th>\n      <td>0</td>\n      <td>F</td>\n      <td>N</td>\n      <td>N</td>\n      <td>N</td>\n      <td>N</td>\n      <td>N</td>\n      <td>N</td>\n      <td>N</td>\n      <td>N</td>\n      <td>...</td>\n      <td>32</td>\n      <td>13</td>\n      <td>36.0</td>\n      <td>15</td>\n      <td>65.0</td>\n      <td>9.0</td>\n      <td>NaN</td>\n      <td>37</td>\n      <td>4</td>\n      <td>3</td>\n    </tr>\n  </tbody>\n</table>\n<p>5 rows × 50 columns</p>\n</div>"
     },
     "execution_count": 3,
     "metadata": {},
     "output_type": "execute_result"
    }
   ],
   "source": [
    "#AdaBoost,adaptive bootsing缩写，可以自适应更新（包括样本权重和函数权重），可以直接指定训练次数，\n",
    "#指定错误率，当达到时就会自行停止\n",
    "#,1,计算权重 ，2，计算错误率\n",
    "df = pd.read_csv('保险数据_全部数据.csv')\n",
    "df.head()"
   ],
   "metadata": {
    "collapsed": false
   }
  },
  {
   "cell_type": "code",
   "execution_count": 2,
   "outputs": [],
   "source": [
    "import os\n",
    "os.chdir('C:\\Data\\Jupyter_file\\机器学习')"
   ],
   "metadata": {
    "collapsed": false
   }
  },
  {
   "cell_type": "code",
   "execution_count": 1,
   "outputs": [],
   "source": [
    "from IPython.core.interactiveshell import InteractiveShell\n",
    "InteractiveShell.ast_node_interactivity = \"all\"\n",
    "\n",
    "import numpy as np\n",
    "import pandas as pd\n",
    "\n",
    "import warnings\n",
    "warnings.filterwarnings(\"ignore\")\n",
    "# SSE： 残差平方和，回归树的天然缺陷：不能做超出训练集外的预测\n",
    "# 残差是这个模型没有拟合到的信息"
   ],
   "metadata": {
    "collapsed": false
   }
  }
 ],
 "metadata": {
  "kernelspec": {
   "display_name": "Python 3",
   "language": "python",
   "name": "python3"
  },
  "language_info": {
   "codemirror_mode": {
    "name": "ipython",
    "version": 2
   },
   "file_extension": ".py",
   "mimetype": "text/x-python",
   "name": "python",
   "nbconvert_exporter": "python",
   "pygments_lexer": "ipython2",
   "version": "2.7.6"
  }
 },
 "nbformat": 4,
 "nbformat_minor": 0
}
