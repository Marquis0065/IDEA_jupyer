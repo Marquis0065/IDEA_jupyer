{
 "cells": [
  {
   "cell_type": "code",
   "execution_count": 71,
   "outputs": [
    {
     "data": {
      "text/plain": "1.3663586097888587"
     },
     "execution_count": 71,
     "metadata": {},
     "output_type": "execute_result"
    }
   ],
   "source": [
    "#待要推荐的用户是谁\n",
    "#选定你前几个朋友\n",
    "#推荐前几个商品\n",
    "k=2 #前几个端口\n",
    "user_id=2 #目标客户\n",
    "item_id=2  #端口\n",
    "cal_recommend_index(2,1,4,similar_matrix=similar_matrix,up_matrix=up_matrix)"
   ],
   "metadata": {
    "collapsed": false
   }
  },
  {
   "cell_type": "code",
   "execution_count": 70,
   "outputs": [],
   "source": [
    "#定义函数\n",
    "def cal_recommend_index(k,user_id,item_id,similar_matrix,up_matrix):\n",
    "    similar_k_users=similar_matrix.loc[user_id,:].sort_values(ascending=False)[1:k+1].sort_index()\n",
    "    similar_id_values=up_matrix.loc[similar_k_users.index,item_id]\n",
    "    u,v=similar_k_users,similar_id_values\n",
    "    above=float(u@v)\n",
    "    if(v==0).all():\n",
    "        return 0\n",
    "    below=float(u.sum())\n",
    "    return above/below"
   ],
   "metadata": {
    "collapsed": false
   }
  },
  {
   "cell_type": "code",
   "execution_count": 69,
   "outputs": [
    {
     "data": {
      "text/plain": "1.3522384735811626"
     },
     "execution_count": 69,
     "metadata": {},
     "output_type": "execute_result"
    }
   ],
   "source": [
    "#计算预测的分值\n",
    "#计算\n",
    "u,v=similar_k_users,similar_id_values\n",
    "above=float(u@v)\n",
    "below=float(u.sum())\n",
    "score=above/below\n",
    "score"
   ],
   "metadata": {
    "collapsed": false
   }
  },
  {
   "cell_type": "code",
   "execution_count": 68,
   "outputs": [
    {
     "data": {
      "text/plain": "user_id\n1    3.0\n3    0.0\nName: 2, dtype: float64"
     },
     "execution_count": 68,
     "metadata": {},
     "output_type": "execute_result"
    }
   ],
   "source": [
    "#根据这前看相似用户对目标评分\n",
    "similar_id_values=up_matrix.loc[similar_k_users.index,item_id]\n",
    "similar_id_values"
   ],
   "metadata": {
    "collapsed": false
   }
  },
  {
   "cell_type": "code",
   "execution_count": 67,
   "outputs": [
    {
     "data": {
      "text/plain": "user_id\n1    0.749269\n3    0.913017\nName: 2, dtype: float64"
     },
     "execution_count": 67,
     "metadata": {},
     "output_type": "execute_result"
    }
   ],
   "source": [
    "#推荐步骤，明确推荐的目标，选定前几个朋友，k = 2; user_id = 2;item_id = 2(商品个数）\n",
    "#找出前几个最相似的用户 k=2\n",
    "#找出最相似的前K个用户\n",
    "similar_k_users=similar_matrix.loc[user_id,:].sort_values(ascending=False)[1:k+1].sort_index()\n",
    "similar_k_users"
   ],
   "metadata": {
    "collapsed": false
   }
  },
  {
   "cell_type": "code",
   "execution_count": 61,
   "outputs": [
    {
     "data": {
      "text/plain": "user_id         1         2         3         4         5         6\nuser_id                                                            \n1        1.000000  0.749269  0.626680  0.218282  0.300000  0.000000\n2        0.749269  1.000000  0.913017  0.000000  0.000000  0.157960\n3        0.626680  0.913017  1.000000  0.000000  0.000000  0.403687\n4        0.218282  0.000000  0.000000  1.000000  0.970143  0.639137\n5        0.300000  0.000000  0.000000  0.970143  1.000000  0.527046\n6        0.000000  0.157960  0.403687  0.639137  0.527046  1.000000",
      "text/html": "<div>\n<style scoped>\n    .dataframe tbody tr th:only-of-type {\n        vertical-align: middle;\n    }\n\n    .dataframe tbody tr th {\n        vertical-align: top;\n    }\n\n    .dataframe thead th {\n        text-align: right;\n    }\n</style>\n<table border=\"1\" class=\"dataframe\">\n  <thead>\n    <tr style=\"text-align: right;\">\n      <th>user_id</th>\n      <th>1</th>\n      <th>2</th>\n      <th>3</th>\n      <th>4</th>\n      <th>5</th>\n      <th>6</th>\n    </tr>\n    <tr>\n      <th>user_id</th>\n      <th></th>\n      <th></th>\n      <th></th>\n      <th></th>\n      <th></th>\n      <th></th>\n    </tr>\n  </thead>\n  <tbody>\n    <tr>\n      <th>1</th>\n      <td>1.000000</td>\n      <td>0.749269</td>\n      <td>0.626680</td>\n      <td>0.218282</td>\n      <td>0.300000</td>\n      <td>0.000000</td>\n    </tr>\n    <tr>\n      <th>2</th>\n      <td>0.749269</td>\n      <td>1.000000</td>\n      <td>0.913017</td>\n      <td>0.000000</td>\n      <td>0.000000</td>\n      <td>0.157960</td>\n    </tr>\n    <tr>\n      <th>3</th>\n      <td>0.626680</td>\n      <td>0.913017</td>\n      <td>1.000000</td>\n      <td>0.000000</td>\n      <td>0.000000</td>\n      <td>0.403687</td>\n    </tr>\n    <tr>\n      <th>4</th>\n      <td>0.218282</td>\n      <td>0.000000</td>\n      <td>0.000000</td>\n      <td>1.000000</td>\n      <td>0.970143</td>\n      <td>0.639137</td>\n    </tr>\n    <tr>\n      <th>5</th>\n      <td>0.300000</td>\n      <td>0.000000</td>\n      <td>0.000000</td>\n      <td>0.970143</td>\n      <td>1.000000</td>\n      <td>0.527046</td>\n    </tr>\n    <tr>\n      <th>6</th>\n      <td>0.000000</td>\n      <td>0.157960</td>\n      <td>0.403687</td>\n      <td>0.639137</td>\n      <td>0.527046</td>\n      <td>1.000000</td>\n    </tr>\n  </tbody>\n</table>\n</div>"
     },
     "execution_count": 61,
     "metadata": {},
     "output_type": "execute_result"
    }
   ],
   "source": [
    "#相信性矩阵\n",
    "matrix_sim = pd.DataFrame(cosine_similarity(up_matrix),index=up_matrix.index,columns=up_matrix.index)\n",
    "matrix_sim"
   ],
   "metadata": {
    "collapsed": false
   }
  },
  {
   "cell_type": "code",
   "execution_count": 26,
   "outputs": [
    {
     "data": {
      "text/plain": "array([[1.        , 0.74926865, 0.62667956, 0.21828206, 0.3       ,\n        0.        ],\n       [0.74926865, 1.        , 0.91301651, 0.        , 0.        ,\n        0.1579597 ],\n       [0.62667956, 0.91301651, 1.        , 0.        , 0.        ,\n        0.40368671],\n       [0.21828206, 0.        , 0.        , 1.        , 0.9701425 ,\n        0.63913749],\n       [0.3       , 0.        , 0.        , 0.9701425 , 1.        ,\n        0.52704628],\n       [0.        , 0.1579597 , 0.40368671, 0.63913749, 0.52704628,\n        1.        ]])"
     },
     "execution_count": 26,
     "metadata": {},
     "output_type": "execute_result"
    }
   ],
   "source": [
    "cosine_similarity(up_matrix)"
   ],
   "metadata": {
    "collapsed": false
   }
  },
  {
   "cell_type": "code",
   "execution_count": 66,
   "outputs": [
    {
     "data": {
      "text/plain": "user_id         1         2         3         4         5         6\nuser_id                                                            \n1        1.000000  0.749269  0.626680  0.218282  0.300000  0.000000\n2        0.749269  1.000000  0.913017  0.000000  0.000000  0.157960\n3        0.626680  0.913017  1.000000  0.000000  0.000000  0.403687\n4        0.218282  0.000000  0.000000  1.000000  0.970143  0.639137\n5        0.300000  0.000000  0.000000  0.970143  1.000000  0.527046\n6        0.000000  0.157960  0.403687  0.639137  0.527046  1.000000",
      "text/html": "<div>\n<style scoped>\n    .dataframe tbody tr th:only-of-type {\n        vertical-align: middle;\n    }\n\n    .dataframe tbody tr th {\n        vertical-align: top;\n    }\n\n    .dataframe thead th {\n        text-align: right;\n    }\n</style>\n<table border=\"1\" class=\"dataframe\">\n  <thead>\n    <tr style=\"text-align: right;\">\n      <th>user_id</th>\n      <th>1</th>\n      <th>2</th>\n      <th>3</th>\n      <th>4</th>\n      <th>5</th>\n      <th>6</th>\n    </tr>\n    <tr>\n      <th>user_id</th>\n      <th></th>\n      <th></th>\n      <th></th>\n      <th></th>\n      <th></th>\n      <th></th>\n    </tr>\n  </thead>\n  <tbody>\n    <tr>\n      <th>1</th>\n      <td>1.000000</td>\n      <td>0.749269</td>\n      <td>0.626680</td>\n      <td>0.218282</td>\n      <td>0.300000</td>\n      <td>0.000000</td>\n    </tr>\n    <tr>\n      <th>2</th>\n      <td>0.749269</td>\n      <td>1.000000</td>\n      <td>0.913017</td>\n      <td>0.000000</td>\n      <td>0.000000</td>\n      <td>0.157960</td>\n    </tr>\n    <tr>\n      <th>3</th>\n      <td>0.626680</td>\n      <td>0.913017</td>\n      <td>1.000000</td>\n      <td>0.000000</td>\n      <td>0.000000</td>\n      <td>0.403687</td>\n    </tr>\n    <tr>\n      <th>4</th>\n      <td>0.218282</td>\n      <td>0.000000</td>\n      <td>0.000000</td>\n      <td>1.000000</td>\n      <td>0.970143</td>\n      <td>0.639137</td>\n    </tr>\n    <tr>\n      <th>5</th>\n      <td>0.300000</td>\n      <td>0.000000</td>\n      <td>0.000000</td>\n      <td>0.970143</td>\n      <td>1.000000</td>\n      <td>0.527046</td>\n    </tr>\n    <tr>\n      <th>6</th>\n      <td>0.000000</td>\n      <td>0.157960</td>\n      <td>0.403687</td>\n      <td>0.639137</td>\n      <td>0.527046</td>\n      <td>1.000000</td>\n    </tr>\n  </tbody>\n</table>\n</div>"
     },
     "execution_count": 66,
     "metadata": {},
     "output_type": "execute_result"
    }
   ],
   "source": [
    "similar_matrix=pd.DataFrame(cosine_similarity(up_matrix),index=up_matrix.index,columns=up_matrix.index)\n",
    "#待要推荐的用户是谁\n",
    "similar_matrix"
   ],
   "metadata": {
    "collapsed": false
   }
  },
  {
   "cell_type": "code",
   "execution_count": 65,
   "outputs": [
    {
     "data": {
      "text/plain": "product_id    1    2    3    4    5    6\nuser_id                                 \n1           4.0  3.0  0.0  0.0  5.0  0.0\n2           5.0  0.0  4.0  0.0  4.0  0.0\n3           4.0  0.0  5.0  3.0  4.0  0.0\n4           0.0  3.0  0.0  0.0  0.0  5.0\n5           0.0  4.0  0.0  0.0  0.0  4.0\n6           0.0  0.0  2.0  4.0  0.0  5.0",
      "text/html": "<div>\n<style scoped>\n    .dataframe tbody tr th:only-of-type {\n        vertical-align: middle;\n    }\n\n    .dataframe tbody tr th {\n        vertical-align: top;\n    }\n\n    .dataframe thead th {\n        text-align: right;\n    }\n</style>\n<table border=\"1\" class=\"dataframe\">\n  <thead>\n    <tr style=\"text-align: right;\">\n      <th>product_id</th>\n      <th>1</th>\n      <th>2</th>\n      <th>3</th>\n      <th>4</th>\n      <th>5</th>\n      <th>6</th>\n    </tr>\n    <tr>\n      <th>user_id</th>\n      <th></th>\n      <th></th>\n      <th></th>\n      <th></th>\n      <th></th>\n      <th></th>\n    </tr>\n  </thead>\n  <tbody>\n    <tr>\n      <th>1</th>\n      <td>4.0</td>\n      <td>3.0</td>\n      <td>0.0</td>\n      <td>0.0</td>\n      <td>5.0</td>\n      <td>0.0</td>\n    </tr>\n    <tr>\n      <th>2</th>\n      <td>5.0</td>\n      <td>0.0</td>\n      <td>4.0</td>\n      <td>0.0</td>\n      <td>4.0</td>\n      <td>0.0</td>\n    </tr>\n    <tr>\n      <th>3</th>\n      <td>4.0</td>\n      <td>0.0</td>\n      <td>5.0</td>\n      <td>3.0</td>\n      <td>4.0</td>\n      <td>0.0</td>\n    </tr>\n    <tr>\n      <th>4</th>\n      <td>0.0</td>\n      <td>3.0</td>\n      <td>0.0</td>\n      <td>0.0</td>\n      <td>0.0</td>\n      <td>5.0</td>\n    </tr>\n    <tr>\n      <th>5</th>\n      <td>0.0</td>\n      <td>4.0</td>\n      <td>0.0</td>\n      <td>0.0</td>\n      <td>0.0</td>\n      <td>4.0</td>\n    </tr>\n    <tr>\n      <th>6</th>\n      <td>0.0</td>\n      <td>0.0</td>\n      <td>2.0</td>\n      <td>4.0</td>\n      <td>0.0</td>\n      <td>5.0</td>\n    </tr>\n  </tbody>\n</table>\n</div>"
     },
     "execution_count": 65,
     "metadata": {},
     "output_type": "execute_result"
    }
   ],
   "source": [
    "\n",
    "#转换成我们需要的那种数据结构 透视表\n",
    "up_matrix=df.pivot_table(index=\"user_id\",columns=\"product_id\",values=\"score\")#填充一下空值\n",
    "up_matrix = up_matrix.fillna(0)\n",
    "up_matrix"
   ],
   "metadata": {
    "collapsed": false
   }
  },
  {
   "cell_type": "code",
   "execution_count": 11,
   "outputs": [
    {
     "data": {
      "text/plain": "(17, 3)"
     },
     "execution_count": 11,
     "metadata": {},
     "output_type": "execute_result"
    },
    {
     "data": {
      "text/plain": "   user_id  product_id  score\n0        1           1      4\n1        1           2      3\n2        1           5      5\n3        2           1      5\n4        2           3      4",
      "text/html": "<div>\n<style scoped>\n    .dataframe tbody tr th:only-of-type {\n        vertical-align: middle;\n    }\n\n    .dataframe tbody tr th {\n        vertical-align: top;\n    }\n\n    .dataframe thead th {\n        text-align: right;\n    }\n</style>\n<table border=\"1\" class=\"dataframe\">\n  <thead>\n    <tr style=\"text-align: right;\">\n      <th></th>\n      <th>user_id</th>\n      <th>product_id</th>\n      <th>score</th>\n    </tr>\n  </thead>\n  <tbody>\n    <tr>\n      <th>0</th>\n      <td>1</td>\n      <td>1</td>\n      <td>4</td>\n    </tr>\n    <tr>\n      <th>1</th>\n      <td>1</td>\n      <td>2</td>\n      <td>3</td>\n    </tr>\n    <tr>\n      <th>2</th>\n      <td>1</td>\n      <td>5</td>\n      <td>5</td>\n    </tr>\n    <tr>\n      <th>3</th>\n      <td>2</td>\n      <td>1</td>\n      <td>5</td>\n    </tr>\n    <tr>\n      <th>4</th>\n      <td>2</td>\n      <td>3</td>\n      <td>4</td>\n    </tr>\n  </tbody>\n</table>\n</div>"
     },
     "execution_count": 11,
     "metadata": {},
     "output_type": "execute_result"
    }
   ],
   "source": [
    "df = pd.read_csv('example.txt',header=None,names=['user_id',\n",
    "                                    'product_id','score'])\n",
    "df.shape\n",
    "df.head()"
   ],
   "metadata": {
    "collapsed": false
   }
  },
  {
   "cell_type": "code",
   "execution_count": 58,
   "outputs": [
    {
     "data": {
      "text/plain": "product_id    1    2    3    4    5    6\nuser_id                                 \n1           4.0  3.0  NaN  NaN  5.0  NaN\n2           5.0  NaN  4.0  NaN  4.0  NaN\n3           4.0  NaN  5.0  3.0  4.0  NaN\n4           NaN  3.0  NaN  NaN  NaN  5.0\n5           NaN  4.0  NaN  NaN  NaN  4.0\n6           NaN  NaN  2.0  4.0  NaN  5.0",
      "text/html": "<div>\n<style scoped>\n    .dataframe tbody tr th:only-of-type {\n        vertical-align: middle;\n    }\n\n    .dataframe tbody tr th {\n        vertical-align: top;\n    }\n\n    .dataframe thead th {\n        text-align: right;\n    }\n</style>\n<table border=\"1\" class=\"dataframe\">\n  <thead>\n    <tr style=\"text-align: right;\">\n      <th>product_id</th>\n      <th>1</th>\n      <th>2</th>\n      <th>3</th>\n      <th>4</th>\n      <th>5</th>\n      <th>6</th>\n    </tr>\n    <tr>\n      <th>user_id</th>\n      <th></th>\n      <th></th>\n      <th></th>\n      <th></th>\n      <th></th>\n      <th></th>\n    </tr>\n  </thead>\n  <tbody>\n    <tr>\n      <th>1</th>\n      <td>4.0</td>\n      <td>3.0</td>\n      <td>NaN</td>\n      <td>NaN</td>\n      <td>5.0</td>\n      <td>NaN</td>\n    </tr>\n    <tr>\n      <th>2</th>\n      <td>5.0</td>\n      <td>NaN</td>\n      <td>4.0</td>\n      <td>NaN</td>\n      <td>4.0</td>\n      <td>NaN</td>\n    </tr>\n    <tr>\n      <th>3</th>\n      <td>4.0</td>\n      <td>NaN</td>\n      <td>5.0</td>\n      <td>3.0</td>\n      <td>4.0</td>\n      <td>NaN</td>\n    </tr>\n    <tr>\n      <th>4</th>\n      <td>NaN</td>\n      <td>3.0</td>\n      <td>NaN</td>\n      <td>NaN</td>\n      <td>NaN</td>\n      <td>5.0</td>\n    </tr>\n    <tr>\n      <th>5</th>\n      <td>NaN</td>\n      <td>4.0</td>\n      <td>NaN</td>\n      <td>NaN</td>\n      <td>NaN</td>\n      <td>4.0</td>\n    </tr>\n    <tr>\n      <th>6</th>\n      <td>NaN</td>\n      <td>NaN</td>\n      <td>2.0</td>\n      <td>4.0</td>\n      <td>NaN</td>\n      <td>5.0</td>\n    </tr>\n  </tbody>\n</table>\n</div>"
     },
     "execution_count": 58,
     "metadata": {},
     "output_type": "execute_result"
    }
   ],
   "source": [
    "#转换数据结构 ，透视表,产生用户评分矩阵\n",
    "up_matrix = df.pivot_table(index='user_id',columns='product_id',\n",
    "               values='score')\n",
    "up_matrix"
   ],
   "metadata": {
    "collapsed": false
   }
  },
  {
   "cell_type": "code",
   "execution_count": 64,
   "outputs": [
    {
     "data": {
      "text/plain": "(17, 3)"
     },
     "execution_count": 64,
     "metadata": {},
     "output_type": "execute_result"
    },
    {
     "data": {
      "text/plain": "   user_id  product_id  score\n0        1           1      4\n1        1           2      3\n2        1           5      5\n3        2           1      5\n4        2           3      4",
      "text/html": "<div>\n<style scoped>\n    .dataframe tbody tr th:only-of-type {\n        vertical-align: middle;\n    }\n\n    .dataframe tbody tr th {\n        vertical-align: top;\n    }\n\n    .dataframe thead th {\n        text-align: right;\n    }\n</style>\n<table border=\"1\" class=\"dataframe\">\n  <thead>\n    <tr style=\"text-align: right;\">\n      <th></th>\n      <th>user_id</th>\n      <th>product_id</th>\n      <th>score</th>\n    </tr>\n  </thead>\n  <tbody>\n    <tr>\n      <th>0</th>\n      <td>1</td>\n      <td>1</td>\n      <td>4</td>\n    </tr>\n    <tr>\n      <th>1</th>\n      <td>1</td>\n      <td>2</td>\n      <td>3</td>\n    </tr>\n    <tr>\n      <th>2</th>\n      <td>1</td>\n      <td>5</td>\n      <td>5</td>\n    </tr>\n    <tr>\n      <th>3</th>\n      <td>2</td>\n      <td>1</td>\n      <td>5</td>\n    </tr>\n    <tr>\n      <th>4</th>\n      <td>2</td>\n      <td>3</td>\n      <td>4</td>\n    </tr>\n  </tbody>\n</table>\n</div>"
     },
     "execution_count": 64,
     "metadata": {},
     "output_type": "execute_result"
    }
   ],
   "source": [
    "df=pd.read_csv(\"example.txt\",header=None,names=[\"user_id\",\"product_id\",\"score\"])\n",
    "df.shape\n",
    "df.head()"
   ],
   "metadata": {
    "collapsed": false
   }
  },
  {
   "cell_type": "code",
   "execution_count": 9,
   "outputs": [],
   "source": [
    "import os\n",
    "os.chdir('C:\\Data\\Jupyter_file\\机器学习')"
   ],
   "metadata": {
    "collapsed": false
   }
  },
  {
   "cell_type": "code",
   "execution_count": 8,
   "outputs": [
    {
     "data": {
      "text/plain": "array([[1.        , 0.63817233],\n       [0.63817233, 1.        ]])"
     },
     "execution_count": 8,
     "metadata": {},
     "output_type": "execute_result"
    }
   ],
   "source": [
    "from sklearn.metrics.pairwise import  cosine_similarity\n",
    "cosine_similarity(u)"
   ],
   "metadata": {
    "collapsed": false
   }
  },
  {
   "cell_type": "code",
   "execution_count": 7,
   "outputs": [
    {
     "data": {
      "text/plain": "numpy.ndarray"
     },
     "execution_count": 7,
     "metadata": {},
     "output_type": "execute_result"
    },
    {
     "data": {
      "text/plain": "array([[3, 4, 0, 3, 5],\n       [5, 0, 0, 3, 1]])"
     },
     "execution_count": 7,
     "metadata": {},
     "output_type": "execute_result"
    }
   ],
   "source": [
    "#计算相似性\n",
    "u = np.array([[3,4,0,3,5],[5,0,0,3,1]])\n",
    "type(u)\n",
    "u"
   ],
   "metadata": {
    "collapsed": false
   }
  },
  {
   "cell_type": "code",
   "execution_count": 2,
   "outputs": [],
   "source": [
    "import numpy as np\n",
    "import pandas as pd\n",
    "import warnings\n",
    "warnings.filterwarnings('ignore')"
   ],
   "metadata": {
    "collapsed": false
   }
  },
  {
   "cell_type": "code",
   "execution_count": 6,
   "outputs": [],
   "source": [
    "#全部行输出\n",
    "from IPython.core.interactiveshell import InteractiveShell\n",
    "InteractiveShell.ast_node_interactivity = \"all\""
   ],
   "metadata": {
    "collapsed": false
   }
  }
 ],
 "metadata": {
  "kernelspec": {
   "display_name": "Python 3",
   "language": "python",
   "name": "python3"
  },
  "language_info": {
   "codemirror_mode": {
    "name": "ipython",
    "version": 2
   },
   "file_extension": ".py",
   "mimetype": "text/x-python",
   "name": "python",
   "nbconvert_exporter": "python",
   "pygments_lexer": "ipython2",
   "version": "2.7.6"
  }
 },
 "nbformat": 4,
 "nbformat_minor": 0
}
