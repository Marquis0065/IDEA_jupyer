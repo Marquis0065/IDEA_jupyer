{
 "cells": [
  {
   "cell_type": "code",
   "execution_count": 8,
   "outputs": [
    {
     "data": {
      "text/plain": "MLPClassifier(hidden_layer_sizes=(50, 25))",
      "text/html": "<style>#sk-container-id-1 {color: black;background-color: white;}#sk-container-id-1 pre{padding: 0;}#sk-container-id-1 div.sk-toggleable {background-color: white;}#sk-container-id-1 label.sk-toggleable__label {cursor: pointer;display: block;width: 100%;margin-bottom: 0;padding: 0.3em;box-sizing: border-box;text-align: center;}#sk-container-id-1 label.sk-toggleable__label-arrow:before {content: \"▸\";float: left;margin-right: 0.25em;color: #696969;}#sk-container-id-1 label.sk-toggleable__label-arrow:hover:before {color: black;}#sk-container-id-1 div.sk-estimator:hover label.sk-toggleable__label-arrow:before {color: black;}#sk-container-id-1 div.sk-toggleable__content {max-height: 0;max-width: 0;overflow: hidden;text-align: left;background-color: #f0f8ff;}#sk-container-id-1 div.sk-toggleable__content pre {margin: 0.2em;color: black;border-radius: 0.25em;background-color: #f0f8ff;}#sk-container-id-1 input.sk-toggleable__control:checked~div.sk-toggleable__content {max-height: 200px;max-width: 100%;overflow: auto;}#sk-container-id-1 input.sk-toggleable__control:checked~label.sk-toggleable__label-arrow:before {content: \"▾\";}#sk-container-id-1 div.sk-estimator input.sk-toggleable__control:checked~label.sk-toggleable__label {background-color: #d4ebff;}#sk-container-id-1 div.sk-label input.sk-toggleable__control:checked~label.sk-toggleable__label {background-color: #d4ebff;}#sk-container-id-1 input.sk-hidden--visually {border: 0;clip: rect(1px 1px 1px 1px);clip: rect(1px, 1px, 1px, 1px);height: 1px;margin: -1px;overflow: hidden;padding: 0;position: absolute;width: 1px;}#sk-container-id-1 div.sk-estimator {font-family: monospace;background-color: #f0f8ff;border: 1px dotted black;border-radius: 0.25em;box-sizing: border-box;margin-bottom: 0.5em;}#sk-container-id-1 div.sk-estimator:hover {background-color: #d4ebff;}#sk-container-id-1 div.sk-parallel-item::after {content: \"\";width: 100%;border-bottom: 1px solid gray;flex-grow: 1;}#sk-container-id-1 div.sk-label:hover label.sk-toggleable__label {background-color: #d4ebff;}#sk-container-id-1 div.sk-serial::before {content: \"\";position: absolute;border-left: 1px solid gray;box-sizing: border-box;top: 0;bottom: 0;left: 50%;z-index: 0;}#sk-container-id-1 div.sk-serial {display: flex;flex-direction: column;align-items: center;background-color: white;padding-right: 0.2em;padding-left: 0.2em;position: relative;}#sk-container-id-1 div.sk-item {position: relative;z-index: 1;}#sk-container-id-1 div.sk-parallel {display: flex;align-items: stretch;justify-content: center;background-color: white;position: relative;}#sk-container-id-1 div.sk-item::before, #sk-container-id-1 div.sk-parallel-item::before {content: \"\";position: absolute;border-left: 1px solid gray;box-sizing: border-box;top: 0;bottom: 0;left: 50%;z-index: -1;}#sk-container-id-1 div.sk-parallel-item {display: flex;flex-direction: column;z-index: 1;position: relative;background-color: white;}#sk-container-id-1 div.sk-parallel-item:first-child::after {align-self: flex-end;width: 50%;}#sk-container-id-1 div.sk-parallel-item:last-child::after {align-self: flex-start;width: 50%;}#sk-container-id-1 div.sk-parallel-item:only-child::after {width: 0;}#sk-container-id-1 div.sk-dashed-wrapped {border: 1px dashed gray;margin: 0 0.4em 0.5em 0.4em;box-sizing: border-box;padding-bottom: 0.4em;background-color: white;}#sk-container-id-1 div.sk-label label {font-family: monospace;font-weight: bold;display: inline-block;line-height: 1.2em;}#sk-container-id-1 div.sk-label-container {text-align: center;}#sk-container-id-1 div.sk-container {/* jupyter's `normalize.less` sets `[hidden] { display: none; }` but bootstrap.min.css set `[hidden] { display: none !important; }` so we also need the `!important` here to be able to override the default hidden behavior on the sphinx rendered scikit-learn.org. See: https://github.com/scikit-learn/scikit-learn/issues/21755 */display: inline-block !important;position: relative;}#sk-container-id-1 div.sk-text-repr-fallback {display: none;}</style><div id=\"sk-container-id-1\" class=\"sk-top-container\"><div class=\"sk-text-repr-fallback\"><pre>MLPClassifier(hidden_layer_sizes=(50, 25))</pre><b>In a Jupyter environment, please rerun this cell to show the HTML representation or trust the notebook. <br />On GitHub, the HTML representation is unable to render, please try loading this page with nbviewer.org.</b></div><div class=\"sk-container\" hidden><div class=\"sk-item\"><div class=\"sk-estimator sk-toggleable\"><input class=\"sk-toggleable__control sk-hidden--visually\" id=\"sk-estimator-id-1\" type=\"checkbox\" checked><label for=\"sk-estimator-id-1\" class=\"sk-toggleable__label sk-toggleable__label-arrow\">MLPClassifier</label><div class=\"sk-toggleable__content\"><pre>MLPClassifier(hidden_layer_sizes=(50, 25))</pre></div></div></div></div></div>"
     },
     "execution_count": 8,
     "metadata": {},
     "output_type": "execute_result"
    },
    {
     "name": "stdout",
     "output_type": "stream",
     "text": [
      "              precision    recall  f1-score   support\n",
      "\n",
      "           0       0.67      0.72      0.70      7832\n",
      "           1       0.53      0.48      0.51      5247\n",
      "\n",
      "    accuracy                           0.62     13079\n",
      "   macro avg       0.60      0.60      0.60     13079\n",
      "weighted avg       0.62      0.62      0.62     13079\n",
      "\n"
     ]
    }
   ],
   "source": [
    "# pip install jieba\n",
    "# pip install ruamel-yaml -i https://pypi.tuna.tsinghua.edu.cn/simple  训练神经网络\n",
    "# pip install pandas-profiling -i https://pypi.tuna.tsinghua.edu.cn/simple\n",
    "# pip install markupsafe -i https://pypi.tuna.tsinghua.edu.cn/simple\n",
    "# pip install community\n",
    "# pip install python-louvain\n",
    "from sklearn.neural_network import MLPClassifier   #导入多层感知器\n",
    "#  hidden_layer_sizes: 第一个隐藏层默认100，必须调整\n",
    "#  推荐第一个隐藏层特征数量的0.5~1.5倍；后面隐藏为前面数量的0.5~1倍\n",
    "# activation: 如果不设置，则是线性回归\n",
    "# solver='adam'(不一定收敛)自适应动量, 'sgd':随机递度（导数）下降，每次朝反方向走\n",
    " #‘lbfgs':拟牛顿法（改进牛顿法，准确高，速度最慢），导数也是牛顿搞出来的\n",
    " # 随机剃度下降（每次只用一份抽样数据，哪怕是很小的样本），一定可以收敛，速度就是快\n",
    "# adam:默认最优， 最大的缺点，不一定收敛\n",
    "# alpha = 0.001,正则，因为非结构数据不关心过拟合\n",
    "# batch_size = 'auto',一般2^n内存效率最高，128/256 每次抽样的样本数量 ，牛顿法则没有\n",
    "# learning_rate:　学习率(步长)，可以设置动态（初始学习率/根号下迭代次数）频数越来越小\n",
    "  # ‘constant'常数；‘invscaling'动态；‘adaptive'平进保持，如果二次连续迭代损失都没有下降，则以现在的学习率/5 ，\n",
    "\n",
    "# learning_rate_init=0.001默认常数\n",
    "# power_t =0.5\n",
    "# max_iter=200,最大迭代次数\n",
    "# 下面的表示：第一个隐藏层设置50个结点，每二个隐藏层设置25个节点（25条分割线）\n",
    "# 激活函数没有设置，则为线性回归\n",
    "mlp= MLPClassifier(hidden_layer_sizes=(50, 25), activation='relu',)\n",
    "mlp.fit(Xtrain, Ytrain)\n",
    "# 模型评估\n",
    "from sklearn.metrics import classification_report\n",
    "print(classification_report(Ytest, mlp.predict(Xtest)))"
   ],
   "metadata": {
    "collapsed": false
   }
  },
  {
   "cell_type": "code",
   "execution_count": 7,
   "outputs": [],
   "source": [
    "# 分割测试集\n",
    "from sklearn.model_selection import train_test_split\n",
    "Xtrain, Xtest, Ytrain, Ytest = train_test_split(df1, labels,\n",
    "                                                test_size=0.3,\n",
    "                                                random_state=42,\n",
    "                                                stratify=labels)"
   ],
   "metadata": {
    "collapsed": false
   }
  },
  {
   "cell_type": "code",
   "execution_count": 6,
   "outputs": [
    {
     "data": {
      "text/plain": "    GEND  AART  ADBT  ADEP  AHBP  AHCH  ARES  AHRT  ADGS  AHRL  ...   c210pmr  \\\n0      1     0     0     0     0     0     0     0     0     0  ...  0.560324   \n1      1     0     0     0     0     0     0     0     0     0  ... -0.020800   \n17     0     0     0     0     0     0     0     0     0     0  ...  1.359370   \n18     0     0     0     0     0     0     0     0     0     0  ...  1.214089   \n19     0     1     1     0     1     1     0     0     1     0  ... -0.238722   \n\n     c210poo   c210psu   c210pwc   c210wht      ilor      meda      pdpe  \\\n0   0.191098  0.097126 -0.943199  1.140569 -0.157096  0.840666 -1.029088   \n1   0.832694  1.015031  0.311303  0.226692 -0.052844  0.649298 -0.726187   \n17  1.313892  1.015031  0.645837  0.422523  0.051407 -1.009222  0.939765   \n18  1.033193  0.982249 -0.441398  1.336400  0.051407  0.840666 -1.029088   \n19  0.672295  1.015031  1.398539 -0.426078  0.051407  0.649298 -0.726187   \n\n        tins    zhip19  \n0   0.038023  1.163054  \n1  -0.523289 -0.455180  \n17  0.879990  1.486701  \n18 -0.523289  1.163054  \n19  0.879990 -1.426120  \n\n[5 rows x 49 columns]",
      "text/html": "<div>\n<style scoped>\n    .dataframe tbody tr th:only-of-type {\n        vertical-align: middle;\n    }\n\n    .dataframe tbody tr th {\n        vertical-align: top;\n    }\n\n    .dataframe thead th {\n        text-align: right;\n    }\n</style>\n<table border=\"1\" class=\"dataframe\">\n  <thead>\n    <tr style=\"text-align: right;\">\n      <th></th>\n      <th>GEND</th>\n      <th>AART</th>\n      <th>ADBT</th>\n      <th>ADEP</th>\n      <th>AHBP</th>\n      <th>AHCH</th>\n      <th>ARES</th>\n      <th>AHRT</th>\n      <th>ADGS</th>\n      <th>AHRL</th>\n      <th>...</th>\n      <th>c210pmr</th>\n      <th>c210poo</th>\n      <th>c210psu</th>\n      <th>c210pwc</th>\n      <th>c210wht</th>\n      <th>ilor</th>\n      <th>meda</th>\n      <th>pdpe</th>\n      <th>tins</th>\n      <th>zhip19</th>\n    </tr>\n  </thead>\n  <tbody>\n    <tr>\n      <th>0</th>\n      <td>1</td>\n      <td>0</td>\n      <td>0</td>\n      <td>0</td>\n      <td>0</td>\n      <td>0</td>\n      <td>0</td>\n      <td>0</td>\n      <td>0</td>\n      <td>0</td>\n      <td>...</td>\n      <td>0.560324</td>\n      <td>0.191098</td>\n      <td>0.097126</td>\n      <td>-0.943199</td>\n      <td>1.140569</td>\n      <td>-0.157096</td>\n      <td>0.840666</td>\n      <td>-1.029088</td>\n      <td>0.038023</td>\n      <td>1.163054</td>\n    </tr>\n    <tr>\n      <th>1</th>\n      <td>1</td>\n      <td>0</td>\n      <td>0</td>\n      <td>0</td>\n      <td>0</td>\n      <td>0</td>\n      <td>0</td>\n      <td>0</td>\n      <td>0</td>\n      <td>0</td>\n      <td>...</td>\n      <td>-0.020800</td>\n      <td>0.832694</td>\n      <td>1.015031</td>\n      <td>0.311303</td>\n      <td>0.226692</td>\n      <td>-0.052844</td>\n      <td>0.649298</td>\n      <td>-0.726187</td>\n      <td>-0.523289</td>\n      <td>-0.455180</td>\n    </tr>\n    <tr>\n      <th>17</th>\n      <td>0</td>\n      <td>0</td>\n      <td>0</td>\n      <td>0</td>\n      <td>0</td>\n      <td>0</td>\n      <td>0</td>\n      <td>0</td>\n      <td>0</td>\n      <td>0</td>\n      <td>...</td>\n      <td>1.359370</td>\n      <td>1.313892</td>\n      <td>1.015031</td>\n      <td>0.645837</td>\n      <td>0.422523</td>\n      <td>0.051407</td>\n      <td>-1.009222</td>\n      <td>0.939765</td>\n      <td>0.879990</td>\n      <td>1.486701</td>\n    </tr>\n    <tr>\n      <th>18</th>\n      <td>0</td>\n      <td>0</td>\n      <td>0</td>\n      <td>0</td>\n      <td>0</td>\n      <td>0</td>\n      <td>0</td>\n      <td>0</td>\n      <td>0</td>\n      <td>0</td>\n      <td>...</td>\n      <td>1.214089</td>\n      <td>1.033193</td>\n      <td>0.982249</td>\n      <td>-0.441398</td>\n      <td>1.336400</td>\n      <td>0.051407</td>\n      <td>0.840666</td>\n      <td>-1.029088</td>\n      <td>-0.523289</td>\n      <td>1.163054</td>\n    </tr>\n    <tr>\n      <th>19</th>\n      <td>0</td>\n      <td>1</td>\n      <td>1</td>\n      <td>0</td>\n      <td>1</td>\n      <td>1</td>\n      <td>0</td>\n      <td>0</td>\n      <td>1</td>\n      <td>0</td>\n      <td>...</td>\n      <td>-0.238722</td>\n      <td>0.672295</td>\n      <td>1.015031</td>\n      <td>1.398539</td>\n      <td>-0.426078</td>\n      <td>0.051407</td>\n      <td>0.649298</td>\n      <td>-0.726187</td>\n      <td>0.879990</td>\n      <td>-1.426120</td>\n    </tr>\n  </tbody>\n</table>\n<p>5 rows × 49 columns</p>\n</div>"
     },
     "execution_count": 6,
     "metadata": {},
     "output_type": "execute_result"
    }
   ],
   "source": [
    "# 应用神经网络前，必须进行数据标准化\n",
    "df = pd.read_csv('保险数据_全部数据.csv')\n",
    "df1 = df.dropna()\n",
    "#分割标签\n",
    "labels = df1.pop('resp_flag')\n",
    "# 数据编码,label这个库可以做数据编码\n",
    "# 分类型数据做数据编码\n",
    "# 数值型数据做标准化\n",
    "from sklearn.preprocessing import LabelEncoder\n",
    "from sklearn.preprocessing import StandardScaler\n",
    "LE= LabelEncoder()   # 编码\n",
    "scaler= StandardScaler()   # 标准化\n",
    "for i in df1.columns:\n",
    "    if df1[i].dtypes == \"object\":\n",
    "        df1[i]= LE.fit_transform(df1[i])\n",
    "    else:\n",
    "        df1[i]= scaler.fit_transform(pd.DataFrame(df1[i]))\n",
    "df1.head()"
   ],
   "metadata": {
    "collapsed": false
   }
  },
  {
   "cell_type": "code",
   "execution_count": null,
   "outputs": [],
   "source": [
    "# sklearn可以做简单的深度学习"
   ],
   "metadata": {
    "collapsed": false
   }
  },
  {
   "cell_type": "code",
   "execution_count": 3,
   "outputs": [
    {
     "data": {
      "text/plain": "Downloading:   0%|          | 0.00/669 [00:00<?, ?B/s]",
      "application/vnd.jupyter.widget-view+json": {
       "version_major": 2,
       "version_minor": 0,
       "model_id": "bc7586a0131d472c918dfe9085bee69c"
      }
     },
     "metadata": {},
     "output_type": "display_data"
    },
    {
     "data": {
      "text/plain": "Downloading:   0%|          | 0.00/1.30G [00:00<?, ?B/s]",
      "application/vnd.jupyter.widget-view+json": {
       "version_major": 2,
       "version_minor": 0,
       "model_id": "9399a50ba0ac49bfaa9f0b9f5ee4c54a"
      }
     },
     "metadata": {},
     "output_type": "display_data"
    },
    {
     "data": {
      "text/plain": "Downloading:   0%|          | 0.00/785 [00:00<?, ?B/s]",
      "application/vnd.jupyter.widget-view+json": {
       "version_major": 2,
       "version_minor": 0,
       "model_id": "8d76e24ea3d84cd1a3b0a5cc5f0836f3"
      }
     },
     "metadata": {},
     "output_type": "display_data"
    },
    {
     "data": {
      "text/plain": "Downloading:   0%|          | 0.00/409M [00:00<?, ?B/s]",
      "application/vnd.jupyter.widget-view+json": {
       "version_major": 2,
       "version_minor": 0,
       "model_id": "cab0cb39d5644c86a2cecfe88471949b"
      }
     },
     "metadata": {},
     "output_type": "display_data"
    }
   ],
   "source": [
    "from transformers import AutoModelForQuestionAnswering\n",
    "model = AutoModelForQuestionAnswering.from_pretrained('luhua/chinese_pretrain_mrc_macbert_large')\n",
    "from transformers import AutoModelForSequenceClassification\n",
    "model = AutoModelForSequenceClassification.from_pretrained('IDEA-CCNL/Erlangshen-Roberta-110M-Sentiment')\n"
   ],
   "metadata": {
    "collapsed": false
   }
  },
  {
   "cell_type": "code",
   "execution_count": 2,
   "outputs": [],
   "source": [
    "import os\n",
    "os.chdir('C:\\Data\\Jupyter_file\\机器学习')"
   ],
   "metadata": {
    "collapsed": false
   }
  },
  {
   "cell_type": "code",
   "execution_count": 1,
   "outputs": [],
   "source": [
    "from IPython.core.interactiveshell import InteractiveShell\n",
    "InteractiveShell.ast_node_interactivity = \"all\"\n",
    "\n",
    "import numpy as np\n",
    "import pandas as pd\n",
    "\n",
    "import warnings\n",
    "warnings.filterwarnings(\"ignore\")"
   ],
   "metadata": {
    "collapsed": false
   }
  }
 ],
 "metadata": {
  "kernelspec": {
   "display_name": "Python 3",
   "language": "python",
   "name": "python3"
  },
  "language_info": {
   "codemirror_mode": {
    "name": "ipython",
    "version": 2
   },
   "file_extension": ".py",
   "mimetype": "text/x-python",
   "name": "python",
   "nbconvert_exporter": "python",
   "pygments_lexer": "ipython2",
   "version": "2.7.6"
  }
 },
 "nbformat": 4,
 "nbformat_minor": 0
}
