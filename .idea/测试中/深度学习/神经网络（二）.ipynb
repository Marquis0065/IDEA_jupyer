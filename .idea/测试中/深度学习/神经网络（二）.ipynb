{
 "cells": [
  {
   "cell_type": "code",
   "execution_count": 102,
   "outputs": [
    {
     "data": {
      "text/plain": "0.6672007195049225"
     },
     "execution_count": 102,
     "metadata": {},
     "output_type": "execute_result"
    }
   ],
   "source": [
    "LR.score(x_test,y_test)"
   ],
   "metadata": {
    "collapsed": false
   }
  },
  {
   "cell_type": "code",
   "execution_count": 94,
   "outputs": [
    {
     "data": {
      "text/plain": "LinearRegression()",
      "text/html": "<style>#sk-container-id-1 {color: black;background-color: white;}#sk-container-id-1 pre{padding: 0;}#sk-container-id-1 div.sk-toggleable {background-color: white;}#sk-container-id-1 label.sk-toggleable__label {cursor: pointer;display: block;width: 100%;margin-bottom: 0;padding: 0.3em;box-sizing: border-box;text-align: center;}#sk-container-id-1 label.sk-toggleable__label-arrow:before {content: \"▸\";float: left;margin-right: 0.25em;color: #696969;}#sk-container-id-1 label.sk-toggleable__label-arrow:hover:before {color: black;}#sk-container-id-1 div.sk-estimator:hover label.sk-toggleable__label-arrow:before {color: black;}#sk-container-id-1 div.sk-toggleable__content {max-height: 0;max-width: 0;overflow: hidden;text-align: left;background-color: #f0f8ff;}#sk-container-id-1 div.sk-toggleable__content pre {margin: 0.2em;color: black;border-radius: 0.25em;background-color: #f0f8ff;}#sk-container-id-1 input.sk-toggleable__control:checked~div.sk-toggleable__content {max-height: 200px;max-width: 100%;overflow: auto;}#sk-container-id-1 input.sk-toggleable__control:checked~label.sk-toggleable__label-arrow:before {content: \"▾\";}#sk-container-id-1 div.sk-estimator input.sk-toggleable__control:checked~label.sk-toggleable__label {background-color: #d4ebff;}#sk-container-id-1 div.sk-label input.sk-toggleable__control:checked~label.sk-toggleable__label {background-color: #d4ebff;}#sk-container-id-1 input.sk-hidden--visually {border: 0;clip: rect(1px 1px 1px 1px);clip: rect(1px, 1px, 1px, 1px);height: 1px;margin: -1px;overflow: hidden;padding: 0;position: absolute;width: 1px;}#sk-container-id-1 div.sk-estimator {font-family: monospace;background-color: #f0f8ff;border: 1px dotted black;border-radius: 0.25em;box-sizing: border-box;margin-bottom: 0.5em;}#sk-container-id-1 div.sk-estimator:hover {background-color: #d4ebff;}#sk-container-id-1 div.sk-parallel-item::after {content: \"\";width: 100%;border-bottom: 1px solid gray;flex-grow: 1;}#sk-container-id-1 div.sk-label:hover label.sk-toggleable__label {background-color: #d4ebff;}#sk-container-id-1 div.sk-serial::before {content: \"\";position: absolute;border-left: 1px solid gray;box-sizing: border-box;top: 0;bottom: 0;left: 50%;z-index: 0;}#sk-container-id-1 div.sk-serial {display: flex;flex-direction: column;align-items: center;background-color: white;padding-right: 0.2em;padding-left: 0.2em;position: relative;}#sk-container-id-1 div.sk-item {position: relative;z-index: 1;}#sk-container-id-1 div.sk-parallel {display: flex;align-items: stretch;justify-content: center;background-color: white;position: relative;}#sk-container-id-1 div.sk-item::before, #sk-container-id-1 div.sk-parallel-item::before {content: \"\";position: absolute;border-left: 1px solid gray;box-sizing: border-box;top: 0;bottom: 0;left: 50%;z-index: -1;}#sk-container-id-1 div.sk-parallel-item {display: flex;flex-direction: column;z-index: 1;position: relative;background-color: white;}#sk-container-id-1 div.sk-parallel-item:first-child::after {align-self: flex-end;width: 50%;}#sk-container-id-1 div.sk-parallel-item:last-child::after {align-self: flex-start;width: 50%;}#sk-container-id-1 div.sk-parallel-item:only-child::after {width: 0;}#sk-container-id-1 div.sk-dashed-wrapped {border: 1px dashed gray;margin: 0 0.4em 0.5em 0.4em;box-sizing: border-box;padding-bottom: 0.4em;background-color: white;}#sk-container-id-1 div.sk-label label {font-family: monospace;font-weight: bold;display: inline-block;line-height: 1.2em;}#sk-container-id-1 div.sk-label-container {text-align: center;}#sk-container-id-1 div.sk-container {/* jupyter's `normalize.less` sets `[hidden] { display: none; }` but bootstrap.min.css set `[hidden] { display: none !important; }` so we also need the `!important` here to be able to override the default hidden behavior on the sphinx rendered scikit-learn.org. See: https://github.com/scikit-learn/scikit-learn/issues/21755 */display: inline-block !important;position: relative;}#sk-container-id-1 div.sk-text-repr-fallback {display: none;}</style><div id=\"sk-container-id-1\" class=\"sk-top-container\"><div class=\"sk-text-repr-fallback\"><pre>LinearRegression()</pre><b>In a Jupyter environment, please rerun this cell to show the HTML representation or trust the notebook. <br />On GitHub, the HTML representation is unable to render, please try loading this page with nbviewer.org.</b></div><div class=\"sk-container\" hidden><div class=\"sk-item\"><div class=\"sk-estimator sk-toggleable\"><input class=\"sk-toggleable__control sk-hidden--visually\" id=\"sk-estimator-id-1\" type=\"checkbox\" checked><label for=\"sk-estimator-id-1\" class=\"sk-toggleable__label sk-toggleable__label-arrow\">LinearRegression</label><div class=\"sk-toggleable__content\"><pre>LinearRegression()</pre></div></div></div></div></div>"
     },
     "execution_count": 94,
     "metadata": {},
     "output_type": "execute_result"
    },
    {
     "ename": "TypeError",
     "evalue": "RegressorMixin.score() missing 2 required positional arguments: 'X' and 'y'",
     "output_type": "error",
     "traceback": [
      "\u001B[1;31m---------------------------------------------------------------------------\u001B[0m",
      "\u001B[1;31mTypeError\u001B[0m                                 Traceback (most recent call last)",
      "Cell \u001B[1;32mIn[94], line 6\u001B[0m\n\u001B[0;32m      4\u001B[0m LR \u001B[38;5;241m=\u001B[39m LinearRegression()\n\u001B[0;32m      5\u001B[0m LR\u001B[38;5;241m.\u001B[39mfit(x_train,y_train)\n\u001B[1;32m----> 6\u001B[0m \u001B[43mLR\u001B[49m\u001B[38;5;241;43m.\u001B[39;49m\u001B[43mscore\u001B[49m\u001B[43m(\u001B[49m\u001B[43m)\u001B[49m\n",
      "\u001B[1;31mTypeError\u001B[0m: RegressorMixin.score() missing 2 required positional arguments: 'X' and 'y'"
     ]
    }
   ],
   "source": [
    "#拟合模型\n",
    "formula = '销售价格~销售日期+卧室数+浴室数+房屋面积+停车面积+楼层数+房屋评分+建筑面积+地下室面积+建筑年份+纬度+经度'\n",
    "from sklearn.linear_model import LinearRegression\n",
    "LR = LinearRegression()\n",
    "LR.fit(x_train,y_train)"
   ],
   "metadata": {
    "collapsed": false
   }
  },
  {
   "cell_type": "code",
   "execution_count": 82,
   "outputs": [
    {
     "data": {
      "text/plain": "                              销售日期    销售价格  卧室数   浴室数  房屋面积           停车面积  \\\n4786 1970-01-01 00:00:00.020210502  612500    4  2.50  2730   13867.399781   \n3539 1970-01-01 00:00:00.020210502  440000    4  2.25  2160    8119.000000   \n3566 1970-01-01 00:00:00.020210502  790000    3  2.50  2600    4750.000000   \n7630 1970-01-01 00:00:00.020210502  470000    5  2.50  2210    9655.000000   \n7090 1970-01-01 00:00:00.020210502  491500    4  1.75  2190  125452.000000   \n\n      楼层数  房屋评分  建筑面积   地下室面积  建筑年份       纬度       经度  \n4786  2.0     9  2730     0.0  1991  47.7419 -122.205  \n3539  1.0     8  1080  1080.0  1966  47.5443 -122.177  \n3566  1.0     9  1700   900.0  1951  47.6833 -122.400  \n7630  1.0     8  1460   750.0  1976  47.7698 -122.222  \n7090  1.0     9  2190     0.0  1968  47.2703 -122.069  ",
      "text/html": "<div>\n<style scoped>\n    .dataframe tbody tr th:only-of-type {\n        vertical-align: middle;\n    }\n\n    .dataframe tbody tr th {\n        vertical-align: top;\n    }\n\n    .dataframe thead th {\n        text-align: right;\n    }\n</style>\n<table border=\"1\" class=\"dataframe\">\n  <thead>\n    <tr style=\"text-align: right;\">\n      <th></th>\n      <th>销售日期</th>\n      <th>销售价格</th>\n      <th>卧室数</th>\n      <th>浴室数</th>\n      <th>房屋面积</th>\n      <th>停车面积</th>\n      <th>楼层数</th>\n      <th>房屋评分</th>\n      <th>建筑面积</th>\n      <th>地下室面积</th>\n      <th>建筑年份</th>\n      <th>纬度</th>\n      <th>经度</th>\n    </tr>\n  </thead>\n  <tbody>\n    <tr>\n      <th>4786</th>\n      <td>1970-01-01 00:00:00.020210502</td>\n      <td>612500</td>\n      <td>4</td>\n      <td>2.50</td>\n      <td>2730</td>\n      <td>13867.399781</td>\n      <td>2.0</td>\n      <td>9</td>\n      <td>2730</td>\n      <td>0.0</td>\n      <td>1991</td>\n      <td>47.7419</td>\n      <td>-122.205</td>\n    </tr>\n    <tr>\n      <th>3539</th>\n      <td>1970-01-01 00:00:00.020210502</td>\n      <td>440000</td>\n      <td>4</td>\n      <td>2.25</td>\n      <td>2160</td>\n      <td>8119.000000</td>\n      <td>1.0</td>\n      <td>8</td>\n      <td>1080</td>\n      <td>1080.0</td>\n      <td>1966</td>\n      <td>47.5443</td>\n      <td>-122.177</td>\n    </tr>\n    <tr>\n      <th>3566</th>\n      <td>1970-01-01 00:00:00.020210502</td>\n      <td>790000</td>\n      <td>3</td>\n      <td>2.50</td>\n      <td>2600</td>\n      <td>4750.000000</td>\n      <td>1.0</td>\n      <td>9</td>\n      <td>1700</td>\n      <td>900.0</td>\n      <td>1951</td>\n      <td>47.6833</td>\n      <td>-122.400</td>\n    </tr>\n    <tr>\n      <th>7630</th>\n      <td>1970-01-01 00:00:00.020210502</td>\n      <td>470000</td>\n      <td>5</td>\n      <td>2.50</td>\n      <td>2210</td>\n      <td>9655.000000</td>\n      <td>1.0</td>\n      <td>8</td>\n      <td>1460</td>\n      <td>750.0</td>\n      <td>1976</td>\n      <td>47.7698</td>\n      <td>-122.222</td>\n    </tr>\n    <tr>\n      <th>7090</th>\n      <td>1970-01-01 00:00:00.020210502</td>\n      <td>491500</td>\n      <td>4</td>\n      <td>1.75</td>\n      <td>2190</td>\n      <td>125452.000000</td>\n      <td>1.0</td>\n      <td>9</td>\n      <td>2190</td>\n      <td>0.0</td>\n      <td>1968</td>\n      <td>47.2703</td>\n      <td>-122.069</td>\n    </tr>\n  </tbody>\n</table>\n</div>"
     },
     "execution_count": 82,
     "metadata": {},
     "output_type": "execute_result"
    },
    {
     "data": {
      "text/plain": "                              销售日期     销售价格  卧室数   浴室数  房屋面积          停车面积  \\\n5278 1970-01-01 00:00:00.020220310   704111    4  2.75  2460   9520.000000   \n7318 1970-01-01 00:00:00.020220310  1700000    5  2.75  3810   9360.000000   \n2294 1970-01-01 00:00:00.020220310   549950    4  2.50  2230  13867.399781   \n3997 1970-01-01 00:00:00.020220310   565000    3  1.75  1130   5111.000000   \n6370 1970-01-01 00:00:00.020220310   610000    4  2.50  2980   5896.000000   \n\n      楼层数  房屋评分  建筑面积   地下室面积  建筑年份       纬度       经度  \n5278  1.0     8  1680   780.0  1976  47.7021 -122.233  \n7318  2.0    10  3810     0.0  2014  47.6039 -122.194  \n2294  1.0     7  1180  1050.0  1981  47.6305 -122.034  \n3997  1.0     7   930   200.0  1942  47.6379 -122.400  \n6370  2.0     8  2980     0.0  2001  47.6872 -122.036  ",
      "text/html": "<div>\n<style scoped>\n    .dataframe tbody tr th:only-of-type {\n        vertical-align: middle;\n    }\n\n    .dataframe tbody tr th {\n        vertical-align: top;\n    }\n\n    .dataframe thead th {\n        text-align: right;\n    }\n</style>\n<table border=\"1\" class=\"dataframe\">\n  <thead>\n    <tr style=\"text-align: right;\">\n      <th></th>\n      <th>销售日期</th>\n      <th>销售价格</th>\n      <th>卧室数</th>\n      <th>浴室数</th>\n      <th>房屋面积</th>\n      <th>停车面积</th>\n      <th>楼层数</th>\n      <th>房屋评分</th>\n      <th>建筑面积</th>\n      <th>地下室面积</th>\n      <th>建筑年份</th>\n      <th>纬度</th>\n      <th>经度</th>\n    </tr>\n  </thead>\n  <tbody>\n    <tr>\n      <th>5278</th>\n      <td>1970-01-01 00:00:00.020220310</td>\n      <td>704111</td>\n      <td>4</td>\n      <td>2.75</td>\n      <td>2460</td>\n      <td>9520.000000</td>\n      <td>1.0</td>\n      <td>8</td>\n      <td>1680</td>\n      <td>780.0</td>\n      <td>1976</td>\n      <td>47.7021</td>\n      <td>-122.233</td>\n    </tr>\n    <tr>\n      <th>7318</th>\n      <td>1970-01-01 00:00:00.020220310</td>\n      <td>1700000</td>\n      <td>5</td>\n      <td>2.75</td>\n      <td>3810</td>\n      <td>9360.000000</td>\n      <td>2.0</td>\n      <td>10</td>\n      <td>3810</td>\n      <td>0.0</td>\n      <td>2014</td>\n      <td>47.6039</td>\n      <td>-122.194</td>\n    </tr>\n    <tr>\n      <th>2294</th>\n      <td>1970-01-01 00:00:00.020220310</td>\n      <td>549950</td>\n      <td>4</td>\n      <td>2.50</td>\n      <td>2230</td>\n      <td>13867.399781</td>\n      <td>1.0</td>\n      <td>7</td>\n      <td>1180</td>\n      <td>1050.0</td>\n      <td>1981</td>\n      <td>47.6305</td>\n      <td>-122.034</td>\n    </tr>\n    <tr>\n      <th>3997</th>\n      <td>1970-01-01 00:00:00.020220310</td>\n      <td>565000</td>\n      <td>3</td>\n      <td>1.75</td>\n      <td>1130</td>\n      <td>5111.000000</td>\n      <td>1.0</td>\n      <td>7</td>\n      <td>930</td>\n      <td>200.0</td>\n      <td>1942</td>\n      <td>47.6379</td>\n      <td>-122.400</td>\n    </tr>\n    <tr>\n      <th>6370</th>\n      <td>1970-01-01 00:00:00.020220310</td>\n      <td>610000</td>\n      <td>4</td>\n      <td>2.50</td>\n      <td>2980</td>\n      <td>5896.000000</td>\n      <td>2.0</td>\n      <td>8</td>\n      <td>2980</td>\n      <td>0.0</td>\n      <td>2001</td>\n      <td>47.6872</td>\n      <td>-122.036</td>\n    </tr>\n  </tbody>\n</table>\n</div>"
     },
     "execution_count": 82,
     "metadata": {},
     "output_type": "execute_result"
    }
   ],
   "source": [
    "train.head()\n",
    "test.head()"
   ],
   "metadata": {
    "collapsed": false
   }
  },
  {
   "cell_type": "code",
   "execution_count": 92,
   "outputs": [],
   "source": [
    "data['销售日期']= pd.to_numeric(data['销售日期'])"
   ],
   "metadata": {
    "collapsed": false
   }
  },
  {
   "cell_type": "code",
   "execution_count": 83,
   "outputs": [],
   "source": [
    "import statsmodels.formula.api as sm"
   ],
   "metadata": {
    "collapsed": false
   }
  },
  {
   "cell_type": "code",
   "execution_count": 93,
   "outputs": [],
   "source": [
    "from sklearn.model_selection import train_test_split\n",
    "\n",
    "x_train,x_test,y_train,y_test = train_test_split(data.drop('销售价格',axis= 1),data['销售价格'],test_size = 0.25,random_state = 0)"
   ],
   "metadata": {
    "collapsed": false
   }
  },
  {
   "cell_type": "code",
   "execution_count": 73,
   "outputs": [
    {
     "data": {
      "text/plain": "(9995, 13)"
     },
     "execution_count": 73,
     "metadata": {},
     "output_type": "execute_result"
    }
   ],
   "source": [
    "data = train_data.drop('修复年份',axis=1)\n",
    "data.shape"
   ],
   "metadata": {
    "collapsed": false
   }
  },
  {
   "cell_type": "code",
   "execution_count": 72,
   "outputs": [
    {
     "name": "stdout",
     "output_type": "stream",
     "text": [
      "<class 'pandas.core.frame.DataFrame'>\n",
      "RangeIndex: 9995 entries, 0 to 9994\n",
      "Data columns (total 14 columns):\n",
      " #   Column  Non-Null Count  Dtype         \n",
      "---  ------  --------------  -----         \n",
      " 0   销售日期    9995 non-null   datetime64[ns]\n",
      " 1   销售价格    9995 non-null   int64         \n",
      " 2   卧室数     9995 non-null   int64         \n",
      " 3   浴室数     9995 non-null   float64       \n",
      " 4   房屋面积    9995 non-null   int64         \n",
      " 5   停车面积    9995 non-null   float64       \n",
      " 6   楼层数     9995 non-null   float64       \n",
      " 7   房屋评分    9995 non-null   int64         \n",
      " 8   建筑面积    9995 non-null   int64         \n",
      " 9   地下室面积   9995 non-null   float64       \n",
      " 10  建筑年份    9995 non-null   int64         \n",
      " 11  修复年份    4207 non-null   float64       \n",
      " 12  纬度      9995 non-null   float64       \n",
      " 13  经度      9995 non-null   float64       \n",
      "dtypes: datetime64[ns](1), float64(7), int64(6)\n",
      "memory usage: 1.1 MB\n"
     ]
    }
   ],
   "source": [
    "train_data['销售日期']=pd.to_datetime(train_data['销售日期'],errors='raise')\n",
    "train_data.info()"
   ],
   "metadata": {
    "collapsed": false
   }
  },
  {
   "cell_type": "code",
   "execution_count": 71,
   "outputs": [
    {
     "data": {
      "text/plain": "0"
     },
     "execution_count": 71,
     "metadata": {},
     "output_type": "execute_result"
    }
   ],
   "source": [
    "train_data['停车面积']=train_data['停车面积'].fillna(train_data[~train_data['停车面积'].isnull()]['停车面积'].mean())\n",
    "train_data['停车面积'].isnull().sum()\n"
   ],
   "metadata": {
    "collapsed": false
   }
  },
  {
   "cell_type": "code",
   "execution_count": 70,
   "outputs": [],
   "source": [
    "train_data['停车面积']=pd.to_numeric(train_data['停车面积'],errors='coerce')"
   ],
   "metadata": {
    "collapsed": false
   }
  },
  {
   "cell_type": "code",
   "execution_count": 69,
   "outputs": [
    {
     "data": {
      "text/plain": "0"
     },
     "execution_count": 69,
     "metadata": {},
     "output_type": "execute_result"
    }
   ],
   "source": [
    "train_data['地下室面积']=train_data['地下室面积'].fillna(train_data[~train_data['地下室面积'].isnull()]['地下室面积'].mean())\n",
    "train_data['地下室面积'].isnull().sum()"
   ],
   "metadata": {
    "collapsed": false
   }
  },
  {
   "cell_type": "code",
   "execution_count": 31,
   "outputs": [
    {
     "name": "stdout",
     "output_type": "stream",
     "text": [
      "<class 'pandas.core.frame.DataFrame'>\n",
      "RangeIndex: 9995 entries, 0 to 9994\n",
      "Data columns (total 14 columns):\n",
      " #   Column  Non-Null Count  Dtype  \n",
      "---  ------  --------------  -----  \n",
      " 0   销售日期    9995 non-null   int64  \n",
      " 1   销售价格    9995 non-null   int64  \n",
      " 2   卧室数     9995 non-null   int64  \n",
      " 3   浴室数     9995 non-null   float64\n",
      " 4   房屋面积    9995 non-null   int64  \n",
      " 5   停车面积    9995 non-null   object \n",
      " 6   楼层数     9995 non-null   float64\n",
      " 7   房屋评分    9995 non-null   int64  \n",
      " 8   建筑面积    9995 non-null   int64  \n",
      " 9   地下室面积   9702 non-null   float64\n",
      " 10  建筑年份    9995 non-null   int64  \n",
      " 11  修复年份    4207 non-null   float64\n",
      " 12  纬度      9995 non-null   float64\n",
      " 13  经度      9995 non-null   float64\n",
      "dtypes: float64(6), int64(7), object(1)\n",
      "memory usage: 1.1+ MB\n"
     ]
    }
   ],
   "source": [
    "train_data.info()"
   ],
   "metadata": {
    "collapsed": false
   }
  },
  {
   "cell_type": "code",
   "execution_count": 30,
   "outputs": [
    {
     "data": {
      "text/plain": "(9995, 14)"
     },
     "execution_count": 30,
     "metadata": {},
     "output_type": "execute_result"
    },
    {
     "data": {
      "text/plain": "       销售日期    销售价格  卧室数   浴室数  房屋面积     停车面积  楼层数  房屋评分  建筑面积  地下室面积  建筑年份  \\\n0  20220302  545000    3  2.25  1670     6240  1.0     8  1240  430.0  1974   \n1  20220211  785000    4  2.50  3300  unknown  2.0    10  3300    0.0  1984   \n2  20220107  765000    3  3.25  3190     5283  2.0     9  3190    0.0  2007   \n3  20211103  720000    5  2.50  2900     9525  2.0     9  2900    0.0  1989   \n4  20210603  449500    5  2.75  2040     7488  1.0     7  1200  840.0  1969   \n\n   修复年份       纬度       经度  \n0   0.0  47.6413 -122.113  \n1   0.0  47.6323 -122.036  \n2   0.0  47.5534 -122.002  \n3   0.0  47.5442 -122.138  \n4   0.0  47.7289 -122.172  ",
      "text/html": "<div>\n<style scoped>\n    .dataframe tbody tr th:only-of-type {\n        vertical-align: middle;\n    }\n\n    .dataframe tbody tr th {\n        vertical-align: top;\n    }\n\n    .dataframe thead th {\n        text-align: right;\n    }\n</style>\n<table border=\"1\" class=\"dataframe\">\n  <thead>\n    <tr style=\"text-align: right;\">\n      <th></th>\n      <th>销售日期</th>\n      <th>销售价格</th>\n      <th>卧室数</th>\n      <th>浴室数</th>\n      <th>房屋面积</th>\n      <th>停车面积</th>\n      <th>楼层数</th>\n      <th>房屋评分</th>\n      <th>建筑面积</th>\n      <th>地下室面积</th>\n      <th>建筑年份</th>\n      <th>修复年份</th>\n      <th>纬度</th>\n      <th>经度</th>\n    </tr>\n  </thead>\n  <tbody>\n    <tr>\n      <th>0</th>\n      <td>20220302</td>\n      <td>545000</td>\n      <td>3</td>\n      <td>2.25</td>\n      <td>1670</td>\n      <td>6240</td>\n      <td>1.0</td>\n      <td>8</td>\n      <td>1240</td>\n      <td>430.0</td>\n      <td>1974</td>\n      <td>0.0</td>\n      <td>47.6413</td>\n      <td>-122.113</td>\n    </tr>\n    <tr>\n      <th>1</th>\n      <td>20220211</td>\n      <td>785000</td>\n      <td>4</td>\n      <td>2.50</td>\n      <td>3300</td>\n      <td>unknown</td>\n      <td>2.0</td>\n      <td>10</td>\n      <td>3300</td>\n      <td>0.0</td>\n      <td>1984</td>\n      <td>0.0</td>\n      <td>47.6323</td>\n      <td>-122.036</td>\n    </tr>\n    <tr>\n      <th>2</th>\n      <td>20220107</td>\n      <td>765000</td>\n      <td>3</td>\n      <td>3.25</td>\n      <td>3190</td>\n      <td>5283</td>\n      <td>2.0</td>\n      <td>9</td>\n      <td>3190</td>\n      <td>0.0</td>\n      <td>2007</td>\n      <td>0.0</td>\n      <td>47.5534</td>\n      <td>-122.002</td>\n    </tr>\n    <tr>\n      <th>3</th>\n      <td>20211103</td>\n      <td>720000</td>\n      <td>5</td>\n      <td>2.50</td>\n      <td>2900</td>\n      <td>9525</td>\n      <td>2.0</td>\n      <td>9</td>\n      <td>2900</td>\n      <td>0.0</td>\n      <td>1989</td>\n      <td>0.0</td>\n      <td>47.5442</td>\n      <td>-122.138</td>\n    </tr>\n    <tr>\n      <th>4</th>\n      <td>20210603</td>\n      <td>449500</td>\n      <td>5</td>\n      <td>2.75</td>\n      <td>2040</td>\n      <td>7488</td>\n      <td>1.0</td>\n      <td>7</td>\n      <td>1200</td>\n      <td>840.0</td>\n      <td>1969</td>\n      <td>0.0</td>\n      <td>47.7289</td>\n      <td>-122.172</td>\n    </tr>\n  </tbody>\n</table>\n</div>"
     },
     "execution_count": 30,
     "metadata": {},
     "output_type": "execute_result"
    }
   ],
   "source": [
    "train_data = pd.read_excel('train_data.xlsx')\n",
    "train_data.shape\n",
    "train_data.head()"
   ],
   "metadata": {
    "collapsed": false
   }
  },
  {
   "cell_type": "code",
   "execution_count": 4,
   "outputs": [
    {
     "data": {
      "text/plain": "MLPClassifier(hidden_layer_sizes=(50, 25))",
      "text/html": "<style>#sk-container-id-1 {color: black;background-color: white;}#sk-container-id-1 pre{padding: 0;}#sk-container-id-1 div.sk-toggleable {background-color: white;}#sk-container-id-1 label.sk-toggleable__label {cursor: pointer;display: block;width: 100%;margin-bottom: 0;padding: 0.3em;box-sizing: border-box;text-align: center;}#sk-container-id-1 label.sk-toggleable__label-arrow:before {content: \"▸\";float: left;margin-right: 0.25em;color: #696969;}#sk-container-id-1 label.sk-toggleable__label-arrow:hover:before {color: black;}#sk-container-id-1 div.sk-estimator:hover label.sk-toggleable__label-arrow:before {color: black;}#sk-container-id-1 div.sk-toggleable__content {max-height: 0;max-width: 0;overflow: hidden;text-align: left;background-color: #f0f8ff;}#sk-container-id-1 div.sk-toggleable__content pre {margin: 0.2em;color: black;border-radius: 0.25em;background-color: #f0f8ff;}#sk-container-id-1 input.sk-toggleable__control:checked~div.sk-toggleable__content {max-height: 200px;max-width: 100%;overflow: auto;}#sk-container-id-1 input.sk-toggleable__control:checked~label.sk-toggleable__label-arrow:before {content: \"▾\";}#sk-container-id-1 div.sk-estimator input.sk-toggleable__control:checked~label.sk-toggleable__label {background-color: #d4ebff;}#sk-container-id-1 div.sk-label input.sk-toggleable__control:checked~label.sk-toggleable__label {background-color: #d4ebff;}#sk-container-id-1 input.sk-hidden--visually {border: 0;clip: rect(1px 1px 1px 1px);clip: rect(1px, 1px, 1px, 1px);height: 1px;margin: -1px;overflow: hidden;padding: 0;position: absolute;width: 1px;}#sk-container-id-1 div.sk-estimator {font-family: monospace;background-color: #f0f8ff;border: 1px dotted black;border-radius: 0.25em;box-sizing: border-box;margin-bottom: 0.5em;}#sk-container-id-1 div.sk-estimator:hover {background-color: #d4ebff;}#sk-container-id-1 div.sk-parallel-item::after {content: \"\";width: 100%;border-bottom: 1px solid gray;flex-grow: 1;}#sk-container-id-1 div.sk-label:hover label.sk-toggleable__label {background-color: #d4ebff;}#sk-container-id-1 div.sk-serial::before {content: \"\";position: absolute;border-left: 1px solid gray;box-sizing: border-box;top: 0;bottom: 0;left: 50%;z-index: 0;}#sk-container-id-1 div.sk-serial {display: flex;flex-direction: column;align-items: center;background-color: white;padding-right: 0.2em;padding-left: 0.2em;position: relative;}#sk-container-id-1 div.sk-item {position: relative;z-index: 1;}#sk-container-id-1 div.sk-parallel {display: flex;align-items: stretch;justify-content: center;background-color: white;position: relative;}#sk-container-id-1 div.sk-item::before, #sk-container-id-1 div.sk-parallel-item::before {content: \"\";position: absolute;border-left: 1px solid gray;box-sizing: border-box;top: 0;bottom: 0;left: 50%;z-index: -1;}#sk-container-id-1 div.sk-parallel-item {display: flex;flex-direction: column;z-index: 1;position: relative;background-color: white;}#sk-container-id-1 div.sk-parallel-item:first-child::after {align-self: flex-end;width: 50%;}#sk-container-id-1 div.sk-parallel-item:last-child::after {align-self: flex-start;width: 50%;}#sk-container-id-1 div.sk-parallel-item:only-child::after {width: 0;}#sk-container-id-1 div.sk-dashed-wrapped {border: 1px dashed gray;margin: 0 0.4em 0.5em 0.4em;box-sizing: border-box;padding-bottom: 0.4em;background-color: white;}#sk-container-id-1 div.sk-label label {font-family: monospace;font-weight: bold;display: inline-block;line-height: 1.2em;}#sk-container-id-1 div.sk-label-container {text-align: center;}#sk-container-id-1 div.sk-container {/* jupyter's `normalize.less` sets `[hidden] { display: none; }` but bootstrap.min.css set `[hidden] { display: none !important; }` so we also need the `!important` here to be able to override the default hidden behavior on the sphinx rendered scikit-learn.org. See: https://github.com/scikit-learn/scikit-learn/issues/21755 */display: inline-block !important;position: relative;}#sk-container-id-1 div.sk-text-repr-fallback {display: none;}</style><div id=\"sk-container-id-1\" class=\"sk-top-container\"><div class=\"sk-text-repr-fallback\"><pre>MLPClassifier(hidden_layer_sizes=(50, 25))</pre><b>In a Jupyter environment, please rerun this cell to show the HTML representation or trust the notebook. <br />On GitHub, the HTML representation is unable to render, please try loading this page with nbviewer.org.</b></div><div class=\"sk-container\" hidden><div class=\"sk-item\"><div class=\"sk-estimator sk-toggleable\"><input class=\"sk-toggleable__control sk-hidden--visually\" id=\"sk-estimator-id-1\" type=\"checkbox\" checked><label for=\"sk-estimator-id-1\" class=\"sk-toggleable__label sk-toggleable__label-arrow\">MLPClassifier</label><div class=\"sk-toggleable__content\"><pre>MLPClassifier(hidden_layer_sizes=(50, 25))</pre></div></div></div></div></div>"
     },
     "execution_count": 4,
     "metadata": {},
     "output_type": "execute_result"
    },
    {
     "name": "stdout",
     "output_type": "stream",
     "text": [
      "              precision    recall  f1-score   support\n",
      "\n",
      "           0       0.67      0.74      0.70      7832\n",
      "           1       0.55      0.47      0.50      5247\n",
      "\n",
      "    accuracy                           0.63     13079\n",
      "   macro avg       0.61      0.60      0.60     13079\n",
      "weighted avg       0.62      0.63      0.62     13079\n",
      "\n"
     ]
    }
   ],
   "source": [
    "# 训练神经网络\n",
    "from sklearn.neural_network import MLPClassifier   #导入多层感知器\n",
    "#  hidden_layer_sizes: 第一个隐藏层默认100，必须调整\n",
    "#  推荐第一个隐藏层特征数量的0.5~1.5倍；后面隐藏为前面数量的0.5~1倍\n",
    "# activation: 如果不设置，则是线性回归\n",
    "mlp= MLPClassifier(hidden_layer_sizes=(50, 25), activation='relu')\n",
    "mlp.fit(Xtrain, Ytrain)\n",
    "# 模型评估\n",
    "from sklearn.metrics import classification_report\n",
    "print(classification_report(Ytest, mlp.predict(Xtest)))"
   ],
   "metadata": {
    "collapsed": false
   }
  },
  {
   "cell_type": "code",
   "execution_count": 3,
   "outputs": [],
   "source": [
    "# 分割测试集\n",
    "from sklearn.model_selection import train_test_split\n",
    "Xtrain, Xtest, Ytrain, Ytest = train_test_split(df1, labels,\n",
    "                                                test_size=0.3,\n",
    "                                                random_state=42,\n",
    "                                                stratify=labels)"
   ],
   "metadata": {
    "collapsed": false
   }
  },
  {
   "cell_type": "code",
   "execution_count": 2,
   "outputs": [
    {
     "data": {
      "text/plain": "    GEND  AART  ADBT  ADEP  AHBP  AHCH  ARES  AHRT  ADGS  AHRL  ...   c210pmr  \\\n0      1     0     0     0     0     0     0     0     0     0  ...  0.560324   \n1      1     0     0     0     0     0     0     0     0     0  ... -0.020800   \n17     0     0     0     0     0     0     0     0     0     0  ...  1.359370   \n18     0     0     0     0     0     0     0     0     0     0  ...  1.214089   \n19     0     1     1     0     1     1     0     0     1     0  ... -0.238722   \n\n     c210poo   c210psu   c210pwc   c210wht      ilor      meda      pdpe  \\\n0   0.191098  0.097126 -0.943199  1.140569 -0.157096  0.840666 -1.029088   \n1   0.832694  1.015031  0.311303  0.226692 -0.052844  0.649298 -0.726187   \n17  1.313892  1.015031  0.645837  0.422523  0.051407 -1.009222  0.939765   \n18  1.033193  0.982249 -0.441398  1.336400  0.051407  0.840666 -1.029088   \n19  0.672295  1.015031  1.398539 -0.426078  0.051407  0.649298 -0.726187   \n\n        tins    zhip19  \n0   0.038023  1.163054  \n1  -0.523289 -0.455180  \n17  0.879990  1.486701  \n18 -0.523289  1.163054  \n19  0.879990 -1.426120  \n\n[5 rows x 49 columns]",
      "text/html": "<div>\n<style scoped>\n    .dataframe tbody tr th:only-of-type {\n        vertical-align: middle;\n    }\n\n    .dataframe tbody tr th {\n        vertical-align: top;\n    }\n\n    .dataframe thead th {\n        text-align: right;\n    }\n</style>\n<table border=\"1\" class=\"dataframe\">\n  <thead>\n    <tr style=\"text-align: right;\">\n      <th></th>\n      <th>GEND</th>\n      <th>AART</th>\n      <th>ADBT</th>\n      <th>ADEP</th>\n      <th>AHBP</th>\n      <th>AHCH</th>\n      <th>ARES</th>\n      <th>AHRT</th>\n      <th>ADGS</th>\n      <th>AHRL</th>\n      <th>...</th>\n      <th>c210pmr</th>\n      <th>c210poo</th>\n      <th>c210psu</th>\n      <th>c210pwc</th>\n      <th>c210wht</th>\n      <th>ilor</th>\n      <th>meda</th>\n      <th>pdpe</th>\n      <th>tins</th>\n      <th>zhip19</th>\n    </tr>\n  </thead>\n  <tbody>\n    <tr>\n      <th>0</th>\n      <td>1</td>\n      <td>0</td>\n      <td>0</td>\n      <td>0</td>\n      <td>0</td>\n      <td>0</td>\n      <td>0</td>\n      <td>0</td>\n      <td>0</td>\n      <td>0</td>\n      <td>...</td>\n      <td>0.560324</td>\n      <td>0.191098</td>\n      <td>0.097126</td>\n      <td>-0.943199</td>\n      <td>1.140569</td>\n      <td>-0.157096</td>\n      <td>0.840666</td>\n      <td>-1.029088</td>\n      <td>0.038023</td>\n      <td>1.163054</td>\n    </tr>\n    <tr>\n      <th>1</th>\n      <td>1</td>\n      <td>0</td>\n      <td>0</td>\n      <td>0</td>\n      <td>0</td>\n      <td>0</td>\n      <td>0</td>\n      <td>0</td>\n      <td>0</td>\n      <td>0</td>\n      <td>...</td>\n      <td>-0.020800</td>\n      <td>0.832694</td>\n      <td>1.015031</td>\n      <td>0.311303</td>\n      <td>0.226692</td>\n      <td>-0.052844</td>\n      <td>0.649298</td>\n      <td>-0.726187</td>\n      <td>-0.523289</td>\n      <td>-0.455180</td>\n    </tr>\n    <tr>\n      <th>17</th>\n      <td>0</td>\n      <td>0</td>\n      <td>0</td>\n      <td>0</td>\n      <td>0</td>\n      <td>0</td>\n      <td>0</td>\n      <td>0</td>\n      <td>0</td>\n      <td>0</td>\n      <td>...</td>\n      <td>1.359370</td>\n      <td>1.313892</td>\n      <td>1.015031</td>\n      <td>0.645837</td>\n      <td>0.422523</td>\n      <td>0.051407</td>\n      <td>-1.009222</td>\n      <td>0.939765</td>\n      <td>0.879990</td>\n      <td>1.486701</td>\n    </tr>\n    <tr>\n      <th>18</th>\n      <td>0</td>\n      <td>0</td>\n      <td>0</td>\n      <td>0</td>\n      <td>0</td>\n      <td>0</td>\n      <td>0</td>\n      <td>0</td>\n      <td>0</td>\n      <td>0</td>\n      <td>...</td>\n      <td>1.214089</td>\n      <td>1.033193</td>\n      <td>0.982249</td>\n      <td>-0.441398</td>\n      <td>1.336400</td>\n      <td>0.051407</td>\n      <td>0.840666</td>\n      <td>-1.029088</td>\n      <td>-0.523289</td>\n      <td>1.163054</td>\n    </tr>\n    <tr>\n      <th>19</th>\n      <td>0</td>\n      <td>1</td>\n      <td>1</td>\n      <td>0</td>\n      <td>1</td>\n      <td>1</td>\n      <td>0</td>\n      <td>0</td>\n      <td>1</td>\n      <td>0</td>\n      <td>...</td>\n      <td>-0.238722</td>\n      <td>0.672295</td>\n      <td>1.015031</td>\n      <td>1.398539</td>\n      <td>-0.426078</td>\n      <td>0.051407</td>\n      <td>0.649298</td>\n      <td>-0.726187</td>\n      <td>0.879990</td>\n      <td>-1.426120</td>\n    </tr>\n  </tbody>\n</table>\n<p>5 rows × 49 columns</p>\n</div>"
     },
     "execution_count": 2,
     "metadata": {},
     "output_type": "execute_result"
    }
   ],
   "source": [
    "# 应用神经网络前，必须进行数据标准化\n",
    "df = pd.read_csv('保险数据_全部数据.csv')\n",
    "df1 = df.dropna()\n",
    "#分割标签\n",
    "labels = df1.pop('resp_flag')\n",
    "# 数据编码,label这个库可以做数据编码\n",
    "# 分类型数据做数据编码\n",
    "# 数值型数据做标准化\n",
    "from sklearn.preprocessing import LabelEncoder\n",
    "from sklearn.preprocessing import StandardScaler\n",
    "LE= LabelEncoder()   # 编码\n",
    "scaler= StandardScaler()   # 标准化\n",
    "for i in df1.columns:\n",
    "    if df1[i].dtypes == \"object\":\n",
    "        df1[i]= LE.fit_transform(df1[i])\n",
    "    else:\n",
    "        df1[i]= scaler.fit_transform(pd.DataFrame(df1[i]))\n",
    "df1.head()"
   ],
   "metadata": {
    "collapsed": false
   }
  },
  {
   "cell_type": "code",
   "execution_count": 80,
   "outputs": [],
   "source": [
    "from IPython.core.interactiveshell import InteractiveShell\n",
    "InteractiveShell.ast_node_interactivity = \"all\"\n",
    "\n",
    "import numpy as np\n",
    "import pandas as pd\n",
    "\n",
    "import warnings\n",
    "warnings.filterwarnings(\"ignore\")\n",
    "import os\n",
    "os.chdir('C:\\Data\\Jupyter_file\\机器学习')"
   ],
   "metadata": {
    "collapsed": false
   }
  },
  {
   "cell_type": "code",
   "execution_count": null,
   "outputs": [],
   "source": [
    "# sklearn可以做简单的深度学习\n",
    "# Tensor flow + keras ,源于谷歌，非常好用\n",
    "# pytorch -> transformers进化，源于 facebook，收购于小公司torch，当年不是用python\n",
    "# 目前深度学习的工具： JAX谷歌开发；paddle百度的飞浆;\n",
    "# 感知器(隐藏层:单神经元的逻辑回归)，‘与’1.先求和，2.再加上激活函数，‘或’，‘异或’(相同为假）:(集成学习，二条回归实现）\n",
    "# 激活函数包括： sigmoid逻辑回归(0-1),tanh(-1~1),relu(0~正无穷）,改进->leaky relu\n",
    "# tanh: 兼顾正确率和速度；sigmoid:正确率最高；relu: 速度最快\n",
    "# 数据分析： tahn,sigmoid; 人工智能：relu(chatGPT)\n",
    "# 输入层 -> 隐藏层(多层) -> 输出层\n",
    "# 无隐藏层，即是逻辑回归\n",
    "# 单层隐藏层，逻辑集成\n",
    "# 多层隐藏层,则集成学习则表示不出来\n",
    "# 每多一个隐藏层，数据空间则多一条分割线\n",
    "# 2009年 李飞飞创立 ImageNet\n",
    "# 2012年 Yann LeCun 提出卷积神经网络（应用 语音转文字）图像识别\n",
    "# 2016年 AlphaGo 战胜围棋冠军\n",
    "# Hinton  反射传播算法发明人 ，2013加入Google\n",
    "# Yoshua Bengio 预训练和自动编码器\n",
    "# Jordan 提出机器学习与统计学之间建立联络\n",
    "# 吴恩达，2014年加入百度，分布式超大规模的人工神经网络"
   ],
   "metadata": {
    "collapsed": false
   }
  },
  {
   "cell_type": "code",
   "execution_count": null,
   "outputs": [],
   "source": [
    "# 请使用anaconda自带的prompt命令行终端，严格按照以下步骤安装\n",
    "#\n",
    "# 1.\t更新anaconda和所有自带库到最新版（依次执行以下命令）\n",
    "# conda update conda\n",
    "# conda update anaconda\n",
    "# conda update --all\n",
    "#\n",
    "# 2.\t安装pytorch\n",
    "# pip3 install torch torchvision torchaudio\n",
    "#\n",
    "# 3.\t安装transformers\n",
    "# pip install transformers\n",
    "#\n",
    "# 4.\t安装datasets（训练用的公开数据集）\n",
    "# pip install datasets\n",
    "#\n",
    "# 5.\t安装预训练模型\n",
    "# 完成上述安装后，需再预留至少2G的硬盘空间，用来安装各种预训练模型\n",
    "# 在notebook环境直接运行以下代码\n",
    "# from transformers import AutoModelForQuestionAnswering\n",
    "# model = AutoModelForQuestionAnswering.from_pretrained('luhua/chinese_pretrain_mrc_macbert_large')\n",
    "# from transformers import AutoModelForSequenceClassification\n",
    "# model = AutoModelForSequenceClassification.from_pretrained('IDEA-CCNL/Erlangshen-Roberta-110M-Sentiment')\n"
   ],
   "metadata": {
    "collapsed": false
   }
  }
 ],
 "metadata": {
  "kernelspec": {
   "display_name": "Python 3",
   "language": "python",
   "name": "python3"
  },
  "language_info": {
   "codemirror_mode": {
    "name": "ipython",
    "version": 2
   },
   "file_extension": ".py",
   "mimetype": "text/x-python",
   "name": "python",
   "nbconvert_exporter": "python",
   "pygments_lexer": "ipython2",
   "version": "2.7.6"
  }
 },
 "nbformat": 4,
 "nbformat_minor": 0
}
