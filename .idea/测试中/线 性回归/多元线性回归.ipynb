{
 "cells": [
  {
   "cell_type": "code",
   "execution_count": 61,
   "outputs": [
    {
     "data": {
      "text/plain": "<class 'statsmodels.iolib.summary.Summary'>\n\"\"\"\n                            OLS Regression Results                            \n==============================================================================\nDep. Variable:                   销售价格   R-squared:                       0.647\nModel:                            OLS   Adj. R-squared:                  0.647\nMethod:                 Least Squares   F-statistic:                     2292.\nDate:                Thu, 16 Mar 2023   Prob (F-statistic):               0.00\nTime:                        14:57:09   Log-Likelihood:            -1.3720e+05\nNo. Observations:                9995   AIC:                         2.744e+05\nDf Residuals:                    9986   BIC:                         2.745e+05\nDf Model:                           8                                         \nCovariance Type:            nonrobust                                         \n==============================================================================\n                 coef    std err          t      P>|t|      [0.025      0.975]\n------------------------------------------------------------------------------\nIntercept   -3.27e+07   2.41e+06    -13.563      0.000   -3.74e+07    -2.8e+07\n卧室数        -5.072e+04   3188.675    -15.907      0.000    -5.7e+04   -4.45e+04\n浴室数         5.729e+04   5032.807     11.383      0.000    4.74e+04    6.72e+04\n房屋面积         199.4363      4.985     40.004      0.000     189.664     209.209\n停车面积          -0.3178      0.082     -3.855      0.000      -0.479      -0.156\n房屋评分        1.138e+05   3253.744     34.960      0.000    1.07e+05     1.2e+05\n建筑年份       -3222.4747    101.991    -31.596      0.000   -3422.397   -3022.553\n纬度          5.067e+05   1.67e+04     30.352      0.000    4.74e+05    5.39e+05\n经度         -1.167e+05   1.82e+04     -6.412      0.000   -1.52e+05    -8.1e+04\n==============================================================================\nOmnibus:                     8427.113   Durbin-Watson:                   1.977\nProb(Omnibus):                  0.000   Jarque-Bera (JB):           547760.262\nSkew:                           3.662   Prob(JB):                         0.00\nKurtosis:                      38.520   Cond. No.                     3.45e+07\n==============================================================================\n\nNotes:\n[1] Standard Errors assume that the covariance matrix of the errors is correctly specified.\n[2] The condition number is large, 3.45e+07. This might indicate that there are\nstrong multicollinearity or other numerical problems.\n\"\"\"",
      "text/html": "<table class=\"simpletable\">\n<caption>OLS Regression Results</caption>\n<tr>\n  <th>Dep. Variable:</th>          <td>销售价格</td>       <th>  R-squared:         </th>  <td>   0.647</td>  \n</tr>\n<tr>\n  <th>Model:</th>                   <td>OLS</td>       <th>  Adj. R-squared:    </th>  <td>   0.647</td>  \n</tr>\n<tr>\n  <th>Method:</th>             <td>Least Squares</td>  <th>  F-statistic:       </th>  <td>   2292.</td>  \n</tr>\n<tr>\n  <th>Date:</th>             <td>Thu, 16 Mar 2023</td> <th>  Prob (F-statistic):</th>   <td>  0.00</td>   \n</tr>\n<tr>\n  <th>Time:</th>                 <td>14:57:09</td>     <th>  Log-Likelihood:    </th> <td>-1.3720e+05</td>\n</tr>\n<tr>\n  <th>No. Observations:</th>      <td>  9995</td>      <th>  AIC:               </th>  <td>2.744e+05</td> \n</tr>\n<tr>\n  <th>Df Residuals:</th>          <td>  9986</td>      <th>  BIC:               </th>  <td>2.745e+05</td> \n</tr>\n<tr>\n  <th>Df Model:</th>              <td>     8</td>      <th>                     </th>      <td> </td>     \n</tr>\n<tr>\n  <th>Covariance Type:</th>      <td>nonrobust</td>    <th>                     </th>      <td> </td>     \n</tr>\n</table>\n<table class=\"simpletable\">\n<tr>\n      <td></td>         <th>coef</th>     <th>std err</th>      <th>t</th>      <th>P>|t|</th>  <th>[0.025</th>    <th>0.975]</th>  \n</tr>\n<tr>\n  <th>Intercept</th> <td> -3.27e+07</td> <td> 2.41e+06</td> <td>  -13.563</td> <td> 0.000</td> <td>-3.74e+07</td> <td> -2.8e+07</td>\n</tr>\n<tr>\n  <th>卧室数</th>       <td>-5.072e+04</td> <td> 3188.675</td> <td>  -15.907</td> <td> 0.000</td> <td> -5.7e+04</td> <td>-4.45e+04</td>\n</tr>\n<tr>\n  <th>浴室数</th>       <td> 5.729e+04</td> <td> 5032.807</td> <td>   11.383</td> <td> 0.000</td> <td> 4.74e+04</td> <td> 6.72e+04</td>\n</tr>\n<tr>\n  <th>房屋面积</th>      <td>  199.4363</td> <td>    4.985</td> <td>   40.004</td> <td> 0.000</td> <td>  189.664</td> <td>  209.209</td>\n</tr>\n<tr>\n  <th>停车面积</th>      <td>   -0.3178</td> <td>    0.082</td> <td>   -3.855</td> <td> 0.000</td> <td>   -0.479</td> <td>   -0.156</td>\n</tr>\n<tr>\n  <th>房屋评分</th>      <td> 1.138e+05</td> <td> 3253.744</td> <td>   34.960</td> <td> 0.000</td> <td> 1.07e+05</td> <td>  1.2e+05</td>\n</tr>\n<tr>\n  <th>建筑年份</th>      <td>-3222.4747</td> <td>  101.991</td> <td>  -31.596</td> <td> 0.000</td> <td>-3422.397</td> <td>-3022.553</td>\n</tr>\n<tr>\n  <th>纬度</th>        <td> 5.067e+05</td> <td> 1.67e+04</td> <td>   30.352</td> <td> 0.000</td> <td> 4.74e+05</td> <td> 5.39e+05</td>\n</tr>\n<tr>\n  <th>经度</th>        <td>-1.167e+05</td> <td> 1.82e+04</td> <td>   -6.412</td> <td> 0.000</td> <td>-1.52e+05</td> <td> -8.1e+04</td>\n</tr>\n</table>\n<table class=\"simpletable\">\n<tr>\n  <th>Omnibus:</th>       <td>8427.113</td> <th>  Durbin-Watson:     </th>  <td>   1.977</td> \n</tr>\n<tr>\n  <th>Prob(Omnibus):</th>  <td> 0.000</td>  <th>  Jarque-Bera (JB):  </th> <td>547760.262</td>\n</tr>\n<tr>\n  <th>Skew:</th>           <td> 3.662</td>  <th>  Prob(JB):          </th>  <td>    0.00</td> \n</tr>\n<tr>\n  <th>Kurtosis:</th>       <td>38.520</td>  <th>  Cond. No.          </th>  <td>3.45e+07</td> \n</tr>\n</table><br/><br/>Notes:<br/>[1] Standard Errors assume that the covariance matrix of the errors is correctly specified.<br/>[2] The condition number is large, 3.45e+07. This might indicate that there are<br/>strong multicollinearity or other numerical problems."
     },
     "execution_count": 61,
     "metadata": {},
     "output_type": "execute_result"
    }
   ],
   "source": [
    "#公式\n",
    "formula = '销售价格~卧室数+浴室数+房屋面积+停车面积+房屋评分+建筑年份+纬度+经度'\n",
    "#实例化\n",
    "model_1 = ols(formula=formula, data=data)\n",
    "#拟合模型\n",
    "model_1 = model_1.fit()\n",
    "#输出拟合结果\n",
    "model_1.summary()"
   ],
   "metadata": {
    "collapsed": false
   }
  },
  {
   "cell_type": "code",
   "execution_count": 57,
   "outputs": [
    {
     "data": {
      "text/plain": "Index(['销售日期', '销售价格', '卧室数', '浴室数', '房屋面积', '停车面积', '楼层数', '房屋评分', '建筑面积',\n       '地下室面积', '建筑年份', '纬度', '经度'],\n      dtype='object')"
     },
     "execution_count": 57,
     "metadata": {},
     "output_type": "execute_result"
    }
   ],
   "source": [
    "data.columns"
   ],
   "metadata": {
    "collapsed": false
   }
  },
  {
   "cell_type": "code",
   "execution_count": 35,
   "outputs": [
    {
     "data": {
      "text/plain": "                              销售日期    销售价格  卧室数   浴室数  房屋面积           停车面积  \\\n4786 1970-01-01 00:00:00.020210502  612500    4  2.50  2730   13867.399781   \n3539 1970-01-01 00:00:00.020210502  440000    4  2.25  2160    8119.000000   \n3566 1970-01-01 00:00:00.020210502  790000    3  2.50  2600    4750.000000   \n7630 1970-01-01 00:00:00.020210502  470000    5  2.50  2210    9655.000000   \n7090 1970-01-01 00:00:00.020210502  491500    4  1.75  2190  125452.000000   \n\n      楼层数  房屋评分  建筑面积   地下室面积  建筑年份       纬度       经度  \n4786  2.0     9  2730     0.0  1991  47.7419 -122.205  \n3539  1.0     8  1080  1080.0  1966  47.5443 -122.177  \n3566  1.0     9  1700   900.0  1951  47.6833 -122.400  \n7630  1.0     8  1460   750.0  1976  47.7698 -122.222  \n7090  1.0     9  2190     0.0  1968  47.2703 -122.069  ",
      "text/html": "<div>\n<style scoped>\n    .dataframe tbody tr th:only-of-type {\n        vertical-align: middle;\n    }\n\n    .dataframe tbody tr th {\n        vertical-align: top;\n    }\n\n    .dataframe thead th {\n        text-align: right;\n    }\n</style>\n<table border=\"1\" class=\"dataframe\">\n  <thead>\n    <tr style=\"text-align: right;\">\n      <th></th>\n      <th>销售日期</th>\n      <th>销售价格</th>\n      <th>卧室数</th>\n      <th>浴室数</th>\n      <th>房屋面积</th>\n      <th>停车面积</th>\n      <th>楼层数</th>\n      <th>房屋评分</th>\n      <th>建筑面积</th>\n      <th>地下室面积</th>\n      <th>建筑年份</th>\n      <th>纬度</th>\n      <th>经度</th>\n    </tr>\n  </thead>\n  <tbody>\n    <tr>\n      <th>4786</th>\n      <td>1970-01-01 00:00:00.020210502</td>\n      <td>612500</td>\n      <td>4</td>\n      <td>2.50</td>\n      <td>2730</td>\n      <td>13867.399781</td>\n      <td>2.0</td>\n      <td>9</td>\n      <td>2730</td>\n      <td>0.0</td>\n      <td>1991</td>\n      <td>47.7419</td>\n      <td>-122.205</td>\n    </tr>\n    <tr>\n      <th>3539</th>\n      <td>1970-01-01 00:00:00.020210502</td>\n      <td>440000</td>\n      <td>4</td>\n      <td>2.25</td>\n      <td>2160</td>\n      <td>8119.000000</td>\n      <td>1.0</td>\n      <td>8</td>\n      <td>1080</td>\n      <td>1080.0</td>\n      <td>1966</td>\n      <td>47.5443</td>\n      <td>-122.177</td>\n    </tr>\n    <tr>\n      <th>3566</th>\n      <td>1970-01-01 00:00:00.020210502</td>\n      <td>790000</td>\n      <td>3</td>\n      <td>2.50</td>\n      <td>2600</td>\n      <td>4750.000000</td>\n      <td>1.0</td>\n      <td>9</td>\n      <td>1700</td>\n      <td>900.0</td>\n      <td>1951</td>\n      <td>47.6833</td>\n      <td>-122.400</td>\n    </tr>\n    <tr>\n      <th>7630</th>\n      <td>1970-01-01 00:00:00.020210502</td>\n      <td>470000</td>\n      <td>5</td>\n      <td>2.50</td>\n      <td>2210</td>\n      <td>9655.000000</td>\n      <td>1.0</td>\n      <td>8</td>\n      <td>1460</td>\n      <td>750.0</td>\n      <td>1976</td>\n      <td>47.7698</td>\n      <td>-122.222</td>\n    </tr>\n    <tr>\n      <th>7090</th>\n      <td>1970-01-01 00:00:00.020210502</td>\n      <td>491500</td>\n      <td>4</td>\n      <td>1.75</td>\n      <td>2190</td>\n      <td>125452.000000</td>\n      <td>1.0</td>\n      <td>9</td>\n      <td>2190</td>\n      <td>0.0</td>\n      <td>1968</td>\n      <td>47.2703</td>\n      <td>-122.069</td>\n    </tr>\n  </tbody>\n</table>\n</div>"
     },
     "execution_count": 35,
     "metadata": {},
     "output_type": "execute_result"
    }
   ],
   "source": [
    "data=data.sort_values('销售日期')\n",
    "data.head()"
   ],
   "metadata": {
    "collapsed": false
   }
  },
  {
   "cell_type": "code",
   "execution_count": 32,
   "outputs": [],
   "source": [
    "train_data['销售日期']=pd.to_datetime(train_data['销售日期'],errors='raise')\n",
    "data = train_data.drop('修复年份',axis=1)"
   ],
   "metadata": {
    "collapsed": false
   }
  },
  {
   "cell_type": "code",
   "execution_count": 31,
   "outputs": [
    {
     "data": {
      "text/plain": "0"
     },
     "execution_count": 31,
     "metadata": {},
     "output_type": "execute_result"
    }
   ],
   "source": [
    "train_data['地下室面积']=train_data['地下室面积'].fillna(train_data[~train_data['地下室面积'].isnull()]['地下室面积'].mean())\n",
    "train_data['地下室面积'].isnull().sum()\n",
    "train_data['停车面积']=pd.to_numeric(train_data['停车面积'],errors='coerce')\n",
    "train_data['停车面积']=train_data['停车面积'].fillna(train_data[~train_data['停车面积'].isnull()]['停车面积'].mean())"
   ],
   "metadata": {
    "collapsed": false
   }
  },
  {
   "cell_type": "code",
   "execution_count": 29,
   "outputs": [
    {
     "data": {
      "text/plain": "(9995, 14)"
     },
     "execution_count": 29,
     "metadata": {},
     "output_type": "execute_result"
    },
    {
     "data": {
      "text/plain": "       销售日期    销售价格  卧室数   浴室数  房屋面积     停车面积  楼层数  房屋评分  建筑面积  地下室面积  建筑年份  \\\n0  20220302  545000    3  2.25  1670     6240  1.0     8  1240  430.0  1974   \n1  20220211  785000    4  2.50  3300  unknown  2.0    10  3300    0.0  1984   \n2  20220107  765000    3  3.25  3190     5283  2.0     9  3190    0.0  2007   \n3  20211103  720000    5  2.50  2900     9525  2.0     9  2900    0.0  1989   \n4  20210603  449500    5  2.75  2040     7488  1.0     7  1200  840.0  1969   \n\n   修复年份       纬度       经度  \n0   0.0  47.6413 -122.113  \n1   0.0  47.6323 -122.036  \n2   0.0  47.5534 -122.002  \n3   0.0  47.5442 -122.138  \n4   0.0  47.7289 -122.172  ",
      "text/html": "<div>\n<style scoped>\n    .dataframe tbody tr th:only-of-type {\n        vertical-align: middle;\n    }\n\n    .dataframe tbody tr th {\n        vertical-align: top;\n    }\n\n    .dataframe thead th {\n        text-align: right;\n    }\n</style>\n<table border=\"1\" class=\"dataframe\">\n  <thead>\n    <tr style=\"text-align: right;\">\n      <th></th>\n      <th>销售日期</th>\n      <th>销售价格</th>\n      <th>卧室数</th>\n      <th>浴室数</th>\n      <th>房屋面积</th>\n      <th>停车面积</th>\n      <th>楼层数</th>\n      <th>房屋评分</th>\n      <th>建筑面积</th>\n      <th>地下室面积</th>\n      <th>建筑年份</th>\n      <th>修复年份</th>\n      <th>纬度</th>\n      <th>经度</th>\n    </tr>\n  </thead>\n  <tbody>\n    <tr>\n      <th>0</th>\n      <td>20220302</td>\n      <td>545000</td>\n      <td>3</td>\n      <td>2.25</td>\n      <td>1670</td>\n      <td>6240</td>\n      <td>1.0</td>\n      <td>8</td>\n      <td>1240</td>\n      <td>430.0</td>\n      <td>1974</td>\n      <td>0.0</td>\n      <td>47.6413</td>\n      <td>-122.113</td>\n    </tr>\n    <tr>\n      <th>1</th>\n      <td>20220211</td>\n      <td>785000</td>\n      <td>4</td>\n      <td>2.50</td>\n      <td>3300</td>\n      <td>unknown</td>\n      <td>2.0</td>\n      <td>10</td>\n      <td>3300</td>\n      <td>0.0</td>\n      <td>1984</td>\n      <td>0.0</td>\n      <td>47.6323</td>\n      <td>-122.036</td>\n    </tr>\n    <tr>\n      <th>2</th>\n      <td>20220107</td>\n      <td>765000</td>\n      <td>3</td>\n      <td>3.25</td>\n      <td>3190</td>\n      <td>5283</td>\n      <td>2.0</td>\n      <td>9</td>\n      <td>3190</td>\n      <td>0.0</td>\n      <td>2007</td>\n      <td>0.0</td>\n      <td>47.5534</td>\n      <td>-122.002</td>\n    </tr>\n    <tr>\n      <th>3</th>\n      <td>20211103</td>\n      <td>720000</td>\n      <td>5</td>\n      <td>2.50</td>\n      <td>2900</td>\n      <td>9525</td>\n      <td>2.0</td>\n      <td>9</td>\n      <td>2900</td>\n      <td>0.0</td>\n      <td>1989</td>\n      <td>0.0</td>\n      <td>47.5442</td>\n      <td>-122.138</td>\n    </tr>\n    <tr>\n      <th>4</th>\n      <td>20210603</td>\n      <td>449500</td>\n      <td>5</td>\n      <td>2.75</td>\n      <td>2040</td>\n      <td>7488</td>\n      <td>1.0</td>\n      <td>7</td>\n      <td>1200</td>\n      <td>840.0</td>\n      <td>1969</td>\n      <td>0.0</td>\n      <td>47.7289</td>\n      <td>-122.172</td>\n    </tr>\n  </tbody>\n</table>\n</div>"
     },
     "execution_count": 29,
     "metadata": {},
     "output_type": "execute_result"
    }
   ],
   "source": [
    "os.chdir('C:\\Data\\Jupyter_file\\机器学习')\n",
    "train_data = pd.read_excel('train_data.xlsx')\n",
    "train_data.shape\n",
    "train_data.head()"
   ],
   "metadata": {
    "collapsed": false
   }
  },
  {
   "cell_type": "code",
   "execution_count": 27,
   "outputs": [
    {
     "name": "stdout",
     "output_type": "stream",
     "text": [
      "<class 'pandas.core.frame.DataFrame'>\n",
      "RangeIndex: 76 entries, 0 to 75\n",
      "Data columns (total 13 columns):\n",
      " #   Column           Non-Null Count  Dtype  \n",
      "---  ------           --------------  -----  \n",
      " 0   avg_exp          76 non-null     float64\n",
      " 1   gender           76 non-null     int64  \n",
      " 2   Age              76 non-null     float64\n",
      " 3   Income           76 non-null     float64\n",
      " 4   Ownrent          76 non-null     int64  \n",
      " 5   Selfempl         76 non-null     int64  \n",
      " 6   dist_home_val    76 non-null     float64\n",
      " 7   dist_avg_income  76 non-null     float64\n",
      " 8   edu_class        76 non-null     int64  \n",
      " 9   edu_1            76 non-null     uint8  \n",
      " 10  edu_2            76 non-null     uint8  \n",
      " 11  edu_3            76 non-null     uint8  \n",
      " 12  edu_4            76 non-null     uint8  \n",
      "dtypes: float64(5), int64(4), uint8(4)\n",
      "memory usage: 5.8 KB\n"
     ]
    }
   ],
   "source": [
    "#常用接口\n",
    "dir(model)\n",
    "model.resid"
   ],
   "metadata": {
    "collapsed": false
   }
  },
  {
   "cell_type": "code",
   "execution_count": 28,
   "outputs": [
    {
     "data": {
      "text/plain": "<class 'statsmodels.iolib.summary.Summary'>\n\"\"\"\n                            OLS Regression Results                            \n==============================================================================\nDep. Variable:                avg_exp   R-squared:                       0.720\nModel:                            OLS   Adj. R-squared:                  0.671\nMethod:                 Least Squares   F-statistic:                     14.93\nDate:                Thu, 16 Mar 2023   Prob (F-statistic):           8.36e-14\nTime:                        14:04:30   Log-Likelihood:                -519.52\nNo. Observations:                  76   AIC:                             1063.\nDf Residuals:                      64   BIC:                             1091.\nDf Model:                          11                                         \nCovariance Type:            nonrobust                                         \n===================================================================================\n                      coef    std err          t      P>|t|      [0.025      0.975]\n-----------------------------------------------------------------------------------\nIntercept         535.9565    223.038      2.403      0.019      90.387     981.526\ngender           -447.4828     97.100     -4.608      0.000    -641.463    -253.503\nAge                 0.6121      4.779      0.128      0.898      -8.936      10.160\nIncome           -119.1929     72.411     -1.646      0.105    -263.850      25.464\nOwnrent            41.3184     76.416      0.541      0.591    -111.341     193.977\nSelfempl          153.7000    129.424      1.188      0.239    -104.853     412.253\ndist_home_val       0.1579      0.859      0.184      0.855      -1.557       1.873\ndist_avg_income   211.5250     71.122      2.974      0.004      69.442     353.608\nedu_1            -262.5083     82.890     -3.167      0.002    -428.100     -96.916\nedu_2            -495.1400     92.266     -5.366      0.000    -679.462    -310.818\nedu_3            -292.5211    156.617     -1.868      0.066    -605.400      20.358\nedu_4              49.3783    294.618      0.168      0.867    -539.188     637.945\n==============================================================================\nOmnibus:                        0.894   Durbin-Watson:                   2.112\nProb(Omnibus):                  0.640   Jarque-Bera (JB):                0.613\nSkew:                          -0.219   Prob(JB):                        0.736\nKurtosis:                       3.044   Cond. No.                     1.00e+03\n==============================================================================\n\nNotes:\n[1] Standard Errors assume that the covariance matrix of the errors is correctly specified.\n[2] The condition number is large,  1e+03. This might indicate that there are\nstrong multicollinearity or other numerical problems.\n\"\"\"",
      "text/html": "<table class=\"simpletable\">\n<caption>OLS Regression Results</caption>\n<tr>\n  <th>Dep. Variable:</th>         <td>avg_exp</td>     <th>  R-squared:         </th> <td>   0.720</td>\n</tr>\n<tr>\n  <th>Model:</th>                   <td>OLS</td>       <th>  Adj. R-squared:    </th> <td>   0.671</td>\n</tr>\n<tr>\n  <th>Method:</th>             <td>Least Squares</td>  <th>  F-statistic:       </th> <td>   14.93</td>\n</tr>\n<tr>\n  <th>Date:</th>             <td>Thu, 16 Mar 2023</td> <th>  Prob (F-statistic):</th> <td>8.36e-14</td>\n</tr>\n<tr>\n  <th>Time:</th>                 <td>14:04:30</td>     <th>  Log-Likelihood:    </th> <td> -519.52</td>\n</tr>\n<tr>\n  <th>No. Observations:</th>      <td>    76</td>      <th>  AIC:               </th> <td>   1063.</td>\n</tr>\n<tr>\n  <th>Df Residuals:</th>          <td>    64</td>      <th>  BIC:               </th> <td>   1091.</td>\n</tr>\n<tr>\n  <th>Df Model:</th>              <td>    11</td>      <th>                     </th>     <td> </td>   \n</tr>\n<tr>\n  <th>Covariance Type:</th>      <td>nonrobust</td>    <th>                     </th>     <td> </td>   \n</tr>\n</table>\n<table class=\"simpletable\">\n<tr>\n         <td></td>            <th>coef</th>     <th>std err</th>      <th>t</th>      <th>P>|t|</th>  <th>[0.025</th>    <th>0.975]</th>  \n</tr>\n<tr>\n  <th>Intercept</th>       <td>  535.9565</td> <td>  223.038</td> <td>    2.403</td> <td> 0.019</td> <td>   90.387</td> <td>  981.526</td>\n</tr>\n<tr>\n  <th>gender</th>          <td> -447.4828</td> <td>   97.100</td> <td>   -4.608</td> <td> 0.000</td> <td> -641.463</td> <td> -253.503</td>\n</tr>\n<tr>\n  <th>Age</th>             <td>    0.6121</td> <td>    4.779</td> <td>    0.128</td> <td> 0.898</td> <td>   -8.936</td> <td>   10.160</td>\n</tr>\n<tr>\n  <th>Income</th>          <td> -119.1929</td> <td>   72.411</td> <td>   -1.646</td> <td> 0.105</td> <td> -263.850</td> <td>   25.464</td>\n</tr>\n<tr>\n  <th>Ownrent</th>         <td>   41.3184</td> <td>   76.416</td> <td>    0.541</td> <td> 0.591</td> <td> -111.341</td> <td>  193.977</td>\n</tr>\n<tr>\n  <th>Selfempl</th>        <td>  153.7000</td> <td>  129.424</td> <td>    1.188</td> <td> 0.239</td> <td> -104.853</td> <td>  412.253</td>\n</tr>\n<tr>\n  <th>dist_home_val</th>   <td>    0.1579</td> <td>    0.859</td> <td>    0.184</td> <td> 0.855</td> <td>   -1.557</td> <td>    1.873</td>\n</tr>\n<tr>\n  <th>dist_avg_income</th> <td>  211.5250</td> <td>   71.122</td> <td>    2.974</td> <td> 0.004</td> <td>   69.442</td> <td>  353.608</td>\n</tr>\n<tr>\n  <th>edu_1</th>           <td> -262.5083</td> <td>   82.890</td> <td>   -3.167</td> <td> 0.002</td> <td> -428.100</td> <td>  -96.916</td>\n</tr>\n<tr>\n  <th>edu_2</th>           <td> -495.1400</td> <td>   92.266</td> <td>   -5.366</td> <td> 0.000</td> <td> -679.462</td> <td> -310.818</td>\n</tr>\n<tr>\n  <th>edu_3</th>           <td> -292.5211</td> <td>  156.617</td> <td>   -1.868</td> <td> 0.066</td> <td> -605.400</td> <td>   20.358</td>\n</tr>\n<tr>\n  <th>edu_4</th>           <td>   49.3783</td> <td>  294.618</td> <td>    0.168</td> <td> 0.867</td> <td> -539.188</td> <td>  637.945</td>\n</tr>\n</table>\n<table class=\"simpletable\">\n<tr>\n  <th>Omnibus:</th>       <td> 0.894</td> <th>  Durbin-Watson:     </th> <td>   2.112</td>\n</tr>\n<tr>\n  <th>Prob(Omnibus):</th> <td> 0.640</td> <th>  Jarque-Bera (JB):  </th> <td>   0.613</td>\n</tr>\n<tr>\n  <th>Skew:</th>          <td>-0.219</td> <th>  Prob(JB):          </th> <td>   0.736</td>\n</tr>\n<tr>\n  <th>Kurtosis:</th>      <td> 3.044</td> <th>  Cond. No.          </th> <td>1.00e+03</td>\n</tr>\n</table><br/><br/>Notes:<br/>[1] Standard Errors assume that the covariance matrix of the errors is correctly specified.<br/>[2] The condition number is large,  1e+03. This might indicate that there are<br/>strong multicollinearity or other numerical problems."
     },
     "execution_count": 28,
     "metadata": {},
     "output_type": "execute_result"
    }
   ],
   "source": [
    "#建立模型过程\n",
    "\n",
    "#公式\n",
    "formula = 'avg_exp~gender+Age+Income+Ownrent+Selfempl+dist_home_val+dist_avg_income+edu_1+edu_2+edu_3+edu_4'\n",
    "#实例化\n",
    "model = ols(formula=formula, data=data)\n",
    "#拟合模型\n",
    "model = model.fit()\n",
    "#输出拟合结果\n",
    "model.summary()"
   ],
   "metadata": {
    "collapsed": false
   }
  },
  {
   "cell_type": "code",
   "execution_count": 24,
   "outputs": [
    {
     "data": {
      "text/plain": "<matplotlib.collections.PathCollection at 0x2af473181f0>"
     },
     "execution_count": 24,
     "metadata": {},
     "output_type": "execute_result"
    },
    {
     "data": {
      "text/plain": "<Figure size 640x480 with 1 Axes>",
      "image/png": "[encoded data removed]"
     },
     "metadata": {},
     "output_type": "display_data"
    }
   ],
   "source": [
    "# 散点图\n",
    "# avg_exp和Income\n",
    "plt.scatter(data['Income'], data['avg_exp'])"
   ],
   "metadata": {
    "collapsed": false
   }
  },
  {
   "cell_type": "code",
   "execution_count": null,
   "outputs": [],
   "source": [
    "#热力图\n",
    "# sns.heatmap(data.corr(), annot=True)   显示具体的相关系数计算结果\n",
    "\n",
    "sns.heatmap(data.corr())"
   ],
   "metadata": {
    "collapsed": false
   }
  },
  {
   "cell_type": "code",
   "execution_count": 23,
   "outputs": [
    {
     "data": {
      "text/plain": "             gender   Ownrent  Selfempl  edu_class\ngender     1.000000  0.430469  0.046657  -0.380756\nOwnrent    0.430469  1.000000 -0.115370  -0.324743\nSelfempl   0.046657 -0.115370  1.000000   0.167669\nedu_class -0.380756 -0.324743  0.167669   1.000000",
      "text/html": "<div>\n<style scoped>\n    .dataframe tbody tr th:only-of-type {\n        vertical-align: middle;\n    }\n\n    .dataframe tbody tr th {\n        vertical-align: top;\n    }\n\n    .dataframe thead th {\n        text-align: right;\n    }\n</style>\n<table border=\"1\" class=\"dataframe\">\n  <thead>\n    <tr style=\"text-align: right;\">\n      <th></th>\n      <th>gender</th>\n      <th>Ownrent</th>\n      <th>Selfempl</th>\n      <th>edu_class</th>\n    </tr>\n  </thead>\n  <tbody>\n    <tr>\n      <th>gender</th>\n      <td>1.000000</td>\n      <td>0.430469</td>\n      <td>0.046657</td>\n      <td>-0.380756</td>\n    </tr>\n    <tr>\n      <th>Ownrent</th>\n      <td>0.430469</td>\n      <td>1.000000</td>\n      <td>-0.115370</td>\n      <td>-0.324743</td>\n    </tr>\n    <tr>\n      <th>Selfempl</th>\n      <td>0.046657</td>\n      <td>-0.115370</td>\n      <td>1.000000</td>\n      <td>0.167669</td>\n    </tr>\n    <tr>\n      <th>edu_class</th>\n      <td>-0.380756</td>\n      <td>-0.324743</td>\n      <td>0.167669</td>\n      <td>1.000000</td>\n    </tr>\n  </tbody>\n</table>\n</div>"
     },
     "execution_count": 23,
     "metadata": {},
     "output_type": "execute_result"
    }
   ],
   "source": [
    "#分类变量与分类变量的相关系数计算：斯皮尔曼相关系数\n",
    "data[['gender', 'Ownrent', 'Selfempl', 'edu_class']].corr(method='spearman')"
   ],
   "metadata": {
    "collapsed": false
   }
  },
  {
   "cell_type": "code",
   "execution_count": 22,
   "outputs": [
    {
     "data": {
      "text/plain": "            avg_exp    gender   Ownrent  Selfempl  edu_class\navg_exp    1.000000  0.167236  0.290705  0.064150  -0.561243\ngender     0.167236  1.000000  0.430469  0.046657  -0.351901\nOwnrent    0.290705  0.430469  1.000000 -0.115370  -0.300133\nSelfempl   0.064150  0.046657 -0.115370  1.000000   0.154962\nedu_class -0.561243 -0.351901 -0.300133  0.154962   1.000000",
      "text/html": "<div>\n<style scoped>\n    .dataframe tbody tr th:only-of-type {\n        vertical-align: middle;\n    }\n\n    .dataframe tbody tr th {\n        vertical-align: top;\n    }\n\n    .dataframe thead th {\n        text-align: right;\n    }\n</style>\n<table border=\"1\" class=\"dataframe\">\n  <thead>\n    <tr style=\"text-align: right;\">\n      <th></th>\n      <th>avg_exp</th>\n      <th>gender</th>\n      <th>Ownrent</th>\n      <th>Selfempl</th>\n      <th>edu_class</th>\n    </tr>\n  </thead>\n  <tbody>\n    <tr>\n      <th>avg_exp</th>\n      <td>1.000000</td>\n      <td>0.167236</td>\n      <td>0.290705</td>\n      <td>0.064150</td>\n      <td>-0.561243</td>\n    </tr>\n    <tr>\n      <th>gender</th>\n      <td>0.167236</td>\n      <td>1.000000</td>\n      <td>0.430469</td>\n      <td>0.046657</td>\n      <td>-0.351901</td>\n    </tr>\n    <tr>\n      <th>Ownrent</th>\n      <td>0.290705</td>\n      <td>0.430469</td>\n      <td>1.000000</td>\n      <td>-0.115370</td>\n      <td>-0.300133</td>\n    </tr>\n    <tr>\n      <th>Selfempl</th>\n      <td>0.064150</td>\n      <td>0.046657</td>\n      <td>-0.115370</td>\n      <td>1.000000</td>\n      <td>0.154962</td>\n    </tr>\n    <tr>\n      <th>edu_class</th>\n      <td>-0.561243</td>\n      <td>-0.351901</td>\n      <td>-0.300133</td>\n      <td>0.154962</td>\n      <td>1.000000</td>\n    </tr>\n  </tbody>\n</table>\n</div>"
     },
     "execution_count": 22,
     "metadata": {},
     "output_type": "execute_result"
    }
   ],
   "source": [
    "#分类变量与连续变量的相关系数计算：肯德尔相关系数\n",
    "data[['avg_exp', 'gender', 'Ownrent', 'Selfempl', 'edu_class']].corr(method='kendall')"
   ],
   "metadata": {
    "collapsed": false
   }
  },
  {
   "cell_type": "code",
   "execution_count": 20,
   "outputs": [
    {
     "data": {
      "text/plain": "   avg_exp  gender   Age    Income  Ownrent  Selfempl  dist_home_val  \\\n0  1217.03       1  40.0  16.03515        1         1          99.93   \n1  1251.50       1  32.0  15.84750        1         0          49.88   \n2   856.57       1  41.0  11.47285        1         0          16.10   \n3  1321.83       1  28.0  13.40915        1         0         100.39   \n4   816.03       1  41.0  10.03015        0         1         119.76   \n\n   dist_avg_income  edu_class  edu_1  edu_2  edu_3  edu_4  \n0        15.932789          0      0      0      0      0  \n1        15.796316          1      1      0      0      0  \n2        11.275632          0      0      0      0      0  \n3        13.346474          1      1      0      0      0  \n4        10.332263          0      0      0      0      0  ",
      "text/html": "<div>\n<style scoped>\n    .dataframe tbody tr th:only-of-type {\n        vertical-align: middle;\n    }\n\n    .dataframe tbody tr th {\n        vertical-align: top;\n    }\n\n    .dataframe thead th {\n        text-align: right;\n    }\n</style>\n<table border=\"1\" class=\"dataframe\">\n  <thead>\n    <tr style=\"text-align: right;\">\n      <th></th>\n      <th>avg_exp</th>\n      <th>gender</th>\n      <th>Age</th>\n      <th>Income</th>\n      <th>Ownrent</th>\n      <th>Selfempl</th>\n      <th>dist_home_val</th>\n      <th>dist_avg_income</th>\n      <th>edu_class</th>\n      <th>edu_1</th>\n      <th>edu_2</th>\n      <th>edu_3</th>\n      <th>edu_4</th>\n    </tr>\n  </thead>\n  <tbody>\n    <tr>\n      <th>0</th>\n      <td>1217.03</td>\n      <td>1</td>\n      <td>40.0</td>\n      <td>16.03515</td>\n      <td>1</td>\n      <td>1</td>\n      <td>99.93</td>\n      <td>15.932789</td>\n      <td>0</td>\n      <td>0</td>\n      <td>0</td>\n      <td>0</td>\n      <td>0</td>\n    </tr>\n    <tr>\n      <th>1</th>\n      <td>1251.50</td>\n      <td>1</td>\n      <td>32.0</td>\n      <td>15.84750</td>\n      <td>1</td>\n      <td>0</td>\n      <td>49.88</td>\n      <td>15.796316</td>\n      <td>1</td>\n      <td>1</td>\n      <td>0</td>\n      <td>0</td>\n      <td>0</td>\n    </tr>\n    <tr>\n      <th>2</th>\n      <td>856.57</td>\n      <td>1</td>\n      <td>41.0</td>\n      <td>11.47285</td>\n      <td>1</td>\n      <td>0</td>\n      <td>16.10</td>\n      <td>11.275632</td>\n      <td>0</td>\n      <td>0</td>\n      <td>0</td>\n      <td>0</td>\n      <td>0</td>\n    </tr>\n    <tr>\n      <th>3</th>\n      <td>1321.83</td>\n      <td>1</td>\n      <td>28.0</td>\n      <td>13.40915</td>\n      <td>1</td>\n      <td>0</td>\n      <td>100.39</td>\n      <td>13.346474</td>\n      <td>1</td>\n      <td>1</td>\n      <td>0</td>\n      <td>0</td>\n      <td>0</td>\n    </tr>\n    <tr>\n      <th>4</th>\n      <td>816.03</td>\n      <td>1</td>\n      <td>41.0</td>\n      <td>10.03015</td>\n      <td>0</td>\n      <td>1</td>\n      <td>119.76</td>\n      <td>10.332263</td>\n      <td>0</td>\n      <td>0</td>\n      <td>0</td>\n      <td>0</td>\n      <td>0</td>\n    </tr>\n  </tbody>\n</table>\n</div>"
     },
     "execution_count": 20,
     "metadata": {},
     "output_type": "execute_result"
    }
   ],
   "source": [
    "#合并到原数据\n",
    "data = pd.concat([data_raw, dummy], axis=1)\n",
    "data.head()"
   ],
   "metadata": {
    "collapsed": false
   }
  },
  {
   "cell_type": "code",
   "execution_count": 19,
   "outputs": [
    {
     "data": {
      "text/plain": "   edu_1  edu_2  edu_3  edu_4\n0      0      0      0      0\n1      1      0      0      0\n2      0      0      0      0\n3      1      0      0      0\n4      0      0      0      0",
      "text/html": "<div>\n<style scoped>\n    .dataframe tbody tr th:only-of-type {\n        vertical-align: middle;\n    }\n\n    .dataframe tbody tr th {\n        vertical-align: top;\n    }\n\n    .dataframe thead th {\n        text-align: right;\n    }\n</style>\n<table border=\"1\" class=\"dataframe\">\n  <thead>\n    <tr style=\"text-align: right;\">\n      <th></th>\n      <th>edu_1</th>\n      <th>edu_2</th>\n      <th>edu_3</th>\n      <th>edu_4</th>\n    </tr>\n  </thead>\n  <tbody>\n    <tr>\n      <th>0</th>\n      <td>0</td>\n      <td>0</td>\n      <td>0</td>\n      <td>0</td>\n    </tr>\n    <tr>\n      <th>1</th>\n      <td>1</td>\n      <td>0</td>\n      <td>0</td>\n      <td>0</td>\n    </tr>\n    <tr>\n      <th>2</th>\n      <td>0</td>\n      <td>0</td>\n      <td>0</td>\n      <td>0</td>\n    </tr>\n    <tr>\n      <th>3</th>\n      <td>1</td>\n      <td>0</td>\n      <td>0</td>\n      <td>0</td>\n    </tr>\n    <tr>\n      <th>4</th>\n      <td>0</td>\n      <td>0</td>\n      <td>0</td>\n      <td>0</td>\n    </tr>\n  </tbody>\n</table>\n</div>"
     },
     "execution_count": 19,
     "metadata": {},
     "output_type": "execute_result"
    }
   ],
   "source": [
    "#edu_class哑变量转换\n",
    "dummy = pd.get_dummies(data_raw['edu_class'], prefix='edu', drop_first=True)\n",
    "dummy.head()"
   ],
   "metadata": {
    "collapsed": false
   }
  },
  {
   "cell_type": "code",
   "execution_count": 18,
   "outputs": [
    {
     "data": {
      "text/plain": "40    8.643062\nName: Age, dtype: float64"
     },
     "execution_count": 18,
     "metadata": {},
     "output_type": "execute_result"
    },
    {
     "data": {
      "text/plain": "999"
     },
     "execution_count": 18,
     "metadata": {},
     "output_type": "execute_result"
    },
    {
     "data": {
      "text/plain": "31.213333333333335"
     },
     "execution_count": 18,
     "metadata": {},
     "output_type": "execute_result"
    }
   ],
   "source": [
    "#寻找异常数据的索引\n",
    "z[(z>3)|(z<-3)]\n",
    "#查看异常数据的值\n",
    "data_raw['Age'].iloc[40]\n",
    "data_raw['Age'].drop(index=40).mean()   #不包含异常值的均值计算结果\n",
    "#将异常值使用除异常值之外的数据的均值进行填补\n",
    "data_raw['Age'].iloc[40] = data_raw['Age'].drop(index=40).mean()"
   ],
   "metadata": {
    "collapsed": false
   }
  },
  {
   "cell_type": "code",
   "execution_count": 17,
   "outputs": [
    {
     "data": {
      "text/plain": "0    -0.035723\n1    -0.108122\n2    -0.026673\n3    -0.144321\n4    -0.026673\n        ...   \n71   -0.207670\n72   -0.216720\n73   -0.126221\n74   -0.207670\n75   -0.198620\nName: Age, Length: 76, dtype: float64"
     },
     "execution_count": 17,
     "metadata": {},
     "output_type": "execute_result"
    }
   ],
   "source": [
    "# 3倍标准差\n",
    "from scipy import stats\n",
    "#标准化数据(Age)\n",
    "z = stats.zscore(data_raw['Age'])\n",
    "z"
   ],
   "metadata": {
    "collapsed": false
   }
  },
  {
   "cell_type": "code",
   "execution_count": 13,
   "outputs": [
    {
     "data": {
      "text/plain": "   avg_exp  gender  Age    Income  Ownrent  Selfempl  dist_home_val  \\\n0  1217.03       1   40  16.03515        1         1          99.93   \n1  1251.50       1   32  15.84750        1         0          49.88   \n2   856.57       1   41  11.47285        1         0          16.10   \n3  1321.83       1   28  13.40915        1         0         100.39   \n4   816.03       1   41  10.03015        0         1         119.76   \n\n   dist_avg_income  edu_class  \n0        15.932789          0  \n1        15.796316          1  \n2        11.275632          0  \n3        13.346474          1  \n4        10.332263          0  ",
      "text/html": "<div>\n<style scoped>\n    .dataframe tbody tr th:only-of-type {\n        vertical-align: middle;\n    }\n\n    .dataframe tbody tr th {\n        vertical-align: top;\n    }\n\n    .dataframe thead th {\n        text-align: right;\n    }\n</style>\n<table border=\"1\" class=\"dataframe\">\n  <thead>\n    <tr style=\"text-align: right;\">\n      <th></th>\n      <th>avg_exp</th>\n      <th>gender</th>\n      <th>Age</th>\n      <th>Income</th>\n      <th>Ownrent</th>\n      <th>Selfempl</th>\n      <th>dist_home_val</th>\n      <th>dist_avg_income</th>\n      <th>edu_class</th>\n    </tr>\n  </thead>\n  <tbody>\n    <tr>\n      <th>0</th>\n      <td>1217.03</td>\n      <td>1</td>\n      <td>40</td>\n      <td>16.03515</td>\n      <td>1</td>\n      <td>1</td>\n      <td>99.93</td>\n      <td>15.932789</td>\n      <td>0</td>\n    </tr>\n    <tr>\n      <th>1</th>\n      <td>1251.50</td>\n      <td>1</td>\n      <td>32</td>\n      <td>15.84750</td>\n      <td>1</td>\n      <td>0</td>\n      <td>49.88</td>\n      <td>15.796316</td>\n      <td>1</td>\n    </tr>\n    <tr>\n      <th>2</th>\n      <td>856.57</td>\n      <td>1</td>\n      <td>41</td>\n      <td>11.47285</td>\n      <td>1</td>\n      <td>0</td>\n      <td>16.10</td>\n      <td>11.275632</td>\n      <td>0</td>\n    </tr>\n    <tr>\n      <th>3</th>\n      <td>1321.83</td>\n      <td>1</td>\n      <td>28</td>\n      <td>13.40915</td>\n      <td>1</td>\n      <td>0</td>\n      <td>100.39</td>\n      <td>13.346474</td>\n      <td>1</td>\n    </tr>\n    <tr>\n      <th>4</th>\n      <td>816.03</td>\n      <td>1</td>\n      <td>41</td>\n      <td>10.03015</td>\n      <td>0</td>\n      <td>1</td>\n      <td>119.76</td>\n      <td>10.332263</td>\n      <td>0</td>\n    </tr>\n  </tbody>\n</table>\n</div>"
     },
     "execution_count": 13,
     "metadata": {},
     "output_type": "execute_result"
    }
   ],
   "source": [
    "data_raw.head()"
   ],
   "metadata": {
    "collapsed": false
   }
  },
  {
   "cell_type": "code",
   "execution_count": 11,
   "outputs": [],
   "source": [
    "#方法2：edu_class\n",
    "label = data_raw['edu_class'].unique().tolist()\n",
    "#对原数据进行编码\n",
    "data_raw['edu_class'] = data_raw['edu_class'].apply(lambda x: label.index(x))"
   ],
   "metadata": {
    "collapsed": false
   }
  },
  {
   "cell_type": "code",
   "execution_count": 10,
   "outputs": [
    {
     "name": "stdout",
     "output_type": "stream",
     "text": [
      "<class 'pandas.core.frame.DataFrame'>\n",
      "RangeIndex: 76 entries, 0 to 75\n",
      "Data columns (total 9 columns):\n",
      " #   Column           Non-Null Count  Dtype  \n",
      "---  ------           --------------  -----  \n",
      " 0   avg_exp          76 non-null     float64\n",
      " 1   gender           76 non-null     int64  \n",
      " 2   Age              76 non-null     int64  \n",
      " 3   Income           76 non-null     float64\n",
      " 4   Ownrent          76 non-null     int64  \n",
      " 5   Selfempl         76 non-null     int64  \n",
      " 6   dist_home_val    76 non-null     float64\n",
      " 7   dist_avg_income  76 non-null     float64\n",
      " 8   edu_class        75 non-null     object \n",
      "dtypes: float64(4), int64(4), object(1)\n",
      "memory usage: 5.5+ KB\n"
     ]
    }
   ],
   "source": [
    "data_raw.info()"
   ],
   "metadata": {
    "collapsed": false
   }
  },
  {
   "cell_type": "code",
   "execution_count": 9,
   "outputs": [],
   "source": [
    "# 数据编码\n",
    "#方法1：gender\n",
    "data_raw['gender'] = data_raw['gender'].map({'Male':1, 'Female':0})"
   ],
   "metadata": {
    "collapsed": false
   }
  },
  {
   "cell_type": "code",
   "execution_count": 8,
   "outputs": [],
   "source": [
    "#avg_exp\n",
    "data_raw['avg_exp'].fillna(data_raw['avg_exp'].mean(), inplace=True)"
   ],
   "metadata": {
    "collapsed": false
   }
  },
  {
   "cell_type": "code",
   "execution_count": 7,
   "outputs": [
    {
     "data": {
      "text/plain": "avg_exp            0.078947\ngender             0.000000\nAge                0.000000\nIncome             0.000000\nOwnrent            0.000000\nSelfempl           0.000000\ndist_home_val      0.000000\ndist_avg_income    0.000000\nedu_class          0.013158\ndtype: float64"
     },
     "execution_count": 7,
     "metadata": {},
     "output_type": "execute_result"
    }
   ],
   "source": [
    "#查看缺失情况\n",
    "data_raw.isnull().mean()"
   ],
   "metadata": {
    "collapsed": false
   }
  },
  {
   "cell_type": "code",
   "execution_count": 6,
   "outputs": [
    {
     "data": {
      "text/plain": "0.0"
     },
     "execution_count": 6,
     "metadata": {},
     "output_type": "execute_result"
    }
   ],
   "source": [
    "#查看是否有重复值\n",
    "data_raw.duplicated().mean()"
   ],
   "metadata": {
    "collapsed": false
   }
  },
  {
   "cell_type": "code",
   "execution_count": 5,
   "outputs": [],
   "source": [
    "#变量'id','Acc','edad2'无用\n",
    "data_raw.drop(['id','Acc','edad2'], axis=1, inplace=True)    #方法1:inplace"
   ],
   "metadata": {
    "collapsed": false
   }
  },
  {
   "cell_type": "code",
   "execution_count": 4,
   "outputs": [
    {
     "name": "stdout",
     "output_type": "stream",
     "text": [
      "<class 'pandas.core.frame.DataFrame'>\n",
      "RangeIndex: 76 entries, 0 to 75\n",
      "Data columns (total 12 columns):\n",
      " #   Column           Non-Null Count  Dtype  \n",
      "---  ------           --------------  -----  \n",
      " 0   id               76 non-null     int64  \n",
      " 1   Acc              76 non-null     int64  \n",
      " 2   avg_exp          70 non-null     float64\n",
      " 3   gender           76 non-null     object \n",
      " 4   Age              76 non-null     int64  \n",
      " 5   Income           76 non-null     float64\n",
      " 6   Ownrent          76 non-null     int64  \n",
      " 7   Selfempl         76 non-null     int64  \n",
      " 8   dist_home_val    76 non-null     float64\n",
      " 9   dist_avg_income  76 non-null     float64\n",
      " 10  edad2            76 non-null     int64  \n",
      " 11  edu_class        75 non-null     object \n",
      "dtypes: float64(4), int64(6), object(2)\n",
      "memory usage: 7.2+ KB\n"
     ]
    }
   ],
   "source": [
    "data_raw.info()"
   ],
   "metadata": {
    "collapsed": false
   }
  },
  {
   "cell_type": "code",
   "execution_count": 3,
   "outputs": [
    {
     "data": {
      "text/plain": "   id  Acc  avg_exp gender  Age    Income  Ownrent  Selfempl  dist_home_val  \\\n0  19    1  1217.03   Male   40  16.03515        1         1          99.93   \n1   5    1  1251.50   Male   32  15.84750        1         0          49.88   \n2  86    1   856.57   Male   41  11.47285        1         0          16.10   \n3  50    1  1321.83   Male   28  13.40915        1         0         100.39   \n4  67    1   816.03   Male   41  10.03015        0         1         119.76   \n\n   dist_avg_income  edad2 edu_class  \n0        15.932789   1600       研究生  \n1        15.796316   1024        大学  \n2        11.275632   1681       研究生  \n3        13.346474    784        大学  \n4        10.332263   1681       研究生  ",
      "text/html": "<div>\n<style scoped>\n    .dataframe tbody tr th:only-of-type {\n        vertical-align: middle;\n    }\n\n    .dataframe tbody tr th {\n        vertical-align: top;\n    }\n\n    .dataframe thead th {\n        text-align: right;\n    }\n</style>\n<table border=\"1\" class=\"dataframe\">\n  <thead>\n    <tr style=\"text-align: right;\">\n      <th></th>\n      <th>id</th>\n      <th>Acc</th>\n      <th>avg_exp</th>\n      <th>gender</th>\n      <th>Age</th>\n      <th>Income</th>\n      <th>Ownrent</th>\n      <th>Selfempl</th>\n      <th>dist_home_val</th>\n      <th>dist_avg_income</th>\n      <th>edad2</th>\n      <th>edu_class</th>\n    </tr>\n  </thead>\n  <tbody>\n    <tr>\n      <th>0</th>\n      <td>19</td>\n      <td>1</td>\n      <td>1217.03</td>\n      <td>Male</td>\n      <td>40</td>\n      <td>16.03515</td>\n      <td>1</td>\n      <td>1</td>\n      <td>99.93</td>\n      <td>15.932789</td>\n      <td>1600</td>\n      <td>研究生</td>\n    </tr>\n    <tr>\n      <th>1</th>\n      <td>5</td>\n      <td>1</td>\n      <td>1251.50</td>\n      <td>Male</td>\n      <td>32</td>\n      <td>15.84750</td>\n      <td>1</td>\n      <td>0</td>\n      <td>49.88</td>\n      <td>15.796316</td>\n      <td>1024</td>\n      <td>大学</td>\n    </tr>\n    <tr>\n      <th>2</th>\n      <td>86</td>\n      <td>1</td>\n      <td>856.57</td>\n      <td>Male</td>\n      <td>41</td>\n      <td>11.47285</td>\n      <td>1</td>\n      <td>0</td>\n      <td>16.10</td>\n      <td>11.275632</td>\n      <td>1681</td>\n      <td>研究生</td>\n    </tr>\n    <tr>\n      <th>3</th>\n      <td>50</td>\n      <td>1</td>\n      <td>1321.83</td>\n      <td>Male</td>\n      <td>28</td>\n      <td>13.40915</td>\n      <td>1</td>\n      <td>0</td>\n      <td>100.39</td>\n      <td>13.346474</td>\n      <td>784</td>\n      <td>大学</td>\n    </tr>\n    <tr>\n      <th>4</th>\n      <td>67</td>\n      <td>1</td>\n      <td>816.03</td>\n      <td>Male</td>\n      <td>41</td>\n      <td>10.03015</td>\n      <td>0</td>\n      <td>1</td>\n      <td>119.76</td>\n      <td>10.332263</td>\n      <td>1681</td>\n      <td>研究生</td>\n    </tr>\n  </tbody>\n</table>\n</div>"
     },
     "execution_count": 3,
     "metadata": {},
     "output_type": "execute_result"
    }
   ],
   "source": [
    "#读取数据\n",
    "data_raw = pd.read_excel('LR_practice.xlsx')\n",
    "data_raw.head()"
   ],
   "metadata": {
    "collapsed": false
   }
  },
  {
   "cell_type": "code",
   "execution_count": 2,
   "outputs": [],
   "source": [
    "import seaborn as sns\n",
    "from scipy import stats\n",
    "import matplotlib.pyplot as plt\n",
    "from statsmodels.formula.api import ols\n",
    "import statsmodels.api as sm\n",
    "from statsmodels.stats.outliers_influence import variance_inflation_factor as vif"
   ],
   "metadata": {
    "collapsed": false
   }
  },
  {
   "cell_type": "code",
   "execution_count": 1,
   "outputs": [],
   "source": [
    "from IPython.core.interactiveshell import InteractiveShell\n",
    "InteractiveShell.ast_node_interactivity = \"all\"\n",
    "\n",
    "import numpy as np\n",
    "import pandas as pd\n",
    "\n",
    "import warnings\n",
    "warnings.filterwarnings(\"ignore\")\n",
    "import os\n",
    "os.chdir('C:\\Data\\Jupyter_file\\统计建模')"
   ],
   "metadata": {
    "collapsed": false
   }
  }
 ],
 "metadata": {
  "kernelspec": {
   "display_name": "Python 3",
   "language": "python",
   "name": "python3"
  },
  "language_info": {
   "codemirror_mode": {
    "name": "ipython",
    "version": 2
   },
   "file_extension": ".py",
   "mimetype": "text/x-python",
   "name": "python",
   "nbconvert_exporter": "python",
   "pygments_lexer": "ipython2",
   "version": "2.7.6"
  }
 },
 "nbformat": 4,
 "nbformat_minor": 0
}
