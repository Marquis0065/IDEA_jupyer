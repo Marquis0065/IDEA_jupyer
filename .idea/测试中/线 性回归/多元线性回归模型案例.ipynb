{
 "cells": [
  {
   "cell_type": "code",
   "execution_count": 39,
   "outputs": [
    {
     "data": {
      "text/plain": "     0\n0  1.0",
      "text/html": "<div>\n<style scoped>\n    .dataframe tbody tr th:only-of-type {\n        vertical-align: middle;\n    }\n\n    .dataframe tbody tr th {\n        vertical-align: top;\n    }\n\n    .dataframe thead th {\n        text-align: right;\n    }\n</style>\n<table border=\"1\" class=\"dataframe\">\n  <thead>\n    <tr style=\"text-align: right;\">\n      <th></th>\n      <th>0</th>\n    </tr>\n  </thead>\n  <tbody>\n    <tr>\n      <th>0</th>\n      <td>1.0</td>\n    </tr>\n  </tbody>\n</table>\n</div>"
     },
     "execution_count": 39,
     "metadata": {},
     "output_type": "execute_result"
    }
   ],
   "source": [
    "pd.DataFrame(x,y).corr()"
   ],
   "metadata": {
    "collapsed": false
   }
  },
  {
   "cell_type": "code",
   "execution_count": 36,
   "outputs": [
    {
     "data": {
      "text/plain": "[<matplotlib.lines.Line2D at 0x24176e91e40>]"
     },
     "execution_count": 36,
     "metadata": {},
     "output_type": "execute_result"
    },
    {
     "data": {
      "text/plain": "<Figure size 800x550 with 1 Axes>",
      "image/png": "[encoded data removed]"
     },
     "metadata": {},
     "output_type": "display_data"
    }
   ],
   "source": [
    "x = [i for i in range(1,70)]\n",
    "y = [10-i**2+71*i for i in x]\n",
    "plt.plot(x,y)"
   ],
   "metadata": {
    "collapsed": false
   }
  },
  {
   "cell_type": "code",
   "execution_count": null,
   "outputs": [],
   "source": [
    "# DW检验 代表残差序列的相关性，如果在1-3之外，则表示样本不是随机的，需要检查原数据"
   ],
   "metadata": {
    "collapsed": false
   }
  },
  {
   "cell_type": "code",
   "execution_count": 27,
   "outputs": [
    {
     "data": {
      "text/plain": "<class 'statsmodels.iolib.summary.Summary'>\n\"\"\"\n                            OLS Regression Results                            \n==============================================================================\nDep. Variable:                avg_exp   R-squared:                       0.734\nModel:                            OLS   Adj. R-squared:                  0.689\nMethod:                 Least Squares   F-statistic:                     16.07\nDate:                Fri, 17 Mar 2023   Prob (F-statistic):           1.64e-14\nTime:                        11:23:21   Log-Likelihood:                -517.49\nNo. Observations:                  76   AIC:                             1059.\nDf Residuals:                      64   BIC:                             1087.\nDf Model:                          11                                         \nCovariance Type:            nonrobust                                         \n===================================================================================\n                      coef    std err          t      P>|t|      [0.025      0.975]\n-----------------------------------------------------------------------------------\nIntercept        -635.5772    518.442     -1.226      0.225   -1671.283     400.129\ngender           -476.3444     93.386     -5.101      0.000    -662.904    -289.784\nAge_sq             -1.1368      0.450     -2.526      0.014      -2.036      -0.238\nAge                78.0905     30.829      2.533      0.014      16.502     139.679\nOwnrent            36.9995     73.019      0.507      0.614    -108.873     182.872\nSelfempl           98.2309    123.270      0.797      0.428    -148.030     344.492\ndist_home_val       0.5155      0.839      0.615      0.541      -1.160       2.191\ndist_avg_income    87.2842     16.281      5.361      0.000      54.758     119.810\nedu_1            -223.8123     80.750     -2.772      0.007    -385.129     -62.496\nedu_2            -491.9894     89.700     -5.485      0.000    -671.186    -312.793\nedu_3            -338.3891    152.151     -2.224      0.030    -642.347     -34.432\nedu_4             -94.1811    288.192     -0.327      0.745    -669.910     481.548\n==============================================================================\nOmnibus:                        0.902   Durbin-Watson:                   1.848\nProb(Omnibus):                  0.637   Jarque-Bera (JB):                0.369\nSkew:                          -0.001   Prob(JB):                        0.831\nKurtosis:                       3.342   Cond. No.                     2.15e+04\n==============================================================================\n\nNotes:\n[1] Standard Errors assume that the covariance matrix of the errors is correctly specified.\n[2] The condition number is large, 2.15e+04. This might indicate that there are\nstrong multicollinearity or other numerical problems.\n\"\"\"",
      "text/html": "<table class=\"simpletable\">\n<caption>OLS Regression Results</caption>\n<tr>\n  <th>Dep. Variable:</th>         <td>avg_exp</td>     <th>  R-squared:         </th> <td>   0.734</td>\n</tr>\n<tr>\n  <th>Model:</th>                   <td>OLS</td>       <th>  Adj. R-squared:    </th> <td>   0.689</td>\n</tr>\n<tr>\n  <th>Method:</th>             <td>Least Squares</td>  <th>  F-statistic:       </th> <td>   16.07</td>\n</tr>\n<tr>\n  <th>Date:</th>             <td>Fri, 17 Mar 2023</td> <th>  Prob (F-statistic):</th> <td>1.64e-14</td>\n</tr>\n<tr>\n  <th>Time:</th>                 <td>11:23:21</td>     <th>  Log-Likelihood:    </th> <td> -517.49</td>\n</tr>\n<tr>\n  <th>No. Observations:</th>      <td>    76</td>      <th>  AIC:               </th> <td>   1059.</td>\n</tr>\n<tr>\n  <th>Df Residuals:</th>          <td>    64</td>      <th>  BIC:               </th> <td>   1087.</td>\n</tr>\n<tr>\n  <th>Df Model:</th>              <td>    11</td>      <th>                     </th>     <td> </td>   \n</tr>\n<tr>\n  <th>Covariance Type:</th>      <td>nonrobust</td>    <th>                     </th>     <td> </td>   \n</tr>\n</table>\n<table class=\"simpletable\">\n<tr>\n         <td></td>            <th>coef</th>     <th>std err</th>      <th>t</th>      <th>P>|t|</th>  <th>[0.025</th>    <th>0.975]</th>  \n</tr>\n<tr>\n  <th>Intercept</th>       <td> -635.5772</td> <td>  518.442</td> <td>   -1.226</td> <td> 0.225</td> <td>-1671.283</td> <td>  400.129</td>\n</tr>\n<tr>\n  <th>gender</th>          <td> -476.3444</td> <td>   93.386</td> <td>   -5.101</td> <td> 0.000</td> <td> -662.904</td> <td> -289.784</td>\n</tr>\n<tr>\n  <th>Age_sq</th>          <td>   -1.1368</td> <td>    0.450</td> <td>   -2.526</td> <td> 0.014</td> <td>   -2.036</td> <td>   -0.238</td>\n</tr>\n<tr>\n  <th>Age</th>             <td>   78.0905</td> <td>   30.829</td> <td>    2.533</td> <td> 0.014</td> <td>   16.502</td> <td>  139.679</td>\n</tr>\n<tr>\n  <th>Ownrent</th>         <td>   36.9995</td> <td>   73.019</td> <td>    0.507</td> <td> 0.614</td> <td> -108.873</td> <td>  182.872</td>\n</tr>\n<tr>\n  <th>Selfempl</th>        <td>   98.2309</td> <td>  123.270</td> <td>    0.797</td> <td> 0.428</td> <td> -148.030</td> <td>  344.492</td>\n</tr>\n<tr>\n  <th>dist_home_val</th>   <td>    0.5155</td> <td>    0.839</td> <td>    0.615</td> <td> 0.541</td> <td>   -1.160</td> <td>    2.191</td>\n</tr>\n<tr>\n  <th>dist_avg_income</th> <td>   87.2842</td> <td>   16.281</td> <td>    5.361</td> <td> 0.000</td> <td>   54.758</td> <td>  119.810</td>\n</tr>\n<tr>\n  <th>edu_1</th>           <td> -223.8123</td> <td>   80.750</td> <td>   -2.772</td> <td> 0.007</td> <td> -385.129</td> <td>  -62.496</td>\n</tr>\n<tr>\n  <th>edu_2</th>           <td> -491.9894</td> <td>   89.700</td> <td>   -5.485</td> <td> 0.000</td> <td> -671.186</td> <td> -312.793</td>\n</tr>\n<tr>\n  <th>edu_3</th>           <td> -338.3891</td> <td>  152.151</td> <td>   -2.224</td> <td> 0.030</td> <td> -642.347</td> <td>  -34.432</td>\n</tr>\n<tr>\n  <th>edu_4</th>           <td>  -94.1811</td> <td>  288.192</td> <td>   -0.327</td> <td> 0.745</td> <td> -669.910</td> <td>  481.548</td>\n</tr>\n</table>\n<table class=\"simpletable\">\n<tr>\n  <th>Omnibus:</th>       <td> 0.902</td> <th>  Durbin-Watson:     </th> <td>   1.848</td>\n</tr>\n<tr>\n  <th>Prob(Omnibus):</th> <td> 0.637</td> <th>  Jarque-Bera (JB):  </th> <td>   0.369</td>\n</tr>\n<tr>\n  <th>Skew:</th>          <td>-0.001</td> <th>  Prob(JB):          </th> <td>   0.831</td>\n</tr>\n<tr>\n  <th>Kurtosis:</th>      <td> 3.342</td> <th>  Cond. No.          </th> <td>2.15e+04</td>\n</tr>\n</table><br/><br/>Notes:<br/>[1] Standard Errors assume that the covariance matrix of the errors is correctly specified.<br/>[2] The condition number is large, 2.15e+04. This might indicate that there are<br/>strong multicollinearity or other numerical problems."
     },
     "execution_count": 27,
     "metadata": {},
     "output_type": "execute_result"
    }
   ],
   "source": [
    "# 高次项\n",
    "#加入（年龄）高次项\n",
    "data['Age_sq'] = data['Age']**2\n",
    "#重新拟合模型（年龄高次项）\n",
    "#公式\n",
    "formula_4 = 'avg_exp~gender+Age_sq+Age+Ownrent+Selfempl+dist_home_val+dist_avg_income+edu_1+edu_2+edu_3+edu_4'\n",
    "#实例化\n",
    "model_4 = ols(formula=formula_4, data=data)\n",
    "#拟合模型\n",
    "model_4 = model_4.fit()\n",
    "#输出拟合结果\n",
    "model_4.summary()"
   ],
   "metadata": {
    "collapsed": false
   }
  },
  {
   "cell_type": "code",
   "execution_count": null,
   "outputs": [],
   "source": [
    "# 交互项\n",
    "#加入（年龄性别）交互项\n",
    "data['Age_gender'] = data['Age']*data['gender']\n",
    "#重新拟合模型（年龄性别交互项）\n",
    "#公式\n",
    "formula5 = 'avg_exp~gender+Age_sq+Age+Age_gender+Ownrent+Selfempl+dist_home_val+dist_avg_income+edu_1+edu_2+edu_3+edu_4'\n",
    "#实例化\n",
    "model_5 = ols(formula=formula5, data=data)\n",
    "#拟合模型\n",
    "model_5 = model_5.fit()\n",
    "#输出拟合结果\n",
    "model_5.summary()"
   ],
   "metadata": {
    "collapsed": false
   }
  },
  {
   "cell_type": "code",
   "execution_count": 35,
   "outputs": [
    {
     "data": {
      "text/plain": "pandas.core.frame.DataFrame"
     },
     "execution_count": 35,
     "metadata": {},
     "output_type": "execute_result"
    }
   ],
   "source": [],
   "metadata": {
    "collapsed": false
   }
  },
  {
   "cell_type": "code",
   "execution_count": 36,
   "outputs": [
    {
     "data": {
      "text/plain": "111903.9824843345"
     },
     "execution_count": 36,
     "metadata": {},
     "output_type": "execute_result"
    }
   ],
   "source": [
    "model_3 = ols(formula=formula_2, data=xtrain.join(ytrain))\n",
    "#拟合模型\n",
    "model_3 = model_3.fit()\n",
    "mean_squared_error(ytest,model_3.predict(xtest))"
   ],
   "metadata": {
    "collapsed": false
   }
  },
  {
   "cell_type": "code",
   "execution_count": 33,
   "outputs": [
    {
     "data": {
      "text/plain": "XGBRegressor(base_score=None, booster=None, callbacks=None,\n             colsample_bylevel=None, colsample_bynode=None,\n             colsample_bytree=None, early_stopping_rounds=None,\n             enable_categorical=False, eval_metric=None, feature_types=None,\n             gamma=None, gpu_id=None, grow_policy=None, importance_type=None,\n             interaction_constraints=None, learning_rate=None, max_bin=None,\n             max_cat_threshold=None, max_cat_to_onehot=None,\n             max_delta_step=None, max_depth=None, max_leaves=None,\n             min_child_weight=None, missing=nan, monotone_constraints=None,\n             n_estimators=100, n_jobs=None, num_parallel_tree=None,\n             predictor=None, random_state=None, ...)",
      "text/html": "<style>#sk-container-id-5 {color: black;background-color: white;}#sk-container-id-5 pre{padding: 0;}#sk-container-id-5 div.sk-toggleable {background-color: white;}#sk-container-id-5 label.sk-toggleable__label {cursor: pointer;display: block;width: 100%;margin-bottom: 0;padding: 0.3em;box-sizing: border-box;text-align: center;}#sk-container-id-5 label.sk-toggleable__label-arrow:before {content: \"▸\";float: left;margin-right: 0.25em;color: #696969;}#sk-container-id-5 label.sk-toggleable__label-arrow:hover:before {color: black;}#sk-container-id-5 div.sk-estimator:hover label.sk-toggleable__label-arrow:before {color: black;}#sk-container-id-5 div.sk-toggleable__content {max-height: 0;max-width: 0;overflow: hidden;text-align: left;background-color: #f0f8ff;}#sk-container-id-5 div.sk-toggleable__content pre {margin: 0.2em;color: black;border-radius: 0.25em;background-color: #f0f8ff;}#sk-container-id-5 input.sk-toggleable__control:checked~div.sk-toggleable__content {max-height: 200px;max-width: 100%;overflow: auto;}#sk-container-id-5 input.sk-toggleable__control:checked~label.sk-toggleable__label-arrow:before {content: \"▾\";}#sk-container-id-5 div.sk-estimator input.sk-toggleable__control:checked~label.sk-toggleable__label {background-color: #d4ebff;}#sk-container-id-5 div.sk-label input.sk-toggleable__control:checked~label.sk-toggleable__label {background-color: #d4ebff;}#sk-container-id-5 input.sk-hidden--visually {border: 0;clip: rect(1px 1px 1px 1px);clip: rect(1px, 1px, 1px, 1px);height: 1px;margin: -1px;overflow: hidden;padding: 0;position: absolute;width: 1px;}#sk-container-id-5 div.sk-estimator {font-family: monospace;background-color: #f0f8ff;border: 1px dotted black;border-radius: 0.25em;box-sizing: border-box;margin-bottom: 0.5em;}#sk-container-id-5 div.sk-estimator:hover {background-color: #d4ebff;}#sk-container-id-5 div.sk-parallel-item::after {content: \"\";width: 100%;border-bottom: 1px solid gray;flex-grow: 1;}#sk-container-id-5 div.sk-label:hover label.sk-toggleable__label {background-color: #d4ebff;}#sk-container-id-5 div.sk-serial::before {content: \"\";position: absolute;border-left: 1px solid gray;box-sizing: border-box;top: 0;bottom: 0;left: 50%;z-index: 0;}#sk-container-id-5 div.sk-serial {display: flex;flex-direction: column;align-items: center;background-color: white;padding-right: 0.2em;padding-left: 0.2em;position: relative;}#sk-container-id-5 div.sk-item {position: relative;z-index: 1;}#sk-container-id-5 div.sk-parallel {display: flex;align-items: stretch;justify-content: center;background-color: white;position: relative;}#sk-container-id-5 div.sk-item::before, #sk-container-id-5 div.sk-parallel-item::before {content: \"\";position: absolute;border-left: 1px solid gray;box-sizing: border-box;top: 0;bottom: 0;left: 50%;z-index: -1;}#sk-container-id-5 div.sk-parallel-item {display: flex;flex-direction: column;z-index: 1;position: relative;background-color: white;}#sk-container-id-5 div.sk-parallel-item:first-child::after {align-self: flex-end;width: 50%;}#sk-container-id-5 div.sk-parallel-item:last-child::after {align-self: flex-start;width: 50%;}#sk-container-id-5 div.sk-parallel-item:only-child::after {width: 0;}#sk-container-id-5 div.sk-dashed-wrapped {border: 1px dashed gray;margin: 0 0.4em 0.5em 0.4em;box-sizing: border-box;padding-bottom: 0.4em;background-color: white;}#sk-container-id-5 div.sk-label label {font-family: monospace;font-weight: bold;display: inline-block;line-height: 1.2em;}#sk-container-id-5 div.sk-label-container {text-align: center;}#sk-container-id-5 div.sk-container {/* jupyter's `normalize.less` sets `[hidden] { display: none; }` but bootstrap.min.css set `[hidden] { display: none !important; }` so we also need the `!important` here to be able to override the default hidden behavior on the sphinx rendered scikit-learn.org. See: https://github.com/scikit-learn/scikit-learn/issues/21755 */display: inline-block !important;position: relative;}#sk-container-id-5 div.sk-text-repr-fallback {display: none;}</style><div id=\"sk-container-id-5\" class=\"sk-top-container\"><div class=\"sk-text-repr-fallback\"><pre>XGBRegressor(base_score=None, booster=None, callbacks=None,\n             colsample_bylevel=None, colsample_bynode=None,\n             colsample_bytree=None, early_stopping_rounds=None,\n             enable_categorical=False, eval_metric=None, feature_types=None,\n             gamma=None, gpu_id=None, grow_policy=None, importance_type=None,\n             interaction_constraints=None, learning_rate=None, max_bin=None,\n             max_cat_threshold=None, max_cat_to_onehot=None,\n             max_delta_step=None, max_depth=None, max_leaves=None,\n             min_child_weight=None, missing=nan, monotone_constraints=None,\n             n_estimators=100, n_jobs=None, num_parallel_tree=None,\n             predictor=None, random_state=None, ...)</pre><b>In a Jupyter environment, please rerun this cell to show the HTML representation or trust the notebook. <br />On GitHub, the HTML representation is unable to render, please try loading this page with nbviewer.org.</b></div><div class=\"sk-container\" hidden><div class=\"sk-item\"><div class=\"sk-estimator sk-toggleable\"><input class=\"sk-toggleable__control sk-hidden--visually\" id=\"sk-estimator-id-5\" type=\"checkbox\" checked><label for=\"sk-estimator-id-5\" class=\"sk-toggleable__label sk-toggleable__label-arrow\">XGBRegressor</label><div class=\"sk-toggleable__content\"><pre>XGBRegressor(base_score=None, booster=None, callbacks=None,\n             colsample_bylevel=None, colsample_bynode=None,\n             colsample_bytree=None, early_stopping_rounds=None,\n             enable_categorical=False, eval_metric=None, feature_types=None,\n             gamma=None, gpu_id=None, grow_policy=None, importance_type=None,\n             interaction_constraints=None, learning_rate=None, max_bin=None,\n             max_cat_threshold=None, max_cat_to_onehot=None,\n             max_delta_step=None, max_depth=None, max_leaves=None,\n             min_child_weight=None, missing=nan, monotone_constraints=None,\n             n_estimators=100, n_jobs=None, num_parallel_tree=None,\n             predictor=None, random_state=None, ...)</pre></div></div></div></div></div>"
     },
     "execution_count": 33,
     "metadata": {},
     "output_type": "execute_result"
    },
    {
     "data": {
      "text/plain": "73774.30091610803"
     },
     "execution_count": 33,
     "metadata": {},
     "output_type": "execute_result"
    }
   ],
   "source": [
    "from xgboost.sklearn import XGBRegressor\n",
    "XGB = XGBRegressor()\n",
    "XGB.fit(xtrain,ytrain)\n",
    "mean_squared_error(ytest,XGB.predict(xtest))"
   ],
   "metadata": {
    "collapsed": false
   }
  },
  {
   "cell_type": "code",
   "execution_count": 31,
   "outputs": [
    {
     "data": {
      "text/plain": "DecisionTreeRegressor()",
      "text/html": "<style>#sk-container-id-4 {color: black;background-color: white;}#sk-container-id-4 pre{padding: 0;}#sk-container-id-4 div.sk-toggleable {background-color: white;}#sk-container-id-4 label.sk-toggleable__label {cursor: pointer;display: block;width: 100%;margin-bottom: 0;padding: 0.3em;box-sizing: border-box;text-align: center;}#sk-container-id-4 label.sk-toggleable__label-arrow:before {content: \"▸\";float: left;margin-right: 0.25em;color: #696969;}#sk-container-id-4 label.sk-toggleable__label-arrow:hover:before {color: black;}#sk-container-id-4 div.sk-estimator:hover label.sk-toggleable__label-arrow:before {color: black;}#sk-container-id-4 div.sk-toggleable__content {max-height: 0;max-width: 0;overflow: hidden;text-align: left;background-color: #f0f8ff;}#sk-container-id-4 div.sk-toggleable__content pre {margin: 0.2em;color: black;border-radius: 0.25em;background-color: #f0f8ff;}#sk-container-id-4 input.sk-toggleable__control:checked~div.sk-toggleable__content {max-height: 200px;max-width: 100%;overflow: auto;}#sk-container-id-4 input.sk-toggleable__control:checked~label.sk-toggleable__label-arrow:before {content: \"▾\";}#sk-container-id-4 div.sk-estimator input.sk-toggleable__control:checked~label.sk-toggleable__label {background-color: #d4ebff;}#sk-container-id-4 div.sk-label input.sk-toggleable__control:checked~label.sk-toggleable__label {background-color: #d4ebff;}#sk-container-id-4 input.sk-hidden--visually {border: 0;clip: rect(1px 1px 1px 1px);clip: rect(1px, 1px, 1px, 1px);height: 1px;margin: -1px;overflow: hidden;padding: 0;position: absolute;width: 1px;}#sk-container-id-4 div.sk-estimator {font-family: monospace;background-color: #f0f8ff;border: 1px dotted black;border-radius: 0.25em;box-sizing: border-box;margin-bottom: 0.5em;}#sk-container-id-4 div.sk-estimator:hover {background-color: #d4ebff;}#sk-container-id-4 div.sk-parallel-item::after {content: \"\";width: 100%;border-bottom: 1px solid gray;flex-grow: 1;}#sk-container-id-4 div.sk-label:hover label.sk-toggleable__label {background-color: #d4ebff;}#sk-container-id-4 div.sk-serial::before {content: \"\";position: absolute;border-left: 1px solid gray;box-sizing: border-box;top: 0;bottom: 0;left: 50%;z-index: 0;}#sk-container-id-4 div.sk-serial {display: flex;flex-direction: column;align-items: center;background-color: white;padding-right: 0.2em;padding-left: 0.2em;position: relative;}#sk-container-id-4 div.sk-item {position: relative;z-index: 1;}#sk-container-id-4 div.sk-parallel {display: flex;align-items: stretch;justify-content: center;background-color: white;position: relative;}#sk-container-id-4 div.sk-item::before, #sk-container-id-4 div.sk-parallel-item::before {content: \"\";position: absolute;border-left: 1px solid gray;box-sizing: border-box;top: 0;bottom: 0;left: 50%;z-index: -1;}#sk-container-id-4 div.sk-parallel-item {display: flex;flex-direction: column;z-index: 1;position: relative;background-color: white;}#sk-container-id-4 div.sk-parallel-item:first-child::after {align-self: flex-end;width: 50%;}#sk-container-id-4 div.sk-parallel-item:last-child::after {align-self: flex-start;width: 50%;}#sk-container-id-4 div.sk-parallel-item:only-child::after {width: 0;}#sk-container-id-4 div.sk-dashed-wrapped {border: 1px dashed gray;margin: 0 0.4em 0.5em 0.4em;box-sizing: border-box;padding-bottom: 0.4em;background-color: white;}#sk-container-id-4 div.sk-label label {font-family: monospace;font-weight: bold;display: inline-block;line-height: 1.2em;}#sk-container-id-4 div.sk-label-container {text-align: center;}#sk-container-id-4 div.sk-container {/* jupyter's `normalize.less` sets `[hidden] { display: none; }` but bootstrap.min.css set `[hidden] { display: none !important; }` so we also need the `!important` here to be able to override the default hidden behavior on the sphinx rendered scikit-learn.org. See: https://github.com/scikit-learn/scikit-learn/issues/21755 */display: inline-block !important;position: relative;}#sk-container-id-4 div.sk-text-repr-fallback {display: none;}</style><div id=\"sk-container-id-4\" class=\"sk-top-container\"><div class=\"sk-text-repr-fallback\"><pre>DecisionTreeRegressor()</pre><b>In a Jupyter environment, please rerun this cell to show the HTML representation or trust the notebook. <br />On GitHub, the HTML representation is unable to render, please try loading this page with nbviewer.org.</b></div><div class=\"sk-container\" hidden><div class=\"sk-item\"><div class=\"sk-estimator sk-toggleable\"><input class=\"sk-toggleable__control sk-hidden--visually\" id=\"sk-estimator-id-4\" type=\"checkbox\" checked><label for=\"sk-estimator-id-4\" class=\"sk-toggleable__label sk-toggleable__label-arrow\">DecisionTreeRegressor</label><div class=\"sk-toggleable__content\"><pre>DecisionTreeRegressor()</pre></div></div></div></div></div>"
     },
     "execution_count": 31,
     "metadata": {},
     "output_type": "execute_result"
    },
    {
     "data": {
      "text/plain": "87701.92144493366"
     },
     "execution_count": 31,
     "metadata": {},
     "output_type": "execute_result"
    }
   ],
   "source": [
    "from sklearn import tree\n",
    "DT = tree.DecisionTreeRegressor()\n",
    "DT.fit(xtrain,ytrain)\n",
    "mean_squared_error(ytest,DT.predict(xtest))"
   ],
   "metadata": {
    "collapsed": false
   }
  },
  {
   "cell_type": "code",
   "execution_count": 29,
   "outputs": [
    {
     "data": {
      "text/plain": "RandomForestRegressor()",
      "text/html": "<style>#sk-container-id-2 {color: black;background-color: white;}#sk-container-id-2 pre{padding: 0;}#sk-container-id-2 div.sk-toggleable {background-color: white;}#sk-container-id-2 label.sk-toggleable__label {cursor: pointer;display: block;width: 100%;margin-bottom: 0;padding: 0.3em;box-sizing: border-box;text-align: center;}#sk-container-id-2 label.sk-toggleable__label-arrow:before {content: \"▸\";float: left;margin-right: 0.25em;color: #696969;}#sk-container-id-2 label.sk-toggleable__label-arrow:hover:before {color: black;}#sk-container-id-2 div.sk-estimator:hover label.sk-toggleable__label-arrow:before {color: black;}#sk-container-id-2 div.sk-toggleable__content {max-height: 0;max-width: 0;overflow: hidden;text-align: left;background-color: #f0f8ff;}#sk-container-id-2 div.sk-toggleable__content pre {margin: 0.2em;color: black;border-radius: 0.25em;background-color: #f0f8ff;}#sk-container-id-2 input.sk-toggleable__control:checked~div.sk-toggleable__content {max-height: 200px;max-width: 100%;overflow: auto;}#sk-container-id-2 input.sk-toggleable__control:checked~label.sk-toggleable__label-arrow:before {content: \"▾\";}#sk-container-id-2 div.sk-estimator input.sk-toggleable__control:checked~label.sk-toggleable__label {background-color: #d4ebff;}#sk-container-id-2 div.sk-label input.sk-toggleable__control:checked~label.sk-toggleable__label {background-color: #d4ebff;}#sk-container-id-2 input.sk-hidden--visually {border: 0;clip: rect(1px 1px 1px 1px);clip: rect(1px, 1px, 1px, 1px);height: 1px;margin: -1px;overflow: hidden;padding: 0;position: absolute;width: 1px;}#sk-container-id-2 div.sk-estimator {font-family: monospace;background-color: #f0f8ff;border: 1px dotted black;border-radius: 0.25em;box-sizing: border-box;margin-bottom: 0.5em;}#sk-container-id-2 div.sk-estimator:hover {background-color: #d4ebff;}#sk-container-id-2 div.sk-parallel-item::after {content: \"\";width: 100%;border-bottom: 1px solid gray;flex-grow: 1;}#sk-container-id-2 div.sk-label:hover label.sk-toggleable__label {background-color: #d4ebff;}#sk-container-id-2 div.sk-serial::before {content: \"\";position: absolute;border-left: 1px solid gray;box-sizing: border-box;top: 0;bottom: 0;left: 50%;z-index: 0;}#sk-container-id-2 div.sk-serial {display: flex;flex-direction: column;align-items: center;background-color: white;padding-right: 0.2em;padding-left: 0.2em;position: relative;}#sk-container-id-2 div.sk-item {position: relative;z-index: 1;}#sk-container-id-2 div.sk-parallel {display: flex;align-items: stretch;justify-content: center;background-color: white;position: relative;}#sk-container-id-2 div.sk-item::before, #sk-container-id-2 div.sk-parallel-item::before {content: \"\";position: absolute;border-left: 1px solid gray;box-sizing: border-box;top: 0;bottom: 0;left: 50%;z-index: -1;}#sk-container-id-2 div.sk-parallel-item {display: flex;flex-direction: column;z-index: 1;position: relative;background-color: white;}#sk-container-id-2 div.sk-parallel-item:first-child::after {align-self: flex-end;width: 50%;}#sk-container-id-2 div.sk-parallel-item:last-child::after {align-self: flex-start;width: 50%;}#sk-container-id-2 div.sk-parallel-item:only-child::after {width: 0;}#sk-container-id-2 div.sk-dashed-wrapped {border: 1px dashed gray;margin: 0 0.4em 0.5em 0.4em;box-sizing: border-box;padding-bottom: 0.4em;background-color: white;}#sk-container-id-2 div.sk-label label {font-family: monospace;font-weight: bold;display: inline-block;line-height: 1.2em;}#sk-container-id-2 div.sk-label-container {text-align: center;}#sk-container-id-2 div.sk-container {/* jupyter's `normalize.less` sets `[hidden] { display: none; }` but bootstrap.min.css set `[hidden] { display: none !important; }` so we also need the `!important` here to be able to override the default hidden behavior on the sphinx rendered scikit-learn.org. See: https://github.com/scikit-learn/scikit-learn/issues/21755 */display: inline-block !important;position: relative;}#sk-container-id-2 div.sk-text-repr-fallback {display: none;}</style><div id=\"sk-container-id-2\" class=\"sk-top-container\"><div class=\"sk-text-repr-fallback\"><pre>RandomForestRegressor()</pre><b>In a Jupyter environment, please rerun this cell to show the HTML representation or trust the notebook. <br />On GitHub, the HTML representation is unable to render, please try loading this page with nbviewer.org.</b></div><div class=\"sk-container\" hidden><div class=\"sk-item\"><div class=\"sk-estimator sk-toggleable\"><input class=\"sk-toggleable__control sk-hidden--visually\" id=\"sk-estimator-id-2\" type=\"checkbox\" checked><label for=\"sk-estimator-id-2\" class=\"sk-toggleable__label sk-toggleable__label-arrow\">RandomForestRegressor</label><div class=\"sk-toggleable__content\"><pre>RandomForestRegressor()</pre></div></div></div></div></div>"
     },
     "execution_count": 29,
     "metadata": {},
     "output_type": "execute_result"
    },
    {
     "data": {
      "text/plain": "86651.39842223392"
     },
     "execution_count": 29,
     "metadata": {},
     "output_type": "execute_result"
    }
   ],
   "source": [
    "from sklearn.ensemble import RandomForestRegressor\n",
    "RF = RandomForestRegressor(oob_score=True)\n",
    "RF.fit(xtrain,ytrain)\n",
    "mean_squared_error(ytest,RF.predict(xtest))"
   ],
   "metadata": {
    "collapsed": false
   }
  },
  {
   "cell_type": "code",
   "execution_count": 37,
   "outputs": [
    {
     "data": {
      "text/plain": "RandomForestRegressor(oob_score=True)",
      "text/html": "<style>#sk-container-id-6 {color: black;background-color: white;}#sk-container-id-6 pre{padding: 0;}#sk-container-id-6 div.sk-toggleable {background-color: white;}#sk-container-id-6 label.sk-toggleable__label {cursor: pointer;display: block;width: 100%;margin-bottom: 0;padding: 0.3em;box-sizing: border-box;text-align: center;}#sk-container-id-6 label.sk-toggleable__label-arrow:before {content: \"▸\";float: left;margin-right: 0.25em;color: #696969;}#sk-container-id-6 label.sk-toggleable__label-arrow:hover:before {color: black;}#sk-container-id-6 div.sk-estimator:hover label.sk-toggleable__label-arrow:before {color: black;}#sk-container-id-6 div.sk-toggleable__content {max-height: 0;max-width: 0;overflow: hidden;text-align: left;background-color: #f0f8ff;}#sk-container-id-6 div.sk-toggleable__content pre {margin: 0.2em;color: black;border-radius: 0.25em;background-color: #f0f8ff;}#sk-container-id-6 input.sk-toggleable__control:checked~div.sk-toggleable__content {max-height: 200px;max-width: 100%;overflow: auto;}#sk-container-id-6 input.sk-toggleable__control:checked~label.sk-toggleable__label-arrow:before {content: \"▾\";}#sk-container-id-6 div.sk-estimator input.sk-toggleable__control:checked~label.sk-toggleable__label {background-color: #d4ebff;}#sk-container-id-6 div.sk-label input.sk-toggleable__control:checked~label.sk-toggleable__label {background-color: #d4ebff;}#sk-container-id-6 input.sk-hidden--visually {border: 0;clip: rect(1px 1px 1px 1px);clip: rect(1px, 1px, 1px, 1px);height: 1px;margin: -1px;overflow: hidden;padding: 0;position: absolute;width: 1px;}#sk-container-id-6 div.sk-estimator {font-family: monospace;background-color: #f0f8ff;border: 1px dotted black;border-radius: 0.25em;box-sizing: border-box;margin-bottom: 0.5em;}#sk-container-id-6 div.sk-estimator:hover {background-color: #d4ebff;}#sk-container-id-6 div.sk-parallel-item::after {content: \"\";width: 100%;border-bottom: 1px solid gray;flex-grow: 1;}#sk-container-id-6 div.sk-label:hover label.sk-toggleable__label {background-color: #d4ebff;}#sk-container-id-6 div.sk-serial::before {content: \"\";position: absolute;border-left: 1px solid gray;box-sizing: border-box;top: 0;bottom: 0;left: 50%;z-index: 0;}#sk-container-id-6 div.sk-serial {display: flex;flex-direction: column;align-items: center;background-color: white;padding-right: 0.2em;padding-left: 0.2em;position: relative;}#sk-container-id-6 div.sk-item {position: relative;z-index: 1;}#sk-container-id-6 div.sk-parallel {display: flex;align-items: stretch;justify-content: center;background-color: white;position: relative;}#sk-container-id-6 div.sk-item::before, #sk-container-id-6 div.sk-parallel-item::before {content: \"\";position: absolute;border-left: 1px solid gray;box-sizing: border-box;top: 0;bottom: 0;left: 50%;z-index: -1;}#sk-container-id-6 div.sk-parallel-item {display: flex;flex-direction: column;z-index: 1;position: relative;background-color: white;}#sk-container-id-6 div.sk-parallel-item:first-child::after {align-self: flex-end;width: 50%;}#sk-container-id-6 div.sk-parallel-item:last-child::after {align-self: flex-start;width: 50%;}#sk-container-id-6 div.sk-parallel-item:only-child::after {width: 0;}#sk-container-id-6 div.sk-dashed-wrapped {border: 1px dashed gray;margin: 0 0.4em 0.5em 0.4em;box-sizing: border-box;padding-bottom: 0.4em;background-color: white;}#sk-container-id-6 div.sk-label label {font-family: monospace;font-weight: bold;display: inline-block;line-height: 1.2em;}#sk-container-id-6 div.sk-label-container {text-align: center;}#sk-container-id-6 div.sk-container {/* jupyter's `normalize.less` sets `[hidden] { display: none; }` but bootstrap.min.css set `[hidden] { display: none !important; }` so we also need the `!important` here to be able to override the default hidden behavior on the sphinx rendered scikit-learn.org. See: https://github.com/scikit-learn/scikit-learn/issues/21755 */display: inline-block !important;position: relative;}#sk-container-id-6 div.sk-text-repr-fallback {display: none;}</style><div id=\"sk-container-id-6\" class=\"sk-top-container\"><div class=\"sk-text-repr-fallback\"><pre>RandomForestRegressor(oob_score=True)</pre><b>In a Jupyter environment, please rerun this cell to show the HTML representation or trust the notebook. <br />On GitHub, the HTML representation is unable to render, please try loading this page with nbviewer.org.</b></div><div class=\"sk-container\" hidden><div class=\"sk-item\"><div class=\"sk-estimator sk-toggleable\"><input class=\"sk-toggleable__control sk-hidden--visually\" id=\"sk-estimator-id-6\" type=\"checkbox\" checked><label for=\"sk-estimator-id-6\" class=\"sk-toggleable__label sk-toggleable__label-arrow\">RandomForestRegressor</label><div class=\"sk-toggleable__content\"><pre>RandomForestRegressor(oob_score=True)</pre></div></div></div></div></div>"
     },
     "execution_count": 37,
     "metadata": {},
     "output_type": "execute_result"
    },
    {
     "data": {
      "text/plain": "85390.00156373235"
     },
     "execution_count": 37,
     "metadata": {},
     "output_type": "execute_result"
    }
   ],
   "source": [
    "from sklearn.ensemble import RandomForestRegressor\n",
    "RF = RandomForestRegressor(oob_score=True)\n",
    "RF.fit(xtrain,ytrain)\n",
    "mean_squared_error(ytest,RF.predict(xtest))"
   ],
   "metadata": {
    "collapsed": false
   }
  },
  {
   "cell_type": "code",
   "execution_count": 26,
   "outputs": [
    {
     "data": {
      "text/plain": "LinearRegression()",
      "text/html": "<style>#sk-container-id-1 {color: black;background-color: white;}#sk-container-id-1 pre{padding: 0;}#sk-container-id-1 div.sk-toggleable {background-color: white;}#sk-container-id-1 label.sk-toggleable__label {cursor: pointer;display: block;width: 100%;margin-bottom: 0;padding: 0.3em;box-sizing: border-box;text-align: center;}#sk-container-id-1 label.sk-toggleable__label-arrow:before {content: \"▸\";float: left;margin-right: 0.25em;color: #696969;}#sk-container-id-1 label.sk-toggleable__label-arrow:hover:before {color: black;}#sk-container-id-1 div.sk-estimator:hover label.sk-toggleable__label-arrow:before {color: black;}#sk-container-id-1 div.sk-toggleable__content {max-height: 0;max-width: 0;overflow: hidden;text-align: left;background-color: #f0f8ff;}#sk-container-id-1 div.sk-toggleable__content pre {margin: 0.2em;color: black;border-radius: 0.25em;background-color: #f0f8ff;}#sk-container-id-1 input.sk-toggleable__control:checked~div.sk-toggleable__content {max-height: 200px;max-width: 100%;overflow: auto;}#sk-container-id-1 input.sk-toggleable__control:checked~label.sk-toggleable__label-arrow:before {content: \"▾\";}#sk-container-id-1 div.sk-estimator input.sk-toggleable__control:checked~label.sk-toggleable__label {background-color: #d4ebff;}#sk-container-id-1 div.sk-label input.sk-toggleable__control:checked~label.sk-toggleable__label {background-color: #d4ebff;}#sk-container-id-1 input.sk-hidden--visually {border: 0;clip: rect(1px 1px 1px 1px);clip: rect(1px, 1px, 1px, 1px);height: 1px;margin: -1px;overflow: hidden;padding: 0;position: absolute;width: 1px;}#sk-container-id-1 div.sk-estimator {font-family: monospace;background-color: #f0f8ff;border: 1px dotted black;border-radius: 0.25em;box-sizing: border-box;margin-bottom: 0.5em;}#sk-container-id-1 div.sk-estimator:hover {background-color: #d4ebff;}#sk-container-id-1 div.sk-parallel-item::after {content: \"\";width: 100%;border-bottom: 1px solid gray;flex-grow: 1;}#sk-container-id-1 div.sk-label:hover label.sk-toggleable__label {background-color: #d4ebff;}#sk-container-id-1 div.sk-serial::before {content: \"\";position: absolute;border-left: 1px solid gray;box-sizing: border-box;top: 0;bottom: 0;left: 50%;z-index: 0;}#sk-container-id-1 div.sk-serial {display: flex;flex-direction: column;align-items: center;background-color: white;padding-right: 0.2em;padding-left: 0.2em;position: relative;}#sk-container-id-1 div.sk-item {position: relative;z-index: 1;}#sk-container-id-1 div.sk-parallel {display: flex;align-items: stretch;justify-content: center;background-color: white;position: relative;}#sk-container-id-1 div.sk-item::before, #sk-container-id-1 div.sk-parallel-item::before {content: \"\";position: absolute;border-left: 1px solid gray;box-sizing: border-box;top: 0;bottom: 0;left: 50%;z-index: -1;}#sk-container-id-1 div.sk-parallel-item {display: flex;flex-direction: column;z-index: 1;position: relative;background-color: white;}#sk-container-id-1 div.sk-parallel-item:first-child::after {align-self: flex-end;width: 50%;}#sk-container-id-1 div.sk-parallel-item:last-child::after {align-self: flex-start;width: 50%;}#sk-container-id-1 div.sk-parallel-item:only-child::after {width: 0;}#sk-container-id-1 div.sk-dashed-wrapped {border: 1px dashed gray;margin: 0 0.4em 0.5em 0.4em;box-sizing: border-box;padding-bottom: 0.4em;background-color: white;}#sk-container-id-1 div.sk-label label {font-family: monospace;font-weight: bold;display: inline-block;line-height: 1.2em;}#sk-container-id-1 div.sk-label-container {text-align: center;}#sk-container-id-1 div.sk-container {/* jupyter's `normalize.less` sets `[hidden] { display: none; }` but bootstrap.min.css set `[hidden] { display: none !important; }` so we also need the `!important` here to be able to override the default hidden behavior on the sphinx rendered scikit-learn.org. See: https://github.com/scikit-learn/scikit-learn/issues/21755 */display: inline-block !important;position: relative;}#sk-container-id-1 div.sk-text-repr-fallback {display: none;}</style><div id=\"sk-container-id-1\" class=\"sk-top-container\"><div class=\"sk-text-repr-fallback\"><pre>LinearRegression()</pre><b>In a Jupyter environment, please rerun this cell to show the HTML representation or trust the notebook. <br />On GitHub, the HTML representation is unable to render, please try loading this page with nbviewer.org.</b></div><div class=\"sk-container\" hidden><div class=\"sk-item\"><div class=\"sk-estimator sk-toggleable\"><input class=\"sk-toggleable__control sk-hidden--visually\" id=\"sk-estimator-id-1\" type=\"checkbox\" checked><label for=\"sk-estimator-id-1\" class=\"sk-toggleable__label sk-toggleable__label-arrow\">LinearRegression</label><div class=\"sk-toggleable__content\"><pre>LinearRegression()</pre></div></div></div></div></div>"
     },
     "execution_count": 26,
     "metadata": {},
     "output_type": "execute_result"
    },
    {
     "data": {
      "text/plain": "111903.98248433531"
     },
     "execution_count": 26,
     "metadata": {},
     "output_type": "execute_result"
    }
   ],
   "source": [
    "from sklearn.linear_model import LinearRegression\n",
    "lr = LinearRegression()\n",
    "lr.fit(xtrain,ytrain)\n",
    "# 计算线性模型的评估指标\n",
    "from sklearn.metrics import mean_squared_error\n",
    "mean_squared_error(ytest,lr.predict(xtest))"
   ],
   "metadata": {
    "collapsed": false
   }
  },
  {
   "cell_type": "code",
   "execution_count": 28,
   "outputs": [
    {
     "data": {
      "text/plain": "61629.30472448511"
     },
     "execution_count": 28,
     "metadata": {},
     "output_type": "execute_result"
    }
   ],
   "source": [
    "mean_squared_error(ytest,model_2.predict(xtest))"
   ],
   "metadata": {
    "collapsed": false
   }
  },
  {
   "cell_type": "code",
   "execution_count": 24,
   "outputs": [],
   "source": [
    "# 划分数据集\n",
    "y = data.pop('avg_exp')\n",
    "from sklearn.model_selection import train_test_split\n",
    "xtrain,xtest,ytrain,ytest= train_test_split(data,y,test_size=0.2,random_state=422)"
   ],
   "metadata": {
    "collapsed": false
   }
  },
  {
   "cell_type": "code",
   "execution_count": 22,
   "outputs": [
    {
     "data": {
      "text/plain": "<Figure size 800x550 with 1 Axes>",
      "image/png": "[encoded data removed]"
     },
     "metadata": {},
     "output_type": "display_data"
    }
   ],
   "source": [
    "# 正态性\n",
    "res = stats.probplot(model_2.resid, plot=plt)\n",
    "#因变量取对数 ，因为如果小数影响较大，避免找改变数据量纲，把线路向上平移+1\n",
    "# data['ln_avg_exp'] = np.log(data['avg_exp']+1)"
   ],
   "metadata": {
    "collapsed": false
   }
  },
  {
   "cell_type": "code",
   "execution_count": 21,
   "outputs": [
    {
     "data": {
      "text/plain": "<matplotlib.collections.PathCollection at 0x220ce4a06d0>"
     },
     "execution_count": 21,
     "metadata": {},
     "output_type": "execute_result"
    },
    {
     "data": {
      "text/plain": "<Figure size 800x550 with 1 Axes>",
      "image/png": "[encoded data removed]"
     },
     "metadata": {},
     "output_type": "display_data"
    }
   ],
   "source": [
    "# 同方差 绘制残差图\n",
    "# 一元回归： 横轴为自变量，纵轴为model_2.resid残差\n",
    "# 多元回归： 横轴为拟合值，纵轴为残差 model_2.predict(data)   #拟合值\n",
    "#残差图：如果为喇叭状就需要处理，对Y取对数，出现非正态也是对Y取对数\n",
    "plt.scatter(model_2.predict(data), model_2.resid)"
   ],
   "metadata": {
    "collapsed": false
   }
  },
  {
   "cell_type": "code",
   "execution_count": 20,
   "outputs": [
    {
     "data": {
      "text/plain": "<class 'statsmodels.iolib.summary.Summary'>\n\"\"\"\n                            OLS Regression Results                            \n==============================================================================\nDep. Variable:                avg_exp   R-squared:                       0.708\nModel:                            OLS   Adj. R-squared:                  0.663\nMethod:                 Least Squares   F-statistic:                     15.74\nDate:                Sat, 29 Apr 2023   Prob (F-statistic):           7.14e-14\nTime:                        22:43:52   Log-Likelihood:                -521.10\nNo. Observations:                  76   AIC:                             1064.\nDf Residuals:                      65   BIC:                             1090.\nDf Model:                          10                                         \nCovariance Type:            nonrobust                                         \n===================================================================================\n                      coef    std err          t      P>|t|      [0.025      0.975]\n-----------------------------------------------------------------------------------\nIntercept         553.7869    225.685      2.454      0.017     103.062    1004.511\ngender           -472.4592     97.160     -4.863      0.000    -666.502    -278.416\nAge                 1.1111      4.832      0.230      0.819      -8.539      10.761\nOwnrent            11.9649     75.277      0.159      0.874    -138.374     162.304\nSelfempl          108.9822    128.194      0.850      0.398    -147.038     365.002\ndist_home_val       0.2724      0.867      0.314      0.754      -1.459       2.004\ndist_avg_income    97.5291     16.408      5.944      0.000      64.761     130.297\nedu_1            -247.4391     83.459     -2.965      0.004    -414.119     -80.759\nedu_2            -486.1425     93.307     -5.210      0.000    -672.489    -299.796\nedu_3            -315.3806    158.038     -1.996      0.050    -631.005       0.244\nedu_4               3.8444    297.148      0.013      0.990    -589.602     597.291\n==============================================================================\nOmnibus:                        1.093   Durbin-Watson:                   1.963\nProb(Omnibus):                  0.579   Jarque-Bera (JB):                0.521\nSkew:                          -0.056   Prob(JB):                        0.771\nKurtosis:                       3.390   Cond. No.                         993.\n==============================================================================\n\nNotes:\n[1] Standard Errors assume that the covariance matrix of the errors is correctly specified.\n\"\"\"",
      "text/html": "<table class=\"simpletable\">\n<caption>OLS Regression Results</caption>\n<tr>\n  <th>Dep. Variable:</th>         <td>avg_exp</td>     <th>  R-squared:         </th> <td>   0.708</td>\n</tr>\n<tr>\n  <th>Model:</th>                   <td>OLS</td>       <th>  Adj. R-squared:    </th> <td>   0.663</td>\n</tr>\n<tr>\n  <th>Method:</th>             <td>Least Squares</td>  <th>  F-statistic:       </th> <td>   15.74</td>\n</tr>\n<tr>\n  <th>Date:</th>             <td>Sat, 29 Apr 2023</td> <th>  Prob (F-statistic):</th> <td>7.14e-14</td>\n</tr>\n<tr>\n  <th>Time:</th>                 <td>22:43:52</td>     <th>  Log-Likelihood:    </th> <td> -521.10</td>\n</tr>\n<tr>\n  <th>No. Observations:</th>      <td>    76</td>      <th>  AIC:               </th> <td>   1064.</td>\n</tr>\n<tr>\n  <th>Df Residuals:</th>          <td>    65</td>      <th>  BIC:               </th> <td>   1090.</td>\n</tr>\n<tr>\n  <th>Df Model:</th>              <td>    10</td>      <th>                     </th>     <td> </td>   \n</tr>\n<tr>\n  <th>Covariance Type:</th>      <td>nonrobust</td>    <th>                     </th>     <td> </td>   \n</tr>\n</table>\n<table class=\"simpletable\">\n<tr>\n         <td></td>            <th>coef</th>     <th>std err</th>      <th>t</th>      <th>P>|t|</th>  <th>[0.025</th>    <th>0.975]</th>  \n</tr>\n<tr>\n  <th>Intercept</th>       <td>  553.7869</td> <td>  225.685</td> <td>    2.454</td> <td> 0.017</td> <td>  103.062</td> <td> 1004.511</td>\n</tr>\n<tr>\n  <th>gender</th>          <td> -472.4592</td> <td>   97.160</td> <td>   -4.863</td> <td> 0.000</td> <td> -666.502</td> <td> -278.416</td>\n</tr>\n<tr>\n  <th>Age</th>             <td>    1.1111</td> <td>    4.832</td> <td>    0.230</td> <td> 0.819</td> <td>   -8.539</td> <td>   10.761</td>\n</tr>\n<tr>\n  <th>Ownrent</th>         <td>   11.9649</td> <td>   75.277</td> <td>    0.159</td> <td> 0.874</td> <td> -138.374</td> <td>  162.304</td>\n</tr>\n<tr>\n  <th>Selfempl</th>        <td>  108.9822</td> <td>  128.194</td> <td>    0.850</td> <td> 0.398</td> <td> -147.038</td> <td>  365.002</td>\n</tr>\n<tr>\n  <th>dist_home_val</th>   <td>    0.2724</td> <td>    0.867</td> <td>    0.314</td> <td> 0.754</td> <td>   -1.459</td> <td>    2.004</td>\n</tr>\n<tr>\n  <th>dist_avg_income</th> <td>   97.5291</td> <td>   16.408</td> <td>    5.944</td> <td> 0.000</td> <td>   64.761</td> <td>  130.297</td>\n</tr>\n<tr>\n  <th>edu_1</th>           <td> -247.4391</td> <td>   83.459</td> <td>   -2.965</td> <td> 0.004</td> <td> -414.119</td> <td>  -80.759</td>\n</tr>\n<tr>\n  <th>edu_2</th>           <td> -486.1425</td> <td>   93.307</td> <td>   -5.210</td> <td> 0.000</td> <td> -672.489</td> <td> -299.796</td>\n</tr>\n<tr>\n  <th>edu_3</th>           <td> -315.3806</td> <td>  158.038</td> <td>   -1.996</td> <td> 0.050</td> <td> -631.005</td> <td>    0.244</td>\n</tr>\n<tr>\n  <th>edu_4</th>           <td>    3.8444</td> <td>  297.148</td> <td>    0.013</td> <td> 0.990</td> <td> -589.602</td> <td>  597.291</td>\n</tr>\n</table>\n<table class=\"simpletable\">\n<tr>\n  <th>Omnibus:</th>       <td> 1.093</td> <th>  Durbin-Watson:     </th> <td>   1.963</td>\n</tr>\n<tr>\n  <th>Prob(Omnibus):</th> <td> 0.579</td> <th>  Jarque-Bera (JB):  </th> <td>   0.521</td>\n</tr>\n<tr>\n  <th>Skew:</th>          <td>-0.056</td> <th>  Prob(JB):          </th> <td>   0.771</td>\n</tr>\n<tr>\n  <th>Kurtosis:</th>      <td> 3.390</td> <th>  Cond. No.          </th> <td>    993.</td>\n</tr>\n</table><br/><br/>Notes:<br/>[1] Standard Errors assume that the covariance matrix of the errors is correctly specified."
     },
     "execution_count": 20,
     "metadata": {},
     "output_type": "execute_result"
    }
   ],
   "source": [
    "#重新拟合模型\n",
    "#公式\n",
    "formula_2 = 'avg_exp~gender+Age+Ownrent+Selfempl+dist_home_val+dist_avg_income+edu_1+edu_2+edu_3+edu_4'\n",
    "#实例化\n",
    "model_2 = ols(formula=formula_2, data=data)\n",
    "#拟合模型\n",
    "model_2 = model_2.fit()\n",
    "#输出拟合结果\n",
    "model_2.summary()"
   ],
   "metadata": {
    "collapsed": false
   }
  },
  {
   "cell_type": "code",
   "execution_count": 19,
   "outputs": [],
   "source": [
    "#去掉共线性高的变量\n",
    "data.drop('Income', axis=1, inplace=True)"
   ],
   "metadata": {
    "collapsed": false
   }
  },
  {
   "cell_type": "code",
   "execution_count": 21,
   "outputs": [
    {
     "data": {
      "text/plain": "<matplotlib.collections.PathCollection at 0x2417465efb0>"
     },
     "execution_count": 21,
     "metadata": {},
     "output_type": "execute_result"
    },
    {
     "data": {
      "text/plain": "<Figure size 800x550 with 1 Axes>",
      "image/png": "[encoded data removed]"
     },
     "metadata": {},
     "output_type": "display_data"
    }
   ],
   "source": [
    "plt.scatter(data_vif['Income'],data_vif['dist_avg_income'])\n",
    "#两者有极高的线性相关，删除其中一项再重新建模"
   ],
   "metadata": {
    "collapsed": false
   }
  },
  {
   "cell_type": "code",
   "execution_count": 18,
   "outputs": [
    {
     "name": "stdout",
     "output_type": "stream",
     "text": [
      "gender 2.209191974683995\n",
      "Age 1.3708810657506336\n",
      "Income 64.76239230667088\n",
      "Ownrent 1.6682817716496416\n",
      "Selfempl 1.2887640187408762\n",
      "dist_home_val 1.1654312430431528\n",
      "dist_avg_income 64.13992249399934\n",
      "edu_class 1.994586770890881\n",
      "Inter 59.346326941669986\n"
     ]
    }
   ],
   "source": [
    "#计算每个变量的VIF值 1-3正常，3-10岭回归处理，>10建议删除\n",
    "for i in range(0,data_vif.shape[1]):\n",
    "    print(data_vif.columns[i], vif(data_vif,i))"
   ],
   "metadata": {
    "collapsed": false
   }
  },
  {
   "cell_type": "code",
   "execution_count": 19,
   "outputs": [
    {
     "data": {
      "text/plain": "64.76239230667133"
     },
     "execution_count": 19,
     "metadata": {},
     "output_type": "execute_result"
    }
   ],
   "source": [
    "#查看单个变量的vif值\n",
    "vif(data_vif, 2)\n",
    "#上面运行不出来的看这里，版本问题\n",
    "# vif(data_vif.values, 2)"
   ],
   "metadata": {
    "collapsed": false
   }
  },
  {
   "cell_type": "code",
   "execution_count": 17,
   "outputs": [],
   "source": [
    "# vif时，需手动添加截距项\n",
    "#手动去除因变量\n",
    "#手动添加截距项\n",
    "data_vif = data.drop(['avg_exp'], axis=1)\n",
    "data_vif['Inter'] = 1  #相当于添加了截距项\n",
    "data_vif.drop(['edu_1', 'edu_2', 'edu_3', 'edu_4'], axis=1, inplace=True)"
   ],
   "metadata": {
    "collapsed": false
   }
  },
  {
   "cell_type": "code",
   "execution_count": 17,
   "outputs": [],
   "source": [
    "# 模型调优；共性性、同方差、正态性、内生性（不要遗漏变量）\n",
    "# 原假设是同方差、且服从正态分布\n",
    "# 共线性\n",
    "# from statsmodels.stats.outliers_influence import variance_inflation_factor as vif\n",
    "# vif用于计算方差膨胀因子，vif=1/(1-r^2)"
   ],
   "metadata": {
    "collapsed": false
   }
  },
  {
   "cell_type": "code",
   "execution_count": null,
   "outputs": [],
   "source": [
    "#常用接口\n",
    "dir(model)\n",
    "# 残差\n",
    "model.resid"
   ],
   "metadata": {
    "collapsed": false
   }
  },
  {
   "cell_type": "code",
   "execution_count": 16,
   "outputs": [
    {
     "data": {
      "text/plain": "<class 'statsmodels.iolib.summary.Summary'>\n\"\"\"\n                            OLS Regression Results                            \n==============================================================================\nDep. Variable:                avg_exp   R-squared:                       0.720\nModel:                            OLS   Adj. R-squared:                  0.671\nMethod:                 Least Squares   F-statistic:                     14.93\nDate:                Sat, 29 Apr 2023   Prob (F-statistic):           8.36e-14\nTime:                        22:43:08   Log-Likelihood:                -519.52\nNo. Observations:                  76   AIC:                             1063.\nDf Residuals:                      64   BIC:                             1091.\nDf Model:                          11                                         \nCovariance Type:            nonrobust                                         \n===================================================================================\n                      coef    std err          t      P>|t|      [0.025      0.975]\n-----------------------------------------------------------------------------------\nIntercept         535.9565    223.038      2.403      0.019      90.387     981.526\ngender           -447.4828     97.100     -4.608      0.000    -641.463    -253.503\nAge                 0.6121      4.779      0.128      0.898      -8.936      10.160\nIncome           -119.1929     72.411     -1.646      0.105    -263.850      25.464\nOwnrent            41.3184     76.416      0.541      0.591    -111.341     193.977\nSelfempl          153.7000    129.424      1.188      0.239    -104.853     412.253\ndist_home_val       0.1579      0.859      0.184      0.855      -1.557       1.873\ndist_avg_income   211.5250     71.122      2.974      0.004      69.442     353.608\nedu_1            -262.5083     82.890     -3.167      0.002    -428.100     -96.916\nedu_2            -495.1400     92.266     -5.366      0.000    -679.462    -310.818\nedu_3            -292.5211    156.617     -1.868      0.066    -605.400      20.358\nedu_4              49.3783    294.618      0.168      0.867    -539.188     637.945\n==============================================================================\nOmnibus:                        0.894   Durbin-Watson:                   2.112\nProb(Omnibus):                  0.640   Jarque-Bera (JB):                0.613\nSkew:                          -0.219   Prob(JB):                        0.736\nKurtosis:                       3.044   Cond. No.                     1.00e+03\n==============================================================================\n\nNotes:\n[1] Standard Errors assume that the covariance matrix of the errors is correctly specified.\n[2] The condition number is large,  1e+03. This might indicate that there are\nstrong multicollinearity or other numerical problems.\n\"\"\"",
      "text/html": "<table class=\"simpletable\">\n<caption>OLS Regression Results</caption>\n<tr>\n  <th>Dep. Variable:</th>         <td>avg_exp</td>     <th>  R-squared:         </th> <td>   0.720</td>\n</tr>\n<tr>\n  <th>Model:</th>                   <td>OLS</td>       <th>  Adj. R-squared:    </th> <td>   0.671</td>\n</tr>\n<tr>\n  <th>Method:</th>             <td>Least Squares</td>  <th>  F-statistic:       </th> <td>   14.93</td>\n</tr>\n<tr>\n  <th>Date:</th>             <td>Sat, 29 Apr 2023</td> <th>  Prob (F-statistic):</th> <td>8.36e-14</td>\n</tr>\n<tr>\n  <th>Time:</th>                 <td>22:43:08</td>     <th>  Log-Likelihood:    </th> <td> -519.52</td>\n</tr>\n<tr>\n  <th>No. Observations:</th>      <td>    76</td>      <th>  AIC:               </th> <td>   1063.</td>\n</tr>\n<tr>\n  <th>Df Residuals:</th>          <td>    64</td>      <th>  BIC:               </th> <td>   1091.</td>\n</tr>\n<tr>\n  <th>Df Model:</th>              <td>    11</td>      <th>                     </th>     <td> </td>   \n</tr>\n<tr>\n  <th>Covariance Type:</th>      <td>nonrobust</td>    <th>                     </th>     <td> </td>   \n</tr>\n</table>\n<table class=\"simpletable\">\n<tr>\n         <td></td>            <th>coef</th>     <th>std err</th>      <th>t</th>      <th>P>|t|</th>  <th>[0.025</th>    <th>0.975]</th>  \n</tr>\n<tr>\n  <th>Intercept</th>       <td>  535.9565</td> <td>  223.038</td> <td>    2.403</td> <td> 0.019</td> <td>   90.387</td> <td>  981.526</td>\n</tr>\n<tr>\n  <th>gender</th>          <td> -447.4828</td> <td>   97.100</td> <td>   -4.608</td> <td> 0.000</td> <td> -641.463</td> <td> -253.503</td>\n</tr>\n<tr>\n  <th>Age</th>             <td>    0.6121</td> <td>    4.779</td> <td>    0.128</td> <td> 0.898</td> <td>   -8.936</td> <td>   10.160</td>\n</tr>\n<tr>\n  <th>Income</th>          <td> -119.1929</td> <td>   72.411</td> <td>   -1.646</td> <td> 0.105</td> <td> -263.850</td> <td>   25.464</td>\n</tr>\n<tr>\n  <th>Ownrent</th>         <td>   41.3184</td> <td>   76.416</td> <td>    0.541</td> <td> 0.591</td> <td> -111.341</td> <td>  193.977</td>\n</tr>\n<tr>\n  <th>Selfempl</th>        <td>  153.7000</td> <td>  129.424</td> <td>    1.188</td> <td> 0.239</td> <td> -104.853</td> <td>  412.253</td>\n</tr>\n<tr>\n  <th>dist_home_val</th>   <td>    0.1579</td> <td>    0.859</td> <td>    0.184</td> <td> 0.855</td> <td>   -1.557</td> <td>    1.873</td>\n</tr>\n<tr>\n  <th>dist_avg_income</th> <td>  211.5250</td> <td>   71.122</td> <td>    2.974</td> <td> 0.004</td> <td>   69.442</td> <td>  353.608</td>\n</tr>\n<tr>\n  <th>edu_1</th>           <td> -262.5083</td> <td>   82.890</td> <td>   -3.167</td> <td> 0.002</td> <td> -428.100</td> <td>  -96.916</td>\n</tr>\n<tr>\n  <th>edu_2</th>           <td> -495.1400</td> <td>   92.266</td> <td>   -5.366</td> <td> 0.000</td> <td> -679.462</td> <td> -310.818</td>\n</tr>\n<tr>\n  <th>edu_3</th>           <td> -292.5211</td> <td>  156.617</td> <td>   -1.868</td> <td> 0.066</td> <td> -605.400</td> <td>   20.358</td>\n</tr>\n<tr>\n  <th>edu_4</th>           <td>   49.3783</td> <td>  294.618</td> <td>    0.168</td> <td> 0.867</td> <td> -539.188</td> <td>  637.945</td>\n</tr>\n</table>\n<table class=\"simpletable\">\n<tr>\n  <th>Omnibus:</th>       <td> 0.894</td> <th>  Durbin-Watson:     </th> <td>   2.112</td>\n</tr>\n<tr>\n  <th>Prob(Omnibus):</th> <td> 0.640</td> <th>  Jarque-Bera (JB):  </th> <td>   0.613</td>\n</tr>\n<tr>\n  <th>Skew:</th>          <td>-0.219</td> <th>  Prob(JB):          </th> <td>   0.736</td>\n</tr>\n<tr>\n  <th>Kurtosis:</th>      <td> 3.044</td> <th>  Cond. No.          </th> <td>1.00e+03</td>\n</tr>\n</table><br/><br/>Notes:<br/>[1] Standard Errors assume that the covariance matrix of the errors is correctly specified.<br/>[2] The condition number is large,  1e+03. This might indicate that there are<br/>strong multicollinearity or other numerical problems."
     },
     "execution_count": 16,
     "metadata": {},
     "output_type": "execute_result"
    }
   ],
   "source": [
    "# 回归分析\n",
    "# import statsmodels.api as sm\n",
    "#建立模型过程\n",
    "formula = 'avg_exp~gender+Age+Income+Ownrent+Selfempl+dist_home_val+dist_avg_income+edu_1+edu_2+edu_3+edu_4'\n",
    "#实例化\n",
    "model = ols(formula=formula, data=data)\n",
    "#拟合模型\n",
    "model = model.fit()\n",
    "#输出拟合结果\n",
    "model.summary()"
   ],
   "metadata": {
    "collapsed": false
   }
  },
  {
   "cell_type": "code",
   "execution_count": 24,
   "outputs": [
    {
     "data": {
      "text/plain": "<matplotlib.collections.PathCollection at 0x23cdf31d2a0>"
     },
     "execution_count": 24,
     "metadata": {},
     "output_type": "execute_result"
    },
    {
     "data": {
      "text/plain": "<Figure size 800x550 with 1 Axes>",
      "image/png": "[encoded data removed]"
     },
     "metadata": {},
     "output_type": "display_data"
    }
   ],
   "source": [
    "# avg_exp和Income\n",
    "plt.scatter(data['Income'], data['avg_exp'])"
   ],
   "metadata": {
    "collapsed": false
   }
  },
  {
   "cell_type": "code",
   "execution_count": null,
   "outputs": [],
   "source": [
    "#热力图\n",
    "# sns.heatmap(data.corr(), annot=True)   显示具体的相关系数计算结果\n",
    "sns.heatmap(data.corr())"
   ],
   "metadata": {
    "collapsed": false
   }
  },
  {
   "cell_type": "code",
   "execution_count": null,
   "outputs": [],
   "source": [
    "# 相关分析\n",
    "data.corr()\n",
    "#分类变量与连续变量的相关系数计算：肯德尔相关系数\n",
    "data[['avg_exp', 'gender', 'Ownrent', 'Selfempl', 'edu_class']].corr(method='kendall')\n",
    "#分类变量与分类变量的相关系数计算：斯皮尔曼相关系数\n",
    "data[['gender', 'Ownrent', 'Selfempl', 'edu_class']].corr(method='spearman')"
   ],
   "metadata": {
    "collapsed": false
   }
  },
  {
   "cell_type": "code",
   "execution_count": 15,
   "outputs": [],
   "source": [
    "#将哑变量合并到原数据\n",
    "data = pd.concat([data_raw, dummy], axis=1)"
   ],
   "metadata": {
    "collapsed": false
   }
  },
  {
   "cell_type": "code",
   "execution_count": 14,
   "outputs": [
    {
     "data": {
      "text/plain": "   edu_1  edu_2  edu_3  edu_4\n0      0      0      0      0\n1      1      0      0      0\n2      0      0      0      0\n3      1      0      0      0\n4      0      0      0      0",
      "text/html": "<div>\n<style scoped>\n    .dataframe tbody tr th:only-of-type {\n        vertical-align: middle;\n    }\n\n    .dataframe tbody tr th {\n        vertical-align: top;\n    }\n\n    .dataframe thead th {\n        text-align: right;\n    }\n</style>\n<table border=\"1\" class=\"dataframe\">\n  <thead>\n    <tr style=\"text-align: right;\">\n      <th></th>\n      <th>edu_1</th>\n      <th>edu_2</th>\n      <th>edu_3</th>\n      <th>edu_4</th>\n    </tr>\n  </thead>\n  <tbody>\n    <tr>\n      <th>0</th>\n      <td>0</td>\n      <td>0</td>\n      <td>0</td>\n      <td>0</td>\n    </tr>\n    <tr>\n      <th>1</th>\n      <td>1</td>\n      <td>0</td>\n      <td>0</td>\n      <td>0</td>\n    </tr>\n    <tr>\n      <th>2</th>\n      <td>0</td>\n      <td>0</td>\n      <td>0</td>\n      <td>0</td>\n    </tr>\n    <tr>\n      <th>3</th>\n      <td>1</td>\n      <td>0</td>\n      <td>0</td>\n      <td>0</td>\n    </tr>\n    <tr>\n      <th>4</th>\n      <td>0</td>\n      <td>0</td>\n      <td>0</td>\n      <td>0</td>\n    </tr>\n  </tbody>\n</table>\n</div>"
     },
     "execution_count": 14,
     "metadata": {},
     "output_type": "execute_result"
    }
   ],
   "source": [
    "# 哑变量转换\n",
    "#edu_class哑变量转换\n",
    "dummy = pd.get_dummies(data_raw['edu_class'], prefix='edu', drop_first=True)\n",
    "dummy.head()"
   ],
   "metadata": {
    "collapsed": false
   }
  },
  {
   "cell_type": "code",
   "execution_count": null,
   "outputs": [],
   "source": [],
   "metadata": {
    "collapsed": false
   }
  },
  {
   "cell_type": "code",
   "execution_count": 13,
   "outputs": [],
   "source": [
    "#将异常值使用除异常值之外的数据的均值进行填补\n",
    "data_raw['Age'].iloc[40] = data_raw['Age'].drop(index=40).mean()"
   ],
   "metadata": {
    "collapsed": false
   }
  },
  {
   "cell_type": "code",
   "execution_count": 12,
   "outputs": [
    {
     "data": {
      "text/plain": "40    8.643062\nName: Age, dtype: float64"
     },
     "execution_count": 12,
     "metadata": {},
     "output_type": "execute_result"
    },
    {
     "data": {
      "text/plain": "999"
     },
     "execution_count": 12,
     "metadata": {},
     "output_type": "execute_result"
    }
   ],
   "source": [
    "# 3倍标准差\n",
    "from scipy import stats\n",
    "#标准化数据(Age)\n",
    "z = stats.zscore(data_raw['Age'])\n",
    "#寻找异常数据的索引\n",
    "z[(z>3)|(z<-3)]\n",
    "#查看异常数据的值\n",
    "data_raw['Age'].iloc[40]"
   ],
   "metadata": {
    "collapsed": false
   }
  },
  {
   "cell_type": "code",
   "execution_count": null,
   "outputs": [],
   "source": [
    "# 异常值\n",
    "# dist_avg_income\n",
    "sns.boxplot(data=data_raw['dist_avg_income'])\n",
    "sns.boxplot(data=data_raw['Age'])"
   ],
   "metadata": {
    "collapsed": false
   }
  },
  {
   "cell_type": "code",
   "execution_count": 18,
   "outputs": [
    {
     "data": {
      "text/plain": "2    25\n1    23\n0    22\n3     5\n4     1\nName: edu_class, dtype: int64"
     },
     "execution_count": 18,
     "metadata": {},
     "output_type": "execute_result"
    }
   ],
   "source": [
    "data_raw['edu_class'].value_counts()"
   ],
   "metadata": {
    "collapsed": false
   }
  },
  {
   "cell_type": "code",
   "execution_count": 11,
   "outputs": [],
   "source": [
    "#对原数据进行编码\n",
    "data_raw['edu_class'] = data_raw['edu_class'].apply(lambda x: label.index(x))"
   ],
   "metadata": {
    "collapsed": false
   }
  },
  {
   "cell_type": "code",
   "execution_count": 10,
   "outputs": [
    {
     "data": {
      "text/plain": "['研究生', '大学', '中学', '小学及以下', nan]"
     },
     "execution_count": 10,
     "metadata": {},
     "output_type": "execute_result"
    }
   ],
   "source": [
    "#方法2：edu_class\n",
    "label = data_raw['edu_class'].unique().tolist()\n",
    "label"
   ],
   "metadata": {
    "collapsed": false
   }
  },
  {
   "cell_type": "code",
   "execution_count": 9,
   "outputs": [],
   "source": [
    "# 数据编码\n",
    "#方法1：gender\n",
    "data_raw['gender'] = data_raw['gender'].map({'Male':1, 'Female':0})"
   ],
   "metadata": {
    "collapsed": false
   }
  },
  {
   "cell_type": "markdown",
   "source": [],
   "metadata": {
    "collapsed": false
   }
  },
  {
   "cell_type": "code",
   "execution_count": 8,
   "outputs": [],
   "source": [
    "# 填补缺失值\n",
    "#avg_exp\n",
    "data_raw['avg_exp'].fillna(data_raw['avg_exp'].mean(), inplace=True)\n",
    "\n",
    "#方法2\n",
    "# data_raw['avg_exp'] = data_raw['avg_exp'].fillna(data_raw['avg_exp'].mean())"
   ],
   "metadata": {
    "collapsed": false
   }
  },
  {
   "cell_type": "code",
   "execution_count": 7,
   "outputs": [
    {
     "data": {
      "text/plain": "avg_exp            0.078947\ngender             0.000000\nAge                0.000000\nIncome             0.000000\nOwnrent            0.000000\nSelfempl           0.000000\ndist_home_val      0.000000\ndist_avg_income    0.000000\nedu_class          0.013158\ndtype: float64"
     },
     "execution_count": 7,
     "metadata": {},
     "output_type": "execute_result"
    },
    {
     "data": {
      "text/plain": "avg_exp            6\ngender             0\nAge                0\nIncome             0\nOwnrent            0\nSelfempl           0\ndist_home_val      0\ndist_avg_income    0\nedu_class          1\ndtype: int64"
     },
     "execution_count": 7,
     "metadata": {},
     "output_type": "execute_result"
    }
   ],
   "source": [
    "#查看缺失情况\n",
    "data_raw.isnull().mean()\n",
    "data_raw.isnull().sum()"
   ],
   "metadata": {
    "collapsed": false
   }
  },
  {
   "cell_type": "code",
   "execution_count": 6,
   "outputs": [],
   "source": [
    "#删除重复值\n",
    "data_raw.drop_duplicates(inplace=True)"
   ],
   "metadata": {
    "collapsed": false
   }
  },
  {
   "cell_type": "code",
   "execution_count": 6,
   "outputs": [
    {
     "data": {
      "text/plain": "0.0"
     },
     "execution_count": 6,
     "metadata": {},
     "output_type": "execute_result"
    },
    {
     "data": {
      "text/plain": "0"
     },
     "execution_count": 6,
     "metadata": {},
     "output_type": "execute_result"
    }
   ],
   "source": [
    "#查看是否有重复值\n",
    "data_raw.duplicated().mean()\n",
    "data_raw.duplicated().sum()"
   ],
   "metadata": {
    "collapsed": false
   }
  },
  {
   "cell_type": "code",
   "execution_count": 5,
   "outputs": [],
   "source": [
    "# 数据清洗\n",
    "#变量'id','Acc','edad2'无用\n",
    "data_raw.drop(['id','Acc','edad2'], axis=1, inplace=True)    #方法1:inplace\n",
    "\n",
    "# data_raw = data_raw.drop(['id','Acc','edad2'], axis=1)    方法2：覆盖原始数据"
   ],
   "metadata": {
    "collapsed": false
   }
  },
  {
   "cell_type": "code",
   "execution_count": 6,
   "outputs": [
    {
     "data": {
      "text/plain": "1    76\nName: Acc, dtype: int64"
     },
     "execution_count": 6,
     "metadata": {},
     "output_type": "execute_result"
    }
   ],
   "source": [
    "data_raw['Acc'].value_counts()"
   ],
   "metadata": {
    "collapsed": false
   }
  },
  {
   "cell_type": "code",
   "execution_count": null,
   "outputs": [],
   "source": [
    "# 一行代码输出统计分析报告\n",
    "# import pandas_profiling as pp\n",
    "# report = pp.ProfileReport(data_raw)\n",
    "#\n",
    "# # 报告输出为html\n",
    "# report.to_file(\"report_output1114.html\")\n",
    "#\n",
    "# #报告输出到notebook\n",
    "# # report.to_notebook_iframe()"
   ],
   "metadata": {
    "collapsed": false
   }
  },
  {
   "cell_type": "code",
   "execution_count": null,
   "outputs": [],
   "source": [
    "# 数据探索\n",
    "# pip install ruamel-yaml -i https://pypi.tuna.tsinghua.edu.cn/simple\n",
    "\n",
    "# pip install pandas-profiling -i https://pypi.tuna.tsinghua.edu.cn/simple\n",
    "\n",
    "# pip install markupsafe==2.0.1"
   ],
   "metadata": {
    "collapsed": false
   }
  },
  {
   "cell_type": "code",
   "execution_count": 5,
   "outputs": [
    {
     "name": "stdout",
     "output_type": "stream",
     "text": [
      "<class 'pandas.core.frame.DataFrame'>\n",
      "RangeIndex: 76 entries, 0 to 75\n",
      "Data columns (total 12 columns):\n",
      " #   Column           Non-Null Count  Dtype  \n",
      "---  ------           --------------  -----  \n",
      " 0   id               76 non-null     int64  \n",
      " 1   Acc              76 non-null     int64  \n",
      " 2   avg_exp          70 non-null     float64\n",
      " 3   gender           76 non-null     object \n",
      " 4   Age              76 non-null     int64  \n",
      " 5   Income           76 non-null     float64\n",
      " 6   Ownrent          76 non-null     int64  \n",
      " 7   Selfempl         76 non-null     int64  \n",
      " 8   dist_home_val    76 non-null     float64\n",
      " 9   dist_avg_income  76 non-null     float64\n",
      " 10  edad2            76 non-null     int64  \n",
      " 11  edu_class        75 non-null     object \n",
      "dtypes: float64(4), int64(6), object(2)\n",
      "memory usage: 7.2+ KB\n"
     ]
    }
   ],
   "source": [
    "#数据基本信息\n",
    "data_raw.info()"
   ],
   "metadata": {
    "collapsed": false
   }
  },
  {
   "cell_type": "code",
   "execution_count": 4,
   "outputs": [
    {
     "data": {
      "text/plain": "   id  Acc  avg_exp gender  Age    Income  Ownrent  Selfempl  dist_home_val  \\\n0  19    1  1217.03   Male   40  16.03515        1         1          99.93   \n1   5    1  1251.50   Male   32  15.84750        1         0          49.88   \n2  86    1   856.57   Male   41  11.47285        1         0          16.10   \n3  50    1  1321.83   Male   28  13.40915        1         0         100.39   \n4  67    1   816.03   Male   41  10.03015        0         1         119.76   \n\n   dist_avg_income  edad2 edu_class  \n0        15.932789   1600       研究生  \n1        15.796316   1024        大学  \n2        11.275632   1681       研究生  \n3        13.346474    784        大学  \n4        10.332263   1681       研究生  ",
      "text/html": "<div>\n<style scoped>\n    .dataframe tbody tr th:only-of-type {\n        vertical-align: middle;\n    }\n\n    .dataframe tbody tr th {\n        vertical-align: top;\n    }\n\n    .dataframe thead th {\n        text-align: right;\n    }\n</style>\n<table border=\"1\" class=\"dataframe\">\n  <thead>\n    <tr style=\"text-align: right;\">\n      <th></th>\n      <th>id</th>\n      <th>Acc</th>\n      <th>avg_exp</th>\n      <th>gender</th>\n      <th>Age</th>\n      <th>Income</th>\n      <th>Ownrent</th>\n      <th>Selfempl</th>\n      <th>dist_home_val</th>\n      <th>dist_avg_income</th>\n      <th>edad2</th>\n      <th>edu_class</th>\n    </tr>\n  </thead>\n  <tbody>\n    <tr>\n      <th>0</th>\n      <td>19</td>\n      <td>1</td>\n      <td>1217.03</td>\n      <td>Male</td>\n      <td>40</td>\n      <td>16.03515</td>\n      <td>1</td>\n      <td>1</td>\n      <td>99.93</td>\n      <td>15.932789</td>\n      <td>1600</td>\n      <td>研究生</td>\n    </tr>\n    <tr>\n      <th>1</th>\n      <td>5</td>\n      <td>1</td>\n      <td>1251.50</td>\n      <td>Male</td>\n      <td>32</td>\n      <td>15.84750</td>\n      <td>1</td>\n      <td>0</td>\n      <td>49.88</td>\n      <td>15.796316</td>\n      <td>1024</td>\n      <td>大学</td>\n    </tr>\n    <tr>\n      <th>2</th>\n      <td>86</td>\n      <td>1</td>\n      <td>856.57</td>\n      <td>Male</td>\n      <td>41</td>\n      <td>11.47285</td>\n      <td>1</td>\n      <td>0</td>\n      <td>16.10</td>\n      <td>11.275632</td>\n      <td>1681</td>\n      <td>研究生</td>\n    </tr>\n    <tr>\n      <th>3</th>\n      <td>50</td>\n      <td>1</td>\n      <td>1321.83</td>\n      <td>Male</td>\n      <td>28</td>\n      <td>13.40915</td>\n      <td>1</td>\n      <td>0</td>\n      <td>100.39</td>\n      <td>13.346474</td>\n      <td>784</td>\n      <td>大学</td>\n    </tr>\n    <tr>\n      <th>4</th>\n      <td>67</td>\n      <td>1</td>\n      <td>816.03</td>\n      <td>Male</td>\n      <td>41</td>\n      <td>10.03015</td>\n      <td>0</td>\n      <td>1</td>\n      <td>119.76</td>\n      <td>10.332263</td>\n      <td>1681</td>\n      <td>研究生</td>\n    </tr>\n  </tbody>\n</table>\n</div>"
     },
     "execution_count": 4,
     "metadata": {},
     "output_type": "execute_result"
    }
   ],
   "source": [
    "#读取数据\n",
    "data_raw = pd.read_excel('LR_practice.xlsx')\n",
    "data_raw.head()"
   ],
   "metadata": {
    "collapsed": false
   }
  },
  {
   "cell_type": "code",
   "execution_count": 3,
   "outputs": [],
   "source": [
    "plt.style.use('seaborn')\n",
    "#设置字体为黑色\n",
    "plt.rcParams['font.family']='SimHei'\n",
    "#显示符号\n",
    "plt.rcParams['axes.unicode_minus']= False"
   ],
   "metadata": {
    "collapsed": false
   }
  },
  {
   "cell_type": "code",
   "execution_count": 2,
   "outputs": [],
   "source": [
    "import seaborn as sns\n",
    "from scipy import stats\n",
    "import matplotlib.pyplot as plt\n",
    "from statsmodels.formula.api import ols\n",
    "import statsmodels.api as sm\n",
    "from statsmodels.stats.outliers_influence import variance_inflation_factor as vif"
   ],
   "metadata": {
    "collapsed": false
   }
  },
  {
   "cell_type": "code",
   "execution_count": 1,
   "outputs": [],
   "source": [
    "from IPython.core.interactiveshell import InteractiveShell\n",
    "InteractiveShell.ast_node_interactivity = \"all\"\n",
    "\n",
    "import numpy as np\n",
    "import pandas as pd\n",
    "\n",
    "import warnings\n",
    "warnings.filterwarnings(\"ignore\")\n",
    "import os\n",
    "os.chdir('C:\\Data\\Jupyter_file\\统计建模')"
   ],
   "metadata": {
    "collapsed": false
   }
  }
 ],
 "metadata": {
  "kernelspec": {
   "display_name": "Python 3",
   "language": "python",
   "name": "python3"
  },
  "language_info": {
   "codemirror_mode": {
    "name": "ipython",
    "version": 2
   },
   "file_extension": ".py",
   "mimetype": "text/x-python",
   "name": "python",
   "nbconvert_exporter": "python",
   "pygments_lexer": "ipython2",
   "version": "2.7.6"
  }
 },
 "nbformat": 4,
 "nbformat_minor": 0
}
