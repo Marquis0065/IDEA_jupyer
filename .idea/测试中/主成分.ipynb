{
 "cells": [
  {
   "cell_type": "code",
   "execution_count": 1,
   "outputs": [
    {
     "data": {
      "text/plain": "'C:\\\\ProgramData\\\\Anaconda3\\\\envs\\\\cda_python\\\\lib\\\\os.py'"
     },
     "execution_count": 1,
     "metadata": {},
     "output_type": "execute_result"
    }
   ],
   "source": [
    "import os\n",
    "os.__file__\n",
    "# os.environ['R_USER']='C:/ProgramData/Anaconda3/envs/cda_python/Lib/site-packages/rpy2'"
   ],
   "metadata": {
    "collapsed": false
   }
  },
  {
   "cell_type": "code",
   "execution_count": 61,
   "outputs": [
    {
     "data": {
      "text/plain": "<Figure size 640x480 with 1 Axes>",
      "image/png": "[encoded data removed]"
     },
     "metadata": {},
     "output_type": "display_data"
    }
   ],
   "source": [
    "tel_data = pd.read_csv('profile_telecom.csv')\n",
    "tel_data.head()\n",
    "data_tel=tel_data.loc[:,'cnt_call':]\n",
    "data_tel.head()\n",
    "\n",
    "# 3.做主成分之前，进行中心标准化\n",
    "from sklearn import preprocessing\n",
    "data_tel = preprocessing.scale(data_tel)\n",
    "\n",
    "# 4.使用sklearn的主成分分析，用于判断保留主成分的数量\n",
    "from sklearn.decomposition import PCA\n",
    "# 建立模型\n",
    "# n_components:保留主成分的个数，初始设置一般为变量的个数\n",
    "pca = PCA(n_components=4)\n",
    "pca.fit(data_tel)\n",
    "# 单个主成分解释的方差(特征值)\n",
    "pca.explained_variance_\n",
    "# 单个主成分解释的方差比率\n",
    "pca.explained_variance_ratio_\n",
    "pca = PCA(n_components=2)\n",
    "pca.fit(data_tel)\n",
    "# 单个主成分解释的方差(特征值)\n",
    "pca.explained_variance_\n",
    "# 单个主成分解释的方差比率\n",
    "pca.explained_variance_ratio_\n",
    "#主成分得分\n",
    "score_tel = pd.DataFrame(pca.fit_transform(data_tel))\n",
    "\n",
    "\n",
    "#将主成分得分合并到原始数据\n",
    "tel_pca=pd.concat([tel_data, score_tel], axis=1)\n",
    "tel_pca\n",
    "tel_pca= tel_pca.rename(columns={0: \"score_tel_0\",1:\"score_tel_1\"})\n",
    "tel_pca.corr()\n",
    "#按主因成分等分 排序\n",
    "tel_pca.sort_values(by=['score_tel_0','score_tel_1'],ascending=False)\n",
    "\n",
    "\n",
    "# 1.因子分析的概念很多，作为刚入门的人，我们可以认为因子分析是主成分分析的延续\n",
    "from fa_kit import FactorAnalysis\n",
    "from fa_kit import plotting as fa_plotting\n",
    "\n",
    "fa = FactorAnalysis.load_data_samples(\n",
    "    data_tel,     #标准化数据\n",
    "    preproc_demean=True,\n",
    "    preproc_scale=True\n",
    ")\n",
    "fa.extract_components()\n",
    "# 2.设定提取主成分的方式，建议使用“top_n”法\n",
    "fa.find_comps_to_retain(method='top_n', num_keep = 2)\n",
    "# 3.通过最大方差法进行因子旋转\n",
    "fa.rotate_components()\n",
    "#查看因子权重（旋转后）\n",
    "# fa.comps['rot']\n",
    "pd.DataFrame(fa.comps['rot'])\n",
    "#因子得分\n",
    "fa_scores = fa.get_component_scores(data_tel)\n",
    "fa_scores\n",
    "#因子命名\n",
    "fa_scores = pd.DataFrame(fa_scores)\n",
    "\n",
    "tel_fa=pd.concat([tel_data, fa_scores], axis=1)\n",
    "tel_fa.corr()\n",
    "tel_fa=tel_fa.rename(columns={0: \"web_fa\", 1: \"call_fa\"})\n",
    "\n",
    "from pylab import mpl\n",
    "mpl.rcParams['font.sans-serif'] = ['SimHei'] # 指定默认字体\n",
    "mpl.rcParams['axes.unicode_minus'] = False # 解决保存图像是负号'-'显示为方块的问题\n",
    "import matplotlib.pyplot as plt\n",
    "x=tel_fa['web_fa']\n",
    "y=tel_fa['call_fa']\n",
    "#label=tel_fa['ID']\n",
    "plt.scatter(x, y)\n",
    "#for a,b,l in zip(x,y,label):\n",
    "#    plt.text(a, b+0.1, '%s.' % l, ha='center', va= 'bottom',fontsize=14)\n",
    "\n",
    "plt.show();"
   ],
   "metadata": {
    "collapsed": false
   }
  },
  {
   "cell_type": "code",
   "execution_count": null,
   "outputs": [],
   "source": [],
   "metadata": {
    "collapsed": false
   }
  },
  {
   "cell_type": "code",
   "execution_count": 55,
   "outputs": [
    {
     "data": {
      "text/plain": "              ID  CNT_TBM  CNT_ATM  CNT_POS  CNT_CSC  CNT_TOT   ATM-POS  \\\n0          41360       34        3        3        9       49 -0.852354   \n1          52094       44       17        5       18       84 -0.333078   \n2          57340      122       26       32       36      216  0.918067   \n3          76885       42        3        6        1       52 -0.741847   \n4          89150       20       15        2        2       39 -0.499703   \n...          ...      ...      ...      ...      ...      ...       ...   \n99995  875638608       24        6        2        1       33 -0.788934   \n99996  875656523       79        9        2        7       97 -0.692379   \n99997  875663288       44      111       57        9      221  4.555096   \n99998  875670226       10        5        2        1       18 -0.821689   \n99999  875674475      128       18       20        1      167  0.244870   \n\n            TBM       CSC  \n0     -0.294938  0.143935  \n1     -0.244334  0.939343  \n2      0.593787  2.349496  \n3     -0.210507 -0.521592  \n4     -0.492714 -0.367629  \n...         ...       ...  \n99995 -0.415017 -0.492244  \n99996  0.115718  0.016816  \n99997 -0.466002  0.442345  \n99998 -0.548095 -0.498124  \n99999  0.620304 -0.500168  \n\n[100000 rows x 9 columns]",
      "text/html": "<div>\n<style scoped>\n    .dataframe tbody tr th:only-of-type {\n        vertical-align: middle;\n    }\n\n    .dataframe tbody tr th {\n        vertical-align: top;\n    }\n\n    .dataframe thead th {\n        text-align: right;\n    }\n</style>\n<table border=\"1\" class=\"dataframe\">\n  <thead>\n    <tr style=\"text-align: right;\">\n      <th></th>\n      <th>ID</th>\n      <th>CNT_TBM</th>\n      <th>CNT_ATM</th>\n      <th>CNT_POS</th>\n      <th>CNT_CSC</th>\n      <th>CNT_TOT</th>\n      <th>ATM-POS</th>\n      <th>TBM</th>\n      <th>CSC</th>\n    </tr>\n  </thead>\n  <tbody>\n    <tr>\n      <th>0</th>\n      <td>41360</td>\n      <td>34</td>\n      <td>3</td>\n      <td>3</td>\n      <td>9</td>\n      <td>49</td>\n      <td>-0.852354</td>\n      <td>-0.294938</td>\n      <td>0.143935</td>\n    </tr>\n    <tr>\n      <th>1</th>\n      <td>52094</td>\n      <td>44</td>\n      <td>17</td>\n      <td>5</td>\n      <td>18</td>\n      <td>84</td>\n      <td>-0.333078</td>\n      <td>-0.244334</td>\n      <td>0.939343</td>\n    </tr>\n    <tr>\n      <th>2</th>\n      <td>57340</td>\n      <td>122</td>\n      <td>26</td>\n      <td>32</td>\n      <td>36</td>\n      <td>216</td>\n      <td>0.918067</td>\n      <td>0.593787</td>\n      <td>2.349496</td>\n    </tr>\n    <tr>\n      <th>3</th>\n      <td>76885</td>\n      <td>42</td>\n      <td>3</td>\n      <td>6</td>\n      <td>1</td>\n      <td>52</td>\n      <td>-0.741847</td>\n      <td>-0.210507</td>\n      <td>-0.521592</td>\n    </tr>\n    <tr>\n      <th>4</th>\n      <td>89150</td>\n      <td>20</td>\n      <td>15</td>\n      <td>2</td>\n      <td>2</td>\n      <td>39</td>\n      <td>-0.499703</td>\n      <td>-0.492714</td>\n      <td>-0.367629</td>\n    </tr>\n    <tr>\n      <th>...</th>\n      <td>...</td>\n      <td>...</td>\n      <td>...</td>\n      <td>...</td>\n      <td>...</td>\n      <td>...</td>\n      <td>...</td>\n      <td>...</td>\n      <td>...</td>\n    </tr>\n    <tr>\n      <th>99995</th>\n      <td>875638608</td>\n      <td>24</td>\n      <td>6</td>\n      <td>2</td>\n      <td>1</td>\n      <td>33</td>\n      <td>-0.788934</td>\n      <td>-0.415017</td>\n      <td>-0.492244</td>\n    </tr>\n    <tr>\n      <th>99996</th>\n      <td>875656523</td>\n      <td>79</td>\n      <td>9</td>\n      <td>2</td>\n      <td>7</td>\n      <td>97</td>\n      <td>-0.692379</td>\n      <td>0.115718</td>\n      <td>0.016816</td>\n    </tr>\n    <tr>\n      <th>99997</th>\n      <td>875663288</td>\n      <td>44</td>\n      <td>111</td>\n      <td>57</td>\n      <td>9</td>\n      <td>221</td>\n      <td>4.555096</td>\n      <td>-0.466002</td>\n      <td>0.442345</td>\n    </tr>\n    <tr>\n      <th>99998</th>\n      <td>875670226</td>\n      <td>10</td>\n      <td>5</td>\n      <td>2</td>\n      <td>1</td>\n      <td>18</td>\n      <td>-0.821689</td>\n      <td>-0.548095</td>\n      <td>-0.498124</td>\n    </tr>\n    <tr>\n      <th>99999</th>\n      <td>875674475</td>\n      <td>128</td>\n      <td>18</td>\n      <td>20</td>\n      <td>1</td>\n      <td>167</td>\n      <td>0.244870</td>\n      <td>0.620304</td>\n      <td>-0.500168</td>\n    </tr>\n  </tbody>\n</table>\n<p>100000 rows × 9 columns</p>\n</div>"
     },
     "execution_count": 55,
     "metadata": {},
     "output_type": "execute_result"
    }
   ],
   "source": [
    "pca_fa= pca_fa.rename(columns={0: \"ATM-POS\", 1:\"TBM\", 2:\"CSC\"})\n",
    "pca_fa"
   ],
   "metadata": {
    "collapsed": false
   }
  },
  {
   "cell_type": "code",
   "execution_count": 54,
   "outputs": [
    {
     "data": {
      "text/plain": "               ID   CNT_TBM   CNT_ATM   CNT_POS   CNT_CSC   CNT_TOT         0  \\\nID       1.000000 -0.004363  0.005550  0.000247  0.000281 -0.002797  0.003364   \nCNT_TBM -0.004363  1.000000  0.055648  0.083624  0.198835  0.939048  0.088616   \nCNT_ATM  0.005550  0.055648  1.000000  0.341161  0.242106  0.321910  0.798520   \nCNT_POS  0.000247  0.083624  0.341161  1.000000  0.234055  0.345300  0.838260   \nCNT_CSC  0.000281  0.198835  0.242106  0.234055  1.000000  0.371736  0.287359   \nCNT_TOT -0.002797  0.939048  0.321910  0.345300  0.371736  1.000000  0.410014   \n0        0.003364  0.088616  0.798520  0.838260  0.287359  0.410014  1.000000   \n1       -0.004811  0.995325 -0.007237  0.130613  0.201220  0.932157  0.082185   \n2        0.000777  0.202802  0.310694  0.181573  0.994313  0.377686  0.293591   \n\n                1         2  \nID      -0.004811  0.000777  \nCNT_TBM  0.995325  0.202802  \nCNT_ATM -0.007237  0.310694  \nCNT_POS  0.130613  0.181573  \nCNT_CSC  0.201220  0.994313  \nCNT_TOT  0.932157  0.377686  \n0        0.082185  0.293591  \n1        1.000000  0.194879  \n2        0.194879  1.000000  ",
      "text/html": "<div>\n<style scoped>\n    .dataframe tbody tr th:only-of-type {\n        vertical-align: middle;\n    }\n\n    .dataframe tbody tr th {\n        vertical-align: top;\n    }\n\n    .dataframe thead th {\n        text-align: right;\n    }\n</style>\n<table border=\"1\" class=\"dataframe\">\n  <thead>\n    <tr style=\"text-align: right;\">\n      <th></th>\n      <th>ID</th>\n      <th>CNT_TBM</th>\n      <th>CNT_ATM</th>\n      <th>CNT_POS</th>\n      <th>CNT_CSC</th>\n      <th>CNT_TOT</th>\n      <th>0</th>\n      <th>1</th>\n      <th>2</th>\n    </tr>\n  </thead>\n  <tbody>\n    <tr>\n      <th>ID</th>\n      <td>1.000000</td>\n      <td>-0.004363</td>\n      <td>0.005550</td>\n      <td>0.000247</td>\n      <td>0.000281</td>\n      <td>-0.002797</td>\n      <td>0.003364</td>\n      <td>-0.004811</td>\n      <td>0.000777</td>\n    </tr>\n    <tr>\n      <th>CNT_TBM</th>\n      <td>-0.004363</td>\n      <td>1.000000</td>\n      <td>0.055648</td>\n      <td>0.083624</td>\n      <td>0.198835</td>\n      <td>0.939048</td>\n      <td>0.088616</td>\n      <td>0.995325</td>\n      <td>0.202802</td>\n    </tr>\n    <tr>\n      <th>CNT_ATM</th>\n      <td>0.005550</td>\n      <td>0.055648</td>\n      <td>1.000000</td>\n      <td>0.341161</td>\n      <td>0.242106</td>\n      <td>0.321910</td>\n      <td>0.798520</td>\n      <td>-0.007237</td>\n      <td>0.310694</td>\n    </tr>\n    <tr>\n      <th>CNT_POS</th>\n      <td>0.000247</td>\n      <td>0.083624</td>\n      <td>0.341161</td>\n      <td>1.000000</td>\n      <td>0.234055</td>\n      <td>0.345300</td>\n      <td>0.838260</td>\n      <td>0.130613</td>\n      <td>0.181573</td>\n    </tr>\n    <tr>\n      <th>CNT_CSC</th>\n      <td>0.000281</td>\n      <td>0.198835</td>\n      <td>0.242106</td>\n      <td>0.234055</td>\n      <td>1.000000</td>\n      <td>0.371736</td>\n      <td>0.287359</td>\n      <td>0.201220</td>\n      <td>0.994313</td>\n    </tr>\n    <tr>\n      <th>CNT_TOT</th>\n      <td>-0.002797</td>\n      <td>0.939048</td>\n      <td>0.321910</td>\n      <td>0.345300</td>\n      <td>0.371736</td>\n      <td>1.000000</td>\n      <td>0.410014</td>\n      <td>0.932157</td>\n      <td>0.377686</td>\n    </tr>\n    <tr>\n      <th>0</th>\n      <td>0.003364</td>\n      <td>0.088616</td>\n      <td>0.798520</td>\n      <td>0.838260</td>\n      <td>0.287359</td>\n      <td>0.410014</td>\n      <td>1.000000</td>\n      <td>0.082185</td>\n      <td>0.293591</td>\n    </tr>\n    <tr>\n      <th>1</th>\n      <td>-0.004811</td>\n      <td>0.995325</td>\n      <td>-0.007237</td>\n      <td>0.130613</td>\n      <td>0.201220</td>\n      <td>0.932157</td>\n      <td>0.082185</td>\n      <td>1.000000</td>\n      <td>0.194879</td>\n    </tr>\n    <tr>\n      <th>2</th>\n      <td>0.000777</td>\n      <td>0.202802</td>\n      <td>0.310694</td>\n      <td>0.181573</td>\n      <td>0.994313</td>\n      <td>0.377686</td>\n      <td>0.293591</td>\n      <td>0.194879</td>\n      <td>1.000000</td>\n    </tr>\n  </tbody>\n</table>\n</div>"
     },
     "execution_count": 54,
     "metadata": {},
     "output_type": "execute_result"
    }
   ],
   "source": [
    "pca_fa=pd.concat([bank_data, score], axis=1)\n",
    "pca_fa.corr()"
   ],
   "metadata": {
    "collapsed": false
   }
  },
  {
   "cell_type": "code",
   "execution_count": 52,
   "outputs": [
    {
     "data": {
      "text/plain": "              0         1         2\n0     -0.852354 -0.294938  0.143935\n1     -0.333078 -0.244334  0.939343\n2      0.918067  0.593787  2.349496\n3     -0.741847 -0.210507 -0.521592\n4     -0.499703 -0.492714 -0.367629\n...         ...       ...       ...\n99995 -0.788934 -0.415017 -0.492244\n99996 -0.692379  0.115718  0.016816\n99997  4.555096 -0.466002  0.442345\n99998 -0.821689 -0.548095 -0.498124\n99999  0.244870  0.620304 -0.500168\n\n[100000 rows x 3 columns]",
      "text/html": "<div>\n<style scoped>\n    .dataframe tbody tr th:only-of-type {\n        vertical-align: middle;\n    }\n\n    .dataframe tbody tr th {\n        vertical-align: top;\n    }\n\n    .dataframe thead th {\n        text-align: right;\n    }\n</style>\n<table border=\"1\" class=\"dataframe\">\n  <thead>\n    <tr style=\"text-align: right;\">\n      <th></th>\n      <th>0</th>\n      <th>1</th>\n      <th>2</th>\n    </tr>\n  </thead>\n  <tbody>\n    <tr>\n      <th>0</th>\n      <td>-0.852354</td>\n      <td>-0.294938</td>\n      <td>0.143935</td>\n    </tr>\n    <tr>\n      <th>1</th>\n      <td>-0.333078</td>\n      <td>-0.244334</td>\n      <td>0.939343</td>\n    </tr>\n    <tr>\n      <th>2</th>\n      <td>0.918067</td>\n      <td>0.593787</td>\n      <td>2.349496</td>\n    </tr>\n    <tr>\n      <th>3</th>\n      <td>-0.741847</td>\n      <td>-0.210507</td>\n      <td>-0.521592</td>\n    </tr>\n    <tr>\n      <th>4</th>\n      <td>-0.499703</td>\n      <td>-0.492714</td>\n      <td>-0.367629</td>\n    </tr>\n    <tr>\n      <th>...</th>\n      <td>...</td>\n      <td>...</td>\n      <td>...</td>\n    </tr>\n    <tr>\n      <th>99995</th>\n      <td>-0.788934</td>\n      <td>-0.415017</td>\n      <td>-0.492244</td>\n    </tr>\n    <tr>\n      <th>99996</th>\n      <td>-0.692379</td>\n      <td>0.115718</td>\n      <td>0.016816</td>\n    </tr>\n    <tr>\n      <th>99997</th>\n      <td>4.555096</td>\n      <td>-0.466002</td>\n      <td>0.442345</td>\n    </tr>\n    <tr>\n      <th>99998</th>\n      <td>-0.821689</td>\n      <td>-0.548095</td>\n      <td>-0.498124</td>\n    </tr>\n    <tr>\n      <th>99999</th>\n      <td>0.244870</td>\n      <td>0.620304</td>\n      <td>-0.500168</td>\n    </tr>\n  </tbody>\n</table>\n<p>100000 rows × 3 columns</p>\n</div>"
     },
     "execution_count": 52,
     "metadata": {},
     "output_type": "execute_result"
    }
   ],
   "source": [
    "import numpy as np\n",
    "score = pd.DataFrame(fa.get_component_scores(data_bank))\n",
    "score"
   ],
   "metadata": {
    "collapsed": false
   }
  },
  {
   "cell_type": "code",
   "execution_count": 51,
   "outputs": [
    {
     "data": {
      "text/plain": "array([[ 0.00403942,  0.99290049,  0.00781146],\n       [ 0.67147566, -0.09056898,  0.10008053],\n       [ 0.74100191,  0.07670639, -0.0847072 ],\n       [-0.00450402,  0.00787399,  0.99133625]])"
     },
     "execution_count": 51,
     "metadata": {},
     "output_type": "execute_result"
    }
   ],
   "source": [
    "#最大方差旋转\n",
    "fa.rotate_components()\n",
    "fa.comps['rot']"
   ],
   "metadata": {
    "collapsed": false
   }
  },
  {
   "cell_type": "code",
   "execution_count": 50,
   "outputs": [
    {
     "data": {
      "text/plain": "array([0, 1, 2], dtype=int64)"
     },
     "execution_count": 50,
     "metadata": {},
     "output_type": "execute_result"
    }
   ],
   "source": [
    "fa = FactorAnalysis.load_data_samples(\n",
    "    data_bank,     #标准化数据\n",
    "    preproc_demean=True,\n",
    "    preproc_scale=True\n",
    ")\n",
    "fa.extract_components()\n",
    "#主成方法\n",
    "fa.find_comps_to_retain(method='top_n', num_keep=3)"
   ],
   "metadata": {
    "collapsed": false
   }
  },
  {
   "cell_type": "code",
   "execution_count": null,
   "outputs": [],
   "source": [
    "#因子分析\n",
    "from fa_kit import FactorAnalysis\n",
    "from fa_kit import plotting as fa_plotting"
   ],
   "metadata": {
    "collapsed": false
   }
  },
  {
   "cell_type": "code",
   "execution_count": 49,
   "outputs": [
    {
     "data": {
      "text/plain": "PCA(n_components=3)",
      "text/html": "<style>#sk-container-id-5 {color: black;background-color: white;}#sk-container-id-5 pre{padding: 0;}#sk-container-id-5 div.sk-toggleable {background-color: white;}#sk-container-id-5 label.sk-toggleable__label {cursor: pointer;display: block;width: 100%;margin-bottom: 0;padding: 0.3em;box-sizing: border-box;text-align: center;}#sk-container-id-5 label.sk-toggleable__label-arrow:before {content: \"▸\";float: left;margin-right: 0.25em;color: #696969;}#sk-container-id-5 label.sk-toggleable__label-arrow:hover:before {color: black;}#sk-container-id-5 div.sk-estimator:hover label.sk-toggleable__label-arrow:before {color: black;}#sk-container-id-5 div.sk-toggleable__content {max-height: 0;max-width: 0;overflow: hidden;text-align: left;background-color: #f0f8ff;}#sk-container-id-5 div.sk-toggleable__content pre {margin: 0.2em;color: black;border-radius: 0.25em;background-color: #f0f8ff;}#sk-container-id-5 input.sk-toggleable__control:checked~div.sk-toggleable__content {max-height: 200px;max-width: 100%;overflow: auto;}#sk-container-id-5 input.sk-toggleable__control:checked~label.sk-toggleable__label-arrow:before {content: \"▾\";}#sk-container-id-5 div.sk-estimator input.sk-toggleable__control:checked~label.sk-toggleable__label {background-color: #d4ebff;}#sk-container-id-5 div.sk-label input.sk-toggleable__control:checked~label.sk-toggleable__label {background-color: #d4ebff;}#sk-container-id-5 input.sk-hidden--visually {border: 0;clip: rect(1px 1px 1px 1px);clip: rect(1px, 1px, 1px, 1px);height: 1px;margin: -1px;overflow: hidden;padding: 0;position: absolute;width: 1px;}#sk-container-id-5 div.sk-estimator {font-family: monospace;background-color: #f0f8ff;border: 1px dotted black;border-radius: 0.25em;box-sizing: border-box;margin-bottom: 0.5em;}#sk-container-id-5 div.sk-estimator:hover {background-color: #d4ebff;}#sk-container-id-5 div.sk-parallel-item::after {content: \"\";width: 100%;border-bottom: 1px solid gray;flex-grow: 1;}#sk-container-id-5 div.sk-label:hover label.sk-toggleable__label {background-color: #d4ebff;}#sk-container-id-5 div.sk-serial::before {content: \"\";position: absolute;border-left: 1px solid gray;box-sizing: border-box;top: 0;bottom: 0;left: 50%;z-index: 0;}#sk-container-id-5 div.sk-serial {display: flex;flex-direction: column;align-items: center;background-color: white;padding-right: 0.2em;padding-left: 0.2em;position: relative;}#sk-container-id-5 div.sk-item {position: relative;z-index: 1;}#sk-container-id-5 div.sk-parallel {display: flex;align-items: stretch;justify-content: center;background-color: white;position: relative;}#sk-container-id-5 div.sk-item::before, #sk-container-id-5 div.sk-parallel-item::before {content: \"\";position: absolute;border-left: 1px solid gray;box-sizing: border-box;top: 0;bottom: 0;left: 50%;z-index: -1;}#sk-container-id-5 div.sk-parallel-item {display: flex;flex-direction: column;z-index: 1;position: relative;background-color: white;}#sk-container-id-5 div.sk-parallel-item:first-child::after {align-self: flex-end;width: 50%;}#sk-container-id-5 div.sk-parallel-item:last-child::after {align-self: flex-start;width: 50%;}#sk-container-id-5 div.sk-parallel-item:only-child::after {width: 0;}#sk-container-id-5 div.sk-dashed-wrapped {border: 1px dashed gray;margin: 0 0.4em 0.5em 0.4em;box-sizing: border-box;padding-bottom: 0.4em;background-color: white;}#sk-container-id-5 div.sk-label label {font-family: monospace;font-weight: bold;display: inline-block;line-height: 1.2em;}#sk-container-id-5 div.sk-label-container {text-align: center;}#sk-container-id-5 div.sk-container {/* jupyter's `normalize.less` sets `[hidden] { display: none; }` but bootstrap.min.css set `[hidden] { display: none !important; }` so we also need the `!important` here to be able to override the default hidden behavior on the sphinx rendered scikit-learn.org. See: https://github.com/scikit-learn/scikit-learn/issues/21755 */display: inline-block !important;position: relative;}#sk-container-id-5 div.sk-text-repr-fallback {display: none;}</style><div id=\"sk-container-id-5\" class=\"sk-top-container\"><div class=\"sk-text-repr-fallback\"><pre>PCA(n_components=3)</pre><b>In a Jupyter environment, please rerun this cell to show the HTML representation or trust the notebook. <br />On GitHub, the HTML representation is unable to render, please try loading this page with nbviewer.org.</b></div><div class=\"sk-container\" hidden><div class=\"sk-item\"><div class=\"sk-estimator sk-toggleable\"><input class=\"sk-toggleable__control sk-hidden--visually\" id=\"sk-estimator-id-5\" type=\"checkbox\" checked><label for=\"sk-estimator-id-5\" class=\"sk-toggleable__label sk-toggleable__label-arrow\">PCA</label><div class=\"sk-toggleable__content\"><pre>PCA(n_components=3)</pre></div></div></div></div></div>"
     },
     "execution_count": 49,
     "metadata": {},
     "output_type": "execute_result"
    }
   ],
   "source": [
    "pca = PCA(n_components=3)\n",
    "pca.fit(data_bank)"
   ],
   "metadata": {
    "collapsed": false
   }
  },
  {
   "cell_type": "code",
   "execution_count": 48,
   "outputs": [
    {
     "data": {
      "text/plain": "PCA(n_components=4)",
      "text/html": "<style>#sk-container-id-4 {color: black;background-color: white;}#sk-container-id-4 pre{padding: 0;}#sk-container-id-4 div.sk-toggleable {background-color: white;}#sk-container-id-4 label.sk-toggleable__label {cursor: pointer;display: block;width: 100%;margin-bottom: 0;padding: 0.3em;box-sizing: border-box;text-align: center;}#sk-container-id-4 label.sk-toggleable__label-arrow:before {content: \"▸\";float: left;margin-right: 0.25em;color: #696969;}#sk-container-id-4 label.sk-toggleable__label-arrow:hover:before {color: black;}#sk-container-id-4 div.sk-estimator:hover label.sk-toggleable__label-arrow:before {color: black;}#sk-container-id-4 div.sk-toggleable__content {max-height: 0;max-width: 0;overflow: hidden;text-align: left;background-color: #f0f8ff;}#sk-container-id-4 div.sk-toggleable__content pre {margin: 0.2em;color: black;border-radius: 0.25em;background-color: #f0f8ff;}#sk-container-id-4 input.sk-toggleable__control:checked~div.sk-toggleable__content {max-height: 200px;max-width: 100%;overflow: auto;}#sk-container-id-4 input.sk-toggleable__control:checked~label.sk-toggleable__label-arrow:before {content: \"▾\";}#sk-container-id-4 div.sk-estimator input.sk-toggleable__control:checked~label.sk-toggleable__label {background-color: #d4ebff;}#sk-container-id-4 div.sk-label input.sk-toggleable__control:checked~label.sk-toggleable__label {background-color: #d4ebff;}#sk-container-id-4 input.sk-hidden--visually {border: 0;clip: rect(1px 1px 1px 1px);clip: rect(1px, 1px, 1px, 1px);height: 1px;margin: -1px;overflow: hidden;padding: 0;position: absolute;width: 1px;}#sk-container-id-4 div.sk-estimator {font-family: monospace;background-color: #f0f8ff;border: 1px dotted black;border-radius: 0.25em;box-sizing: border-box;margin-bottom: 0.5em;}#sk-container-id-4 div.sk-estimator:hover {background-color: #d4ebff;}#sk-container-id-4 div.sk-parallel-item::after {content: \"\";width: 100%;border-bottom: 1px solid gray;flex-grow: 1;}#sk-container-id-4 div.sk-label:hover label.sk-toggleable__label {background-color: #d4ebff;}#sk-container-id-4 div.sk-serial::before {content: \"\";position: absolute;border-left: 1px solid gray;box-sizing: border-box;top: 0;bottom: 0;left: 50%;z-index: 0;}#sk-container-id-4 div.sk-serial {display: flex;flex-direction: column;align-items: center;background-color: white;padding-right: 0.2em;padding-left: 0.2em;position: relative;}#sk-container-id-4 div.sk-item {position: relative;z-index: 1;}#sk-container-id-4 div.sk-parallel {display: flex;align-items: stretch;justify-content: center;background-color: white;position: relative;}#sk-container-id-4 div.sk-item::before, #sk-container-id-4 div.sk-parallel-item::before {content: \"\";position: absolute;border-left: 1px solid gray;box-sizing: border-box;top: 0;bottom: 0;left: 50%;z-index: -1;}#sk-container-id-4 div.sk-parallel-item {display: flex;flex-direction: column;z-index: 1;position: relative;background-color: white;}#sk-container-id-4 div.sk-parallel-item:first-child::after {align-self: flex-end;width: 50%;}#sk-container-id-4 div.sk-parallel-item:last-child::after {align-self: flex-start;width: 50%;}#sk-container-id-4 div.sk-parallel-item:only-child::after {width: 0;}#sk-container-id-4 div.sk-dashed-wrapped {border: 1px dashed gray;margin: 0 0.4em 0.5em 0.4em;box-sizing: border-box;padding-bottom: 0.4em;background-color: white;}#sk-container-id-4 div.sk-label label {font-family: monospace;font-weight: bold;display: inline-block;line-height: 1.2em;}#sk-container-id-4 div.sk-label-container {text-align: center;}#sk-container-id-4 div.sk-container {/* jupyter's `normalize.less` sets `[hidden] { display: none; }` but bootstrap.min.css set `[hidden] { display: none !important; }` so we also need the `!important` here to be able to override the default hidden behavior on the sphinx rendered scikit-learn.org. See: https://github.com/scikit-learn/scikit-learn/issues/21755 */display: inline-block !important;position: relative;}#sk-container-id-4 div.sk-text-repr-fallback {display: none;}</style><div id=\"sk-container-id-4\" class=\"sk-top-container\"><div class=\"sk-text-repr-fallback\"><pre>PCA(n_components=4)</pre><b>In a Jupyter environment, please rerun this cell to show the HTML representation or trust the notebook. <br />On GitHub, the HTML representation is unable to render, please try loading this page with nbviewer.org.</b></div><div class=\"sk-container\" hidden><div class=\"sk-item\"><div class=\"sk-estimator sk-toggleable\"><input class=\"sk-toggleable__control sk-hidden--visually\" id=\"sk-estimator-id-4\" type=\"checkbox\" checked><label for=\"sk-estimator-id-4\" class=\"sk-toggleable__label sk-toggleable__label-arrow\">PCA</label><div class=\"sk-toggleable__content\"><pre>PCA(n_components=4)</pre></div></div></div></div></div>"
     },
     "execution_count": 48,
     "metadata": {},
     "output_type": "execute_result"
    },
    {
     "data": {
      "text/plain": "array([1.60786876, 1.00252275, 0.7339482 , 0.65570029])"
     },
     "execution_count": 48,
     "metadata": {},
     "output_type": "execute_result"
    },
    {
     "data": {
      "text/plain": "array([0.40196317, 0.25062818, 0.18348521, 0.16392343])"
     },
     "execution_count": 48,
     "metadata": {},
     "output_type": "execute_result"
    }
   ],
   "source": [
    "#初始模型建立\n",
    "pca = PCA(n_components=4)\n",
    "pca.fit(data_bank)\n",
    "#解释的方差\n",
    "pca.explained_variance_\n",
    "#解释的方差的比例\n",
    "pca.explained_variance_ratio_"
   ],
   "metadata": {
    "collapsed": false
   }
  },
  {
   "cell_type": "code",
   "execution_count": 46,
   "outputs": [
    {
     "data": {
      "text/plain": "array([[-0.3374763 , -0.79112548, -0.43037594,  0.19094614],\n       [-0.23861679, -0.1198557 , -0.33391478,  0.93300005],\n       [ 0.53248735,  0.31167487,  0.9683109 ,  2.41710788],\n       ...,\n       [-0.23861679,  4.38724139,  2.17407542,  0.19094614],\n       [-0.57473911, -0.69522979, -0.47860652, -0.46865734],\n       [ 0.59180305, -0.07190786,  0.38954393, -0.46865734]])"
     },
     "execution_count": 46,
     "metadata": {},
     "output_type": "execute_result"
    }
   ],
   "source": [
    "data_bank = preprocessing.scale(data_bank)\n",
    "data_bank"
   ],
   "metadata": {
    "collapsed": false
   }
  },
  {
   "cell_type": "code",
   "execution_count": 44,
   "outputs": [
    {
     "data": {
      "text/plain": "   CNT_TBM  CNT_ATM  CNT_POS  CNT_CSC\n0       34        3        3        9\n1       44       17        5       18\n2      122       26       32       36\n3       42        3        6        1\n4       20       15        2        2",
      "text/html": "<div>\n<style scoped>\n    .dataframe tbody tr th:only-of-type {\n        vertical-align: middle;\n    }\n\n    .dataframe tbody tr th {\n        vertical-align: top;\n    }\n\n    .dataframe thead th {\n        text-align: right;\n    }\n</style>\n<table border=\"1\" class=\"dataframe\">\n  <thead>\n    <tr style=\"text-align: right;\">\n      <th></th>\n      <th>CNT_TBM</th>\n      <th>CNT_ATM</th>\n      <th>CNT_POS</th>\n      <th>CNT_CSC</th>\n    </tr>\n  </thead>\n  <tbody>\n    <tr>\n      <th>0</th>\n      <td>34</td>\n      <td>3</td>\n      <td>3</td>\n      <td>9</td>\n    </tr>\n    <tr>\n      <th>1</th>\n      <td>44</td>\n      <td>17</td>\n      <td>5</td>\n      <td>18</td>\n    </tr>\n    <tr>\n      <th>2</th>\n      <td>122</td>\n      <td>26</td>\n      <td>32</td>\n      <td>36</td>\n    </tr>\n    <tr>\n      <th>3</th>\n      <td>42</td>\n      <td>3</td>\n      <td>6</td>\n      <td>1</td>\n    </tr>\n    <tr>\n      <th>4</th>\n      <td>20</td>\n      <td>15</td>\n      <td>2</td>\n      <td>2</td>\n    </tr>\n  </tbody>\n</table>\n</div>"
     },
     "execution_count": 44,
     "metadata": {},
     "output_type": "execute_result"
    }
   ],
   "source": [
    "# 1.导入数据\n",
    "bank_data = pd.read_csv(\"profile_bank.csv\")\n",
    "data_bank = bank_data.loc[ :,'CNT_TBM':'CNT_CSC']\n",
    "data_bank.head()"
   ],
   "metadata": {
    "collapsed": false
   }
  },
  {
   "cell_type": "code",
   "execution_count": 42,
   "outputs": [
    {
     "data": {
      "text/plain": "<Figure size 640x480 with 1 Axes>",
      "image/png": "[encoded data removed]"
     },
     "metadata": {},
     "output_type": "display_data"
    }
   ],
   "source": [
    "city_data = pd.read_csv('cities_10.csv',encoding='gbk')\n",
    "city_data.head()\n",
    "data_city=city_data.loc[:,'X1':]\n",
    "data_city.head()\n",
    "\n",
    "data_city.corr()\n",
    "# 3.做主成分之前，进行中心标准化\n",
    "from sklearn import preprocessing\n",
    "data_city = preprocessing.scale(data_city)\n",
    "# 4.使用sklearn的主成分分析，用于判断保留主成分的数量\n",
    "from sklearn.decomposition import PCA\n",
    "# 建立模型\n",
    "# n_components:保留主成分的个数，初始设置一般为变量的个数\n",
    "pca = PCA(n_components=9)\n",
    "pca.fit(data_city)\n",
    "# 单个主成分解释的方差(特征值)\n",
    "pca.explained_variance_\n",
    "# 单个主成分解释的方差比率\n",
    "pca.explained_variance_ratio_\n",
    "pca = PCA(n_components=2)\n",
    "pca.fit(data_city)\n",
    "# 单个主成分解释的方差(特征值)\n",
    "pca.explained_variance_\n",
    "# 单个主成分解释的方差比率\n",
    "pca.explained_variance_ratio_\n",
    "#主成分得分\n",
    "score_city = pd.DataFrame(pca.fit_transform(data_city))\n",
    "type(score_city)\n",
    "\n",
    "#将主成分得分合并到原始数据\n",
    "city_pca=pd.concat([city_data, score_city], axis=1)\n",
    "city_pca\n",
    "city_pca= city_pca.rename(columns={0: \"score_city_0\",1:\"score_city_1\"})\n",
    "city_pca\n",
    "#按主因成分等分 排序\n",
    "city_pca.sort_values(by=['score_city_0','score_city_1'],ascending=False)\n",
    "data_city\n",
    "\n",
    "# 1.因子分析的概念很多，作为刚入门的人，我们可以认为因子分析是主成分分析的延续\n",
    "from fa_kit import FactorAnalysis\n",
    "from fa_kit import plotting as fa_plotting\n",
    "\n",
    "fa = FactorAnalysis.load_data_samples(\n",
    "    data_city,     #标准化数据\n",
    "    preproc_demean=True,\n",
    "    preproc_scale=True\n",
    ")\n",
    "fa.extract_components()\n",
    "# 2.设定提取主成分的方式，建议使用“top_n”法\n",
    "fa.find_comps_to_retain(method='top_n', num_keep = 2)\n",
    "# 3.通过最大方差法进行因子旋转\n",
    "fa.rotate_components()\n",
    "#查看因子权重（旋转后）\n",
    "fa.comps['rot']\n",
    "pd.DataFrame(fa.comps['rot'])\n",
    "#因子得分\n",
    "fa_scores = fa.get_component_scores(data_city)\n",
    "fa_scores\n",
    "#因子命名\n",
    "fa_scores = pd.DataFrame(fa_scores)\n",
    "a=fa_scores.rename(columns={0: \"Gross\", 1: \"Avg\"})\n",
    "citi10_fa=pd.concat([city_data, a], axis=1)\n",
    "citi10_fa.sort_values('Avg',ascending=False)\n",
    "\n",
    "from pylab import mpl\n",
    "mpl.rcParams['font.sans-serif'] = ['SimHei'] # 指定默认字体\n",
    "mpl.rcParams['axes.unicode_minus'] = False # 解决保存图像是负号'-'显示为方块的问题\n",
    "import matplotlib.pyplot as plt\n",
    "x=citi10_fa['Gross']\n",
    "y=citi10_fa['Avg']\n",
    "label=citi10_fa['AREA']\n",
    "plt.scatter(x, y)\n",
    "for a,b,l in zip(x,y,label):\n",
    "    plt.text(a, b+0.1, '%s.' % l, ha='center', va= 'bottom',fontsize=14)\n",
    "\n",
    "plt.show();"
   ],
   "metadata": {
    "collapsed": false
   }
  },
  {
   "cell_type": "code",
   "execution_count": 38,
   "outputs": [
    {
     "data": {
      "text/plain": "   ID    X1    X2    X3    X4    X5     score\n6   7  94.0  94.0  87.5  89.5  92.0  3.960102\n2   3  90.7  87.3  91.0  81.5  80.0  2.603684\n5   6  85.0  79.2  80.3  84.4  76.5  1.389937\n0   1  76.5  81.5  76.0  75.8  71.7  0.267437\n3   4  77.5  73.6  70.9  69.8  74.8 -0.440204\n4   5  85.6  68.5  70.0  62.2  76.5 -0.678219\n1   2  70.6  73.0  67.6  68.1  78.5 -0.775172\n7   8  84.6  66.9  68.8  64.8  66.4 -1.310850\n9  10  70.0  69.2  71.7  64.9  68.9 -1.486076\n8   9  57.7  60.4  57.4  60.8  65.0 -3.530640",
      "text/html": "<div>\n<style scoped>\n    .dataframe tbody tr th:only-of-type {\n        vertical-align: middle;\n    }\n\n    .dataframe tbody tr th {\n        vertical-align: top;\n    }\n\n    .dataframe thead th {\n        text-align: right;\n    }\n</style>\n<table border=\"1\" class=\"dataframe\">\n  <thead>\n    <tr style=\"text-align: right;\">\n      <th></th>\n      <th>ID</th>\n      <th>X1</th>\n      <th>X2</th>\n      <th>X3</th>\n      <th>X4</th>\n      <th>X5</th>\n      <th>score</th>\n    </tr>\n  </thead>\n  <tbody>\n    <tr>\n      <th>6</th>\n      <td>7</td>\n      <td>94.0</td>\n      <td>94.0</td>\n      <td>87.5</td>\n      <td>89.5</td>\n      <td>92.0</td>\n      <td>3.960102</td>\n    </tr>\n    <tr>\n      <th>2</th>\n      <td>3</td>\n      <td>90.7</td>\n      <td>87.3</td>\n      <td>91.0</td>\n      <td>81.5</td>\n      <td>80.0</td>\n      <td>2.603684</td>\n    </tr>\n    <tr>\n      <th>5</th>\n      <td>6</td>\n      <td>85.0</td>\n      <td>79.2</td>\n      <td>80.3</td>\n      <td>84.4</td>\n      <td>76.5</td>\n      <td>1.389937</td>\n    </tr>\n    <tr>\n      <th>0</th>\n      <td>1</td>\n      <td>76.5</td>\n      <td>81.5</td>\n      <td>76.0</td>\n      <td>75.8</td>\n      <td>71.7</td>\n      <td>0.267437</td>\n    </tr>\n    <tr>\n      <th>3</th>\n      <td>4</td>\n      <td>77.5</td>\n      <td>73.6</td>\n      <td>70.9</td>\n      <td>69.8</td>\n      <td>74.8</td>\n      <td>-0.440204</td>\n    </tr>\n    <tr>\n      <th>4</th>\n      <td>5</td>\n      <td>85.6</td>\n      <td>68.5</td>\n      <td>70.0</td>\n      <td>62.2</td>\n      <td>76.5</td>\n      <td>-0.678219</td>\n    </tr>\n    <tr>\n      <th>1</th>\n      <td>2</td>\n      <td>70.6</td>\n      <td>73.0</td>\n      <td>67.6</td>\n      <td>68.1</td>\n      <td>78.5</td>\n      <td>-0.775172</td>\n    </tr>\n    <tr>\n      <th>7</th>\n      <td>8</td>\n      <td>84.6</td>\n      <td>66.9</td>\n      <td>68.8</td>\n      <td>64.8</td>\n      <td>66.4</td>\n      <td>-1.310850</td>\n    </tr>\n    <tr>\n      <th>9</th>\n      <td>10</td>\n      <td>70.0</td>\n      <td>69.2</td>\n      <td>71.7</td>\n      <td>64.9</td>\n      <td>68.9</td>\n      <td>-1.486076</td>\n    </tr>\n    <tr>\n      <th>8</th>\n      <td>9</td>\n      <td>57.7</td>\n      <td>60.4</td>\n      <td>57.4</td>\n      <td>60.8</td>\n      <td>65.0</td>\n      <td>-3.530640</td>\n    </tr>\n  </tbody>\n</table>\n</div>"
     },
     "execution_count": 38,
     "metadata": {},
     "output_type": "execute_result"
    }
   ],
   "source": [
    "#按主因成分等分 排序\n",
    "Loan_pca.sort_values(by='score',ascending=False)"
   ],
   "metadata": {
    "collapsed": false
   }
  },
  {
   "cell_type": "code",
   "execution_count": 37,
   "outputs": [
    {
     "data": {
      "text/plain": "   ID    X1    X2    X3    X4    X5     score\n0   1  76.5  81.5  76.0  75.8  71.7  0.267437\n1   2  70.6  73.0  67.6  68.1  78.5 -0.775172\n2   3  90.7  87.3  91.0  81.5  80.0  2.603684\n3   4  77.5  73.6  70.9  69.8  74.8 -0.440204\n4   5  85.6  68.5  70.0  62.2  76.5 -0.678219\n5   6  85.0  79.2  80.3  84.4  76.5  1.389937\n6   7  94.0  94.0  87.5  89.5  92.0  3.960102\n7   8  84.6  66.9  68.8  64.8  66.4 -1.310850\n8   9  57.7  60.4  57.4  60.8  65.0 -3.530640\n9  10  70.0  69.2  71.7  64.9  68.9 -1.486076",
      "text/html": "<div>\n<style scoped>\n    .dataframe tbody tr th:only-of-type {\n        vertical-align: middle;\n    }\n\n    .dataframe tbody tr th {\n        vertical-align: top;\n    }\n\n    .dataframe thead th {\n        text-align: right;\n    }\n</style>\n<table border=\"1\" class=\"dataframe\">\n  <thead>\n    <tr style=\"text-align: right;\">\n      <th></th>\n      <th>ID</th>\n      <th>X1</th>\n      <th>X2</th>\n      <th>X3</th>\n      <th>X4</th>\n      <th>X5</th>\n      <th>score</th>\n    </tr>\n  </thead>\n  <tbody>\n    <tr>\n      <th>0</th>\n      <td>1</td>\n      <td>76.5</td>\n      <td>81.5</td>\n      <td>76.0</td>\n      <td>75.8</td>\n      <td>71.7</td>\n      <td>0.267437</td>\n    </tr>\n    <tr>\n      <th>1</th>\n      <td>2</td>\n      <td>70.6</td>\n      <td>73.0</td>\n      <td>67.6</td>\n      <td>68.1</td>\n      <td>78.5</td>\n      <td>-0.775172</td>\n    </tr>\n    <tr>\n      <th>2</th>\n      <td>3</td>\n      <td>90.7</td>\n      <td>87.3</td>\n      <td>91.0</td>\n      <td>81.5</td>\n      <td>80.0</td>\n      <td>2.603684</td>\n    </tr>\n    <tr>\n      <th>3</th>\n      <td>4</td>\n      <td>77.5</td>\n      <td>73.6</td>\n      <td>70.9</td>\n      <td>69.8</td>\n      <td>74.8</td>\n      <td>-0.440204</td>\n    </tr>\n    <tr>\n      <th>4</th>\n      <td>5</td>\n      <td>85.6</td>\n      <td>68.5</td>\n      <td>70.0</td>\n      <td>62.2</td>\n      <td>76.5</td>\n      <td>-0.678219</td>\n    </tr>\n    <tr>\n      <th>5</th>\n      <td>6</td>\n      <td>85.0</td>\n      <td>79.2</td>\n      <td>80.3</td>\n      <td>84.4</td>\n      <td>76.5</td>\n      <td>1.389937</td>\n    </tr>\n    <tr>\n      <th>6</th>\n      <td>7</td>\n      <td>94.0</td>\n      <td>94.0</td>\n      <td>87.5</td>\n      <td>89.5</td>\n      <td>92.0</td>\n      <td>3.960102</td>\n    </tr>\n    <tr>\n      <th>7</th>\n      <td>8</td>\n      <td>84.6</td>\n      <td>66.9</td>\n      <td>68.8</td>\n      <td>64.8</td>\n      <td>66.4</td>\n      <td>-1.310850</td>\n    </tr>\n    <tr>\n      <th>8</th>\n      <td>9</td>\n      <td>57.7</td>\n      <td>60.4</td>\n      <td>57.4</td>\n      <td>60.8</td>\n      <td>65.0</td>\n      <td>-3.530640</td>\n    </tr>\n    <tr>\n      <th>9</th>\n      <td>10</td>\n      <td>70.0</td>\n      <td>69.2</td>\n      <td>71.7</td>\n      <td>64.9</td>\n      <td>68.9</td>\n      <td>-1.486076</td>\n    </tr>\n  </tbody>\n</table>\n</div>"
     },
     "execution_count": 37,
     "metadata": {},
     "output_type": "execute_result"
    }
   ],
   "source": [
    "#将主成分得分合并到原始数据\n",
    "Loan_pca=pd.concat([model_data, score], axis=1)\n",
    "Loan_pca= Loan_pca.rename(columns={0: \"score\"})\n",
    "Loan_pca"
   ],
   "metadata": {
    "collapsed": false
   }
  },
  {
   "cell_type": "code",
   "execution_count": 36,
   "outputs": [
    {
     "data": {
      "text/plain": "          0\n0  0.267437\n1 -0.775172\n2  2.603684\n3 -0.440204\n4 -0.678219\n5  1.389937\n6  3.960102\n7 -1.310850\n8 -3.530640\n9 -1.486076",
      "text/html": "<div>\n<style scoped>\n    .dataframe tbody tr th:only-of-type {\n        vertical-align: middle;\n    }\n\n    .dataframe tbody tr th {\n        vertical-align: top;\n    }\n\n    .dataframe thead th {\n        text-align: right;\n    }\n</style>\n<table border=\"1\" class=\"dataframe\">\n  <thead>\n    <tr style=\"text-align: right;\">\n      <th></th>\n      <th>0</th>\n    </tr>\n  </thead>\n  <tbody>\n    <tr>\n      <th>0</th>\n      <td>0.267437</td>\n    </tr>\n    <tr>\n      <th>1</th>\n      <td>-0.775172</td>\n    </tr>\n    <tr>\n      <th>2</th>\n      <td>2.603684</td>\n    </tr>\n    <tr>\n      <th>3</th>\n      <td>-0.440204</td>\n    </tr>\n    <tr>\n      <th>4</th>\n      <td>-0.678219</td>\n    </tr>\n    <tr>\n      <th>5</th>\n      <td>1.389937</td>\n    </tr>\n    <tr>\n      <th>6</th>\n      <td>3.960102</td>\n    </tr>\n    <tr>\n      <th>7</th>\n      <td>-1.310850</td>\n    </tr>\n    <tr>\n      <th>8</th>\n      <td>-3.530640</td>\n    </tr>\n    <tr>\n      <th>9</th>\n      <td>-1.486076</td>\n    </tr>\n  </tbody>\n</table>\n</div>"
     },
     "execution_count": 36,
     "metadata": {},
     "output_type": "execute_result"
    }
   ],
   "source": [
    "#主成分得分\n",
    "score = pd.DataFrame(pca.fit_transform(data))\n",
    "score"
   ],
   "metadata": {
    "collapsed": false
   }
  },
  {
   "cell_type": "code",
   "execution_count": 35,
   "outputs": [
    {
     "data": {
      "text/plain": "array([[0.41348998, 0.47289329, 0.46559941, 0.45465337, 0.42650378]])"
     },
     "execution_count": 35,
     "metadata": {},
     "output_type": "execute_result"
    }
   ],
   "source": [
    "pca.components_"
   ],
   "metadata": {
    "collapsed": false
   }
  },
  {
   "cell_type": "code",
   "execution_count": 34,
   "outputs": [
    {
     "data": {
      "text/plain": "          0\n0  0.413490\n1  0.472893\n2  0.465599\n3  0.454653\n4  0.426504",
      "text/html": "<div>\n<style scoped>\n    .dataframe tbody tr th:only-of-type {\n        vertical-align: middle;\n    }\n\n    .dataframe tbody tr th {\n        vertical-align: top;\n    }\n\n    .dataframe thead th {\n        text-align: right;\n    }\n</style>\n<table border=\"1\" class=\"dataframe\">\n  <thead>\n    <tr style=\"text-align: right;\">\n      <th></th>\n      <th>0</th>\n    </tr>\n  </thead>\n  <tbody>\n    <tr>\n      <th>0</th>\n      <td>0.413490</td>\n    </tr>\n    <tr>\n      <th>1</th>\n      <td>0.472893</td>\n    </tr>\n    <tr>\n      <th>2</th>\n      <td>0.465599</td>\n    </tr>\n    <tr>\n      <th>3</th>\n      <td>0.454653</td>\n    </tr>\n    <tr>\n      <th>4</th>\n      <td>0.426504</td>\n    </tr>\n  </tbody>\n</table>\n</div>"
     },
     "execution_count": 34,
     "metadata": {},
     "output_type": "execute_result"
    }
   ],
   "source": [
    "# 通过主成分在每个变量上的权重的大小，确定每个主成分的代表性(特征向量)\n",
    "pd.DataFrame(pca.components_).T"
   ],
   "metadata": {
    "collapsed": false
   }
  },
  {
   "cell_type": "code",
   "execution_count": 33,
   "outputs": [
    {
     "data": {
      "text/plain": "PCA(n_components=1)",
      "text/html": "<style>#sk-container-id-2 {color: black;background-color: white;}#sk-container-id-2 pre{padding: 0;}#sk-container-id-2 div.sk-toggleable {background-color: white;}#sk-container-id-2 label.sk-toggleable__label {cursor: pointer;display: block;width: 100%;margin-bottom: 0;padding: 0.3em;box-sizing: border-box;text-align: center;}#sk-container-id-2 label.sk-toggleable__label-arrow:before {content: \"▸\";float: left;margin-right: 0.25em;color: #696969;}#sk-container-id-2 label.sk-toggleable__label-arrow:hover:before {color: black;}#sk-container-id-2 div.sk-estimator:hover label.sk-toggleable__label-arrow:before {color: black;}#sk-container-id-2 div.sk-toggleable__content {max-height: 0;max-width: 0;overflow: hidden;text-align: left;background-color: #f0f8ff;}#sk-container-id-2 div.sk-toggleable__content pre {margin: 0.2em;color: black;border-radius: 0.25em;background-color: #f0f8ff;}#sk-container-id-2 input.sk-toggleable__control:checked~div.sk-toggleable__content {max-height: 200px;max-width: 100%;overflow: auto;}#sk-container-id-2 input.sk-toggleable__control:checked~label.sk-toggleable__label-arrow:before {content: \"▾\";}#sk-container-id-2 div.sk-estimator input.sk-toggleable__control:checked~label.sk-toggleable__label {background-color: #d4ebff;}#sk-container-id-2 div.sk-label input.sk-toggleable__control:checked~label.sk-toggleable__label {background-color: #d4ebff;}#sk-container-id-2 input.sk-hidden--visually {border: 0;clip: rect(1px 1px 1px 1px);clip: rect(1px, 1px, 1px, 1px);height: 1px;margin: -1px;overflow: hidden;padding: 0;position: absolute;width: 1px;}#sk-container-id-2 div.sk-estimator {font-family: monospace;background-color: #f0f8ff;border: 1px dotted black;border-radius: 0.25em;box-sizing: border-box;margin-bottom: 0.5em;}#sk-container-id-2 div.sk-estimator:hover {background-color: #d4ebff;}#sk-container-id-2 div.sk-parallel-item::after {content: \"\";width: 100%;border-bottom: 1px solid gray;flex-grow: 1;}#sk-container-id-2 div.sk-label:hover label.sk-toggleable__label {background-color: #d4ebff;}#sk-container-id-2 div.sk-serial::before {content: \"\";position: absolute;border-left: 1px solid gray;box-sizing: border-box;top: 0;bottom: 0;left: 50%;z-index: 0;}#sk-container-id-2 div.sk-serial {display: flex;flex-direction: column;align-items: center;background-color: white;padding-right: 0.2em;padding-left: 0.2em;position: relative;}#sk-container-id-2 div.sk-item {position: relative;z-index: 1;}#sk-container-id-2 div.sk-parallel {display: flex;align-items: stretch;justify-content: center;background-color: white;position: relative;}#sk-container-id-2 div.sk-item::before, #sk-container-id-2 div.sk-parallel-item::before {content: \"\";position: absolute;border-left: 1px solid gray;box-sizing: border-box;top: 0;bottom: 0;left: 50%;z-index: -1;}#sk-container-id-2 div.sk-parallel-item {display: flex;flex-direction: column;z-index: 1;position: relative;background-color: white;}#sk-container-id-2 div.sk-parallel-item:first-child::after {align-self: flex-end;width: 50%;}#sk-container-id-2 div.sk-parallel-item:last-child::after {align-self: flex-start;width: 50%;}#sk-container-id-2 div.sk-parallel-item:only-child::after {width: 0;}#sk-container-id-2 div.sk-dashed-wrapped {border: 1px dashed gray;margin: 0 0.4em 0.5em 0.4em;box-sizing: border-box;padding-bottom: 0.4em;background-color: white;}#sk-container-id-2 div.sk-label label {font-family: monospace;font-weight: bold;display: inline-block;line-height: 1.2em;}#sk-container-id-2 div.sk-label-container {text-align: center;}#sk-container-id-2 div.sk-container {/* jupyter's `normalize.less` sets `[hidden] { display: none; }` but bootstrap.min.css set `[hidden] { display: none !important; }` so we also need the `!important` here to be able to override the default hidden behavior on the sphinx rendered scikit-learn.org. See: https://github.com/scikit-learn/scikit-learn/issues/21755 */display: inline-block !important;position: relative;}#sk-container-id-2 div.sk-text-repr-fallback {display: none;}</style><div id=\"sk-container-id-2\" class=\"sk-top-container\"><div class=\"sk-text-repr-fallback\"><pre>PCA(n_components=1)</pre><b>In a Jupyter environment, please rerun this cell to show the HTML representation or trust the notebook. <br />On GitHub, the HTML representation is unable to render, please try loading this page with nbviewer.org.</b></div><div class=\"sk-container\" hidden><div class=\"sk-item\"><div class=\"sk-estimator sk-toggleable\"><input class=\"sk-toggleable__control sk-hidden--visually\" id=\"sk-estimator-id-2\" type=\"checkbox\" checked><label for=\"sk-estimator-id-2\" class=\"sk-toggleable__label sk-toggleable__label-arrow\">PCA</label><div class=\"sk-toggleable__content\"><pre>PCA(n_components=1)</pre></div></div></div></div></div>"
     },
     "execution_count": 33,
     "metadata": {},
     "output_type": "execute_result"
    },
    {
     "data": {
      "text/plain": "array([4.67909448])"
     },
     "execution_count": 33,
     "metadata": {},
     "output_type": "execute_result"
    },
    {
     "data": {
      "text/plain": "array([0.84223701])"
     },
     "execution_count": 33,
     "metadata": {},
     "output_type": "execute_result"
    }
   ],
   "source": [
    "#模型调整(重新拟合模型)\n",
    "pca = PCA(n_components=1)\n",
    "pca.fit(data)\n",
    "pca.explained_variance_\n",
    "pca.explained_variance_ratio_"
   ],
   "metadata": {
    "collapsed": false
   }
  },
  {
   "cell_type": "code",
   "execution_count": 32,
   "outputs": [
    {
     "data": {
      "text/plain": "array([0.84223701, 0.07667191, 0.0594929 , 0.01591189, 0.00568629])"
     },
     "execution_count": 32,
     "metadata": {},
     "output_type": "execute_result"
    }
   ],
   "source": [
    "# 单个主成分解释的方差比率\n",
    "pca.explained_variance_ratio_"
   ],
   "metadata": {
    "collapsed": false
   }
  },
  {
   "cell_type": "code",
   "execution_count": 31,
   "outputs": [
    {
     "data": {
      "text/plain": "array([4.67909448, 0.42595504, 0.33051612, 0.0883994 , 0.03159051])"
     },
     "execution_count": 31,
     "metadata": {},
     "output_type": "execute_result"
    }
   ],
   "source": [
    "# 单个主成分解释的方差(特征值) ; 排序后的结果；要求大于1才能选择，第一个主成分携带了原始4.67个数据信息\n",
    "pca.explained_variance_"
   ],
   "metadata": {
    "collapsed": false
   }
  },
  {
   "cell_type": "code",
   "execution_count": 30,
   "outputs": [
    {
     "data": {
      "text/plain": "PCA(n_components=5)",
      "text/html": "<style>#sk-container-id-1 {color: black;background-color: white;}#sk-container-id-1 pre{padding: 0;}#sk-container-id-1 div.sk-toggleable {background-color: white;}#sk-container-id-1 label.sk-toggleable__label {cursor: pointer;display: block;width: 100%;margin-bottom: 0;padding: 0.3em;box-sizing: border-box;text-align: center;}#sk-container-id-1 label.sk-toggleable__label-arrow:before {content: \"▸\";float: left;margin-right: 0.25em;color: #696969;}#sk-container-id-1 label.sk-toggleable__label-arrow:hover:before {color: black;}#sk-container-id-1 div.sk-estimator:hover label.sk-toggleable__label-arrow:before {color: black;}#sk-container-id-1 div.sk-toggleable__content {max-height: 0;max-width: 0;overflow: hidden;text-align: left;background-color: #f0f8ff;}#sk-container-id-1 div.sk-toggleable__content pre {margin: 0.2em;color: black;border-radius: 0.25em;background-color: #f0f8ff;}#sk-container-id-1 input.sk-toggleable__control:checked~div.sk-toggleable__content {max-height: 200px;max-width: 100%;overflow: auto;}#sk-container-id-1 input.sk-toggleable__control:checked~label.sk-toggleable__label-arrow:before {content: \"▾\";}#sk-container-id-1 div.sk-estimator input.sk-toggleable__control:checked~label.sk-toggleable__label {background-color: #d4ebff;}#sk-container-id-1 div.sk-label input.sk-toggleable__control:checked~label.sk-toggleable__label {background-color: #d4ebff;}#sk-container-id-1 input.sk-hidden--visually {border: 0;clip: rect(1px 1px 1px 1px);clip: rect(1px, 1px, 1px, 1px);height: 1px;margin: -1px;overflow: hidden;padding: 0;position: absolute;width: 1px;}#sk-container-id-1 div.sk-estimator {font-family: monospace;background-color: #f0f8ff;border: 1px dotted black;border-radius: 0.25em;box-sizing: border-box;margin-bottom: 0.5em;}#sk-container-id-1 div.sk-estimator:hover {background-color: #d4ebff;}#sk-container-id-1 div.sk-parallel-item::after {content: \"\";width: 100%;border-bottom: 1px solid gray;flex-grow: 1;}#sk-container-id-1 div.sk-label:hover label.sk-toggleable__label {background-color: #d4ebff;}#sk-container-id-1 div.sk-serial::before {content: \"\";position: absolute;border-left: 1px solid gray;box-sizing: border-box;top: 0;bottom: 0;left: 50%;z-index: 0;}#sk-container-id-1 div.sk-serial {display: flex;flex-direction: column;align-items: center;background-color: white;padding-right: 0.2em;padding-left: 0.2em;position: relative;}#sk-container-id-1 div.sk-item {position: relative;z-index: 1;}#sk-container-id-1 div.sk-parallel {display: flex;align-items: stretch;justify-content: center;background-color: white;position: relative;}#sk-container-id-1 div.sk-item::before, #sk-container-id-1 div.sk-parallel-item::before {content: \"\";position: absolute;border-left: 1px solid gray;box-sizing: border-box;top: 0;bottom: 0;left: 50%;z-index: -1;}#sk-container-id-1 div.sk-parallel-item {display: flex;flex-direction: column;z-index: 1;position: relative;background-color: white;}#sk-container-id-1 div.sk-parallel-item:first-child::after {align-self: flex-end;width: 50%;}#sk-container-id-1 div.sk-parallel-item:last-child::after {align-self: flex-start;width: 50%;}#sk-container-id-1 div.sk-parallel-item:only-child::after {width: 0;}#sk-container-id-1 div.sk-dashed-wrapped {border: 1px dashed gray;margin: 0 0.4em 0.5em 0.4em;box-sizing: border-box;padding-bottom: 0.4em;background-color: white;}#sk-container-id-1 div.sk-label label {font-family: monospace;font-weight: bold;display: inline-block;line-height: 1.2em;}#sk-container-id-1 div.sk-label-container {text-align: center;}#sk-container-id-1 div.sk-container {/* jupyter's `normalize.less` sets `[hidden] { display: none; }` but bootstrap.min.css set `[hidden] { display: none !important; }` so we also need the `!important` here to be able to override the default hidden behavior on the sphinx rendered scikit-learn.org. See: https://github.com/scikit-learn/scikit-learn/issues/21755 */display: inline-block !important;position: relative;}#sk-container-id-1 div.sk-text-repr-fallback {display: none;}</style><div id=\"sk-container-id-1\" class=\"sk-top-container\"><div class=\"sk-text-repr-fallback\"><pre>PCA(n_components=5)</pre><b>In a Jupyter environment, please rerun this cell to show the HTML representation or trust the notebook. <br />On GitHub, the HTML representation is unable to render, please try loading this page with nbviewer.org.</b></div><div class=\"sk-container\" hidden><div class=\"sk-item\"><div class=\"sk-estimator sk-toggleable\"><input class=\"sk-toggleable__control sk-hidden--visually\" id=\"sk-estimator-id-1\" type=\"checkbox\" checked><label for=\"sk-estimator-id-1\" class=\"sk-toggleable__label sk-toggleable__label-arrow\">PCA</label><div class=\"sk-toggleable__content\"><pre>PCA(n_components=5)</pre></div></div></div></div></div>"
     },
     "execution_count": 30,
     "metadata": {},
     "output_type": "execute_result"
    }
   ],
   "source": [
    "# 4.使用sklearn的主成分分析，用于判断保留主成分的数量\n",
    "from sklearn.decomposition import PCA\n",
    "# 建立模型\n",
    "# n_components:保留主成分的个数，初始设置一般为变量的个数\n",
    "pca = PCA(n_components=5)\n",
    "pca.fit(data)"
   ],
   "metadata": {
    "collapsed": false
   }
  },
  {
   "cell_type": "code",
   "execution_count": 24,
   "outputs": [
    {
     "data": {
      "text/plain": "array([[-0.26099897,  0.63617414,  0.19936295,  0.37986418, -0.44786189],\n       [-0.82713645, -0.24452296, -0.69140767, -0.42813421,  0.46669092],\n       [ 1.10156919,  1.23712039,  1.79002477,  0.97799286,  0.66843051],\n       [-0.16504347, -0.1823561 , -0.34146207, -0.24974496, -0.0309334 ],\n       [ 0.61219612, -0.71077436, -0.43690178, -1.04724986,  0.1977048 ],\n       [ 0.55462281,  0.39786786,  0.65535267,  1.28230394,  0.1977048 ],\n       [ 1.41822235,  1.93131692,  1.41887034,  1.81747171,  2.28234725],\n       [ 0.51624061, -0.87655264, -0.56415473, -0.77441924, -1.16067512],\n       [-2.06496245, -1.55002689, -1.77305771, -1.19415866, -1.3489654 ],\n       [-0.88470975, -0.63824637, -0.25662677, -0.76392575, -0.82444246]])"
     },
     "execution_count": 24,
     "metadata": {},
     "output_type": "execute_result"
    }
   ],
   "source": [
    "# 3.做主成分之前，进行中心标准化\n",
    "from sklearn import preprocessing\n",
    "import numpy as np\n",
    "data = preprocessing.scale(data)\n",
    "data"
   ],
   "metadata": {
    "collapsed": false
   }
  },
  {
   "cell_type": "code",
   "execution_count": 21,
   "outputs": [
    {
     "data": {
      "text/plain": "          X1        X2        X3        X4        X5\nX1  1.000000  0.726655  0.825342  0.676314  0.685563\nX2  0.726655  1.000000  0.929080  0.938382  0.841413\nX3  0.825342  0.929080  1.000000  0.883457  0.733482\nX4  0.676314  0.938382  0.883457  1.000000  0.762563\nX5  0.685563  0.841413  0.733482  0.762563  1.000000",
      "text/html": "<div>\n<style scoped>\n    .dataframe tbody tr th:only-of-type {\n        vertical-align: middle;\n    }\n\n    .dataframe tbody tr th {\n        vertical-align: top;\n    }\n\n    .dataframe thead th {\n        text-align: right;\n    }\n</style>\n<table border=\"1\" class=\"dataframe\">\n  <thead>\n    <tr style=\"text-align: right;\">\n      <th></th>\n      <th>X1</th>\n      <th>X2</th>\n      <th>X3</th>\n      <th>X4</th>\n      <th>X5</th>\n    </tr>\n  </thead>\n  <tbody>\n    <tr>\n      <th>X1</th>\n      <td>1.000000</td>\n      <td>0.726655</td>\n      <td>0.825342</td>\n      <td>0.676314</td>\n      <td>0.685563</td>\n    </tr>\n    <tr>\n      <th>X2</th>\n      <td>0.726655</td>\n      <td>1.000000</td>\n      <td>0.929080</td>\n      <td>0.938382</td>\n      <td>0.841413</td>\n    </tr>\n    <tr>\n      <th>X3</th>\n      <td>0.825342</td>\n      <td>0.929080</td>\n      <td>1.000000</td>\n      <td>0.883457</td>\n      <td>0.733482</td>\n    </tr>\n    <tr>\n      <th>X4</th>\n      <td>0.676314</td>\n      <td>0.938382</td>\n      <td>0.883457</td>\n      <td>1.000000</td>\n      <td>0.762563</td>\n    </tr>\n    <tr>\n      <th>X5</th>\n      <td>0.685563</td>\n      <td>0.841413</td>\n      <td>0.733482</td>\n      <td>0.762563</td>\n      <td>1.000000</td>\n    </tr>\n  </tbody>\n</table>\n</div>"
     },
     "execution_count": 21,
     "metadata": {},
     "output_type": "execute_result"
    }
   ],
   "source": [
    "# 2.查看相关系数矩阵，判定做变量降维的必要性\n",
    "corr_matrix = data.corr()\n",
    "corr_matrix"
   ],
   "metadata": {
    "collapsed": false
   }
  },
  {
   "cell_type": "code",
   "execution_count": 19,
   "outputs": [
    {
     "data": {
      "text/plain": "     X1    X2    X3    X4    X5\n0  76.5  81.5  76.0  75.8  71.7\n1  70.6  73.0  67.6  68.1  78.5\n2  90.7  87.3  91.0  81.5  80.0\n3  77.5  73.6  70.9  69.8  74.8\n4  85.6  68.5  70.0  62.2  76.5",
      "text/html": "<div>\n<style scoped>\n    .dataframe tbody tr th:only-of-type {\n        vertical-align: middle;\n    }\n\n    .dataframe tbody tr th {\n        vertical-align: top;\n    }\n\n    .dataframe thead th {\n        text-align: right;\n    }\n</style>\n<table border=\"1\" class=\"dataframe\">\n  <thead>\n    <tr style=\"text-align: right;\">\n      <th></th>\n      <th>X1</th>\n      <th>X2</th>\n      <th>X3</th>\n      <th>X4</th>\n      <th>X5</th>\n    </tr>\n  </thead>\n  <tbody>\n    <tr>\n      <th>0</th>\n      <td>76.5</td>\n      <td>81.5</td>\n      <td>76.0</td>\n      <td>75.8</td>\n      <td>71.7</td>\n    </tr>\n    <tr>\n      <th>1</th>\n      <td>70.6</td>\n      <td>73.0</td>\n      <td>67.6</td>\n      <td>68.1</td>\n      <td>78.5</td>\n    </tr>\n    <tr>\n      <th>2</th>\n      <td>90.7</td>\n      <td>87.3</td>\n      <td>91.0</td>\n      <td>81.5</td>\n      <td>80.0</td>\n    </tr>\n    <tr>\n      <th>3</th>\n      <td>77.5</td>\n      <td>73.6</td>\n      <td>70.9</td>\n      <td>69.8</td>\n      <td>74.8</td>\n    </tr>\n    <tr>\n      <th>4</th>\n      <td>85.6</td>\n      <td>68.5</td>\n      <td>70.0</td>\n      <td>62.2</td>\n      <td>76.5</td>\n    </tr>\n  </tbody>\n</table>\n</div>"
     },
     "execution_count": 19,
     "metadata": {},
     "output_type": "execute_result"
    }
   ],
   "source": [
    "import pandas as pd\n",
    "#导入数据\n",
    "model_data = pd.read_csv('loan_aply.csv',encoding='gbk')\n",
    "data = model_data.loc[:,'X1':]\n",
    "data.head()"
   ],
   "metadata": {
    "collapsed": false
   }
  },
  {
   "cell_type": "code",
   "execution_count": 9,
   "outputs": [],
   "source": [
    "#全部行输出\n",
    "from IPython.core.interactiveshell import InteractiveShell\n",
    "InteractiveShell.ast_node_interactivity = \"all\""
   ],
   "metadata": {
    "collapsed": false
   }
  },
  {
   "cell_type": "code",
   "execution_count": 2,
   "outputs": [],
   "source": [
    "import os\n",
    "os.chdir(r'C:\\Data\\Jupyter_file\\统计建模\\连续变量降维')"
   ],
   "metadata": {
    "collapsed": false
   }
  },
  {
   "cell_type": "code",
   "execution_count": 1,
   "outputs": [
    {
     "data": {
      "text/plain": "'C:\\\\ProgramData\\\\Anaconda3\\\\envs\\\\cda_python\\\\python.exe'"
     },
     "execution_count": 1,
     "metadata": {},
     "output_type": "execute_result"
    }
   ],
   "source": [
    "import sys\n",
    "sys.executable"
   ],
   "metadata": {
    "collapsed": false
   }
  },
  {
   "cell_type": "code",
   "execution_count": 1,
   "outputs": [
    {
     "name": "stdout",
     "output_type": "stream",
     "text": [
      "Optimization terminated successfully.\n",
      "         Current function value: 0.421544\n",
      "         Iterations 6\n",
      "              precision    recall  f1-score   support\n",
      "\n",
      "           0       0.84      0.99      0.91      2508\n",
      "           1       0.56      0.05      0.09       492\n",
      "\n",
      "    accuracy                           0.84      3000\n",
      "   macro avg       0.70      0.52      0.50      3000\n",
      "weighted avg       0.80      0.84      0.78      3000\n",
      "\n",
      "Optimization terminated successfully.\n",
      "         Current function value: 0.628656\n",
      "         Iterations 6\n",
      "              precision    recall  f1-score   support\n",
      "\n",
      "           0       0.91      0.64      0.75      2508\n",
      "           1       0.27      0.67      0.38       492\n",
      "\n",
      "    accuracy                           0.64      3000\n",
      "   macro avg       0.59      0.66      0.57      3000\n",
      "weighted avg       0.80      0.64      0.69      3000\n",
      "\n",
      "Optimization terminated successfully.\n",
      "         Current function value: 0.621254\n",
      "         Iterations 6\n",
      "              precision    recall  f1-score   support\n",
      "\n",
      "           0       0.91      0.63      0.75      2508\n",
      "           1       0.27      0.69      0.39       492\n",
      "\n",
      "    accuracy                           0.64      3000\n",
      "   macro avg       0.59      0.66      0.57      3000\n",
      "weighted avg       0.81      0.64      0.69      3000\n",
      "\n",
      "Optimization terminated successfully.\n",
      "         Current function value: 0.630928\n",
      "         Iterations 6\n",
      "              precision    recall  f1-score   support\n",
      "\n",
      "           0       0.91      0.63      0.75      2508\n",
      "           1       0.27      0.68      0.38       492\n",
      "\n",
      "    accuracy                           0.64      3000\n",
      "   macro avg       0.59      0.66      0.56      3000\n",
      "weighted avg       0.80      0.64      0.69      3000\n",
      "\n"
     ]
    },
    {
     "data": {
      "text/plain": "<Figure size 500x500 with 1 Axes>",
      "image/png": "[encoded data removed]"
     },
     "metadata": {},
     "output_type": "display_data"
    }
   ],
   "source": [
    "import os\n",
    "os.__file__\n",
    "import sys\n",
    "# sys.executable\n",
    "# dir()\n",
    "\n",
    "# 分割测试集训练集\n",
    "from sklearn.model_selection import train_test_split\n",
    "# 模型评估（召回率），选择0.5为阈值\n",
    "from sklearn.metrics import classification_report\n",
    "import numpy as np\n",
    "from scipy import stats\n",
    "import pandas as pd\n",
    "import statsmodels.api as sm\n",
    "import statsmodels.formula.api as smf\n",
    "import matplotlib.pyplot as plt\n",
    "os.chdir(r'C:\\Users\\fzh00\\Desktop\\文件\\python资料\\Python数据清洗基础\\data\\2_逻辑回归案例')\n",
    "data = pd.read_excel('客户列表.xls')\n",
    "# data.head()\n",
    "#‘成交意向度’为系统输出，这里不需要\n",
    "data.drop('成交意向度', axis=1, inplace=True)\n",
    "data.rename(columns={'客户ID':'ID', '对话时长(总时长/对话数量)':'对话时长', '互动次数(总次数/对话数量)':'互动次数',\n",
    "                     '是否已成交(1已成交0未成交)':'是否成交'}, inplace=True)\n",
    "# 去掉变量ID\n",
    "data.drop('ID', axis=1, inplace=True)\n",
    "train,test = train_test_split(data,test_size=0.3,random_state=6)\n",
    "\n",
    "\n",
    "#拟合模型\n",
    "formula = '是否成交~对话数量+对话时长+互动次数+销售说话时长占比+销售最长讲述+客户最长讲述+对话得分'\n",
    "model = smf.logit(formula,train) #实例化\n",
    "model = model.fit() #拟合数据\n",
    "model.summary() #输出结果\n",
    "#输出预测概率\n",
    "pre = model.predict(test.iloc[:,:-1])\n",
    "#预测标签\n",
    "label = (pre>0.5).astype('int')\n",
    "#输出 分类报告,Y的真实值 和预测标签\n",
    "print(classification_report(test.iloc[:,-1],label))\n",
    "\n",
    "#下面是模型调优\n",
    "#SMOTE,处理不平衡数据的方法\n",
    "# train['是否成交'].value_counts()\n",
    "# SMOTE过采样:对训练集进行过采\n",
    "from imblearn.over_sampling import SMOTE\n",
    "\n",
    "#过采样（SMOTE）\n",
    "smote = SMOTE(random_state=42)   #实例化\n",
    "Xtrain_sm,  Ytrain_sm= smote.fit_resample(train.iloc[:,:-1], train.iloc[:,-1])   #过采样\n",
    "#合并过采样后的自变量与因变量\n",
    "train_sm = pd.concat([Xtrain_sm, Ytrain_sm], axis=1)\n",
    "#重新拟合模型\n",
    "formula2='是否成交~对话数量+对话时长+互动次数+销售说话时长占比+销售最长讲述+客户最长讲述+对话得分'\n",
    "model_sm = smf.logit(formula=formula2, data=train_sm)   #实例化\n",
    "model_sm = model_sm.fit()   #拟合数据\n",
    "model_sm.summary()\n",
    "#预测\n",
    "pre_sm = model_sm.predict(test.iloc[:,:-1])\n",
    "# (pre_sm>0.5).sum()\n",
    "#输出 分类报告,Y的真实值 和预测标签\n",
    "print(classification_report(test.iloc[:,-1],(pre_sm>0.5).astype('int')))\n",
    "#混淆矩阵，默认阈值0.5\n",
    "# model_sm.pred_table()\n",
    "#改进方法BorderlineSMOTE1\n",
    "from imblearn.over_sampling import BorderlineSMOTE\n",
    "smote_b1 = BorderlineSMOTE(random_state=123)\n",
    "Xtrain_sm_1,Ytrain_sm_1 = smote_b1.fit_resample(train.iloc[:,:-1],train.iloc[:,-1])\n",
    "train_sm_1 = pd.concat([Xtrain_sm_1, Ytrain_sm_1],axis=1)\n",
    "# train_sm_1.shape\n",
    "formula3='是否成交~对话数量+对话时长+互动次数+销售说话时长占比+销售最长讲述+客户最长讲述+对话得分'\n",
    "model_sm_1 = smf.logit(formula=formula3, data=train_sm_1).fit()\n",
    "model_sm_1.summary()\n",
    "pre_label_sm_1= (model_sm_1.predict(test) > 0.5).astype(\"int\")   # 生成预测值\n",
    "print(classification_report(test.iloc[:,-1], pre_label_sm_1))   # Y的真实值，Y的预测值\n",
    "\n",
    "#改进方法BorderlineSMOTE2\n",
    "smote_b2 = BorderlineSMOTE(random_state=123, kind='borderline-2') #默认SMOTE1\n",
    "Xtrain_sm_2,Ytrain_sm_2 = smote_b2.fit_resample(train.iloc[:,:-1],train.iloc[:,-1])\n",
    "train_sm_2 = pd.concat([Xtrain_sm_2, Ytrain_sm_2],axis=1)\n",
    "formula4='是否成交~对话数量+对话时长+互动次数+销售说话时长占比+销售最长讲述+客户最长讲述+对话得分'\n",
    "model_sm_2 = smf.logit(formula=formula4, data=train_sm_2).fit()\n",
    "# model_sm_2.summary()\n",
    "\n",
    "pre_label_sm_2= (model_sm_2.predict(test) > 0.5).astype(\"int\")   # 生成预测值\n",
    "print(classification_report(test.iloc[:,-1], pre_label_sm_2))   # Y的真实值，Y的预测值\n",
    "\n",
    "#预测出来的标签的结果，用于得到分类报告的\n",
    "pre_sm_1 = model_sm_1.predict(test)\n",
    "pre_sm_2 = model_sm_2.predict(test)\n",
    "\n",
    "#模型评估\n",
    "from sklearn import metrics\n",
    "#将真实的标签值与预测出来的为1的概率值传入metrics.roc_curve（），返回的是一系列的tpr、fpr、阈值的取值情况\n",
    "fpr, tpr, th = metrics.roc_curve(test.iloc[:,-1], pre)\n",
    "fpr_sm, tpr_sm, th_sm = metrics.roc_curve(test.iloc[:,-1], pre_sm)\n",
    "fpr_sm_1, tpr_sm_1, th_sm_1 = metrics.roc_curve(test.iloc[:,-1], pre_sm_1)\n",
    "fpr_sm_2, tpr_sm_2, th_sm_2 = metrics.roc_curve(test.iloc[:,-1], pre_sm_2)\n",
    "\n",
    "#绘图\n",
    "plt.figure(figsize=[5, 5])\n",
    "plt.plot(fpr, tpr, 'b', label='AUC = %.4f' %metrics.auc(fpr, tpr))\n",
    "plt.plot(fpr_sm, tpr_sm, 'r', label='AUC_sm = %.4f' %metrics.auc(fpr_sm, tpr_sm))\n",
    "plt.plot(fpr_sm_1, tpr_sm_1, 'g', label='AUC_sm_1 = %.4f' %metrics.auc(fpr_sm_1, tpr_sm_1))\n",
    "plt.plot(fpr_sm_2, tpr_sm_2, 'y', label='AUC_sm_2 = %.4f' %metrics.auc(fpr_sm_2, tpr_sm_2))\n",
    "\n",
    "\n",
    "plt.legend(loc = 'lower right')\n",
    "plt.title('ROC curve')\n",
    "plt.show();"
   ],
   "metadata": {
    "collapsed": false
   }
  },
  {
   "cell_type": "code",
   "execution_count": null,
   "outputs": [],
   "source": [
    "#全部行输出\n",
    "from IPython.core.interactiveshell import InteractiveShell\n",
    "InteractiveShell.ast_node_interactivity = \"all\""
   ],
   "metadata": {
    "collapsed": false
   }
  }
 ],
 "metadata": {
  "kernelspec": {
   "name": "env36",
   "language": "python",
   "display_name": "cda_python"
  },
  "language_info": {
   "codemirror_mode": {
    "name": "ipython",
    "version": 2
   },
   "file_extension": ".py",
   "mimetype": "text/x-python",
   "name": "python",
   "nbconvert_exporter": "python",
   "pygments_lexer": "ipython2",
   "version": "2.7.6"
  }
 },
 "nbformat": 4,
 "nbformat_minor": 0
}
