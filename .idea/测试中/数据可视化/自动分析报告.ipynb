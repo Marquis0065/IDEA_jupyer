{
 "cells": [
  {
   "cell_type": "code",
   "execution_count": 9,
   "outputs": [
    {
     "data": {
      "text/plain": "<IPython.lib.display.IFrame at 0x2124e80af20>",
      "text/html": "\n        <iframe\n            width=\"100%\"\n            height=\"475\"\n            src=\"http://Marqis_T14:40000/dtale/iframe/1\"\n            frameborder=\"0\"\n            allowfullscreen\n            \n        ></iframe>\n        "
     },
     "metadata": {},
     "output_type": "display_data"
    },
    {
     "data": {
      "text/plain": ""
     },
     "execution_count": 9,
     "metadata": {},
     "output_type": "execute_result"
    }
   ],
   "source": [
    "dtale.show(df)"
   ],
   "metadata": {
    "collapsed": false
   }
  },
  {
   "cell_type": "code",
   "execution_count": 7,
   "outputs": [],
   "source": [
    "import dtale"
   ],
   "metadata": {
    "collapsed": false
   }
  },
  {
   "cell_type": "code",
   "execution_count": 4,
   "outputs": [
    {
     "name": "stdout",
     "output_type": "stream",
     "text": [
      "Target looks like classification\n",
      "Linear Discriminant Analysis training set score: 0.589\n"
     ]
    },
    {
     "data": {
      "text/plain": "[<AxesSubplot: title={'center': 'Target distribution'}, xlabel='count', ylabel='Survived'>,\n [array([[<AxesSubplot: ylabel='Age'>, <AxesSubplot: >, <AxesSubplot: >,\n          <AxesSubplot: >],\n         [<AxesSubplot: ylabel='SibSp'>, <AxesSubplot: >, <AxesSubplot: >,\n          <AxesSubplot: >],\n         [<AxesSubplot: ylabel='Parch'>, <AxesSubplot: >, <AxesSubplot: >,\n          <AxesSubplot: >],\n         [<AxesSubplot: xlabel='Age', ylabel='Fare'>,\n          <AxesSubplot: xlabel='SibSp'>, <AxesSubplot: xlabel='Parch'>,\n          <AxesSubplot: xlabel='Fare'>]], dtype=object),\n  <Figure size 1600x400 with 4 Axes>,\n  <Figure size 800x550 with 1 Axes>],\n array([[<AxesSubplot: title={'center': 'Sex'}>,\n         <AxesSubplot: title={'center': 'Pclass'}>,\n         <AxesSubplot: title={'center': 'Embarked'}>]], dtype=object)]"
     },
     "execution_count": 4,
     "metadata": {},
     "output_type": "execute_result"
    }
   ],
   "source": [
    "import pandas as pd\n",
    "import dabl\n",
    "\n",
    "df = pd.read_csv(r\"C:\\Users\\fzh00\\Desktop\\文件\\python资料\\Python数据清洗基础\\data补充\\titanic_train.csv\")\n",
    "dabl.plot(df, target_col=\"Survived\")"
   ],
   "metadata": {
    "collapsed": false
   }
  },
  {
   "cell_type": "code",
   "execution_count": 3,
   "outputs": [
    {
     "ename": "AttributeError",
     "evalue": "module 'mistune' has no attribute 'BlockGrammar'",
     "output_type": "error",
     "traceback": [
      "\u001B[1;31m---------------------------------------------------------------------------\u001B[0m",
      "\u001B[1;31mAttributeError\u001B[0m                            Traceback (most recent call last)",
      "Cell \u001B[1;32mIn[3], line 2\u001B[0m\n\u001B[0;32m      1\u001B[0m \u001B[38;5;28;01mimport\u001B[39;00m \u001B[38;5;21;01mpandas\u001B[39;00m \u001B[38;5;28;01mas\u001B[39;00m \u001B[38;5;21;01mpd\u001B[39;00m\n\u001B[1;32m----> 2\u001B[0m \u001B[38;5;28;01mfrom\u001B[39;00m \u001B[38;5;21;01mautoviz\u001B[39;00m\u001B[38;5;21;01m.\u001B[39;00m\u001B[38;5;21;01mAutoViz_Class\u001B[39;00m \u001B[38;5;28;01mimport\u001B[39;00m AutoViz_Class\n\u001B[0;32m      4\u001B[0m \u001B[38;5;66;03m#EDA using Autoviz\u001B[39;00m\n\u001B[0;32m      5\u001B[0m autoviz \u001B[38;5;241m=\u001B[39m AutoViz_Class()\u001B[38;5;241m.\u001B[39mAutoViz(\u001B[38;5;124mr\u001B[39m\u001B[38;5;124m\"\u001B[39m\u001B[38;5;124mC:\u001B[39m\u001B[38;5;124m\\\u001B[39m\u001B[38;5;124mUsers\u001B[39m\u001B[38;5;124m\\\u001B[39m\u001B[38;5;124mfzh00\u001B[39m\u001B[38;5;124m\\\u001B[39m\u001B[38;5;124mDesktop\u001B[39m\u001B[38;5;124m\\\u001B[39m\u001B[38;5;124m文件\u001B[39m\u001B[38;5;124m\\\u001B[39m\u001B[38;5;124mpython资料\u001B[39m\u001B[38;5;124m\\\u001B[39m\u001B[38;5;124mPython数据清洗基础\u001B[39m\u001B[38;5;124m\\\u001B[39m\u001B[38;5;124mdata补充\u001B[39m\u001B[38;5;124m\\\u001B[39m\u001B[38;5;124mtitanic_train.csv\u001B[39m\u001B[38;5;124m\"\u001B[39m)\n",
      "File \u001B[1;32mC:\\ProgramData\\Anaconda3\\envs\\cda_python\\lib\\site-packages\\autoviz\\__init__.py:3\u001B[0m\n\u001B[0;32m      1\u001B[0m name \u001B[38;5;241m=\u001B[39m \u001B[38;5;124m\"\u001B[39m\u001B[38;5;124mautoviz\u001B[39m\u001B[38;5;124m\"\u001B[39m\n\u001B[0;32m      2\u001B[0m \u001B[38;5;28;01mfrom\u001B[39;00m \u001B[38;5;21;01m.\u001B[39;00m\u001B[38;5;21;01m__version__\u001B[39;00m \u001B[38;5;28;01mimport\u001B[39;00m __version__, __holo_version__\n\u001B[1;32m----> 3\u001B[0m \u001B[38;5;28;01mfrom\u001B[39;00m \u001B[38;5;21;01m.\u001B[39;00m\u001B[38;5;21;01mAutoViz_Class\u001B[39;00m \u001B[38;5;28;01mimport\u001B[39;00m AutoViz_Class\n\u001B[0;32m      4\u001B[0m \u001B[38;5;28;01mfrom\u001B[39;00m \u001B[38;5;21;01m.\u001B[39;00m\u001B[38;5;21;01mAutoViz_Class\u001B[39;00m \u001B[38;5;28;01mimport\u001B[39;00m data_cleaning_suggestions\n\u001B[0;32m      5\u001B[0m \u001B[38;5;28;01mfrom\u001B[39;00m \u001B[38;5;21;01m.\u001B[39;00m\u001B[38;5;21;01mAutoViz_Class\u001B[39;00m \u001B[38;5;28;01mimport\u001B[39;00m FixDQ\n",
      "File \u001B[1;32mC:\\ProgramData\\Anaconda3\\envs\\cda_python\\lib\\site-packages\\autoviz\\AutoViz_Class.py:61\u001B[0m\n\u001B[0;32m     59\u001B[0m \u001B[38;5;28;01mfrom\u001B[39;00m \u001B[38;5;21;01msklearn\u001B[39;00m\u001B[38;5;21;01m.\u001B[39;00m\u001B[38;5;21;01mmodel_selection\u001B[39;00m \u001B[38;5;28;01mimport\u001B[39;00m train_test_split\n\u001B[0;32m     60\u001B[0m \u001B[38;5;66;03m##########################################################################################\u001B[39;00m\n\u001B[1;32m---> 61\u001B[0m \u001B[38;5;28;01mfrom\u001B[39;00m \u001B[38;5;21;01mautoviz\u001B[39;00m\u001B[38;5;21;01m.\u001B[39;00m\u001B[38;5;21;01mAutoViz_Holo\u001B[39;00m \u001B[38;5;28;01mimport\u001B[39;00m AutoViz_Holo\n\u001B[0;32m     62\u001B[0m \u001B[38;5;28;01mfrom\u001B[39;00m \u001B[38;5;21;01mautoviz\u001B[39;00m\u001B[38;5;21;01m.\u001B[39;00m\u001B[38;5;21;01mAutoViz_Utils\u001B[39;00m \u001B[38;5;28;01mimport\u001B[39;00m save_image_data, save_html_data, analyze_problem_type, draw_pivot_tables, draw_scatters\n\u001B[0;32m     63\u001B[0m \u001B[38;5;28;01mfrom\u001B[39;00m \u001B[38;5;21;01mautoviz\u001B[39;00m\u001B[38;5;21;01m.\u001B[39;00m\u001B[38;5;21;01mAutoViz_Utils\u001B[39;00m \u001B[38;5;28;01mimport\u001B[39;00m draw_pair_scatters, plot_fast_average_num_by_cat, draw_barplots, draw_heatmap\n",
      "File \u001B[1;32mC:\\ProgramData\\Anaconda3\\envs\\cda_python\\lib\\site-packages\\autoviz\\AutoViz_Holo.py:5\u001B[0m\n\u001B[0;32m      3\u001B[0m \u001B[38;5;28;01mimport\u001B[39;00m \u001B[38;5;21;01mpandas\u001B[39;00m \u001B[38;5;28;01mas\u001B[39;00m \u001B[38;5;21;01mpd\u001B[39;00m\n\u001B[0;32m      4\u001B[0m \u001B[38;5;66;03m############# Import from autoviz.AutoViz_Class the following libraries #######\u001B[39;00m\n\u001B[1;32m----> 5\u001B[0m \u001B[38;5;28;01mfrom\u001B[39;00m \u001B[38;5;21;01mautoviz\u001B[39;00m\u001B[38;5;21;01m.\u001B[39;00m\u001B[38;5;21;01mAutoViz_Utils\u001B[39;00m \u001B[38;5;28;01mimport\u001B[39;00m \u001B[38;5;241m*\u001B[39m\n\u001B[0;32m      6\u001B[0m \u001B[38;5;66;03m##############   make sure you use: conda install -c pyviz hvplot ###############\u001B[39;00m\n\u001B[0;32m      7\u001B[0m \u001B[38;5;28;01mimport\u001B[39;00m \u001B[38;5;21;01mhvplot\u001B[39;00m\u001B[38;5;21;01m.\u001B[39;00m\u001B[38;5;21;01mpandas\u001B[39;00m  \u001B[38;5;66;03m# noqa\u001B[39;00m\n",
      "File \u001B[1;32mC:\\ProgramData\\Anaconda3\\envs\\cda_python\\lib\\site-packages\\autoviz\\AutoViz_Utils.py:61\u001B[0m\n\u001B[0;32m     59\u001B[0m \u001B[38;5;28;01mfrom\u001B[39;00m \u001B[38;5;21;01msklearn\u001B[39;00m\u001B[38;5;21;01m.\u001B[39;00m\u001B[38;5;21;01mmodel_selection\u001B[39;00m \u001B[38;5;28;01mimport\u001B[39;00m train_test_split\n\u001B[0;32m     60\u001B[0m \u001B[38;5;66;03m######## This is where we import HoloViews related libraries  #########\u001B[39;00m\n\u001B[1;32m---> 61\u001B[0m \u001B[38;5;28;01mimport\u001B[39;00m \u001B[38;5;21;01mhvplot\u001B[39;00m\u001B[38;5;21;01m.\u001B[39;00m\u001B[38;5;21;01mpandas\u001B[39;00m\n\u001B[0;32m     62\u001B[0m \u001B[38;5;28;01mimport\u001B[39;00m \u001B[38;5;21;01mholoviews\u001B[39;00m \u001B[38;5;28;01mas\u001B[39;00m \u001B[38;5;21;01mhv\u001B[39;00m\n\u001B[0;32m     63\u001B[0m \u001B[38;5;28;01mfrom\u001B[39;00m \u001B[38;5;21;01mholoviews\u001B[39;00m \u001B[38;5;28;01mimport\u001B[39;00m opts\n",
      "File \u001B[1;32mC:\\ProgramData\\Anaconda3\\envs\\cda_python\\lib\\site-packages\\hvplot\\pandas.py:27\u001B[0m\n\u001B[0;32m     23\u001B[0m     \u001B[38;5;28msetattr\u001B[39m(pd\u001B[38;5;241m.\u001B[39mSeries, interactive, interactive_prop)\n\u001B[0;32m     25\u001B[0m     post_patch(extension, logo)\n\u001B[1;32m---> 27\u001B[0m \u001B[43mpatch\u001B[49m\u001B[43m(\u001B[49m\u001B[43m)\u001B[49m\n",
      "File \u001B[1;32mC:\\ProgramData\\Anaconda3\\envs\\cda_python\\lib\\site-packages\\hvplot\\pandas.py:25\u001B[0m, in \u001B[0;36mpatch\u001B[1;34m(name, interactive, extension, logo)\u001B[0m\n\u001B[0;32m     22\u001B[0m \u001B[38;5;28msetattr\u001B[39m(pd\u001B[38;5;241m.\u001B[39mDataFrame, interactive, interactive_prop)\n\u001B[0;32m     23\u001B[0m \u001B[38;5;28msetattr\u001B[39m(pd\u001B[38;5;241m.\u001B[39mSeries, interactive, interactive_prop)\n\u001B[1;32m---> 25\u001B[0m \u001B[43mpost_patch\u001B[49m\u001B[43m(\u001B[49m\u001B[43mextension\u001B[49m\u001B[43m,\u001B[49m\u001B[43m \u001B[49m\u001B[43mlogo\u001B[49m\u001B[43m)\u001B[49m\n",
      "File \u001B[1;32mC:\\ProgramData\\Anaconda3\\envs\\cda_python\\lib\\site-packages\\hvplot\\__init__.py:112\u001B[0m, in \u001B[0;36mpost_patch\u001B[1;34m(extension, logo)\u001B[0m\n\u001B[0;32m    110\u001B[0m \u001B[38;5;28;01mdef\u001B[39;00m \u001B[38;5;21mpost_patch\u001B[39m(extension\u001B[38;5;241m=\u001B[39m\u001B[38;5;124m'\u001B[39m\u001B[38;5;124mbokeh\u001B[39m\u001B[38;5;124m'\u001B[39m, logo\u001B[38;5;241m=\u001B[39m\u001B[38;5;28;01mFalse\u001B[39;00m):\n\u001B[0;32m    111\u001B[0m     \u001B[38;5;28;01mif\u001B[39;00m extension \u001B[38;5;129;01mand\u001B[39;00m \u001B[38;5;129;01mnot\u001B[39;00m \u001B[38;5;28mgetattr\u001B[39m(_hv\u001B[38;5;241m.\u001B[39mextension, \u001B[38;5;124m'\u001B[39m\u001B[38;5;124m_loaded\u001B[39m\u001B[38;5;124m'\u001B[39m, \u001B[38;5;28;01mFalse\u001B[39;00m):\n\u001B[1;32m--> 112\u001B[0m         \u001B[43m_hv\u001B[49m\u001B[38;5;241;43m.\u001B[39;49m\u001B[43mextension\u001B[49m\u001B[43m(\u001B[49m\u001B[43mextension\u001B[49m\u001B[43m,\u001B[49m\u001B[43m \u001B[49m\u001B[43mlogo\u001B[49m\u001B[38;5;241;43m=\u001B[39;49m\u001B[43mlogo\u001B[49m\u001B[43m)\u001B[49m\n",
      "File \u001B[1;32mC:\\ProgramData\\Anaconda3\\envs\\cda_python\\lib\\site-packages\\pyviz_comms\\__init__.py:64\u001B[0m, in \u001B[0;36mextension.__new__\u001B[1;34m(cls, *args, **kwargs)\u001B[0m\n\u001B[0;32m     62\u001B[0m \u001B[38;5;28;01mexcept\u001B[39;00m \u001B[38;5;167;01mException\u001B[39;00m:\n\u001B[0;32m     63\u001B[0m     \u001B[38;5;28;01mpass\u001B[39;00m\n\u001B[1;32m---> 64\u001B[0m \u001B[38;5;28;01mreturn\u001B[39;00m param\u001B[38;5;241m.\u001B[39mParameterizedFunction\u001B[38;5;241m.\u001B[39m\u001B[38;5;21m__new__\u001B[39m(\u001B[38;5;28mcls\u001B[39m, \u001B[38;5;241m*\u001B[39margs, \u001B[38;5;241m*\u001B[39m\u001B[38;5;241m*\u001B[39mkwargs)\n",
      "File \u001B[1;32mC:\\ProgramData\\Anaconda3\\envs\\cda_python\\lib\\site-packages\\param\\parameterized.py:3658\u001B[0m, in \u001B[0;36mParameterizedFunction.__new__\u001B[1;34m(class_, *args, **params)\u001B[0m\n\u001B[0;32m   3656\u001B[0m inst \u001B[38;5;241m=\u001B[39m class_\u001B[38;5;241m.\u001B[39minstance()\n\u001B[0;32m   3657\u001B[0m inst\u001B[38;5;241m.\u001B[39mparam\u001B[38;5;241m.\u001B[39m_set_name(class_\u001B[38;5;241m.\u001B[39m\u001B[38;5;18m__name__\u001B[39m)\n\u001B[1;32m-> 3658\u001B[0m \u001B[38;5;28;01mreturn\u001B[39;00m inst\u001B[38;5;241m.\u001B[39m\u001B[38;5;21m__call__\u001B[39m(\u001B[38;5;241m*\u001B[39margs,\u001B[38;5;241m*\u001B[39m\u001B[38;5;241m*\u001B[39mparams)\n",
      "File \u001B[1;32mC:\\ProgramData\\Anaconda3\\envs\\cda_python\\lib\\site-packages\\holoviews\\ipython\\__init__.py:130\u001B[0m, in \u001B[0;36mnotebook_extension.__call__\u001B[1;34m(self, *args, **params)\u001B[0m\n\u001B[0;32m    128\u001B[0m     \u001B[38;5;28;01mfrom\u001B[39;00m \u001B[38;5;21;01mIPython\u001B[39;00m \u001B[38;5;28;01mimport\u001B[39;00m nbformat \u001B[38;5;66;03m# noqa (ensures availability)\u001B[39;00m\n\u001B[0;32m    129\u001B[0m \u001B[38;5;28;01mtry\u001B[39;00m:\n\u001B[1;32m--> 130\u001B[0m     \u001B[38;5;28;01mfrom\u001B[39;00m \u001B[38;5;21;01m.\u001B[39;00m\u001B[38;5;21;01marchive\u001B[39;00m \u001B[38;5;28;01mimport\u001B[39;00m notebook_archive\n\u001B[0;32m    131\u001B[0m     holoviews\u001B[38;5;241m.\u001B[39marchive \u001B[38;5;241m=\u001B[39m notebook_archive\n\u001B[0;32m    132\u001B[0m \u001B[38;5;28;01mexcept\u001B[39;00m \u001B[38;5;167;01mAttributeError\u001B[39;00m \u001B[38;5;28;01mas\u001B[39;00m e:\n",
      "File \u001B[1;32mC:\\ProgramData\\Anaconda3\\envs\\cda_python\\lib\\site-packages\\holoviews\\ipython\\archive.py:10\u001B[0m\n\u001B[0;32m      8\u001B[0m \u001B[38;5;28;01mfrom\u001B[39;00m \u001B[38;5;21;01mIPython\u001B[39;00m \u001B[38;5;28;01mimport\u001B[39;00m version_info\n\u001B[0;32m      9\u001B[0m \u001B[38;5;28;01mfrom\u001B[39;00m \u001B[38;5;21;01mIPython\u001B[39;00m\u001B[38;5;21;01m.\u001B[39;00m\u001B[38;5;21;01mdisplay\u001B[39;00m \u001B[38;5;28;01mimport\u001B[39;00m Javascript, display\n\u001B[1;32m---> 10\u001B[0m \u001B[38;5;28;01mfrom\u001B[39;00m \u001B[38;5;21;01m.\u001B[39;00m\u001B[38;5;21;01mpreprocessors\u001B[39;00m \u001B[38;5;28;01mimport\u001B[39;00m Substitute\n\u001B[0;32m     12\u001B[0m \u001B[38;5;66;03m# Import appropriate nbconvert machinery\u001B[39;00m\n\u001B[0;32m     13\u001B[0m \u001B[38;5;28;01mif\u001B[39;00m version_info[\u001B[38;5;241m0\u001B[39m] \u001B[38;5;241m>\u001B[39m\u001B[38;5;241m=\u001B[39m \u001B[38;5;241m4\u001B[39m:\n\u001B[0;32m     14\u001B[0m     \u001B[38;5;66;03m# Jupyter/IPython >=4.0\u001B[39;00m\n",
      "File \u001B[1;32mC:\\ProgramData\\Anaconda3\\envs\\cda_python\\lib\\site-packages\\holoviews\\ipython\\preprocessors.py:7\u001B[0m\n\u001B[0;32m      1\u001B[0m \u001B[38;5;124;03m\"\"\"\u001B[39;00m\n\u001B[0;32m      2\u001B[0m \u001B[38;5;124;03mPrototype demo:\u001B[39;00m\n\u001B[0;32m      3\u001B[0m \n\u001B[0;32m      4\u001B[0m \u001B[38;5;124;03mpython holoviews/ipython/convert.py Conversion_Example.ipynb | python\u001B[39;00m\n\u001B[0;32m      5\u001B[0m \u001B[38;5;124;03m\"\"\"\u001B[39;00m\n\u001B[0;32m      6\u001B[0m \u001B[38;5;28;01mimport\u001B[39;00m \u001B[38;5;21;01mast\u001B[39;00m\n\u001B[1;32m----> 7\u001B[0m \u001B[38;5;28;01mfrom\u001B[39;00m \u001B[38;5;21;01mnbconvert\u001B[39;00m\u001B[38;5;21;01m.\u001B[39;00m\u001B[38;5;21;01mpreprocessors\u001B[39;00m \u001B[38;5;28;01mimport\u001B[39;00m Preprocessor\n\u001B[0;32m     10\u001B[0m \u001B[38;5;28;01mdef\u001B[39;00m \u001B[38;5;21mcomment_out_magics\u001B[39m(source):\n\u001B[0;32m     11\u001B[0m     \u001B[38;5;124;03m\"\"\"\u001B[39;00m\n\u001B[0;32m     12\u001B[0m \u001B[38;5;124;03m    Utility used to make sure AST parser does not choke on unrecognized\u001B[39;00m\n\u001B[0;32m     13\u001B[0m \u001B[38;5;124;03m    magics.\u001B[39;00m\n\u001B[0;32m     14\u001B[0m \u001B[38;5;124;03m    \"\"\"\u001B[39;00m\n",
      "File \u001B[1;32mC:\\ProgramData\\Anaconda3\\envs\\cda_python\\lib\\site-packages\\nbconvert\\__init__.py:3\u001B[0m\n\u001B[0;32m      1\u001B[0m \u001B[38;5;124;03m\"\"\"Utilities for converting notebooks to and from different formats.\"\"\"\u001B[39;00m\n\u001B[1;32m----> 3\u001B[0m \u001B[38;5;28;01mfrom\u001B[39;00m \u001B[38;5;21;01m.\u001B[39;00m \u001B[38;5;28;01mimport\u001B[39;00m filters, postprocessors, preprocessors, writers\n\u001B[0;32m      4\u001B[0m \u001B[38;5;28;01mfrom\u001B[39;00m \u001B[38;5;21;01m.\u001B[39;00m\u001B[38;5;21;01m_version\u001B[39;00m \u001B[38;5;28;01mimport\u001B[39;00m __version__, version_info  \u001B[38;5;66;03m# noqa\u001B[39;00m\n\u001B[0;32m      5\u001B[0m \u001B[38;5;28;01mfrom\u001B[39;00m \u001B[38;5;21;01m.\u001B[39;00m\u001B[38;5;21;01mexporters\u001B[39;00m \u001B[38;5;28;01mimport\u001B[39;00m \u001B[38;5;241m*\u001B[39m\n",
      "File \u001B[1;32mC:\\ProgramData\\Anaconda3\\envs\\cda_python\\lib\\site-packages\\nbconvert\\filters\\__init__.py:8\u001B[0m\n\u001B[0;32m      6\u001B[0m \u001B[38;5;28;01mfrom\u001B[39;00m \u001B[38;5;21;01m.\u001B[39;00m\u001B[38;5;21;01mhighlight\u001B[39;00m \u001B[38;5;28;01mimport\u001B[39;00m \u001B[38;5;241m*\u001B[39m\n\u001B[0;32m      7\u001B[0m \u001B[38;5;28;01mfrom\u001B[39;00m \u001B[38;5;21;01m.\u001B[39;00m\u001B[38;5;21;01mlatex\u001B[39;00m \u001B[38;5;28;01mimport\u001B[39;00m \u001B[38;5;241m*\u001B[39m\n\u001B[1;32m----> 8\u001B[0m \u001B[38;5;28;01mfrom\u001B[39;00m \u001B[38;5;21;01m.\u001B[39;00m\u001B[38;5;21;01mmarkdown\u001B[39;00m \u001B[38;5;28;01mimport\u001B[39;00m \u001B[38;5;241m*\u001B[39m\n\u001B[0;32m      9\u001B[0m \u001B[38;5;28;01mfrom\u001B[39;00m \u001B[38;5;21;01m.\u001B[39;00m\u001B[38;5;21;01mmetadata\u001B[39;00m \u001B[38;5;28;01mimport\u001B[39;00m \u001B[38;5;241m*\u001B[39m\n\u001B[0;32m     10\u001B[0m \u001B[38;5;28;01mfrom\u001B[39;00m \u001B[38;5;21;01m.\u001B[39;00m\u001B[38;5;21;01mpandoc\u001B[39;00m \u001B[38;5;28;01mimport\u001B[39;00m \u001B[38;5;241m*\u001B[39m\n",
      "File \u001B[1;32mC:\\ProgramData\\Anaconda3\\envs\\cda_python\\lib\\site-packages\\nbconvert\\filters\\markdown.py:13\u001B[0m\n\u001B[0;32m     10\u001B[0m \u001B[38;5;28;01mimport\u001B[39;00m \u001B[38;5;21;01mre\u001B[39;00m\n\u001B[0;32m     12\u001B[0m \u001B[38;5;28;01mtry\u001B[39;00m:\n\u001B[1;32m---> 13\u001B[0m     \u001B[38;5;28;01mfrom\u001B[39;00m \u001B[38;5;21;01m.\u001B[39;00m\u001B[38;5;21;01mmarkdown_mistune\u001B[39;00m \u001B[38;5;28;01mimport\u001B[39;00m markdown2html_mistune\n\u001B[0;32m     14\u001B[0m \u001B[38;5;28;01mexcept\u001B[39;00m \u001B[38;5;167;01mImportError\u001B[39;00m \u001B[38;5;28;01mas\u001B[39;00m e:\n\u001B[0;32m     15\u001B[0m     \u001B[38;5;66;03m# store in variable for Python 3\u001B[39;00m\n\u001B[0;32m     16\u001B[0m     _mistune_import_error \u001B[38;5;241m=\u001B[39m e\n",
      "File \u001B[1;32mC:\\ProgramData\\Anaconda3\\envs\\cda_python\\lib\\site-packages\\nbconvert\\filters\\markdown_mistune.py:37\u001B[0m\n\u001B[0;32m     33\u001B[0m \u001B[38;5;28;01mclass\u001B[39;00m \u001B[38;5;21;01mInvalidNotebook\u001B[39;00m(\u001B[38;5;167;01mException\u001B[39;00m):\n\u001B[0;32m     34\u001B[0m     \u001B[38;5;28;01mpass\u001B[39;00m\n\u001B[1;32m---> 37\u001B[0m \u001B[38;5;28;01mclass\u001B[39;00m \u001B[38;5;21;01mMathBlockGrammar\u001B[39;00m(\u001B[43mmistune\u001B[49m\u001B[38;5;241;43m.\u001B[39;49m\u001B[43mBlockGrammar\u001B[49m):\n\u001B[0;32m     38\u001B[0m     \u001B[38;5;124;03m\"\"\"This defines a single regex comprised of the different patterns that\u001B[39;00m\n\u001B[0;32m     39\u001B[0m \u001B[38;5;124;03m    identify math content spanning multiple lines. These are used by the\u001B[39;00m\n\u001B[0;32m     40\u001B[0m \u001B[38;5;124;03m    MathBlockLexer.\u001B[39;00m\n\u001B[0;32m     41\u001B[0m \u001B[38;5;124;03m    \"\"\"\u001B[39;00m\n\u001B[0;32m     43\u001B[0m     multi_math_str \u001B[38;5;241m=\u001B[39m \u001B[38;5;124m\"\u001B[39m\u001B[38;5;124m|\u001B[39m\u001B[38;5;124m\"\u001B[39m\u001B[38;5;241m.\u001B[39mjoin(\n\u001B[0;32m     44\u001B[0m         [\u001B[38;5;124mr\u001B[39m\u001B[38;5;124m\"\u001B[39m\u001B[38;5;124m^\u001B[39m\u001B[38;5;124m\\\u001B[39m\u001B[38;5;124m$\u001B[39m\u001B[38;5;124m\\\u001B[39m\u001B[38;5;124m$.*?\u001B[39m\u001B[38;5;124m\\\u001B[39m\u001B[38;5;124m$\u001B[39m\u001B[38;5;124m\\\u001B[39m\u001B[38;5;124m$\u001B[39m\u001B[38;5;124m\"\u001B[39m, \u001B[38;5;124mr\u001B[39m\u001B[38;5;124m\"\u001B[39m\u001B[38;5;124m^\u001B[39m\u001B[38;5;130;01m\\\\\u001B[39;00m\u001B[38;5;130;01m\\\\\u001B[39;00m\u001B[38;5;124m\\\u001B[39m\u001B[38;5;124m[.*?\u001B[39m\u001B[38;5;130;01m\\\\\u001B[39;00m\u001B[38;5;130;01m\\\\\u001B[39;00m\u001B[38;5;124m\\\u001B[39m\u001B[38;5;124m]\u001B[39m\u001B[38;5;124m\"\u001B[39m, \u001B[38;5;124mr\u001B[39m\u001B[38;5;124m\"\u001B[39m\u001B[38;5;124m^\u001B[39m\u001B[38;5;130;01m\\\\\u001B[39;00m\u001B[38;5;124mbegin\u001B[39m\u001B[38;5;124m\\\u001B[39m\u001B[38;5;124m{\u001B[39m\u001B[38;5;124m([a-z]*\u001B[39m\u001B[38;5;124m\\\u001B[39m\u001B[38;5;124m*?)\u001B[39m\u001B[38;5;124m\\\u001B[39m\u001B[38;5;124m}(.*?)\u001B[39m\u001B[38;5;130;01m\\\\\u001B[39;00m\u001B[38;5;124mend\u001B[39m\u001B[38;5;124m\\\u001B[39m\u001B[38;5;124m{\u001B[39m\u001B[38;5;124m\\\u001B[39m\u001B[38;5;124m1\u001B[39m\u001B[38;5;124m\\\u001B[39m\u001B[38;5;124m}\u001B[39m\u001B[38;5;124m\"\u001B[39m]\n\u001B[0;32m     45\u001B[0m     )\n",
      "\u001B[1;31mAttributeError\u001B[0m: module 'mistune' has no attribute 'BlockGrammar'"
     ]
    }
   ],
   "source": [
    "import pandas as pd\n",
    "from autoviz.AutoViz_Class import AutoViz_Class\n",
    "\n",
    "#EDA using Autoviz\n",
    "autoviz = AutoViz_Class().AutoViz(r\"C:\\Users\\fzh00\\Desktop\\文件\\python资料\\Python数据清洗基础\\data补充\\titanic_train.csv\")"
   ],
   "metadata": {
    "collapsed": false
   }
  },
  {
   "cell_type": "code",
   "execution_count": 2,
   "outputs": [
    {
     "name": "stderr",
     "output_type": "stream",
     "text": [
      "C:\\ProgramData\\Anaconda3\\envs\\cda_python\\lib\\site-packages\\sweetviz\\dataframe_report.py:74: FutureWarning: iteritems is deprecated and will be removed in a future version. Use .items instead.\n",
      "  all_source_names = [cur_name for cur_name, cur_series in source_df.iteritems()]\n",
      "C:\\ProgramData\\Anaconda3\\envs\\cda_python\\lib\\site-packages\\sweetviz\\dataframe_report.py:109: FutureWarning: iteritems is deprecated and will be removed in a future version. Use .items instead.\n",
      "  filtered_series_names_in_source = [cur_name for cur_name, cur_series in source_df.iteritems()\n"
     ]
    },
    {
     "data": {
      "text/plain": "                                             |          | [  0%]   00:00 -> (? left)",
      "application/vnd.jupyter.widget-view+json": {
       "version_major": 2,
       "version_minor": 0,
       "model_id": "c77cc821620a4e679f4f369a3eb4cd5f"
      }
     },
     "metadata": {},
     "output_type": "display_data"
    },
    {
     "name": "stderr",
     "output_type": "stream",
     "text": [
      "C:\\ProgramData\\Anaconda3\\envs\\cda_python\\lib\\site-packages\\sweetviz\\series_analyzer_numeric.py:25: FutureWarning: The 'mad' method is deprecated and will be removed in a future version. To compute the same result, you may do `(df - df.mean()).abs().mean()`.\n",
      "  stats[\"mad\"] = series.mad()\n",
      "C:\\ProgramData\\Anaconda3\\envs\\cda_python\\lib\\site-packages\\sweetviz\\series_analyzer_cat.py:28: FutureWarning: iteritems is deprecated and will be removed in a future version. Use .items instead.\n",
      "  for item in category_counts.iteritems():\n",
      "C:\\ProgramData\\Anaconda3\\envs\\cda_python\\lib\\site-packages\\sweetviz\\series_analyzer_cat.py:28: FutureWarning: iteritems is deprecated and will be removed in a future version. Use .items instead.\n",
      "  for item in category_counts.iteritems():\n",
      "C:\\ProgramData\\Anaconda3\\envs\\cda_python\\lib\\site-packages\\sweetviz\\series_analyzer_text.py:19: FutureWarning: iteritems is deprecated and will be removed in a future version. Use .items instead.\n",
      "  for item in to_process.source_counts[\"value_counts_without_nan\"].iteritems():\n",
      "C:\\ProgramData\\Anaconda3\\envs\\cda_python\\lib\\site-packages\\sweetviz\\series_analyzer_cat.py:28: FutureWarning: iteritems is deprecated and will be removed in a future version. Use .items instead.\n",
      "  for item in category_counts.iteritems():\n",
      "C:\\ProgramData\\Anaconda3\\envs\\cda_python\\lib\\site-packages\\sweetviz\\series_analyzer_numeric.py:25: FutureWarning: The 'mad' method is deprecated and will be removed in a future version. To compute the same result, you may do `(df - df.mean()).abs().mean()`.\n",
      "  stats[\"mad\"] = series.mad()\n",
      "C:\\ProgramData\\Anaconda3\\envs\\cda_python\\lib\\site-packages\\sweetviz\\series_analyzer_cat.py:28: FutureWarning: iteritems is deprecated and will be removed in a future version. Use .items instead.\n",
      "  for item in category_counts.iteritems():\n",
      "C:\\ProgramData\\Anaconda3\\envs\\cda_python\\lib\\site-packages\\sweetviz\\series_analyzer_cat.py:28: FutureWarning: iteritems is deprecated and will be removed in a future version. Use .items instead.\n",
      "  for item in category_counts.iteritems():\n",
      "C:\\ProgramData\\Anaconda3\\envs\\cda_python\\lib\\site-packages\\sweetviz\\series_analyzer_text.py:19: FutureWarning: iteritems is deprecated and will be removed in a future version. Use .items instead.\n",
      "  for item in to_process.source_counts[\"value_counts_without_nan\"].iteritems():\n",
      "C:\\ProgramData\\Anaconda3\\envs\\cda_python\\lib\\site-packages\\sweetviz\\series_analyzer_numeric.py:25: FutureWarning: The 'mad' method is deprecated and will be removed in a future version. To compute the same result, you may do `(df - df.mean()).abs().mean()`.\n",
      "  stats[\"mad\"] = series.mad()\n",
      "C:\\ProgramData\\Anaconda3\\envs\\cda_python\\lib\\site-packages\\sweetviz\\series_analyzer_text.py:19: FutureWarning: iteritems is deprecated and will be removed in a future version. Use .items instead.\n",
      "  for item in to_process.source_counts[\"value_counts_without_nan\"].iteritems():\n",
      "C:\\ProgramData\\Anaconda3\\envs\\cda_python\\lib\\site-packages\\sweetviz\\series_analyzer_cat.py:28: FutureWarning: iteritems is deprecated and will be removed in a future version. Use .items instead.\n",
      "  for item in category_counts.iteritems():\n"
     ]
    },
    {
     "name": "stdout",
     "output_type": "stream",
     "text": [
      "Report sweet_report.html was generated! NOTEBOOK/COLAB USERS: the web browser MAY not pop up, regardless, the report IS saved in your notebook/colab files.\n"
     ]
    }
   ],
   "source": [
    "import pandas as pd\n",
    "import sweetviz as sv\n",
    "\n",
    "#EDA using Autoviz\n",
    "sweet_report = sv.analyze(pd.read_csv(r\"C:\\Users\\fzh00\\Desktop\\文件\\python资料\\Python数据清洗基础\\data补充\\titanic_train.csv\"))\n",
    "\n",
    "#Saving results to HTML file\n",
    "sweet_report.show_html('sweet_report.html')"
   ],
   "metadata": {
    "collapsed": false
   }
  },
  {
   "cell_type": "code",
   "execution_count": 5,
   "outputs": [
    {
     "data": {
      "text/plain": "'C:\\\\ProgramData\\\\Anaconda3\\\\envs\\\\cda_python\\\\lib\\\\os.py'"
     },
     "execution_count": 5,
     "metadata": {},
     "output_type": "execute_result"
    }
   ],
   "source": [
    "import os\n",
    "os.__file__"
   ],
   "metadata": {
    "collapsed": false
   }
  }
 ],
 "metadata": {
  "kernelspec": {
   "display_name": "Python 3",
   "language": "python",
   "name": "python3"
  },
  "language_info": {
   "codemirror_mode": {
    "name": "ipython",
    "version": 2
   },
   "file_extension": ".py",
   "mimetype": "text/x-python",
   "name": "python",
   "nbconvert_exporter": "python",
   "pygments_lexer": "ipython2",
   "version": "2.7.6"
  }
 },
 "nbformat": 4,
 "nbformat_minor": 0
}
