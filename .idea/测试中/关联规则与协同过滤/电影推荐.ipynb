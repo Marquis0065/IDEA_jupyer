{
 "cells": [
  {
   "cell_type": "code",
   "execution_count": 17,
   "outputs": [
    {
     "data": {
      "text/plain": "                                   相关系数  评分次数\n名称                                           \n百万（2004）                           -1.0     4\n伍兹曼，（2004）                         -1.0     3\n血：最后的吸血鬼（2000）                     -1.0     2\n伟大的Yokai战争，（Y么kai daisens么）（2005）  -1.0     2\n太多厨师（2014年）                        -1.0     2",
      "text/html": "<div>\n<style scoped>\n    .dataframe tbody tr th:only-of-type {\n        vertical-align: middle;\n    }\n\n    .dataframe tbody tr th {\n        vertical-align: top;\n    }\n\n    .dataframe thead th {\n        text-align: right;\n    }\n</style>\n<table border=\"1\" class=\"dataframe\">\n  <thead>\n    <tr style=\"text-align: right;\">\n      <th></th>\n      <th>相关系数</th>\n      <th>评分次数</th>\n    </tr>\n    <tr>\n      <th>名称</th>\n      <th></th>\n      <th></th>\n    </tr>\n  </thead>\n  <tbody>\n    <tr>\n      <th>百万（2004）</th>\n      <td>-1.0</td>\n      <td>4</td>\n    </tr>\n    <tr>\n      <th>伍兹曼，（2004）</th>\n      <td>-1.0</td>\n      <td>3</td>\n    </tr>\n    <tr>\n      <th>血：最后的吸血鬼（2000）</th>\n      <td>-1.0</td>\n      <td>2</td>\n    </tr>\n    <tr>\n      <th>伟大的Yokai战争，（Y么kai daisens么）（2005）</th>\n      <td>-1.0</td>\n      <td>2</td>\n    </tr>\n    <tr>\n      <th>太多厨师（2014年）</th>\n      <td>-1.0</td>\n      <td>2</td>\n    </tr>\n  </tbody>\n</table>\n</div>"
     },
     "execution_count": 17,
     "metadata": {},
     "output_type": "execute_result"
    }
   ],
   "source": [
    "similarity_new=pd.merge(similarity,ratings[\"评分次数\"],left_index=True,right_index=True)\n",
    "similarity_new.sort_values('相关系数')"
   ],
   "metadata": {
    "collapsed": false
   }
  },
  {
   "cell_type": "code",
   "execution_count": 15,
   "outputs": [
    {
     "data": {
      "text/plain": "                   相关系数\n名称                     \n007之黄金眼（1995）  0.217441\n101忠狗（1961）    0.141023\n102只斑点狗（2000） -0.857589\n10件或更少（2006）  -1.000000\n11:14（2003）    0.500000",
      "text/html": "<div>\n<style scoped>\n    .dataframe tbody tr th:only-of-type {\n        vertical-align: middle;\n    }\n\n    .dataframe tbody tr th {\n        vertical-align: top;\n    }\n\n    .dataframe thead th {\n        text-align: right;\n    }\n</style>\n<table border=\"1\" class=\"dataframe\">\n  <thead>\n    <tr style=\"text-align: right;\">\n      <th></th>\n      <th>相关系数</th>\n    </tr>\n    <tr>\n      <th>名称</th>\n      <th></th>\n    </tr>\n  </thead>\n  <tbody>\n    <tr>\n      <th>007之黄金眼（1995）</th>\n      <td>0.217441</td>\n    </tr>\n    <tr>\n      <th>101忠狗（1961）</th>\n      <td>0.141023</td>\n    </tr>\n    <tr>\n      <th>102只斑点狗（2000）</th>\n      <td>-0.857589</td>\n    </tr>\n    <tr>\n      <th>10件或更少（2006）</th>\n      <td>-1.000000</td>\n    </tr>\n    <tr>\n      <th>11:14（2003）</th>\n      <td>0.500000</td>\n    </tr>\n  </tbody>\n</table>\n</div>"
     },
     "execution_count": 15,
     "metadata": {},
     "output_type": "execute_result"
    }
   ],
   "source": [
    "similarity.dropna(inplace=True)\n",
    "similarity.head()"
   ],
   "metadata": {
    "collapsed": false
   }
  },
  {
   "cell_type": "code",
   "execution_count": 14,
   "outputs": [
    {
     "data": {
      "text/plain": "                         相关系数\n名称                           \n007之黄金眼（1995）        0.217441\n100个女孩（2000）              NaN\n100条街道（2016）              NaN\n101忠狗续集:伦敦大冒险（2003）       NaN\n101忠狗（1961）          0.141023",
      "text/html": "<div>\n<style scoped>\n    .dataframe tbody tr th:only-of-type {\n        vertical-align: middle;\n    }\n\n    .dataframe tbody tr th {\n        vertical-align: top;\n    }\n\n    .dataframe thead th {\n        text-align: right;\n    }\n</style>\n<table border=\"1\" class=\"dataframe\">\n  <thead>\n    <tr style=\"text-align: right;\">\n      <th></th>\n      <th>相关系数</th>\n    </tr>\n    <tr>\n      <th>名称</th>\n      <th></th>\n    </tr>\n  </thead>\n  <tbody>\n    <tr>\n      <th>007之黄金眼（1995）</th>\n      <td>0.217441</td>\n    </tr>\n    <tr>\n      <th>100个女孩（2000）</th>\n      <td>NaN</td>\n    </tr>\n    <tr>\n      <th>100条街道（2016）</th>\n      <td>NaN</td>\n    </tr>\n    <tr>\n      <th>101忠狗续集:伦敦大冒险（2003）</th>\n      <td>NaN</td>\n    </tr>\n    <tr>\n      <th>101忠狗（1961）</th>\n      <td>0.141023</td>\n    </tr>\n  </tbody>\n</table>\n</div>"
     },
     "execution_count": 14,
     "metadata": {},
     "output_type": "execute_result"
    }
   ],
   "source": [
    "corr_FG=user_movie.corrwith(FG)\n",
    "similarity=pd.DataFrame(corr_FG,columns=[\"相关系数\"])\n",
    "similarity.head()  # 打分一样的情况，标准差是零，求出来则是空值"
   ],
   "metadata": {
    "collapsed": false
   }
  },
  {
   "cell_type": "code",
   "execution_count": 13,
   "outputs": [
    {
     "data": {
      "text/plain": "用户编号\n1      4.0\n2      NaN\n3      NaN\n4      NaN\n5      NaN\n      ... \n606    4.0\n607    NaN\n608    3.0\n609    4.0\n610    3.0\nName: 阿甘正传（1994）, Length: 610, dtype: float64"
     },
     "execution_count": 13,
     "metadata": {},
     "output_type": "execute_result"
    }
   ],
   "source": [
    "# 智能推荐\n",
    "FG=user_movie['阿甘正传（1994）']\n",
    "FG"
   ],
   "metadata": {
    "collapsed": false
   }
  },
  {
   "cell_type": "code",
   "execution_count": 10,
   "outputs": [
    {
     "data": {
      "text/plain": "名称    007之黄金眼（1995）  100个女孩（2000）  100条街道（2016）  101忠狗续集:伦敦大冒险（2003）  \\\n用户编号                                                                   \n1               NaN           NaN           NaN                  NaN   \n2               NaN           NaN           NaN                  NaN   \n3               NaN           NaN           NaN                  NaN   \n4               NaN           NaN           NaN                  NaN   \n5               NaN           NaN           NaN                  NaN   \n\n名称    101忠狗（1961）  101雷克雅未克（2000）  102只斑点狗（2000）  10件或更少（2006）  10（1979）  \\\n用户编号                                                                       \n1             NaN             NaN            NaN           NaN       NaN   \n2             NaN             NaN            NaN           NaN       NaN   \n3             NaN             NaN            NaN           NaN       NaN   \n4             NaN             NaN            NaN           NaN       NaN   \n5             NaN             NaN            NaN           NaN       NaN   \n\n名称    11:14（2003）  ...  龙珠：神秘冒险（1988）  龙珠：血红宝石的诅咒（1986）  龙珠：魔鬼城堡中的睡公主（1987）  \\\n用户编号               ...                                                        \n1             NaN  ...            NaN               NaN                 NaN   \n2             NaN  ...            NaN               NaN                 NaN   \n3             NaN  ...            NaN               NaN                 NaN   \n4             NaN  ...            NaN               NaN                 NaN   \n5             NaN  ...            NaN               NaN                 NaN   \n\n名称    龙种子（1944）  龙纹身的女孩（2011）  龙舌兰日出（1988）  龙虾（2015）  龙：夜之怒的礼物（2011）  \\\n用户编号                                                                   \n1           NaN           NaN          NaN       NaN             NaN   \n2           NaN           2.5          NaN       NaN             NaN   \n3           NaN           NaN          NaN       NaN             NaN   \n4           NaN           NaN          NaN       NaN             NaN   \n5           NaN           NaN          NaN       NaN             NaN   \n\n名称    龙：李小龙的故事（1993）  龟日记（1985）  \n用户编号                             \n1                NaN        NaN  \n2                NaN        NaN  \n3                NaN        NaN  \n4                NaN        NaN  \n5                NaN        NaN  \n\n[5 rows x 9687 columns]",
      "text/html": "<div>\n<style scoped>\n    .dataframe tbody tr th:only-of-type {\n        vertical-align: middle;\n    }\n\n    .dataframe tbody tr th {\n        vertical-align: top;\n    }\n\n    .dataframe thead th {\n        text-align: right;\n    }\n</style>\n<table border=\"1\" class=\"dataframe\">\n  <thead>\n    <tr style=\"text-align: right;\">\n      <th>名称</th>\n      <th>007之黄金眼（1995）</th>\n      <th>100个女孩（2000）</th>\n      <th>100条街道（2016）</th>\n      <th>101忠狗续集:伦敦大冒险（2003）</th>\n      <th>101忠狗（1961）</th>\n      <th>101雷克雅未克（2000）</th>\n      <th>102只斑点狗（2000）</th>\n      <th>10件或更少（2006）</th>\n      <th>10（1979）</th>\n      <th>11:14（2003）</th>\n      <th>...</th>\n      <th>龙珠：神秘冒险（1988）</th>\n      <th>龙珠：血红宝石的诅咒（1986）</th>\n      <th>龙珠：魔鬼城堡中的睡公主（1987）</th>\n      <th>龙种子（1944）</th>\n      <th>龙纹身的女孩（2011）</th>\n      <th>龙舌兰日出（1988）</th>\n      <th>龙虾（2015）</th>\n      <th>龙：夜之怒的礼物（2011）</th>\n      <th>龙：李小龙的故事（1993）</th>\n      <th>龟日记（1985）</th>\n    </tr>\n    <tr>\n      <th>用户编号</th>\n      <th></th>\n      <th></th>\n      <th></th>\n      <th></th>\n      <th></th>\n      <th></th>\n      <th></th>\n      <th></th>\n      <th></th>\n      <th></th>\n      <th></th>\n      <th></th>\n      <th></th>\n      <th></th>\n      <th></th>\n      <th></th>\n      <th></th>\n      <th></th>\n      <th></th>\n      <th></th>\n      <th></th>\n    </tr>\n  </thead>\n  <tbody>\n    <tr>\n      <th>1</th>\n      <td>NaN</td>\n      <td>NaN</td>\n      <td>NaN</td>\n      <td>NaN</td>\n      <td>NaN</td>\n      <td>NaN</td>\n      <td>NaN</td>\n      <td>NaN</td>\n      <td>NaN</td>\n      <td>NaN</td>\n      <td>...</td>\n      <td>NaN</td>\n      <td>NaN</td>\n      <td>NaN</td>\n      <td>NaN</td>\n      <td>NaN</td>\n      <td>NaN</td>\n      <td>NaN</td>\n      <td>NaN</td>\n      <td>NaN</td>\n      <td>NaN</td>\n    </tr>\n    <tr>\n      <th>2</th>\n      <td>NaN</td>\n      <td>NaN</td>\n      <td>NaN</td>\n      <td>NaN</td>\n      <td>NaN</td>\n      <td>NaN</td>\n      <td>NaN</td>\n      <td>NaN</td>\n      <td>NaN</td>\n      <td>NaN</td>\n      <td>...</td>\n      <td>NaN</td>\n      <td>NaN</td>\n      <td>NaN</td>\n      <td>NaN</td>\n      <td>2.5</td>\n      <td>NaN</td>\n      <td>NaN</td>\n      <td>NaN</td>\n      <td>NaN</td>\n      <td>NaN</td>\n    </tr>\n    <tr>\n      <th>3</th>\n      <td>NaN</td>\n      <td>NaN</td>\n      <td>NaN</td>\n      <td>NaN</td>\n      <td>NaN</td>\n      <td>NaN</td>\n      <td>NaN</td>\n      <td>NaN</td>\n      <td>NaN</td>\n      <td>NaN</td>\n      <td>...</td>\n      <td>NaN</td>\n      <td>NaN</td>\n      <td>NaN</td>\n      <td>NaN</td>\n      <td>NaN</td>\n      <td>NaN</td>\n      <td>NaN</td>\n      <td>NaN</td>\n      <td>NaN</td>\n      <td>NaN</td>\n    </tr>\n    <tr>\n      <th>4</th>\n      <td>NaN</td>\n      <td>NaN</td>\n      <td>NaN</td>\n      <td>NaN</td>\n      <td>NaN</td>\n      <td>NaN</td>\n      <td>NaN</td>\n      <td>NaN</td>\n      <td>NaN</td>\n      <td>NaN</td>\n      <td>...</td>\n      <td>NaN</td>\n      <td>NaN</td>\n      <td>NaN</td>\n      <td>NaN</td>\n      <td>NaN</td>\n      <td>NaN</td>\n      <td>NaN</td>\n      <td>NaN</td>\n      <td>NaN</td>\n      <td>NaN</td>\n    </tr>\n    <tr>\n      <th>5</th>\n      <td>NaN</td>\n      <td>NaN</td>\n      <td>NaN</td>\n      <td>NaN</td>\n      <td>NaN</td>\n      <td>NaN</td>\n      <td>NaN</td>\n      <td>NaN</td>\n      <td>NaN</td>\n      <td>NaN</td>\n      <td>...</td>\n      <td>NaN</td>\n      <td>NaN</td>\n      <td>NaN</td>\n      <td>NaN</td>\n      <td>NaN</td>\n      <td>NaN</td>\n      <td>NaN</td>\n      <td>NaN</td>\n      <td>NaN</td>\n      <td>NaN</td>\n    </tr>\n  </tbody>\n</table>\n<p>5 rows × 9687 columns</p>\n</div>"
     },
     "execution_count": 10,
     "metadata": {},
     "output_type": "execute_result"
    }
   ],
   "source": [
    "user_movie=df.pivot_table(index=\"用户编号\",columns=\"名称\",values=\"评分\")\n",
    "user_movie.head()"
   ],
   "metadata": {
    "collapsed": false
   }
  },
  {
   "cell_type": "code",
   "execution_count": null,
   "outputs": [],
   "source": [
    "# 电影评分结构\n",
    "user_movie=df.pivot_table(index=\"用户编号\",columns=\"名称\",values=\"评分\")\n",
    "user_movie.head()"
   ],
   "metadata": {
    "collapsed": false
   }
  },
  {
   "cell_type": "code",
   "execution_count": 9,
   "outputs": [
    {
     "data": {
      "text/plain": "                           评分  评分次数\n名称                                 \n007之黄金眼（1995）        3.496212   132\n100个女孩（2000）         3.250000     4\n100条街道（2016）         2.500000     1\n101忠狗续集:伦敦大冒险（2003）  2.500000     1\n101忠狗（1961）          3.431818    44",
      "text/html": "<div>\n<style scoped>\n    .dataframe tbody tr th:only-of-type {\n        vertical-align: middle;\n    }\n\n    .dataframe tbody tr th {\n        vertical-align: top;\n    }\n\n    .dataframe thead th {\n        text-align: right;\n    }\n</style>\n<table border=\"1\" class=\"dataframe\">\n  <thead>\n    <tr style=\"text-align: right;\">\n      <th></th>\n      <th>评分</th>\n      <th>评分次数</th>\n    </tr>\n    <tr>\n      <th>名称</th>\n      <th></th>\n      <th></th>\n    </tr>\n  </thead>\n  <tbody>\n    <tr>\n      <th>007之黄金眼（1995）</th>\n      <td>3.496212</td>\n      <td>132</td>\n    </tr>\n    <tr>\n      <th>100个女孩（2000）</th>\n      <td>3.250000</td>\n      <td>4</td>\n    </tr>\n    <tr>\n      <th>100条街道（2016）</th>\n      <td>2.500000</td>\n      <td>1</td>\n    </tr>\n    <tr>\n      <th>101忠狗续集:伦敦大冒险（2003）</th>\n      <td>2.500000</td>\n      <td>1</td>\n    </tr>\n    <tr>\n      <th>101忠狗（1961）</th>\n      <td>3.431818</td>\n      <td>44</td>\n    </tr>\n  </tbody>\n</table>\n</div>"
     },
     "execution_count": 9,
     "metadata": {},
     "output_type": "execute_result"
    }
   ],
   "source": [
    "ratings.head()"
   ],
   "metadata": {
    "collapsed": false
   }
  },
  {
   "cell_type": "code",
   "execution_count": 8,
   "outputs": [
    {
     "data": {
      "text/plain": "                    评分  评分次数\n名称                          \n阿甘正传（1994）    4.164134   329\n肖申克的救赎（1994）  4.429022   317\n低俗小说（1994）    4.197068   307\n沉默的羔羊（1991）   4.161290   279\n黑客帝国（1999）    4.192446   278",
      "text/html": "<div>\n<style scoped>\n    .dataframe tbody tr th:only-of-type {\n        vertical-align: middle;\n    }\n\n    .dataframe tbody tr th {\n        vertical-align: top;\n    }\n\n    .dataframe thead th {\n        text-align: right;\n    }\n</style>\n<table border=\"1\" class=\"dataframe\">\n  <thead>\n    <tr style=\"text-align: right;\">\n      <th></th>\n      <th>评分</th>\n      <th>评分次数</th>\n    </tr>\n    <tr>\n      <th>名称</th>\n      <th></th>\n      <th></th>\n    </tr>\n  </thead>\n  <tbody>\n    <tr>\n      <th>阿甘正传（1994）</th>\n      <td>4.164134</td>\n      <td>329</td>\n    </tr>\n    <tr>\n      <th>肖申克的救赎（1994）</th>\n      <td>4.429022</td>\n      <td>317</td>\n    </tr>\n    <tr>\n      <th>低俗小说（1994）</th>\n      <td>4.197068</td>\n      <td>307</td>\n    </tr>\n    <tr>\n      <th>沉默的羔羊（1991）</th>\n      <td>4.161290</td>\n      <td>279</td>\n    </tr>\n    <tr>\n      <th>黑客帝国（1999）</th>\n      <td>4.192446</td>\n      <td>278</td>\n    </tr>\n  </tbody>\n</table>\n</div>"
     },
     "execution_count": 8,
     "metadata": {},
     "output_type": "execute_result"
    }
   ],
   "source": [
    "# 计算评分次数的电影排名\n",
    "ratings[\"评分次数\"]=df.groupby(\"名称\")[\"评分\"].count()\n",
    "ratings.sort_values(\"评分次数\",ascending=False).head()"
   ],
   "metadata": {
    "collapsed": false
   }
  },
  {
   "cell_type": "code",
   "execution_count": 7,
   "outputs": [
    {
     "data": {
      "text/plain": "                          评分\n名称                          \n假小子（1997）                5.0\n福尔摩斯和华生医生历险记：讹诈之王（1980）  5.0\n机器人（2016）                5.0\n奥斯卡（1967）                5.0\n人类状况III（1961）            5.0\n...                      ...\n午夜编年史（2009年）             0.5\nBad Santa 2（2016）        0.5\n圣诞颂歌，A（1977）             0.5\n耶稣基督吸血鬼猎人（2001）          0.5\n乌鸦，：邪恶的祈祷（2005）          0.5\n\n[9687 rows x 1 columns]",
      "text/html": "<div>\n<style scoped>\n    .dataframe tbody tr th:only-of-type {\n        vertical-align: middle;\n    }\n\n    .dataframe tbody tr th {\n        vertical-align: top;\n    }\n\n    .dataframe thead th {\n        text-align: right;\n    }\n</style>\n<table border=\"1\" class=\"dataframe\">\n  <thead>\n    <tr style=\"text-align: right;\">\n      <th></th>\n      <th>评分</th>\n    </tr>\n    <tr>\n      <th>名称</th>\n      <th></th>\n    </tr>\n  </thead>\n  <tbody>\n    <tr>\n      <th>假小子（1997）</th>\n      <td>5.0</td>\n    </tr>\n    <tr>\n      <th>福尔摩斯和华生医生历险记：讹诈之王（1980）</th>\n      <td>5.0</td>\n    </tr>\n    <tr>\n      <th>机器人（2016）</th>\n      <td>5.0</td>\n    </tr>\n    <tr>\n      <th>奥斯卡（1967）</th>\n      <td>5.0</td>\n    </tr>\n    <tr>\n      <th>人类状况III（1961）</th>\n      <td>5.0</td>\n    </tr>\n    <tr>\n      <th>...</th>\n      <td>...</td>\n    </tr>\n    <tr>\n      <th>午夜编年史（2009年）</th>\n      <td>0.5</td>\n    </tr>\n    <tr>\n      <th>Bad Santa 2（2016）</th>\n      <td>0.5</td>\n    </tr>\n    <tr>\n      <th>圣诞颂歌，A（1977）</th>\n      <td>0.5</td>\n    </tr>\n    <tr>\n      <th>耶稣基督吸血鬼猎人（2001）</th>\n      <td>0.5</td>\n    </tr>\n    <tr>\n      <th>乌鸦，：邪恶的祈祷（2005）</th>\n      <td>0.5</td>\n    </tr>\n  </tbody>\n</table>\n<p>9687 rows × 1 columns</p>\n</div>"
     },
     "execution_count": 7,
     "metadata": {},
     "output_type": "execute_result"
    }
   ],
   "source": [
    "# 查看每个电影评分排名\n",
    "ratings=pd.DataFrame(df.groupby(\"名称\")[\"评分\"].mean())\n",
    "ratings.sort_values(\"评分\",ascending=False)"
   ],
   "metadata": {
    "collapsed": false
   }
  },
  {
   "cell_type": "code",
   "execution_count": 6,
   "outputs": [
    {
     "data": {
      "text/plain": "<AxesSubplot: >"
     },
     "execution_count": 6,
     "metadata": {},
     "output_type": "execute_result"
    },
    {
     "data": {
      "text/plain": "<Figure size 640x480 with 1 Axes>",
      "image/png": "[encoded data removed]"
     },
     "metadata": {},
     "output_type": "display_data"
    }
   ],
   "source": [
    "df['评分'].hist()"
   ],
   "metadata": {
    "collapsed": false
   }
  },
  {
   "cell_type": "code",
   "execution_count": 5,
   "outputs": [
    {
     "data": {
      "text/plain": "   电影编号           名称              类别  用户编号   评分\n0     1  玩具总动员（1995）  冒险|动画|儿童|喜剧|幻想     1  4.0\n1     1  玩具总动员（1995）  冒险|动画|儿童|喜剧|幻想     5  4.0\n2     1  玩具总动员（1995）  冒险|动画|儿童|喜剧|幻想     7  4.5\n3     1  玩具总动员（1995）  冒险|动画|儿童|喜剧|幻想    15  2.5\n4     1  玩具总动员（1995）  冒险|动画|儿童|喜剧|幻想    17  4.5",
      "text/html": "<div>\n<style scoped>\n    .dataframe tbody tr th:only-of-type {\n        vertical-align: middle;\n    }\n\n    .dataframe tbody tr th {\n        vertical-align: top;\n    }\n\n    .dataframe thead th {\n        text-align: right;\n    }\n</style>\n<table border=\"1\" class=\"dataframe\">\n  <thead>\n    <tr style=\"text-align: right;\">\n      <th></th>\n      <th>电影编号</th>\n      <th>名称</th>\n      <th>类别</th>\n      <th>用户编号</th>\n      <th>评分</th>\n    </tr>\n  </thead>\n  <tbody>\n    <tr>\n      <th>0</th>\n      <td>1</td>\n      <td>玩具总动员（1995）</td>\n      <td>冒险|动画|儿童|喜剧|幻想</td>\n      <td>1</td>\n      <td>4.0</td>\n    </tr>\n    <tr>\n      <th>1</th>\n      <td>1</td>\n      <td>玩具总动员（1995）</td>\n      <td>冒险|动画|儿童|喜剧|幻想</td>\n      <td>5</td>\n      <td>4.0</td>\n    </tr>\n    <tr>\n      <th>2</th>\n      <td>1</td>\n      <td>玩具总动员（1995）</td>\n      <td>冒险|动画|儿童|喜剧|幻想</td>\n      <td>7</td>\n      <td>4.5</td>\n    </tr>\n    <tr>\n      <th>3</th>\n      <td>1</td>\n      <td>玩具总动员（1995）</td>\n      <td>冒险|动画|儿童|喜剧|幻想</td>\n      <td>15</td>\n      <td>2.5</td>\n    </tr>\n    <tr>\n      <th>4</th>\n      <td>1</td>\n      <td>玩具总动员（1995）</td>\n      <td>冒险|动画|儿童|喜剧|幻想</td>\n      <td>17</td>\n      <td>4.5</td>\n    </tr>\n  </tbody>\n</table>\n</div>"
     },
     "execution_count": 5,
     "metadata": {},
     "output_type": "execute_result"
    }
   ],
   "source": [
    "df=pd.merge(movies,score,on=\"电影编号\")\n",
    "df.head()"
   ],
   "metadata": {
    "collapsed": false
   }
  },
  {
   "cell_type": "code",
   "execution_count": 4,
   "outputs": [
    {
     "data": {
      "text/plain": "   用户编号  电影编号   评分\n0     1     1  4.0\n1     1     3  4.0\n2     1     6  4.0\n3     1    47  5.0\n4     1    50  5.0",
      "text/html": "<div>\n<style scoped>\n    .dataframe tbody tr th:only-of-type {\n        vertical-align: middle;\n    }\n\n    .dataframe tbody tr th {\n        vertical-align: top;\n    }\n\n    .dataframe thead th {\n        text-align: right;\n    }\n</style>\n<table border=\"1\" class=\"dataframe\">\n  <thead>\n    <tr style=\"text-align: right;\">\n      <th></th>\n      <th>用户编号</th>\n      <th>电影编号</th>\n      <th>评分</th>\n    </tr>\n  </thead>\n  <tbody>\n    <tr>\n      <th>0</th>\n      <td>1</td>\n      <td>1</td>\n      <td>4.0</td>\n    </tr>\n    <tr>\n      <th>1</th>\n      <td>1</td>\n      <td>3</td>\n      <td>4.0</td>\n    </tr>\n    <tr>\n      <th>2</th>\n      <td>1</td>\n      <td>6</td>\n      <td>4.0</td>\n    </tr>\n    <tr>\n      <th>3</th>\n      <td>1</td>\n      <td>47</td>\n      <td>5.0</td>\n    </tr>\n    <tr>\n      <th>4</th>\n      <td>1</td>\n      <td>50</td>\n      <td>5.0</td>\n    </tr>\n  </tbody>\n</table>\n</div>"
     },
     "execution_count": 4,
     "metadata": {},
     "output_type": "execute_result"
    }
   ],
   "source": [
    "score=pd.read_excel(\"评分.xlsx\")\n",
    "score.head()"
   ],
   "metadata": {
    "collapsed": false
   }
  },
  {
   "cell_type": "code",
   "execution_count": 3,
   "outputs": [
    {
     "data": {
      "text/plain": "   电影编号            名称              类别\n0     1   玩具总动员（1995）  冒险|动画|儿童|喜剧|幻想\n1     2  勇敢者的游戏（1995）        冒险|儿童|幻想\n2     3  斗气老顽童2（1995）           喜剧|爱情\n3     4  待到梦醒时分（1995）        喜剧|剧情|爱情\n4     5   新娘之父2（1995）              喜剧",
      "text/html": "<div>\n<style scoped>\n    .dataframe tbody tr th:only-of-type {\n        vertical-align: middle;\n    }\n\n    .dataframe tbody tr th {\n        vertical-align: top;\n    }\n\n    .dataframe thead th {\n        text-align: right;\n    }\n</style>\n<table border=\"1\" class=\"dataframe\">\n  <thead>\n    <tr style=\"text-align: right;\">\n      <th></th>\n      <th>电影编号</th>\n      <th>名称</th>\n      <th>类别</th>\n    </tr>\n  </thead>\n  <tbody>\n    <tr>\n      <th>0</th>\n      <td>1</td>\n      <td>玩具总动员（1995）</td>\n      <td>冒险|动画|儿童|喜剧|幻想</td>\n    </tr>\n    <tr>\n      <th>1</th>\n      <td>2</td>\n      <td>勇敢者的游戏（1995）</td>\n      <td>冒险|儿童|幻想</td>\n    </tr>\n    <tr>\n      <th>2</th>\n      <td>3</td>\n      <td>斗气老顽童2（1995）</td>\n      <td>喜剧|爱情</td>\n    </tr>\n    <tr>\n      <th>3</th>\n      <td>4</td>\n      <td>待到梦醒时分（1995）</td>\n      <td>喜剧|剧情|爱情</td>\n    </tr>\n    <tr>\n      <th>4</th>\n      <td>5</td>\n      <td>新娘之父2（1995）</td>\n      <td>喜剧</td>\n    </tr>\n  </tbody>\n</table>\n</div>"
     },
     "execution_count": 3,
     "metadata": {},
     "output_type": "execute_result"
    }
   ],
   "source": [
    "movies=pd.read_excel(\"电影.xlsx\")\n",
    "movies.head()"
   ],
   "metadata": {
    "collapsed": false
   }
  },
  {
   "cell_type": "code",
   "execution_count": 12,
   "outputs": [],
   "source": [
    "import matplotlib.pyplot as plt\n",
    "plt.style.use('seaborn')\n",
    "#设置字体为黑色\n",
    "plt.rcParams['font.family']='SimHei'\n",
    "#显示符号\n",
    "plt.rcParams['axes.unicode_minus']= False"
   ],
   "metadata": {
    "collapsed": false
   }
  },
  {
   "cell_type": "code",
   "execution_count": 2,
   "outputs": [],
   "source": [
    "import numpy as np\n",
    "import pandas as pd\n",
    "import matplotlib.pylab as plt\n",
    "import warnings\n",
    "warnings.filterwarnings('ignore')\n",
    "import os\n",
    "os.chdir(r'C:\\Data\\Jupyter_file\\机器学习')"
   ],
   "metadata": {
    "collapsed": false
   }
  },
  {
   "cell_type": "code",
   "execution_count": null,
   "outputs": [],
   "source": [
    "from IPython.core.interactiveshell import InteractiveShell\n",
    "InteractiveShell.ast_node_interactivity = \"all\""
   ],
   "metadata": {
    "collapsed": false,
    "pycharm": {
     "is_executing": true
    }
   }
  }
 ],
 "metadata": {
  "kernelspec": {
   "display_name": "Python 3",
   "language": "python",
   "name": "python3"
  },
  "language_info": {
   "codemirror_mode": {
    "name": "ipython",
    "version": 2
   },
   "file_extension": ".py",
   "mimetype": "text/x-python",
   "name": "python",
   "nbconvert_exporter": "python",
   "pygments_lexer": "ipython2",
   "version": "2.7.6"
  }
 },
 "nbformat": 4,
 "nbformat_minor": 0
}
