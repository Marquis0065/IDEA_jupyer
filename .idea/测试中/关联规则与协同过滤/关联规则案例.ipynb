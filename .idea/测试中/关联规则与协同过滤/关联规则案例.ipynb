{
 "cells": [
  {
   "cell_type": "code",
   "execution_count": 28,
   "outputs": [
    {
     "data": {
      "text/plain": "                                          antecedents  \\\n0                         (ALARM CLOCK BAKELIKE PINK)   \n1                        (ALARM CLOCK BAKELIKE GREEN)   \n2                        (ALARM CLOCK BAKELIKE GREEN)   \n3                         (ALARM CLOCK BAKELIKE RED )   \n4                         (ALARM CLOCK BAKELIKE PINK)   \n5                         (ALARM CLOCK BAKELIKE RED )   \n6                               (SPACEBOY LUNCH BOX )   \n7                              (DOLLY GIRL LUNCH BOX)   \n8                    (PLASTERS IN TIN CIRCUS PARADE )   \n9                          (PLASTERS IN TIN SPACEBOY)   \n10                   (PLASTERS IN TIN CIRCUS PARADE )   \n11                 (PLASTERS IN TIN WOODLAND ANIMALS)   \n12                 (PLASTERS IN TIN WOODLAND ANIMALS)   \n13                         (PLASTERS IN TIN SPACEBOY)   \n14                      (SET/6 RED SPOTTY PAPER CUPS)   \n15              (SET/20 RED RETROSPOT PAPER NAPKINS )   \n16                    (SET/6 RED SPOTTY PAPER PLATES)   \n17              (SET/20 RED RETROSPOT PAPER NAPKINS )   \n18                    (SET/6 RED SPOTTY PAPER PLATES)   \n19                      (SET/6 RED SPOTTY PAPER CUPS)   \n20  (SET/6 RED SPOTTY PAPER PLATES, SET/6 RED SPOT...   \n21  (SET/20 RED RETROSPOT PAPER NAPKINS , SET/6 RE...   \n22  (SET/6 RED SPOTTY PAPER PLATES, SET/20 RED RET...   \n23                      (SET/6 RED SPOTTY PAPER CUPS)   \n24                    (SET/6 RED SPOTTY PAPER PLATES)   \n25              (SET/20 RED RETROSPOT PAPER NAPKINS )   \n\n                                          consequents  antecedent support  \\\n0                        (ALARM CLOCK BAKELIKE GREEN)            0.102041   \n1                         (ALARM CLOCK BAKELIKE PINK)            0.096939   \n2                         (ALARM CLOCK BAKELIKE RED )            0.096939   \n3                        (ALARM CLOCK BAKELIKE GREEN)            0.094388   \n4                         (ALARM CLOCK BAKELIKE RED )            0.102041   \n5                         (ALARM CLOCK BAKELIKE PINK)            0.094388   \n6                              (DOLLY GIRL LUNCH BOX)            0.125000   \n7                               (SPACEBOY LUNCH BOX )            0.099490   \n8                          (PLASTERS IN TIN SPACEBOY)            0.168367   \n9                    (PLASTERS IN TIN CIRCUS PARADE )            0.137755   \n10                 (PLASTERS IN TIN WOODLAND ANIMALS)            0.168367   \n11                   (PLASTERS IN TIN CIRCUS PARADE )            0.170918   \n12                         (PLASTERS IN TIN SPACEBOY)            0.170918   \n13                 (PLASTERS IN TIN WOODLAND ANIMALS)            0.137755   \n14              (SET/20 RED RETROSPOT PAPER NAPKINS )            0.137755   \n15                      (SET/6 RED SPOTTY PAPER CUPS)            0.132653   \n16              (SET/20 RED RETROSPOT PAPER NAPKINS )            0.127551   \n17                    (SET/6 RED SPOTTY PAPER PLATES)            0.132653   \n18                      (SET/6 RED SPOTTY PAPER CUPS)            0.127551   \n19                    (SET/6 RED SPOTTY PAPER PLATES)            0.137755   \n20              (SET/20 RED RETROSPOT PAPER NAPKINS )            0.122449   \n21                    (SET/6 RED SPOTTY PAPER PLATES)            0.102041   \n22                      (SET/6 RED SPOTTY PAPER CUPS)            0.102041   \n23  (SET/6 RED SPOTTY PAPER PLATES, SET/20 RED RET...            0.137755   \n24  (SET/20 RED RETROSPOT PAPER NAPKINS , SET/6 RE...            0.127551   \n25  (SET/6 RED SPOTTY PAPER PLATES, SET/6 RED SPOT...            0.132653   \n\n    consequent support   support  confidence      lift  leverage  conviction  \\\n0             0.096939  0.073980    0.725000  7.478947  0.064088    3.283859   \n1             0.102041  0.073980    0.763158  7.478947  0.064088    3.791383   \n2             0.094388  0.079082    0.815789  8.642959  0.069932    4.916181   \n3             0.096939  0.079082    0.837838  8.642959  0.069932    5.568878   \n4             0.094388  0.073980    0.725000  7.681081  0.064348    3.293135   \n5             0.102041  0.073980    0.783784  7.681081  0.064348    4.153061   \n6             0.099490  0.071429    0.571429  5.743590  0.058992    2.101190   \n7             0.125000  0.071429    0.717949  5.743590  0.058992    3.102273   \n8             0.137755  0.089286    0.530303  3.849607  0.066092    1.835747   \n9             0.168367  0.089286    0.648148  3.849607  0.066092    2.363588   \n10            0.170918  0.102041    0.606061  3.545907  0.073264    2.104592   \n11            0.168367  0.102041    0.597015  3.545907  0.073264    2.063681   \n12            0.137755  0.104592    0.611940  4.442233  0.081047    2.221939   \n13            0.170918  0.104592    0.759259  4.442233  0.081047    3.443878   \n14            0.132653  0.102041    0.740741  5.584046  0.083767    3.345481   \n15            0.137755  0.102041    0.769231  5.584046  0.083767    3.736395   \n16            0.132653  0.102041    0.800000  6.030769  0.085121    4.336735   \n17            0.127551  0.102041    0.769231  6.030769  0.085121    3.780612   \n18            0.137755  0.122449    0.960000  6.968889  0.104878   21.556122   \n19            0.127551  0.122449    0.888889  6.968889  0.104878    7.852041   \n20            0.132653  0.099490    0.812500  6.125000  0.083247    4.625850   \n21            0.127551  0.099490    0.975000  7.644000  0.086474   34.897959   \n22            0.137755  0.099490    0.975000  7.077778  0.085433   34.489796   \n23            0.102041  0.099490    0.722222  7.077778  0.085433    3.232653   \n24            0.102041  0.099490    0.780000  7.644000  0.086474    4.081633   \n25            0.122449  0.099490    0.750000  6.125000  0.083247    3.510204   \n\n    len_ant  len_con  \n0         1        1  \n1         1        1  \n2         1        1  \n3         1        1  \n4         1        1  \n5         1        1  \n6         1        1  \n7         1        1  \n8         1        1  \n9         1        1  \n10        1        1  \n11        1        1  \n12        1        1  \n13        1        1  \n14        1        1  \n15        1        1  \n16        1        1  \n17        1        1  \n18        1        1  \n19        1        1  \n20        2        1  \n21        2        1  \n22        2        1  \n23        1        2  \n24        1        2  \n25        1        2  ",
      "text/html": "<div>\n<style scoped>\n    .dataframe tbody tr th:only-of-type {\n        vertical-align: middle;\n    }\n\n    .dataframe tbody tr th {\n        vertical-align: top;\n    }\n\n    .dataframe thead th {\n        text-align: right;\n    }\n</style>\n<table border=\"1\" class=\"dataframe\">\n  <thead>\n    <tr style=\"text-align: right;\">\n      <th></th>\n      <th>antecedents</th>\n      <th>consequents</th>\n      <th>antecedent support</th>\n      <th>consequent support</th>\n      <th>support</th>\n      <th>confidence</th>\n      <th>lift</th>\n      <th>leverage</th>\n      <th>conviction</th>\n      <th>len_ant</th>\n      <th>len_con</th>\n    </tr>\n  </thead>\n  <tbody>\n    <tr>\n      <th>0</th>\n      <td>(ALARM CLOCK BAKELIKE PINK)</td>\n      <td>(ALARM CLOCK BAKELIKE GREEN)</td>\n      <td>0.102041</td>\n      <td>0.096939</td>\n      <td>0.073980</td>\n      <td>0.725000</td>\n      <td>7.478947</td>\n      <td>0.064088</td>\n      <td>3.283859</td>\n      <td>1</td>\n      <td>1</td>\n    </tr>\n    <tr>\n      <th>1</th>\n      <td>(ALARM CLOCK BAKELIKE GREEN)</td>\n      <td>(ALARM CLOCK BAKELIKE PINK)</td>\n      <td>0.096939</td>\n      <td>0.102041</td>\n      <td>0.073980</td>\n      <td>0.763158</td>\n      <td>7.478947</td>\n      <td>0.064088</td>\n      <td>3.791383</td>\n      <td>1</td>\n      <td>1</td>\n    </tr>\n    <tr>\n      <th>2</th>\n      <td>(ALARM CLOCK BAKELIKE GREEN)</td>\n      <td>(ALARM CLOCK BAKELIKE RED )</td>\n      <td>0.096939</td>\n      <td>0.094388</td>\n      <td>0.079082</td>\n      <td>0.815789</td>\n      <td>8.642959</td>\n      <td>0.069932</td>\n      <td>4.916181</td>\n      <td>1</td>\n      <td>1</td>\n    </tr>\n    <tr>\n      <th>3</th>\n      <td>(ALARM CLOCK BAKELIKE RED )</td>\n      <td>(ALARM CLOCK BAKELIKE GREEN)</td>\n      <td>0.094388</td>\n      <td>0.096939</td>\n      <td>0.079082</td>\n      <td>0.837838</td>\n      <td>8.642959</td>\n      <td>0.069932</td>\n      <td>5.568878</td>\n      <td>1</td>\n      <td>1</td>\n    </tr>\n    <tr>\n      <th>4</th>\n      <td>(ALARM CLOCK BAKELIKE PINK)</td>\n      <td>(ALARM CLOCK BAKELIKE RED )</td>\n      <td>0.102041</td>\n      <td>0.094388</td>\n      <td>0.073980</td>\n      <td>0.725000</td>\n      <td>7.681081</td>\n      <td>0.064348</td>\n      <td>3.293135</td>\n      <td>1</td>\n      <td>1</td>\n    </tr>\n    <tr>\n      <th>5</th>\n      <td>(ALARM CLOCK BAKELIKE RED )</td>\n      <td>(ALARM CLOCK BAKELIKE PINK)</td>\n      <td>0.094388</td>\n      <td>0.102041</td>\n      <td>0.073980</td>\n      <td>0.783784</td>\n      <td>7.681081</td>\n      <td>0.064348</td>\n      <td>4.153061</td>\n      <td>1</td>\n      <td>1</td>\n    </tr>\n    <tr>\n      <th>6</th>\n      <td>(SPACEBOY LUNCH BOX )</td>\n      <td>(DOLLY GIRL LUNCH BOX)</td>\n      <td>0.125000</td>\n      <td>0.099490</td>\n      <td>0.071429</td>\n      <td>0.571429</td>\n      <td>5.743590</td>\n      <td>0.058992</td>\n      <td>2.101190</td>\n      <td>1</td>\n      <td>1</td>\n    </tr>\n    <tr>\n      <th>7</th>\n      <td>(DOLLY GIRL LUNCH BOX)</td>\n      <td>(SPACEBOY LUNCH BOX )</td>\n      <td>0.099490</td>\n      <td>0.125000</td>\n      <td>0.071429</td>\n      <td>0.717949</td>\n      <td>5.743590</td>\n      <td>0.058992</td>\n      <td>3.102273</td>\n      <td>1</td>\n      <td>1</td>\n    </tr>\n    <tr>\n      <th>8</th>\n      <td>(PLASTERS IN TIN CIRCUS PARADE )</td>\n      <td>(PLASTERS IN TIN SPACEBOY)</td>\n      <td>0.168367</td>\n      <td>0.137755</td>\n      <td>0.089286</td>\n      <td>0.530303</td>\n      <td>3.849607</td>\n      <td>0.066092</td>\n      <td>1.835747</td>\n      <td>1</td>\n      <td>1</td>\n    </tr>\n    <tr>\n      <th>9</th>\n      <td>(PLASTERS IN TIN SPACEBOY)</td>\n      <td>(PLASTERS IN TIN CIRCUS PARADE )</td>\n      <td>0.137755</td>\n      <td>0.168367</td>\n      <td>0.089286</td>\n      <td>0.648148</td>\n      <td>3.849607</td>\n      <td>0.066092</td>\n      <td>2.363588</td>\n      <td>1</td>\n      <td>1</td>\n    </tr>\n    <tr>\n      <th>10</th>\n      <td>(PLASTERS IN TIN CIRCUS PARADE )</td>\n      <td>(PLASTERS IN TIN WOODLAND ANIMALS)</td>\n      <td>0.168367</td>\n      <td>0.170918</td>\n      <td>0.102041</td>\n      <td>0.606061</td>\n      <td>3.545907</td>\n      <td>0.073264</td>\n      <td>2.104592</td>\n      <td>1</td>\n      <td>1</td>\n    </tr>\n    <tr>\n      <th>11</th>\n      <td>(PLASTERS IN TIN WOODLAND ANIMALS)</td>\n      <td>(PLASTERS IN TIN CIRCUS PARADE )</td>\n      <td>0.170918</td>\n      <td>0.168367</td>\n      <td>0.102041</td>\n      <td>0.597015</td>\n      <td>3.545907</td>\n      <td>0.073264</td>\n      <td>2.063681</td>\n      <td>1</td>\n      <td>1</td>\n    </tr>\n    <tr>\n      <th>12</th>\n      <td>(PLASTERS IN TIN WOODLAND ANIMALS)</td>\n      <td>(PLASTERS IN TIN SPACEBOY)</td>\n      <td>0.170918</td>\n      <td>0.137755</td>\n      <td>0.104592</td>\n      <td>0.611940</td>\n      <td>4.442233</td>\n      <td>0.081047</td>\n      <td>2.221939</td>\n      <td>1</td>\n      <td>1</td>\n    </tr>\n    <tr>\n      <th>13</th>\n      <td>(PLASTERS IN TIN SPACEBOY)</td>\n      <td>(PLASTERS IN TIN WOODLAND ANIMALS)</td>\n      <td>0.137755</td>\n      <td>0.170918</td>\n      <td>0.104592</td>\n      <td>0.759259</td>\n      <td>4.442233</td>\n      <td>0.081047</td>\n      <td>3.443878</td>\n      <td>1</td>\n      <td>1</td>\n    </tr>\n    <tr>\n      <th>14</th>\n      <td>(SET/6 RED SPOTTY PAPER CUPS)</td>\n      <td>(SET/20 RED RETROSPOT PAPER NAPKINS )</td>\n      <td>0.137755</td>\n      <td>0.132653</td>\n      <td>0.102041</td>\n      <td>0.740741</td>\n      <td>5.584046</td>\n      <td>0.083767</td>\n      <td>3.345481</td>\n      <td>1</td>\n      <td>1</td>\n    </tr>\n    <tr>\n      <th>15</th>\n      <td>(SET/20 RED RETROSPOT PAPER NAPKINS )</td>\n      <td>(SET/6 RED SPOTTY PAPER CUPS)</td>\n      <td>0.132653</td>\n      <td>0.137755</td>\n      <td>0.102041</td>\n      <td>0.769231</td>\n      <td>5.584046</td>\n      <td>0.083767</td>\n      <td>3.736395</td>\n      <td>1</td>\n      <td>1</td>\n    </tr>\n    <tr>\n      <th>16</th>\n      <td>(SET/6 RED SPOTTY PAPER PLATES)</td>\n      <td>(SET/20 RED RETROSPOT PAPER NAPKINS )</td>\n      <td>0.127551</td>\n      <td>0.132653</td>\n      <td>0.102041</td>\n      <td>0.800000</td>\n      <td>6.030769</td>\n      <td>0.085121</td>\n      <td>4.336735</td>\n      <td>1</td>\n      <td>1</td>\n    </tr>\n    <tr>\n      <th>17</th>\n      <td>(SET/20 RED RETROSPOT PAPER NAPKINS )</td>\n      <td>(SET/6 RED SPOTTY PAPER PLATES)</td>\n      <td>0.132653</td>\n      <td>0.127551</td>\n      <td>0.102041</td>\n      <td>0.769231</td>\n      <td>6.030769</td>\n      <td>0.085121</td>\n      <td>3.780612</td>\n      <td>1</td>\n      <td>1</td>\n    </tr>\n    <tr>\n      <th>18</th>\n      <td>(SET/6 RED SPOTTY PAPER PLATES)</td>\n      <td>(SET/6 RED SPOTTY PAPER CUPS)</td>\n      <td>0.127551</td>\n      <td>0.137755</td>\n      <td>0.122449</td>\n      <td>0.960000</td>\n      <td>6.968889</td>\n      <td>0.104878</td>\n      <td>21.556122</td>\n      <td>1</td>\n      <td>1</td>\n    </tr>\n    <tr>\n      <th>19</th>\n      <td>(SET/6 RED SPOTTY PAPER CUPS)</td>\n      <td>(SET/6 RED SPOTTY PAPER PLATES)</td>\n      <td>0.137755</td>\n      <td>0.127551</td>\n      <td>0.122449</td>\n      <td>0.888889</td>\n      <td>6.968889</td>\n      <td>0.104878</td>\n      <td>7.852041</td>\n      <td>1</td>\n      <td>1</td>\n    </tr>\n    <tr>\n      <th>20</th>\n      <td>(SET/6 RED SPOTTY PAPER PLATES, SET/6 RED SPOT...</td>\n      <td>(SET/20 RED RETROSPOT PAPER NAPKINS )</td>\n      <td>0.122449</td>\n      <td>0.132653</td>\n      <td>0.099490</td>\n      <td>0.812500</td>\n      <td>6.125000</td>\n      <td>0.083247</td>\n      <td>4.625850</td>\n      <td>2</td>\n      <td>1</td>\n    </tr>\n    <tr>\n      <th>21</th>\n      <td>(SET/20 RED RETROSPOT PAPER NAPKINS , SET/6 RE...</td>\n      <td>(SET/6 RED SPOTTY PAPER PLATES)</td>\n      <td>0.102041</td>\n      <td>0.127551</td>\n      <td>0.099490</td>\n      <td>0.975000</td>\n      <td>7.644000</td>\n      <td>0.086474</td>\n      <td>34.897959</td>\n      <td>2</td>\n      <td>1</td>\n    </tr>\n    <tr>\n      <th>22</th>\n      <td>(SET/6 RED SPOTTY PAPER PLATES, SET/20 RED RET...</td>\n      <td>(SET/6 RED SPOTTY PAPER CUPS)</td>\n      <td>0.102041</td>\n      <td>0.137755</td>\n      <td>0.099490</td>\n      <td>0.975000</td>\n      <td>7.077778</td>\n      <td>0.085433</td>\n      <td>34.489796</td>\n      <td>2</td>\n      <td>1</td>\n    </tr>\n    <tr>\n      <th>23</th>\n      <td>(SET/6 RED SPOTTY PAPER CUPS)</td>\n      <td>(SET/6 RED SPOTTY PAPER PLATES, SET/20 RED RET...</td>\n      <td>0.137755</td>\n      <td>0.102041</td>\n      <td>0.099490</td>\n      <td>0.722222</td>\n      <td>7.077778</td>\n      <td>0.085433</td>\n      <td>3.232653</td>\n      <td>1</td>\n      <td>2</td>\n    </tr>\n    <tr>\n      <th>24</th>\n      <td>(SET/6 RED SPOTTY PAPER PLATES)</td>\n      <td>(SET/20 RED RETROSPOT PAPER NAPKINS , SET/6 RE...</td>\n      <td>0.127551</td>\n      <td>0.102041</td>\n      <td>0.099490</td>\n      <td>0.780000</td>\n      <td>7.644000</td>\n      <td>0.086474</td>\n      <td>4.081633</td>\n      <td>1</td>\n      <td>2</td>\n    </tr>\n    <tr>\n      <th>25</th>\n      <td>(SET/20 RED RETROSPOT PAPER NAPKINS )</td>\n      <td>(SET/6 RED SPOTTY PAPER PLATES, SET/6 RED SPOT...</td>\n      <td>0.132653</td>\n      <td>0.122449</td>\n      <td>0.099490</td>\n      <td>0.750000</td>\n      <td>6.125000</td>\n      <td>0.083247</td>\n      <td>3.510204</td>\n      <td>1</td>\n      <td>2</td>\n    </tr>\n  </tbody>\n</table>\n</div>"
     },
     "execution_count": 28,
     "metadata": {},
     "output_type": "execute_result"
    }
   ],
   "source": [
    "reles['len_ant'] = reles['antecedents'].map(lambda x:len(x))\n",
    "reles['len_con'] = reles['consequents'].map(lambda x:len(x))\n",
    "reles"
   ],
   "metadata": {
    "collapsed": false
   }
  },
  {
   "cell_type": "code",
   "execution_count": 27,
   "outputs": [
    {
     "data": {
      "text/plain": "                                          antecedents  \\\n2                        (ALARM CLOCK BAKELIKE GREEN)   \n3                         (ALARM CLOCK BAKELIKE RED )   \n16                    (SET/6 RED SPOTTY PAPER PLATES)   \n18                    (SET/6 RED SPOTTY PAPER PLATES)   \n19                      (SET/6 RED SPOTTY PAPER CUPS)   \n20  (SET/6 RED SPOTTY PAPER PLATES, SET/6 RED SPOT...   \n21  (SET/20 RED RETROSPOT PAPER NAPKINS , SET/6 RE...   \n22  (SET/6 RED SPOTTY PAPER PLATES, SET/20 RED RET...   \n\n                              consequents  antecedent support  \\\n2             (ALARM CLOCK BAKELIKE RED )            0.096939   \n3            (ALARM CLOCK BAKELIKE GREEN)            0.094388   \n16  (SET/20 RED RETROSPOT PAPER NAPKINS )            0.127551   \n18          (SET/6 RED SPOTTY PAPER CUPS)            0.127551   \n19        (SET/6 RED SPOTTY PAPER PLATES)            0.137755   \n20  (SET/20 RED RETROSPOT PAPER NAPKINS )            0.122449   \n21        (SET/6 RED SPOTTY PAPER PLATES)            0.102041   \n22          (SET/6 RED SPOTTY PAPER CUPS)            0.102041   \n\n    consequent support   support  confidence      lift  leverage  conviction  \n2             0.094388  0.079082    0.815789  8.642959  0.069932    4.916181  \n3             0.096939  0.079082    0.837838  8.642959  0.069932    5.568878  \n16            0.132653  0.102041    0.800000  6.030769  0.085121    4.336735  \n18            0.137755  0.122449    0.960000  6.968889  0.104878   21.556122  \n19            0.127551  0.122449    0.888889  6.968889  0.104878    7.852041  \n20            0.132653  0.099490    0.812500  6.125000  0.083247    4.625850  \n21            0.127551  0.099490    0.975000  7.644000  0.086474   34.897959  \n22            0.137755  0.099490    0.975000  7.077778  0.085433   34.489796  ",
      "text/html": "<div>\n<style scoped>\n    .dataframe tbody tr th:only-of-type {\n        vertical-align: middle;\n    }\n\n    .dataframe tbody tr th {\n        vertical-align: top;\n    }\n\n    .dataframe thead th {\n        text-align: right;\n    }\n</style>\n<table border=\"1\" class=\"dataframe\">\n  <thead>\n    <tr style=\"text-align: right;\">\n      <th></th>\n      <th>antecedents</th>\n      <th>consequents</th>\n      <th>antecedent support</th>\n      <th>consequent support</th>\n      <th>support</th>\n      <th>confidence</th>\n      <th>lift</th>\n      <th>leverage</th>\n      <th>conviction</th>\n    </tr>\n  </thead>\n  <tbody>\n    <tr>\n      <th>2</th>\n      <td>(ALARM CLOCK BAKELIKE GREEN)</td>\n      <td>(ALARM CLOCK BAKELIKE RED )</td>\n      <td>0.096939</td>\n      <td>0.094388</td>\n      <td>0.079082</td>\n      <td>0.815789</td>\n      <td>8.642959</td>\n      <td>0.069932</td>\n      <td>4.916181</td>\n    </tr>\n    <tr>\n      <th>3</th>\n      <td>(ALARM CLOCK BAKELIKE RED )</td>\n      <td>(ALARM CLOCK BAKELIKE GREEN)</td>\n      <td>0.094388</td>\n      <td>0.096939</td>\n      <td>0.079082</td>\n      <td>0.837838</td>\n      <td>8.642959</td>\n      <td>0.069932</td>\n      <td>5.568878</td>\n    </tr>\n    <tr>\n      <th>16</th>\n      <td>(SET/6 RED SPOTTY PAPER PLATES)</td>\n      <td>(SET/20 RED RETROSPOT PAPER NAPKINS )</td>\n      <td>0.127551</td>\n      <td>0.132653</td>\n      <td>0.102041</td>\n      <td>0.800000</td>\n      <td>6.030769</td>\n      <td>0.085121</td>\n      <td>4.336735</td>\n    </tr>\n    <tr>\n      <th>18</th>\n      <td>(SET/6 RED SPOTTY PAPER PLATES)</td>\n      <td>(SET/6 RED SPOTTY PAPER CUPS)</td>\n      <td>0.127551</td>\n      <td>0.137755</td>\n      <td>0.122449</td>\n      <td>0.960000</td>\n      <td>6.968889</td>\n      <td>0.104878</td>\n      <td>21.556122</td>\n    </tr>\n    <tr>\n      <th>19</th>\n      <td>(SET/6 RED SPOTTY PAPER CUPS)</td>\n      <td>(SET/6 RED SPOTTY PAPER PLATES)</td>\n      <td>0.137755</td>\n      <td>0.127551</td>\n      <td>0.122449</td>\n      <td>0.888889</td>\n      <td>6.968889</td>\n      <td>0.104878</td>\n      <td>7.852041</td>\n    </tr>\n    <tr>\n      <th>20</th>\n      <td>(SET/6 RED SPOTTY PAPER PLATES, SET/6 RED SPOT...</td>\n      <td>(SET/20 RED RETROSPOT PAPER NAPKINS )</td>\n      <td>0.122449</td>\n      <td>0.132653</td>\n      <td>0.099490</td>\n      <td>0.812500</td>\n      <td>6.125000</td>\n      <td>0.083247</td>\n      <td>4.625850</td>\n    </tr>\n    <tr>\n      <th>21</th>\n      <td>(SET/20 RED RETROSPOT PAPER NAPKINS , SET/6 RE...</td>\n      <td>(SET/6 RED SPOTTY PAPER PLATES)</td>\n      <td>0.102041</td>\n      <td>0.127551</td>\n      <td>0.099490</td>\n      <td>0.975000</td>\n      <td>7.644000</td>\n      <td>0.086474</td>\n      <td>34.897959</td>\n    </tr>\n    <tr>\n      <th>22</th>\n      <td>(SET/6 RED SPOTTY PAPER PLATES, SET/20 RED RET...</td>\n      <td>(SET/6 RED SPOTTY PAPER CUPS)</td>\n      <td>0.102041</td>\n      <td>0.137755</td>\n      <td>0.099490</td>\n      <td>0.975000</td>\n      <td>7.077778</td>\n      <td>0.085433</td>\n      <td>34.489796</td>\n    </tr>\n  </tbody>\n</table>\n</div>"
     },
     "execution_count": 27,
     "metadata": {},
     "output_type": "execute_result"
    }
   ],
   "source": [
    "# 筛选规则\n",
    "reles[(reles['lift']>=6)&(reles['confidence']>=0.8)]"
   ],
   "metadata": {
    "collapsed": false
   }
  },
  {
   "cell_type": "code",
   "execution_count": 24,
   "outputs": [
    {
     "data": {
      "text/plain": "                                          antecedents  \\\n0                         (ALARM CLOCK BAKELIKE PINK)   \n1                        (ALARM CLOCK BAKELIKE GREEN)   \n2                        (ALARM CLOCK BAKELIKE GREEN)   \n3                         (ALARM CLOCK BAKELIKE RED )   \n4                         (ALARM CLOCK BAKELIKE PINK)   \n5                         (ALARM CLOCK BAKELIKE RED )   \n6                               (SPACEBOY LUNCH BOX )   \n7                              (DOLLY GIRL LUNCH BOX)   \n8                    (PLASTERS IN TIN CIRCUS PARADE )   \n9                          (PLASTERS IN TIN SPACEBOY)   \n10                   (PLASTERS IN TIN CIRCUS PARADE )   \n11                 (PLASTERS IN TIN WOODLAND ANIMALS)   \n12                 (PLASTERS IN TIN WOODLAND ANIMALS)   \n13                         (PLASTERS IN TIN SPACEBOY)   \n14                      (SET/6 RED SPOTTY PAPER CUPS)   \n15              (SET/20 RED RETROSPOT PAPER NAPKINS )   \n16                    (SET/6 RED SPOTTY PAPER PLATES)   \n17              (SET/20 RED RETROSPOT PAPER NAPKINS )   \n18                    (SET/6 RED SPOTTY PAPER PLATES)   \n19                      (SET/6 RED SPOTTY PAPER CUPS)   \n20  (SET/6 RED SPOTTY PAPER PLATES, SET/6 RED SPOT...   \n21  (SET/20 RED RETROSPOT PAPER NAPKINS , SET/6 RE...   \n22  (SET/6 RED SPOTTY PAPER PLATES, SET/20 RED RET...   \n23                      (SET/6 RED SPOTTY PAPER CUPS)   \n24                    (SET/6 RED SPOTTY PAPER PLATES)   \n25              (SET/20 RED RETROSPOT PAPER NAPKINS )   \n\n                                          consequents  antecedent support  \\\n0                        (ALARM CLOCK BAKELIKE GREEN)            0.102041   \n1                         (ALARM CLOCK BAKELIKE PINK)            0.096939   \n2                         (ALARM CLOCK BAKELIKE RED )            0.096939   \n3                        (ALARM CLOCK BAKELIKE GREEN)            0.094388   \n4                         (ALARM CLOCK BAKELIKE RED )            0.102041   \n5                         (ALARM CLOCK BAKELIKE PINK)            0.094388   \n6                              (DOLLY GIRL LUNCH BOX)            0.125000   \n7                               (SPACEBOY LUNCH BOX )            0.099490   \n8                          (PLASTERS IN TIN SPACEBOY)            0.168367   \n9                    (PLASTERS IN TIN CIRCUS PARADE )            0.137755   \n10                 (PLASTERS IN TIN WOODLAND ANIMALS)            0.168367   \n11                   (PLASTERS IN TIN CIRCUS PARADE )            0.170918   \n12                         (PLASTERS IN TIN SPACEBOY)            0.170918   \n13                 (PLASTERS IN TIN WOODLAND ANIMALS)            0.137755   \n14              (SET/20 RED RETROSPOT PAPER NAPKINS )            0.137755   \n15                      (SET/6 RED SPOTTY PAPER CUPS)            0.132653   \n16              (SET/20 RED RETROSPOT PAPER NAPKINS )            0.127551   \n17                    (SET/6 RED SPOTTY PAPER PLATES)            0.132653   \n18                      (SET/6 RED SPOTTY PAPER CUPS)            0.127551   \n19                    (SET/6 RED SPOTTY PAPER PLATES)            0.137755   \n20              (SET/20 RED RETROSPOT PAPER NAPKINS )            0.122449   \n21                    (SET/6 RED SPOTTY PAPER PLATES)            0.102041   \n22                      (SET/6 RED SPOTTY PAPER CUPS)            0.102041   \n23  (SET/6 RED SPOTTY PAPER PLATES, SET/20 RED RET...            0.137755   \n24  (SET/20 RED RETROSPOT PAPER NAPKINS , SET/6 RE...            0.127551   \n25  (SET/6 RED SPOTTY PAPER PLATES, SET/6 RED SPOT...            0.132653   \n\n    consequent support   support  confidence      lift  leverage  conviction  \n0             0.096939  0.073980    0.725000  7.478947  0.064088    3.283859  \n1             0.102041  0.073980    0.763158  7.478947  0.064088    3.791383  \n2             0.094388  0.079082    0.815789  8.642959  0.069932    4.916181  \n3             0.096939  0.079082    0.837838  8.642959  0.069932    5.568878  \n4             0.094388  0.073980    0.725000  7.681081  0.064348    3.293135  \n5             0.102041  0.073980    0.783784  7.681081  0.064348    4.153061  \n6             0.099490  0.071429    0.571429  5.743590  0.058992    2.101190  \n7             0.125000  0.071429    0.717949  5.743590  0.058992    3.102273  \n8             0.137755  0.089286    0.530303  3.849607  0.066092    1.835747  \n9             0.168367  0.089286    0.648148  3.849607  0.066092    2.363588  \n10            0.170918  0.102041    0.606061  3.545907  0.073264    2.104592  \n11            0.168367  0.102041    0.597015  3.545907  0.073264    2.063681  \n12            0.137755  0.104592    0.611940  4.442233  0.081047    2.221939  \n13            0.170918  0.104592    0.759259  4.442233  0.081047    3.443878  \n14            0.132653  0.102041    0.740741  5.584046  0.083767    3.345481  \n15            0.137755  0.102041    0.769231  5.584046  0.083767    3.736395  \n16            0.132653  0.102041    0.800000  6.030769  0.085121    4.336735  \n17            0.127551  0.102041    0.769231  6.030769  0.085121    3.780612  \n18            0.137755  0.122449    0.960000  6.968889  0.104878   21.556122  \n19            0.127551  0.122449    0.888889  6.968889  0.104878    7.852041  \n20            0.132653  0.099490    0.812500  6.125000  0.083247    4.625850  \n21            0.127551  0.099490    0.975000  7.644000  0.086474   34.897959  \n22            0.137755  0.099490    0.975000  7.077778  0.085433   34.489796  \n23            0.102041  0.099490    0.722222  7.077778  0.085433    3.232653  \n24            0.102041  0.099490    0.780000  7.644000  0.086474    4.081633  \n25            0.122449  0.099490    0.750000  6.125000  0.083247    3.510204  ",
      "text/html": "<div>\n<style scoped>\n    .dataframe tbody tr th:only-of-type {\n        vertical-align: middle;\n    }\n\n    .dataframe tbody tr th {\n        vertical-align: top;\n    }\n\n    .dataframe thead th {\n        text-align: right;\n    }\n</style>\n<table border=\"1\" class=\"dataframe\">\n  <thead>\n    <tr style=\"text-align: right;\">\n      <th></th>\n      <th>antecedents</th>\n      <th>consequents</th>\n      <th>antecedent support</th>\n      <th>consequent support</th>\n      <th>support</th>\n      <th>confidence</th>\n      <th>lift</th>\n      <th>leverage</th>\n      <th>conviction</th>\n    </tr>\n  </thead>\n  <tbody>\n    <tr>\n      <th>0</th>\n      <td>(ALARM CLOCK BAKELIKE PINK)</td>\n      <td>(ALARM CLOCK BAKELIKE GREEN)</td>\n      <td>0.102041</td>\n      <td>0.096939</td>\n      <td>0.073980</td>\n      <td>0.725000</td>\n      <td>7.478947</td>\n      <td>0.064088</td>\n      <td>3.283859</td>\n    </tr>\n    <tr>\n      <th>1</th>\n      <td>(ALARM CLOCK BAKELIKE GREEN)</td>\n      <td>(ALARM CLOCK BAKELIKE PINK)</td>\n      <td>0.096939</td>\n      <td>0.102041</td>\n      <td>0.073980</td>\n      <td>0.763158</td>\n      <td>7.478947</td>\n      <td>0.064088</td>\n      <td>3.791383</td>\n    </tr>\n    <tr>\n      <th>2</th>\n      <td>(ALARM CLOCK BAKELIKE GREEN)</td>\n      <td>(ALARM CLOCK BAKELIKE RED )</td>\n      <td>0.096939</td>\n      <td>0.094388</td>\n      <td>0.079082</td>\n      <td>0.815789</td>\n      <td>8.642959</td>\n      <td>0.069932</td>\n      <td>4.916181</td>\n    </tr>\n    <tr>\n      <th>3</th>\n      <td>(ALARM CLOCK BAKELIKE RED )</td>\n      <td>(ALARM CLOCK BAKELIKE GREEN)</td>\n      <td>0.094388</td>\n      <td>0.096939</td>\n      <td>0.079082</td>\n      <td>0.837838</td>\n      <td>8.642959</td>\n      <td>0.069932</td>\n      <td>5.568878</td>\n    </tr>\n    <tr>\n      <th>4</th>\n      <td>(ALARM CLOCK BAKELIKE PINK)</td>\n      <td>(ALARM CLOCK BAKELIKE RED )</td>\n      <td>0.102041</td>\n      <td>0.094388</td>\n      <td>0.073980</td>\n      <td>0.725000</td>\n      <td>7.681081</td>\n      <td>0.064348</td>\n      <td>3.293135</td>\n    </tr>\n    <tr>\n      <th>5</th>\n      <td>(ALARM CLOCK BAKELIKE RED )</td>\n      <td>(ALARM CLOCK BAKELIKE PINK)</td>\n      <td>0.094388</td>\n      <td>0.102041</td>\n      <td>0.073980</td>\n      <td>0.783784</td>\n      <td>7.681081</td>\n      <td>0.064348</td>\n      <td>4.153061</td>\n    </tr>\n    <tr>\n      <th>6</th>\n      <td>(SPACEBOY LUNCH BOX )</td>\n      <td>(DOLLY GIRL LUNCH BOX)</td>\n      <td>0.125000</td>\n      <td>0.099490</td>\n      <td>0.071429</td>\n      <td>0.571429</td>\n      <td>5.743590</td>\n      <td>0.058992</td>\n      <td>2.101190</td>\n    </tr>\n    <tr>\n      <th>7</th>\n      <td>(DOLLY GIRL LUNCH BOX)</td>\n      <td>(SPACEBOY LUNCH BOX )</td>\n      <td>0.099490</td>\n      <td>0.125000</td>\n      <td>0.071429</td>\n      <td>0.717949</td>\n      <td>5.743590</td>\n      <td>0.058992</td>\n      <td>3.102273</td>\n    </tr>\n    <tr>\n      <th>8</th>\n      <td>(PLASTERS IN TIN CIRCUS PARADE )</td>\n      <td>(PLASTERS IN TIN SPACEBOY)</td>\n      <td>0.168367</td>\n      <td>0.137755</td>\n      <td>0.089286</td>\n      <td>0.530303</td>\n      <td>3.849607</td>\n      <td>0.066092</td>\n      <td>1.835747</td>\n    </tr>\n    <tr>\n      <th>9</th>\n      <td>(PLASTERS IN TIN SPACEBOY)</td>\n      <td>(PLASTERS IN TIN CIRCUS PARADE )</td>\n      <td>0.137755</td>\n      <td>0.168367</td>\n      <td>0.089286</td>\n      <td>0.648148</td>\n      <td>3.849607</td>\n      <td>0.066092</td>\n      <td>2.363588</td>\n    </tr>\n    <tr>\n      <th>10</th>\n      <td>(PLASTERS IN TIN CIRCUS PARADE )</td>\n      <td>(PLASTERS IN TIN WOODLAND ANIMALS)</td>\n      <td>0.168367</td>\n      <td>0.170918</td>\n      <td>0.102041</td>\n      <td>0.606061</td>\n      <td>3.545907</td>\n      <td>0.073264</td>\n      <td>2.104592</td>\n    </tr>\n    <tr>\n      <th>11</th>\n      <td>(PLASTERS IN TIN WOODLAND ANIMALS)</td>\n      <td>(PLASTERS IN TIN CIRCUS PARADE )</td>\n      <td>0.170918</td>\n      <td>0.168367</td>\n      <td>0.102041</td>\n      <td>0.597015</td>\n      <td>3.545907</td>\n      <td>0.073264</td>\n      <td>2.063681</td>\n    </tr>\n    <tr>\n      <th>12</th>\n      <td>(PLASTERS IN TIN WOODLAND ANIMALS)</td>\n      <td>(PLASTERS IN TIN SPACEBOY)</td>\n      <td>0.170918</td>\n      <td>0.137755</td>\n      <td>0.104592</td>\n      <td>0.611940</td>\n      <td>4.442233</td>\n      <td>0.081047</td>\n      <td>2.221939</td>\n    </tr>\n    <tr>\n      <th>13</th>\n      <td>(PLASTERS IN TIN SPACEBOY)</td>\n      <td>(PLASTERS IN TIN WOODLAND ANIMALS)</td>\n      <td>0.137755</td>\n      <td>0.170918</td>\n      <td>0.104592</td>\n      <td>0.759259</td>\n      <td>4.442233</td>\n      <td>0.081047</td>\n      <td>3.443878</td>\n    </tr>\n    <tr>\n      <th>14</th>\n      <td>(SET/6 RED SPOTTY PAPER CUPS)</td>\n      <td>(SET/20 RED RETROSPOT PAPER NAPKINS )</td>\n      <td>0.137755</td>\n      <td>0.132653</td>\n      <td>0.102041</td>\n      <td>0.740741</td>\n      <td>5.584046</td>\n      <td>0.083767</td>\n      <td>3.345481</td>\n    </tr>\n    <tr>\n      <th>15</th>\n      <td>(SET/20 RED RETROSPOT PAPER NAPKINS )</td>\n      <td>(SET/6 RED SPOTTY PAPER CUPS)</td>\n      <td>0.132653</td>\n      <td>0.137755</td>\n      <td>0.102041</td>\n      <td>0.769231</td>\n      <td>5.584046</td>\n      <td>0.083767</td>\n      <td>3.736395</td>\n    </tr>\n    <tr>\n      <th>16</th>\n      <td>(SET/6 RED SPOTTY PAPER PLATES)</td>\n      <td>(SET/20 RED RETROSPOT PAPER NAPKINS )</td>\n      <td>0.127551</td>\n      <td>0.132653</td>\n      <td>0.102041</td>\n      <td>0.800000</td>\n      <td>6.030769</td>\n      <td>0.085121</td>\n      <td>4.336735</td>\n    </tr>\n    <tr>\n      <th>17</th>\n      <td>(SET/20 RED RETROSPOT PAPER NAPKINS )</td>\n      <td>(SET/6 RED SPOTTY PAPER PLATES)</td>\n      <td>0.132653</td>\n      <td>0.127551</td>\n      <td>0.102041</td>\n      <td>0.769231</td>\n      <td>6.030769</td>\n      <td>0.085121</td>\n      <td>3.780612</td>\n    </tr>\n    <tr>\n      <th>18</th>\n      <td>(SET/6 RED SPOTTY PAPER PLATES)</td>\n      <td>(SET/6 RED SPOTTY PAPER CUPS)</td>\n      <td>0.127551</td>\n      <td>0.137755</td>\n      <td>0.122449</td>\n      <td>0.960000</td>\n      <td>6.968889</td>\n      <td>0.104878</td>\n      <td>21.556122</td>\n    </tr>\n    <tr>\n      <th>19</th>\n      <td>(SET/6 RED SPOTTY PAPER CUPS)</td>\n      <td>(SET/6 RED SPOTTY PAPER PLATES)</td>\n      <td>0.137755</td>\n      <td>0.127551</td>\n      <td>0.122449</td>\n      <td>0.888889</td>\n      <td>6.968889</td>\n      <td>0.104878</td>\n      <td>7.852041</td>\n    </tr>\n    <tr>\n      <th>20</th>\n      <td>(SET/6 RED SPOTTY PAPER PLATES, SET/6 RED SPOT...</td>\n      <td>(SET/20 RED RETROSPOT PAPER NAPKINS )</td>\n      <td>0.122449</td>\n      <td>0.132653</td>\n      <td>0.099490</td>\n      <td>0.812500</td>\n      <td>6.125000</td>\n      <td>0.083247</td>\n      <td>4.625850</td>\n    </tr>\n    <tr>\n      <th>21</th>\n      <td>(SET/20 RED RETROSPOT PAPER NAPKINS , SET/6 RE...</td>\n      <td>(SET/6 RED SPOTTY PAPER PLATES)</td>\n      <td>0.102041</td>\n      <td>0.127551</td>\n      <td>0.099490</td>\n      <td>0.975000</td>\n      <td>7.644000</td>\n      <td>0.086474</td>\n      <td>34.897959</td>\n    </tr>\n    <tr>\n      <th>22</th>\n      <td>(SET/6 RED SPOTTY PAPER PLATES, SET/20 RED RET...</td>\n      <td>(SET/6 RED SPOTTY PAPER CUPS)</td>\n      <td>0.102041</td>\n      <td>0.137755</td>\n      <td>0.099490</td>\n      <td>0.975000</td>\n      <td>7.077778</td>\n      <td>0.085433</td>\n      <td>34.489796</td>\n    </tr>\n    <tr>\n      <th>23</th>\n      <td>(SET/6 RED SPOTTY PAPER CUPS)</td>\n      <td>(SET/6 RED SPOTTY PAPER PLATES, SET/20 RED RET...</td>\n      <td>0.137755</td>\n      <td>0.102041</td>\n      <td>0.099490</td>\n      <td>0.722222</td>\n      <td>7.077778</td>\n      <td>0.085433</td>\n      <td>3.232653</td>\n    </tr>\n    <tr>\n      <th>24</th>\n      <td>(SET/6 RED SPOTTY PAPER PLATES)</td>\n      <td>(SET/20 RED RETROSPOT PAPER NAPKINS , SET/6 RE...</td>\n      <td>0.127551</td>\n      <td>0.102041</td>\n      <td>0.099490</td>\n      <td>0.780000</td>\n      <td>7.644000</td>\n      <td>0.086474</td>\n      <td>4.081633</td>\n    </tr>\n    <tr>\n      <th>25</th>\n      <td>(SET/20 RED RETROSPOT PAPER NAPKINS )</td>\n      <td>(SET/6 RED SPOTTY PAPER PLATES, SET/6 RED SPOT...</td>\n      <td>0.132653</td>\n      <td>0.122449</td>\n      <td>0.099490</td>\n      <td>0.750000</td>\n      <td>6.125000</td>\n      <td>0.083247</td>\n      <td>3.510204</td>\n    </tr>\n  </tbody>\n</table>\n</div>"
     },
     "execution_count": 24,
     "metadata": {},
     "output_type": "execute_result"
    }
   ],
   "source": [
    "# 生成规则,置信度，提升度\n",
    "reles = association_rules(frequent_items_2,metric='lift',\n",
    "                          min_threshold=3)\n",
    "reles"
   ],
   "metadata": {
    "collapsed": false
   }
  },
  {
   "cell_type": "code",
   "execution_count": 23,
   "outputs": [
    {
     "data": {
      "text/plain": "     support                                           itemsets\n0   0.071429                      (4 TRADITIONAL SPINNING TOPS)\n1   0.096939                       (ALARM CLOCK BAKELIKE GREEN)\n2   0.102041                        (ALARM CLOCK BAKELIKE PINK)\n3   0.094388                        (ALARM CLOCK BAKELIKE RED )\n4   0.081633                    (BAKING SET 9 PIECE RETROSPOT )\n5   0.071429                    (CHILDRENS CUTLERY DOLLY GIRL )\n6   0.099490                             (DOLLY GIRL LUNCH BOX)\n7   0.096939                          (JUMBO BAG RED RETROSPOT)\n8   0.076531                       (JUMBO BAG WOODLAND ANIMALS)\n9   0.125000                           (LUNCH BAG APPLE DESIGN)\n10  0.084184                      (LUNCH BAG DOLLY GIRL DESIGN)\n11  0.153061                          (LUNCH BAG RED RETROSPOT)\n12  0.119898                       (LUNCH BAG SPACEBOY DESIGN )\n13  0.117347                               (LUNCH BAG WOODLAND)\n14  0.142857                (LUNCH BOX WITH CUTLERY RETROSPOT )\n15  0.104592                          (MINI PAINT SET VINTAGE )\n16  0.102041                  (PACK OF 72 RETROSPOT CAKE CASES)\n17  0.081633                          (PAPER BUNTING RETROSPOT)\n18  0.168367                   (PLASTERS IN TIN CIRCUS PARADE )\n19  0.137755                         (PLASTERS IN TIN SPACEBOY)\n20  0.081633                        (PLASTERS IN TIN STRONGMAN)\n21  0.170918                 (PLASTERS IN TIN WOODLAND ANIMALS)\n22  0.188776                               (RABBIT NIGHT LIGHT)\n23  0.096939                      (RED RETROSPOT CHARLOTTE BAG)\n24  0.137755                         (RED RETROSPOT MINI CASES)\n25  0.071429                         (RED RETROSPOT PICNIC BAG)\n26  0.181122                    (RED TOADSTOOL LED NIGHT LIGHT)\n27  0.125000                         (REGENCY CAKESTAND 3 TIER)\n28  0.086735                 (RETROSPOT TEA SET CERAMIC 11 PC )\n29  0.107143               (ROUND SNACK BOXES SET OF 4 FRUITS )\n30  0.158163              (ROUND SNACK BOXES SET OF4 WOODLAND )\n31  0.076531                (SET/10 RED POLKADOT PARTY CANDLES)\n32  0.132653              (SET/20 RED RETROSPOT PAPER NAPKINS )\n33  0.137755                      (SET/6 RED SPOTTY PAPER CUPS)\n34  0.127551                    (SET/6 RED SPOTTY PAPER PLATES)\n35  0.071429                           (SPACEBOY BIRTHDAY CARD)\n36  0.125000                              (SPACEBOY LUNCH BOX )\n37  0.122449                (STRAWBERRY LUNCH BOX WITH CUTLERY)\n38  0.094388                          (TEA PARTY BIRTHDAY CARD)\n39  0.073980                           (WOODLAND CHARLOTTE BAG)\n40  0.073980  (ALARM CLOCK BAKELIKE PINK, ALARM CLOCK BAKELI...\n41  0.079082  (ALARM CLOCK BAKELIKE GREEN, ALARM CLOCK BAKEL...\n42  0.073980  (ALARM CLOCK BAKELIKE PINK, ALARM CLOCK BAKELI...\n43  0.071429        (SPACEBOY LUNCH BOX , DOLLY GIRL LUNCH BOX)\n44  0.089286  (PLASTERS IN TIN CIRCUS PARADE , PLASTERS IN T...\n45  0.102041  (PLASTERS IN TIN CIRCUS PARADE , PLASTERS IN T...\n46  0.104592  (PLASTERS IN TIN WOODLAND ANIMALS, PLASTERS IN...\n47  0.102041  (SET/6 RED SPOTTY PAPER CUPS, SET/20 RED RETRO...\n48  0.102041  (SET/6 RED SPOTTY PAPER PLATES, SET/20 RED RET...\n49  0.122449  (SET/6 RED SPOTTY PAPER PLATES, SET/6 RED SPOT...\n50  0.099490  (SET/6 RED SPOTTY PAPER CUPS, SET/6 RED SPOTTY...",
      "text/html": "<div>\n<style scoped>\n    .dataframe tbody tr th:only-of-type {\n        vertical-align: middle;\n    }\n\n    .dataframe tbody tr th {\n        vertical-align: top;\n    }\n\n    .dataframe thead th {\n        text-align: right;\n    }\n</style>\n<table border=\"1\" class=\"dataframe\">\n  <thead>\n    <tr style=\"text-align: right;\">\n      <th></th>\n      <th>support</th>\n      <th>itemsets</th>\n    </tr>\n  </thead>\n  <tbody>\n    <tr>\n      <th>0</th>\n      <td>0.071429</td>\n      <td>(4 TRADITIONAL SPINNING TOPS)</td>\n    </tr>\n    <tr>\n      <th>1</th>\n      <td>0.096939</td>\n      <td>(ALARM CLOCK BAKELIKE GREEN)</td>\n    </tr>\n    <tr>\n      <th>2</th>\n      <td>0.102041</td>\n      <td>(ALARM CLOCK BAKELIKE PINK)</td>\n    </tr>\n    <tr>\n      <th>3</th>\n      <td>0.094388</td>\n      <td>(ALARM CLOCK BAKELIKE RED )</td>\n    </tr>\n    <tr>\n      <th>4</th>\n      <td>0.081633</td>\n      <td>(BAKING SET 9 PIECE RETROSPOT )</td>\n    </tr>\n    <tr>\n      <th>5</th>\n      <td>0.071429</td>\n      <td>(CHILDRENS CUTLERY DOLLY GIRL )</td>\n    </tr>\n    <tr>\n      <th>6</th>\n      <td>0.099490</td>\n      <td>(DOLLY GIRL LUNCH BOX)</td>\n    </tr>\n    <tr>\n      <th>7</th>\n      <td>0.096939</td>\n      <td>(JUMBO BAG RED RETROSPOT)</td>\n    </tr>\n    <tr>\n      <th>8</th>\n      <td>0.076531</td>\n      <td>(JUMBO BAG WOODLAND ANIMALS)</td>\n    </tr>\n    <tr>\n      <th>9</th>\n      <td>0.125000</td>\n      <td>(LUNCH BAG APPLE DESIGN)</td>\n    </tr>\n    <tr>\n      <th>10</th>\n      <td>0.084184</td>\n      <td>(LUNCH BAG DOLLY GIRL DESIGN)</td>\n    </tr>\n    <tr>\n      <th>11</th>\n      <td>0.153061</td>\n      <td>(LUNCH BAG RED RETROSPOT)</td>\n    </tr>\n    <tr>\n      <th>12</th>\n      <td>0.119898</td>\n      <td>(LUNCH BAG SPACEBOY DESIGN )</td>\n    </tr>\n    <tr>\n      <th>13</th>\n      <td>0.117347</td>\n      <td>(LUNCH BAG WOODLAND)</td>\n    </tr>\n    <tr>\n      <th>14</th>\n      <td>0.142857</td>\n      <td>(LUNCH BOX WITH CUTLERY RETROSPOT )</td>\n    </tr>\n    <tr>\n      <th>15</th>\n      <td>0.104592</td>\n      <td>(MINI PAINT SET VINTAGE )</td>\n    </tr>\n    <tr>\n      <th>16</th>\n      <td>0.102041</td>\n      <td>(PACK OF 72 RETROSPOT CAKE CASES)</td>\n    </tr>\n    <tr>\n      <th>17</th>\n      <td>0.081633</td>\n      <td>(PAPER BUNTING RETROSPOT)</td>\n    </tr>\n    <tr>\n      <th>18</th>\n      <td>0.168367</td>\n      <td>(PLASTERS IN TIN CIRCUS PARADE )</td>\n    </tr>\n    <tr>\n      <th>19</th>\n      <td>0.137755</td>\n      <td>(PLASTERS IN TIN SPACEBOY)</td>\n    </tr>\n    <tr>\n      <th>20</th>\n      <td>0.081633</td>\n      <td>(PLASTERS IN TIN STRONGMAN)</td>\n    </tr>\n    <tr>\n      <th>21</th>\n      <td>0.170918</td>\n      <td>(PLASTERS IN TIN WOODLAND ANIMALS)</td>\n    </tr>\n    <tr>\n      <th>22</th>\n      <td>0.188776</td>\n      <td>(RABBIT NIGHT LIGHT)</td>\n    </tr>\n    <tr>\n      <th>23</th>\n      <td>0.096939</td>\n      <td>(RED RETROSPOT CHARLOTTE BAG)</td>\n    </tr>\n    <tr>\n      <th>24</th>\n      <td>0.137755</td>\n      <td>(RED RETROSPOT MINI CASES)</td>\n    </tr>\n    <tr>\n      <th>25</th>\n      <td>0.071429</td>\n      <td>(RED RETROSPOT PICNIC BAG)</td>\n    </tr>\n    <tr>\n      <th>26</th>\n      <td>0.181122</td>\n      <td>(RED TOADSTOOL LED NIGHT LIGHT)</td>\n    </tr>\n    <tr>\n      <th>27</th>\n      <td>0.125000</td>\n      <td>(REGENCY CAKESTAND 3 TIER)</td>\n    </tr>\n    <tr>\n      <th>28</th>\n      <td>0.086735</td>\n      <td>(RETROSPOT TEA SET CERAMIC 11 PC )</td>\n    </tr>\n    <tr>\n      <th>29</th>\n      <td>0.107143</td>\n      <td>(ROUND SNACK BOXES SET OF 4 FRUITS )</td>\n    </tr>\n    <tr>\n      <th>30</th>\n      <td>0.158163</td>\n      <td>(ROUND SNACK BOXES SET OF4 WOODLAND )</td>\n    </tr>\n    <tr>\n      <th>31</th>\n      <td>0.076531</td>\n      <td>(SET/10 RED POLKADOT PARTY CANDLES)</td>\n    </tr>\n    <tr>\n      <th>32</th>\n      <td>0.132653</td>\n      <td>(SET/20 RED RETROSPOT PAPER NAPKINS )</td>\n    </tr>\n    <tr>\n      <th>33</th>\n      <td>0.137755</td>\n      <td>(SET/6 RED SPOTTY PAPER CUPS)</td>\n    </tr>\n    <tr>\n      <th>34</th>\n      <td>0.127551</td>\n      <td>(SET/6 RED SPOTTY PAPER PLATES)</td>\n    </tr>\n    <tr>\n      <th>35</th>\n      <td>0.071429</td>\n      <td>(SPACEBOY BIRTHDAY CARD)</td>\n    </tr>\n    <tr>\n      <th>36</th>\n      <td>0.125000</td>\n      <td>(SPACEBOY LUNCH BOX )</td>\n    </tr>\n    <tr>\n      <th>37</th>\n      <td>0.122449</td>\n      <td>(STRAWBERRY LUNCH BOX WITH CUTLERY)</td>\n    </tr>\n    <tr>\n      <th>38</th>\n      <td>0.094388</td>\n      <td>(TEA PARTY BIRTHDAY CARD)</td>\n    </tr>\n    <tr>\n      <th>39</th>\n      <td>0.073980</td>\n      <td>(WOODLAND CHARLOTTE BAG)</td>\n    </tr>\n    <tr>\n      <th>40</th>\n      <td>0.073980</td>\n      <td>(ALARM CLOCK BAKELIKE PINK, ALARM CLOCK BAKELI...</td>\n    </tr>\n    <tr>\n      <th>41</th>\n      <td>0.079082</td>\n      <td>(ALARM CLOCK BAKELIKE GREEN, ALARM CLOCK BAKEL...</td>\n    </tr>\n    <tr>\n      <th>42</th>\n      <td>0.073980</td>\n      <td>(ALARM CLOCK BAKELIKE PINK, ALARM CLOCK BAKELI...</td>\n    </tr>\n    <tr>\n      <th>43</th>\n      <td>0.071429</td>\n      <td>(SPACEBOY LUNCH BOX , DOLLY GIRL LUNCH BOX)</td>\n    </tr>\n    <tr>\n      <th>44</th>\n      <td>0.089286</td>\n      <td>(PLASTERS IN TIN CIRCUS PARADE , PLASTERS IN T...</td>\n    </tr>\n    <tr>\n      <th>45</th>\n      <td>0.102041</td>\n      <td>(PLASTERS IN TIN CIRCUS PARADE , PLASTERS IN T...</td>\n    </tr>\n    <tr>\n      <th>46</th>\n      <td>0.104592</td>\n      <td>(PLASTERS IN TIN WOODLAND ANIMALS, PLASTERS IN...</td>\n    </tr>\n    <tr>\n      <th>47</th>\n      <td>0.102041</td>\n      <td>(SET/6 RED SPOTTY PAPER CUPS, SET/20 RED RETRO...</td>\n    </tr>\n    <tr>\n      <th>48</th>\n      <td>0.102041</td>\n      <td>(SET/6 RED SPOTTY PAPER PLATES, SET/20 RED RET...</td>\n    </tr>\n    <tr>\n      <th>49</th>\n      <td>0.122449</td>\n      <td>(SET/6 RED SPOTTY PAPER PLATES, SET/6 RED SPOT...</td>\n    </tr>\n    <tr>\n      <th>50</th>\n      <td>0.099490</td>\n      <td>(SET/6 RED SPOTTY PAPER CUPS, SET/6 RED SPOTTY...</td>\n    </tr>\n  </tbody>\n</table>\n</div>"
     },
     "execution_count": 23,
     "metadata": {},
     "output_type": "execute_result"
    }
   ],
   "source": [
    "frequent_items_2 = apriori(data_pivot,min_support=0.07,use_colnames=True)\n",
    "frequent_items_2"
   ],
   "metadata": {
    "collapsed": false
   }
  },
  {
   "cell_type": "code",
   "execution_count": 22,
   "outputs": [
    {
     "data": {
      "text/plain": "     support            itemsets\n0   0.071429                (42)\n1   0.096939                (67)\n2   0.102041                (70)\n3   0.094388                (71)\n4   0.081633               (109)\n5   0.071429               (261)\n6   0.099490               (371)\n7   0.096939               (637)\n8   0.076531               (645)\n9   0.125000               (701)\n10  0.084184               (704)\n11  0.153061               (707)\n12  0.119898               (709)\n13  0.117347               (714)\n14  0.142857               (716)\n15  0.104592               (761)\n16  0.102041               (852)\n17  0.081633               (867)\n18  0.168367               (954)\n19  0.137755               (956)\n20  0.081633               (957)\n21  0.170918               (959)\n22  0.188776               (985)\n23  0.096939              (1029)\n24  0.137755              (1033)\n25  0.071429              (1037)\n26  0.181122              (1059)\n27  0.125000              (1065)\n28  0.086735              (1090)\n29  0.107143              (1121)\n30  0.158163              (1123)\n31  0.076531              (1248)\n32  0.132653              (1250)\n33  0.137755              (1269)\n34  0.127551              (1270)\n35  0.071429              (1321)\n36  0.125000              (1326)\n37  0.122449              (1350)\n38  0.094388              (1372)\n39  0.073980              (1522)\n40  0.073980            (67, 70)\n41  0.079082            (67, 71)\n42  0.073980            (70, 71)\n43  0.071429         (371, 1326)\n44  0.089286          (954, 956)\n45  0.102041          (954, 959)\n46  0.104592          (956, 959)\n47  0.102041        (1250, 1269)\n48  0.102041        (1250, 1270)\n49  0.122449        (1269, 1270)\n50  0.099490  (1250, 1269, 1270)",
      "text/html": "<div>\n<style scoped>\n    .dataframe tbody tr th:only-of-type {\n        vertical-align: middle;\n    }\n\n    .dataframe tbody tr th {\n        vertical-align: top;\n    }\n\n    .dataframe thead th {\n        text-align: right;\n    }\n</style>\n<table border=\"1\" class=\"dataframe\">\n  <thead>\n    <tr style=\"text-align: right;\">\n      <th></th>\n      <th>support</th>\n      <th>itemsets</th>\n    </tr>\n  </thead>\n  <tbody>\n    <tr>\n      <th>0</th>\n      <td>0.071429</td>\n      <td>(42)</td>\n    </tr>\n    <tr>\n      <th>1</th>\n      <td>0.096939</td>\n      <td>(67)</td>\n    </tr>\n    <tr>\n      <th>2</th>\n      <td>0.102041</td>\n      <td>(70)</td>\n    </tr>\n    <tr>\n      <th>3</th>\n      <td>0.094388</td>\n      <td>(71)</td>\n    </tr>\n    <tr>\n      <th>4</th>\n      <td>0.081633</td>\n      <td>(109)</td>\n    </tr>\n    <tr>\n      <th>5</th>\n      <td>0.071429</td>\n      <td>(261)</td>\n    </tr>\n    <tr>\n      <th>6</th>\n      <td>0.099490</td>\n      <td>(371)</td>\n    </tr>\n    <tr>\n      <th>7</th>\n      <td>0.096939</td>\n      <td>(637)</td>\n    </tr>\n    <tr>\n      <th>8</th>\n      <td>0.076531</td>\n      <td>(645)</td>\n    </tr>\n    <tr>\n      <th>9</th>\n      <td>0.125000</td>\n      <td>(701)</td>\n    </tr>\n    <tr>\n      <th>10</th>\n      <td>0.084184</td>\n      <td>(704)</td>\n    </tr>\n    <tr>\n      <th>11</th>\n      <td>0.153061</td>\n      <td>(707)</td>\n    </tr>\n    <tr>\n      <th>12</th>\n      <td>0.119898</td>\n      <td>(709)</td>\n    </tr>\n    <tr>\n      <th>13</th>\n      <td>0.117347</td>\n      <td>(714)</td>\n    </tr>\n    <tr>\n      <th>14</th>\n      <td>0.142857</td>\n      <td>(716)</td>\n    </tr>\n    <tr>\n      <th>15</th>\n      <td>0.104592</td>\n      <td>(761)</td>\n    </tr>\n    <tr>\n      <th>16</th>\n      <td>0.102041</td>\n      <td>(852)</td>\n    </tr>\n    <tr>\n      <th>17</th>\n      <td>0.081633</td>\n      <td>(867)</td>\n    </tr>\n    <tr>\n      <th>18</th>\n      <td>0.168367</td>\n      <td>(954)</td>\n    </tr>\n    <tr>\n      <th>19</th>\n      <td>0.137755</td>\n      <td>(956)</td>\n    </tr>\n    <tr>\n      <th>20</th>\n      <td>0.081633</td>\n      <td>(957)</td>\n    </tr>\n    <tr>\n      <th>21</th>\n      <td>0.170918</td>\n      <td>(959)</td>\n    </tr>\n    <tr>\n      <th>22</th>\n      <td>0.188776</td>\n      <td>(985)</td>\n    </tr>\n    <tr>\n      <th>23</th>\n      <td>0.096939</td>\n      <td>(1029)</td>\n    </tr>\n    <tr>\n      <th>24</th>\n      <td>0.137755</td>\n      <td>(1033)</td>\n    </tr>\n    <tr>\n      <th>25</th>\n      <td>0.071429</td>\n      <td>(1037)</td>\n    </tr>\n    <tr>\n      <th>26</th>\n      <td>0.181122</td>\n      <td>(1059)</td>\n    </tr>\n    <tr>\n      <th>27</th>\n      <td>0.125000</td>\n      <td>(1065)</td>\n    </tr>\n    <tr>\n      <th>28</th>\n      <td>0.086735</td>\n      <td>(1090)</td>\n    </tr>\n    <tr>\n      <th>29</th>\n      <td>0.107143</td>\n      <td>(1121)</td>\n    </tr>\n    <tr>\n      <th>30</th>\n      <td>0.158163</td>\n      <td>(1123)</td>\n    </tr>\n    <tr>\n      <th>31</th>\n      <td>0.076531</td>\n      <td>(1248)</td>\n    </tr>\n    <tr>\n      <th>32</th>\n      <td>0.132653</td>\n      <td>(1250)</td>\n    </tr>\n    <tr>\n      <th>33</th>\n      <td>0.137755</td>\n      <td>(1269)</td>\n    </tr>\n    <tr>\n      <th>34</th>\n      <td>0.127551</td>\n      <td>(1270)</td>\n    </tr>\n    <tr>\n      <th>35</th>\n      <td>0.071429</td>\n      <td>(1321)</td>\n    </tr>\n    <tr>\n      <th>36</th>\n      <td>0.125000</td>\n      <td>(1326)</td>\n    </tr>\n    <tr>\n      <th>37</th>\n      <td>0.122449</td>\n      <td>(1350)</td>\n    </tr>\n    <tr>\n      <th>38</th>\n      <td>0.094388</td>\n      <td>(1372)</td>\n    </tr>\n    <tr>\n      <th>39</th>\n      <td>0.073980</td>\n      <td>(1522)</td>\n    </tr>\n    <tr>\n      <th>40</th>\n      <td>0.073980</td>\n      <td>(67, 70)</td>\n    </tr>\n    <tr>\n      <th>41</th>\n      <td>0.079082</td>\n      <td>(67, 71)</td>\n    </tr>\n    <tr>\n      <th>42</th>\n      <td>0.073980</td>\n      <td>(70, 71)</td>\n    </tr>\n    <tr>\n      <th>43</th>\n      <td>0.071429</td>\n      <td>(371, 1326)</td>\n    </tr>\n    <tr>\n      <th>44</th>\n      <td>0.089286</td>\n      <td>(954, 956)</td>\n    </tr>\n    <tr>\n      <th>45</th>\n      <td>0.102041</td>\n      <td>(954, 959)</td>\n    </tr>\n    <tr>\n      <th>46</th>\n      <td>0.104592</td>\n      <td>(956, 959)</td>\n    </tr>\n    <tr>\n      <th>47</th>\n      <td>0.102041</td>\n      <td>(1250, 1269)</td>\n    </tr>\n    <tr>\n      <th>48</th>\n      <td>0.102041</td>\n      <td>(1250, 1270)</td>\n    </tr>\n    <tr>\n      <th>49</th>\n      <td>0.122449</td>\n      <td>(1269, 1270)</td>\n    </tr>\n    <tr>\n      <th>50</th>\n      <td>0.099490</td>\n      <td>(1250, 1269, 1270)</td>\n    </tr>\n  </tbody>\n</table>\n</div>"
     },
     "execution_count": 22,
     "metadata": {},
     "output_type": "execute_result"
    }
   ],
   "source": [
    "# 算法建模\n",
    "from mlxtend.frequent_patterns import apriori,association_rules\n",
    "# 寻找频繁项集，设置最小支持度为0.07\n",
    "frequent_items = apriori(data_pivot,min_support=0.07)\n",
    "frequent_items"
   ],
   "metadata": {
    "collapsed": false
   }
  },
  {
   "cell_type": "code",
   "execution_count": 21,
   "outputs": [],
   "source": [
    "#去除邮费的一列\n",
    "data_pivot.drop(columns='POSTAGE',inplace=True)"
   ],
   "metadata": {
    "collapsed": false
   }
  },
  {
   "cell_type": "code",
   "execution_count": 20,
   "outputs": [
    {
     "data": {
      "text/plain": "Description   50'S CHRISTMAS GIFT BAG LARGE   DOLLY GIRL BEAKER  \\\nInvoiceNo                                                         \n536370                                    0                   0   \n536852                                    0                   0   \n536974                                    0                   0   \n537065                                    0                   0   \n537463                                    0                   0   \n\nDescription   I LOVE LONDON MINI BACKPACK   NINE DRAWER OFFICE TIDY  \\\nInvoiceNo                                                             \n536370                                  0                         0   \n536852                                  0                         0   \n536974                                  0                         0   \n537065                                  0                         0   \n537463                                  0                         0   \n\nDescription   SET 2 TEA TOWELS I LOVE LONDON    SPACEBOY BABY GIFT SET  \\\nInvoiceNo                                                                \n536370                                      1                        0   \n536852                                      0                        0   \n536974                                      0                        0   \n537065                                      0                        0   \n537463                                      0                        0   \n\nDescription   TRELLIS COAT RACK  10 COLOUR SPACEBOY PEN  \\\nInvoiceNo                                                 \n536370                        0                       0   \n536852                        0                       0   \n536974                        0                       0   \n537065                        0                       0   \n537463                        0                       0   \n\nDescription  12 COLOURED PARTY BALLOONS  12 EGG HOUSE PAINTED WOOD  ...  \\\nInvoiceNo                                                           ...   \n536370                                0                          0  ...   \n536852                                0                          0  ...   \n536974                                0                          0  ...   \n537065                                0                          0  ...   \n537463                                0                          0  ...   \n\nDescription  WRAP VINTAGE PETALS  DESIGN  YELLOW COAT RACK PARIS FASHION  \\\nInvoiceNo                                                                  \n536370                                 0                               0   \n536852                                 0                               0   \n536974                                 0                               0   \n537065                                 0                               0   \n537463                                 0                               0   \n\nDescription  YELLOW GIANT GARDEN THERMOMETER  YELLOW SHARK HELICOPTER  \\\nInvoiceNo                                                               \n536370                                     0                        0   \n536852                                     0                        0   \n536974                                     0                        0   \n537065                                     0                        0   \n537463                                     0                        0   \n\nDescription  ZINC  STAR T-LIGHT HOLDER   ZINC FOLKART SLEIGH BELLS  \\\nInvoiceNo                                                            \n536370                                0                          0   \n536852                                0                          0   \n536974                                0                          0   \n537065                                0                          0   \n537463                                0                          0   \n\nDescription  ZINC HERB GARDEN CONTAINER  ZINC METAL HEART DECORATION  \\\nInvoiceNo                                                              \n536370                                0                            0   \n536852                                0                            0   \n536974                                0                            0   \n537065                                0                            0   \n537463                                0                            0   \n\nDescription  ZINC T-LIGHT HOLDER STAR LARGE  ZINC T-LIGHT HOLDER STARS SMALL  \nInvoiceNo                                                                     \n536370                                    0                                0  \n536852                                    0                                0  \n536974                                    0                                0  \n537065                                    0                                0  \n537463                                    0                                0  \n\n[5 rows x 1564 columns]",
      "text/html": "<div>\n<style scoped>\n    .dataframe tbody tr th:only-of-type {\n        vertical-align: middle;\n    }\n\n    .dataframe tbody tr th {\n        vertical-align: top;\n    }\n\n    .dataframe thead th {\n        text-align: right;\n    }\n</style>\n<table border=\"1\" class=\"dataframe\">\n  <thead>\n    <tr style=\"text-align: right;\">\n      <th>Description</th>\n      <th>50'S CHRISTMAS GIFT BAG LARGE</th>\n      <th>DOLLY GIRL BEAKER</th>\n      <th>I LOVE LONDON MINI BACKPACK</th>\n      <th>NINE DRAWER OFFICE TIDY</th>\n      <th>SET 2 TEA TOWELS I LOVE LONDON</th>\n      <th>SPACEBOY BABY GIFT SET</th>\n      <th>TRELLIS COAT RACK</th>\n      <th>10 COLOUR SPACEBOY PEN</th>\n      <th>12 COLOURED PARTY BALLOONS</th>\n      <th>12 EGG HOUSE PAINTED WOOD</th>\n      <th>...</th>\n      <th>WRAP VINTAGE PETALS  DESIGN</th>\n      <th>YELLOW COAT RACK PARIS FASHION</th>\n      <th>YELLOW GIANT GARDEN THERMOMETER</th>\n      <th>YELLOW SHARK HELICOPTER</th>\n      <th>ZINC  STAR T-LIGHT HOLDER</th>\n      <th>ZINC FOLKART SLEIGH BELLS</th>\n      <th>ZINC HERB GARDEN CONTAINER</th>\n      <th>ZINC METAL HEART DECORATION</th>\n      <th>ZINC T-LIGHT HOLDER STAR LARGE</th>\n      <th>ZINC T-LIGHT HOLDER STARS SMALL</th>\n    </tr>\n    <tr>\n      <th>InvoiceNo</th>\n      <th></th>\n      <th></th>\n      <th></th>\n      <th></th>\n      <th></th>\n      <th></th>\n      <th></th>\n      <th></th>\n      <th></th>\n      <th></th>\n      <th></th>\n      <th></th>\n      <th></th>\n      <th></th>\n      <th></th>\n      <th></th>\n      <th></th>\n      <th></th>\n      <th></th>\n      <th></th>\n      <th></th>\n    </tr>\n  </thead>\n  <tbody>\n    <tr>\n      <th>536370</th>\n      <td>0</td>\n      <td>0</td>\n      <td>0</td>\n      <td>0</td>\n      <td>1</td>\n      <td>0</td>\n      <td>0</td>\n      <td>0</td>\n      <td>0</td>\n      <td>0</td>\n      <td>...</td>\n      <td>0</td>\n      <td>0</td>\n      <td>0</td>\n      <td>0</td>\n      <td>0</td>\n      <td>0</td>\n      <td>0</td>\n      <td>0</td>\n      <td>0</td>\n      <td>0</td>\n    </tr>\n    <tr>\n      <th>536852</th>\n      <td>0</td>\n      <td>0</td>\n      <td>0</td>\n      <td>0</td>\n      <td>0</td>\n      <td>0</td>\n      <td>0</td>\n      <td>0</td>\n      <td>0</td>\n      <td>0</td>\n      <td>...</td>\n      <td>0</td>\n      <td>0</td>\n      <td>0</td>\n      <td>0</td>\n      <td>0</td>\n      <td>0</td>\n      <td>0</td>\n      <td>0</td>\n      <td>0</td>\n      <td>0</td>\n    </tr>\n    <tr>\n      <th>536974</th>\n      <td>0</td>\n      <td>0</td>\n      <td>0</td>\n      <td>0</td>\n      <td>0</td>\n      <td>0</td>\n      <td>0</td>\n      <td>0</td>\n      <td>0</td>\n      <td>0</td>\n      <td>...</td>\n      <td>0</td>\n      <td>0</td>\n      <td>0</td>\n      <td>0</td>\n      <td>0</td>\n      <td>0</td>\n      <td>0</td>\n      <td>0</td>\n      <td>0</td>\n      <td>0</td>\n    </tr>\n    <tr>\n      <th>537065</th>\n      <td>0</td>\n      <td>0</td>\n      <td>0</td>\n      <td>0</td>\n      <td>0</td>\n      <td>0</td>\n      <td>0</td>\n      <td>0</td>\n      <td>0</td>\n      <td>0</td>\n      <td>...</td>\n      <td>0</td>\n      <td>0</td>\n      <td>0</td>\n      <td>0</td>\n      <td>0</td>\n      <td>0</td>\n      <td>0</td>\n      <td>0</td>\n      <td>0</td>\n      <td>0</td>\n    </tr>\n    <tr>\n      <th>537463</th>\n      <td>0</td>\n      <td>0</td>\n      <td>0</td>\n      <td>0</td>\n      <td>0</td>\n      <td>0</td>\n      <td>0</td>\n      <td>0</td>\n      <td>0</td>\n      <td>0</td>\n      <td>...</td>\n      <td>0</td>\n      <td>0</td>\n      <td>0</td>\n      <td>0</td>\n      <td>0</td>\n      <td>0</td>\n      <td>0</td>\n      <td>0</td>\n      <td>0</td>\n      <td>0</td>\n    </tr>\n  </tbody>\n</table>\n<p>5 rows × 1564 columns</p>\n</div>"
     },
     "execution_count": 20,
     "metadata": {},
     "output_type": "execute_result"
    }
   ],
   "source": [
    "#编写函数进行数据转化，空值为0 ，有数字为1；\n",
    "def trans(x):\n",
    "    if x>0:\n",
    "        return 1\n",
    "    else:\n",
    "        return 0\n",
    "data_pivot = data_pivot.applymap(trans)\n",
    "data_pivot.head()"
   ],
   "metadata": {
    "collapsed": false
   }
  },
  {
   "cell_type": "code",
   "execution_count": 19,
   "outputs": [
    {
     "data": {
      "text/plain": "(392, 1564)"
     },
     "execution_count": 19,
     "metadata": {},
     "output_type": "execute_result"
    }
   ],
   "source": [
    "data_pivot.shape"
   ],
   "metadata": {
    "collapsed": false
   }
  },
  {
   "cell_type": "code",
   "execution_count": 18,
   "outputs": [
    {
     "data": {
      "text/plain": "Description   50'S CHRISTMAS GIFT BAG LARGE   DOLLY GIRL BEAKER  \\\nInvoiceNo                                                         \n536370                                  NaN                 NaN   \n536852                                  NaN                 NaN   \n536974                                  NaN                 NaN   \n537065                                  NaN                 NaN   \n537463                                  NaN                 NaN   \n\nDescription   I LOVE LONDON MINI BACKPACK   NINE DRAWER OFFICE TIDY  \\\nInvoiceNo                                                             \n536370                                NaN                       NaN   \n536852                                NaN                       NaN   \n536974                                NaN                       NaN   \n537065                                NaN                       NaN   \n537463                                NaN                       NaN   \n\nDescription   SET 2 TEA TOWELS I LOVE LONDON    SPACEBOY BABY GIFT SET  \\\nInvoiceNo                                                                \n536370                                   24.0                      NaN   \n536852                                    NaN                      NaN   \n536974                                    NaN                      NaN   \n537065                                    NaN                      NaN   \n537463                                    NaN                      NaN   \n\nDescription   TRELLIS COAT RACK  10 COLOUR SPACEBOY PEN  \\\nInvoiceNo                                                 \n536370                      NaN                     NaN   \n536852                      NaN                     NaN   \n536974                      NaN                     NaN   \n537065                      NaN                     NaN   \n537463                      NaN                     NaN   \n\nDescription  12 COLOURED PARTY BALLOONS  12 EGG HOUSE PAINTED WOOD  ...  \\\nInvoiceNo                                                           ...   \n536370                              NaN                        NaN  ...   \n536852                              NaN                        NaN  ...   \n536974                              NaN                        NaN  ...   \n537065                              NaN                        NaN  ...   \n537463                              NaN                        NaN  ...   \n\nDescription  WRAP VINTAGE PETALS  DESIGN  YELLOW COAT RACK PARIS FASHION  \\\nInvoiceNo                                                                  \n536370                               NaN                             NaN   \n536852                               NaN                             NaN   \n536974                               NaN                             NaN   \n537065                               NaN                             NaN   \n537463                               NaN                             NaN   \n\nDescription  YELLOW GIANT GARDEN THERMOMETER  YELLOW SHARK HELICOPTER  \\\nInvoiceNo                                                               \n536370                                   NaN                      NaN   \n536852                                   NaN                      NaN   \n536974                                   NaN                      NaN   \n537065                                   NaN                      NaN   \n537463                                   NaN                      NaN   \n\nDescription  ZINC  STAR T-LIGHT HOLDER   ZINC FOLKART SLEIGH BELLS  \\\nInvoiceNo                                                            \n536370                              NaN                        NaN   \n536852                              NaN                        NaN   \n536974                              NaN                        NaN   \n537065                              NaN                        NaN   \n537463                              NaN                        NaN   \n\nDescription  ZINC HERB GARDEN CONTAINER  ZINC METAL HEART DECORATION  \\\nInvoiceNo                                                              \n536370                              NaN                          NaN   \n536852                              NaN                          NaN   \n536974                              NaN                          NaN   \n537065                              NaN                          NaN   \n537463                              NaN                          NaN   \n\nDescription  ZINC T-LIGHT HOLDER STAR LARGE  ZINC T-LIGHT HOLDER STARS SMALL  \nInvoiceNo                                                                     \n536370                                  NaN                              NaN  \n536852                                  NaN                              NaN  \n536974                                  NaN                              NaN  \n537065                                  NaN                              NaN  \n537463                                  NaN                              NaN  \n\n[5 rows x 1564 columns]",
      "text/html": "<div>\n<style scoped>\n    .dataframe tbody tr th:only-of-type {\n        vertical-align: middle;\n    }\n\n    .dataframe tbody tr th {\n        vertical-align: top;\n    }\n\n    .dataframe thead th {\n        text-align: right;\n    }\n</style>\n<table border=\"1\" class=\"dataframe\">\n  <thead>\n    <tr style=\"text-align: right;\">\n      <th>Description</th>\n      <th>50'S CHRISTMAS GIFT BAG LARGE</th>\n      <th>DOLLY GIRL BEAKER</th>\n      <th>I LOVE LONDON MINI BACKPACK</th>\n      <th>NINE DRAWER OFFICE TIDY</th>\n      <th>SET 2 TEA TOWELS I LOVE LONDON</th>\n      <th>SPACEBOY BABY GIFT SET</th>\n      <th>TRELLIS COAT RACK</th>\n      <th>10 COLOUR SPACEBOY PEN</th>\n      <th>12 COLOURED PARTY BALLOONS</th>\n      <th>12 EGG HOUSE PAINTED WOOD</th>\n      <th>...</th>\n      <th>WRAP VINTAGE PETALS  DESIGN</th>\n      <th>YELLOW COAT RACK PARIS FASHION</th>\n      <th>YELLOW GIANT GARDEN THERMOMETER</th>\n      <th>YELLOW SHARK HELICOPTER</th>\n      <th>ZINC  STAR T-LIGHT HOLDER</th>\n      <th>ZINC FOLKART SLEIGH BELLS</th>\n      <th>ZINC HERB GARDEN CONTAINER</th>\n      <th>ZINC METAL HEART DECORATION</th>\n      <th>ZINC T-LIGHT HOLDER STAR LARGE</th>\n      <th>ZINC T-LIGHT HOLDER STARS SMALL</th>\n    </tr>\n    <tr>\n      <th>InvoiceNo</th>\n      <th></th>\n      <th></th>\n      <th></th>\n      <th></th>\n      <th></th>\n      <th></th>\n      <th></th>\n      <th></th>\n      <th></th>\n      <th></th>\n      <th></th>\n      <th></th>\n      <th></th>\n      <th></th>\n      <th></th>\n      <th></th>\n      <th></th>\n      <th></th>\n      <th></th>\n      <th></th>\n      <th></th>\n    </tr>\n  </thead>\n  <tbody>\n    <tr>\n      <th>536370</th>\n      <td>NaN</td>\n      <td>NaN</td>\n      <td>NaN</td>\n      <td>NaN</td>\n      <td>24.0</td>\n      <td>NaN</td>\n      <td>NaN</td>\n      <td>NaN</td>\n      <td>NaN</td>\n      <td>NaN</td>\n      <td>...</td>\n      <td>NaN</td>\n      <td>NaN</td>\n      <td>NaN</td>\n      <td>NaN</td>\n      <td>NaN</td>\n      <td>NaN</td>\n      <td>NaN</td>\n      <td>NaN</td>\n      <td>NaN</td>\n      <td>NaN</td>\n    </tr>\n    <tr>\n      <th>536852</th>\n      <td>NaN</td>\n      <td>NaN</td>\n      <td>NaN</td>\n      <td>NaN</td>\n      <td>NaN</td>\n      <td>NaN</td>\n      <td>NaN</td>\n      <td>NaN</td>\n      <td>NaN</td>\n      <td>NaN</td>\n      <td>...</td>\n      <td>NaN</td>\n      <td>NaN</td>\n      <td>NaN</td>\n      <td>NaN</td>\n      <td>NaN</td>\n      <td>NaN</td>\n      <td>NaN</td>\n      <td>NaN</td>\n      <td>NaN</td>\n      <td>NaN</td>\n    </tr>\n    <tr>\n      <th>536974</th>\n      <td>NaN</td>\n      <td>NaN</td>\n      <td>NaN</td>\n      <td>NaN</td>\n      <td>NaN</td>\n      <td>NaN</td>\n      <td>NaN</td>\n      <td>NaN</td>\n      <td>NaN</td>\n      <td>NaN</td>\n      <td>...</td>\n      <td>NaN</td>\n      <td>NaN</td>\n      <td>NaN</td>\n      <td>NaN</td>\n      <td>NaN</td>\n      <td>NaN</td>\n      <td>NaN</td>\n      <td>NaN</td>\n      <td>NaN</td>\n      <td>NaN</td>\n    </tr>\n    <tr>\n      <th>537065</th>\n      <td>NaN</td>\n      <td>NaN</td>\n      <td>NaN</td>\n      <td>NaN</td>\n      <td>NaN</td>\n      <td>NaN</td>\n      <td>NaN</td>\n      <td>NaN</td>\n      <td>NaN</td>\n      <td>NaN</td>\n      <td>...</td>\n      <td>NaN</td>\n      <td>NaN</td>\n      <td>NaN</td>\n      <td>NaN</td>\n      <td>NaN</td>\n      <td>NaN</td>\n      <td>NaN</td>\n      <td>NaN</td>\n      <td>NaN</td>\n      <td>NaN</td>\n    </tr>\n    <tr>\n      <th>537463</th>\n      <td>NaN</td>\n      <td>NaN</td>\n      <td>NaN</td>\n      <td>NaN</td>\n      <td>NaN</td>\n      <td>NaN</td>\n      <td>NaN</td>\n      <td>NaN</td>\n      <td>NaN</td>\n      <td>NaN</td>\n      <td>...</td>\n      <td>NaN</td>\n      <td>NaN</td>\n      <td>NaN</td>\n      <td>NaN</td>\n      <td>NaN</td>\n      <td>NaN</td>\n      <td>NaN</td>\n      <td>NaN</td>\n      <td>NaN</td>\n      <td>NaN</td>\n    </tr>\n  </tbody>\n</table>\n<p>5 rows × 1564 columns</p>\n</div>"
     },
     "execution_count": 18,
     "metadata": {},
     "output_type": "execute_result"
    }
   ],
   "source": [
    "#透视表，这个功能用于数据变化，把生个ID的商品聚合在一起\n",
    "data_pivot = data_France.pivot_table(index='InvoiceNo',columns='Description',values='Quantity')\n",
    "data_pivot.head()"
   ],
   "metadata": {
    "collapsed": false
   }
  },
  {
   "cell_type": "code",
   "execution_count": 17,
   "outputs": [
    {
     "data": {
      "text/plain": "   InvoiceNo StockCode                      Description  Quantity  \\\n26    536370     22728        ALARM CLOCK BAKELIKE PINK        24   \n27    536370     22727        ALARM CLOCK BAKELIKE RED         24   \n28    536370     22726       ALARM CLOCK BAKELIKE GREEN        12   \n29    536370     21724  PANDA AND BUNNIES STICKER SHEET        12   \n30    536370     21883                 STARS GIFT TAPE         24   \n\n           InvoiceDate  UnitPrice  CustomerID Country  \n26 2010-12-01 08:45:00       3.75     12583.0  France  \n27 2010-12-01 08:45:00       3.75     12583.0  France  \n28 2010-12-01 08:45:00       3.75     12583.0  France  \n29 2010-12-01 08:45:00       0.85     12583.0  France  \n30 2010-12-01 08:45:00       0.65     12583.0  France  ",
      "text/html": "<div>\n<style scoped>\n    .dataframe tbody tr th:only-of-type {\n        vertical-align: middle;\n    }\n\n    .dataframe tbody tr th {\n        vertical-align: top;\n    }\n\n    .dataframe thead th {\n        text-align: right;\n    }\n</style>\n<table border=\"1\" class=\"dataframe\">\n  <thead>\n    <tr style=\"text-align: right;\">\n      <th></th>\n      <th>InvoiceNo</th>\n      <th>StockCode</th>\n      <th>Description</th>\n      <th>Quantity</th>\n      <th>InvoiceDate</th>\n      <th>UnitPrice</th>\n      <th>CustomerID</th>\n      <th>Country</th>\n    </tr>\n  </thead>\n  <tbody>\n    <tr>\n      <th>26</th>\n      <td>536370</td>\n      <td>22728</td>\n      <td>ALARM CLOCK BAKELIKE PINK</td>\n      <td>24</td>\n      <td>2010-12-01 08:45:00</td>\n      <td>3.75</td>\n      <td>12583.0</td>\n      <td>France</td>\n    </tr>\n    <tr>\n      <th>27</th>\n      <td>536370</td>\n      <td>22727</td>\n      <td>ALARM CLOCK BAKELIKE RED</td>\n      <td>24</td>\n      <td>2010-12-01 08:45:00</td>\n      <td>3.75</td>\n      <td>12583.0</td>\n      <td>France</td>\n    </tr>\n    <tr>\n      <th>28</th>\n      <td>536370</td>\n      <td>22726</td>\n      <td>ALARM CLOCK BAKELIKE GREEN</td>\n      <td>12</td>\n      <td>2010-12-01 08:45:00</td>\n      <td>3.75</td>\n      <td>12583.0</td>\n      <td>France</td>\n    </tr>\n    <tr>\n      <th>29</th>\n      <td>536370</td>\n      <td>21724</td>\n      <td>PANDA AND BUNNIES STICKER SHEET</td>\n      <td>12</td>\n      <td>2010-12-01 08:45:00</td>\n      <td>0.85</td>\n      <td>12583.0</td>\n      <td>France</td>\n    </tr>\n    <tr>\n      <th>30</th>\n      <td>536370</td>\n      <td>21883</td>\n      <td>STARS GIFT TAPE</td>\n      <td>24</td>\n      <td>2010-12-01 08:45:00</td>\n      <td>0.65</td>\n      <td>12583.0</td>\n      <td>France</td>\n    </tr>\n  </tbody>\n</table>\n</div>"
     },
     "execution_count": 17,
     "metadata": {},
     "output_type": "execute_result"
    }
   ],
   "source": [
    "data_France.head()"
   ],
   "metadata": {
    "collapsed": false
   }
  },
  {
   "cell_type": "code",
   "execution_count": 16,
   "outputs": [
    {
     "data": {
      "text/plain": "(8408, 8)"
     },
     "execution_count": 16,
     "metadata": {},
     "output_type": "execute_result"
    }
   ],
   "source": [
    "#只选择法国\n",
    "data_France = data_c[data_c['Country']=='France']\n",
    "data_France.shape"
   ],
   "metadata": {
    "collapsed": false
   }
  },
  {
   "cell_type": "code",
   "execution_count": 15,
   "outputs": [
    {
     "data": {
      "text/plain": "(540455, 8)"
     },
     "execution_count": 15,
     "metadata": {},
     "output_type": "execute_result"
    },
    {
     "data": {
      "text/plain": "(531167, 8)"
     },
     "execution_count": 15,
     "metadata": {},
     "output_type": "execute_result"
    }
   ],
   "source": [
    "#去除发票C开头的发票编号，因为是退货的订单号，需要删除\n",
    "data.shape\n",
    "#加~取反\n",
    "data_c = data.loc[~data['InvoiceNo'].astype(str).str.contains('C')]\n",
    "data_c.shape"
   ],
   "metadata": {
    "collapsed": false
   }
  },
  {
   "cell_type": "code",
   "execution_count": 13,
   "outputs": [
    {
     "data": {
      "text/plain": "0          WHITE HANGING HEART T-LIGHT HOLDER\n1                         WHITE METAL LANTERN\n2              CREAM CUPID HEARTS COAT HANGER\n3         KNITTED UNION FLAG HOT WATER BOTTLE\n4              RED WOOLLY HOTTIE WHITE HEART.\n                         ...                 \n541904            PACK OF 20 SPACEBOY NAPKINS\n541905            CHILDREN'S APRON DOLLY GIRL\n541906           CHILDRENS CUTLERY DOLLY GIRL\n541907        CHILDRENS CUTLERY CIRCUS PARADE\n541908           BAKING SET 9 PIECE RETROSPOT\nName: Description, Length: 540455, dtype: object"
     },
     "execution_count": 13,
     "metadata": {},
     "output_type": "execute_result"
    }
   ],
   "source": [
    "#删除字符串前后的空格，避免不是同一个商品\n",
    "data['Description'].str.strip()"
   ],
   "metadata": {
    "collapsed": false
   }
  },
  {
   "cell_type": "code",
   "execution_count": 12,
   "outputs": [
    {
     "data": {
      "text/plain": "(540455, 8)"
     },
     "execution_count": 12,
     "metadata": {},
     "output_type": "execute_result"
    },
    {
     "name": "stdout",
     "output_type": "stream",
     "text": [
      "<class 'pandas.core.frame.DataFrame'>\n",
      "Int64Index: 540455 entries, 0 to 541908\n",
      "Data columns (total 8 columns):\n",
      " #   Column       Non-Null Count   Dtype         \n",
      "---  ------       --------------   -----         \n",
      " 0   InvoiceNo    540455 non-null  object        \n",
      " 1   StockCode    540455 non-null  object        \n",
      " 2   Description  540455 non-null  object        \n",
      " 3   Quantity     540455 non-null  int64         \n",
      " 4   InvoiceDate  540455 non-null  datetime64[ns]\n",
      " 5   UnitPrice    540455 non-null  float64       \n",
      " 6   CustomerID   406829 non-null  float64       \n",
      " 7   Country      540455 non-null  object        \n",
      "dtypes: datetime64[ns](1), float64(2), int64(1), object(4)\n",
      "memory usage: 37.1+ MB\n"
     ]
    }
   ],
   "source": [
    "data = df.dropna(subset=['Description'],axis=0)\n",
    "# data = df.copy().dropna(subset=['Description'],axis=0)\n",
    "data.shape\n",
    "data.info()"
   ],
   "metadata": {
    "collapsed": false
   }
  },
  {
   "cell_type": "code",
   "execution_count": 6,
   "outputs": [
    {
     "data": {
      "text/plain": "  InvoiceNo StockCode                          Description  Quantity  \\\n0    536365    85123A   WHITE HANGING HEART T-LIGHT HOLDER         6   \n1    536365     71053                  WHITE METAL LANTERN         6   \n2    536365    84406B       CREAM CUPID HEARTS COAT HANGER         8   \n3    536365    84029G  KNITTED UNION FLAG HOT WATER BOTTLE         6   \n4    536365    84029E       RED WOOLLY HOTTIE WHITE HEART.         6   \n\n          InvoiceDate  UnitPrice  CustomerID         Country  \n0 2010-12-01 08:26:00       2.55     17850.0  United Kingdom  \n1 2010-12-01 08:26:00       3.39     17850.0  United Kingdom  \n2 2010-12-01 08:26:00       2.75     17850.0  United Kingdom  \n3 2010-12-01 08:26:00       3.39     17850.0  United Kingdom  \n4 2010-12-01 08:26:00       3.39     17850.0  United Kingdom  ",
      "text/html": "<div>\n<style scoped>\n    .dataframe tbody tr th:only-of-type {\n        vertical-align: middle;\n    }\n\n    .dataframe tbody tr th {\n        vertical-align: top;\n    }\n\n    .dataframe thead th {\n        text-align: right;\n    }\n</style>\n<table border=\"1\" class=\"dataframe\">\n  <thead>\n    <tr style=\"text-align: right;\">\n      <th></th>\n      <th>InvoiceNo</th>\n      <th>StockCode</th>\n      <th>Description</th>\n      <th>Quantity</th>\n      <th>InvoiceDate</th>\n      <th>UnitPrice</th>\n      <th>CustomerID</th>\n      <th>Country</th>\n    </tr>\n  </thead>\n  <tbody>\n    <tr>\n      <th>0</th>\n      <td>536365</td>\n      <td>85123A</td>\n      <td>WHITE HANGING HEART T-LIGHT HOLDER</td>\n      <td>6</td>\n      <td>2010-12-01 08:26:00</td>\n      <td>2.55</td>\n      <td>17850.0</td>\n      <td>United Kingdom</td>\n    </tr>\n    <tr>\n      <th>1</th>\n      <td>536365</td>\n      <td>71053</td>\n      <td>WHITE METAL LANTERN</td>\n      <td>6</td>\n      <td>2010-12-01 08:26:00</td>\n      <td>3.39</td>\n      <td>17850.0</td>\n      <td>United Kingdom</td>\n    </tr>\n    <tr>\n      <th>2</th>\n      <td>536365</td>\n      <td>84406B</td>\n      <td>CREAM CUPID HEARTS COAT HANGER</td>\n      <td>8</td>\n      <td>2010-12-01 08:26:00</td>\n      <td>2.75</td>\n      <td>17850.0</td>\n      <td>United Kingdom</td>\n    </tr>\n    <tr>\n      <th>3</th>\n      <td>536365</td>\n      <td>84029G</td>\n      <td>KNITTED UNION FLAG HOT WATER BOTTLE</td>\n      <td>6</td>\n      <td>2010-12-01 08:26:00</td>\n      <td>3.39</td>\n      <td>17850.0</td>\n      <td>United Kingdom</td>\n    </tr>\n    <tr>\n      <th>4</th>\n      <td>536365</td>\n      <td>84029E</td>\n      <td>RED WOOLLY HOTTIE WHITE HEART.</td>\n      <td>6</td>\n      <td>2010-12-01 08:26:00</td>\n      <td>3.39</td>\n      <td>17850.0</td>\n      <td>United Kingdom</td>\n    </tr>\n  </tbody>\n</table>\n</div>"
     },
     "execution_count": 6,
     "metadata": {},
     "output_type": "execute_result"
    }
   ],
   "source": [
    "df.head()\n",
    "#"
   ],
   "metadata": {
    "collapsed": false
   }
  },
  {
   "cell_type": "code",
   "execution_count": 8,
   "outputs": [
    {
     "data": {
      "text/plain": "(541909, 8)"
     },
     "execution_count": 8,
     "metadata": {},
     "output_type": "execute_result"
    }
   ],
   "source": [
    "df.shape"
   ],
   "metadata": {
    "collapsed": false
   }
  },
  {
   "cell_type": "code",
   "execution_count": null,
   "outputs": [],
   "source": [
    "df = pd.read_excel('Online Retail.xlsx')"
   ],
   "metadata": {
    "collapsed": false,
    "pycharm": {
     "is_executing": true
    }
   }
  },
  {
   "cell_type": "code",
   "execution_count": null,
   "outputs": [],
   "source": [
    "import numpy as np\n",
    "import pandas as pd\n",
    "import matplotlib.pylab as plt\n",
    "import warnings\n",
    "warnings.filterwarnings('ignore')\n",
    "import os\n",
    "os.chdir(r'C:\\Data\\Jupyter_file\\机器学习')"
   ],
   "metadata": {
    "collapsed": false,
    "pycharm": {
     "is_executing": true
    }
   }
  },
  {
   "cell_type": "code",
   "execution_count": 2,
   "outputs": [],
   "source": [
    "from IPython.core.interactiveshell import InteractiveShell\n",
    "InteractiveShell.ast_node_interactivity = \"all\""
   ],
   "metadata": {
    "collapsed": false
   }
  }
 ],
 "metadata": {
  "kernelspec": {
   "display_name": "Python 3",
   "language": "python",
   "name": "python3"
  },
  "language_info": {
   "codemirror_mode": {
    "name": "ipython",
    "version": 2
   },
   "file_extension": ".py",
   "mimetype": "text/x-python",
   "name": "python",
   "nbconvert_exporter": "python",
   "pygments_lexer": "ipython2",
   "version": "2.7.6"
  }
 },
 "nbformat": 4,
 "nbformat_minor": 0
}
