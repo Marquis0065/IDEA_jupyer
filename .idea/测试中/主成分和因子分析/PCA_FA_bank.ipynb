{
 "cells": [
  {
   "cell_type": "code",
   "execution_count": 37,
   "outputs": [
    {
     "data": {
      "text/plain": "              ID  CNT_TBM  CNT_ATM  CNT_POS  CNT_CSC  CNT_TOT   ATM-POS  \\\n0          41360       34        3        3        9       49 -0.852354   \n1          52094       44       17        5       18       84 -0.333078   \n2          57340      122       26       32       36      216  0.918067   \n3          76885       42        3        6        1       52 -0.741847   \n4          89150       20       15        2        2       39 -0.499703   \n...          ...      ...      ...      ...      ...      ...       ...   \n99995  875638608       24        6        2        1       33 -0.788934   \n99996  875656523       79        9        2        7       97 -0.692379   \n99997  875663288       44      111       57        9      221  4.555096   \n99998  875670226       10        5        2        1       18 -0.821689   \n99999  875674475      128       18       20        1      167  0.244870   \n\n            TBM       CSC  \n0     -0.294938  0.143935  \n1     -0.244334  0.939343  \n2      0.593787  2.349496  \n3     -0.210507 -0.521592  \n4     -0.492714 -0.367629  \n...         ...       ...  \n99995 -0.415017 -0.492244  \n99996  0.115718  0.016816  \n99997 -0.466002  0.442345  \n99998 -0.548095 -0.498124  \n99999  0.620304 -0.500168  \n\n[100000 rows x 9 columns]",
      "text/html": "<div>\n<style scoped>\n    .dataframe tbody tr th:only-of-type {\n        vertical-align: middle;\n    }\n\n    .dataframe tbody tr th {\n        vertical-align: top;\n    }\n\n    .dataframe thead th {\n        text-align: right;\n    }\n</style>\n<table border=\"1\" class=\"dataframe\">\n  <thead>\n    <tr style=\"text-align: right;\">\n      <th></th>\n      <th>ID</th>\n      <th>CNT_TBM</th>\n      <th>CNT_ATM</th>\n      <th>CNT_POS</th>\n      <th>CNT_CSC</th>\n      <th>CNT_TOT</th>\n      <th>ATM-POS</th>\n      <th>TBM</th>\n      <th>CSC</th>\n    </tr>\n  </thead>\n  <tbody>\n    <tr>\n      <th>0</th>\n      <td>41360</td>\n      <td>34</td>\n      <td>3</td>\n      <td>3</td>\n      <td>9</td>\n      <td>49</td>\n      <td>-0.852354</td>\n      <td>-0.294938</td>\n      <td>0.143935</td>\n    </tr>\n    <tr>\n      <th>1</th>\n      <td>52094</td>\n      <td>44</td>\n      <td>17</td>\n      <td>5</td>\n      <td>18</td>\n      <td>84</td>\n      <td>-0.333078</td>\n      <td>-0.244334</td>\n      <td>0.939343</td>\n    </tr>\n    <tr>\n      <th>2</th>\n      <td>57340</td>\n      <td>122</td>\n      <td>26</td>\n      <td>32</td>\n      <td>36</td>\n      <td>216</td>\n      <td>0.918067</td>\n      <td>0.593787</td>\n      <td>2.349496</td>\n    </tr>\n    <tr>\n      <th>3</th>\n      <td>76885</td>\n      <td>42</td>\n      <td>3</td>\n      <td>6</td>\n      <td>1</td>\n      <td>52</td>\n      <td>-0.741847</td>\n      <td>-0.210507</td>\n      <td>-0.521592</td>\n    </tr>\n    <tr>\n      <th>4</th>\n      <td>89150</td>\n      <td>20</td>\n      <td>15</td>\n      <td>2</td>\n      <td>2</td>\n      <td>39</td>\n      <td>-0.499703</td>\n      <td>-0.492714</td>\n      <td>-0.367629</td>\n    </tr>\n    <tr>\n      <th>...</th>\n      <td>...</td>\n      <td>...</td>\n      <td>...</td>\n      <td>...</td>\n      <td>...</td>\n      <td>...</td>\n      <td>...</td>\n      <td>...</td>\n      <td>...</td>\n    </tr>\n    <tr>\n      <th>99995</th>\n      <td>875638608</td>\n      <td>24</td>\n      <td>6</td>\n      <td>2</td>\n      <td>1</td>\n      <td>33</td>\n      <td>-0.788934</td>\n      <td>-0.415017</td>\n      <td>-0.492244</td>\n    </tr>\n    <tr>\n      <th>99996</th>\n      <td>875656523</td>\n      <td>79</td>\n      <td>9</td>\n      <td>2</td>\n      <td>7</td>\n      <td>97</td>\n      <td>-0.692379</td>\n      <td>0.115718</td>\n      <td>0.016816</td>\n    </tr>\n    <tr>\n      <th>99997</th>\n      <td>875663288</td>\n      <td>44</td>\n      <td>111</td>\n      <td>57</td>\n      <td>9</td>\n      <td>221</td>\n      <td>4.555096</td>\n      <td>-0.466002</td>\n      <td>0.442345</td>\n    </tr>\n    <tr>\n      <th>99998</th>\n      <td>875670226</td>\n      <td>10</td>\n      <td>5</td>\n      <td>2</td>\n      <td>1</td>\n      <td>18</td>\n      <td>-0.821689</td>\n      <td>-0.548095</td>\n      <td>-0.498124</td>\n    </tr>\n    <tr>\n      <th>99999</th>\n      <td>875674475</td>\n      <td>128</td>\n      <td>18</td>\n      <td>20</td>\n      <td>1</td>\n      <td>167</td>\n      <td>0.244870</td>\n      <td>0.620304</td>\n      <td>-0.500168</td>\n    </tr>\n  </tbody>\n</table>\n<p>100000 rows × 9 columns</p>\n</div>"
     },
     "execution_count": 37,
     "metadata": {},
     "output_type": "execute_result"
    }
   ],
   "source": [
    "score = fa.get_component_scores(st_data)\n",
    "bank_fa=pd.concat([df, pd.DataFrame(score)], axis=1)\n",
    "bank_fa= bank_fa.rename(columns={0: \"ATM-POS\", 1:\"TBM\", 2:\"CSC\"})\n",
    "bank_fa"
   ],
   "metadata": {
    "collapsed": false
   }
  },
  {
   "cell_type": "code",
   "execution_count": 33,
   "outputs": [
    {
     "data": {
      "text/plain": "array([0, 1, 2], dtype=int64)"
     },
     "execution_count": 33,
     "metadata": {},
     "output_type": "execute_result"
    },
    {
     "data": {
      "text/plain": "          0         1         2\n0  0.004039  0.992900  0.007811\n1  0.671476 -0.090569  0.100081\n2  0.741002  0.076706 -0.084707\n3 -0.004504  0.007874  0.991336",
      "text/html": "<div>\n<style scoped>\n    .dataframe tbody tr th:only-of-type {\n        vertical-align: middle;\n    }\n\n    .dataframe tbody tr th {\n        vertical-align: top;\n    }\n\n    .dataframe thead th {\n        text-align: right;\n    }\n</style>\n<table border=\"1\" class=\"dataframe\">\n  <thead>\n    <tr style=\"text-align: right;\">\n      <th></th>\n      <th>0</th>\n      <th>1</th>\n      <th>2</th>\n    </tr>\n  </thead>\n  <tbody>\n    <tr>\n      <th>0</th>\n      <td>0.004039</td>\n      <td>0.992900</td>\n      <td>0.007811</td>\n    </tr>\n    <tr>\n      <th>1</th>\n      <td>0.671476</td>\n      <td>-0.090569</td>\n      <td>0.100081</td>\n    </tr>\n    <tr>\n      <th>2</th>\n      <td>0.741002</td>\n      <td>0.076706</td>\n      <td>-0.084707</td>\n    </tr>\n    <tr>\n      <th>3</th>\n      <td>-0.004504</td>\n      <td>0.007874</td>\n      <td>0.991336</td>\n    </tr>\n  </tbody>\n</table>\n</div>"
     },
     "execution_count": 33,
     "metadata": {},
     "output_type": "execute_result"
    }
   ],
   "source": [
    "# 2.设定提取主成分的方式，建议使用“top_n”法\n",
    "fa.find_comps_to_retain(method='top_n', num_keep = 3)\n",
    "# 3.通过最大方差法进行因子旋转\n",
    "fa.rotate_components()\n",
    "#查看因子权重(旋转后的权重)\n",
    "pd.DataFrame(fa.comps['rot'])"
   ],
   "metadata": {
    "collapsed": false
   }
  },
  {
   "cell_type": "code",
   "execution_count": 31,
   "outputs": [],
   "source": [
    "# 因子分析   pip install fa_kit\n",
    "from fa_kit import FactorAnalysis\n",
    "from fa_kit import plotting as fa_plotting\n",
    "fa = FactorAnalysis.load_data_samples(\n",
    "    st_data,     #标准化数据\n",
    "    preproc_demean=True,\n",
    "    preproc_scale=True\n",
    ")\n",
    "fa.extract_components()"
   ],
   "metadata": {
    "collapsed": false
   }
  },
  {
   "cell_type": "code",
   "execution_count": 15,
   "outputs": [],
   "source": [
    "# 计算得分\n",
    "score = pd.DataFrame(pca_3.fit_transform(st_data))\n",
    "bank_pca = pd.concat([df,score],axis=1)"
   ],
   "metadata": {
    "collapsed": false
   }
  },
  {
   "cell_type": "code",
   "execution_count": 30,
   "outputs": [
    {
     "data": {
      "text/plain": "          0         1         2\n0  0.303020  0.834245  0.445132\n1  0.555131 -0.377566  0.135542\n2  0.559520 -0.315486  0.386716\n3  0.535673  0.248894 -0.796201",
      "text/html": "<div>\n<style scoped>\n    .dataframe tbody tr th:only-of-type {\n        vertical-align: middle;\n    }\n\n    .dataframe tbody tr th {\n        vertical-align: top;\n    }\n\n    .dataframe thead th {\n        text-align: right;\n    }\n</style>\n<table border=\"1\" class=\"dataframe\">\n  <thead>\n    <tr style=\"text-align: right;\">\n      <th></th>\n      <th>0</th>\n      <th>1</th>\n      <th>2</th>\n    </tr>\n  </thead>\n  <tbody>\n    <tr>\n      <th>0</th>\n      <td>0.303020</td>\n      <td>0.834245</td>\n      <td>0.445132</td>\n    </tr>\n    <tr>\n      <th>1</th>\n      <td>0.555131</td>\n      <td>-0.377566</td>\n      <td>0.135542</td>\n    </tr>\n    <tr>\n      <th>2</th>\n      <td>0.559520</td>\n      <td>-0.315486</td>\n      <td>0.386716</td>\n    </tr>\n    <tr>\n      <th>3</th>\n      <td>0.535673</td>\n      <td>0.248894</td>\n      <td>-0.796201</td>\n    </tr>\n  </tbody>\n</table>\n</div>"
     },
     "execution_count": 30,
     "metadata": {},
     "output_type": "execute_result"
    }
   ],
   "source": [
    "# 查看变量特征\n",
    "pd.DataFrame(pca_3.components_.T)"
   ],
   "metadata": {
    "collapsed": false
   }
  },
  {
   "cell_type": "code",
   "execution_count": 29,
   "outputs": [
    {
     "data": {
      "text/plain": "PCA(n_components=3)",
      "text/html": "<style>#sk-container-id-4 {color: black;background-color: white;}#sk-container-id-4 pre{padding: 0;}#sk-container-id-4 div.sk-toggleable {background-color: white;}#sk-container-id-4 label.sk-toggleable__label {cursor: pointer;display: block;width: 100%;margin-bottom: 0;padding: 0.3em;box-sizing: border-box;text-align: center;}#sk-container-id-4 label.sk-toggleable__label-arrow:before {content: \"▸\";float: left;margin-right: 0.25em;color: #696969;}#sk-container-id-4 label.sk-toggleable__label-arrow:hover:before {color: black;}#sk-container-id-4 div.sk-estimator:hover label.sk-toggleable__label-arrow:before {color: black;}#sk-container-id-4 div.sk-toggleable__content {max-height: 0;max-width: 0;overflow: hidden;text-align: left;background-color: #f0f8ff;}#sk-container-id-4 div.sk-toggleable__content pre {margin: 0.2em;color: black;border-radius: 0.25em;background-color: #f0f8ff;}#sk-container-id-4 input.sk-toggleable__control:checked~div.sk-toggleable__content {max-height: 200px;max-width: 100%;overflow: auto;}#sk-container-id-4 input.sk-toggleable__control:checked~label.sk-toggleable__label-arrow:before {content: \"▾\";}#sk-container-id-4 div.sk-estimator input.sk-toggleable__control:checked~label.sk-toggleable__label {background-color: #d4ebff;}#sk-container-id-4 div.sk-label input.sk-toggleable__control:checked~label.sk-toggleable__label {background-color: #d4ebff;}#sk-container-id-4 input.sk-hidden--visually {border: 0;clip: rect(1px 1px 1px 1px);clip: rect(1px, 1px, 1px, 1px);height: 1px;margin: -1px;overflow: hidden;padding: 0;position: absolute;width: 1px;}#sk-container-id-4 div.sk-estimator {font-family: monospace;background-color: #f0f8ff;border: 1px dotted black;border-radius: 0.25em;box-sizing: border-box;margin-bottom: 0.5em;}#sk-container-id-4 div.sk-estimator:hover {background-color: #d4ebff;}#sk-container-id-4 div.sk-parallel-item::after {content: \"\";width: 100%;border-bottom: 1px solid gray;flex-grow: 1;}#sk-container-id-4 div.sk-label:hover label.sk-toggleable__label {background-color: #d4ebff;}#sk-container-id-4 div.sk-serial::before {content: \"\";position: absolute;border-left: 1px solid gray;box-sizing: border-box;top: 0;bottom: 0;left: 50%;z-index: 0;}#sk-container-id-4 div.sk-serial {display: flex;flex-direction: column;align-items: center;background-color: white;padding-right: 0.2em;padding-left: 0.2em;position: relative;}#sk-container-id-4 div.sk-item {position: relative;z-index: 1;}#sk-container-id-4 div.sk-parallel {display: flex;align-items: stretch;justify-content: center;background-color: white;position: relative;}#sk-container-id-4 div.sk-item::before, #sk-container-id-4 div.sk-parallel-item::before {content: \"\";position: absolute;border-left: 1px solid gray;box-sizing: border-box;top: 0;bottom: 0;left: 50%;z-index: -1;}#sk-container-id-4 div.sk-parallel-item {display: flex;flex-direction: column;z-index: 1;position: relative;background-color: white;}#sk-container-id-4 div.sk-parallel-item:first-child::after {align-self: flex-end;width: 50%;}#sk-container-id-4 div.sk-parallel-item:last-child::after {align-self: flex-start;width: 50%;}#sk-container-id-4 div.sk-parallel-item:only-child::after {width: 0;}#sk-container-id-4 div.sk-dashed-wrapped {border: 1px dashed gray;margin: 0 0.4em 0.5em 0.4em;box-sizing: border-box;padding-bottom: 0.4em;background-color: white;}#sk-container-id-4 div.sk-label label {font-family: monospace;font-weight: bold;display: inline-block;line-height: 1.2em;}#sk-container-id-4 div.sk-label-container {text-align: center;}#sk-container-id-4 div.sk-container {/* jupyter's `normalize.less` sets `[hidden] { display: none; }` but bootstrap.min.css set `[hidden] { display: none !important; }` so we also need the `!important` here to be able to override the default hidden behavior on the sphinx rendered scikit-learn.org. See: https://github.com/scikit-learn/scikit-learn/issues/21755 */display: inline-block !important;position: relative;}#sk-container-id-4 div.sk-text-repr-fallback {display: none;}</style><div id=\"sk-container-id-4\" class=\"sk-top-container\"><div class=\"sk-text-repr-fallback\"><pre>PCA(n_components=3)</pre><b>In a Jupyter environment, please rerun this cell to show the HTML representation or trust the notebook. <br />On GitHub, the HTML representation is unable to render, please try loading this page with nbviewer.org.</b></div><div class=\"sk-container\" hidden><div class=\"sk-item\"><div class=\"sk-estimator sk-toggleable\"><input class=\"sk-toggleable__control sk-hidden--visually\" id=\"sk-estimator-id-4\" type=\"checkbox\" checked><label for=\"sk-estimator-id-4\" class=\"sk-toggleable__label sk-toggleable__label-arrow\">PCA</label><div class=\"sk-toggleable__content\"><pre>PCA(n_components=3)</pre></div></div></div></div></div>"
     },
     "execution_count": 29,
     "metadata": {},
     "output_type": "execute_result"
    }
   ],
   "source": [
    "# 调整参数\n",
    "pca_3 = PCA(n_components=3)\n",
    "pca_3.fit(st_data)"
   ],
   "metadata": {
    "collapsed": false
   }
  },
  {
   "cell_type": "code",
   "execution_count": 28,
   "outputs": [
    {
     "data": {
      "text/plain": "array([1.60786876, 1.00252275, 0.7339482 , 0.65570029])"
     },
     "execution_count": 28,
     "metadata": {},
     "output_type": "execute_result"
    },
    {
     "data": {
      "text/plain": "array([0.40196317, 0.25062818, 0.18348521, 0.16392343])"
     },
     "execution_count": 28,
     "metadata": {},
     "output_type": "execute_result"
    }
   ],
   "source": [
    "pca.explained_variance_\n",
    "pca.explained_variance_ratio_"
   ],
   "metadata": {
    "collapsed": false
   }
  },
  {
   "cell_type": "code",
   "execution_count": 27,
   "outputs": [
    {
     "data": {
      "text/plain": "PCA(n_components=4)",
      "text/html": "<style>#sk-container-id-3 {color: black;background-color: white;}#sk-container-id-3 pre{padding: 0;}#sk-container-id-3 div.sk-toggleable {background-color: white;}#sk-container-id-3 label.sk-toggleable__label {cursor: pointer;display: block;width: 100%;margin-bottom: 0;padding: 0.3em;box-sizing: border-box;text-align: center;}#sk-container-id-3 label.sk-toggleable__label-arrow:before {content: \"▸\";float: left;margin-right: 0.25em;color: #696969;}#sk-container-id-3 label.sk-toggleable__label-arrow:hover:before {color: black;}#sk-container-id-3 div.sk-estimator:hover label.sk-toggleable__label-arrow:before {color: black;}#sk-container-id-3 div.sk-toggleable__content {max-height: 0;max-width: 0;overflow: hidden;text-align: left;background-color: #f0f8ff;}#sk-container-id-3 div.sk-toggleable__content pre {margin: 0.2em;color: black;border-radius: 0.25em;background-color: #f0f8ff;}#sk-container-id-3 input.sk-toggleable__control:checked~div.sk-toggleable__content {max-height: 200px;max-width: 100%;overflow: auto;}#sk-container-id-3 input.sk-toggleable__control:checked~label.sk-toggleable__label-arrow:before {content: \"▾\";}#sk-container-id-3 div.sk-estimator input.sk-toggleable__control:checked~label.sk-toggleable__label {background-color: #d4ebff;}#sk-container-id-3 div.sk-label input.sk-toggleable__control:checked~label.sk-toggleable__label {background-color: #d4ebff;}#sk-container-id-3 input.sk-hidden--visually {border: 0;clip: rect(1px 1px 1px 1px);clip: rect(1px, 1px, 1px, 1px);height: 1px;margin: -1px;overflow: hidden;padding: 0;position: absolute;width: 1px;}#sk-container-id-3 div.sk-estimator {font-family: monospace;background-color: #f0f8ff;border: 1px dotted black;border-radius: 0.25em;box-sizing: border-box;margin-bottom: 0.5em;}#sk-container-id-3 div.sk-estimator:hover {background-color: #d4ebff;}#sk-container-id-3 div.sk-parallel-item::after {content: \"\";width: 100%;border-bottom: 1px solid gray;flex-grow: 1;}#sk-container-id-3 div.sk-label:hover label.sk-toggleable__label {background-color: #d4ebff;}#sk-container-id-3 div.sk-serial::before {content: \"\";position: absolute;border-left: 1px solid gray;box-sizing: border-box;top: 0;bottom: 0;left: 50%;z-index: 0;}#sk-container-id-3 div.sk-serial {display: flex;flex-direction: column;align-items: center;background-color: white;padding-right: 0.2em;padding-left: 0.2em;position: relative;}#sk-container-id-3 div.sk-item {position: relative;z-index: 1;}#sk-container-id-3 div.sk-parallel {display: flex;align-items: stretch;justify-content: center;background-color: white;position: relative;}#sk-container-id-3 div.sk-item::before, #sk-container-id-3 div.sk-parallel-item::before {content: \"\";position: absolute;border-left: 1px solid gray;box-sizing: border-box;top: 0;bottom: 0;left: 50%;z-index: -1;}#sk-container-id-3 div.sk-parallel-item {display: flex;flex-direction: column;z-index: 1;position: relative;background-color: white;}#sk-container-id-3 div.sk-parallel-item:first-child::after {align-self: flex-end;width: 50%;}#sk-container-id-3 div.sk-parallel-item:last-child::after {align-self: flex-start;width: 50%;}#sk-container-id-3 div.sk-parallel-item:only-child::after {width: 0;}#sk-container-id-3 div.sk-dashed-wrapped {border: 1px dashed gray;margin: 0 0.4em 0.5em 0.4em;box-sizing: border-box;padding-bottom: 0.4em;background-color: white;}#sk-container-id-3 div.sk-label label {font-family: monospace;font-weight: bold;display: inline-block;line-height: 1.2em;}#sk-container-id-3 div.sk-label-container {text-align: center;}#sk-container-id-3 div.sk-container {/* jupyter's `normalize.less` sets `[hidden] { display: none; }` but bootstrap.min.css set `[hidden] { display: none !important; }` so we also need the `!important` here to be able to override the default hidden behavior on the sphinx rendered scikit-learn.org. See: https://github.com/scikit-learn/scikit-learn/issues/21755 */display: inline-block !important;position: relative;}#sk-container-id-3 div.sk-text-repr-fallback {display: none;}</style><div id=\"sk-container-id-3\" class=\"sk-top-container\"><div class=\"sk-text-repr-fallback\"><pre>PCA(n_components=4)</pre><b>In a Jupyter environment, please rerun this cell to show the HTML representation or trust the notebook. <br />On GitHub, the HTML representation is unable to render, please try loading this page with nbviewer.org.</b></div><div class=\"sk-container\" hidden><div class=\"sk-item\"><div class=\"sk-estimator sk-toggleable\"><input class=\"sk-toggleable__control sk-hidden--visually\" id=\"sk-estimator-id-3\" type=\"checkbox\" checked><label for=\"sk-estimator-id-3\" class=\"sk-toggleable__label sk-toggleable__label-arrow\">PCA</label><div class=\"sk-toggleable__content\"><pre>PCA(n_components=4)</pre></div></div></div></div></div>"
     },
     "execution_count": 27,
     "metadata": {},
     "output_type": "execute_result"
    }
   ],
   "source": [
    "from sklearn.decomposition import PCA\n",
    "pca = PCA(n_components=4)\n",
    "pca.fit(st_data)"
   ],
   "metadata": {
    "collapsed": false
   }
  },
  {
   "cell_type": "code",
   "execution_count": 26,
   "outputs": [],
   "source": [
    "# 作主成分前，需要数据标准化\n",
    "from sklearn import preprocessing\n",
    "st_data = preprocessing.scale(data)"
   ],
   "metadata": {
    "collapsed": false
   }
  },
  {
   "cell_type": "code",
   "execution_count": 25,
   "outputs": [
    {
     "data": {
      "text/plain": "   CNT_TBM  CNT_ATM  CNT_POS  CNT_CSC\n0       34        3        3        9\n1       44       17        5       18\n2      122       26       32       36\n3       42        3        6        1\n4       20       15        2        2",
      "text/html": "<div>\n<style scoped>\n    .dataframe tbody tr th:only-of-type {\n        vertical-align: middle;\n    }\n\n    .dataframe tbody tr th {\n        vertical-align: top;\n    }\n\n    .dataframe thead th {\n        text-align: right;\n    }\n</style>\n<table border=\"1\" class=\"dataframe\">\n  <thead>\n    <tr style=\"text-align: right;\">\n      <th></th>\n      <th>CNT_TBM</th>\n      <th>CNT_ATM</th>\n      <th>CNT_POS</th>\n      <th>CNT_CSC</th>\n    </tr>\n  </thead>\n  <tbody>\n    <tr>\n      <th>0</th>\n      <td>34</td>\n      <td>3</td>\n      <td>3</td>\n      <td>9</td>\n    </tr>\n    <tr>\n      <th>1</th>\n      <td>44</td>\n      <td>17</td>\n      <td>5</td>\n      <td>18</td>\n    </tr>\n    <tr>\n      <th>2</th>\n      <td>122</td>\n      <td>26</td>\n      <td>32</td>\n      <td>36</td>\n    </tr>\n    <tr>\n      <th>3</th>\n      <td>42</td>\n      <td>3</td>\n      <td>6</td>\n      <td>1</td>\n    </tr>\n    <tr>\n      <th>4</th>\n      <td>20</td>\n      <td>15</td>\n      <td>2</td>\n      <td>2</td>\n    </tr>\n  </tbody>\n</table>\n</div>"
     },
     "execution_count": 25,
     "metadata": {},
     "output_type": "execute_result"
    }
   ],
   "source": [
    "data = df.iloc[:,1:5]\n",
    "data.head()"
   ],
   "metadata": {
    "collapsed": false
   }
  },
  {
   "cell_type": "code",
   "execution_count": 4,
   "outputs": [
    {
     "data": {
      "text/plain": "      ID  CNT_TBM  CNT_ATM  CNT_POS  CNT_CSC  CNT_TOT\n0  41360       34        3        3        9       49\n1  52094       44       17        5       18       84\n2  57340      122       26       32       36      216\n3  76885       42        3        6        1       52\n4  89150       20       15        2        2       39",
      "text/html": "<div>\n<style scoped>\n    .dataframe tbody tr th:only-of-type {\n        vertical-align: middle;\n    }\n\n    .dataframe tbody tr th {\n        vertical-align: top;\n    }\n\n    .dataframe thead th {\n        text-align: right;\n    }\n</style>\n<table border=\"1\" class=\"dataframe\">\n  <thead>\n    <tr style=\"text-align: right;\">\n      <th></th>\n      <th>ID</th>\n      <th>CNT_TBM</th>\n      <th>CNT_ATM</th>\n      <th>CNT_POS</th>\n      <th>CNT_CSC</th>\n      <th>CNT_TOT</th>\n    </tr>\n  </thead>\n  <tbody>\n    <tr>\n      <th>0</th>\n      <td>41360</td>\n      <td>34</td>\n      <td>3</td>\n      <td>3</td>\n      <td>9</td>\n      <td>49</td>\n    </tr>\n    <tr>\n      <th>1</th>\n      <td>52094</td>\n      <td>44</td>\n      <td>17</td>\n      <td>5</td>\n      <td>18</td>\n      <td>84</td>\n    </tr>\n    <tr>\n      <th>2</th>\n      <td>57340</td>\n      <td>122</td>\n      <td>26</td>\n      <td>32</td>\n      <td>36</td>\n      <td>216</td>\n    </tr>\n    <tr>\n      <th>3</th>\n      <td>76885</td>\n      <td>42</td>\n      <td>3</td>\n      <td>6</td>\n      <td>1</td>\n      <td>52</td>\n    </tr>\n    <tr>\n      <th>4</th>\n      <td>89150</td>\n      <td>20</td>\n      <td>15</td>\n      <td>2</td>\n      <td>2</td>\n      <td>39</td>\n    </tr>\n  </tbody>\n</table>\n</div>"
     },
     "execution_count": 4,
     "metadata": {},
     "output_type": "execute_result"
    }
   ],
   "source": [
    "df = pd.read_csv('profile_bank.csv')\n",
    "df.head()"
   ],
   "metadata": {
    "collapsed": false
   }
  },
  {
   "cell_type": "code",
   "execution_count": 3,
   "outputs": [],
   "source": [
    "import matplotlib.pyplot as plt\n",
    "plt.style.use('seaborn')\n",
    "#设置字体为黑色\n",
    "plt.rcParams['font.family']='SimHei'\n",
    "#显示符号\n",
    "plt.rcParams['axes.unicode_minus']= False"
   ],
   "metadata": {
    "collapsed": false
   }
  },
  {
   "cell_type": "code",
   "execution_count": 2,
   "outputs": [],
   "source": [
    "from IPython.core.interactiveshell import InteractiveShell\n",
    "InteractiveShell.ast_node_interactivity = \"all\"\n",
    "\n",
    "import numpy as np\n",
    "import pandas as pd\n",
    "\n",
    "import warnings\n",
    "warnings.filterwarnings(\"ignore\")\n",
    "import os\n",
    "os.chdir('C:\\Data\\Jupyter_file\\统计建模\\连续变量降维')"
   ],
   "metadata": {
    "collapsed": false
   }
  }
 ],
 "metadata": {
  "kernelspec": {
   "display_name": "Python 3",
   "language": "python",
   "name": "python3"
  },
  "language_info": {
   "codemirror_mode": {
    "name": "ipython",
    "version": 2
   },
   "file_extension": ".py",
   "mimetype": "text/x-python",
   "name": "python",
   "nbconvert_exporter": "python",
   "pygments_lexer": "ipython2",
   "version": "2.7.6"
  }
 },
 "nbformat": 4,
 "nbformat_minor": 0
}
