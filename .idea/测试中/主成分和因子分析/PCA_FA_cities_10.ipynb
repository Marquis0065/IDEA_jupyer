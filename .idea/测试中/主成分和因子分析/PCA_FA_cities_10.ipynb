{
 "cells": [
  {
   "cell_type": "code",
   "execution_count": 45,
   "outputs": [
    {
     "data": {
      "text/plain": "<Figure size 800x550 with 1 Axes>",
      "image/png": "[encoded data removed]"
     },
     "metadata": {},
     "output_type": "display_data"
    }
   ],
   "source": [
    "from pylab import mpl\n",
    "mpl.rcParams['font.sans-serif'] = ['SimHei'] # 指定默认字体\n",
    "mpl.rcParams['axes.unicode_minus'] = False # 解决保存图像是负号'-'显示为方块的问题\n",
    "x=citi10_fa['Gross']\n",
    "y=citi10_fa['Avg']\n",
    "label=citi10_fa['AREA']\n",
    "plt.scatter(x, y)\n",
    "for a,b,l in zip(x,y,label):\n",
    "    plt.text(a, b+0.1, '%s.' % l, ha='center', va= 'bottom',fontsize=14)\n",
    "plt.show();"
   ],
   "metadata": {
    "collapsed": false
   }
  },
  {
   "cell_type": "code",
   "execution_count": 43,
   "outputs": [
    {
     "data": {
      "text/plain": "  AREA       X1     X2      X3      X4      X5      X6      X7      X8  \\\n8   广东  11769.7  15030  4224.6  4793.6  3022.9  1275.5  5013.6  1843.7   \n4   江苏  10636.3  14397  3536.3  3967.2  2320.0  1141.3  3215.8   384.7   \n1   山东  10550.0  11643  3502.5  3851.0  2288.7  1070.7  3181.9   211.1   \n6   浙江   7670.0  16570  2356.5  3065.0  2296.6  1180.6  2877.5   294.2   \n5   上海   5408.8  40627  2196.2  2755.8  1970.2   779.3  2035.2   320.5   \n0   辽宁   5458.2  13000  1376.2  2258.4  1315.9   529.0  2258.4   123.7   \n2   河北   6076.6   9047  1406.7  2092.6  1161.6   597.1  1968.3    45.9   \n7   福建   4682.0  13510  1047.1  1859.0   964.5   397.9  1663.3   173.7   \n3   天津   2022.6  22068   822.8   960.0   703.7   361.9   941.4   115.7   \n9   广西   2455.4   5062   367.0   995.7   542.2   352.7  1025.5    15.1   \n\n       X9     Gross       Avg  \n8  1201.6  5.501759  0.105138  \n4   643.7  2.386557 -0.337666  \n1   610.2  2.095775 -0.654819  \n6   566.9  1.209012  0.048116  \n5   709.0  0.163901  2.802894  \n0   399.7 -1.174241 -0.364178  \n2   302.3 -1.399899 -0.870629  \n7   272.9 -2.084500 -0.322173  \n3   171.8 -3.265185  0.698849  \n9   186.7 -3.433179 -1.105531  ",
      "text/html": "<div>\n<style scoped>\n    .dataframe tbody tr th:only-of-type {\n        vertical-align: middle;\n    }\n\n    .dataframe tbody tr th {\n        vertical-align: top;\n    }\n\n    .dataframe thead th {\n        text-align: right;\n    }\n</style>\n<table border=\"1\" class=\"dataframe\">\n  <thead>\n    <tr style=\"text-align: right;\">\n      <th></th>\n      <th>AREA</th>\n      <th>X1</th>\n      <th>X2</th>\n      <th>X3</th>\n      <th>X4</th>\n      <th>X5</th>\n      <th>X6</th>\n      <th>X7</th>\n      <th>X8</th>\n      <th>X9</th>\n      <th>Gross</th>\n      <th>Avg</th>\n    </tr>\n  </thead>\n  <tbody>\n    <tr>\n      <th>8</th>\n      <td>广东</td>\n      <td>11769.7</td>\n      <td>15030</td>\n      <td>4224.6</td>\n      <td>4793.6</td>\n      <td>3022.9</td>\n      <td>1275.5</td>\n      <td>5013.6</td>\n      <td>1843.7</td>\n      <td>1201.6</td>\n      <td>5.501759</td>\n      <td>0.105138</td>\n    </tr>\n    <tr>\n      <th>4</th>\n      <td>江苏</td>\n      <td>10636.3</td>\n      <td>14397</td>\n      <td>3536.3</td>\n      <td>3967.2</td>\n      <td>2320.0</td>\n      <td>1141.3</td>\n      <td>3215.8</td>\n      <td>384.7</td>\n      <td>643.7</td>\n      <td>2.386557</td>\n      <td>-0.337666</td>\n    </tr>\n    <tr>\n      <th>1</th>\n      <td>山东</td>\n      <td>10550.0</td>\n      <td>11643</td>\n      <td>3502.5</td>\n      <td>3851.0</td>\n      <td>2288.7</td>\n      <td>1070.7</td>\n      <td>3181.9</td>\n      <td>211.1</td>\n      <td>610.2</td>\n      <td>2.095775</td>\n      <td>-0.654819</td>\n    </tr>\n    <tr>\n      <th>6</th>\n      <td>浙江</td>\n      <td>7670.0</td>\n      <td>16570</td>\n      <td>2356.5</td>\n      <td>3065.0</td>\n      <td>2296.6</td>\n      <td>1180.6</td>\n      <td>2877.5</td>\n      <td>294.2</td>\n      <td>566.9</td>\n      <td>1.209012</td>\n      <td>0.048116</td>\n    </tr>\n    <tr>\n      <th>5</th>\n      <td>上海</td>\n      <td>5408.8</td>\n      <td>40627</td>\n      <td>2196.2</td>\n      <td>2755.8</td>\n      <td>1970.2</td>\n      <td>779.3</td>\n      <td>2035.2</td>\n      <td>320.5</td>\n      <td>709.0</td>\n      <td>0.163901</td>\n      <td>2.802894</td>\n    </tr>\n    <tr>\n      <th>0</th>\n      <td>辽宁</td>\n      <td>5458.2</td>\n      <td>13000</td>\n      <td>1376.2</td>\n      <td>2258.4</td>\n      <td>1315.9</td>\n      <td>529.0</td>\n      <td>2258.4</td>\n      <td>123.7</td>\n      <td>399.7</td>\n      <td>-1.174241</td>\n      <td>-0.364178</td>\n    </tr>\n    <tr>\n      <th>2</th>\n      <td>河北</td>\n      <td>6076.6</td>\n      <td>9047</td>\n      <td>1406.7</td>\n      <td>2092.6</td>\n      <td>1161.6</td>\n      <td>597.1</td>\n      <td>1968.3</td>\n      <td>45.9</td>\n      <td>302.3</td>\n      <td>-1.399899</td>\n      <td>-0.870629</td>\n    </tr>\n    <tr>\n      <th>7</th>\n      <td>福建</td>\n      <td>4682.0</td>\n      <td>13510</td>\n      <td>1047.1</td>\n      <td>1859.0</td>\n      <td>964.5</td>\n      <td>397.9</td>\n      <td>1663.3</td>\n      <td>173.7</td>\n      <td>272.9</td>\n      <td>-2.084500</td>\n      <td>-0.322173</td>\n    </tr>\n    <tr>\n      <th>3</th>\n      <td>天津</td>\n      <td>2022.6</td>\n      <td>22068</td>\n      <td>822.8</td>\n      <td>960.0</td>\n      <td>703.7</td>\n      <td>361.9</td>\n      <td>941.4</td>\n      <td>115.7</td>\n      <td>171.8</td>\n      <td>-3.265185</td>\n      <td>0.698849</td>\n    </tr>\n    <tr>\n      <th>9</th>\n      <td>广西</td>\n      <td>2455.4</td>\n      <td>5062</td>\n      <td>367.0</td>\n      <td>995.7</td>\n      <td>542.2</td>\n      <td>352.7</td>\n      <td>1025.5</td>\n      <td>15.1</td>\n      <td>186.7</td>\n      <td>-3.433179</td>\n      <td>-1.105531</td>\n    </tr>\n  </tbody>\n</table>\n</div>"
     },
     "execution_count": 43,
     "metadata": {},
     "output_type": "execute_result"
    }
   ],
   "source": [
    "citi10_fa= citi10_fa.rename(columns = {0: \"Gross\", 1: \"Avg\"})\n",
    "citi10_fa.sort_values(['Gross','Avg'],ascending=False)"
   ],
   "metadata": {
    "collapsed": false
   }
  },
  {
   "cell_type": "code",
   "execution_count": 31,
   "outputs": [],
   "source": [
    "#因子得分\n",
    "fa_scores = fa.get_component_scores(st_data)\n",
    "citi10_fa=pd.concat([df, pd.DataFrame(fa_scores)], axis=1)\n",
    "# citi10_fa= citi10_fa.rename(columns = {0: \"Gross\", 1: \"Avg\"})"
   ],
   "metadata": {
    "collapsed": false
   }
  },
  {
   "cell_type": "code",
   "execution_count": 27,
   "outputs": [
    {
     "data": {
      "text/plain": "          0         1\n0  0.362880 -0.196047\n1 -0.001947  0.943648\n2  0.364222  0.006565\n3  0.369255 -0.028775\n4  0.361258  0.111596\n5  0.352799 -0.007144\n6  0.370140 -0.118691\n7  0.295099  0.061400\n8  0.346765  0.199650",
      "text/html": "<div>\n<style scoped>\n    .dataframe tbody tr th:only-of-type {\n        vertical-align: middle;\n    }\n\n    .dataframe tbody tr th {\n        vertical-align: top;\n    }\n\n    .dataframe thead th {\n        text-align: right;\n    }\n</style>\n<table border=\"1\" class=\"dataframe\">\n  <thead>\n    <tr style=\"text-align: right;\">\n      <th></th>\n      <th>0</th>\n      <th>1</th>\n    </tr>\n  </thead>\n  <tbody>\n    <tr>\n      <th>0</th>\n      <td>0.362880</td>\n      <td>-0.196047</td>\n    </tr>\n    <tr>\n      <th>1</th>\n      <td>-0.001947</td>\n      <td>0.943648</td>\n    </tr>\n    <tr>\n      <th>2</th>\n      <td>0.364222</td>\n      <td>0.006565</td>\n    </tr>\n    <tr>\n      <th>3</th>\n      <td>0.369255</td>\n      <td>-0.028775</td>\n    </tr>\n    <tr>\n      <th>4</th>\n      <td>0.361258</td>\n      <td>0.111596</td>\n    </tr>\n    <tr>\n      <th>5</th>\n      <td>0.352799</td>\n      <td>-0.007144</td>\n    </tr>\n    <tr>\n      <th>6</th>\n      <td>0.370140</td>\n      <td>-0.118691</td>\n    </tr>\n    <tr>\n      <th>7</th>\n      <td>0.295099</td>\n      <td>0.061400</td>\n    </tr>\n    <tr>\n      <th>8</th>\n      <td>0.346765</td>\n      <td>0.199650</td>\n    </tr>\n  </tbody>\n</table>\n</div>"
     },
     "execution_count": 27,
     "metadata": {},
     "output_type": "execute_result"
    }
   ],
   "source": [
    "# 3.通过最大方差法进行因子旋转\n",
    "fa.rotate_components()\n",
    "#查看因子权重(旋转后的权重)\n",
    "pd.DataFrame(fa.comps['rot'])"
   ],
   "metadata": {
    "collapsed": false
   }
  },
  {
   "cell_type": "code",
   "execution_count": 26,
   "outputs": [
    {
     "data": {
      "text/plain": "array([0, 1], dtype=int64)"
     },
     "execution_count": 26,
     "metadata": {},
     "output_type": "execute_result"
    }
   ],
   "source": [
    "# 因子分析的主成分法\n",
    "# 2.设定提取主成分的方式，建议使用“top_n”法\n",
    "fa.find_comps_to_retain(method='top_n', num_keep = 2)"
   ],
   "metadata": {
    "collapsed": false
   }
  },
  {
   "cell_type": "code",
   "execution_count": 25,
   "outputs": [],
   "source": [
    "# 因子分析   pip install fa_kit\n",
    "# 1.因子分析的概念很多，作为刚入门的人，我们可以认为因子分析是主成分分析的延续\n",
    "from fa_kit import FactorAnalysis\n",
    "from fa_kit import plotting as fa_plotting\n",
    "fa = FactorAnalysis.load_data_samples(\n",
    "    st_data,     #标准化数据\n",
    "    preproc_demean=True,\n",
    "    preproc_scale=True\n",
    ")\n",
    "fa.extract_components()"
   ],
   "metadata": {
    "collapsed": false
   }
  },
  {
   "cell_type": "code",
   "execution_count": 24,
   "outputs": [
    {
     "data": {
      "text/plain": "  AREA       X1     X2      X3      X4      X5      X6      X7      X8  \\\n8   广东  11769.7  15030  4224.6  4793.6  3022.9  1275.5  5013.6  1843.7   \n4   江苏  10636.3  14397  3536.3  3967.2  2320.0  1141.3  3215.8   384.7   \n1   山东  10550.0  11643  3502.5  3851.0  2288.7  1070.7  3181.9   211.1   \n6   浙江   7670.0  16570  2356.5  3065.0  2296.6  1180.6  2877.5   294.2   \n5   上海   5408.8  40627  2196.2  2755.8  1970.2   779.3  2035.2   320.5   \n0   辽宁   5458.2  13000  1376.2  2258.4  1315.9   529.0  2258.4   123.7   \n2   河北   6076.6   9047  1406.7  2092.6  1161.6   597.1  1968.3    45.9   \n7   福建   4682.0  13510  1047.1  1859.0   964.5   397.9  1663.3   173.7   \n3   天津   2022.6  22068   822.8   960.0   703.7   361.9   941.4   115.7   \n9   广西   2455.4   5062   367.0   995.7   542.2   352.7  1025.5    15.1   \n\n       X9   score_1   score_2  \n8  1201.6  5.500912 -0.142758  \n4   643.7  2.368927 -0.444810  \n1   610.2  2.064157 -0.748544  \n6   566.9  1.209952 -0.006385  \n5   709.0  0.289972  2.792668  \n0   399.7 -1.189451 -0.310922  \n2   302.3 -1.437690 -0.806697  \n7   272.9 -2.096895 -0.227964  \n3   171.8 -3.230397  0.845198  \n9   186.7 -3.479486 -0.949785  ",
      "text/html": "<div>\n<style scoped>\n    .dataframe tbody tr th:only-of-type {\n        vertical-align: middle;\n    }\n\n    .dataframe tbody tr th {\n        vertical-align: top;\n    }\n\n    .dataframe thead th {\n        text-align: right;\n    }\n</style>\n<table border=\"1\" class=\"dataframe\">\n  <thead>\n    <tr style=\"text-align: right;\">\n      <th></th>\n      <th>AREA</th>\n      <th>X1</th>\n      <th>X2</th>\n      <th>X3</th>\n      <th>X4</th>\n      <th>X5</th>\n      <th>X6</th>\n      <th>X7</th>\n      <th>X8</th>\n      <th>X9</th>\n      <th>score_1</th>\n      <th>score_2</th>\n    </tr>\n  </thead>\n  <tbody>\n    <tr>\n      <th>8</th>\n      <td>广东</td>\n      <td>11769.7</td>\n      <td>15030</td>\n      <td>4224.6</td>\n      <td>4793.6</td>\n      <td>3022.9</td>\n      <td>1275.5</td>\n      <td>5013.6</td>\n      <td>1843.7</td>\n      <td>1201.6</td>\n      <td>5.500912</td>\n      <td>-0.142758</td>\n    </tr>\n    <tr>\n      <th>4</th>\n      <td>江苏</td>\n      <td>10636.3</td>\n      <td>14397</td>\n      <td>3536.3</td>\n      <td>3967.2</td>\n      <td>2320.0</td>\n      <td>1141.3</td>\n      <td>3215.8</td>\n      <td>384.7</td>\n      <td>643.7</td>\n      <td>2.368927</td>\n      <td>-0.444810</td>\n    </tr>\n    <tr>\n      <th>1</th>\n      <td>山东</td>\n      <td>10550.0</td>\n      <td>11643</td>\n      <td>3502.5</td>\n      <td>3851.0</td>\n      <td>2288.7</td>\n      <td>1070.7</td>\n      <td>3181.9</td>\n      <td>211.1</td>\n      <td>610.2</td>\n      <td>2.064157</td>\n      <td>-0.748544</td>\n    </tr>\n    <tr>\n      <th>6</th>\n      <td>浙江</td>\n      <td>7670.0</td>\n      <td>16570</td>\n      <td>2356.5</td>\n      <td>3065.0</td>\n      <td>2296.6</td>\n      <td>1180.6</td>\n      <td>2877.5</td>\n      <td>294.2</td>\n      <td>566.9</td>\n      <td>1.209952</td>\n      <td>-0.006385</td>\n    </tr>\n    <tr>\n      <th>5</th>\n      <td>上海</td>\n      <td>5408.8</td>\n      <td>40627</td>\n      <td>2196.2</td>\n      <td>2755.8</td>\n      <td>1970.2</td>\n      <td>779.3</td>\n      <td>2035.2</td>\n      <td>320.5</td>\n      <td>709.0</td>\n      <td>0.289972</td>\n      <td>2.792668</td>\n    </tr>\n    <tr>\n      <th>0</th>\n      <td>辽宁</td>\n      <td>5458.2</td>\n      <td>13000</td>\n      <td>1376.2</td>\n      <td>2258.4</td>\n      <td>1315.9</td>\n      <td>529.0</td>\n      <td>2258.4</td>\n      <td>123.7</td>\n      <td>399.7</td>\n      <td>-1.189451</td>\n      <td>-0.310922</td>\n    </tr>\n    <tr>\n      <th>2</th>\n      <td>河北</td>\n      <td>6076.6</td>\n      <td>9047</td>\n      <td>1406.7</td>\n      <td>2092.6</td>\n      <td>1161.6</td>\n      <td>597.1</td>\n      <td>1968.3</td>\n      <td>45.9</td>\n      <td>302.3</td>\n      <td>-1.437690</td>\n      <td>-0.806697</td>\n    </tr>\n    <tr>\n      <th>7</th>\n      <td>福建</td>\n      <td>4682.0</td>\n      <td>13510</td>\n      <td>1047.1</td>\n      <td>1859.0</td>\n      <td>964.5</td>\n      <td>397.9</td>\n      <td>1663.3</td>\n      <td>173.7</td>\n      <td>272.9</td>\n      <td>-2.096895</td>\n      <td>-0.227964</td>\n    </tr>\n    <tr>\n      <th>3</th>\n      <td>天津</td>\n      <td>2022.6</td>\n      <td>22068</td>\n      <td>822.8</td>\n      <td>960.0</td>\n      <td>703.7</td>\n      <td>361.9</td>\n      <td>941.4</td>\n      <td>115.7</td>\n      <td>171.8</td>\n      <td>-3.230397</td>\n      <td>0.845198</td>\n    </tr>\n    <tr>\n      <th>9</th>\n      <td>广西</td>\n      <td>2455.4</td>\n      <td>5062</td>\n      <td>367.0</td>\n      <td>995.7</td>\n      <td>542.2</td>\n      <td>352.7</td>\n      <td>1025.5</td>\n      <td>15.1</td>\n      <td>186.7</td>\n      <td>-3.479486</td>\n      <td>-0.949785</td>\n    </tr>\n  </tbody>\n</table>\n</div>"
     },
     "execution_count": 24,
     "metadata": {},
     "output_type": "execute_result"
    }
   ],
   "source": [
    "# 主因成分得分\n",
    "score = pd.DataFrame(pca_2.fit_transform(st_data))\n",
    "city_pca= pd.concat([df,score],axis=1)\n",
    "city_pca= city_pca.rename(columns={0:'score_1',1:'score_2'})\n",
    "# 按得分排名\n",
    "city_pca.sort_values(['score_1','score_2'],ascending=False)"
   ],
   "metadata": {
    "collapsed": false
   }
  },
  {
   "cell_type": "code",
   "execution_count": 21,
   "outputs": [
    {
     "data": {
      "text/plain": "          0         1\n0  0.353682 -0.212192\n1  0.040555  0.942778\n2  0.364148 -0.009845\n3  0.367584 -0.045377\n4  0.365917  0.095213\n5  0.352119 -0.023027\n6  0.364419 -0.135241\n7  0.297565  0.048047\n8  0.355405  0.183830",
      "text/html": "<div>\n<style scoped>\n    .dataframe tbody tr th:only-of-type {\n        vertical-align: middle;\n    }\n\n    .dataframe tbody tr th {\n        vertical-align: top;\n    }\n\n    .dataframe thead th {\n        text-align: right;\n    }\n</style>\n<table border=\"1\" class=\"dataframe\">\n  <thead>\n    <tr style=\"text-align: right;\">\n      <th></th>\n      <th>0</th>\n      <th>1</th>\n    </tr>\n  </thead>\n  <tbody>\n    <tr>\n      <th>0</th>\n      <td>0.353682</td>\n      <td>-0.212192</td>\n    </tr>\n    <tr>\n      <th>1</th>\n      <td>0.040555</td>\n      <td>0.942778</td>\n    </tr>\n    <tr>\n      <th>2</th>\n      <td>0.364148</td>\n      <td>-0.009845</td>\n    </tr>\n    <tr>\n      <th>3</th>\n      <td>0.367584</td>\n      <td>-0.045377</td>\n    </tr>\n    <tr>\n      <th>4</th>\n      <td>0.365917</td>\n      <td>0.095213</td>\n    </tr>\n    <tr>\n      <th>5</th>\n      <td>0.352119</td>\n      <td>-0.023027</td>\n    </tr>\n    <tr>\n      <th>6</th>\n      <td>0.364419</td>\n      <td>-0.135241</td>\n    </tr>\n    <tr>\n      <th>7</th>\n      <td>0.297565</td>\n      <td>0.048047</td>\n    </tr>\n    <tr>\n      <th>8</th>\n      <td>0.355405</td>\n      <td>0.183830</td>\n    </tr>\n  </tbody>\n</table>\n</div>"
     },
     "execution_count": 21,
     "metadata": {},
     "output_type": "execute_result"
    }
   ],
   "source": [
    "# 通过主成分在每个变量上的权重的大小，确定每个主成分的代表性(特征向量)\n",
    "pd.DataFrame(pca_2.components_).T  #第一个主成分在每个原始变量上的原始权重"
   ],
   "metadata": {
    "collapsed": false
   }
  },
  {
   "cell_type": "code",
   "execution_count": 19,
   "outputs": [
    {
     "data": {
      "text/plain": "array([8.01129553, 1.22149318])"
     },
     "execution_count": 19,
     "metadata": {},
     "output_type": "execute_result"
    },
    {
     "data": {
      "text/plain": "array([0.80112955, 0.12214932])"
     },
     "execution_count": 19,
     "metadata": {},
     "output_type": "execute_result"
    }
   ],
   "source": [
    "# 查看调整后的方差及方差比率\n",
    "pca_2.explained_variance_\n",
    "pca_2.explained_variance_ratio_"
   ],
   "metadata": {
    "collapsed": false
   }
  },
  {
   "cell_type": "code",
   "execution_count": 17,
   "outputs": [
    {
     "data": {
      "text/plain": "PCA(n_components=2)",
      "text/html": "<style>#sk-container-id-2 {color: black;background-color: white;}#sk-container-id-2 pre{padding: 0;}#sk-container-id-2 div.sk-toggleable {background-color: white;}#sk-container-id-2 label.sk-toggleable__label {cursor: pointer;display: block;width: 100%;margin-bottom: 0;padding: 0.3em;box-sizing: border-box;text-align: center;}#sk-container-id-2 label.sk-toggleable__label-arrow:before {content: \"▸\";float: left;margin-right: 0.25em;color: #696969;}#sk-container-id-2 label.sk-toggleable__label-arrow:hover:before {color: black;}#sk-container-id-2 div.sk-estimator:hover label.sk-toggleable__label-arrow:before {color: black;}#sk-container-id-2 div.sk-toggleable__content {max-height: 0;max-width: 0;overflow: hidden;text-align: left;background-color: #f0f8ff;}#sk-container-id-2 div.sk-toggleable__content pre {margin: 0.2em;color: black;border-radius: 0.25em;background-color: #f0f8ff;}#sk-container-id-2 input.sk-toggleable__control:checked~div.sk-toggleable__content {max-height: 200px;max-width: 100%;overflow: auto;}#sk-container-id-2 input.sk-toggleable__control:checked~label.sk-toggleable__label-arrow:before {content: \"▾\";}#sk-container-id-2 div.sk-estimator input.sk-toggleable__control:checked~label.sk-toggleable__label {background-color: #d4ebff;}#sk-container-id-2 div.sk-label input.sk-toggleable__control:checked~label.sk-toggleable__label {background-color: #d4ebff;}#sk-container-id-2 input.sk-hidden--visually {border: 0;clip: rect(1px 1px 1px 1px);clip: rect(1px, 1px, 1px, 1px);height: 1px;margin: -1px;overflow: hidden;padding: 0;position: absolute;width: 1px;}#sk-container-id-2 div.sk-estimator {font-family: monospace;background-color: #f0f8ff;border: 1px dotted black;border-radius: 0.25em;box-sizing: border-box;margin-bottom: 0.5em;}#sk-container-id-2 div.sk-estimator:hover {background-color: #d4ebff;}#sk-container-id-2 div.sk-parallel-item::after {content: \"\";width: 100%;border-bottom: 1px solid gray;flex-grow: 1;}#sk-container-id-2 div.sk-label:hover label.sk-toggleable__label {background-color: #d4ebff;}#sk-container-id-2 div.sk-serial::before {content: \"\";position: absolute;border-left: 1px solid gray;box-sizing: border-box;top: 0;bottom: 0;left: 50%;z-index: 0;}#sk-container-id-2 div.sk-serial {display: flex;flex-direction: column;align-items: center;background-color: white;padding-right: 0.2em;padding-left: 0.2em;position: relative;}#sk-container-id-2 div.sk-item {position: relative;z-index: 1;}#sk-container-id-2 div.sk-parallel {display: flex;align-items: stretch;justify-content: center;background-color: white;position: relative;}#sk-container-id-2 div.sk-item::before, #sk-container-id-2 div.sk-parallel-item::before {content: \"\";position: absolute;border-left: 1px solid gray;box-sizing: border-box;top: 0;bottom: 0;left: 50%;z-index: -1;}#sk-container-id-2 div.sk-parallel-item {display: flex;flex-direction: column;z-index: 1;position: relative;background-color: white;}#sk-container-id-2 div.sk-parallel-item:first-child::after {align-self: flex-end;width: 50%;}#sk-container-id-2 div.sk-parallel-item:last-child::after {align-self: flex-start;width: 50%;}#sk-container-id-2 div.sk-parallel-item:only-child::after {width: 0;}#sk-container-id-2 div.sk-dashed-wrapped {border: 1px dashed gray;margin: 0 0.4em 0.5em 0.4em;box-sizing: border-box;padding-bottom: 0.4em;background-color: white;}#sk-container-id-2 div.sk-label label {font-family: monospace;font-weight: bold;display: inline-block;line-height: 1.2em;}#sk-container-id-2 div.sk-label-container {text-align: center;}#sk-container-id-2 div.sk-container {/* jupyter's `normalize.less` sets `[hidden] { display: none; }` but bootstrap.min.css set `[hidden] { display: none !important; }` so we also need the `!important` here to be able to override the default hidden behavior on the sphinx rendered scikit-learn.org. See: https://github.com/scikit-learn/scikit-learn/issues/21755 */display: inline-block !important;position: relative;}#sk-container-id-2 div.sk-text-repr-fallback {display: none;}</style><div id=\"sk-container-id-2\" class=\"sk-top-container\"><div class=\"sk-text-repr-fallback\"><pre>PCA(n_components=2)</pre><b>In a Jupyter environment, please rerun this cell to show the HTML representation or trust the notebook. <br />On GitHub, the HTML representation is unable to render, please try loading this page with nbviewer.org.</b></div><div class=\"sk-container\" hidden><div class=\"sk-item\"><div class=\"sk-estimator sk-toggleable\"><input class=\"sk-toggleable__control sk-hidden--visually\" id=\"sk-estimator-id-2\" type=\"checkbox\" checked><label for=\"sk-estimator-id-2\" class=\"sk-toggleable__label sk-toggleable__label-arrow\">PCA</label><div class=\"sk-toggleable__content\"><pre>PCA(n_components=2)</pre></div></div></div></div></div>"
     },
     "execution_count": 17,
     "metadata": {},
     "output_type": "execute_result"
    }
   ],
   "source": [
    "#模型调整(重新拟合模型)\n",
    "pca_2 = PCA(n_components=2)\n",
    "pca_2.fit(st_data)"
   ],
   "metadata": {
    "collapsed": false
   }
  },
  {
   "cell_type": "code",
   "execution_count": 16,
   "outputs": [
    {
     "data": {
      "text/plain": "array([8.01129553e+00, 1.22149318e+00, 6.07923991e-01, 9.88894782e-02,\n       3.86004507e-02, 1.51746715e-02, 4.88067443e-03, 1.33610801e-03,\n       4.05920593e-04])"
     },
     "execution_count": 16,
     "metadata": {},
     "output_type": "execute_result"
    },
    {
     "data": {
      "text/plain": "array([8.01129553e-01, 1.22149318e-01, 6.07923991e-02, 9.88894782e-03,\n       3.86004507e-03, 1.51746715e-03, 4.88067443e-04, 1.33610801e-04,\n       4.05920593e-05])"
     },
     "execution_count": 16,
     "metadata": {},
     "output_type": "execute_result"
    }
   ],
   "source": [
    "# 查看方差及方差比率\n",
    "pca.explained_variance_\n",
    "pca.explained_variance_ratio_"
   ],
   "metadata": {
    "collapsed": false
   }
  },
  {
   "cell_type": "code",
   "execution_count": 15,
   "outputs": [
    {
     "data": {
      "text/plain": "PCA(n_components=9)",
      "text/html": "<style>#sk-container-id-1 {color: black;background-color: white;}#sk-container-id-1 pre{padding: 0;}#sk-container-id-1 div.sk-toggleable {background-color: white;}#sk-container-id-1 label.sk-toggleable__label {cursor: pointer;display: block;width: 100%;margin-bottom: 0;padding: 0.3em;box-sizing: border-box;text-align: center;}#sk-container-id-1 label.sk-toggleable__label-arrow:before {content: \"▸\";float: left;margin-right: 0.25em;color: #696969;}#sk-container-id-1 label.sk-toggleable__label-arrow:hover:before {color: black;}#sk-container-id-1 div.sk-estimator:hover label.sk-toggleable__label-arrow:before {color: black;}#sk-container-id-1 div.sk-toggleable__content {max-height: 0;max-width: 0;overflow: hidden;text-align: left;background-color: #f0f8ff;}#sk-container-id-1 div.sk-toggleable__content pre {margin: 0.2em;color: black;border-radius: 0.25em;background-color: #f0f8ff;}#sk-container-id-1 input.sk-toggleable__control:checked~div.sk-toggleable__content {max-height: 200px;max-width: 100%;overflow: auto;}#sk-container-id-1 input.sk-toggleable__control:checked~label.sk-toggleable__label-arrow:before {content: \"▾\";}#sk-container-id-1 div.sk-estimator input.sk-toggleable__control:checked~label.sk-toggleable__label {background-color: #d4ebff;}#sk-container-id-1 div.sk-label input.sk-toggleable__control:checked~label.sk-toggleable__label {background-color: #d4ebff;}#sk-container-id-1 input.sk-hidden--visually {border: 0;clip: rect(1px 1px 1px 1px);clip: rect(1px, 1px, 1px, 1px);height: 1px;margin: -1px;overflow: hidden;padding: 0;position: absolute;width: 1px;}#sk-container-id-1 div.sk-estimator {font-family: monospace;background-color: #f0f8ff;border: 1px dotted black;border-radius: 0.25em;box-sizing: border-box;margin-bottom: 0.5em;}#sk-container-id-1 div.sk-estimator:hover {background-color: #d4ebff;}#sk-container-id-1 div.sk-parallel-item::after {content: \"\";width: 100%;border-bottom: 1px solid gray;flex-grow: 1;}#sk-container-id-1 div.sk-label:hover label.sk-toggleable__label {background-color: #d4ebff;}#sk-container-id-1 div.sk-serial::before {content: \"\";position: absolute;border-left: 1px solid gray;box-sizing: border-box;top: 0;bottom: 0;left: 50%;z-index: 0;}#sk-container-id-1 div.sk-serial {display: flex;flex-direction: column;align-items: center;background-color: white;padding-right: 0.2em;padding-left: 0.2em;position: relative;}#sk-container-id-1 div.sk-item {position: relative;z-index: 1;}#sk-container-id-1 div.sk-parallel {display: flex;align-items: stretch;justify-content: center;background-color: white;position: relative;}#sk-container-id-1 div.sk-item::before, #sk-container-id-1 div.sk-parallel-item::before {content: \"\";position: absolute;border-left: 1px solid gray;box-sizing: border-box;top: 0;bottom: 0;left: 50%;z-index: -1;}#sk-container-id-1 div.sk-parallel-item {display: flex;flex-direction: column;z-index: 1;position: relative;background-color: white;}#sk-container-id-1 div.sk-parallel-item:first-child::after {align-self: flex-end;width: 50%;}#sk-container-id-1 div.sk-parallel-item:last-child::after {align-self: flex-start;width: 50%;}#sk-container-id-1 div.sk-parallel-item:only-child::after {width: 0;}#sk-container-id-1 div.sk-dashed-wrapped {border: 1px dashed gray;margin: 0 0.4em 0.5em 0.4em;box-sizing: border-box;padding-bottom: 0.4em;background-color: white;}#sk-container-id-1 div.sk-label label {font-family: monospace;font-weight: bold;display: inline-block;line-height: 1.2em;}#sk-container-id-1 div.sk-label-container {text-align: center;}#sk-container-id-1 div.sk-container {/* jupyter's `normalize.less` sets `[hidden] { display: none; }` but bootstrap.min.css set `[hidden] { display: none !important; }` so we also need the `!important` here to be able to override the default hidden behavior on the sphinx rendered scikit-learn.org. See: https://github.com/scikit-learn/scikit-learn/issues/21755 */display: inline-block !important;position: relative;}#sk-container-id-1 div.sk-text-repr-fallback {display: none;}</style><div id=\"sk-container-id-1\" class=\"sk-top-container\"><div class=\"sk-text-repr-fallback\"><pre>PCA(n_components=9)</pre><b>In a Jupyter environment, please rerun this cell to show the HTML representation or trust the notebook. <br />On GitHub, the HTML representation is unable to render, please try loading this page with nbviewer.org.</b></div><div class=\"sk-container\" hidden><div class=\"sk-item\"><div class=\"sk-estimator sk-toggleable\"><input class=\"sk-toggleable__control sk-hidden--visually\" id=\"sk-estimator-id-1\" type=\"checkbox\" checked><label for=\"sk-estimator-id-1\" class=\"sk-toggleable__label sk-toggleable__label-arrow\">PCA</label><div class=\"sk-toggleable__content\"><pre>PCA(n_components=9)</pre></div></div></div></div></div>"
     },
     "execution_count": 15,
     "metadata": {},
     "output_type": "execute_result"
    }
   ],
   "source": [
    "# 开始进行主因成分分析\n",
    "from sklearn.decomposition import PCA\n",
    "pca = PCA(n_components=9)\n",
    "pca.fit(st_data)"
   ],
   "metadata": {
    "collapsed": false
   }
  },
  {
   "cell_type": "code",
   "execution_count": 14,
   "outputs": [
    {
     "data": {
      "text/plain": "array([[-0.37574772, -0.33589708, -0.57070001, -0.33180084, -0.4351153 ,\n        -0.68608742, -0.13882664, -0.44958874, -0.36008526],\n       [ 1.19924012, -0.48315182,  1.14473196,  0.98455823,  0.79990984,\n         0.8650543 ,  0.66401891, -0.27809633,  0.34976628],\n       [-0.18446517, -0.76485655, -0.54609356, -0.46884237, -0.63100796,\n        -0.49108511, -0.39102534, -0.60224445, -0.68853914],\n       [-1.43844228,  0.6481162 , -1.01716572, -1.40498973, -1.21233816,\n        -1.16457327, -1.28376177, -0.46528598, -1.12861338],\n       [ 1.2259343 , -0.18430174,  1.17200074,  1.08060301,  0.83964698,\n         1.06721529,  0.6934899 ,  0.0625339 ,  0.46273553],\n       [-0.39102805,  2.66204455,  0.09085021,  0.07932373,  0.3955559 ,\n         0.03063913, -0.33286576, -0.06343649,  0.68294126],\n       [ 0.3084029 ,  0.05150118,  0.22017521,  0.33489213,  0.80993934,\n         1.17974966,  0.39938849, -0.11504119,  0.20374931],\n       [-0.61584072, -0.28055447, -0.83620754, -0.66192379, -0.88123767,\n        -1.06148835, -0.65617736, -0.35148095, -0.7876823 ],\n       [ 1.57651587, -0.11561179,  1.72729954,  1.76366162,  1.73201866,\n         1.45149297,  2.25640894,  2.92531908,  2.34409505],\n       [-1.30456925, -1.19728849, -1.38489083, -1.37548199, -1.41737163,\n        -1.19091719, -1.21064936, -0.66267885, -1.07836735]])"
     },
     "execution_count": 14,
     "metadata": {},
     "output_type": "execute_result"
    }
   ],
   "source": [
    "# 3.做主成分之前，进行中心标准化\n",
    "from sklearn import preprocessing\n",
    "st_data = preprocessing.scale(data)\n",
    "st_data"
   ],
   "metadata": {
    "collapsed": false
   }
  },
  {
   "cell_type": "code",
   "execution_count": 12,
   "outputs": [
    {
     "data": {
      "text/plain": "       X1     X2      X3      X4      X5     X6      X7     X8     X9\n0  5458.2  13000  1376.2  2258.4  1315.9  529.0  2258.4  123.7  399.7",
      "text/html": "<div>\n<style scoped>\n    .dataframe tbody tr th:only-of-type {\n        vertical-align: middle;\n    }\n\n    .dataframe tbody tr th {\n        vertical-align: top;\n    }\n\n    .dataframe thead th {\n        text-align: right;\n    }\n</style>\n<table border=\"1\" class=\"dataframe\">\n  <thead>\n    <tr style=\"text-align: right;\">\n      <th></th>\n      <th>X1</th>\n      <th>X2</th>\n      <th>X3</th>\n      <th>X4</th>\n      <th>X5</th>\n      <th>X6</th>\n      <th>X7</th>\n      <th>X8</th>\n      <th>X9</th>\n    </tr>\n  </thead>\n  <tbody>\n    <tr>\n      <th>0</th>\n      <td>5458.2</td>\n      <td>13000</td>\n      <td>1376.2</td>\n      <td>2258.4</td>\n      <td>1315.9</td>\n      <td>529.0</td>\n      <td>2258.4</td>\n      <td>123.7</td>\n      <td>399.7</td>\n    </tr>\n  </tbody>\n</table>\n</div>"
     },
     "execution_count": 12,
     "metadata": {},
     "output_type": "execute_result"
    }
   ],
   "source": [
    "data = df.iloc[:,1:]\n",
    "data.head(1)"
   ],
   "metadata": {
    "collapsed": false
   }
  },
  {
   "cell_type": "code",
   "execution_count": 11,
   "outputs": [
    {
     "data": {
      "text/plain": "  AREA      X1     X2      X3      X4      X5     X6      X7     X8     X9\n0   辽宁  5458.2  13000  1376.2  2258.4  1315.9  529.0  2258.4  123.7  399.7",
      "text/html": "<div>\n<style scoped>\n    .dataframe tbody tr th:only-of-type {\n        vertical-align: middle;\n    }\n\n    .dataframe tbody tr th {\n        vertical-align: top;\n    }\n\n    .dataframe thead th {\n        text-align: right;\n    }\n</style>\n<table border=\"1\" class=\"dataframe\">\n  <thead>\n    <tr style=\"text-align: right;\">\n      <th></th>\n      <th>AREA</th>\n      <th>X1</th>\n      <th>X2</th>\n      <th>X3</th>\n      <th>X4</th>\n      <th>X5</th>\n      <th>X6</th>\n      <th>X7</th>\n      <th>X8</th>\n      <th>X9</th>\n    </tr>\n  </thead>\n  <tbody>\n    <tr>\n      <th>0</th>\n      <td>辽宁</td>\n      <td>5458.2</td>\n      <td>13000</td>\n      <td>1376.2</td>\n      <td>2258.4</td>\n      <td>1315.9</td>\n      <td>529.0</td>\n      <td>2258.4</td>\n      <td>123.7</td>\n      <td>399.7</td>\n    </tr>\n  </tbody>\n</table>\n</div>"
     },
     "execution_count": 11,
     "metadata": {},
     "output_type": "execute_result"
    }
   ],
   "source": [
    "df.head(1)"
   ],
   "metadata": {
    "collapsed": false
   }
  },
  {
   "cell_type": "code",
   "execution_count": 6,
   "outputs": [
    {
     "data": {
      "text/plain": "  AREA       X1     X2      X3      X4      X5      X6      X7     X8     X9\n0   辽宁   5458.2  13000  1376.2  2258.4  1315.9   529.0  2258.4  123.7  399.7\n1   山东  10550.0  11643  3502.5  3851.0  2288.7  1070.7  3181.9  211.1  610.2\n2   河北   6076.6   9047  1406.7  2092.6  1161.6   597.1  1968.3   45.9  302.3\n3   天津   2022.6  22068   822.8   960.0   703.7   361.9   941.4  115.7  171.8\n4   江苏  10636.3  14397  3536.3  3967.2  2320.0  1141.3  3215.8  384.7  643.7",
      "text/html": "<div>\n<style scoped>\n    .dataframe tbody tr th:only-of-type {\n        vertical-align: middle;\n    }\n\n    .dataframe tbody tr th {\n        vertical-align: top;\n    }\n\n    .dataframe thead th {\n        text-align: right;\n    }\n</style>\n<table border=\"1\" class=\"dataframe\">\n  <thead>\n    <tr style=\"text-align: right;\">\n      <th></th>\n      <th>AREA</th>\n      <th>X1</th>\n      <th>X2</th>\n      <th>X3</th>\n      <th>X4</th>\n      <th>X5</th>\n      <th>X6</th>\n      <th>X7</th>\n      <th>X8</th>\n      <th>X9</th>\n    </tr>\n  </thead>\n  <tbody>\n    <tr>\n      <th>0</th>\n      <td>辽宁</td>\n      <td>5458.2</td>\n      <td>13000</td>\n      <td>1376.2</td>\n      <td>2258.4</td>\n      <td>1315.9</td>\n      <td>529.0</td>\n      <td>2258.4</td>\n      <td>123.7</td>\n      <td>399.7</td>\n    </tr>\n    <tr>\n      <th>1</th>\n      <td>山东</td>\n      <td>10550.0</td>\n      <td>11643</td>\n      <td>3502.5</td>\n      <td>3851.0</td>\n      <td>2288.7</td>\n      <td>1070.7</td>\n      <td>3181.9</td>\n      <td>211.1</td>\n      <td>610.2</td>\n    </tr>\n    <tr>\n      <th>2</th>\n      <td>河北</td>\n      <td>6076.6</td>\n      <td>9047</td>\n      <td>1406.7</td>\n      <td>2092.6</td>\n      <td>1161.6</td>\n      <td>597.1</td>\n      <td>1968.3</td>\n      <td>45.9</td>\n      <td>302.3</td>\n    </tr>\n    <tr>\n      <th>3</th>\n      <td>天津</td>\n      <td>2022.6</td>\n      <td>22068</td>\n      <td>822.8</td>\n      <td>960.0</td>\n      <td>703.7</td>\n      <td>361.9</td>\n      <td>941.4</td>\n      <td>115.7</td>\n      <td>171.8</td>\n    </tr>\n    <tr>\n      <th>4</th>\n      <td>江苏</td>\n      <td>10636.3</td>\n      <td>14397</td>\n      <td>3536.3</td>\n      <td>3967.2</td>\n      <td>2320.0</td>\n      <td>1141.3</td>\n      <td>3215.8</td>\n      <td>384.7</td>\n      <td>643.7</td>\n    </tr>\n  </tbody>\n</table>\n</div>"
     },
     "execution_count": 6,
     "metadata": {},
     "output_type": "execute_result"
    }
   ],
   "source": [
    "df = pd.read_csv('cities_10.csv',encoding='gbk')\n",
    "df.head()"
   ],
   "metadata": {
    "collapsed": false
   }
  },
  {
   "cell_type": "code",
   "execution_count": 3,
   "outputs": [],
   "source": [
    "import matplotlib.pyplot as plt\n",
    "plt.style.use('seaborn')\n",
    "#设置字体为黑色\n",
    "plt.rcParams['font.family']='SimHei'\n",
    "#显示符号\n",
    "plt.rcParams['axes.unicode_minus']= False"
   ],
   "metadata": {
    "collapsed": false
   }
  },
  {
   "cell_type": "code",
   "execution_count": 2,
   "outputs": [],
   "source": [
    "from IPython.core.interactiveshell import InteractiveShell\n",
    "InteractiveShell.ast_node_interactivity = \"all\"\n",
    "\n",
    "import numpy as np\n",
    "import pandas as pd\n",
    "\n",
    "import warnings\n",
    "warnings.filterwarnings(\"ignore\")\n",
    "import os\n",
    "os.chdir('C:\\Data\\Jupyter_file\\统计建模\\连续变量降维')"
   ],
   "metadata": {
    "collapsed": false
   }
  }
 ],
 "metadata": {
  "kernelspec": {
   "display_name": "Python 3",
   "language": "python",
   "name": "python3"
  },
  "language_info": {
   "codemirror_mode": {
    "name": "ipython",
    "version": 2
   },
   "file_extension": ".py",
   "mimetype": "text/x-python",
   "name": "python",
   "nbconvert_exporter": "python",
   "pygments_lexer": "ipython2",
   "version": "2.7.6"
  }
 },
 "nbformat": 4,
 "nbformat_minor": 0
}
