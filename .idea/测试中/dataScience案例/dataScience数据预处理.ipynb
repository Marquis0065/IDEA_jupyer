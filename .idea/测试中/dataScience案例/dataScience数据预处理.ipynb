{
 "cells": [
  {
   "cell_type": "code",
   "execution_count": 86,
   "outputs": [
    {
     "data": {
      "text/plain": "<matplotlib.collections.PathCollection at 0x1bd9e04bcd0>"
     },
     "execution_count": 86,
     "metadata": {},
     "output_type": "execute_result"
    },
    {
     "data": {
      "text/plain": "<Figure size 640x480 with 1 Axes>",
      "image/png": "[encoded data removed]"
     },
     "metadata": {},
     "output_type": "display_data"
    }
   ],
   "source": [
    "# 同方差 绘制残差图\n",
    "# 一元回归： 横轴为自变量，纵轴为model_2.resid残差\n",
    "# 多元回归： 横轴为拟合值，纵轴为残差 model_2.predict(data)   #拟合值\n",
    "#残差图：如果为喇叭状就需要处理，对Y取对数，出现非正态也是对Y取对数\n",
    "import matplotlib.pyplot as plt\n",
    "plt.scatter(model.predict(df4), model.resid)"
   ],
   "metadata": {
    "collapsed": false
   }
  },
  {
   "cell_type": "code",
   "execution_count": 80,
   "outputs": [
    {
     "name": "stdout",
     "output_type": "stream",
     "text": [
      "age 1.0330209278635276\n",
      "type_employer 1.010181708975281\n",
      "fnlwgt 1.0091388235441991\n",
      "education_num 1.0458981599756112\n",
      "race 1.0075784841151525\n",
      "sex 1.0699403153050284\n",
      "capital_gain 1.0290864663478567\n",
      "capital_loss 1.0148143455759517\n",
      "hr_per_week 1.0871570473814236\n",
      "Inter 39.45534676118749\n"
     ]
    }
   ],
   "source": [
    "#计算每个变量的VIF值 1-3正常，3-10岭回归处理，>10建议删除\n",
    "for i in range(0,df4_vif.shape[1]):\n",
    "    print(df4_vif.columns[i], vif(df4_vif,i))"
   ],
   "metadata": {
    "collapsed": false
   }
  },
  {
   "cell_type": "code",
   "execution_count": 78,
   "outputs": [
    {
     "data": {
      "text/plain": "   age  type_employer  fnlwgt  education_num  race  sex  capital_gain  \\\n0   39              0   77516             13     0    1          2174   \n1   50              1   83311             13     0    1             0   \n2   38              2  215646              9     0    1             0   \n3   53              2  234721              7     1    1             0   \n4   28              2  338409             13     1    0             0   \n\n   capital_loss  hr_per_week  Inter  \n0             0           40      1  \n1             0           13      1  \n2             0           40      1  \n3             0           40      1  \n4             0           40      1  ",
      "text/html": "<div>\n<style scoped>\n    .dataframe tbody tr th:only-of-type {\n        vertical-align: middle;\n    }\n\n    .dataframe tbody tr th {\n        vertical-align: top;\n    }\n\n    .dataframe thead th {\n        text-align: right;\n    }\n</style>\n<table border=\"1\" class=\"dataframe\">\n  <thead>\n    <tr style=\"text-align: right;\">\n      <th></th>\n      <th>age</th>\n      <th>type_employer</th>\n      <th>fnlwgt</th>\n      <th>education_num</th>\n      <th>race</th>\n      <th>sex</th>\n      <th>capital_gain</th>\n      <th>capital_loss</th>\n      <th>hr_per_week</th>\n      <th>Inter</th>\n    </tr>\n  </thead>\n  <tbody>\n    <tr>\n      <th>0</th>\n      <td>39</td>\n      <td>0</td>\n      <td>77516</td>\n      <td>13</td>\n      <td>0</td>\n      <td>1</td>\n      <td>2174</td>\n      <td>0</td>\n      <td>40</td>\n      <td>1</td>\n    </tr>\n    <tr>\n      <th>1</th>\n      <td>50</td>\n      <td>1</td>\n      <td>83311</td>\n      <td>13</td>\n      <td>0</td>\n      <td>1</td>\n      <td>0</td>\n      <td>0</td>\n      <td>13</td>\n      <td>1</td>\n    </tr>\n    <tr>\n      <th>2</th>\n      <td>38</td>\n      <td>2</td>\n      <td>215646</td>\n      <td>9</td>\n      <td>0</td>\n      <td>1</td>\n      <td>0</td>\n      <td>0</td>\n      <td>40</td>\n      <td>1</td>\n    </tr>\n    <tr>\n      <th>3</th>\n      <td>53</td>\n      <td>2</td>\n      <td>234721</td>\n      <td>7</td>\n      <td>1</td>\n      <td>1</td>\n      <td>0</td>\n      <td>0</td>\n      <td>40</td>\n      <td>1</td>\n    </tr>\n    <tr>\n      <th>4</th>\n      <td>28</td>\n      <td>2</td>\n      <td>338409</td>\n      <td>13</td>\n      <td>1</td>\n      <td>0</td>\n      <td>0</td>\n      <td>0</td>\n      <td>40</td>\n      <td>1</td>\n    </tr>\n  </tbody>\n</table>\n</div>"
     },
     "execution_count": 78,
     "metadata": {},
     "output_type": "execute_result"
    }
   ],
   "source": [
    "# vif时，需手动添加截距项\n",
    "#手动去除因变量\n",
    "#手动添加截距项\n",
    "df4_vif = df4.drop(['income'], axis=1)\n",
    "df4_vif['Inter'] = 1  #相当于添加了截距项\n",
    "df4_vif.drop(['type_1','type_2','type_3','type_4','type_5','type_6','type_7','type_8','race_1','race_2','race_3','race_4'], axis=1, inplace=True)\n",
    "df4_vif.head()"
   ],
   "metadata": {
    "collapsed": false
   }
  },
  {
   "cell_type": "code",
   "execution_count": 74,
   "outputs": [
    {
     "data": {
      "text/plain": "<class 'statsmodels.iolib.summary.Summary'>\n\"\"\"\n                            OLS Regression Results                            \n==============================================================================\nDep. Variable:                 income   R-squared:                       0.258\nModel:                            OLS   Adj. R-squared:                  0.258\nMethod:                 Least Squares   F-statistic:                     596.6\nDate:                Mon, 20 Mar 2023   Prob (F-statistic):               0.00\nTime:                        16:00:23   Log-Likelihood:                -13671.\nNo. Observations:               32561   AIC:                         2.738e+04\nDf Residuals:                   32541   BIC:                         2.755e+04\nDf Model:                          19                                         \nCovariance Type:            nonrobust                                         \n=================================================================================\n                    coef    std err          t      P>|t|      [0.025      0.975]\n---------------------------------------------------------------------------------\nIntercept        -0.7296      0.017    -43.739      0.000      -0.762      -0.697\nage               0.0058      0.000     37.251      0.000       0.005       0.006\nfnlwgt         7.673e-08   1.96e-08      3.908      0.000    3.82e-08    1.15e-07\neducation_num     0.0453      0.001     54.606      0.000       0.044       0.047\nsex               0.1359      0.005     30.002      0.000       0.127       0.145\ncapital_gain   9.144e-06   2.81e-07     32.520      0.000    8.59e-06    9.69e-06\ncapital_loss      0.0001    5.1e-06     22.351      0.000       0.000       0.000\nhr_per_week       0.0039      0.000     22.366      0.000       0.004       0.004\ntype_1           -0.0373      0.013     -2.937      0.003      -0.062      -0.012\ntype_2            0.0164      0.011      1.542      0.123      -0.004       0.037\ntype_3            0.0980      0.016      6.239      0.000       0.067       0.129\ntype_4            0.0157      0.013      1.208      0.227      -0.010       0.041\ntype_5           -0.0389      0.014     -2.883      0.004      -0.065      -0.012\ntype_6            0.1328      0.015      8.718      0.000       0.103       0.163\ntype_7           -0.1847      0.099     -1.866      0.062      -0.379       0.009\ntype_8            0.0652      0.140      0.467      0.641      -0.209       0.339\nrace_1           -0.0582      0.007     -8.212      0.000      -0.072      -0.044\nrace_2           -0.0204      0.012     -1.746      0.081      -0.043       0.003\nrace_3           -0.0633      0.021     -3.004      0.003      -0.105      -0.022\nrace_4           -0.0521      0.023     -2.313      0.021      -0.096      -0.008\n==============================================================================\nOmnibus:                     3070.756   Durbin-Watson:                   2.005\nProb(Omnibus):                  0.000   Jarque-Bera (JB):             3909.386\nSkew:                           0.837   Prob(JB):                         0.00\nKurtosis:                       2.721   Cond. No.                     1.49e+07\n==============================================================================\n\nNotes:\n[1] Standard Errors assume that the covariance matrix of the errors is correctly specified.\n[2] The condition number is large, 1.49e+07. This might indicate that there are\nstrong multicollinearity or other numerical problems.\n\"\"\"",
      "text/html": "<table class=\"simpletable\">\n<caption>OLS Regression Results</caption>\n<tr>\n  <th>Dep. Variable:</th>         <td>income</td>      <th>  R-squared:         </th> <td>   0.258</td> \n</tr>\n<tr>\n  <th>Model:</th>                   <td>OLS</td>       <th>  Adj. R-squared:    </th> <td>   0.258</td> \n</tr>\n<tr>\n  <th>Method:</th>             <td>Least Squares</td>  <th>  F-statistic:       </th> <td>   596.6</td> \n</tr>\n<tr>\n  <th>Date:</th>             <td>Mon, 20 Mar 2023</td> <th>  Prob (F-statistic):</th>  <td>  0.00</td>  \n</tr>\n<tr>\n  <th>Time:</th>                 <td>16:00:23</td>     <th>  Log-Likelihood:    </th> <td> -13671.</td> \n</tr>\n<tr>\n  <th>No. Observations:</th>      <td> 32561</td>      <th>  AIC:               </th> <td>2.738e+04</td>\n</tr>\n<tr>\n  <th>Df Residuals:</th>          <td> 32541</td>      <th>  BIC:               </th> <td>2.755e+04</td>\n</tr>\n<tr>\n  <th>Df Model:</th>              <td>    19</td>      <th>                     </th>     <td> </td>    \n</tr>\n<tr>\n  <th>Covariance Type:</th>      <td>nonrobust</td>    <th>                     </th>     <td> </td>    \n</tr>\n</table>\n<table class=\"simpletable\">\n<tr>\n        <td></td>           <th>coef</th>     <th>std err</th>      <th>t</th>      <th>P>|t|</th>  <th>[0.025</th>    <th>0.975]</th>  \n</tr>\n<tr>\n  <th>Intercept</th>     <td>   -0.7296</td> <td>    0.017</td> <td>  -43.739</td> <td> 0.000</td> <td>   -0.762</td> <td>   -0.697</td>\n</tr>\n<tr>\n  <th>age</th>           <td>    0.0058</td> <td>    0.000</td> <td>   37.251</td> <td> 0.000</td> <td>    0.005</td> <td>    0.006</td>\n</tr>\n<tr>\n  <th>fnlwgt</th>        <td> 7.673e-08</td> <td> 1.96e-08</td> <td>    3.908</td> <td> 0.000</td> <td> 3.82e-08</td> <td> 1.15e-07</td>\n</tr>\n<tr>\n  <th>education_num</th> <td>    0.0453</td> <td>    0.001</td> <td>   54.606</td> <td> 0.000</td> <td>    0.044</td> <td>    0.047</td>\n</tr>\n<tr>\n  <th>sex</th>           <td>    0.1359</td> <td>    0.005</td> <td>   30.002</td> <td> 0.000</td> <td>    0.127</td> <td>    0.145</td>\n</tr>\n<tr>\n  <th>capital_gain</th>  <td> 9.144e-06</td> <td> 2.81e-07</td> <td>   32.520</td> <td> 0.000</td> <td> 8.59e-06</td> <td> 9.69e-06</td>\n</tr>\n<tr>\n  <th>capital_loss</th>  <td>    0.0001</td> <td>  5.1e-06</td> <td>   22.351</td> <td> 0.000</td> <td>    0.000</td> <td>    0.000</td>\n</tr>\n<tr>\n  <th>hr_per_week</th>   <td>    0.0039</td> <td>    0.000</td> <td>   22.366</td> <td> 0.000</td> <td>    0.004</td> <td>    0.004</td>\n</tr>\n<tr>\n  <th>type_1</th>        <td>   -0.0373</td> <td>    0.013</td> <td>   -2.937</td> <td> 0.003</td> <td>   -0.062</td> <td>   -0.012</td>\n</tr>\n<tr>\n  <th>type_2</th>        <td>    0.0164</td> <td>    0.011</td> <td>    1.542</td> <td> 0.123</td> <td>   -0.004</td> <td>    0.037</td>\n</tr>\n<tr>\n  <th>type_3</th>        <td>    0.0980</td> <td>    0.016</td> <td>    6.239</td> <td> 0.000</td> <td>    0.067</td> <td>    0.129</td>\n</tr>\n<tr>\n  <th>type_4</th>        <td>    0.0157</td> <td>    0.013</td> <td>    1.208</td> <td> 0.227</td> <td>   -0.010</td> <td>    0.041</td>\n</tr>\n<tr>\n  <th>type_5</th>        <td>   -0.0389</td> <td>    0.014</td> <td>   -2.883</td> <td> 0.004</td> <td>   -0.065</td> <td>   -0.012</td>\n</tr>\n<tr>\n  <th>type_6</th>        <td>    0.1328</td> <td>    0.015</td> <td>    8.718</td> <td> 0.000</td> <td>    0.103</td> <td>    0.163</td>\n</tr>\n<tr>\n  <th>type_7</th>        <td>   -0.1847</td> <td>    0.099</td> <td>   -1.866</td> <td> 0.062</td> <td>   -0.379</td> <td>    0.009</td>\n</tr>\n<tr>\n  <th>type_8</th>        <td>    0.0652</td> <td>    0.140</td> <td>    0.467</td> <td> 0.641</td> <td>   -0.209</td> <td>    0.339</td>\n</tr>\n<tr>\n  <th>race_1</th>        <td>   -0.0582</td> <td>    0.007</td> <td>   -8.212</td> <td> 0.000</td> <td>   -0.072</td> <td>   -0.044</td>\n</tr>\n<tr>\n  <th>race_2</th>        <td>   -0.0204</td> <td>    0.012</td> <td>   -1.746</td> <td> 0.081</td> <td>   -0.043</td> <td>    0.003</td>\n</tr>\n<tr>\n  <th>race_3</th>        <td>   -0.0633</td> <td>    0.021</td> <td>   -3.004</td> <td> 0.003</td> <td>   -0.105</td> <td>   -0.022</td>\n</tr>\n<tr>\n  <th>race_4</th>        <td>   -0.0521</td> <td>    0.023</td> <td>   -2.313</td> <td> 0.021</td> <td>   -0.096</td> <td>   -0.008</td>\n</tr>\n</table>\n<table class=\"simpletable\">\n<tr>\n  <th>Omnibus:</th>       <td>3070.756</td> <th>  Durbin-Watson:     </th> <td>   2.005</td>\n</tr>\n<tr>\n  <th>Prob(Omnibus):</th>  <td> 0.000</td>  <th>  Jarque-Bera (JB):  </th> <td>3909.386</td>\n</tr>\n<tr>\n  <th>Skew:</th>           <td> 0.837</td>  <th>  Prob(JB):          </th> <td>    0.00</td>\n</tr>\n<tr>\n  <th>Kurtosis:</th>       <td> 2.721</td>  <th>  Cond. No.          </th> <td>1.49e+07</td>\n</tr>\n</table><br/><br/>Notes:<br/>[1] Standard Errors assume that the covariance matrix of the errors is correctly specified.<br/>[2] The condition number is large, 1.49e+07. This might indicate that there are<br/>strong multicollinearity or other numerical problems."
     },
     "execution_count": 74,
     "metadata": {},
     "output_type": "execute_result"
    }
   ],
   "source": [
    "formula2 = 'income~age+fnlwgt+education_num+sex+capital_gain+capital_loss+hr_per_week+type_1+type_2+type_3+type_4+type_5+type_6+type_7+type_8+race_1+race_2+race_3+race_4'\n",
    "#实例化\n",
    "model2 = osl(formula=formula2, data=df4)\n",
    "#拟合模型\n",
    "model2 = model2.fit()\n",
    "#输出拟合结果\n",
    "model2.summary()"
   ],
   "metadata": {
    "collapsed": false
   }
  },
  {
   "cell_type": "code",
   "execution_count": 85,
   "outputs": [
    {
     "data": {
      "text/plain": "   age  type_employer  fnlwgt  education_num  race  sex  capital_gain  \\\n0   39              0   77516             13     0    1          2174   \n1   50              1   83311             13     0    1             0   \n2   38              2  215646              9     0    1             0   \n3   53              2  234721              7     1    1             0   \n4   28              2  338409             13     1    0             0   \n\n   capital_loss  hr_per_week  income  ...  type_3  type_4  type_5  type_6  \\\n0             0           40       0  ...       0       0       0       0   \n1             0           13       0  ...       0       0       0       0   \n2             0           40       0  ...       0       0       0       0   \n3             0           40       0  ...       0       0       0       0   \n4             0           40       0  ...       0       0       0       0   \n\n   type_7  type_8  race_1  race_2  race_3  race_4  \n0       0       0       0       0       0       0  \n1       0       0       0       0       0       0  \n2       0       0       0       0       0       0  \n3       0       0       1       0       0       0  \n4       0       0       1       0       0       0  \n\n[5 rows x 22 columns]",
      "text/html": "<div>\n<style scoped>\n    .dataframe tbody tr th:only-of-type {\n        vertical-align: middle;\n    }\n\n    .dataframe tbody tr th {\n        vertical-align: top;\n    }\n\n    .dataframe thead th {\n        text-align: right;\n    }\n</style>\n<table border=\"1\" class=\"dataframe\">\n  <thead>\n    <tr style=\"text-align: right;\">\n      <th></th>\n      <th>age</th>\n      <th>type_employer</th>\n      <th>fnlwgt</th>\n      <th>education_num</th>\n      <th>race</th>\n      <th>sex</th>\n      <th>capital_gain</th>\n      <th>capital_loss</th>\n      <th>hr_per_week</th>\n      <th>income</th>\n      <th>...</th>\n      <th>type_3</th>\n      <th>type_4</th>\n      <th>type_5</th>\n      <th>type_6</th>\n      <th>type_7</th>\n      <th>type_8</th>\n      <th>race_1</th>\n      <th>race_2</th>\n      <th>race_3</th>\n      <th>race_4</th>\n    </tr>\n  </thead>\n  <tbody>\n    <tr>\n      <th>0</th>\n      <td>39</td>\n      <td>0</td>\n      <td>77516</td>\n      <td>13</td>\n      <td>0</td>\n      <td>1</td>\n      <td>2174</td>\n      <td>0</td>\n      <td>40</td>\n      <td>0</td>\n      <td>...</td>\n      <td>0</td>\n      <td>0</td>\n      <td>0</td>\n      <td>0</td>\n      <td>0</td>\n      <td>0</td>\n      <td>0</td>\n      <td>0</td>\n      <td>0</td>\n      <td>0</td>\n    </tr>\n    <tr>\n      <th>1</th>\n      <td>50</td>\n      <td>1</td>\n      <td>83311</td>\n      <td>13</td>\n      <td>0</td>\n      <td>1</td>\n      <td>0</td>\n      <td>0</td>\n      <td>13</td>\n      <td>0</td>\n      <td>...</td>\n      <td>0</td>\n      <td>0</td>\n      <td>0</td>\n      <td>0</td>\n      <td>0</td>\n      <td>0</td>\n      <td>0</td>\n      <td>0</td>\n      <td>0</td>\n      <td>0</td>\n    </tr>\n    <tr>\n      <th>2</th>\n      <td>38</td>\n      <td>2</td>\n      <td>215646</td>\n      <td>9</td>\n      <td>0</td>\n      <td>1</td>\n      <td>0</td>\n      <td>0</td>\n      <td>40</td>\n      <td>0</td>\n      <td>...</td>\n      <td>0</td>\n      <td>0</td>\n      <td>0</td>\n      <td>0</td>\n      <td>0</td>\n      <td>0</td>\n      <td>0</td>\n      <td>0</td>\n      <td>0</td>\n      <td>0</td>\n    </tr>\n    <tr>\n      <th>3</th>\n      <td>53</td>\n      <td>2</td>\n      <td>234721</td>\n      <td>7</td>\n      <td>1</td>\n      <td>1</td>\n      <td>0</td>\n      <td>0</td>\n      <td>40</td>\n      <td>0</td>\n      <td>...</td>\n      <td>0</td>\n      <td>0</td>\n      <td>0</td>\n      <td>0</td>\n      <td>0</td>\n      <td>0</td>\n      <td>1</td>\n      <td>0</td>\n      <td>0</td>\n      <td>0</td>\n    </tr>\n    <tr>\n      <th>4</th>\n      <td>28</td>\n      <td>2</td>\n      <td>338409</td>\n      <td>13</td>\n      <td>1</td>\n      <td>0</td>\n      <td>0</td>\n      <td>0</td>\n      <td>40</td>\n      <td>0</td>\n      <td>...</td>\n      <td>0</td>\n      <td>0</td>\n      <td>0</td>\n      <td>0</td>\n      <td>0</td>\n      <td>0</td>\n      <td>1</td>\n      <td>0</td>\n      <td>0</td>\n      <td>0</td>\n    </tr>\n  </tbody>\n</table>\n<p>5 rows × 22 columns</p>\n</div>"
     },
     "execution_count": 85,
     "metadata": {},
     "output_type": "execute_result"
    }
   ],
   "source": [
    "df4.head()"
   ],
   "metadata": {
    "collapsed": false
   }
  },
  {
   "cell_type": "code",
   "execution_count": 100,
   "outputs": [
    {
     "name": "stdout",
     "output_type": "stream",
     "text": [
      "              precision    recall  f1-score   support\n",
      "\n",
      "           0       0.84      0.95      0.89      7379\n",
      "           1       0.73      0.43      0.54      2390\n",
      "\n",
      "    accuracy                           0.82      9769\n",
      "   macro avg       0.78      0.69      0.72      9769\n",
      "weighted avg       0.81      0.82      0.81      9769\n",
      "\n"
     ]
    }
   ],
   "source": [
    "#输出预测概率\n",
    "temp = test.copy()\n",
    "tem=temp.pop('income')\n",
    "pre = model.predict(temp)\n",
    "#预测标签（默认阈值0.5）\n",
    "# 生成预测标签\n",
    "pre_label = (pre>0.5).astype('int')\n",
    "#输出分类报告，Y的真实值，Y的预测标签\n",
    "# 模型评估（召回率），选择0.5为阈值\n",
    "from sklearn.metrics import classification_report # 用于分类报告\n",
    "print(classification_report(tem, pre_label))\n",
    "# precision 精确率；recall 召回率 ；f1-score 相当于精确率与召回率的平均"
   ],
   "metadata": {
    "collapsed": false
   }
  },
  {
   "cell_type": "code",
   "execution_count": 96,
   "outputs": [
    {
     "data": {
      "text/plain": "       age  type_employer  fnlwgt  education_num  race  sex  capital_gain  \\\n21227   59              2   35411              9     0    0             0   \n11307   40              2  326310             10     0    1             0   \n22842   25              2  268222              9     1    0             0   \n1751    38              2  304651              9     0    1             0   \n17603   42              4  263871              9     0    1             0   \n\n       capital_loss  hr_per_week  type_1  ...  type_3  type_4  type_5  type_6  \\\n21227             0           40       0  ...       0       0       0       0   \n11307             0           44       0  ...       0       0       0       0   \n22842             0           40       0  ...       0       0       0       0   \n1751              0           60       0  ...       0       0       0       0   \n17603             0            8       0  ...       0       1       0       0   \n\n       type_7  type_8  race_1  race_2  race_3  race_4  \n21227       0       0       0       0       0       0  \n11307       0       0       0       0       0       0  \n22842       0       0       1       0       0       0  \n1751        0       0       0       0       0       0  \n17603       0       0       0       0       0       0  \n\n[5 rows x 21 columns]",
      "text/html": "<div>\n<style scoped>\n    .dataframe tbody tr th:only-of-type {\n        vertical-align: middle;\n    }\n\n    .dataframe tbody tr th {\n        vertical-align: top;\n    }\n\n    .dataframe thead th {\n        text-align: right;\n    }\n</style>\n<table border=\"1\" class=\"dataframe\">\n  <thead>\n    <tr style=\"text-align: right;\">\n      <th></th>\n      <th>age</th>\n      <th>type_employer</th>\n      <th>fnlwgt</th>\n      <th>education_num</th>\n      <th>race</th>\n      <th>sex</th>\n      <th>capital_gain</th>\n      <th>capital_loss</th>\n      <th>hr_per_week</th>\n      <th>type_1</th>\n      <th>...</th>\n      <th>type_3</th>\n      <th>type_4</th>\n      <th>type_5</th>\n      <th>type_6</th>\n      <th>type_7</th>\n      <th>type_8</th>\n      <th>race_1</th>\n      <th>race_2</th>\n      <th>race_3</th>\n      <th>race_4</th>\n    </tr>\n  </thead>\n  <tbody>\n    <tr>\n      <th>21227</th>\n      <td>59</td>\n      <td>2</td>\n      <td>35411</td>\n      <td>9</td>\n      <td>0</td>\n      <td>0</td>\n      <td>0</td>\n      <td>0</td>\n      <td>40</td>\n      <td>0</td>\n      <td>...</td>\n      <td>0</td>\n      <td>0</td>\n      <td>0</td>\n      <td>0</td>\n      <td>0</td>\n      <td>0</td>\n      <td>0</td>\n      <td>0</td>\n      <td>0</td>\n      <td>0</td>\n    </tr>\n    <tr>\n      <th>11307</th>\n      <td>40</td>\n      <td>2</td>\n      <td>326310</td>\n      <td>10</td>\n      <td>0</td>\n      <td>1</td>\n      <td>0</td>\n      <td>0</td>\n      <td>44</td>\n      <td>0</td>\n      <td>...</td>\n      <td>0</td>\n      <td>0</td>\n      <td>0</td>\n      <td>0</td>\n      <td>0</td>\n      <td>0</td>\n      <td>0</td>\n      <td>0</td>\n      <td>0</td>\n      <td>0</td>\n    </tr>\n    <tr>\n      <th>22842</th>\n      <td>25</td>\n      <td>2</td>\n      <td>268222</td>\n      <td>9</td>\n      <td>1</td>\n      <td>0</td>\n      <td>0</td>\n      <td>0</td>\n      <td>40</td>\n      <td>0</td>\n      <td>...</td>\n      <td>0</td>\n      <td>0</td>\n      <td>0</td>\n      <td>0</td>\n      <td>0</td>\n      <td>0</td>\n      <td>1</td>\n      <td>0</td>\n      <td>0</td>\n      <td>0</td>\n    </tr>\n    <tr>\n      <th>1751</th>\n      <td>38</td>\n      <td>2</td>\n      <td>304651</td>\n      <td>9</td>\n      <td>0</td>\n      <td>1</td>\n      <td>0</td>\n      <td>0</td>\n      <td>60</td>\n      <td>0</td>\n      <td>...</td>\n      <td>0</td>\n      <td>0</td>\n      <td>0</td>\n      <td>0</td>\n      <td>0</td>\n      <td>0</td>\n      <td>0</td>\n      <td>0</td>\n      <td>0</td>\n      <td>0</td>\n    </tr>\n    <tr>\n      <th>17603</th>\n      <td>42</td>\n      <td>4</td>\n      <td>263871</td>\n      <td>9</td>\n      <td>0</td>\n      <td>1</td>\n      <td>0</td>\n      <td>0</td>\n      <td>8</td>\n      <td>0</td>\n      <td>...</td>\n      <td>0</td>\n      <td>1</td>\n      <td>0</td>\n      <td>0</td>\n      <td>0</td>\n      <td>0</td>\n      <td>0</td>\n      <td>0</td>\n      <td>0</td>\n      <td>0</td>\n    </tr>\n  </tbody>\n</table>\n<p>5 rows × 21 columns</p>\n</div>"
     },
     "execution_count": 96,
     "metadata": {},
     "output_type": "execute_result"
    }
   ],
   "source": [],
   "metadata": {
    "collapsed": false
   }
  },
  {
   "cell_type": "code",
   "execution_count": 94,
   "outputs": [
    {
     "name": "stdout",
     "output_type": "stream",
     "text": [
      "Warning: Maximum number of iterations has been exceeded.\n",
      "         Current function value: 0.385329\n",
      "         Iterations: 35\n"
     ]
    },
    {
     "data": {
      "text/plain": "<class 'statsmodels.iolib.summary.Summary'>\n\"\"\"\n                           Logit Regression Results                           \n==============================================================================\nDep. Variable:                 income   No. Observations:                22792\nModel:                          Logit   Df Residuals:                    22772\nMethod:                           MLE   Df Model:                           19\nDate:                Mon, 20 Mar 2023   Pseudo R-squ.:                  0.2995\nTime:                        16:26:00   Log-Likelihood:                -8782.4\nconverged:                      False   LL-Null:                       -12538.\nCovariance Type:            nonrobust   LLR p-value:                     0.000\n=================================================================================\n                    coef    std err          z      P>|z|      [0.025      0.975]\n---------------------------------------------------------------------------------\nIntercept        -8.8908      0.185    -48.143      0.000      -9.253      -8.529\nage               0.0435      0.002     27.729      0.000       0.040       0.047\ntype_employer    -1.3220        nan        nan        nan         nan         nan\nfnlwgt          5.74e-07   1.84e-07      3.128      0.002    2.14e-07    9.34e-07\neducation_num     0.3215      0.009     37.686      0.000       0.305       0.338\nsex               1.1707      0.049     23.784      0.000       1.074       1.267\ncapital_gain      0.0003   1.18e-05     27.364      0.000       0.000       0.000\ncapital_loss      0.0006   3.95e-05     15.984      0.000       0.001       0.001\nhr_per_week       0.0315      0.002     18.687      0.000       0.028       0.035\ntype_1            0.9119        nan        nan        nan         nan         nan\ntype_2            2.6871        nan        nan        nan         nan         nan\ntype_3            4.5945        nan        nan        nan         nan         nan\ntype_4            5.2763        nan        nan        nan         nan         nan\ntype_5            5.7229        nan        nan        nan         nan         nan\ntype_6            8.5103        nan        nan        nan         nan         nan\ntype_7          -12.0513        nan        nan        nan         nan         nan\ntype_8           -4.7267        nan        nan        nan         nan         nan\nrace_1           -0.4968      0.080     -6.207      0.000      -0.654      -0.340\nrace_2           -0.0975      0.105     -0.930      0.352      -0.303       0.108\nrace_3           -0.7718      0.254     -3.033      0.002      -1.270      -0.273\nrace_4           -0.6043      0.294     -2.056      0.040      -1.180      -0.028\n=================================================================================\n\"\"\"",
      "text/html": "<table class=\"simpletable\">\n<caption>Logit Regression Results</caption>\n<tr>\n  <th>Dep. Variable:</th>        <td>income</td>      <th>  No. Observations:  </th>  <td> 22792</td> \n</tr>\n<tr>\n  <th>Model:</th>                 <td>Logit</td>      <th>  Df Residuals:      </th>  <td> 22772</td> \n</tr>\n<tr>\n  <th>Method:</th>                 <td>MLE</td>       <th>  Df Model:          </th>  <td>    19</td> \n</tr>\n<tr>\n  <th>Date:</th>            <td>Mon, 20 Mar 2023</td> <th>  Pseudo R-squ.:     </th>  <td>0.2995</td> \n</tr>\n<tr>\n  <th>Time:</th>                <td>16:26:00</td>     <th>  Log-Likelihood:    </th> <td> -8782.4</td>\n</tr>\n<tr>\n  <th>converged:</th>             <td>False</td>      <th>  LL-Null:           </th> <td> -12538.</td>\n</tr>\n<tr>\n  <th>Covariance Type:</th>     <td>nonrobust</td>    <th>  LLR p-value:       </th>  <td> 0.000</td> \n</tr>\n</table>\n<table class=\"simpletable\">\n<tr>\n        <td></td>           <th>coef</th>     <th>std err</th>      <th>z</th>      <th>P>|z|</th>  <th>[0.025</th>    <th>0.975]</th>  \n</tr>\n<tr>\n  <th>Intercept</th>     <td>   -8.8908</td> <td>    0.185</td> <td>  -48.143</td> <td> 0.000</td> <td>   -9.253</td> <td>   -8.529</td>\n</tr>\n<tr>\n  <th>age</th>           <td>    0.0435</td> <td>    0.002</td> <td>   27.729</td> <td> 0.000</td> <td>    0.040</td> <td>    0.047</td>\n</tr>\n<tr>\n  <th>type_employer</th> <td>   -1.3220</td> <td>      nan</td> <td>      nan</td> <td>   nan</td> <td>      nan</td> <td>      nan</td>\n</tr>\n<tr>\n  <th>fnlwgt</th>        <td>  5.74e-07</td> <td> 1.84e-07</td> <td>    3.128</td> <td> 0.002</td> <td> 2.14e-07</td> <td> 9.34e-07</td>\n</tr>\n<tr>\n  <th>education_num</th> <td>    0.3215</td> <td>    0.009</td> <td>   37.686</td> <td> 0.000</td> <td>    0.305</td> <td>    0.338</td>\n</tr>\n<tr>\n  <th>sex</th>           <td>    1.1707</td> <td>    0.049</td> <td>   23.784</td> <td> 0.000</td> <td>    1.074</td> <td>    1.267</td>\n</tr>\n<tr>\n  <th>capital_gain</th>  <td>    0.0003</td> <td> 1.18e-05</td> <td>   27.364</td> <td> 0.000</td> <td>    0.000</td> <td>    0.000</td>\n</tr>\n<tr>\n  <th>capital_loss</th>  <td>    0.0006</td> <td> 3.95e-05</td> <td>   15.984</td> <td> 0.000</td> <td>    0.001</td> <td>    0.001</td>\n</tr>\n<tr>\n  <th>hr_per_week</th>   <td>    0.0315</td> <td>    0.002</td> <td>   18.687</td> <td> 0.000</td> <td>    0.028</td> <td>    0.035</td>\n</tr>\n<tr>\n  <th>type_1</th>        <td>    0.9119</td> <td>      nan</td> <td>      nan</td> <td>   nan</td> <td>      nan</td> <td>      nan</td>\n</tr>\n<tr>\n  <th>type_2</th>        <td>    2.6871</td> <td>      nan</td> <td>      nan</td> <td>   nan</td> <td>      nan</td> <td>      nan</td>\n</tr>\n<tr>\n  <th>type_3</th>        <td>    4.5945</td> <td>      nan</td> <td>      nan</td> <td>   nan</td> <td>      nan</td> <td>      nan</td>\n</tr>\n<tr>\n  <th>type_4</th>        <td>    5.2763</td> <td>      nan</td> <td>      nan</td> <td>   nan</td> <td>      nan</td> <td>      nan</td>\n</tr>\n<tr>\n  <th>type_5</th>        <td>    5.7229</td> <td>      nan</td> <td>      nan</td> <td>   nan</td> <td>      nan</td> <td>      nan</td>\n</tr>\n<tr>\n  <th>type_6</th>        <td>    8.5103</td> <td>      nan</td> <td>      nan</td> <td>   nan</td> <td>      nan</td> <td>      nan</td>\n</tr>\n<tr>\n  <th>type_7</th>        <td>  -12.0513</td> <td>      nan</td> <td>      nan</td> <td>   nan</td> <td>      nan</td> <td>      nan</td>\n</tr>\n<tr>\n  <th>type_8</th>        <td>   -4.7267</td> <td>      nan</td> <td>      nan</td> <td>   nan</td> <td>      nan</td> <td>      nan</td>\n</tr>\n<tr>\n  <th>race_1</th>        <td>   -0.4968</td> <td>    0.080</td> <td>   -6.207</td> <td> 0.000</td> <td>   -0.654</td> <td>   -0.340</td>\n</tr>\n<tr>\n  <th>race_2</th>        <td>   -0.0975</td> <td>    0.105</td> <td>   -0.930</td> <td> 0.352</td> <td>   -0.303</td> <td>    0.108</td>\n</tr>\n<tr>\n  <th>race_3</th>        <td>   -0.7718</td> <td>    0.254</td> <td>   -3.033</td> <td> 0.002</td> <td>   -1.270</td> <td>   -0.273</td>\n</tr>\n<tr>\n  <th>race_4</th>        <td>   -0.6043</td> <td>    0.294</td> <td>   -2.056</td> <td> 0.040</td> <td>   -1.180</td> <td>   -0.028</td>\n</tr>\n</table>"
     },
     "execution_count": 94,
     "metadata": {},
     "output_type": "execute_result"
    }
   ],
   "source": [
    "formula = 'income~age+type_employer+fnlwgt+education_num+sex+capital_gain+capital_loss+hr_per_week+type_1+type_2+type_3+type_4+type_5+type_6+type_7+type_8+race_1+race_2+race_3+race_4'\n",
    "#实例化\n",
    "model = smf.logit(formula=formula, data=train)\n",
    "#拟合模型\n",
    "model = model.fit()\n",
    "#输出拟合结果\n",
    "model.summary()"
   ],
   "metadata": {
    "collapsed": false
   }
  },
  {
   "cell_type": "code",
   "execution_count": 93,
   "outputs": [],
   "source": [
    "#划分数据集\n",
    "train, test= train_test_split(df4, test_size= 0.3,random_state= 6)"
   ],
   "metadata": {
    "collapsed": false
   }
  },
  {
   "cell_type": "code",
   "execution_count": 26,
   "outputs": [],
   "source": [
    "from scipy import stats\n",
    "import matplotlib.pyplot as plt\n",
    "import statsmodels.formula.api as smf\n",
    "import statsmodels.api as sm\n",
    "from statsmodels.stats.outliers_influence import variance_inflation_factor as vif"
   ],
   "metadata": {
    "collapsed": false
   }
  },
  {
   "cell_type": "code",
   "execution_count": 25,
   "outputs": [
    {
     "data": {
      "text/plain": "   age  type_employer  fnlwgt  education_num  race  sex  capital_gain  \\\n0   39              0   77516             13     0    1          2174   \n1   50              1   83311             13     0    1             0   \n2   38              2  215646              9     0    1             0   \n\n   capital_loss  hr_per_week  income  ...  type_3  type_4  type_5  type_6  \\\n0             0           40       0  ...       0       0       0       0   \n1             0           13       0  ...       0       0       0       0   \n2             0           40       0  ...       0       0       0       0   \n\n   type_7  type_8  race_1  race_2  race_3  race_4  \n0       0       0       0       0       0       0  \n1       0       0       0       0       0       0  \n2       0       0       0       0       0       0  \n\n[3 rows x 22 columns]",
      "text/html": "<div>\n<style scoped>\n    .dataframe tbody tr th:only-of-type {\n        vertical-align: middle;\n    }\n\n    .dataframe tbody tr th {\n        vertical-align: top;\n    }\n\n    .dataframe thead th {\n        text-align: right;\n    }\n</style>\n<table border=\"1\" class=\"dataframe\">\n  <thead>\n    <tr style=\"text-align: right;\">\n      <th></th>\n      <th>age</th>\n      <th>type_employer</th>\n      <th>fnlwgt</th>\n      <th>education_num</th>\n      <th>race</th>\n      <th>sex</th>\n      <th>capital_gain</th>\n      <th>capital_loss</th>\n      <th>hr_per_week</th>\n      <th>income</th>\n      <th>...</th>\n      <th>type_3</th>\n      <th>type_4</th>\n      <th>type_5</th>\n      <th>type_6</th>\n      <th>type_7</th>\n      <th>type_8</th>\n      <th>race_1</th>\n      <th>race_2</th>\n      <th>race_3</th>\n      <th>race_4</th>\n    </tr>\n  </thead>\n  <tbody>\n    <tr>\n      <th>0</th>\n      <td>39</td>\n      <td>0</td>\n      <td>77516</td>\n      <td>13</td>\n      <td>0</td>\n      <td>1</td>\n      <td>2174</td>\n      <td>0</td>\n      <td>40</td>\n      <td>0</td>\n      <td>...</td>\n      <td>0</td>\n      <td>0</td>\n      <td>0</td>\n      <td>0</td>\n      <td>0</td>\n      <td>0</td>\n      <td>0</td>\n      <td>0</td>\n      <td>0</td>\n      <td>0</td>\n    </tr>\n    <tr>\n      <th>1</th>\n      <td>50</td>\n      <td>1</td>\n      <td>83311</td>\n      <td>13</td>\n      <td>0</td>\n      <td>1</td>\n      <td>0</td>\n      <td>0</td>\n      <td>13</td>\n      <td>0</td>\n      <td>...</td>\n      <td>0</td>\n      <td>0</td>\n      <td>0</td>\n      <td>0</td>\n      <td>0</td>\n      <td>0</td>\n      <td>0</td>\n      <td>0</td>\n      <td>0</td>\n      <td>0</td>\n    </tr>\n    <tr>\n      <th>2</th>\n      <td>38</td>\n      <td>2</td>\n      <td>215646</td>\n      <td>9</td>\n      <td>0</td>\n      <td>1</td>\n      <td>0</td>\n      <td>0</td>\n      <td>40</td>\n      <td>0</td>\n      <td>...</td>\n      <td>0</td>\n      <td>0</td>\n      <td>0</td>\n      <td>0</td>\n      <td>0</td>\n      <td>0</td>\n      <td>0</td>\n      <td>0</td>\n      <td>0</td>\n      <td>0</td>\n    </tr>\n  </tbody>\n</table>\n<p>3 rows × 22 columns</p>\n</div>"
     },
     "execution_count": 25,
     "metadata": {},
     "output_type": "execute_result"
    }
   ],
   "source": [
    "df4['income']=df4['income'].replace({'<=50K\\n':0,'>50K\\n':1})\n",
    "df4.head(3)"
   ],
   "metadata": {
    "collapsed": false
   }
  },
  {
   "cell_type": "code",
   "execution_count": 24,
   "outputs": [],
   "source": [
    "df4=df2.copy()"
   ],
   "metadata": {
    "collapsed": false
   }
  },
  {
   "cell_type": "code",
   "execution_count": 19,
   "outputs": [
    {
     "data": {
      "text/plain": "RandomForestClassifier(oob_score=True)",
      "text/html": "<style>#sk-container-id-4 {color: black;background-color: white;}#sk-container-id-4 pre{padding: 0;}#sk-container-id-4 div.sk-toggleable {background-color: white;}#sk-container-id-4 label.sk-toggleable__label {cursor: pointer;display: block;width: 100%;margin-bottom: 0;padding: 0.3em;box-sizing: border-box;text-align: center;}#sk-container-id-4 label.sk-toggleable__label-arrow:before {content: \"▸\";float: left;margin-right: 0.25em;color: #696969;}#sk-container-id-4 label.sk-toggleable__label-arrow:hover:before {color: black;}#sk-container-id-4 div.sk-estimator:hover label.sk-toggleable__label-arrow:before {color: black;}#sk-container-id-4 div.sk-toggleable__content {max-height: 0;max-width: 0;overflow: hidden;text-align: left;background-color: #f0f8ff;}#sk-container-id-4 div.sk-toggleable__content pre {margin: 0.2em;color: black;border-radius: 0.25em;background-color: #f0f8ff;}#sk-container-id-4 input.sk-toggleable__control:checked~div.sk-toggleable__content {max-height: 200px;max-width: 100%;overflow: auto;}#sk-container-id-4 input.sk-toggleable__control:checked~label.sk-toggleable__label-arrow:before {content: \"▾\";}#sk-container-id-4 div.sk-estimator input.sk-toggleable__control:checked~label.sk-toggleable__label {background-color: #d4ebff;}#sk-container-id-4 div.sk-label input.sk-toggleable__control:checked~label.sk-toggleable__label {background-color: #d4ebff;}#sk-container-id-4 input.sk-hidden--visually {border: 0;clip: rect(1px 1px 1px 1px);clip: rect(1px, 1px, 1px, 1px);height: 1px;margin: -1px;overflow: hidden;padding: 0;position: absolute;width: 1px;}#sk-container-id-4 div.sk-estimator {font-family: monospace;background-color: #f0f8ff;border: 1px dotted black;border-radius: 0.25em;box-sizing: border-box;margin-bottom: 0.5em;}#sk-container-id-4 div.sk-estimator:hover {background-color: #d4ebff;}#sk-container-id-4 div.sk-parallel-item::after {content: \"\";width: 100%;border-bottom: 1px solid gray;flex-grow: 1;}#sk-container-id-4 div.sk-label:hover label.sk-toggleable__label {background-color: #d4ebff;}#sk-container-id-4 div.sk-serial::before {content: \"\";position: absolute;border-left: 1px solid gray;box-sizing: border-box;top: 0;bottom: 0;left: 50%;z-index: 0;}#sk-container-id-4 div.sk-serial {display: flex;flex-direction: column;align-items: center;background-color: white;padding-right: 0.2em;padding-left: 0.2em;position: relative;}#sk-container-id-4 div.sk-item {position: relative;z-index: 1;}#sk-container-id-4 div.sk-parallel {display: flex;align-items: stretch;justify-content: center;background-color: white;position: relative;}#sk-container-id-4 div.sk-item::before, #sk-container-id-4 div.sk-parallel-item::before {content: \"\";position: absolute;border-left: 1px solid gray;box-sizing: border-box;top: 0;bottom: 0;left: 50%;z-index: -1;}#sk-container-id-4 div.sk-parallel-item {display: flex;flex-direction: column;z-index: 1;position: relative;background-color: white;}#sk-container-id-4 div.sk-parallel-item:first-child::after {align-self: flex-end;width: 50%;}#sk-container-id-4 div.sk-parallel-item:last-child::after {align-self: flex-start;width: 50%;}#sk-container-id-4 div.sk-parallel-item:only-child::after {width: 0;}#sk-container-id-4 div.sk-dashed-wrapped {border: 1px dashed gray;margin: 0 0.4em 0.5em 0.4em;box-sizing: border-box;padding-bottom: 0.4em;background-color: white;}#sk-container-id-4 div.sk-label label {font-family: monospace;font-weight: bold;display: inline-block;line-height: 1.2em;}#sk-container-id-4 div.sk-label-container {text-align: center;}#sk-container-id-4 div.sk-container {/* jupyter's `normalize.less` sets `[hidden] { display: none; }` but bootstrap.min.css set `[hidden] { display: none !important; }` so we also need the `!important` here to be able to override the default hidden behavior on the sphinx rendered scikit-learn.org. See: https://github.com/scikit-learn/scikit-learn/issues/21755 */display: inline-block !important;position: relative;}#sk-container-id-4 div.sk-text-repr-fallback {display: none;}</style><div id=\"sk-container-id-4\" class=\"sk-top-container\"><div class=\"sk-text-repr-fallback\"><pre>RandomForestClassifier(oob_score=True)</pre><b>In a Jupyter environment, please rerun this cell to show the HTML representation or trust the notebook. <br />On GitHub, the HTML representation is unable to render, please try loading this page with nbviewer.org.</b></div><div class=\"sk-container\" hidden><div class=\"sk-item\"><div class=\"sk-estimator sk-toggleable\"><input class=\"sk-toggleable__control sk-hidden--visually\" id=\"sk-estimator-id-8\" type=\"checkbox\" checked><label for=\"sk-estimator-id-8\" class=\"sk-toggleable__label sk-toggleable__label-arrow\">RandomForestClassifier</label><div class=\"sk-toggleable__content\"><pre>RandomForestClassifier(oob_score=True)</pre></div></div></div></div></div>"
     },
     "execution_count": 19,
     "metadata": {},
     "output_type": "execute_result"
    },
    {
     "data": {
      "text/plain": "0.8304841846657796"
     },
     "execution_count": 19,
     "metadata": {},
     "output_type": "execute_result"
    }
   ],
   "source": [
    "#随机森林，特点1：二个随机，样本随机，特征随机，导致不同的采样集\n",
    "#OOB,袋外样本，天然的测式集\n",
    "#Bagging 随机森林\n",
    "# 训练模型Baseline 基线模型，并在此基础上进行调参\n",
    "from sklearn.ensemble import RandomForestClassifier\n",
    "RF = RandomForestClassifier(bootstrap=True,oob_score=True) #袋外样本必需设置\n",
    "RF.fit(Xtrain,Ytrain)\n",
    "RF.score(Xtest,Ytest)"
   ],
   "metadata": {
    "collapsed": false
   }
  },
  {
   "cell_type": "code",
   "execution_count": 18,
   "outputs": [
    {
     "data": {
      "text/plain": "BaggingClassifier(base_estimator=LogisticRegression(), n_estimators=50)",
      "text/html": "<style>#sk-container-id-3 {color: black;background-color: white;}#sk-container-id-3 pre{padding: 0;}#sk-container-id-3 div.sk-toggleable {background-color: white;}#sk-container-id-3 label.sk-toggleable__label {cursor: pointer;display: block;width: 100%;margin-bottom: 0;padding: 0.3em;box-sizing: border-box;text-align: center;}#sk-container-id-3 label.sk-toggleable__label-arrow:before {content: \"▸\";float: left;margin-right: 0.25em;color: #696969;}#sk-container-id-3 label.sk-toggleable__label-arrow:hover:before {color: black;}#sk-container-id-3 div.sk-estimator:hover label.sk-toggleable__label-arrow:before {color: black;}#sk-container-id-3 div.sk-toggleable__content {max-height: 0;max-width: 0;overflow: hidden;text-align: left;background-color: #f0f8ff;}#sk-container-id-3 div.sk-toggleable__content pre {margin: 0.2em;color: black;border-radius: 0.25em;background-color: #f0f8ff;}#sk-container-id-3 input.sk-toggleable__control:checked~div.sk-toggleable__content {max-height: 200px;max-width: 100%;overflow: auto;}#sk-container-id-3 input.sk-toggleable__control:checked~label.sk-toggleable__label-arrow:before {content: \"▾\";}#sk-container-id-3 div.sk-estimator input.sk-toggleable__control:checked~label.sk-toggleable__label {background-color: #d4ebff;}#sk-container-id-3 div.sk-label input.sk-toggleable__control:checked~label.sk-toggleable__label {background-color: #d4ebff;}#sk-container-id-3 input.sk-hidden--visually {border: 0;clip: rect(1px 1px 1px 1px);clip: rect(1px, 1px, 1px, 1px);height: 1px;margin: -1px;overflow: hidden;padding: 0;position: absolute;width: 1px;}#sk-container-id-3 div.sk-estimator {font-family: monospace;background-color: #f0f8ff;border: 1px dotted black;border-radius: 0.25em;box-sizing: border-box;margin-bottom: 0.5em;}#sk-container-id-3 div.sk-estimator:hover {background-color: #d4ebff;}#sk-container-id-3 div.sk-parallel-item::after {content: \"\";width: 100%;border-bottom: 1px solid gray;flex-grow: 1;}#sk-container-id-3 div.sk-label:hover label.sk-toggleable__label {background-color: #d4ebff;}#sk-container-id-3 div.sk-serial::before {content: \"\";position: absolute;border-left: 1px solid gray;box-sizing: border-box;top: 0;bottom: 0;left: 50%;z-index: 0;}#sk-container-id-3 div.sk-serial {display: flex;flex-direction: column;align-items: center;background-color: white;padding-right: 0.2em;padding-left: 0.2em;position: relative;}#sk-container-id-3 div.sk-item {position: relative;z-index: 1;}#sk-container-id-3 div.sk-parallel {display: flex;align-items: stretch;justify-content: center;background-color: white;position: relative;}#sk-container-id-3 div.sk-item::before, #sk-container-id-3 div.sk-parallel-item::before {content: \"\";position: absolute;border-left: 1px solid gray;box-sizing: border-box;top: 0;bottom: 0;left: 50%;z-index: -1;}#sk-container-id-3 div.sk-parallel-item {display: flex;flex-direction: column;z-index: 1;position: relative;background-color: white;}#sk-container-id-3 div.sk-parallel-item:first-child::after {align-self: flex-end;width: 50%;}#sk-container-id-3 div.sk-parallel-item:last-child::after {align-self: flex-start;width: 50%;}#sk-container-id-3 div.sk-parallel-item:only-child::after {width: 0;}#sk-container-id-3 div.sk-dashed-wrapped {border: 1px dashed gray;margin: 0 0.4em 0.5em 0.4em;box-sizing: border-box;padding-bottom: 0.4em;background-color: white;}#sk-container-id-3 div.sk-label label {font-family: monospace;font-weight: bold;display: inline-block;line-height: 1.2em;}#sk-container-id-3 div.sk-label-container {text-align: center;}#sk-container-id-3 div.sk-container {/* jupyter's `normalize.less` sets `[hidden] { display: none; }` but bootstrap.min.css set `[hidden] { display: none !important; }` so we also need the `!important` here to be able to override the default hidden behavior on the sphinx rendered scikit-learn.org. See: https://github.com/scikit-learn/scikit-learn/issues/21755 */display: inline-block !important;position: relative;}#sk-container-id-3 div.sk-text-repr-fallback {display: none;}</style><div id=\"sk-container-id-3\" class=\"sk-top-container\"><div class=\"sk-text-repr-fallback\"><pre>BaggingClassifier(base_estimator=LogisticRegression(), n_estimators=50)</pre><b>In a Jupyter environment, please rerun this cell to show the HTML representation or trust the notebook. <br />On GitHub, the HTML representation is unable to render, please try loading this page with nbviewer.org.</b></div><div class=\"sk-container\" hidden><div class=\"sk-item sk-dashed-wrapped\"><div class=\"sk-label-container\"><div class=\"sk-label sk-toggleable\"><input class=\"sk-toggleable__control sk-hidden--visually\" id=\"sk-estimator-id-5\" type=\"checkbox\" ><label for=\"sk-estimator-id-5\" class=\"sk-toggleable__label sk-toggleable__label-arrow\">BaggingClassifier</label><div class=\"sk-toggleable__content\"><pre>BaggingClassifier(base_estimator=LogisticRegression(), n_estimators=50)</pre></div></div></div><div class=\"sk-parallel\"><div class=\"sk-parallel-item\"><div class=\"sk-item\"><div class=\"sk-label-container\"><div class=\"sk-label sk-toggleable\"><input class=\"sk-toggleable__control sk-hidden--visually\" id=\"sk-estimator-id-6\" type=\"checkbox\" ><label for=\"sk-estimator-id-6\" class=\"sk-toggleable__label sk-toggleable__label-arrow\">base_estimator: LogisticRegression</label><div class=\"sk-toggleable__content\"><pre>LogisticRegression()</pre></div></div></div><div class=\"sk-serial\"><div class=\"sk-item\"><div class=\"sk-estimator sk-toggleable\"><input class=\"sk-toggleable__control sk-hidden--visually\" id=\"sk-estimator-id-7\" type=\"checkbox\" ><label for=\"sk-estimator-id-7\" class=\"sk-toggleable__label sk-toggleable__label-arrow\">LogisticRegression</label><div class=\"sk-toggleable__content\"><pre>LogisticRegression()</pre></div></div></div></div></div></div></div></div></div></div>"
     },
     "execution_count": 18,
     "metadata": {},
     "output_type": "execute_result"
    },
    {
     "data": {
      "text/plain": "0.7961920360323472"
     },
     "execution_count": 18,
     "metadata": {},
     "output_type": "execute_result"
    }
   ],
   "source": [
    "# 基学习器用逻辑回归，集成50个基学习器\n",
    "from sklearn.linear_model import LogisticRegression\n",
    "from sklearn.ensemble import BaggingClassifier\n",
    "LR3 = LogisticRegression()\n",
    "bag = BaggingClassifier(base_estimator=LR3,n_estimators=50)\n",
    "bag.fit(Xtrain, Ytrain)   # 计算\n",
    "bag.score(Xtest, Ytest)"
   ],
   "metadata": {
    "collapsed": false
   }
  },
  {
   "cell_type": "code",
   "execution_count": 17,
   "outputs": [
    {
     "data": {
      "text/plain": "AdaBoostClassifier(base_estimator=LogisticRegression(), n_estimators=20)",
      "text/html": "<style>#sk-container-id-2 {color: black;background-color: white;}#sk-container-id-2 pre{padding: 0;}#sk-container-id-2 div.sk-toggleable {background-color: white;}#sk-container-id-2 label.sk-toggleable__label {cursor: pointer;display: block;width: 100%;margin-bottom: 0;padding: 0.3em;box-sizing: border-box;text-align: center;}#sk-container-id-2 label.sk-toggleable__label-arrow:before {content: \"▸\";float: left;margin-right: 0.25em;color: #696969;}#sk-container-id-2 label.sk-toggleable__label-arrow:hover:before {color: black;}#sk-container-id-2 div.sk-estimator:hover label.sk-toggleable__label-arrow:before {color: black;}#sk-container-id-2 div.sk-toggleable__content {max-height: 0;max-width: 0;overflow: hidden;text-align: left;background-color: #f0f8ff;}#sk-container-id-2 div.sk-toggleable__content pre {margin: 0.2em;color: black;border-radius: 0.25em;background-color: #f0f8ff;}#sk-container-id-2 input.sk-toggleable__control:checked~div.sk-toggleable__content {max-height: 200px;max-width: 100%;overflow: auto;}#sk-container-id-2 input.sk-toggleable__control:checked~label.sk-toggleable__label-arrow:before {content: \"▾\";}#sk-container-id-2 div.sk-estimator input.sk-toggleable__control:checked~label.sk-toggleable__label {background-color: #d4ebff;}#sk-container-id-2 div.sk-label input.sk-toggleable__control:checked~label.sk-toggleable__label {background-color: #d4ebff;}#sk-container-id-2 input.sk-hidden--visually {border: 0;clip: rect(1px 1px 1px 1px);clip: rect(1px, 1px, 1px, 1px);height: 1px;margin: -1px;overflow: hidden;padding: 0;position: absolute;width: 1px;}#sk-container-id-2 div.sk-estimator {font-family: monospace;background-color: #f0f8ff;border: 1px dotted black;border-radius: 0.25em;box-sizing: border-box;margin-bottom: 0.5em;}#sk-container-id-2 div.sk-estimator:hover {background-color: #d4ebff;}#sk-container-id-2 div.sk-parallel-item::after {content: \"\";width: 100%;border-bottom: 1px solid gray;flex-grow: 1;}#sk-container-id-2 div.sk-label:hover label.sk-toggleable__label {background-color: #d4ebff;}#sk-container-id-2 div.sk-serial::before {content: \"\";position: absolute;border-left: 1px solid gray;box-sizing: border-box;top: 0;bottom: 0;left: 50%;z-index: 0;}#sk-container-id-2 div.sk-serial {display: flex;flex-direction: column;align-items: center;background-color: white;padding-right: 0.2em;padding-left: 0.2em;position: relative;}#sk-container-id-2 div.sk-item {position: relative;z-index: 1;}#sk-container-id-2 div.sk-parallel {display: flex;align-items: stretch;justify-content: center;background-color: white;position: relative;}#sk-container-id-2 div.sk-item::before, #sk-container-id-2 div.sk-parallel-item::before {content: \"\";position: absolute;border-left: 1px solid gray;box-sizing: border-box;top: 0;bottom: 0;left: 50%;z-index: -1;}#sk-container-id-2 div.sk-parallel-item {display: flex;flex-direction: column;z-index: 1;position: relative;background-color: white;}#sk-container-id-2 div.sk-parallel-item:first-child::after {align-self: flex-end;width: 50%;}#sk-container-id-2 div.sk-parallel-item:last-child::after {align-self: flex-start;width: 50%;}#sk-container-id-2 div.sk-parallel-item:only-child::after {width: 0;}#sk-container-id-2 div.sk-dashed-wrapped {border: 1px dashed gray;margin: 0 0.4em 0.5em 0.4em;box-sizing: border-box;padding-bottom: 0.4em;background-color: white;}#sk-container-id-2 div.sk-label label {font-family: monospace;font-weight: bold;display: inline-block;line-height: 1.2em;}#sk-container-id-2 div.sk-label-container {text-align: center;}#sk-container-id-2 div.sk-container {/* jupyter's `normalize.less` sets `[hidden] { display: none; }` but bootstrap.min.css set `[hidden] { display: none !important; }` so we also need the `!important` here to be able to override the default hidden behavior on the sphinx rendered scikit-learn.org. See: https://github.com/scikit-learn/scikit-learn/issues/21755 */display: inline-block !important;position: relative;}#sk-container-id-2 div.sk-text-repr-fallback {display: none;}</style><div id=\"sk-container-id-2\" class=\"sk-top-container\"><div class=\"sk-text-repr-fallback\"><pre>AdaBoostClassifier(base_estimator=LogisticRegression(), n_estimators=20)</pre><b>In a Jupyter environment, please rerun this cell to show the HTML representation or trust the notebook. <br />On GitHub, the HTML representation is unable to render, please try loading this page with nbviewer.org.</b></div><div class=\"sk-container\" hidden><div class=\"sk-item sk-dashed-wrapped\"><div class=\"sk-label-container\"><div class=\"sk-label sk-toggleable\"><input class=\"sk-toggleable__control sk-hidden--visually\" id=\"sk-estimator-id-2\" type=\"checkbox\" ><label for=\"sk-estimator-id-2\" class=\"sk-toggleable__label sk-toggleable__label-arrow\">AdaBoostClassifier</label><div class=\"sk-toggleable__content\"><pre>AdaBoostClassifier(base_estimator=LogisticRegression(), n_estimators=20)</pre></div></div></div><div class=\"sk-parallel\"><div class=\"sk-parallel-item\"><div class=\"sk-item\"><div class=\"sk-label-container\"><div class=\"sk-label sk-toggleable\"><input class=\"sk-toggleable__control sk-hidden--visually\" id=\"sk-estimator-id-3\" type=\"checkbox\" ><label for=\"sk-estimator-id-3\" class=\"sk-toggleable__label sk-toggleable__label-arrow\">base_estimator: LogisticRegression</label><div class=\"sk-toggleable__content\"><pre>LogisticRegression()</pre></div></div></div><div class=\"sk-serial\"><div class=\"sk-item\"><div class=\"sk-estimator sk-toggleable\"><input class=\"sk-toggleable__control sk-hidden--visually\" id=\"sk-estimator-id-4\" type=\"checkbox\" ><label for=\"sk-estimator-id-4\" class=\"sk-toggleable__label sk-toggleable__label-arrow\">LogisticRegression</label><div class=\"sk-toggleable__content\"><pre>LogisticRegression()</pre></div></div></div></div></div></div></div></div></div></div>"
     },
     "execution_count": 17,
     "metadata": {},
     "output_type": "execute_result"
    },
    {
     "data": {
      "text/plain": "0.7996724332070836"
     },
     "execution_count": 17,
     "metadata": {},
     "output_type": "execute_result"
    }
   ],
   "source": [
    "#Boosting,Bagging\n",
    "# 基学习器用逻辑回归，集成最多20个基学习器\n",
    "from sklearn.linear_model import LogisticRegression\n",
    "from sklearn.ensemble import AdaBoostClassifier\n",
    "#先实例一个机器学习器\n",
    "LR2 = LogisticRegression()\n",
    "ada= AdaBoostClassifier(base_estimator= LR2, n_estimators= 20)  # 实例化\n",
    "ada.fit(Xtrain, Ytrain)   # 计算\n",
    "ada.score(Xtest, Ytest)"
   ],
   "metadata": {
    "collapsed": false
   }
  },
  {
   "cell_type": "code",
   "execution_count": 16,
   "outputs": [
    {
     "data": {
      "text/plain": "LogisticRegression()",
      "text/html": "<style>#sk-container-id-1 {color: black;background-color: white;}#sk-container-id-1 pre{padding: 0;}#sk-container-id-1 div.sk-toggleable {background-color: white;}#sk-container-id-1 label.sk-toggleable__label {cursor: pointer;display: block;width: 100%;margin-bottom: 0;padding: 0.3em;box-sizing: border-box;text-align: center;}#sk-container-id-1 label.sk-toggleable__label-arrow:before {content: \"▸\";float: left;margin-right: 0.25em;color: #696969;}#sk-container-id-1 label.sk-toggleable__label-arrow:hover:before {color: black;}#sk-container-id-1 div.sk-estimator:hover label.sk-toggleable__label-arrow:before {color: black;}#sk-container-id-1 div.sk-toggleable__content {max-height: 0;max-width: 0;overflow: hidden;text-align: left;background-color: #f0f8ff;}#sk-container-id-1 div.sk-toggleable__content pre {margin: 0.2em;color: black;border-radius: 0.25em;background-color: #f0f8ff;}#sk-container-id-1 input.sk-toggleable__control:checked~div.sk-toggleable__content {max-height: 200px;max-width: 100%;overflow: auto;}#sk-container-id-1 input.sk-toggleable__control:checked~label.sk-toggleable__label-arrow:before {content: \"▾\";}#sk-container-id-1 div.sk-estimator input.sk-toggleable__control:checked~label.sk-toggleable__label {background-color: #d4ebff;}#sk-container-id-1 div.sk-label input.sk-toggleable__control:checked~label.sk-toggleable__label {background-color: #d4ebff;}#sk-container-id-1 input.sk-hidden--visually {border: 0;clip: rect(1px 1px 1px 1px);clip: rect(1px, 1px, 1px, 1px);height: 1px;margin: -1px;overflow: hidden;padding: 0;position: absolute;width: 1px;}#sk-container-id-1 div.sk-estimator {font-family: monospace;background-color: #f0f8ff;border: 1px dotted black;border-radius: 0.25em;box-sizing: border-box;margin-bottom: 0.5em;}#sk-container-id-1 div.sk-estimator:hover {background-color: #d4ebff;}#sk-container-id-1 div.sk-parallel-item::after {content: \"\";width: 100%;border-bottom: 1px solid gray;flex-grow: 1;}#sk-container-id-1 div.sk-label:hover label.sk-toggleable__label {background-color: #d4ebff;}#sk-container-id-1 div.sk-serial::before {content: \"\";position: absolute;border-left: 1px solid gray;box-sizing: border-box;top: 0;bottom: 0;left: 50%;z-index: 0;}#sk-container-id-1 div.sk-serial {display: flex;flex-direction: column;align-items: center;background-color: white;padding-right: 0.2em;padding-left: 0.2em;position: relative;}#sk-container-id-1 div.sk-item {position: relative;z-index: 1;}#sk-container-id-1 div.sk-parallel {display: flex;align-items: stretch;justify-content: center;background-color: white;position: relative;}#sk-container-id-1 div.sk-item::before, #sk-container-id-1 div.sk-parallel-item::before {content: \"\";position: absolute;border-left: 1px solid gray;box-sizing: border-box;top: 0;bottom: 0;left: 50%;z-index: -1;}#sk-container-id-1 div.sk-parallel-item {display: flex;flex-direction: column;z-index: 1;position: relative;background-color: white;}#sk-container-id-1 div.sk-parallel-item:first-child::after {align-self: flex-end;width: 50%;}#sk-container-id-1 div.sk-parallel-item:last-child::after {align-self: flex-start;width: 50%;}#sk-container-id-1 div.sk-parallel-item:only-child::after {width: 0;}#sk-container-id-1 div.sk-dashed-wrapped {border: 1px dashed gray;margin: 0 0.4em 0.5em 0.4em;box-sizing: border-box;padding-bottom: 0.4em;background-color: white;}#sk-container-id-1 div.sk-label label {font-family: monospace;font-weight: bold;display: inline-block;line-height: 1.2em;}#sk-container-id-1 div.sk-label-container {text-align: center;}#sk-container-id-1 div.sk-container {/* jupyter's `normalize.less` sets `[hidden] { display: none; }` but bootstrap.min.css set `[hidden] { display: none !important; }` so we also need the `!important` here to be able to override the default hidden behavior on the sphinx rendered scikit-learn.org. See: https://github.com/scikit-learn/scikit-learn/issues/21755 */display: inline-block !important;position: relative;}#sk-container-id-1 div.sk-text-repr-fallback {display: none;}</style><div id=\"sk-container-id-1\" class=\"sk-top-container\"><div class=\"sk-text-repr-fallback\"><pre>LogisticRegression()</pre><b>In a Jupyter environment, please rerun this cell to show the HTML representation or trust the notebook. <br />On GitHub, the HTML representation is unable to render, please try loading this page with nbviewer.org.</b></div><div class=\"sk-container\" hidden><div class=\"sk-item\"><div class=\"sk-estimator sk-toggleable\"><input class=\"sk-toggleable__control sk-hidden--visually\" id=\"sk-estimator-id-1\" type=\"checkbox\" checked><label for=\"sk-estimator-id-1\" class=\"sk-toggleable__label sk-toggleable__label-arrow\">LogisticRegression</label><div class=\"sk-toggleable__content\"><pre>LogisticRegression()</pre></div></div></div></div></div>"
     },
     "execution_count": 16,
     "metadata": {},
     "output_type": "execute_result"
    },
    {
     "data": {
      "text/plain": "0.7973411723411723"
     },
     "execution_count": 16,
     "metadata": {},
     "output_type": "execute_result"
    },
    {
     "data": {
      "text/plain": "0.7962944006551336"
     },
     "execution_count": 16,
     "metadata": {},
     "output_type": "execute_result"
    }
   ],
   "source": [
    "#单独逻辑回归\n",
    "# 训练模型\n",
    "from sklearn.linear_model import LogisticRegression\n",
    "#实例化\n",
    "LR = LogisticRegression()\n",
    "LR.fit(Xtrain,Ytrain)\n",
    "#逻辑回归的准确率，正常先看训练集，高参后再看测试集\n",
    "LR.score(Xtrain,Ytrain)\n",
    "LR.score(Xtest,Ytest)"
   ],
   "metadata": {
    "collapsed": false
   }
  },
  {
   "cell_type": "code",
   "execution_count": 15,
   "outputs": [],
   "source": [
    "# 分割测试集\n",
    "# 分层抽样 stratify=labels,按因变量y的比例\n",
    "from sklearn.model_selection import train_test_split\n",
    "Xtrain, Xtest, Ytrain, Ytest= train_test_split(df3, y,\n",
    "                                               test_size= 0.3,\n",
    "                                               random_state= 42,\n",
    "                                               stratify= y)"
   ],
   "metadata": {
    "collapsed": false
   }
  },
  {
   "cell_type": "code",
   "execution_count": 14,
   "outputs": [
    {
     "data": {
      "text/plain": "0    0\n1    0\n2    0\n3    0\n4    0\nName: income, dtype: int64"
     },
     "execution_count": 14,
     "metadata": {},
     "output_type": "execute_result"
    }
   ],
   "source": [
    "y = df3.pop('income')\n",
    "y.head()"
   ],
   "metadata": {
    "collapsed": false
   }
  },
  {
   "cell_type": "code",
   "execution_count": 13,
   "outputs": [
    {
     "data": {
      "text/plain": "0    24720\n1     7841\nName: income, dtype: int64"
     },
     "execution_count": 13,
     "metadata": {},
     "output_type": "execute_result"
    }
   ],
   "source": [
    "df3['income']=df3['income'].replace({'<=50K\\n':0,'>50K\\n':1})\n",
    "df3.income.value_counts()"
   ],
   "metadata": {
    "collapsed": false
   }
  },
  {
   "cell_type": "code",
   "execution_count": 12,
   "outputs": [
    {
     "name": "stdout",
     "output_type": "stream",
     "text": [
      "<class 'pandas.core.frame.DataFrame'>\n",
      "RangeIndex: 32561 entries, 0 to 32560\n",
      "Data columns (total 20 columns):\n",
      " #   Column         Non-Null Count  Dtype \n",
      "---  ------         --------------  ----- \n",
      " 0   age            32561 non-null  int64 \n",
      " 1   fnlwgt         32561 non-null  int64 \n",
      " 2   education_num  32561 non-null  int64 \n",
      " 3   sex            32561 non-null  int64 \n",
      " 4   capital_gain   32561 non-null  int64 \n",
      " 5   capital_loss   32561 non-null  int64 \n",
      " 6   hr_per_week    32561 non-null  int64 \n",
      " 7   income         32561 non-null  object\n",
      " 8   type_1         32561 non-null  uint8 \n",
      " 9   type_2         32561 non-null  uint8 \n",
      " 10  type_3         32561 non-null  uint8 \n",
      " 11  type_4         32561 non-null  uint8 \n",
      " 12  type_5         32561 non-null  uint8 \n",
      " 13  type_6         32561 non-null  uint8 \n",
      " 14  type_7         32561 non-null  uint8 \n",
      " 15  type_8         32561 non-null  uint8 \n",
      " 16  race_1         32561 non-null  uint8 \n",
      " 17  race_2         32561 non-null  uint8 \n",
      " 18  race_3         32561 non-null  uint8 \n",
      " 19  race_4         32561 non-null  uint8 \n",
      "dtypes: int64(7), object(1), uint8(12)\n",
      "memory usage: 2.4+ MB\n"
     ]
    }
   ],
   "source": [
    "df3.drop(['type_employer','race'],axis=1,inplace=True)\n",
    "df3.info()"
   ],
   "metadata": {
    "collapsed": false
   }
  },
  {
   "cell_type": "code",
   "execution_count": 11,
   "outputs": [],
   "source": [
    "df2=df2.join(dummy_race)\n",
    "df3=df2.copy()"
   ],
   "metadata": {
    "collapsed": false
   }
  },
  {
   "cell_type": "code",
   "execution_count": 10,
   "outputs": [
    {
     "data": {
      "text/plain": "   race_1  race_2  race_3  race_4\n0       0       0       0       0\n1       0       0       0       0\n2       0       0       0       0\n3       1       0       0       0\n4       1       0       0       0",
      "text/html": "<div>\n<style scoped>\n    .dataframe tbody tr th:only-of-type {\n        vertical-align: middle;\n    }\n\n    .dataframe tbody tr th {\n        vertical-align: top;\n    }\n\n    .dataframe thead th {\n        text-align: right;\n    }\n</style>\n<table border=\"1\" class=\"dataframe\">\n  <thead>\n    <tr style=\"text-align: right;\">\n      <th></th>\n      <th>race_1</th>\n      <th>race_2</th>\n      <th>race_3</th>\n      <th>race_4</th>\n    </tr>\n  </thead>\n  <tbody>\n    <tr>\n      <th>0</th>\n      <td>0</td>\n      <td>0</td>\n      <td>0</td>\n      <td>0</td>\n    </tr>\n    <tr>\n      <th>1</th>\n      <td>0</td>\n      <td>0</td>\n      <td>0</td>\n      <td>0</td>\n    </tr>\n    <tr>\n      <th>2</th>\n      <td>0</td>\n      <td>0</td>\n      <td>0</td>\n      <td>0</td>\n    </tr>\n    <tr>\n      <th>3</th>\n      <td>1</td>\n      <td>0</td>\n      <td>0</td>\n      <td>0</td>\n    </tr>\n    <tr>\n      <th>4</th>\n      <td>1</td>\n      <td>0</td>\n      <td>0</td>\n      <td>0</td>\n    </tr>\n  </tbody>\n</table>\n</div>"
     },
     "execution_count": 10,
     "metadata": {},
     "output_type": "execute_result"
    }
   ],
   "source": [
    "dummy_race = pd.get_dummies(df2['race'], prefix='race', drop_first=True)\n",
    "dummy_race.head()"
   ],
   "metadata": {
    "collapsed": false
   }
  },
  {
   "cell_type": "code",
   "execution_count": 12,
   "outputs": [
    {
     "data": {
      "text/plain": "['White', 'Black', 'Asian-Pac-Islander', 'Amer-Indian-Eskimo', 'Other']"
     },
     "execution_count": 12,
     "metadata": {},
     "output_type": "execute_result"
    },
    {
     "data": {
      "text/plain": "   age  type_employer  fnlwgt  education_num  race  sex  capital_gain  \\\n0   39              0   77516             13     0    1          2174   \n1   50              1   83311             13     0    1             0   \n2   38              2  215646              9     0    1             0   \n3   53              2  234721              7     1    1             0   \n4   28              2  338409             13     1    0             0   \n\n   capital_loss  hr_per_week  income  \n0             0           40       0  \n1             0           13       0  \n2             0           40       0  \n3             0           40       0  \n4             0           40       0  ",
      "text/html": "<div>\n<style scoped>\n    .dataframe tbody tr th:only-of-type {\n        vertical-align: middle;\n    }\n\n    .dataframe tbody tr th {\n        vertical-align: top;\n    }\n\n    .dataframe thead th {\n        text-align: right;\n    }\n</style>\n<table border=\"1\" class=\"dataframe\">\n  <thead>\n    <tr style=\"text-align: right;\">\n      <th></th>\n      <th>age</th>\n      <th>type_employer</th>\n      <th>fnlwgt</th>\n      <th>education_num</th>\n      <th>race</th>\n      <th>sex</th>\n      <th>capital_gain</th>\n      <th>capital_loss</th>\n      <th>hr_per_week</th>\n      <th>income</th>\n    </tr>\n  </thead>\n  <tbody>\n    <tr>\n      <th>0</th>\n      <td>39</td>\n      <td>0</td>\n      <td>77516</td>\n      <td>13</td>\n      <td>0</td>\n      <td>1</td>\n      <td>2174</td>\n      <td>0</td>\n      <td>40</td>\n      <td>0</td>\n    </tr>\n    <tr>\n      <th>1</th>\n      <td>50</td>\n      <td>1</td>\n      <td>83311</td>\n      <td>13</td>\n      <td>0</td>\n      <td>1</td>\n      <td>0</td>\n      <td>0</td>\n      <td>13</td>\n      <td>0</td>\n    </tr>\n    <tr>\n      <th>2</th>\n      <td>38</td>\n      <td>2</td>\n      <td>215646</td>\n      <td>9</td>\n      <td>0</td>\n      <td>1</td>\n      <td>0</td>\n      <td>0</td>\n      <td>40</td>\n      <td>0</td>\n    </tr>\n    <tr>\n      <th>3</th>\n      <td>53</td>\n      <td>2</td>\n      <td>234721</td>\n      <td>7</td>\n      <td>1</td>\n      <td>1</td>\n      <td>0</td>\n      <td>0</td>\n      <td>40</td>\n      <td>0</td>\n    </tr>\n    <tr>\n      <th>4</th>\n      <td>28</td>\n      <td>2</td>\n      <td>338409</td>\n      <td>13</td>\n      <td>1</td>\n      <td>0</td>\n      <td>0</td>\n      <td>0</td>\n      <td>40</td>\n      <td>0</td>\n    </tr>\n  </tbody>\n</table>\n</div>"
     },
     "execution_count": 12,
     "metadata": {},
     "output_type": "execute_result"
    }
   ],
   "source": [
    "label_race = df2['race'].unique().tolist()\n",
    "label_race\n",
    "#对原数据进行编码\n",
    "df2['race'] = df2['race'].apply(lambda x: label_race.index(x))\n",
    "df2.head()"
   ],
   "metadata": {
    "collapsed": false
   }
  },
  {
   "cell_type": "code",
   "execution_count": 24,
   "outputs": [
    {
     "data": {
      "text/plain": "(32561, 10)"
     },
     "execution_count": 24,
     "metadata": {},
     "output_type": "execute_result"
    },
    {
     "data": {
      "text/plain": "32561"
     },
     "execution_count": 24,
     "metadata": {},
     "output_type": "execute_result"
    }
   ],
   "source": [
    "df2.shape\n",
    "len(df2)"
   ],
   "metadata": {
    "collapsed": false
   }
  },
  {
   "cell_type": "code",
   "execution_count": 28,
   "outputs": [
    {
     "data": {
      "text/plain": "       age  type_employer  fnlwgt  education_num  race  sex  capital_gain  \\\n32556   27              2  257302             12     0    0             0   \n32557   40              2  154374              9     0    1             0   \n32558   58              2  151910              9     0    0             0   \n32559   22              2  201490              9     0    1             0   \n32560   52              6  287927              9     0    0         15024   \n\n       capital_loss  hr_per_week   income  type_1  type_2  type_3  type_4  \\\n32556             0           38  <=50K\\n       0       1       0       0   \n32557             0           40   >50K\\n       0       1       0       0   \n32558             0           40  <=50K\\n       0       1       0       0   \n32559             0           20  <=50K\\n       0       1       0       0   \n32560             0           40   >50K\\n       0       0       0       0   \n\n       type_5  type_6  type_7  type_8  \n32556       0       0       0       0  \n32557       0       0       0       0  \n32558       0       0       0       0  \n32559       0       0       0       0  \n32560       0       1       0       0  ",
      "text/html": "<div>\n<style scoped>\n    .dataframe tbody tr th:only-of-type {\n        vertical-align: middle;\n    }\n\n    .dataframe tbody tr th {\n        vertical-align: top;\n    }\n\n    .dataframe thead th {\n        text-align: right;\n    }\n</style>\n<table border=\"1\" class=\"dataframe\">\n  <thead>\n    <tr style=\"text-align: right;\">\n      <th></th>\n      <th>age</th>\n      <th>type_employer</th>\n      <th>fnlwgt</th>\n      <th>education_num</th>\n      <th>race</th>\n      <th>sex</th>\n      <th>capital_gain</th>\n      <th>capital_loss</th>\n      <th>hr_per_week</th>\n      <th>income</th>\n      <th>type_1</th>\n      <th>type_2</th>\n      <th>type_3</th>\n      <th>type_4</th>\n      <th>type_5</th>\n      <th>type_6</th>\n      <th>type_7</th>\n      <th>type_8</th>\n    </tr>\n  </thead>\n  <tbody>\n    <tr>\n      <th>32556</th>\n      <td>27</td>\n      <td>2</td>\n      <td>257302</td>\n      <td>12</td>\n      <td>0</td>\n      <td>0</td>\n      <td>0</td>\n      <td>0</td>\n      <td>38</td>\n      <td>&lt;=50K\\n</td>\n      <td>0</td>\n      <td>1</td>\n      <td>0</td>\n      <td>0</td>\n      <td>0</td>\n      <td>0</td>\n      <td>0</td>\n      <td>0</td>\n    </tr>\n    <tr>\n      <th>32557</th>\n      <td>40</td>\n      <td>2</td>\n      <td>154374</td>\n      <td>9</td>\n      <td>0</td>\n      <td>1</td>\n      <td>0</td>\n      <td>0</td>\n      <td>40</td>\n      <td>&gt;50K\\n</td>\n      <td>0</td>\n      <td>1</td>\n      <td>0</td>\n      <td>0</td>\n      <td>0</td>\n      <td>0</td>\n      <td>0</td>\n      <td>0</td>\n    </tr>\n    <tr>\n      <th>32558</th>\n      <td>58</td>\n      <td>2</td>\n      <td>151910</td>\n      <td>9</td>\n      <td>0</td>\n      <td>0</td>\n      <td>0</td>\n      <td>0</td>\n      <td>40</td>\n      <td>&lt;=50K\\n</td>\n      <td>0</td>\n      <td>1</td>\n      <td>0</td>\n      <td>0</td>\n      <td>0</td>\n      <td>0</td>\n      <td>0</td>\n      <td>0</td>\n    </tr>\n    <tr>\n      <th>32559</th>\n      <td>22</td>\n      <td>2</td>\n      <td>201490</td>\n      <td>9</td>\n      <td>0</td>\n      <td>1</td>\n      <td>0</td>\n      <td>0</td>\n      <td>20</td>\n      <td>&lt;=50K\\n</td>\n      <td>0</td>\n      <td>1</td>\n      <td>0</td>\n      <td>0</td>\n      <td>0</td>\n      <td>0</td>\n      <td>0</td>\n      <td>0</td>\n    </tr>\n    <tr>\n      <th>32560</th>\n      <td>52</td>\n      <td>6</td>\n      <td>287927</td>\n      <td>9</td>\n      <td>0</td>\n      <td>0</td>\n      <td>15024</td>\n      <td>0</td>\n      <td>40</td>\n      <td>&gt;50K\\n</td>\n      <td>0</td>\n      <td>0</td>\n      <td>0</td>\n      <td>0</td>\n      <td>0</td>\n      <td>1</td>\n      <td>0</td>\n      <td>0</td>\n    </tr>\n  </tbody>\n</table>\n</div>"
     },
     "execution_count": 28,
     "metadata": {},
     "output_type": "execute_result"
    }
   ],
   "source": [
    "df2.head()"
   ],
   "metadata": {
    "collapsed": false
   }
  },
  {
   "cell_type": "code",
   "execution_count": 8,
   "outputs": [
    {
     "data": {
      "text/plain": "   age  type_employer  fnlwgt  education_num   race  sex  capital_gain  \\\n0   39              0   77516             13  White    1          2174   \n1   50              1   83311             13  White    1             0   \n2   38              2  215646              9  White    1             0   \n3   53              2  234721              7  Black    1             0   \n4   28              2  338409             13  Black    0             0   \n\n   capital_loss  hr_per_week   income  type_1  type_2  type_3  type_4  type_5  \\\n0             0           40  <=50K\\n       0       0       0       0       0   \n1             0           13  <=50K\\n       1       0       0       0       0   \n2             0           40  <=50K\\n       0       1       0       0       0   \n3             0           40  <=50K\\n       0       1       0       0       0   \n4             0           40  <=50K\\n       0       1       0       0       0   \n\n   type_6  type_7  type_8  \n0       0       0       0  \n1       0       0       0  \n2       0       0       0  \n3       0       0       0  \n4       0       0       0  ",
      "text/html": "<div>\n<style scoped>\n    .dataframe tbody tr th:only-of-type {\n        vertical-align: middle;\n    }\n\n    .dataframe tbody tr th {\n        vertical-align: top;\n    }\n\n    .dataframe thead th {\n        text-align: right;\n    }\n</style>\n<table border=\"1\" class=\"dataframe\">\n  <thead>\n    <tr style=\"text-align: right;\">\n      <th></th>\n      <th>age</th>\n      <th>type_employer</th>\n      <th>fnlwgt</th>\n      <th>education_num</th>\n      <th>race</th>\n      <th>sex</th>\n      <th>capital_gain</th>\n      <th>capital_loss</th>\n      <th>hr_per_week</th>\n      <th>income</th>\n      <th>type_1</th>\n      <th>type_2</th>\n      <th>type_3</th>\n      <th>type_4</th>\n      <th>type_5</th>\n      <th>type_6</th>\n      <th>type_7</th>\n      <th>type_8</th>\n    </tr>\n  </thead>\n  <tbody>\n    <tr>\n      <th>0</th>\n      <td>39</td>\n      <td>0</td>\n      <td>77516</td>\n      <td>13</td>\n      <td>White</td>\n      <td>1</td>\n      <td>2174</td>\n      <td>0</td>\n      <td>40</td>\n      <td>&lt;=50K\\n</td>\n      <td>0</td>\n      <td>0</td>\n      <td>0</td>\n      <td>0</td>\n      <td>0</td>\n      <td>0</td>\n      <td>0</td>\n      <td>0</td>\n    </tr>\n    <tr>\n      <th>1</th>\n      <td>50</td>\n      <td>1</td>\n      <td>83311</td>\n      <td>13</td>\n      <td>White</td>\n      <td>1</td>\n      <td>0</td>\n      <td>0</td>\n      <td>13</td>\n      <td>&lt;=50K\\n</td>\n      <td>1</td>\n      <td>0</td>\n      <td>0</td>\n      <td>0</td>\n      <td>0</td>\n      <td>0</td>\n      <td>0</td>\n      <td>0</td>\n    </tr>\n    <tr>\n      <th>2</th>\n      <td>38</td>\n      <td>2</td>\n      <td>215646</td>\n      <td>9</td>\n      <td>White</td>\n      <td>1</td>\n      <td>0</td>\n      <td>0</td>\n      <td>40</td>\n      <td>&lt;=50K\\n</td>\n      <td>0</td>\n      <td>1</td>\n      <td>0</td>\n      <td>0</td>\n      <td>0</td>\n      <td>0</td>\n      <td>0</td>\n      <td>0</td>\n    </tr>\n    <tr>\n      <th>3</th>\n      <td>53</td>\n      <td>2</td>\n      <td>234721</td>\n      <td>7</td>\n      <td>Black</td>\n      <td>1</td>\n      <td>0</td>\n      <td>0</td>\n      <td>40</td>\n      <td>&lt;=50K\\n</td>\n      <td>0</td>\n      <td>1</td>\n      <td>0</td>\n      <td>0</td>\n      <td>0</td>\n      <td>0</td>\n      <td>0</td>\n      <td>0</td>\n    </tr>\n    <tr>\n      <th>4</th>\n      <td>28</td>\n      <td>2</td>\n      <td>338409</td>\n      <td>13</td>\n      <td>Black</td>\n      <td>0</td>\n      <td>0</td>\n      <td>0</td>\n      <td>40</td>\n      <td>&lt;=50K\\n</td>\n      <td>0</td>\n      <td>1</td>\n      <td>0</td>\n      <td>0</td>\n      <td>0</td>\n      <td>0</td>\n      <td>0</td>\n      <td>0</td>\n    </tr>\n  </tbody>\n</table>\n</div>"
     },
     "execution_count": 8,
     "metadata": {},
     "output_type": "execute_result"
    }
   ],
   "source": [
    "df2=df2.join(dummy)\n",
    "df2.head()"
   ],
   "metadata": {
    "collapsed": false
   }
  },
  {
   "cell_type": "code",
   "execution_count": 7,
   "outputs": [
    {
     "data": {
      "text/plain": "       type_1  type_2  type_3  type_4  type_5  type_6  type_7  type_8\n32556       0       1       0       0       0       0       0       0\n32557       0       1       0       0       0       0       0       0\n32558       0       1       0       0       0       0       0       0\n32559       0       1       0       0       0       0       0       0\n32560       0       0       0       0       0       1       0       0",
      "text/html": "<div>\n<style scoped>\n    .dataframe tbody tr th:only-of-type {\n        vertical-align: middle;\n    }\n\n    .dataframe tbody tr th {\n        vertical-align: top;\n    }\n\n    .dataframe thead th {\n        text-align: right;\n    }\n</style>\n<table border=\"1\" class=\"dataframe\">\n  <thead>\n    <tr style=\"text-align: right;\">\n      <th></th>\n      <th>type_1</th>\n      <th>type_2</th>\n      <th>type_3</th>\n      <th>type_4</th>\n      <th>type_5</th>\n      <th>type_6</th>\n      <th>type_7</th>\n      <th>type_8</th>\n    </tr>\n  </thead>\n  <tbody>\n    <tr>\n      <th>32556</th>\n      <td>0</td>\n      <td>1</td>\n      <td>0</td>\n      <td>0</td>\n      <td>0</td>\n      <td>0</td>\n      <td>0</td>\n      <td>0</td>\n    </tr>\n    <tr>\n      <th>32557</th>\n      <td>0</td>\n      <td>1</td>\n      <td>0</td>\n      <td>0</td>\n      <td>0</td>\n      <td>0</td>\n      <td>0</td>\n      <td>0</td>\n    </tr>\n    <tr>\n      <th>32558</th>\n      <td>0</td>\n      <td>1</td>\n      <td>0</td>\n      <td>0</td>\n      <td>0</td>\n      <td>0</td>\n      <td>0</td>\n      <td>0</td>\n    </tr>\n    <tr>\n      <th>32559</th>\n      <td>0</td>\n      <td>1</td>\n      <td>0</td>\n      <td>0</td>\n      <td>0</td>\n      <td>0</td>\n      <td>0</td>\n      <td>0</td>\n    </tr>\n    <tr>\n      <th>32560</th>\n      <td>0</td>\n      <td>0</td>\n      <td>0</td>\n      <td>0</td>\n      <td>0</td>\n      <td>1</td>\n      <td>0</td>\n      <td>0</td>\n    </tr>\n  </tbody>\n</table>\n</div>"
     },
     "execution_count": 7,
     "metadata": {},
     "output_type": "execute_result"
    }
   ],
   "source": [
    "dummy = pd.get_dummies(df2['type_employer'], prefix='type', drop_first=True)\n",
    "dummy.tail()"
   ],
   "metadata": {
    "collapsed": false
   }
  },
  {
   "cell_type": "code",
   "execution_count": 11,
   "outputs": [
    {
     "name": "stdout",
     "output_type": "stream",
     "text": [
      "<class 'pandas.core.frame.DataFrame'>\n",
      "RangeIndex: 32561 entries, 0 to 32560\n",
      "Data columns (total 10 columns):\n",
      " #   Column         Non-Null Count  Dtype \n",
      "---  ------         --------------  ----- \n",
      " 0   age            32561 non-null  int64 \n",
      " 1   type_employer  32561 non-null  int64 \n",
      " 2   fnlwgt         32561 non-null  int64 \n",
      " 3   education_num  32561 non-null  int64 \n",
      " 4   race           32561 non-null  object\n",
      " 5   sex            32561 non-null  int64 \n",
      " 6   capital_gain   32561 non-null  int64 \n",
      " 7   capital_loss   32561 non-null  int64 \n",
      " 8   hr_per_week    32561 non-null  int64 \n",
      " 9   income         32561 non-null  int64 \n",
      "dtypes: int64(9), object(1)\n",
      "memory usage: 2.5+ MB\n"
     ]
    }
   ],
   "source": [
    "df2['income']=df2['income'].map({'<=50K\\n':0,'>50K\\n':1})\n",
    "df2.info()"
   ],
   "metadata": {
    "collapsed": false
   }
  },
  {
   "cell_type": "code",
   "execution_count": 10,
   "outputs": [
    {
     "data": {
      "text/plain": "   age  type_employer  fnlwgt  education_num   race  sex  capital_gain  \\\n0   39              0   77516             13  White    1          2174   \n1   50              1   83311             13  White    1             0   \n2   38              2  215646              9  White    1             0   \n3   53              2  234721              7  Black    1             0   \n4   28              2  338409             13  Black    0             0   \n\n   capital_loss  hr_per_week   income  \n0             0           40  <=50K\\n  \n1             0           13  <=50K\\n  \n2             0           40  <=50K\\n  \n3             0           40  <=50K\\n  \n4             0           40  <=50K\\n  ",
      "text/html": "<div>\n<style scoped>\n    .dataframe tbody tr th:only-of-type {\n        vertical-align: middle;\n    }\n\n    .dataframe tbody tr th {\n        vertical-align: top;\n    }\n\n    .dataframe thead th {\n        text-align: right;\n    }\n</style>\n<table border=\"1\" class=\"dataframe\">\n  <thead>\n    <tr style=\"text-align: right;\">\n      <th></th>\n      <th>age</th>\n      <th>type_employer</th>\n      <th>fnlwgt</th>\n      <th>education_num</th>\n      <th>race</th>\n      <th>sex</th>\n      <th>capital_gain</th>\n      <th>capital_loss</th>\n      <th>hr_per_week</th>\n      <th>income</th>\n    </tr>\n  </thead>\n  <tbody>\n    <tr>\n      <th>0</th>\n      <td>39</td>\n      <td>0</td>\n      <td>77516</td>\n      <td>13</td>\n      <td>White</td>\n      <td>1</td>\n      <td>2174</td>\n      <td>0</td>\n      <td>40</td>\n      <td>&lt;=50K\\n</td>\n    </tr>\n    <tr>\n      <th>1</th>\n      <td>50</td>\n      <td>1</td>\n      <td>83311</td>\n      <td>13</td>\n      <td>White</td>\n      <td>1</td>\n      <td>0</td>\n      <td>0</td>\n      <td>13</td>\n      <td>&lt;=50K\\n</td>\n    </tr>\n    <tr>\n      <th>2</th>\n      <td>38</td>\n      <td>2</td>\n      <td>215646</td>\n      <td>9</td>\n      <td>White</td>\n      <td>1</td>\n      <td>0</td>\n      <td>0</td>\n      <td>40</td>\n      <td>&lt;=50K\\n</td>\n    </tr>\n    <tr>\n      <th>3</th>\n      <td>53</td>\n      <td>2</td>\n      <td>234721</td>\n      <td>7</td>\n      <td>Black</td>\n      <td>1</td>\n      <td>0</td>\n      <td>0</td>\n      <td>40</td>\n      <td>&lt;=50K\\n</td>\n    </tr>\n    <tr>\n      <th>4</th>\n      <td>28</td>\n      <td>2</td>\n      <td>338409</td>\n      <td>13</td>\n      <td>Black</td>\n      <td>0</td>\n      <td>0</td>\n      <td>0</td>\n      <td>40</td>\n      <td>&lt;=50K\\n</td>\n    </tr>\n  </tbody>\n</table>\n</div>"
     },
     "execution_count": 10,
     "metadata": {},
     "output_type": "execute_result"
    }
   ],
   "source": [
    "df2['sex']=df2['sex'].replace({'Male':1,'Female':0})\n",
    "df2.head()"
   ],
   "metadata": {
    "collapsed": false
   }
  },
  {
   "cell_type": "code",
   "execution_count": 9,
   "outputs": [],
   "source": [
    "df2.drop(['education','marital','occupation','relationship','country'],axis=1,inplace=True)"
   ],
   "metadata": {
    "collapsed": false
   }
  },
  {
   "cell_type": "code",
   "execution_count": 8,
   "outputs": [
    {
     "data": {
      "text/plain": "['State-gov',\n 'Self-emp-not-inc',\n 'Private',\n 'Federal-gov',\n 'Local-gov',\n '?',\n 'Self-emp-inc',\n 'Without-pay',\n 'Never-worked']"
     },
     "execution_count": 8,
     "metadata": {},
     "output_type": "execute_result"
    }
   ],
   "source": [
    "df2 = df.copy()\n",
    "label = df2['type_employer'].unique().tolist()\n",
    "label\n",
    "#对原数据进行编码\n",
    "df2['type_employer'] = df2['type_employer'].apply(lambda x: label.index(x))"
   ],
   "metadata": {
    "collapsed": false
   }
  },
  {
   "cell_type": "code",
   "execution_count": 6,
   "outputs": [
    {
     "data": {
      "text/plain": "   age     type_employer  fnlwgt  education  education_num  \\\n0   39         State-gov   77516  Bachelors             13   \n1   50  Self-emp-not-inc   83311  Bachelors             13   \n2   38           Private  215646    HS-grad              9   \n3   53           Private  234721       11th              7   \n4   28           Private  338409  Bachelors             13   \n\n              marital         occupation   relationship   race     sex  \\\n0       Never-married       Adm-clerical  Not-in-family  White    Male   \n1  Married-civ-spouse    Exec-managerial        Husband  White    Male   \n2            Divorced  Handlers-cleaners  Not-in-family  White    Male   \n3  Married-civ-spouse  Handlers-cleaners        Husband  Black    Male   \n4  Married-civ-spouse     Prof-specialty           Wife  Black  Female   \n\n   capital_gain  capital_loss  hr_per_week        country  income  \n0          2174             0           40  United-States       0  \n1             0             0           13  United-States       0  \n2             0             0           40  United-States       0  \n3             0             0           40  United-States       0  \n4             0             0           40           Cuba       0  ",
      "text/html": "<div>\n<style scoped>\n    .dataframe tbody tr th:only-of-type {\n        vertical-align: middle;\n    }\n\n    .dataframe tbody tr th {\n        vertical-align: top;\n    }\n\n    .dataframe thead th {\n        text-align: right;\n    }\n</style>\n<table border=\"1\" class=\"dataframe\">\n  <thead>\n    <tr style=\"text-align: right;\">\n      <th></th>\n      <th>age</th>\n      <th>type_employer</th>\n      <th>fnlwgt</th>\n      <th>education</th>\n      <th>education_num</th>\n      <th>marital</th>\n      <th>occupation</th>\n      <th>relationship</th>\n      <th>race</th>\n      <th>sex</th>\n      <th>capital_gain</th>\n      <th>capital_loss</th>\n      <th>hr_per_week</th>\n      <th>country</th>\n      <th>income</th>\n    </tr>\n  </thead>\n  <tbody>\n    <tr>\n      <th>0</th>\n      <td>39</td>\n      <td>State-gov</td>\n      <td>77516</td>\n      <td>Bachelors</td>\n      <td>13</td>\n      <td>Never-married</td>\n      <td>Adm-clerical</td>\n      <td>Not-in-family</td>\n      <td>White</td>\n      <td>Male</td>\n      <td>2174</td>\n      <td>0</td>\n      <td>40</td>\n      <td>United-States</td>\n      <td>0</td>\n    </tr>\n    <tr>\n      <th>1</th>\n      <td>50</td>\n      <td>Self-emp-not-inc</td>\n      <td>83311</td>\n      <td>Bachelors</td>\n      <td>13</td>\n      <td>Married-civ-spouse</td>\n      <td>Exec-managerial</td>\n      <td>Husband</td>\n      <td>White</td>\n      <td>Male</td>\n      <td>0</td>\n      <td>0</td>\n      <td>13</td>\n      <td>United-States</td>\n      <td>0</td>\n    </tr>\n    <tr>\n      <th>2</th>\n      <td>38</td>\n      <td>Private</td>\n      <td>215646</td>\n      <td>HS-grad</td>\n      <td>9</td>\n      <td>Divorced</td>\n      <td>Handlers-cleaners</td>\n      <td>Not-in-family</td>\n      <td>White</td>\n      <td>Male</td>\n      <td>0</td>\n      <td>0</td>\n      <td>40</td>\n      <td>United-States</td>\n      <td>0</td>\n    </tr>\n    <tr>\n      <th>3</th>\n      <td>53</td>\n      <td>Private</td>\n      <td>234721</td>\n      <td>11th</td>\n      <td>7</td>\n      <td>Married-civ-spouse</td>\n      <td>Handlers-cleaners</td>\n      <td>Husband</td>\n      <td>Black</td>\n      <td>Male</td>\n      <td>0</td>\n      <td>0</td>\n      <td>40</td>\n      <td>United-States</td>\n      <td>0</td>\n    </tr>\n    <tr>\n      <th>4</th>\n      <td>28</td>\n      <td>Private</td>\n      <td>338409</td>\n      <td>Bachelors</td>\n      <td>13</td>\n      <td>Married-civ-spouse</td>\n      <td>Prof-specialty</td>\n      <td>Wife</td>\n      <td>Black</td>\n      <td>Female</td>\n      <td>0</td>\n      <td>0</td>\n      <td>40</td>\n      <td>Cuba</td>\n      <td>0</td>\n    </tr>\n  </tbody>\n</table>\n</div>"
     },
     "execution_count": 6,
     "metadata": {},
     "output_type": "execute_result"
    }
   ],
   "source": [
    "df11=df.copy()\n",
    "df11['income']=df11['income'].map({'<=50K\\n':0,'>50K\\n':1})\n",
    "df11.head()"
   ],
   "metadata": {
    "collapsed": false
   }
  },
  {
   "cell_type": "code",
   "execution_count": 7,
   "outputs": [
    {
     "data": {
      "text/plain": "                    age    fnlwgt  education_num  capital_gain  capital_loss  \\\nage            1.000000 -0.076646       0.036527      0.077674      0.057775   \nfnlwgt        -0.076646  1.000000      -0.043195      0.000432     -0.010252   \neducation_num  0.036527 -0.043195       1.000000      0.122630      0.079923   \ncapital_gain   0.077674  0.000432       0.122630      1.000000     -0.031615   \ncapital_loss   0.057775 -0.010252       0.079923     -0.031615      1.000000   \nhr_per_week    0.068756 -0.018768       0.148123      0.078409      0.054256   \nincome         0.234037 -0.009463       0.335154      0.223329      0.150526   \n\n               hr_per_week    income  \nage               0.068756  0.234037  \nfnlwgt           -0.018768 -0.009463  \neducation_num     0.148123  0.335154  \ncapital_gain      0.078409  0.223329  \ncapital_loss      0.054256  0.150526  \nhr_per_week       1.000000  0.229689  \nincome            0.229689  1.000000  ",
      "text/html": "<div>\n<style scoped>\n    .dataframe tbody tr th:only-of-type {\n        vertical-align: middle;\n    }\n\n    .dataframe tbody tr th {\n        vertical-align: top;\n    }\n\n    .dataframe thead th {\n        text-align: right;\n    }\n</style>\n<table border=\"1\" class=\"dataframe\">\n  <thead>\n    <tr style=\"text-align: right;\">\n      <th></th>\n      <th>age</th>\n      <th>fnlwgt</th>\n      <th>education_num</th>\n      <th>capital_gain</th>\n      <th>capital_loss</th>\n      <th>hr_per_week</th>\n      <th>income</th>\n    </tr>\n  </thead>\n  <tbody>\n    <tr>\n      <th>age</th>\n      <td>1.000000</td>\n      <td>-0.076646</td>\n      <td>0.036527</td>\n      <td>0.077674</td>\n      <td>0.057775</td>\n      <td>0.068756</td>\n      <td>0.234037</td>\n    </tr>\n    <tr>\n      <th>fnlwgt</th>\n      <td>-0.076646</td>\n      <td>1.000000</td>\n      <td>-0.043195</td>\n      <td>0.000432</td>\n      <td>-0.010252</td>\n      <td>-0.018768</td>\n      <td>-0.009463</td>\n    </tr>\n    <tr>\n      <th>education_num</th>\n      <td>0.036527</td>\n      <td>-0.043195</td>\n      <td>1.000000</td>\n      <td>0.122630</td>\n      <td>0.079923</td>\n      <td>0.148123</td>\n      <td>0.335154</td>\n    </tr>\n    <tr>\n      <th>capital_gain</th>\n      <td>0.077674</td>\n      <td>0.000432</td>\n      <td>0.122630</td>\n      <td>1.000000</td>\n      <td>-0.031615</td>\n      <td>0.078409</td>\n      <td>0.223329</td>\n    </tr>\n    <tr>\n      <th>capital_loss</th>\n      <td>0.057775</td>\n      <td>-0.010252</td>\n      <td>0.079923</td>\n      <td>-0.031615</td>\n      <td>1.000000</td>\n      <td>0.054256</td>\n      <td>0.150526</td>\n    </tr>\n    <tr>\n      <th>hr_per_week</th>\n      <td>0.068756</td>\n      <td>-0.018768</td>\n      <td>0.148123</td>\n      <td>0.078409</td>\n      <td>0.054256</td>\n      <td>1.000000</td>\n      <td>0.229689</td>\n    </tr>\n    <tr>\n      <th>income</th>\n      <td>0.234037</td>\n      <td>-0.009463</td>\n      <td>0.335154</td>\n      <td>0.223329</td>\n      <td>0.150526</td>\n      <td>0.229689</td>\n      <td>1.000000</td>\n    </tr>\n  </tbody>\n</table>\n</div>"
     },
     "execution_count": 7,
     "metadata": {},
     "output_type": "execute_result"
    }
   ],
   "source": [
    "df11.corr()"
   ],
   "metadata": {
    "collapsed": false
   }
  },
  {
   "cell_type": "code",
   "execution_count": 3,
   "outputs": [
    {
     "data": {
      "text/plain": "   age     type_employer  fnlwgt  education  education_num  \\\n0   39         State-gov   77516  Bachelors             13   \n1   50  Self-emp-not-inc   83311  Bachelors             13   \n2   38           Private  215646    HS-grad              9   \n\n              marital         occupation   relationship   race   sex  \\\n0       Never-married       Adm-clerical  Not-in-family  White  Male   \n1  Married-civ-spouse    Exec-managerial        Husband  White  Male   \n2            Divorced  Handlers-cleaners  Not-in-family  White  Male   \n\n   capital_gain  capital_loss  hr_per_week        country   income  \n0          2174             0           40  United-States  <=50K\\n  \n1             0             0           13  United-States  <=50K\\n  \n2             0             0           40  United-States  <=50K\\n  ",
      "text/html": "<div>\n<style scoped>\n    .dataframe tbody tr th:only-of-type {\n        vertical-align: middle;\n    }\n\n    .dataframe tbody tr th {\n        vertical-align: top;\n    }\n\n    .dataframe thead th {\n        text-align: right;\n    }\n</style>\n<table border=\"1\" class=\"dataframe\">\n  <thead>\n    <tr style=\"text-align: right;\">\n      <th></th>\n      <th>age</th>\n      <th>type_employer</th>\n      <th>fnlwgt</th>\n      <th>education</th>\n      <th>education_num</th>\n      <th>marital</th>\n      <th>occupation</th>\n      <th>relationship</th>\n      <th>race</th>\n      <th>sex</th>\n      <th>capital_gain</th>\n      <th>capital_loss</th>\n      <th>hr_per_week</th>\n      <th>country</th>\n      <th>income</th>\n    </tr>\n  </thead>\n  <tbody>\n    <tr>\n      <th>0</th>\n      <td>39</td>\n      <td>State-gov</td>\n      <td>77516</td>\n      <td>Bachelors</td>\n      <td>13</td>\n      <td>Never-married</td>\n      <td>Adm-clerical</td>\n      <td>Not-in-family</td>\n      <td>White</td>\n      <td>Male</td>\n      <td>2174</td>\n      <td>0</td>\n      <td>40</td>\n      <td>United-States</td>\n      <td>&lt;=50K\\n</td>\n    </tr>\n    <tr>\n      <th>1</th>\n      <td>50</td>\n      <td>Self-emp-not-inc</td>\n      <td>83311</td>\n      <td>Bachelors</td>\n      <td>13</td>\n      <td>Married-civ-spouse</td>\n      <td>Exec-managerial</td>\n      <td>Husband</td>\n      <td>White</td>\n      <td>Male</td>\n      <td>0</td>\n      <td>0</td>\n      <td>13</td>\n      <td>United-States</td>\n      <td>&lt;=50K\\n</td>\n    </tr>\n    <tr>\n      <th>2</th>\n      <td>38</td>\n      <td>Private</td>\n      <td>215646</td>\n      <td>HS-grad</td>\n      <td>9</td>\n      <td>Divorced</td>\n      <td>Handlers-cleaners</td>\n      <td>Not-in-family</td>\n      <td>White</td>\n      <td>Male</td>\n      <td>0</td>\n      <td>0</td>\n      <td>40</td>\n      <td>United-States</td>\n      <td>&lt;=50K\\n</td>\n    </tr>\n  </tbody>\n</table>\n</div>"
     },
     "execution_count": 3,
     "metadata": {},
     "output_type": "execute_result"
    }
   ],
   "source": [
    "df = pd.DataFrame(data) #  Two-dimensional size-mutable, potentially heterogeneous tabular data structure with labeled axes\n",
    "\n",
    "df.columns = ['age', 'type_employer', 'fnlwgt', 'education',\n",
    "              \"education_num\",\"marital\", \"occupation\", \"relationship\", \"race\",\"sex\",\n",
    "              \"capital_gain\", \"capital_loss\", \"hr_per_week\",\"country\",\"income\"]\n",
    "df.head(3)"
   ],
   "metadata": {
    "collapsed": false
   }
  },
  {
   "cell_type": "code",
   "execution_count": 2,
   "outputs": [
    {
     "data": {
      "text/plain": "'C:\\\\ProgramData\\\\Anaconda3\\\\envs\\\\cda_python\\\\lib\\\\os.py'"
     },
     "execution_count": 2,
     "metadata": {},
     "output_type": "execute_result"
    }
   ],
   "source": [
    "import pandas as pd\n",
    "import numpy as np\n",
    "import os\n",
    "os.__file__\n",
    "os.chdir(r'C:\\Data\\Jupyter_file\\DataScienceUB\\introduction-datascience-python-book\\files')\n",
    "file = open('ch03/adult.data', 'r')\n",
    "def chr_int(a):\n",
    "    if a.isdigit():\n",
    "        return int(a)\n",
    "    else:\n",
    "        return 0\n",
    "\n",
    "data=[]\n",
    "for line in file:\n",
    "    data1=line.split(', ')\n",
    "    if len(data1)==15:\n",
    "        data.append([chr_int(data1[0]),data1[1],chr_int(data1[2]),data1[3],chr_int(data1[4]),data1[5],data1[6],\\\n",
    "            data1[7],data1[8],data1[9],chr_int(data1[10]),chr_int(data1[11]),chr_int(data1[12]),data1[13],\\\n",
    "            data1[14]])\n"
   ],
   "metadata": {
    "collapsed": false
   }
  },
  {
   "cell_type": "code",
   "execution_count": 1,
   "outputs": [],
   "source": [
    "from IPython.core.interactiveshell import InteractiveShell\n",
    "InteractiveShell.ast_node_interactivity = \"all\"\n",
    "import warnings\n",
    "warnings.filterwarnings(\"ignore\")"
   ],
   "metadata": {
    "collapsed": false
   }
  }
 ],
 "metadata": {
  "kernelspec": {
   "display_name": "Python 3",
   "language": "python",
   "name": "python3"
  },
  "language_info": {
   "codemirror_mode": {
    "name": "ipython",
    "version": 2
   },
   "file_extension": ".py",
   "mimetype": "text/x-python",
   "name": "python",
   "nbconvert_exporter": "python",
   "pygments_lexer": "ipython2",
   "version": "2.7.6"
  }
 },
 "nbformat": 4,
 "nbformat_minor": 0
}
