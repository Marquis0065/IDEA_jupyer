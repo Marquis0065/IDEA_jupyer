{
 "cells": [
  {
   "cell_type": "code",
   "execution_count": 103,
   "outputs": [
    {
     "data": {
      "text/plain": "<Figure size 800x550 with 1 Axes>",
      "image/png": "[encoded data removed]"
     },
     "metadata": {},
     "output_type": "display_data"
    }
   ],
   "source": [
    "# plt.pie(values, labels=labels, startangle=90, autopct=lambda x: compute_fraction(x,values));"
   ],
   "metadata": {
    "collapsed": false
   }
  },
  {
   "cell_type": "code",
   "execution_count": 99,
   "outputs": [
    {
     "data": {
      "text/plain": "array([345, 318], dtype=int64)"
     },
     "execution_count": 99,
     "metadata": {},
     "output_type": "execute_result"
    }
   ],
   "source": [
    "labels=['boy','girl']\n",
    "values=np.array([gender_stats_by_user[0], gender_stats_by_user[1]])\n",
    "values"
   ],
   "metadata": {
    "collapsed": false
   }
  },
  {
   "cell_type": "code",
   "execution_count": 100,
   "outputs": [
    {
     "data": {
      "text/plain": "gender\n0    345\n1    318\nName: user_id, dtype: int64"
     },
     "execution_count": 100,
     "metadata": {},
     "output_type": "execute_result"
    }
   ],
   "source": [
    "gender_stats_by_user"
   ],
   "metadata": {
    "collapsed": false
   }
  },
  {
   "cell_type": "code",
   "execution_count": 98,
   "outputs": [],
   "source": [
    "gender_stats_by_user = df_merge.groupby(by = \"gender\")[\"user_id\"].count()"
   ],
   "metadata": {
    "collapsed": false
   }
  },
  {
   "cell_type": "code",
   "execution_count": 97,
   "outputs": [],
   "source": [
    "# 计算比例函数\n",
    "def compute_fraction(pct, allvals):\n",
    "    absolute = int(pct/100 * np.sum(allvals))\n",
    "    return '{:.2f}%\\n{:d}'.format(pct, absolute)"
   ],
   "metadata": {
    "collapsed": false
   }
  },
  {
   "cell_type": "code",
   "execution_count": 96,
   "outputs": [
    {
     "data": {
      "text/plain": "count    663.000000\nmean       1.537979\nstd        1.122517\nmin        0.020000\n25%        0.590000\n50%        1.250000\n75%        2.300000\nmax        4.840000\nName: age, dtype: float64"
     },
     "execution_count": 96,
     "metadata": {},
     "output_type": "execute_result"
    }
   ],
   "source": [
    "df_merge = df_merge[df_merge.age > 0]\n",
    "df_merge.age.describe()"
   ],
   "metadata": {
    "collapsed": false
   }
  },
  {
   "cell_type": "code",
   "execution_count": 95,
   "outputs": [
    {
     "data": {
      "text/plain": "       user_id   auction_id  category_2  category_1  buy_mount        day  \\\n0    513441334  19909384116    50010557    50008168          1 2012-12-12   \n1    377550424  15771663914    50015841          28          1 2012-11-23   \n2     47342027  14066344263    50013636    50008168          1 2012-09-11   \n3    119784861  20796936076    50140021    50008168          1 2012-11-29   \n4    159129426  15198386301    50013711    50008168          2 2012-08-08   \n..         ...          ...         ...         ...        ...        ...   \n796  379910739  12881672070    50012451    50008168          2 2012-09-04   \n797  685332320  12781785338    50018831    50014815          2 2013-06-01   \n798  389326420  17164967407    50006820          28          1 2014-09-16   \n799    1372572  16915013171    50008845          28          1 2013-03-27   \n800   54855720  39635136808    50018436    50014815          2 2014-09-13   \n\n     year  quarter  month   birthday  gender   age  \n0    2012        4     12 2011-01-05       1  1.94  \n1    2012        4     11 2011-06-20       1  1.43  \n2    2012        3      9 2010-10-08       1  1.93  \n3    2012        4     11 2012-03-27       0  0.68  \n4    2012        3      8 2010-08-25       0  1.96  \n..    ...      ...    ...        ...     ...   ...  \n796  2012        3      9 2011-02-26       0  1.52  \n797  2013        2      6 2012-02-23       0  1.27  \n798  2014        3      9 2013-07-17       0  1.17  \n799  2013        1      3 2012-01-30       1  1.16  \n800  2014        3      9 2013-01-28       0  1.62  \n\n[801 rows x 12 columns]",
      "text/html": "<div>\n<style scoped>\n    .dataframe tbody tr th:only-of-type {\n        vertical-align: middle;\n    }\n\n    .dataframe tbody tr th {\n        vertical-align: top;\n    }\n\n    .dataframe thead th {\n        text-align: right;\n    }\n</style>\n<table border=\"1\" class=\"dataframe\">\n  <thead>\n    <tr style=\"text-align: right;\">\n      <th></th>\n      <th>user_id</th>\n      <th>auction_id</th>\n      <th>category_2</th>\n      <th>category_1</th>\n      <th>buy_mount</th>\n      <th>day</th>\n      <th>year</th>\n      <th>quarter</th>\n      <th>month</th>\n      <th>birthday</th>\n      <th>gender</th>\n      <th>age</th>\n    </tr>\n  </thead>\n  <tbody>\n    <tr>\n      <th>0</th>\n      <td>513441334</td>\n      <td>19909384116</td>\n      <td>50010557</td>\n      <td>50008168</td>\n      <td>1</td>\n      <td>2012-12-12</td>\n      <td>2012</td>\n      <td>4</td>\n      <td>12</td>\n      <td>2011-01-05</td>\n      <td>1</td>\n      <td>1.94</td>\n    </tr>\n    <tr>\n      <th>1</th>\n      <td>377550424</td>\n      <td>15771663914</td>\n      <td>50015841</td>\n      <td>28</td>\n      <td>1</td>\n      <td>2012-11-23</td>\n      <td>2012</td>\n      <td>4</td>\n      <td>11</td>\n      <td>2011-06-20</td>\n      <td>1</td>\n      <td>1.43</td>\n    </tr>\n    <tr>\n      <th>2</th>\n      <td>47342027</td>\n      <td>14066344263</td>\n      <td>50013636</td>\n      <td>50008168</td>\n      <td>1</td>\n      <td>2012-09-11</td>\n      <td>2012</td>\n      <td>3</td>\n      <td>9</td>\n      <td>2010-10-08</td>\n      <td>1</td>\n      <td>1.93</td>\n    </tr>\n    <tr>\n      <th>3</th>\n      <td>119784861</td>\n      <td>20796936076</td>\n      <td>50140021</td>\n      <td>50008168</td>\n      <td>1</td>\n      <td>2012-11-29</td>\n      <td>2012</td>\n      <td>4</td>\n      <td>11</td>\n      <td>2012-03-27</td>\n      <td>0</td>\n      <td>0.68</td>\n    </tr>\n    <tr>\n      <th>4</th>\n      <td>159129426</td>\n      <td>15198386301</td>\n      <td>50013711</td>\n      <td>50008168</td>\n      <td>2</td>\n      <td>2012-08-08</td>\n      <td>2012</td>\n      <td>3</td>\n      <td>8</td>\n      <td>2010-08-25</td>\n      <td>0</td>\n      <td>1.96</td>\n    </tr>\n    <tr>\n      <th>...</th>\n      <td>...</td>\n      <td>...</td>\n      <td>...</td>\n      <td>...</td>\n      <td>...</td>\n      <td>...</td>\n      <td>...</td>\n      <td>...</td>\n      <td>...</td>\n      <td>...</td>\n      <td>...</td>\n      <td>...</td>\n    </tr>\n    <tr>\n      <th>796</th>\n      <td>379910739</td>\n      <td>12881672070</td>\n      <td>50012451</td>\n      <td>50008168</td>\n      <td>2</td>\n      <td>2012-09-04</td>\n      <td>2012</td>\n      <td>3</td>\n      <td>9</td>\n      <td>2011-02-26</td>\n      <td>0</td>\n      <td>1.52</td>\n    </tr>\n    <tr>\n      <th>797</th>\n      <td>685332320</td>\n      <td>12781785338</td>\n      <td>50018831</td>\n      <td>50014815</td>\n      <td>2</td>\n      <td>2013-06-01</td>\n      <td>2013</td>\n      <td>2</td>\n      <td>6</td>\n      <td>2012-02-23</td>\n      <td>0</td>\n      <td>1.27</td>\n    </tr>\n    <tr>\n      <th>798</th>\n      <td>389326420</td>\n      <td>17164967407</td>\n      <td>50006820</td>\n      <td>28</td>\n      <td>1</td>\n      <td>2014-09-16</td>\n      <td>2014</td>\n      <td>3</td>\n      <td>9</td>\n      <td>2013-07-17</td>\n      <td>0</td>\n      <td>1.17</td>\n    </tr>\n    <tr>\n      <th>799</th>\n      <td>1372572</td>\n      <td>16915013171</td>\n      <td>50008845</td>\n      <td>28</td>\n      <td>1</td>\n      <td>2013-03-27</td>\n      <td>2013</td>\n      <td>1</td>\n      <td>3</td>\n      <td>2012-01-30</td>\n      <td>1</td>\n      <td>1.16</td>\n    </tr>\n    <tr>\n      <th>800</th>\n      <td>54855720</td>\n      <td>39635136808</td>\n      <td>50018436</td>\n      <td>50014815</td>\n      <td>2</td>\n      <td>2014-09-13</td>\n      <td>2014</td>\n      <td>3</td>\n      <td>9</td>\n      <td>2013-01-28</td>\n      <td>0</td>\n      <td>1.62</td>\n    </tr>\n  </tbody>\n</table>\n<p>801 rows × 12 columns</p>\n</div>"
     },
     "execution_count": 95,
     "metadata": {},
     "output_type": "execute_result"
    }
   ],
   "source": [
    "df_merge['age'] = round(( df_merge['day'] - df_merge['birthday'] ) / pd.Timedelta(days = 365) , 2)\n",
    "df_merge"
   ],
   "metadata": {
    "collapsed": false
   }
  },
  {
   "cell_type": "code",
   "execution_count": 89,
   "outputs": [
    {
     "data": {
      "text/plain": "user_id                int64\nauction_id             int64\ncategory_2             int64\ncategory_1             int64\nbuy_mount              int64\nday           datetime64[ns]\nyear                   int64\nquarter                int64\nmonth                  int64\nbirthday      datetime64[ns]\ngender                 int64\ndtype: object"
     },
     "execution_count": 89,
     "metadata": {},
     "output_type": "execute_result"
    }
   ],
   "source": [
    "df_merge.dtypes"
   ],
   "metadata": {
    "collapsed": false
   }
  },
  {
   "cell_type": "code",
   "execution_count": 88,
   "outputs": [
    {
     "data": {
      "text/plain": "       user_id   auction_id  category_2  category_1  buy_mount        day  \\\n0    513441334  19909384116    50010557    50008168          1 2012-12-12   \n1    377550424  15771663914    50015841          28          1 2012-11-23   \n2     47342027  14066344263    50013636    50008168          1 2012-09-11   \n3    119784861  20796936076    50140021    50008168          1 2012-11-29   \n4    159129426  15198386301    50013711    50008168          2 2012-08-08   \n..         ...          ...         ...         ...        ...        ...   \n796  379910739  12881672070    50012451    50008168          2 2012-09-04   \n797  685332320  12781785338    50018831    50014815          2 2013-06-01   \n798  389326420  17164967407    50006820          28          1 2014-09-16   \n799    1372572  16915013171    50008845          28          1 2013-03-27   \n800   54855720  39635136808    50018436    50014815          2 2014-09-13   \n\n     year  quarter  month   birthday  gender  \n0    2012        4     12 2011-01-05       1  \n1    2012        4     11 2011-06-20       1  \n2    2012        3      9 2010-10-08       1  \n3    2012        4     11 2012-03-27       0  \n4    2012        3      8 2010-08-25       0  \n..    ...      ...    ...        ...     ...  \n796  2012        3      9 2011-02-26       0  \n797  2013        2      6 2012-02-23       0  \n798  2014        3      9 2013-07-17       0  \n799  2013        1      3 2012-01-30       1  \n800  2014        3      9 2013-01-28       0  \n\n[801 rows x 11 columns]",
      "text/html": "<div>\n<style scoped>\n    .dataframe tbody tr th:only-of-type {\n        vertical-align: middle;\n    }\n\n    .dataframe tbody tr th {\n        vertical-align: top;\n    }\n\n    .dataframe thead th {\n        text-align: right;\n    }\n</style>\n<table border=\"1\" class=\"dataframe\">\n  <thead>\n    <tr style=\"text-align: right;\">\n      <th></th>\n      <th>user_id</th>\n      <th>auction_id</th>\n      <th>category_2</th>\n      <th>category_1</th>\n      <th>buy_mount</th>\n      <th>day</th>\n      <th>year</th>\n      <th>quarter</th>\n      <th>month</th>\n      <th>birthday</th>\n      <th>gender</th>\n    </tr>\n  </thead>\n  <tbody>\n    <tr>\n      <th>0</th>\n      <td>513441334</td>\n      <td>19909384116</td>\n      <td>50010557</td>\n      <td>50008168</td>\n      <td>1</td>\n      <td>2012-12-12</td>\n      <td>2012</td>\n      <td>4</td>\n      <td>12</td>\n      <td>2011-01-05</td>\n      <td>1</td>\n    </tr>\n    <tr>\n      <th>1</th>\n      <td>377550424</td>\n      <td>15771663914</td>\n      <td>50015841</td>\n      <td>28</td>\n      <td>1</td>\n      <td>2012-11-23</td>\n      <td>2012</td>\n      <td>4</td>\n      <td>11</td>\n      <td>2011-06-20</td>\n      <td>1</td>\n    </tr>\n    <tr>\n      <th>2</th>\n      <td>47342027</td>\n      <td>14066344263</td>\n      <td>50013636</td>\n      <td>50008168</td>\n      <td>1</td>\n      <td>2012-09-11</td>\n      <td>2012</td>\n      <td>3</td>\n      <td>9</td>\n      <td>2010-10-08</td>\n      <td>1</td>\n    </tr>\n    <tr>\n      <th>3</th>\n      <td>119784861</td>\n      <td>20796936076</td>\n      <td>50140021</td>\n      <td>50008168</td>\n      <td>1</td>\n      <td>2012-11-29</td>\n      <td>2012</td>\n      <td>4</td>\n      <td>11</td>\n      <td>2012-03-27</td>\n      <td>0</td>\n    </tr>\n    <tr>\n      <th>4</th>\n      <td>159129426</td>\n      <td>15198386301</td>\n      <td>50013711</td>\n      <td>50008168</td>\n      <td>2</td>\n      <td>2012-08-08</td>\n      <td>2012</td>\n      <td>3</td>\n      <td>8</td>\n      <td>2010-08-25</td>\n      <td>0</td>\n    </tr>\n    <tr>\n      <th>...</th>\n      <td>...</td>\n      <td>...</td>\n      <td>...</td>\n      <td>...</td>\n      <td>...</td>\n      <td>...</td>\n      <td>...</td>\n      <td>...</td>\n      <td>...</td>\n      <td>...</td>\n      <td>...</td>\n    </tr>\n    <tr>\n      <th>796</th>\n      <td>379910739</td>\n      <td>12881672070</td>\n      <td>50012451</td>\n      <td>50008168</td>\n      <td>2</td>\n      <td>2012-09-04</td>\n      <td>2012</td>\n      <td>3</td>\n      <td>9</td>\n      <td>2011-02-26</td>\n      <td>0</td>\n    </tr>\n    <tr>\n      <th>797</th>\n      <td>685332320</td>\n      <td>12781785338</td>\n      <td>50018831</td>\n      <td>50014815</td>\n      <td>2</td>\n      <td>2013-06-01</td>\n      <td>2013</td>\n      <td>2</td>\n      <td>6</td>\n      <td>2012-02-23</td>\n      <td>0</td>\n    </tr>\n    <tr>\n      <th>798</th>\n      <td>389326420</td>\n      <td>17164967407</td>\n      <td>50006820</td>\n      <td>28</td>\n      <td>1</td>\n      <td>2014-09-16</td>\n      <td>2014</td>\n      <td>3</td>\n      <td>9</td>\n      <td>2013-07-17</td>\n      <td>0</td>\n    </tr>\n    <tr>\n      <th>799</th>\n      <td>1372572</td>\n      <td>16915013171</td>\n      <td>50008845</td>\n      <td>28</td>\n      <td>1</td>\n      <td>2013-03-27</td>\n      <td>2013</td>\n      <td>1</td>\n      <td>3</td>\n      <td>2012-01-30</td>\n      <td>1</td>\n    </tr>\n    <tr>\n      <th>800</th>\n      <td>54855720</td>\n      <td>39635136808</td>\n      <td>50018436</td>\n      <td>50014815</td>\n      <td>2</td>\n      <td>2014-09-13</td>\n      <td>2014</td>\n      <td>3</td>\n      <td>9</td>\n      <td>2013-01-28</td>\n      <td>0</td>\n    </tr>\n  </tbody>\n</table>\n<p>801 rows × 11 columns</p>\n</div>"
     },
     "execution_count": 88,
     "metadata": {},
     "output_type": "execute_result"
    }
   ],
   "source": [
    "df_merge = pd.merge(df_trade, df_baby)\n",
    "df_merge"
   ],
   "metadata": {
    "collapsed": false
   }
  },
  {
   "cell_type": "code",
   "execution_count": 87,
   "outputs": [
    {
     "data": {
      "text/plain": "<Figure size 3000x500 with 0 Axes>"
     },
     "execution_count": 87,
     "metadata": {},
     "output_type": "execute_result"
    },
    {
     "data": {
      "text/plain": "<AxesSubplot: >"
     },
     "execution_count": 87,
     "metadata": {},
     "output_type": "execute_result"
    },
    {
     "data": {
      "text/plain": "Text(0.5, 1.0, 'Sales Volumn By Day(2014/11)')"
     },
     "execution_count": 87,
     "metadata": {},
     "output_type": "execute_result"
    },
    {
     "data": {
      "text/plain": "Text(0.5, 0, 'Date')"
     },
     "execution_count": 87,
     "metadata": {},
     "output_type": "execute_result"
    },
    {
     "data": {
      "text/plain": "Text(0, 0.5, 'Sales Volumn')"
     },
     "execution_count": 87,
     "metadata": {},
     "output_type": "execute_result"
    },
    {
     "data": {
      "text/plain": "<Figure size 3000x500 with 1 Axes>",
      "image/png": "[encoded data removed]"
     },
     "metadata": {},
     "output_type": "display_data"
    }
   ],
   "source": [
    "df_trade_201411 = df_trade[(df_trade.day >= '2014-11-01') & (df_trade.day <= '2014-11-30')]\n",
    "day_stats = df_trade_201411.groupby(by='day')['buy_mount'].sum()\n",
    "\n",
    "plt.figure(figsize=(30, 5))\n",
    "x_list = [str(idx.month) + '-' + str(idx.day) for idx in day_stats.index]\n",
    "y_list = [int(value) for value in day_stats.values]\n",
    "sns.barplot(x=x_list, y=y_list)\n",
    "\n",
    "plt.title(\"Sales Volumn By Day(2014/11)\")\n",
    "plt.xlabel(\"Date\")\n",
    "plt.ylabel(\"Sales Volumn\")\n",
    "plt.show()"
   ],
   "metadata": {
    "collapsed": false
   }
  },
  {
   "cell_type": "code",
   "execution_count": 86,
   "outputs": [
    {
     "data": {
      "text/plain": "<AxesSubplot: >"
     },
     "execution_count": 86,
     "metadata": {},
     "output_type": "execute_result"
    },
    {
     "data": {
      "text/plain": "Text(0.5, 1.0, 'Sales Volumn By Year-Season')"
     },
     "execution_count": 86,
     "metadata": {},
     "output_type": "execute_result"
    },
    {
     "data": {
      "text/plain": "Text(0.5, 0, '(Year,Season)')"
     },
     "execution_count": 86,
     "metadata": {},
     "output_type": "execute_result"
    },
    {
     "data": {
      "text/plain": "Text(0, 0.5, 'Sales Volumn')"
     },
     "execution_count": 86,
     "metadata": {},
     "output_type": "execute_result"
    },
    {
     "data": {
      "text/plain": "<Figure size 800x550 with 1 Axes>",
      "image/png": "[encoded data removed]"
     },
     "metadata": {},
     "output_type": "display_data"
    }
   ],
   "source": [
    "year_quarter_stats = df_trade.groupby(by=['year', 'quarter'])['buy_mount'].sum()\n",
    "x_list = [str(idx[0]) + \"/Q\" + str(idx[1]) for idx in year_quarter_stats.index]\n",
    "y_list = [int(value) for value in year_quarter_stats.values]\n",
    "sns.barplot(x=x_list, y=y_list)\n",
    "plt.title(\"Sales Volumn By Year-Season\")\n",
    "plt.xlabel(\"(Year,Season)\")\n",
    "plt.ylabel(\"Sales Volumn\")\n",
    "plt.show()"
   ],
   "metadata": {
    "collapsed": false
   }
  },
  {
   "cell_type": "code",
   "execution_count": 68,
   "outputs": [
    {
     "data": {
      "text/plain": "{'whiskers': [<matplotlib.lines.Line2D at 0x1b302d708e0>,\n  <matplotlib.lines.Line2D at 0x1b302d70b80>],\n 'caps': [<matplotlib.lines.Line2D at 0x1b302d70e20>,\n  <matplotlib.lines.Line2D at 0x1b302d710c0>],\n 'boxes': [<matplotlib.lines.Line2D at 0x1b302d70640>],\n 'medians': [<matplotlib.lines.Line2D at 0x1b302d71360>],\n 'fliers': [<matplotlib.lines.Line2D at 0x1b302d71600>],\n 'means': []}"
     },
     "execution_count": 68,
     "metadata": {},
     "output_type": "execute_result"
    },
    {
     "data": {
      "text/plain": "<Figure size 800x550 with 1 Axes>",
      "image/png": "[encoded data removed]"
     },
     "metadata": {},
     "output_type": "display_data"
    }
   ],
   "source": [
    "plt.boxplot(df_trade.groupby('year').agg({'buy_mount':sum}))"
   ],
   "metadata": {
    "collapsed": false
   }
  },
  {
   "cell_type": "code",
   "execution_count": 78,
   "outputs": [
    {
     "data": {
      "text/plain": "<AxesSubplot: xlabel='year'>"
     },
     "execution_count": 78,
     "metadata": {},
     "output_type": "execute_result"
    },
    {
     "data": {
      "text/plain": "<Figure size 800x550 with 1 Axes>",
      "image/png": "[encoded data removed]"
     },
     "metadata": {},
     "output_type": "display_data"
    }
   ],
   "source": [
    "sns.barplot(x=stat.index,\n",
    "            y=stat.values)"
   ],
   "metadata": {
    "collapsed": false
   }
  },
  {
   "cell_type": "code",
   "execution_count": 75,
   "outputs": [],
   "source": [
    "stat = df_trade.groupby('year')['buy_mount'].sum()"
   ],
   "metadata": {
    "collapsed": false
   }
  },
  {
   "cell_type": "code",
   "execution_count": null,
   "outputs": [],
   "source": [],
   "metadata": {
    "collapsed": false
   }
  },
  {
   "cell_type": "code",
   "execution_count": 104,
   "outputs": [
    {
     "data": {
      "text/plain": "<AxesSubplot: xlabel='year'>"
     },
     "execution_count": 104,
     "metadata": {},
     "output_type": "execute_result"
    },
    {
     "data": {
      "text/plain": "<Figure size 800x550 with 1 Axes>",
      "image/png": "[encoded data removed]"
     },
     "metadata": {},
     "output_type": "display_data"
    }
   ],
   "source": [
    "stat.plot(kind='bar')"
   ],
   "metadata": {
    "collapsed": false
   }
  },
  {
   "cell_type": "code",
   "execution_count": 60,
   "outputs": [
    {
     "data": {
      "text/plain": "count                     798\nunique                    669\ntop       2013-03-09 00:00:00\nfreq                        4\nfirst     2010-01-05 00:00:00\nlast      2015-08-15 00:00:00\nName: birthday, dtype: object"
     },
     "execution_count": 60,
     "metadata": {},
     "output_type": "execute_result"
    }
   ],
   "source": [
    "df_baby = df_baby[df_baby.birthday > '2010-01-01']\n",
    "df_baby.birthday.describe()"
   ],
   "metadata": {
    "collapsed": false
   }
  },
  {
   "cell_type": "code",
   "execution_count": 59,
   "outputs": [
    {
     "data": {
      "text/plain": "count                     927\nunique                    793\ntop       2013-03-09 00:00:00\nfreq                        4\nfirst     1984-06-16 00:00:00\nlast      2015-08-15 00:00:00\nName: birthday, dtype: object"
     },
     "execution_count": 59,
     "metadata": {},
     "output_type": "execute_result"
    }
   ],
   "source": [
    "df_baby['birthday'] = pd.to_datetime(df_baby.birthday.astype('str'))\n",
    "df_baby.birthday.describe()"
   ],
   "metadata": {
    "collapsed": false
   }
  },
  {
   "cell_type": "code",
   "execution_count": 58,
   "outputs": [
    {
     "data": {
      "text/plain": "        user_id  birthday  gender\n0          2757  20130311       1\n1        415971  20121111       0\n2       1372572  20120130       1\n3      10339332  20110910       0\n4      10642245  20130213       0\n..          ...       ...     ...\n948  2020957900  20140430       0\n949  2080304899  20100713       0\n950  2114469016  20140416       0\n951  2186831536  20140519       1\n952  2254611367  20111031       0\n\n[927 rows x 3 columns]",
      "text/html": "<div>\n<style scoped>\n    .dataframe tbody tr th:only-of-type {\n        vertical-align: middle;\n    }\n\n    .dataframe tbody tr th {\n        vertical-align: top;\n    }\n\n    .dataframe thead th {\n        text-align: right;\n    }\n</style>\n<table border=\"1\" class=\"dataframe\">\n  <thead>\n    <tr style=\"text-align: right;\">\n      <th></th>\n      <th>user_id</th>\n      <th>birthday</th>\n      <th>gender</th>\n    </tr>\n  </thead>\n  <tbody>\n    <tr>\n      <th>0</th>\n      <td>2757</td>\n      <td>20130311</td>\n      <td>1</td>\n    </tr>\n    <tr>\n      <th>1</th>\n      <td>415971</td>\n      <td>20121111</td>\n      <td>0</td>\n    </tr>\n    <tr>\n      <th>2</th>\n      <td>1372572</td>\n      <td>20120130</td>\n      <td>1</td>\n    </tr>\n    <tr>\n      <th>3</th>\n      <td>10339332</td>\n      <td>20110910</td>\n      <td>0</td>\n    </tr>\n    <tr>\n      <th>4</th>\n      <td>10642245</td>\n      <td>20130213</td>\n      <td>0</td>\n    </tr>\n    <tr>\n      <th>...</th>\n      <td>...</td>\n      <td>...</td>\n      <td>...</td>\n    </tr>\n    <tr>\n      <th>948</th>\n      <td>2020957900</td>\n      <td>20140430</td>\n      <td>0</td>\n    </tr>\n    <tr>\n      <th>949</th>\n      <td>2080304899</td>\n      <td>20100713</td>\n      <td>0</td>\n    </tr>\n    <tr>\n      <th>950</th>\n      <td>2114469016</td>\n      <td>20140416</td>\n      <td>0</td>\n    </tr>\n    <tr>\n      <th>951</th>\n      <td>2186831536</td>\n      <td>20140519</td>\n      <td>1</td>\n    </tr>\n    <tr>\n      <th>952</th>\n      <td>2254611367</td>\n      <td>20111031</td>\n      <td>0</td>\n    </tr>\n  </tbody>\n</table>\n<p>927 rows × 3 columns</p>\n</div>"
     },
     "execution_count": 58,
     "metadata": {},
     "output_type": "execute_result"
    }
   ],
   "source": [
    "df_baby = df_baby[df_baby.gender != 2]\n",
    "df_baby"
   ],
   "metadata": {
    "collapsed": false
   }
  },
  {
   "cell_type": "code",
   "execution_count": 55,
   "outputs": [
    {
     "name": "stdout",
     "output_type": "stream",
     "text": [
      "用户数 29913\n",
      "交易数 28392\n",
      "商品一级类目数： 6\n",
      "商品二级类目数： 662\n",
      "总销量： 49586\n"
     ]
    }
   ],
   "source": [
    "count_user = df_trade.user_id.nunique()\n",
    "count_auction = df_trade.auction_id.nunique()\n",
    "count_category_1 = df_trade.category_1.nunique()\n",
    "count_category_2 = df_trade.category_2.nunique()\n",
    "count_buy_mount = df_trade.buy_mount.sum()\n",
    "print(\"用户数\", count_user)\n",
    "print(\"交易数\", count_auction)\n",
    "print(\"商品一级类目数：\", count_category_1)\n",
    "print(\"商品二级类目数：\", count_category_2)\n",
    "print(\"总销量：\", count_buy_mount)"
   ],
   "metadata": {
    "collapsed": false
   }
  },
  {
   "cell_type": "code",
   "execution_count": 54,
   "outputs": [
    {
     "data": {
      "text/plain": "count    29940.000000\nmean         1.656179\nstd          5.026888\nmin          1.000000\n25%          1.000000\n50%          1.000000\n75%          1.000000\nmax        176.000000\nName: buy_mount, dtype: float64"
     },
     "execution_count": 54,
     "metadata": {},
     "output_type": "execute_result"
    }
   ],
   "source": [
    "df_trade = df_trade[(df_trade.buy_mount >= 1) & (df_trade.buy_mount <= 189)]\n",
    "df_trade.buy_mount.describe()"
   ],
   "metadata": {
    "collapsed": false
   }
  },
  {
   "cell_type": "code",
   "execution_count": 53,
   "outputs": [
    {
     "data": {
      "text/plain": "count    29971.000000\nmean         2.544126\nstd         63.986879\nmin          1.000000\n25%          1.000000\n50%          1.000000\n75%          1.000000\nmax      10000.000000\nName: buy_mount, dtype: float64"
     },
     "execution_count": 53,
     "metadata": {},
     "output_type": "execute_result"
    }
   ],
   "source": [
    "df_trade.buy_mount.describe()"
   ],
   "metadata": {
    "collapsed": false
   }
  },
  {
   "cell_type": "code",
   "execution_count": 52,
   "outputs": [
    {
     "data": {
      "text/plain": "count                   29971\nunique                    949\ntop       2014-11-11 00:00:00\nfreq                      454\nfirst     2012-07-02 00:00:00\nlast      2015-02-05 00:00:00\nName: day, dtype: object"
     },
     "execution_count": 52,
     "metadata": {},
     "output_type": "execute_result"
    }
   ],
   "source": [
    "df_trade.day.describe()"
   ],
   "metadata": {
    "collapsed": false
   }
  },
  {
   "cell_type": "code",
   "execution_count": 49,
   "outputs": [],
   "source": [
    "df_trade['year'] = df_trade.day.dt.year\n",
    "df_trade['quarter'] = df_trade.day.dt.quarter\n",
    "df_trade['month'] = df_trade.day.dt.month"
   ],
   "metadata": {
    "collapsed": false
   }
  },
  {
   "cell_type": "code",
   "execution_count": 48,
   "outputs": [],
   "source": [
    "df_trade['day'] = pd.to_datetime(df_trade.day.astype('str'))"
   ],
   "metadata": {
    "collapsed": false
   }
  },
  {
   "cell_type": "code",
   "execution_count": 47,
   "outputs": [],
   "source": [
    "# 加载数据\n",
    "\n",
    "df_trade = pd.read_csv('tianchi_mum_baby_trade_history.csv')\n",
    "\n",
    "df_baby = pd.read_csv('tianchi_mum_baby.csv')"
   ],
   "metadata": {
    "collapsed": false
   }
  },
  {
   "cell_type": "code",
   "execution_count": 46,
   "outputs": [],
   "source": [
    "import seaborn as sns\n",
    "import pyecharts.charts as pyc\n",
    "import pyecharts.options as opts"
   ],
   "metadata": {
    "collapsed": false
   }
  },
  {
   "cell_type": "code",
   "execution_count": 45,
   "outputs": [
    {
     "data": {
      "text/plain": "        category_2\ngender            \n0              492\n1              438\n2               26",
      "text/html": "<div>\n<style scoped>\n    .dataframe tbody tr th:only-of-type {\n        vertical-align: middle;\n    }\n\n    .dataframe tbody tr th {\n        vertical-align: top;\n    }\n\n    .dataframe thead th {\n        text-align: right;\n    }\n</style>\n<table border=\"1\" class=\"dataframe\">\n  <thead>\n    <tr style=\"text-align: right;\">\n      <th></th>\n      <th>category_2</th>\n    </tr>\n    <tr>\n      <th>gender</th>\n      <th></th>\n    </tr>\n  </thead>\n  <tbody>\n    <tr>\n      <th>0</th>\n      <td>492</td>\n    </tr>\n    <tr>\n      <th>1</th>\n      <td>438</td>\n    </tr>\n    <tr>\n      <th>2</th>\n      <td>26</td>\n    </tr>\n  </tbody>\n</table>\n</div>"
     },
     "execution_count": 45,
     "metadata": {},
     "output_type": "execute_result"
    }
   ],
   "source": [
    "pd.merge(train,baby,on='user_id').groupby(['gender']).agg({'category_2':len})"
   ],
   "metadata": {
    "collapsed": false
   }
  },
  {
   "cell_type": "code",
   "execution_count": 40,
   "outputs": [
    {
     "data": {
      "text/plain": "        buy_mount\ngender           \n0             935\n1             559\n2              44",
      "text/html": "<div>\n<style scoped>\n    .dataframe tbody tr th:only-of-type {\n        vertical-align: middle;\n    }\n\n    .dataframe tbody tr th {\n        vertical-align: top;\n    }\n\n    .dataframe thead th {\n        text-align: right;\n    }\n</style>\n<table border=\"1\" class=\"dataframe\">\n  <thead>\n    <tr style=\"text-align: right;\">\n      <th></th>\n      <th>buy_mount</th>\n    </tr>\n    <tr>\n      <th>gender</th>\n      <th></th>\n    </tr>\n  </thead>\n  <tbody>\n    <tr>\n      <th>0</th>\n      <td>935</td>\n    </tr>\n    <tr>\n      <th>1</th>\n      <td>559</td>\n    </tr>\n    <tr>\n      <th>2</th>\n      <td>44</td>\n    </tr>\n  </tbody>\n</table>\n</div>"
     },
     "execution_count": 40,
     "metadata": {},
     "output_type": "execute_result"
    }
   ],
   "source": [
    "pd.merge(train,baby,on='user_id').groupby(['gender']).agg({'buy_mount':(sum)})"
   ],
   "metadata": {
    "collapsed": false
   }
  },
  {
   "cell_type": "code",
   "execution_count": 38,
   "outputs": [
    {
     "data": {
      "text/plain": "                       buy_mount\ncategory_1 category_2           \n28         1662                1\n           201826              7\n           203319             24\n           203320            398\n           203322             90\n...                          ...\n122650008  50017921           14\n           50132020           26\n           121410024           6\n           121424024           1\n           121456020           1\n\n[662 rows x 1 columns]",
      "text/html": "<div>\n<style scoped>\n    .dataframe tbody tr th:only-of-type {\n        vertical-align: middle;\n    }\n\n    .dataframe tbody tr th {\n        vertical-align: top;\n    }\n\n    .dataframe thead th {\n        text-align: right;\n    }\n</style>\n<table border=\"1\" class=\"dataframe\">\n  <thead>\n    <tr style=\"text-align: right;\">\n      <th></th>\n      <th></th>\n      <th>buy_mount</th>\n    </tr>\n    <tr>\n      <th>category_1</th>\n      <th>category_2</th>\n      <th></th>\n    </tr>\n  </thead>\n  <tbody>\n    <tr>\n      <th rowspan=\"5\" valign=\"top\">28</th>\n      <th>1662</th>\n      <td>1</td>\n    </tr>\n    <tr>\n      <th>201826</th>\n      <td>7</td>\n    </tr>\n    <tr>\n      <th>203319</th>\n      <td>24</td>\n    </tr>\n    <tr>\n      <th>203320</th>\n      <td>398</td>\n    </tr>\n    <tr>\n      <th>203322</th>\n      <td>90</td>\n    </tr>\n    <tr>\n      <th>...</th>\n      <th>...</th>\n      <td>...</td>\n    </tr>\n    <tr>\n      <th rowspan=\"5\" valign=\"top\">122650008</th>\n      <th>50017921</th>\n      <td>14</td>\n    </tr>\n    <tr>\n      <th>50132020</th>\n      <td>26</td>\n    </tr>\n    <tr>\n      <th>121410024</th>\n      <td>6</td>\n    </tr>\n    <tr>\n      <th>121424024</th>\n      <td>1</td>\n    </tr>\n    <tr>\n      <th>121456020</th>\n      <td>1</td>\n    </tr>\n  </tbody>\n</table>\n<p>662 rows × 1 columns</p>\n</div>"
     },
     "execution_count": 38,
     "metadata": {},
     "output_type": "execute_result"
    }
   ],
   "source": [
    "train2.groupby(['category_1','category_2']).agg({'buy_mount':(sum)})"
   ],
   "metadata": {
    "collapsed": false
   }
  },
  {
   "cell_type": "code",
   "execution_count": 36,
   "outputs": [
    {
     "data": {
      "text/plain": "            buy_mount\ncategory_1           \n28              28545\n38               3666\n50008168        18792\n50014815        19763\n50022520         3245\n122650008        2239",
      "text/html": "<div>\n<style scoped>\n    .dataframe tbody tr th:only-of-type {\n        vertical-align: middle;\n    }\n\n    .dataframe tbody tr th {\n        vertical-align: top;\n    }\n\n    .dataframe thead th {\n        text-align: right;\n    }\n</style>\n<table border=\"1\" class=\"dataframe\">\n  <thead>\n    <tr style=\"text-align: right;\">\n      <th></th>\n      <th>buy_mount</th>\n    </tr>\n    <tr>\n      <th>category_1</th>\n      <th></th>\n    </tr>\n  </thead>\n  <tbody>\n    <tr>\n      <th>28</th>\n      <td>28545</td>\n    </tr>\n    <tr>\n      <th>38</th>\n      <td>3666</td>\n    </tr>\n    <tr>\n      <th>50008168</th>\n      <td>18792</td>\n    </tr>\n    <tr>\n      <th>50014815</th>\n      <td>19763</td>\n    </tr>\n    <tr>\n      <th>50022520</th>\n      <td>3245</td>\n    </tr>\n    <tr>\n      <th>122650008</th>\n      <td>2239</td>\n    </tr>\n  </tbody>\n</table>\n</div>"
     },
     "execution_count": 36,
     "metadata": {},
     "output_type": "execute_result"
    }
   ],
   "source": [
    "train2.groupby('category_1').agg({'buy_mount':(sum)})"
   ],
   "metadata": {
    "collapsed": false
   }
  },
  {
   "cell_type": "code",
   "execution_count": 35,
   "outputs": [
    {
     "data": {
      "text/plain": "         buy_mount\nquarter           \n1            12842\n2            12260\n3            19544\n4            31604",
      "text/html": "<div>\n<style scoped>\n    .dataframe tbody tr th:only-of-type {\n        vertical-align: middle;\n    }\n\n    .dataframe tbody tr th {\n        vertical-align: top;\n    }\n\n    .dataframe thead th {\n        text-align: right;\n    }\n</style>\n<table border=\"1\" class=\"dataframe\">\n  <thead>\n    <tr style=\"text-align: right;\">\n      <th></th>\n      <th>buy_mount</th>\n    </tr>\n    <tr>\n      <th>quarter</th>\n      <th></th>\n    </tr>\n  </thead>\n  <tbody>\n    <tr>\n      <th>1</th>\n      <td>12842</td>\n    </tr>\n    <tr>\n      <th>2</th>\n      <td>12260</td>\n    </tr>\n    <tr>\n      <th>3</th>\n      <td>19544</td>\n    </tr>\n    <tr>\n      <th>4</th>\n      <td>31604</td>\n    </tr>\n  </tbody>\n</table>\n</div>"
     },
     "execution_count": 35,
     "metadata": {},
     "output_type": "execute_result"
    }
   ],
   "source": [
    "train2.groupby('quarter').agg({'buy_mount':(sum)})"
   ],
   "metadata": {
    "collapsed": false
   }
  },
  {
   "cell_type": "code",
   "execution_count": 33,
   "outputs": [
    {
     "data": {
      "text/plain": "      buy_mount\nyear           \n2012       6923\n2013      22813\n2014      42241\n2015       4273",
      "text/html": "<div>\n<style scoped>\n    .dataframe tbody tr th:only-of-type {\n        vertical-align: middle;\n    }\n\n    .dataframe tbody tr th {\n        vertical-align: top;\n    }\n\n    .dataframe thead th {\n        text-align: right;\n    }\n</style>\n<table border=\"1\" class=\"dataframe\">\n  <thead>\n    <tr style=\"text-align: right;\">\n      <th></th>\n      <th>buy_mount</th>\n    </tr>\n    <tr>\n      <th>year</th>\n      <th></th>\n    </tr>\n  </thead>\n  <tbody>\n    <tr>\n      <th>2012</th>\n      <td>6923</td>\n    </tr>\n    <tr>\n      <th>2013</th>\n      <td>22813</td>\n    </tr>\n    <tr>\n      <th>2014</th>\n      <td>42241</td>\n    </tr>\n    <tr>\n      <th>2015</th>\n      <td>4273</td>\n    </tr>\n  </tbody>\n</table>\n</div>"
     },
     "execution_count": 33,
     "metadata": {},
     "output_type": "execute_result"
    }
   ],
   "source": [
    "year_data = train2.groupby('year').agg({'buy_mount':(sum)})\n",
    "year_data.head()"
   ],
   "metadata": {
    "collapsed": false
   }
  },
  {
   "cell_type": "code",
   "execution_count": 32,
   "outputs": [
    {
     "data": {
      "text/plain": "     user_id   auction_id  category_2  category_1  buy_mount        day  year  \\\n0  786295544  41098319944    50014866    50022520          2 2014-09-19  2014   \n1  532110457  17916191097    50011993          28          1 2013-10-11  2013   \n2  249013725  21896936223    50012461    50014815          1 2013-10-11  2013   \n3  917056007  12515996043    50018831    50014815          2 2014-10-23  2014   \n4  444069173  20487688075    50013636    50008168          1 2014-11-03  2014   \n\n   month  date  quarter  \n0      9    19        3  \n1     10    11        4  \n2     10    11        4  \n3     10    23        4  \n4     11     3        4  ",
      "text/html": "<div>\n<style scoped>\n    .dataframe tbody tr th:only-of-type {\n        vertical-align: middle;\n    }\n\n    .dataframe tbody tr th {\n        vertical-align: top;\n    }\n\n    .dataframe thead th {\n        text-align: right;\n    }\n</style>\n<table border=\"1\" class=\"dataframe\">\n  <thead>\n    <tr style=\"text-align: right;\">\n      <th></th>\n      <th>user_id</th>\n      <th>auction_id</th>\n      <th>category_2</th>\n      <th>category_1</th>\n      <th>buy_mount</th>\n      <th>day</th>\n      <th>year</th>\n      <th>month</th>\n      <th>date</th>\n      <th>quarter</th>\n    </tr>\n  </thead>\n  <tbody>\n    <tr>\n      <th>0</th>\n      <td>786295544</td>\n      <td>41098319944</td>\n      <td>50014866</td>\n      <td>50022520</td>\n      <td>2</td>\n      <td>2014-09-19</td>\n      <td>2014</td>\n      <td>9</td>\n      <td>19</td>\n      <td>3</td>\n    </tr>\n    <tr>\n      <th>1</th>\n      <td>532110457</td>\n      <td>17916191097</td>\n      <td>50011993</td>\n      <td>28</td>\n      <td>1</td>\n      <td>2013-10-11</td>\n      <td>2013</td>\n      <td>10</td>\n      <td>11</td>\n      <td>4</td>\n    </tr>\n    <tr>\n      <th>2</th>\n      <td>249013725</td>\n      <td>21896936223</td>\n      <td>50012461</td>\n      <td>50014815</td>\n      <td>1</td>\n      <td>2013-10-11</td>\n      <td>2013</td>\n      <td>10</td>\n      <td>11</td>\n      <td>4</td>\n    </tr>\n    <tr>\n      <th>3</th>\n      <td>917056007</td>\n      <td>12515996043</td>\n      <td>50018831</td>\n      <td>50014815</td>\n      <td>2</td>\n      <td>2014-10-23</td>\n      <td>2014</td>\n      <td>10</td>\n      <td>23</td>\n      <td>4</td>\n    </tr>\n    <tr>\n      <th>4</th>\n      <td>444069173</td>\n      <td>20487688075</td>\n      <td>50013636</td>\n      <td>50008168</td>\n      <td>1</td>\n      <td>2014-11-03</td>\n      <td>2014</td>\n      <td>11</td>\n      <td>3</td>\n      <td>4</td>\n    </tr>\n  </tbody>\n</table>\n</div>"
     },
     "execution_count": 32,
     "metadata": {},
     "output_type": "execute_result"
    }
   ],
   "source": [
    "train2['year']=train2['day'].dt.year\n",
    "train2['month']=train2['day'].dt.month\n",
    "train2['date']=train2['day'].dt.day\n",
    "train2['quarter']=train2['day'].dt.quarter\n",
    "train2.head()"
   ],
   "metadata": {
    "collapsed": false
   }
  },
  {
   "cell_type": "code",
   "execution_count": 31,
   "outputs": [
    {
     "name": "stdout",
     "output_type": "stream",
     "text": [
      "<class 'pandas.core.frame.DataFrame'>\n",
      "RangeIndex: 29971 entries, 0 to 29970\n",
      "Data columns (total 6 columns):\n",
      " #   Column      Non-Null Count  Dtype         \n",
      "---  ------      --------------  -----         \n",
      " 0   user_id     29971 non-null  int64         \n",
      " 1   auction_id  29971 non-null  int64         \n",
      " 2   category_2  29971 non-null  int64         \n",
      " 3   category_1  29971 non-null  int64         \n",
      " 4   buy_mount   29971 non-null  int64         \n",
      " 5   day         29971 non-null  datetime64[ns]\n",
      "dtypes: datetime64[ns](1), int64(5)\n",
      "memory usage: 1.4 MB\n"
     ]
    }
   ],
   "source": [
    "train2 = train.copy()\n",
    "train2['day']=pd.to_datetime(train2['day'].astype(str))\n",
    "train2.info()"
   ],
   "metadata": {
    "collapsed": false
   }
  },
  {
   "cell_type": "code",
   "execution_count": 12,
   "outputs": [
    {
     "data": {
      "text/plain": "     user_id   auction_id  category_2  category_1  buy_mount       day  \\\n0  786295544  41098319944    50014866    50022520          2  20140919   \n1  532110457  17916191097    50011993          28          1  20131011   \n2  249013725  21896936223    50012461    50014815          1  20131011   \n3  917056007  12515996043    50018831    50014815          2  20141023   \n4  444069173  20487688075    50013636    50008168          1  20141103   \n\n   birthday  gender  \n0       NaN     NaN  \n1       NaN     NaN  \n2       NaN     NaN  \n3       NaN     NaN  \n4       NaN     NaN  ",
      "text/html": "<div>\n<style scoped>\n    .dataframe tbody tr th:only-of-type {\n        vertical-align: middle;\n    }\n\n    .dataframe tbody tr th {\n        vertical-align: top;\n    }\n\n    .dataframe thead th {\n        text-align: right;\n    }\n</style>\n<table border=\"1\" class=\"dataframe\">\n  <thead>\n    <tr style=\"text-align: right;\">\n      <th></th>\n      <th>user_id</th>\n      <th>auction_id</th>\n      <th>category_2</th>\n      <th>category_1</th>\n      <th>buy_mount</th>\n      <th>day</th>\n      <th>birthday</th>\n      <th>gender</th>\n    </tr>\n  </thead>\n  <tbody>\n    <tr>\n      <th>0</th>\n      <td>786295544</td>\n      <td>41098319944</td>\n      <td>50014866</td>\n      <td>50022520</td>\n      <td>2</td>\n      <td>20140919</td>\n      <td>NaN</td>\n      <td>NaN</td>\n    </tr>\n    <tr>\n      <th>1</th>\n      <td>532110457</td>\n      <td>17916191097</td>\n      <td>50011993</td>\n      <td>28</td>\n      <td>1</td>\n      <td>20131011</td>\n      <td>NaN</td>\n      <td>NaN</td>\n    </tr>\n    <tr>\n      <th>2</th>\n      <td>249013725</td>\n      <td>21896936223</td>\n      <td>50012461</td>\n      <td>50014815</td>\n      <td>1</td>\n      <td>20131011</td>\n      <td>NaN</td>\n      <td>NaN</td>\n    </tr>\n    <tr>\n      <th>3</th>\n      <td>917056007</td>\n      <td>12515996043</td>\n      <td>50018831</td>\n      <td>50014815</td>\n      <td>2</td>\n      <td>20141023</td>\n      <td>NaN</td>\n      <td>NaN</td>\n    </tr>\n    <tr>\n      <th>4</th>\n      <td>444069173</td>\n      <td>20487688075</td>\n      <td>50013636</td>\n      <td>50008168</td>\n      <td>1</td>\n      <td>20141103</td>\n      <td>NaN</td>\n      <td>NaN</td>\n    </tr>\n  </tbody>\n</table>\n</div>"
     },
     "execution_count": 12,
     "metadata": {},
     "output_type": "execute_result"
    }
   ],
   "source": [
    "data =  pd.merge(train,baby,on='user_id',how='left')\n",
    "data.head()"
   ],
   "metadata": {
    "collapsed": false
   }
  },
  {
   "cell_type": "code",
   "execution_count": 5,
   "outputs": [
    {
     "data": {
      "text/plain": "   user_id  birthday  gender\n0     2757  20130311       1\n1   415971  20121111       0",
      "text/html": "<div>\n<style scoped>\n    .dataframe tbody tr th:only-of-type {\n        vertical-align: middle;\n    }\n\n    .dataframe tbody tr th {\n        vertical-align: top;\n    }\n\n    .dataframe thead th {\n        text-align: right;\n    }\n</style>\n<table border=\"1\" class=\"dataframe\">\n  <thead>\n    <tr style=\"text-align: right;\">\n      <th></th>\n      <th>user_id</th>\n      <th>birthday</th>\n      <th>gender</th>\n    </tr>\n  </thead>\n  <tbody>\n    <tr>\n      <th>0</th>\n      <td>2757</td>\n      <td>20130311</td>\n      <td>1</td>\n    </tr>\n    <tr>\n      <th>1</th>\n      <td>415971</td>\n      <td>20121111</td>\n      <td>0</td>\n    </tr>\n  </tbody>\n</table>\n</div>"
     },
     "execution_count": 5,
     "metadata": {},
     "output_type": "execute_result"
    }
   ],
   "source": [
    "baby = pd.read_csv('tianchi_mum_baby.csv')\n",
    "baby.head(2)"
   ],
   "metadata": {
    "collapsed": false
   }
  },
  {
   "cell_type": "code",
   "execution_count": null,
   "outputs": [],
   "source": [
    "print(1,2,2,)"
   ],
   "metadata": {
    "collapsed": false
   }
  },
  {
   "cell_type": "code",
   "execution_count": 4,
   "outputs": [
    {
     "data": {
      "text/plain": "     user_id   auction_id  category_2  category_1  buy_mount       day\n0  786295544  41098319944    50014866    50022520          2  20140919\n1  532110457  17916191097    50011993          28          1  20131011\n2  249013725  21896936223    50012461    50014815          1  20131011\n3  917056007  12515996043    50018831    50014815          2  20141023\n4  444069173  20487688075    50013636    50008168          1  20141103",
      "text/html": "<div>\n<style scoped>\n    .dataframe tbody tr th:only-of-type {\n        vertical-align: middle;\n    }\n\n    .dataframe tbody tr th {\n        vertical-align: top;\n    }\n\n    .dataframe thead th {\n        text-align: right;\n    }\n</style>\n<table border=\"1\" class=\"dataframe\">\n  <thead>\n    <tr style=\"text-align: right;\">\n      <th></th>\n      <th>user_id</th>\n      <th>auction_id</th>\n      <th>category_2</th>\n      <th>category_1</th>\n      <th>buy_mount</th>\n      <th>day</th>\n    </tr>\n  </thead>\n  <tbody>\n    <tr>\n      <th>0</th>\n      <td>786295544</td>\n      <td>41098319944</td>\n      <td>50014866</td>\n      <td>50022520</td>\n      <td>2</td>\n      <td>20140919</td>\n    </tr>\n    <tr>\n      <th>1</th>\n      <td>532110457</td>\n      <td>17916191097</td>\n      <td>50011993</td>\n      <td>28</td>\n      <td>1</td>\n      <td>20131011</td>\n    </tr>\n    <tr>\n      <th>2</th>\n      <td>249013725</td>\n      <td>21896936223</td>\n      <td>50012461</td>\n      <td>50014815</td>\n      <td>1</td>\n      <td>20131011</td>\n    </tr>\n    <tr>\n      <th>3</th>\n      <td>917056007</td>\n      <td>12515996043</td>\n      <td>50018831</td>\n      <td>50014815</td>\n      <td>2</td>\n      <td>20141023</td>\n    </tr>\n    <tr>\n      <th>4</th>\n      <td>444069173</td>\n      <td>20487688075</td>\n      <td>50013636</td>\n      <td>50008168</td>\n      <td>1</td>\n      <td>20141103</td>\n    </tr>\n  </tbody>\n</table>\n</div>"
     },
     "execution_count": 4,
     "metadata": {},
     "output_type": "execute_result"
    }
   ],
   "source": [
    "train = pd.train = pd.read_csv('tianchi_mum_baby_trade_history.csv')\n",
    "train.head()"
   ],
   "metadata": {
    "collapsed": false
   }
  },
  {
   "cell_type": "code",
   "execution_count": 1,
   "outputs": [],
   "source": [
    "import os\n",
    "os.chdir(r'C:\\Users\\fzh00\\Desktop\\文件\\excel\\阿里天池\\母婴产品')"
   ],
   "metadata": {
    "collapsed": false
   }
  },
  {
   "cell_type": "code",
   "execution_count": 2,
   "outputs": [],
   "source": [
    "from IPython.core.interactiveshell import InteractiveShell\n",
    "InteractiveShell.ast_node_interactivity = \"all\"\n",
    "\n",
    "import numpy as np\n",
    "import pandas as pd\n",
    "\n",
    "import warnings\n",
    "warnings.filterwarnings(\"ignore\")"
   ],
   "metadata": {
    "collapsed": false
   }
  },
  {
   "cell_type": "code",
   "execution_count": 3,
   "outputs": [],
   "source": [
    "import matplotlib.pyplot as plt\n",
    "plt.style.use('seaborn')\n",
    "#设置字体为黑色\n",
    "plt.rcParams['font.family']='SimHei'\n",
    "#显示符号\n",
    "plt.rcParams['axes.unicode_minus']= False"
   ],
   "metadata": {
    "collapsed": false
   }
  }
 ],
 "metadata": {
  "kernelspec": {
   "display_name": "Python 3",
   "language": "python",
   "name": "python3"
  },
  "language_info": {
   "codemirror_mode": {
    "name": "ipython",
    "version": 2
   },
   "file_extension": ".py",
   "mimetype": "text/x-python",
   "name": "python",
   "nbconvert_exporter": "python",
   "pygments_lexer": "ipython2",
   "version": "2.7.6"
  }
 },
 "nbformat": 4,
 "nbformat_minor": 0
}
