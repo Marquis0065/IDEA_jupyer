{
 "cells": [
  {
   "cell_type": "code",
   "execution_count": 24,
   "outputs": [
    {
     "ename": "AttributeError",
     "evalue": "'NoneType' object has no attribute 'split'",
     "output_type": "error",
     "traceback": [
      "\u001B[1;31m---------------------------------------------------------------------------\u001B[0m",
      "\u001B[1;31mAttributeError\u001B[0m                            Traceback (most recent call last)",
      "Cell \u001B[1;32mIn[24], line 5\u001B[0m\n\u001B[0;32m      3\u001B[0m knn \u001B[38;5;241m=\u001B[39m KNeighborsClassifier(n_neighbors\u001B[38;5;241m=\u001B[39m\u001B[38;5;241m8\u001B[39m)\n\u001B[0;32m      4\u001B[0m knn\u001B[38;5;241m.\u001B[39mfit(Xtrain,Ytrain)\n\u001B[1;32m----> 5\u001B[0m \u001B[43mknn\u001B[49m\u001B[38;5;241;43m.\u001B[39;49m\u001B[43mscore\u001B[49m\u001B[43m(\u001B[49m\u001B[43mXtest\u001B[49m\u001B[43m,\u001B[49m\u001B[43mYtest\u001B[49m\u001B[43m)\u001B[49m\n",
      "File \u001B[1;32mC:\\ProgramData\\Anaconda3\\envs\\cda_python\\lib\\site-packages\\sklearn\\base.py:649\u001B[0m, in \u001B[0;36mClassifierMixin.score\u001B[1;34m(self, X, y, sample_weight)\u001B[0m\n\u001B[0;32m    624\u001B[0m \u001B[38;5;124;03m\"\"\"\u001B[39;00m\n\u001B[0;32m    625\u001B[0m \u001B[38;5;124;03mReturn the mean accuracy on the given test data and labels.\u001B[39;00m\n\u001B[0;32m    626\u001B[0m \n\u001B[1;32m   (...)\u001B[0m\n\u001B[0;32m    645\u001B[0m \u001B[38;5;124;03m    Mean accuracy of ``self.predict(X)`` wrt. `y`.\u001B[39;00m\n\u001B[0;32m    646\u001B[0m \u001B[38;5;124;03m\"\"\"\u001B[39;00m\n\u001B[0;32m    647\u001B[0m \u001B[38;5;28;01mfrom\u001B[39;00m \u001B[38;5;21;01m.\u001B[39;00m\u001B[38;5;21;01mmetrics\u001B[39;00m \u001B[38;5;28;01mimport\u001B[39;00m accuracy_score\n\u001B[1;32m--> 649\u001B[0m \u001B[38;5;28;01mreturn\u001B[39;00m accuracy_score(y, \u001B[38;5;28;43mself\u001B[39;49m\u001B[38;5;241;43m.\u001B[39;49m\u001B[43mpredict\u001B[49m\u001B[43m(\u001B[49m\u001B[43mX\u001B[49m\u001B[43m)\u001B[49m, sample_weight\u001B[38;5;241m=\u001B[39msample_weight)\n",
      "File \u001B[1;32mC:\\ProgramData\\Anaconda3\\envs\\cda_python\\lib\\site-packages\\sklearn\\neighbors\\_classification.py:234\u001B[0m, in \u001B[0;36mKNeighborsClassifier.predict\u001B[1;34m(self, X)\u001B[0m\n\u001B[0;32m    218\u001B[0m \u001B[38;5;124;03m\"\"\"Predict the class labels for the provided data.\u001B[39;00m\n\u001B[0;32m    219\u001B[0m \n\u001B[0;32m    220\u001B[0m \u001B[38;5;124;03mParameters\u001B[39;00m\n\u001B[1;32m   (...)\u001B[0m\n\u001B[0;32m    229\u001B[0m \u001B[38;5;124;03m    Class labels for each data sample.\u001B[39;00m\n\u001B[0;32m    230\u001B[0m \u001B[38;5;124;03m\"\"\"\u001B[39;00m\n\u001B[0;32m    231\u001B[0m \u001B[38;5;28;01mif\u001B[39;00m \u001B[38;5;28mself\u001B[39m\u001B[38;5;241m.\u001B[39mweights \u001B[38;5;241m==\u001B[39m \u001B[38;5;124m\"\u001B[39m\u001B[38;5;124muniform\u001B[39m\u001B[38;5;124m\"\u001B[39m:\n\u001B[0;32m    232\u001B[0m     \u001B[38;5;66;03m# In that case, we do not need the distances to perform\u001B[39;00m\n\u001B[0;32m    233\u001B[0m     \u001B[38;5;66;03m# the weighting so we do not compute them.\u001B[39;00m\n\u001B[1;32m--> 234\u001B[0m     neigh_ind \u001B[38;5;241m=\u001B[39m \u001B[38;5;28;43mself\u001B[39;49m\u001B[38;5;241;43m.\u001B[39;49m\u001B[43mkneighbors\u001B[49m\u001B[43m(\u001B[49m\u001B[43mX\u001B[49m\u001B[43m,\u001B[49m\u001B[43m \u001B[49m\u001B[43mreturn_distance\u001B[49m\u001B[38;5;241;43m=\u001B[39;49m\u001B[38;5;28;43;01mFalse\u001B[39;49;00m\u001B[43m)\u001B[49m\n\u001B[0;32m    235\u001B[0m     neigh_dist \u001B[38;5;241m=\u001B[39m \u001B[38;5;28;01mNone\u001B[39;00m\n\u001B[0;32m    236\u001B[0m \u001B[38;5;28;01melse\u001B[39;00m:\n",
      "File \u001B[1;32mC:\\ProgramData\\Anaconda3\\envs\\cda_python\\lib\\site-packages\\sklearn\\neighbors\\_base.py:824\u001B[0m, in \u001B[0;36mKNeighborsMixin.kneighbors\u001B[1;34m(self, X, n_neighbors, return_distance)\u001B[0m\n\u001B[0;32m    817\u001B[0m use_pairwise_distances_reductions \u001B[38;5;241m=\u001B[39m (\n\u001B[0;32m    818\u001B[0m     \u001B[38;5;28mself\u001B[39m\u001B[38;5;241m.\u001B[39m_fit_method \u001B[38;5;241m==\u001B[39m \u001B[38;5;124m\"\u001B[39m\u001B[38;5;124mbrute\u001B[39m\u001B[38;5;124m\"\u001B[39m\n\u001B[0;32m    819\u001B[0m     \u001B[38;5;129;01mand\u001B[39;00m ArgKmin\u001B[38;5;241m.\u001B[39mis_usable_for(\n\u001B[0;32m    820\u001B[0m         X \u001B[38;5;28;01mif\u001B[39;00m X \u001B[38;5;129;01mis\u001B[39;00m \u001B[38;5;129;01mnot\u001B[39;00m \u001B[38;5;28;01mNone\u001B[39;00m \u001B[38;5;28;01melse\u001B[39;00m \u001B[38;5;28mself\u001B[39m\u001B[38;5;241m.\u001B[39m_fit_X, \u001B[38;5;28mself\u001B[39m\u001B[38;5;241m.\u001B[39m_fit_X, \u001B[38;5;28mself\u001B[39m\u001B[38;5;241m.\u001B[39meffective_metric_\n\u001B[0;32m    821\u001B[0m     )\n\u001B[0;32m    822\u001B[0m )\n\u001B[0;32m    823\u001B[0m \u001B[38;5;28;01mif\u001B[39;00m use_pairwise_distances_reductions:\n\u001B[1;32m--> 824\u001B[0m     results \u001B[38;5;241m=\u001B[39m \u001B[43mArgKmin\u001B[49m\u001B[38;5;241;43m.\u001B[39;49m\u001B[43mcompute\u001B[49m\u001B[43m(\u001B[49m\n\u001B[0;32m    825\u001B[0m \u001B[43m        \u001B[49m\u001B[43mX\u001B[49m\u001B[38;5;241;43m=\u001B[39;49m\u001B[43mX\u001B[49m\u001B[43m,\u001B[49m\n\u001B[0;32m    826\u001B[0m \u001B[43m        \u001B[49m\u001B[43mY\u001B[49m\u001B[38;5;241;43m=\u001B[39;49m\u001B[38;5;28;43mself\u001B[39;49m\u001B[38;5;241;43m.\u001B[39;49m\u001B[43m_fit_X\u001B[49m\u001B[43m,\u001B[49m\n\u001B[0;32m    827\u001B[0m \u001B[43m        \u001B[49m\u001B[43mk\u001B[49m\u001B[38;5;241;43m=\u001B[39;49m\u001B[43mn_neighbors\u001B[49m\u001B[43m,\u001B[49m\n\u001B[0;32m    828\u001B[0m \u001B[43m        \u001B[49m\u001B[43mmetric\u001B[49m\u001B[38;5;241;43m=\u001B[39;49m\u001B[38;5;28;43mself\u001B[39;49m\u001B[38;5;241;43m.\u001B[39;49m\u001B[43meffective_metric_\u001B[49m\u001B[43m,\u001B[49m\n\u001B[0;32m    829\u001B[0m \u001B[43m        \u001B[49m\u001B[43mmetric_kwargs\u001B[49m\u001B[38;5;241;43m=\u001B[39;49m\u001B[38;5;28;43mself\u001B[39;49m\u001B[38;5;241;43m.\u001B[39;49m\u001B[43meffective_metric_params_\u001B[49m\u001B[43m,\u001B[49m\n\u001B[0;32m    830\u001B[0m \u001B[43m        \u001B[49m\u001B[43mstrategy\u001B[49m\u001B[38;5;241;43m=\u001B[39;49m\u001B[38;5;124;43m\"\u001B[39;49m\u001B[38;5;124;43mauto\u001B[39;49m\u001B[38;5;124;43m\"\u001B[39;49m\u001B[43m,\u001B[49m\n\u001B[0;32m    831\u001B[0m \u001B[43m        \u001B[49m\u001B[43mreturn_distance\u001B[49m\u001B[38;5;241;43m=\u001B[39;49m\u001B[43mreturn_distance\u001B[49m\u001B[43m,\u001B[49m\n\u001B[0;32m    832\u001B[0m \u001B[43m    \u001B[49m\u001B[43m)\u001B[49m\n\u001B[0;32m    834\u001B[0m \u001B[38;5;28;01melif\u001B[39;00m (\n\u001B[0;32m    835\u001B[0m     \u001B[38;5;28mself\u001B[39m\u001B[38;5;241m.\u001B[39m_fit_method \u001B[38;5;241m==\u001B[39m \u001B[38;5;124m\"\u001B[39m\u001B[38;5;124mbrute\u001B[39m\u001B[38;5;124m\"\u001B[39m \u001B[38;5;129;01mand\u001B[39;00m \u001B[38;5;28mself\u001B[39m\u001B[38;5;241m.\u001B[39mmetric \u001B[38;5;241m==\u001B[39m \u001B[38;5;124m\"\u001B[39m\u001B[38;5;124mprecomputed\u001B[39m\u001B[38;5;124m\"\u001B[39m \u001B[38;5;129;01mand\u001B[39;00m issparse(X)\n\u001B[0;32m    836\u001B[0m ):\n\u001B[0;32m    837\u001B[0m     results \u001B[38;5;241m=\u001B[39m _kneighbors_from_graph(\n\u001B[0;32m    838\u001B[0m         X, n_neighbors\u001B[38;5;241m=\u001B[39mn_neighbors, return_distance\u001B[38;5;241m=\u001B[39mreturn_distance\n\u001B[0;32m    839\u001B[0m     )\n",
      "File \u001B[1;32mC:\\ProgramData\\Anaconda3\\envs\\cda_python\\lib\\site-packages\\sklearn\\metrics\\_pairwise_distances_reduction\\_dispatcher.py:277\u001B[0m, in \u001B[0;36mArgKmin.compute\u001B[1;34m(cls, X, Y, k, metric, chunk_size, metric_kwargs, strategy, return_distance)\u001B[0m\n\u001B[0;32m    196\u001B[0m \u001B[38;5;124;03m\"\"\"Compute the argkmin reduction.\u001B[39;00m\n\u001B[0;32m    197\u001B[0m \n\u001B[0;32m    198\u001B[0m \u001B[38;5;124;03mParameters\u001B[39;00m\n\u001B[1;32m   (...)\u001B[0m\n\u001B[0;32m    274\u001B[0m \u001B[38;5;124;03mreturns.\u001B[39;00m\n\u001B[0;32m    275\u001B[0m \u001B[38;5;124;03m\"\"\"\u001B[39;00m\n\u001B[0;32m    276\u001B[0m \u001B[38;5;28;01mif\u001B[39;00m X\u001B[38;5;241m.\u001B[39mdtype \u001B[38;5;241m==\u001B[39m Y\u001B[38;5;241m.\u001B[39mdtype \u001B[38;5;241m==\u001B[39m np\u001B[38;5;241m.\u001B[39mfloat64:\n\u001B[1;32m--> 277\u001B[0m     \u001B[38;5;28;01mreturn\u001B[39;00m \u001B[43mArgKmin64\u001B[49m\u001B[38;5;241;43m.\u001B[39;49m\u001B[43mcompute\u001B[49m\u001B[43m(\u001B[49m\n\u001B[0;32m    278\u001B[0m \u001B[43m        \u001B[49m\u001B[43mX\u001B[49m\u001B[38;5;241;43m=\u001B[39;49m\u001B[43mX\u001B[49m\u001B[43m,\u001B[49m\n\u001B[0;32m    279\u001B[0m \u001B[43m        \u001B[49m\u001B[43mY\u001B[49m\u001B[38;5;241;43m=\u001B[39;49m\u001B[43mY\u001B[49m\u001B[43m,\u001B[49m\n\u001B[0;32m    280\u001B[0m \u001B[43m        \u001B[49m\u001B[43mk\u001B[49m\u001B[38;5;241;43m=\u001B[39;49m\u001B[43mk\u001B[49m\u001B[43m,\u001B[49m\n\u001B[0;32m    281\u001B[0m \u001B[43m        \u001B[49m\u001B[43mmetric\u001B[49m\u001B[38;5;241;43m=\u001B[39;49m\u001B[43mmetric\u001B[49m\u001B[43m,\u001B[49m\n\u001B[0;32m    282\u001B[0m \u001B[43m        \u001B[49m\u001B[43mchunk_size\u001B[49m\u001B[38;5;241;43m=\u001B[39;49m\u001B[43mchunk_size\u001B[49m\u001B[43m,\u001B[49m\n\u001B[0;32m    283\u001B[0m \u001B[43m        \u001B[49m\u001B[43mmetric_kwargs\u001B[49m\u001B[38;5;241;43m=\u001B[39;49m\u001B[43mmetric_kwargs\u001B[49m\u001B[43m,\u001B[49m\n\u001B[0;32m    284\u001B[0m \u001B[43m        \u001B[49m\u001B[43mstrategy\u001B[49m\u001B[38;5;241;43m=\u001B[39;49m\u001B[43mstrategy\u001B[49m\u001B[43m,\u001B[49m\n\u001B[0;32m    285\u001B[0m \u001B[43m        \u001B[49m\u001B[43mreturn_distance\u001B[49m\u001B[38;5;241;43m=\u001B[39;49m\u001B[43mreturn_distance\u001B[49m\u001B[43m,\u001B[49m\n\u001B[0;32m    286\u001B[0m \u001B[43m    \u001B[49m\u001B[43m)\u001B[49m\n\u001B[0;32m    288\u001B[0m \u001B[38;5;28;01mif\u001B[39;00m X\u001B[38;5;241m.\u001B[39mdtype \u001B[38;5;241m==\u001B[39m Y\u001B[38;5;241m.\u001B[39mdtype \u001B[38;5;241m==\u001B[39m np\u001B[38;5;241m.\u001B[39mfloat32:\n\u001B[0;32m    289\u001B[0m     \u001B[38;5;28;01mreturn\u001B[39;00m ArgKmin32\u001B[38;5;241m.\u001B[39mcompute(\n\u001B[0;32m    290\u001B[0m         X\u001B[38;5;241m=\u001B[39mX,\n\u001B[0;32m    291\u001B[0m         Y\u001B[38;5;241m=\u001B[39mY,\n\u001B[1;32m   (...)\u001B[0m\n\u001B[0;32m    297\u001B[0m         return_distance\u001B[38;5;241m=\u001B[39mreturn_distance,\n\u001B[0;32m    298\u001B[0m     )\n",
      "File \u001B[1;32msklearn\\metrics\\_pairwise_distances_reduction\\_argkmin.pyx:95\u001B[0m, in \u001B[0;36msklearn.metrics._pairwise_distances_reduction._argkmin.ArgKmin64.compute\u001B[1;34m()\u001B[0m\n",
      "File \u001B[1;32mC:\\ProgramData\\Anaconda3\\envs\\cda_python\\lib\\site-packages\\sklearn\\utils\\fixes.py:139\u001B[0m, in \u001B[0;36mthreadpool_limits\u001B[1;34m(limits, user_api)\u001B[0m\n\u001B[0;32m    137\u001B[0m     \u001B[38;5;28;01mreturn\u001B[39;00m controller\u001B[38;5;241m.\u001B[39mlimit(limits\u001B[38;5;241m=\u001B[39mlimits, user_api\u001B[38;5;241m=\u001B[39muser_api)\n\u001B[0;32m    138\u001B[0m \u001B[38;5;28;01melse\u001B[39;00m:\n\u001B[1;32m--> 139\u001B[0m     \u001B[38;5;28;01mreturn\u001B[39;00m \u001B[43mthreadpoolctl\u001B[49m\u001B[38;5;241;43m.\u001B[39;49m\u001B[43mthreadpool_limits\u001B[49m\u001B[43m(\u001B[49m\u001B[43mlimits\u001B[49m\u001B[38;5;241;43m=\u001B[39;49m\u001B[43mlimits\u001B[49m\u001B[43m,\u001B[49m\u001B[43m \u001B[49m\u001B[43muser_api\u001B[49m\u001B[38;5;241;43m=\u001B[39;49m\u001B[43muser_api\u001B[49m\u001B[43m)\u001B[49m\n",
      "File \u001B[1;32mC:\\ProgramData\\Anaconda3\\envs\\cda_python\\lib\\site-packages\\threadpoolctl.py:171\u001B[0m, in \u001B[0;36mthreadpool_limits.__init__\u001B[1;34m(self, limits, user_api)\u001B[0m\n\u001B[0;32m    167\u001B[0m \u001B[38;5;28;01mdef\u001B[39;00m \u001B[38;5;21m__init__\u001B[39m(\u001B[38;5;28mself\u001B[39m, limits\u001B[38;5;241m=\u001B[39m\u001B[38;5;28;01mNone\u001B[39;00m, user_api\u001B[38;5;241m=\u001B[39m\u001B[38;5;28;01mNone\u001B[39;00m):\n\u001B[0;32m    168\u001B[0m     \u001B[38;5;28mself\u001B[39m\u001B[38;5;241m.\u001B[39m_limits, \u001B[38;5;28mself\u001B[39m\u001B[38;5;241m.\u001B[39m_user_api, \u001B[38;5;28mself\u001B[39m\u001B[38;5;241m.\u001B[39m_prefixes \u001B[38;5;241m=\u001B[39m \\\n\u001B[0;32m    169\u001B[0m         \u001B[38;5;28mself\u001B[39m\u001B[38;5;241m.\u001B[39m_check_params(limits, user_api)\n\u001B[1;32m--> 171\u001B[0m     \u001B[38;5;28mself\u001B[39m\u001B[38;5;241m.\u001B[39m_original_info \u001B[38;5;241m=\u001B[39m \u001B[38;5;28;43mself\u001B[39;49m\u001B[38;5;241;43m.\u001B[39;49m\u001B[43m_set_threadpool_limits\u001B[49m\u001B[43m(\u001B[49m\u001B[43m)\u001B[49m\n",
      "File \u001B[1;32mC:\\ProgramData\\Anaconda3\\envs\\cda_python\\lib\\site-packages\\threadpoolctl.py:268\u001B[0m, in \u001B[0;36mthreadpool_limits._set_threadpool_limits\u001B[1;34m(self)\u001B[0m\n\u001B[0;32m    265\u001B[0m \u001B[38;5;28;01mif\u001B[39;00m \u001B[38;5;28mself\u001B[39m\u001B[38;5;241m.\u001B[39m_limits \u001B[38;5;129;01mis\u001B[39;00m \u001B[38;5;28;01mNone\u001B[39;00m:\n\u001B[0;32m    266\u001B[0m     \u001B[38;5;28;01mreturn\u001B[39;00m \u001B[38;5;28;01mNone\u001B[39;00m\n\u001B[1;32m--> 268\u001B[0m modules \u001B[38;5;241m=\u001B[39m \u001B[43m_ThreadpoolInfo\u001B[49m\u001B[43m(\u001B[49m\u001B[43mprefixes\u001B[49m\u001B[38;5;241;43m=\u001B[39;49m\u001B[38;5;28;43mself\u001B[39;49m\u001B[38;5;241;43m.\u001B[39;49m\u001B[43m_prefixes\u001B[49m\u001B[43m,\u001B[49m\n\u001B[0;32m    269\u001B[0m \u001B[43m                          \u001B[49m\u001B[43muser_api\u001B[49m\u001B[38;5;241;43m=\u001B[39;49m\u001B[38;5;28;43mself\u001B[39;49m\u001B[38;5;241;43m.\u001B[39;49m\u001B[43m_user_api\u001B[49m\u001B[43m)\u001B[49m\n\u001B[0;32m    270\u001B[0m \u001B[38;5;28;01mfor\u001B[39;00m module \u001B[38;5;129;01min\u001B[39;00m modules:\n\u001B[0;32m    271\u001B[0m     \u001B[38;5;66;03m# self._limits is a dict {key: num_threads} where key is either\u001B[39;00m\n\u001B[0;32m    272\u001B[0m     \u001B[38;5;66;03m# a prefix or a user_api. If a module matches both, the limit\u001B[39;00m\n\u001B[0;32m    273\u001B[0m     \u001B[38;5;66;03m# corresponding to the prefix is chosed.\u001B[39;00m\n\u001B[0;32m    274\u001B[0m     \u001B[38;5;28;01mif\u001B[39;00m module\u001B[38;5;241m.\u001B[39mprefix \u001B[38;5;129;01min\u001B[39;00m \u001B[38;5;28mself\u001B[39m\u001B[38;5;241m.\u001B[39m_limits:\n",
      "File \u001B[1;32mC:\\ProgramData\\Anaconda3\\envs\\cda_python\\lib\\site-packages\\threadpoolctl.py:340\u001B[0m, in \u001B[0;36m_ThreadpoolInfo.__init__\u001B[1;34m(self, user_api, prefixes, modules)\u001B[0m\n\u001B[0;32m    337\u001B[0m     \u001B[38;5;28mself\u001B[39m\u001B[38;5;241m.\u001B[39muser_api \u001B[38;5;241m=\u001B[39m [] \u001B[38;5;28;01mif\u001B[39;00m user_api \u001B[38;5;129;01mis\u001B[39;00m \u001B[38;5;28;01mNone\u001B[39;00m \u001B[38;5;28;01melse\u001B[39;00m user_api\n\u001B[0;32m    339\u001B[0m     \u001B[38;5;28mself\u001B[39m\u001B[38;5;241m.\u001B[39mmodules \u001B[38;5;241m=\u001B[39m []\n\u001B[1;32m--> 340\u001B[0m     \u001B[38;5;28;43mself\u001B[39;49m\u001B[38;5;241;43m.\u001B[39;49m\u001B[43m_load_modules\u001B[49m\u001B[43m(\u001B[49m\u001B[43m)\u001B[49m\n\u001B[0;32m    341\u001B[0m     \u001B[38;5;28mself\u001B[39m\u001B[38;5;241m.\u001B[39m_warn_if_incompatible_openmp()\n\u001B[0;32m    342\u001B[0m \u001B[38;5;28;01melse\u001B[39;00m:\n",
      "File \u001B[1;32mC:\\ProgramData\\Anaconda3\\envs\\cda_python\\lib\\site-packages\\threadpoolctl.py:373\u001B[0m, in \u001B[0;36m_ThreadpoolInfo._load_modules\u001B[1;34m(self)\u001B[0m\n\u001B[0;32m    371\u001B[0m     \u001B[38;5;28mself\u001B[39m\u001B[38;5;241m.\u001B[39m_find_modules_with_dyld()\n\u001B[0;32m    372\u001B[0m \u001B[38;5;28;01melif\u001B[39;00m sys\u001B[38;5;241m.\u001B[39mplatform \u001B[38;5;241m==\u001B[39m \u001B[38;5;124m\"\u001B[39m\u001B[38;5;124mwin32\u001B[39m\u001B[38;5;124m\"\u001B[39m:\n\u001B[1;32m--> 373\u001B[0m     \u001B[38;5;28;43mself\u001B[39;49m\u001B[38;5;241;43m.\u001B[39;49m\u001B[43m_find_modules_with_enum_process_module_ex\u001B[49m\u001B[43m(\u001B[49m\u001B[43m)\u001B[49m\n\u001B[0;32m    374\u001B[0m \u001B[38;5;28;01melse\u001B[39;00m:\n\u001B[0;32m    375\u001B[0m     \u001B[38;5;28mself\u001B[39m\u001B[38;5;241m.\u001B[39m_find_modules_with_dl_iterate_phdr()\n",
      "File \u001B[1;32mC:\\ProgramData\\Anaconda3\\envs\\cda_python\\lib\\site-packages\\threadpoolctl.py:485\u001B[0m, in \u001B[0;36m_ThreadpoolInfo._find_modules_with_enum_process_module_ex\u001B[1;34m(self)\u001B[0m\n\u001B[0;32m    482\u001B[0m         filepath \u001B[38;5;241m=\u001B[39m buf\u001B[38;5;241m.\u001B[39mvalue\n\u001B[0;32m    484\u001B[0m         \u001B[38;5;66;03m# Store the module if it is supported and selected\u001B[39;00m\n\u001B[1;32m--> 485\u001B[0m         \u001B[38;5;28;43mself\u001B[39;49m\u001B[38;5;241;43m.\u001B[39;49m\u001B[43m_make_module_from_path\u001B[49m\u001B[43m(\u001B[49m\u001B[43mfilepath\u001B[49m\u001B[43m)\u001B[49m\n\u001B[0;32m    486\u001B[0m \u001B[38;5;28;01mfinally\u001B[39;00m:\n\u001B[0;32m    487\u001B[0m     kernel_32\u001B[38;5;241m.\u001B[39mCloseHandle(h_process)\n",
      "File \u001B[1;32mC:\\ProgramData\\Anaconda3\\envs\\cda_python\\lib\\site-packages\\threadpoolctl.py:515\u001B[0m, in \u001B[0;36m_ThreadpoolInfo._make_module_from_path\u001B[1;34m(self, filepath)\u001B[0m\n\u001B[0;32m    513\u001B[0m \u001B[38;5;28;01mif\u001B[39;00m prefix \u001B[38;5;129;01min\u001B[39;00m \u001B[38;5;28mself\u001B[39m\u001B[38;5;241m.\u001B[39mprefixes \u001B[38;5;129;01mor\u001B[39;00m user_api \u001B[38;5;129;01min\u001B[39;00m \u001B[38;5;28mself\u001B[39m\u001B[38;5;241m.\u001B[39muser_api:\n\u001B[0;32m    514\u001B[0m     module_class \u001B[38;5;241m=\u001B[39m \u001B[38;5;28mglobals\u001B[39m()[module_class]\n\u001B[1;32m--> 515\u001B[0m     module \u001B[38;5;241m=\u001B[39m \u001B[43mmodule_class\u001B[49m\u001B[43m(\u001B[49m\u001B[43mfilepath\u001B[49m\u001B[43m,\u001B[49m\u001B[43m \u001B[49m\u001B[43mprefix\u001B[49m\u001B[43m,\u001B[49m\u001B[43m \u001B[49m\u001B[43muser_api\u001B[49m\u001B[43m,\u001B[49m\u001B[43m \u001B[49m\u001B[43minternal_api\u001B[49m\u001B[43m)\u001B[49m\n\u001B[0;32m    516\u001B[0m     \u001B[38;5;28mself\u001B[39m\u001B[38;5;241m.\u001B[39mmodules\u001B[38;5;241m.\u001B[39mappend(module)\n",
      "File \u001B[1;32mC:\\ProgramData\\Anaconda3\\envs\\cda_python\\lib\\site-packages\\threadpoolctl.py:606\u001B[0m, in \u001B[0;36m_Module.__init__\u001B[1;34m(self, filepath, prefix, user_api, internal_api)\u001B[0m\n\u001B[0;32m    604\u001B[0m \u001B[38;5;28mself\u001B[39m\u001B[38;5;241m.\u001B[39minternal_api \u001B[38;5;241m=\u001B[39m internal_api\n\u001B[0;32m    605\u001B[0m \u001B[38;5;28mself\u001B[39m\u001B[38;5;241m.\u001B[39m_dynlib \u001B[38;5;241m=\u001B[39m ctypes\u001B[38;5;241m.\u001B[39mCDLL(filepath, mode\u001B[38;5;241m=\u001B[39m_RTLD_NOLOAD)\n\u001B[1;32m--> 606\u001B[0m \u001B[38;5;28mself\u001B[39m\u001B[38;5;241m.\u001B[39mversion \u001B[38;5;241m=\u001B[39m \u001B[38;5;28;43mself\u001B[39;49m\u001B[38;5;241;43m.\u001B[39;49m\u001B[43mget_version\u001B[49m\u001B[43m(\u001B[49m\u001B[43m)\u001B[49m\n\u001B[0;32m    607\u001B[0m \u001B[38;5;28mself\u001B[39m\u001B[38;5;241m.\u001B[39mnum_threads \u001B[38;5;241m=\u001B[39m \u001B[38;5;28mself\u001B[39m\u001B[38;5;241m.\u001B[39mget_num_threads()\n\u001B[0;32m    608\u001B[0m \u001B[38;5;28mself\u001B[39m\u001B[38;5;241m.\u001B[39m_get_extra_info()\n",
      "File \u001B[1;32mC:\\ProgramData\\Anaconda3\\envs\\cda_python\\lib\\site-packages\\threadpoolctl.py:646\u001B[0m, in \u001B[0;36m_OpenBLASModule.get_version\u001B[1;34m(self)\u001B[0m\n\u001B[0;32m    643\u001B[0m get_config \u001B[38;5;241m=\u001B[39m \u001B[38;5;28mgetattr\u001B[39m(\u001B[38;5;28mself\u001B[39m\u001B[38;5;241m.\u001B[39m_dynlib, \u001B[38;5;124m\"\u001B[39m\u001B[38;5;124mopenblas_get_config\u001B[39m\u001B[38;5;124m\"\u001B[39m,\n\u001B[0;32m    644\u001B[0m                      \u001B[38;5;28;01mlambda\u001B[39;00m: \u001B[38;5;28;01mNone\u001B[39;00m)\n\u001B[0;32m    645\u001B[0m get_config\u001B[38;5;241m.\u001B[39mrestype \u001B[38;5;241m=\u001B[39m ctypes\u001B[38;5;241m.\u001B[39mc_char_p\n\u001B[1;32m--> 646\u001B[0m config \u001B[38;5;241m=\u001B[39m \u001B[43mget_config\u001B[49m\u001B[43m(\u001B[49m\u001B[43m)\u001B[49m\u001B[38;5;241;43m.\u001B[39;49m\u001B[43msplit\u001B[49m()\n\u001B[0;32m    647\u001B[0m \u001B[38;5;28;01mif\u001B[39;00m config[\u001B[38;5;241m0\u001B[39m] \u001B[38;5;241m==\u001B[39m \u001B[38;5;124mb\u001B[39m\u001B[38;5;124m\"\u001B[39m\u001B[38;5;124mOpenBLAS\u001B[39m\u001B[38;5;124m\"\u001B[39m:\n\u001B[0;32m    648\u001B[0m     \u001B[38;5;28;01mreturn\u001B[39;00m config[\u001B[38;5;241m1\u001B[39m]\u001B[38;5;241m.\u001B[39mdecode(\u001B[38;5;124m\"\u001B[39m\u001B[38;5;124mutf-8\u001B[39m\u001B[38;5;124m\"\u001B[39m)\n",
      "\u001B[1;31mAttributeError\u001B[0m: 'NoneType' object has no attribute 'split'"
     ]
    }
   ],
   "source": [
    "from sklearn.neighbors import KNeighborsClassifier\n",
    "from sklearn.metrics import classification_report\n",
    "knn = KNeighborsClassifier(n_neighbors=8)\n",
    "knn.fit(Xtrain,Ytrain)\n",
    "knn.score(Xtest,Ytest)"
   ],
   "metadata": {
    "collapsed": false
   }
  },
  {
   "cell_type": "code",
   "execution_count": 23,
   "outputs": [
    {
     "data": {
      "text/plain": "           0         1         2         3         4         5         6   \\\n645  1.233010  1.359431  1.293511 -0.241936  1.041319 -0.944400 -1.496032   \n262 -1.917809 -1.450782  1.293511 -1.060075 -0.156655  1.058873  0.036489   \n419 -0.396724 -0.347385 -1.170319 -0.241936 -0.773887 -0.944400 -0.474351   \n326 -0.722671 -1.019767  1.293511  1.394343  0.951846 -0.944400  0.547329   \n150  2.428149  2.143877 -1.170319 -0.241936  0.313141  1.058873  1.569009   \n\n           7         8         9   ...        21        22        23  \\\n645  1.366505 -0.107358 -0.216307  ...  1.368643  1.282677  0.901361   \n262 -0.626315  0.789426 -0.812427  ... -0.428824  1.282677  1.406973   \n419 -0.128110 -1.721568  1.572055  ...  0.469909  1.282677  0.041855   \n326  1.366505  0.251356 -0.812427  ...  0.469909 -1.177252 -2.000088   \n150  0.868300 -1.362855  0.379814  ...  0.469909  0.052713  0.642229   \n\n           24        25        26        27        28        29        30  \n645  0.063091  1.509380  0.730362 -0.672013  0.975389 -0.427024 -1.157715  \n262  1.529732  0.185936  1.189556  1.048397  0.166630  1.217636 -0.656849  \n419 -0.554066 -0.537976  0.448069 -0.180468 -1.001578 -1.660519  0.010971  \n326 -1.523093 -1.528625 -2.010478 -1.409332 -1.361026 -1.660519  0.511837  \n150  1.350624 -0.116966  0.611127  1.294170 -0.731991 -1.249354 -1.658581  \n\n[5 rows x 31 columns]",
      "text/html": "<div>\n<style scoped>\n    .dataframe tbody tr th:only-of-type {\n        vertical-align: middle;\n    }\n\n    .dataframe tbody tr th {\n        vertical-align: top;\n    }\n\n    .dataframe thead th {\n        text-align: right;\n    }\n</style>\n<table border=\"1\" class=\"dataframe\">\n  <thead>\n    <tr style=\"text-align: right;\">\n      <th></th>\n      <th>0</th>\n      <th>1</th>\n      <th>2</th>\n      <th>3</th>\n      <th>4</th>\n      <th>5</th>\n      <th>6</th>\n      <th>7</th>\n      <th>8</th>\n      <th>9</th>\n      <th>...</th>\n      <th>21</th>\n      <th>22</th>\n      <th>23</th>\n      <th>24</th>\n      <th>25</th>\n      <th>26</th>\n      <th>27</th>\n      <th>28</th>\n      <th>29</th>\n      <th>30</th>\n    </tr>\n  </thead>\n  <tbody>\n    <tr>\n      <th>645</th>\n      <td>1.233010</td>\n      <td>1.359431</td>\n      <td>1.293511</td>\n      <td>-0.241936</td>\n      <td>1.041319</td>\n      <td>-0.944400</td>\n      <td>-1.496032</td>\n      <td>1.366505</td>\n      <td>-0.107358</td>\n      <td>-0.216307</td>\n      <td>...</td>\n      <td>1.368643</td>\n      <td>1.282677</td>\n      <td>0.901361</td>\n      <td>0.063091</td>\n      <td>1.509380</td>\n      <td>0.730362</td>\n      <td>-0.672013</td>\n      <td>0.975389</td>\n      <td>-0.427024</td>\n      <td>-1.157715</td>\n    </tr>\n    <tr>\n      <th>262</th>\n      <td>-1.917809</td>\n      <td>-1.450782</td>\n      <td>1.293511</td>\n      <td>-1.060075</td>\n      <td>-0.156655</td>\n      <td>1.058873</td>\n      <td>0.036489</td>\n      <td>-0.626315</td>\n      <td>0.789426</td>\n      <td>-0.812427</td>\n      <td>...</td>\n      <td>-0.428824</td>\n      <td>1.282677</td>\n      <td>1.406973</td>\n      <td>1.529732</td>\n      <td>0.185936</td>\n      <td>1.189556</td>\n      <td>1.048397</td>\n      <td>0.166630</td>\n      <td>1.217636</td>\n      <td>-0.656849</td>\n    </tr>\n    <tr>\n      <th>419</th>\n      <td>-0.396724</td>\n      <td>-0.347385</td>\n      <td>-1.170319</td>\n      <td>-0.241936</td>\n      <td>-0.773887</td>\n      <td>-0.944400</td>\n      <td>-0.474351</td>\n      <td>-0.128110</td>\n      <td>-1.721568</td>\n      <td>1.572055</td>\n      <td>...</td>\n      <td>0.469909</td>\n      <td>1.282677</td>\n      <td>0.041855</td>\n      <td>-0.554066</td>\n      <td>-0.537976</td>\n      <td>0.448069</td>\n      <td>-0.180468</td>\n      <td>-1.001578</td>\n      <td>-1.660519</td>\n      <td>0.010971</td>\n    </tr>\n    <tr>\n      <th>326</th>\n      <td>-0.722671</td>\n      <td>-1.019767</td>\n      <td>1.293511</td>\n      <td>1.394343</td>\n      <td>0.951846</td>\n      <td>-0.944400</td>\n      <td>0.547329</td>\n      <td>1.366505</td>\n      <td>0.251356</td>\n      <td>-0.812427</td>\n      <td>...</td>\n      <td>0.469909</td>\n      <td>-1.177252</td>\n      <td>-2.000088</td>\n      <td>-1.523093</td>\n      <td>-1.528625</td>\n      <td>-2.010478</td>\n      <td>-1.409332</td>\n      <td>-1.361026</td>\n      <td>-1.660519</td>\n      <td>0.511837</td>\n    </tr>\n    <tr>\n      <th>150</th>\n      <td>2.428149</td>\n      <td>2.143877</td>\n      <td>-1.170319</td>\n      <td>-0.241936</td>\n      <td>0.313141</td>\n      <td>1.058873</td>\n      <td>1.569009</td>\n      <td>0.868300</td>\n      <td>-1.362855</td>\n      <td>0.379814</td>\n      <td>...</td>\n      <td>0.469909</td>\n      <td>0.052713</td>\n      <td>0.642229</td>\n      <td>1.350624</td>\n      <td>-0.116966</td>\n      <td>0.611127</td>\n      <td>1.294170</td>\n      <td>-0.731991</td>\n      <td>-1.249354</td>\n      <td>-1.658581</td>\n    </tr>\n  </tbody>\n</table>\n<p>5 rows × 31 columns</p>\n</div>"
     },
     "execution_count": 23,
     "metadata": {},
     "output_type": "execute_result"
    }
   ],
   "source": [
    "\n",
    "# 数据编码,label这个库可以做数据编码\n",
    "from sklearn.preprocessing import LabelEncoder\n",
    "for i in train3.columns:\n",
    "    if train3[i].dtype =='object':\n",
    "        train3[i] = LabelEncoder().fit_transform(train3[i])\n",
    "from sklearn.model_selection import train_test_split\n",
    "# labels = train3.pop('fraud')\n",
    "from sklearn import preprocessing\n",
    "train4 = pd.DataFrame(preprocessing.scale(train3))\n",
    "Xtrain, Xtest, Ytrain, Ytest = train_test_split(train4, labels,\n",
    "                                                test_size=0.2,\n",
    "                                                random_state=422,\n",
    "                                                stratify=labels)\n",
    "Xtrain.head()"
   ],
   "metadata": {
    "collapsed": false
   }
  },
  {
   "cell_type": "code",
   "execution_count": 20,
   "outputs": [
    {
     "data": {
      "text/plain": "   age  customer_months policy_state  policy_deductable  \\\n0   37              189            C               1000   \n1   44              234            B                500   \n2   33               23            B               1000   \n3   42              210            A                500   \n4   29               81            A               1000   \n\n   policy_annual_premium insured_sex insured_education_level  \\\n0                1465.71      FEMALE                 Masters   \n1                 821.24        MALE                      JD   \n2                1844.00      FEMALE             High School   \n3                1867.29        MALE                      JD   \n4                 816.25      FEMALE                      MD   \n\n  insured_occupation insured_hobbies insured_relationship  ...  \\\n0    protective-serv         reading        not-in-family  ...   \n1       craft-repair            polo       other-relative  ...   \n2  machine-op-inspct       skydiving                 wife  ...   \n3   transport-moving     video-games            own-child  ...   \n4       craft-repair     video-games            own-child  ...   \n\n  police_report_available total_claim_amount injury_claim property_claim  \\\n0                       ?              54930         6029           5752   \n1                     YES              50680         5376          10156   \n2                      NO              47829         4460           9247   \n3                     YES              68862        11043           5955   \n4                     YES              59726         5617          10301   \n\n  vehicle_claim auto_make auto_model  fraud  保龄  车龄  \n0         44452    Nissan     Maxima      0   1  14  \n1         37347     Honda      Civic      0  17  19  \n2         33644      Jeep   Wrangler      0  19  13  \n3         53548    Suburu     Legacy      1   7  12  \n4         41550      Ford       F150      0  13  11  \n\n[5 rows x 32 columns]",
      "text/html": "<div>\n<style scoped>\n    .dataframe tbody tr th:only-of-type {\n        vertical-align: middle;\n    }\n\n    .dataframe tbody tr th {\n        vertical-align: top;\n    }\n\n    .dataframe thead th {\n        text-align: right;\n    }\n</style>\n<table border=\"1\" class=\"dataframe\">\n  <thead>\n    <tr style=\"text-align: right;\">\n      <th></th>\n      <th>age</th>\n      <th>customer_months</th>\n      <th>policy_state</th>\n      <th>policy_deductable</th>\n      <th>policy_annual_premium</th>\n      <th>insured_sex</th>\n      <th>insured_education_level</th>\n      <th>insured_occupation</th>\n      <th>insured_hobbies</th>\n      <th>insured_relationship</th>\n      <th>...</th>\n      <th>police_report_available</th>\n      <th>total_claim_amount</th>\n      <th>injury_claim</th>\n      <th>property_claim</th>\n      <th>vehicle_claim</th>\n      <th>auto_make</th>\n      <th>auto_model</th>\n      <th>fraud</th>\n      <th>保龄</th>\n      <th>车龄</th>\n    </tr>\n  </thead>\n  <tbody>\n    <tr>\n      <th>0</th>\n      <td>37</td>\n      <td>189</td>\n      <td>C</td>\n      <td>1000</td>\n      <td>1465.71</td>\n      <td>FEMALE</td>\n      <td>Masters</td>\n      <td>protective-serv</td>\n      <td>reading</td>\n      <td>not-in-family</td>\n      <td>...</td>\n      <td>?</td>\n      <td>54930</td>\n      <td>6029</td>\n      <td>5752</td>\n      <td>44452</td>\n      <td>Nissan</td>\n      <td>Maxima</td>\n      <td>0</td>\n      <td>1</td>\n      <td>14</td>\n    </tr>\n    <tr>\n      <th>1</th>\n      <td>44</td>\n      <td>234</td>\n      <td>B</td>\n      <td>500</td>\n      <td>821.24</td>\n      <td>MALE</td>\n      <td>JD</td>\n      <td>craft-repair</td>\n      <td>polo</td>\n      <td>other-relative</td>\n      <td>...</td>\n      <td>YES</td>\n      <td>50680</td>\n      <td>5376</td>\n      <td>10156</td>\n      <td>37347</td>\n      <td>Honda</td>\n      <td>Civic</td>\n      <td>0</td>\n      <td>17</td>\n      <td>19</td>\n    </tr>\n    <tr>\n      <th>2</th>\n      <td>33</td>\n      <td>23</td>\n      <td>B</td>\n      <td>1000</td>\n      <td>1844.00</td>\n      <td>FEMALE</td>\n      <td>High School</td>\n      <td>machine-op-inspct</td>\n      <td>skydiving</td>\n      <td>wife</td>\n      <td>...</td>\n      <td>NO</td>\n      <td>47829</td>\n      <td>4460</td>\n      <td>9247</td>\n      <td>33644</td>\n      <td>Jeep</td>\n      <td>Wrangler</td>\n      <td>0</td>\n      <td>19</td>\n      <td>13</td>\n    </tr>\n    <tr>\n      <th>3</th>\n      <td>42</td>\n      <td>210</td>\n      <td>A</td>\n      <td>500</td>\n      <td>1867.29</td>\n      <td>MALE</td>\n      <td>JD</td>\n      <td>transport-moving</td>\n      <td>video-games</td>\n      <td>own-child</td>\n      <td>...</td>\n      <td>YES</td>\n      <td>68862</td>\n      <td>11043</td>\n      <td>5955</td>\n      <td>53548</td>\n      <td>Suburu</td>\n      <td>Legacy</td>\n      <td>1</td>\n      <td>7</td>\n      <td>12</td>\n    </tr>\n    <tr>\n      <th>4</th>\n      <td>29</td>\n      <td>81</td>\n      <td>A</td>\n      <td>1000</td>\n      <td>816.25</td>\n      <td>FEMALE</td>\n      <td>MD</td>\n      <td>craft-repair</td>\n      <td>video-games</td>\n      <td>own-child</td>\n      <td>...</td>\n      <td>YES</td>\n      <td>59726</td>\n      <td>5617</td>\n      <td>10301</td>\n      <td>41550</td>\n      <td>Ford</td>\n      <td>F150</td>\n      <td>0</td>\n      <td>13</td>\n      <td>11</td>\n    </tr>\n  </tbody>\n</table>\n<p>5 rows × 32 columns</p>\n</div>"
     },
     "execution_count": 20,
     "metadata": {},
     "output_type": "execute_result"
    }
   ],
   "source": [
    "train3 = train.drop(['policy_id','policy_bind_date','policy_csl','insured_zip','capital-loss','capital-gains','auto_year','umbrella_limit','绑定日期','绑定年份','出险日期','出险年份'],axis=1)\n",
    "train3.head()"
   ],
   "metadata": {
    "collapsed": false
   }
  },
  {
   "cell_type": "code",
   "execution_count": 35,
   "outputs": [
    {
     "data": {
      "text/plain": "0.7428571428571429"
     },
     "execution_count": 35,
     "metadata": {},
     "output_type": "execute_result"
    }
   ],
   "source": [
    "from sklearn.neighbors import KNeighborsClassifier\n",
    "from sklearn.metrics import classification_report\n",
    "knn = KNeighborsClassifier(n_neighbors=32)\n",
    "knn.fit(Xtrain,Ytrain)\n",
    "knn.score(Xtest,Ytest)"
   ],
   "metadata": {
    "collapsed": false
   }
  },
  {
   "cell_type": "code",
   "execution_count": 28,
   "outputs": [
    {
     "data": {
      "text/plain": "array([[ 1.23301034,  1.35943124, -0.24193554,  1.04131944, -0.66712052,\n        -0.84096531, -1.21604011,  1.36864322,  0.90136144,  0.0630906 ,\n         1.50937981,  0.73036174, -0.42702414, -1.15771498],\n       [-1.91780914, -1.45078163, -1.06007506, -0.15665477,  0.33869195,\n        -0.84096531, -1.21604011, -0.42882442,  1.40697343,  1.5297324 ,\n         0.18593586,  1.18955557,  1.21763555, -0.65684941],\n       [-0.39672387, -0.34738517, -0.24193554, -0.77388716,  0.91344194,\n        -0.84096531, -1.21604011,  0.4699094 ,  0.04185545, -0.55406572,\n        -0.53797607,  0.4480687 , -1.66051891,  0.01097134],\n       [-0.72267071, -1.01976739,  1.39434349,  0.95184584, -0.95449551,\n        -0.84096531,  0.00698874,  0.4699094 , -2.00008766, -1.52309325,\n        -1.5286254 , -2.01047815, -1.66051891,  0.51183691]])"
     },
     "execution_count": 28,
     "metadata": {},
     "output_type": "execute_result"
    }
   ],
   "source": [
    "Xtrain[:4]"
   ],
   "metadata": {
    "collapsed": false
   }
  },
  {
   "cell_type": "code",
   "execution_count": 27,
   "outputs": [],
   "source": [
    "from sklearn.model_selection import train_test_split\n",
    "labels = train2.pop('fraud')\n",
    "from sklearn import preprocessing\n",
    "train2 = preprocessing.scale(train2)\n",
    "Xtrain, Xtest, Ytrain, Ytest = train_test_split(train2, labels,\n",
    "                                                test_size=0.2,\n",
    "                                                random_state=422,\n",
    "                                                stratify=labels)"
   ],
   "metadata": {
    "collapsed": false
   }
  },
  {
   "cell_type": "code",
   "execution_count": 15,
   "outputs": [
    {
     "data": {
      "text/plain": "0.75"
     },
     "execution_count": 15,
     "metadata": {},
     "output_type": "execute_result"
    }
   ],
   "source": [
    "from sklearn.model_selection import train_test_split\n",
    "# labels = train2.pop('fraud')\n",
    "Xtrain, Xtest, Ytrain, Ytest = train_test_split(train2, labels,\n",
    "                                                test_size=0.2,\n",
    "                                                random_state=422,\n",
    "                                                stratify=labels)\n",
    "from sklearn.neighbors import KNeighborsClassifier\n",
    "from sklearn.metrics import classification_report\n",
    "knn = KNeighborsClassifier(n_neighbors=8)\n",
    "knn.fit(Xtrain,Ytrain)\n",
    "knn.score(Xtest,Ytest)"
   ],
   "metadata": {
    "collapsed": false
   }
  },
  {
   "cell_type": "code",
   "execution_count": 26,
   "outputs": [
    {
     "data": {
      "text/plain": "   age  customer_months  policy_deductable  policy_annual_premium  \\\n0   37              189               1000                1465.71   \n1   44              234                500                 821.24   \n2   33               23               1000                1844.00   \n3   42              210                500                1867.29   \n4   29               81               1000                 816.25   \n\n   incident_hour_of_the_day  number_of_vehicles_involved  bodily_injuries  \\\n0                        21                            1                0   \n1                         4                            3                2   \n2                         0                            1                2   \n3                        20                            3                2   \n4                         9                            3                2   \n\n   witnesses  total_claim_amount  injury_claim  property_claim  vehicle_claim  \\\n0          3               54930          6029            5752          44452   \n1          1               50680          5376           10156          37347   \n2          1               47829          4460            9247          33644   \n3          2               68862         11043            5955          53548   \n4          1               59726          5617           10301          41550   \n\n   fraud  保龄  车龄  \n0      0   1  14  \n1      0  17  19  \n2      0  19  13  \n3      1   7  12  \n4      0  13  11  ",
      "text/html": "<div>\n<style scoped>\n    .dataframe tbody tr th:only-of-type {\n        vertical-align: middle;\n    }\n\n    .dataframe tbody tr th {\n        vertical-align: top;\n    }\n\n    .dataframe thead th {\n        text-align: right;\n    }\n</style>\n<table border=\"1\" class=\"dataframe\">\n  <thead>\n    <tr style=\"text-align: right;\">\n      <th></th>\n      <th>age</th>\n      <th>customer_months</th>\n      <th>policy_deductable</th>\n      <th>policy_annual_premium</th>\n      <th>incident_hour_of_the_day</th>\n      <th>number_of_vehicles_involved</th>\n      <th>bodily_injuries</th>\n      <th>witnesses</th>\n      <th>total_claim_amount</th>\n      <th>injury_claim</th>\n      <th>property_claim</th>\n      <th>vehicle_claim</th>\n      <th>fraud</th>\n      <th>保龄</th>\n      <th>车龄</th>\n    </tr>\n  </thead>\n  <tbody>\n    <tr>\n      <th>0</th>\n      <td>37</td>\n      <td>189</td>\n      <td>1000</td>\n      <td>1465.71</td>\n      <td>21</td>\n      <td>1</td>\n      <td>0</td>\n      <td>3</td>\n      <td>54930</td>\n      <td>6029</td>\n      <td>5752</td>\n      <td>44452</td>\n      <td>0</td>\n      <td>1</td>\n      <td>14</td>\n    </tr>\n    <tr>\n      <th>1</th>\n      <td>44</td>\n      <td>234</td>\n      <td>500</td>\n      <td>821.24</td>\n      <td>4</td>\n      <td>3</td>\n      <td>2</td>\n      <td>1</td>\n      <td>50680</td>\n      <td>5376</td>\n      <td>10156</td>\n      <td>37347</td>\n      <td>0</td>\n      <td>17</td>\n      <td>19</td>\n    </tr>\n    <tr>\n      <th>2</th>\n      <td>33</td>\n      <td>23</td>\n      <td>1000</td>\n      <td>1844.00</td>\n      <td>0</td>\n      <td>1</td>\n      <td>2</td>\n      <td>1</td>\n      <td>47829</td>\n      <td>4460</td>\n      <td>9247</td>\n      <td>33644</td>\n      <td>0</td>\n      <td>19</td>\n      <td>13</td>\n    </tr>\n    <tr>\n      <th>3</th>\n      <td>42</td>\n      <td>210</td>\n      <td>500</td>\n      <td>1867.29</td>\n      <td>20</td>\n      <td>3</td>\n      <td>2</td>\n      <td>2</td>\n      <td>68862</td>\n      <td>11043</td>\n      <td>5955</td>\n      <td>53548</td>\n      <td>1</td>\n      <td>7</td>\n      <td>12</td>\n    </tr>\n    <tr>\n      <th>4</th>\n      <td>29</td>\n      <td>81</td>\n      <td>1000</td>\n      <td>816.25</td>\n      <td>9</td>\n      <td>3</td>\n      <td>2</td>\n      <td>1</td>\n      <td>59726</td>\n      <td>5617</td>\n      <td>10301</td>\n      <td>41550</td>\n      <td>0</td>\n      <td>13</td>\n      <td>11</td>\n    </tr>\n  </tbody>\n</table>\n</div>"
     },
     "execution_count": 26,
     "metadata": {},
     "output_type": "execute_result"
    }
   ],
   "source": [
    "for i in train2.columns:\n",
    "    if train2[i].dtype=='object':\n",
    "        train2.drop(i,inplace=True,axis=1)\n",
    "train2.shape\n",
    "train2.head()"
   ],
   "metadata": {
    "collapsed": false
   }
  },
  {
   "cell_type": "code",
   "execution_count": 25,
   "outputs": [
    {
     "data": {
      "text/plain": "   age  customer_months policy_state  policy_deductable  \\\n0   37              189            C               1000   \n1   44              234            B                500   \n2   33               23            B               1000   \n3   42              210            A                500   \n4   29               81            A               1000   \n\n   policy_annual_premium insured_sex insured_education_level  \\\n0                1465.71      FEMALE                 Masters   \n1                 821.24        MALE                      JD   \n2                1844.00      FEMALE             High School   \n3                1867.29        MALE                      JD   \n4                 816.25      FEMALE                      MD   \n\n  insured_occupation insured_hobbies insured_relationship  ...  \\\n0    protective-serv         reading        not-in-family  ...   \n1       craft-repair            polo       other-relative  ...   \n2  machine-op-inspct       skydiving                 wife  ...   \n3   transport-moving     video-games            own-child  ...   \n4       craft-repair     video-games            own-child  ...   \n\n  police_report_available total_claim_amount injury_claim property_claim  \\\n0                       ?              54930         6029           5752   \n1                     YES              50680         5376          10156   \n2                      NO              47829         4460           9247   \n3                     YES              68862        11043           5955   \n4                     YES              59726         5617          10301   \n\n  vehicle_claim auto_make auto_model  fraud  保龄  车龄  \n0         44452    Nissan     Maxima      0   1  14  \n1         37347     Honda      Civic      0  17  19  \n2         33644      Jeep   Wrangler      0  19  13  \n3         53548    Suburu     Legacy      1   7  12  \n4         41550      Ford       F150      0  13  11  \n\n[5 rows x 32 columns]",
      "text/html": "<div>\n<style scoped>\n    .dataframe tbody tr th:only-of-type {\n        vertical-align: middle;\n    }\n\n    .dataframe tbody tr th {\n        vertical-align: top;\n    }\n\n    .dataframe thead th {\n        text-align: right;\n    }\n</style>\n<table border=\"1\" class=\"dataframe\">\n  <thead>\n    <tr style=\"text-align: right;\">\n      <th></th>\n      <th>age</th>\n      <th>customer_months</th>\n      <th>policy_state</th>\n      <th>policy_deductable</th>\n      <th>policy_annual_premium</th>\n      <th>insured_sex</th>\n      <th>insured_education_level</th>\n      <th>insured_occupation</th>\n      <th>insured_hobbies</th>\n      <th>insured_relationship</th>\n      <th>...</th>\n      <th>police_report_available</th>\n      <th>total_claim_amount</th>\n      <th>injury_claim</th>\n      <th>property_claim</th>\n      <th>vehicle_claim</th>\n      <th>auto_make</th>\n      <th>auto_model</th>\n      <th>fraud</th>\n      <th>保龄</th>\n      <th>车龄</th>\n    </tr>\n  </thead>\n  <tbody>\n    <tr>\n      <th>0</th>\n      <td>37</td>\n      <td>189</td>\n      <td>C</td>\n      <td>1000</td>\n      <td>1465.71</td>\n      <td>FEMALE</td>\n      <td>Masters</td>\n      <td>protective-serv</td>\n      <td>reading</td>\n      <td>not-in-family</td>\n      <td>...</td>\n      <td>?</td>\n      <td>54930</td>\n      <td>6029</td>\n      <td>5752</td>\n      <td>44452</td>\n      <td>Nissan</td>\n      <td>Maxima</td>\n      <td>0</td>\n      <td>1</td>\n      <td>14</td>\n    </tr>\n    <tr>\n      <th>1</th>\n      <td>44</td>\n      <td>234</td>\n      <td>B</td>\n      <td>500</td>\n      <td>821.24</td>\n      <td>MALE</td>\n      <td>JD</td>\n      <td>craft-repair</td>\n      <td>polo</td>\n      <td>other-relative</td>\n      <td>...</td>\n      <td>YES</td>\n      <td>50680</td>\n      <td>5376</td>\n      <td>10156</td>\n      <td>37347</td>\n      <td>Honda</td>\n      <td>Civic</td>\n      <td>0</td>\n      <td>17</td>\n      <td>19</td>\n    </tr>\n    <tr>\n      <th>2</th>\n      <td>33</td>\n      <td>23</td>\n      <td>B</td>\n      <td>1000</td>\n      <td>1844.00</td>\n      <td>FEMALE</td>\n      <td>High School</td>\n      <td>machine-op-inspct</td>\n      <td>skydiving</td>\n      <td>wife</td>\n      <td>...</td>\n      <td>NO</td>\n      <td>47829</td>\n      <td>4460</td>\n      <td>9247</td>\n      <td>33644</td>\n      <td>Jeep</td>\n      <td>Wrangler</td>\n      <td>0</td>\n      <td>19</td>\n      <td>13</td>\n    </tr>\n    <tr>\n      <th>3</th>\n      <td>42</td>\n      <td>210</td>\n      <td>A</td>\n      <td>500</td>\n      <td>1867.29</td>\n      <td>MALE</td>\n      <td>JD</td>\n      <td>transport-moving</td>\n      <td>video-games</td>\n      <td>own-child</td>\n      <td>...</td>\n      <td>YES</td>\n      <td>68862</td>\n      <td>11043</td>\n      <td>5955</td>\n      <td>53548</td>\n      <td>Suburu</td>\n      <td>Legacy</td>\n      <td>1</td>\n      <td>7</td>\n      <td>12</td>\n    </tr>\n    <tr>\n      <th>4</th>\n      <td>29</td>\n      <td>81</td>\n      <td>A</td>\n      <td>1000</td>\n      <td>816.25</td>\n      <td>FEMALE</td>\n      <td>MD</td>\n      <td>craft-repair</td>\n      <td>video-games</td>\n      <td>own-child</td>\n      <td>...</td>\n      <td>YES</td>\n      <td>59726</td>\n      <td>5617</td>\n      <td>10301</td>\n      <td>41550</td>\n      <td>Ford</td>\n      <td>F150</td>\n      <td>0</td>\n      <td>13</td>\n      <td>11</td>\n    </tr>\n  </tbody>\n</table>\n<p>5 rows × 32 columns</p>\n</div>"
     },
     "execution_count": 25,
     "metadata": {},
     "output_type": "execute_result"
    }
   ],
   "source": [
    "train2 = train.drop(['policy_id','policy_bind_date','policy_csl','insured_zip','capital-loss','capital-gains','auto_year','umbrella_limit','绑定日期','绑定年份','出险日期','出险年份'],axis=1)\n",
    "train2.head()"
   ],
   "metadata": {
    "collapsed": false
   }
  },
  {
   "cell_type": "code",
   "execution_count": 5,
   "outputs": [
    {
     "data": {
      "text/plain": "   policy_id  age  customer_months policy_bind_date policy_state policy_csl  \\\n0     122576   37              189        2013/8/21            C   500/1000   \n1     937713   44              234         1998/1/4            B    250/500   \n2     680237   33               23         1996/2/6            B   500/1000   \n3     513080   42              210       2008/11/14            A   500/1000   \n4     192875   29               81         2002/1/8            A    100/300   \n\n   policy_deductable  policy_annual_premium  umbrella_limit  insured_zip  ...  \\\n0               1000                1465.71         5000000       455456  ...   \n1                500                 821.24               0       591805  ...   \n2               1000                1844.00               0       442490  ...   \n3                500                1867.29               0       439408  ...   \n4               1000                 816.25               0       640575  ...   \n\n  auto_make auto_model auto_year fraud       绑定日期  绑定年份       出险日期  出险年份  保龄  \\\n0    Nissan     Maxima      2000     0 2013-08-21  2013 2014-12-22  2014   1   \n1     Honda      Civic      1996     0 1998-01-04  1998 2015-02-18  2015  17   \n2      Jeep   Wrangler      2002     0 1996-02-06  1996 2015-01-18  2015  19   \n3    Suburu     Legacy      2003     1 2008-11-14  2008 2015-02-02  2015   7   \n4      Ford       F150      2004     0 2002-01-08  2002 2015-02-09  2015  13   \n\n   车龄  \n0  14  \n1  19  \n2  13  \n3  12  \n4  11  \n\n[5 rows x 44 columns]",
      "text/html": "<div>\n<style scoped>\n    .dataframe tbody tr th:only-of-type {\n        vertical-align: middle;\n    }\n\n    .dataframe tbody tr th {\n        vertical-align: top;\n    }\n\n    .dataframe thead th {\n        text-align: right;\n    }\n</style>\n<table border=\"1\" class=\"dataframe\">\n  <thead>\n    <tr style=\"text-align: right;\">\n      <th></th>\n      <th>policy_id</th>\n      <th>age</th>\n      <th>customer_months</th>\n      <th>policy_bind_date</th>\n      <th>policy_state</th>\n      <th>policy_csl</th>\n      <th>policy_deductable</th>\n      <th>policy_annual_premium</th>\n      <th>umbrella_limit</th>\n      <th>insured_zip</th>\n      <th>...</th>\n      <th>auto_make</th>\n      <th>auto_model</th>\n      <th>auto_year</th>\n      <th>fraud</th>\n      <th>绑定日期</th>\n      <th>绑定年份</th>\n      <th>出险日期</th>\n      <th>出险年份</th>\n      <th>保龄</th>\n      <th>车龄</th>\n    </tr>\n  </thead>\n  <tbody>\n    <tr>\n      <th>0</th>\n      <td>122576</td>\n      <td>37</td>\n      <td>189</td>\n      <td>2013/8/21</td>\n      <td>C</td>\n      <td>500/1000</td>\n      <td>1000</td>\n      <td>1465.71</td>\n      <td>5000000</td>\n      <td>455456</td>\n      <td>...</td>\n      <td>Nissan</td>\n      <td>Maxima</td>\n      <td>2000</td>\n      <td>0</td>\n      <td>2013-08-21</td>\n      <td>2013</td>\n      <td>2014-12-22</td>\n      <td>2014</td>\n      <td>1</td>\n      <td>14</td>\n    </tr>\n    <tr>\n      <th>1</th>\n      <td>937713</td>\n      <td>44</td>\n      <td>234</td>\n      <td>1998/1/4</td>\n      <td>B</td>\n      <td>250/500</td>\n      <td>500</td>\n      <td>821.24</td>\n      <td>0</td>\n      <td>591805</td>\n      <td>...</td>\n      <td>Honda</td>\n      <td>Civic</td>\n      <td>1996</td>\n      <td>0</td>\n      <td>1998-01-04</td>\n      <td>1998</td>\n      <td>2015-02-18</td>\n      <td>2015</td>\n      <td>17</td>\n      <td>19</td>\n    </tr>\n    <tr>\n      <th>2</th>\n      <td>680237</td>\n      <td>33</td>\n      <td>23</td>\n      <td>1996/2/6</td>\n      <td>B</td>\n      <td>500/1000</td>\n      <td>1000</td>\n      <td>1844.00</td>\n      <td>0</td>\n      <td>442490</td>\n      <td>...</td>\n      <td>Jeep</td>\n      <td>Wrangler</td>\n      <td>2002</td>\n      <td>0</td>\n      <td>1996-02-06</td>\n      <td>1996</td>\n      <td>2015-01-18</td>\n      <td>2015</td>\n      <td>19</td>\n      <td>13</td>\n    </tr>\n    <tr>\n      <th>3</th>\n      <td>513080</td>\n      <td>42</td>\n      <td>210</td>\n      <td>2008/11/14</td>\n      <td>A</td>\n      <td>500/1000</td>\n      <td>500</td>\n      <td>1867.29</td>\n      <td>0</td>\n      <td>439408</td>\n      <td>...</td>\n      <td>Suburu</td>\n      <td>Legacy</td>\n      <td>2003</td>\n      <td>1</td>\n      <td>2008-11-14</td>\n      <td>2008</td>\n      <td>2015-02-02</td>\n      <td>2015</td>\n      <td>7</td>\n      <td>12</td>\n    </tr>\n    <tr>\n      <th>4</th>\n      <td>192875</td>\n      <td>29</td>\n      <td>81</td>\n      <td>2002/1/8</td>\n      <td>A</td>\n      <td>100/300</td>\n      <td>1000</td>\n      <td>816.25</td>\n      <td>0</td>\n      <td>640575</td>\n      <td>...</td>\n      <td>Ford</td>\n      <td>F150</td>\n      <td>2004</td>\n      <td>0</td>\n      <td>2002-01-08</td>\n      <td>2002</td>\n      <td>2015-02-09</td>\n      <td>2015</td>\n      <td>13</td>\n      <td>11</td>\n    </tr>\n  </tbody>\n</table>\n<p>5 rows × 44 columns</p>\n</div>"
     },
     "execution_count": 5,
     "metadata": {},
     "output_type": "execute_result"
    }
   ],
   "source": [
    "train['绑定日期']=pd.to_datetime(train['policy_bind_date'].astype(str))\n",
    "train['绑定年份']=train['绑定日期'].dt.year\n",
    "train['出险日期']=pd.to_datetime(train['incident_date'].astype(str))\n",
    "train['出险年份']=train['出险日期'].dt.year\n",
    "train['保龄']=train['出险年份']-train['绑定年份']\n",
    "train['车龄']=train['出险年份']-train['auto_year']\n",
    "train.head()"
   ],
   "metadata": {
    "collapsed": false
   }
  },
  {
   "cell_type": "code",
   "execution_count": 4,
   "outputs": [
    {
     "data": {
      "text/plain": "   policy_id  age  customer_months policy_bind_date policy_state policy_csl  \\\n0     122576   37              189        2013/8/21            C   500/1000   \n1     937713   44              234         1998/1/4            B    250/500   \n2     680237   33               23         1996/2/6            B   500/1000   \n3     513080   42              210       2008/11/14            A   500/1000   \n4     192875   29               81         2002/1/8            A    100/300   \n\n   policy_deductable  policy_annual_premium  umbrella_limit  insured_zip  ...  \\\n0               1000                1465.71         5000000       455456  ...   \n1                500                 821.24               0       591805  ...   \n2               1000                1844.00               0       442490  ...   \n3                500                1867.29               0       439408  ...   \n4               1000                 816.25               0       640575  ...   \n\n  witnesses police_report_available total_claim_amount injury_claim  \\\n0         3                       ?              54930         6029   \n1         1                     YES              50680         5376   \n2         1                      NO              47829         4460   \n3         2                     YES              68862        11043   \n4         1                     YES              59726         5617   \n\n  property_claim  vehicle_claim  auto_make auto_model auto_year fraud  \n0           5752          44452     Nissan     Maxima      2000     0  \n1          10156          37347      Honda      Civic      1996     0  \n2           9247          33644       Jeep   Wrangler      2002     0  \n3           5955          53548     Suburu     Legacy      2003     1  \n4          10301          41550       Ford       F150      2004     0  \n\n[5 rows x 38 columns]",
      "text/html": "<div>\n<style scoped>\n    .dataframe tbody tr th:only-of-type {\n        vertical-align: middle;\n    }\n\n    .dataframe tbody tr th {\n        vertical-align: top;\n    }\n\n    .dataframe thead th {\n        text-align: right;\n    }\n</style>\n<table border=\"1\" class=\"dataframe\">\n  <thead>\n    <tr style=\"text-align: right;\">\n      <th></th>\n      <th>policy_id</th>\n      <th>age</th>\n      <th>customer_months</th>\n      <th>policy_bind_date</th>\n      <th>policy_state</th>\n      <th>policy_csl</th>\n      <th>policy_deductable</th>\n      <th>policy_annual_premium</th>\n      <th>umbrella_limit</th>\n      <th>insured_zip</th>\n      <th>...</th>\n      <th>witnesses</th>\n      <th>police_report_available</th>\n      <th>total_claim_amount</th>\n      <th>injury_claim</th>\n      <th>property_claim</th>\n      <th>vehicle_claim</th>\n      <th>auto_make</th>\n      <th>auto_model</th>\n      <th>auto_year</th>\n      <th>fraud</th>\n    </tr>\n  </thead>\n  <tbody>\n    <tr>\n      <th>0</th>\n      <td>122576</td>\n      <td>37</td>\n      <td>189</td>\n      <td>2013/8/21</td>\n      <td>C</td>\n      <td>500/1000</td>\n      <td>1000</td>\n      <td>1465.71</td>\n      <td>5000000</td>\n      <td>455456</td>\n      <td>...</td>\n      <td>3</td>\n      <td>?</td>\n      <td>54930</td>\n      <td>6029</td>\n      <td>5752</td>\n      <td>44452</td>\n      <td>Nissan</td>\n      <td>Maxima</td>\n      <td>2000</td>\n      <td>0</td>\n    </tr>\n    <tr>\n      <th>1</th>\n      <td>937713</td>\n      <td>44</td>\n      <td>234</td>\n      <td>1998/1/4</td>\n      <td>B</td>\n      <td>250/500</td>\n      <td>500</td>\n      <td>821.24</td>\n      <td>0</td>\n      <td>591805</td>\n      <td>...</td>\n      <td>1</td>\n      <td>YES</td>\n      <td>50680</td>\n      <td>5376</td>\n      <td>10156</td>\n      <td>37347</td>\n      <td>Honda</td>\n      <td>Civic</td>\n      <td>1996</td>\n      <td>0</td>\n    </tr>\n    <tr>\n      <th>2</th>\n      <td>680237</td>\n      <td>33</td>\n      <td>23</td>\n      <td>1996/2/6</td>\n      <td>B</td>\n      <td>500/1000</td>\n      <td>1000</td>\n      <td>1844.00</td>\n      <td>0</td>\n      <td>442490</td>\n      <td>...</td>\n      <td>1</td>\n      <td>NO</td>\n      <td>47829</td>\n      <td>4460</td>\n      <td>9247</td>\n      <td>33644</td>\n      <td>Jeep</td>\n      <td>Wrangler</td>\n      <td>2002</td>\n      <td>0</td>\n    </tr>\n    <tr>\n      <th>3</th>\n      <td>513080</td>\n      <td>42</td>\n      <td>210</td>\n      <td>2008/11/14</td>\n      <td>A</td>\n      <td>500/1000</td>\n      <td>500</td>\n      <td>1867.29</td>\n      <td>0</td>\n      <td>439408</td>\n      <td>...</td>\n      <td>2</td>\n      <td>YES</td>\n      <td>68862</td>\n      <td>11043</td>\n      <td>5955</td>\n      <td>53548</td>\n      <td>Suburu</td>\n      <td>Legacy</td>\n      <td>2003</td>\n      <td>1</td>\n    </tr>\n    <tr>\n      <th>4</th>\n      <td>192875</td>\n      <td>29</td>\n      <td>81</td>\n      <td>2002/1/8</td>\n      <td>A</td>\n      <td>100/300</td>\n      <td>1000</td>\n      <td>816.25</td>\n      <td>0</td>\n      <td>640575</td>\n      <td>...</td>\n      <td>1</td>\n      <td>YES</td>\n      <td>59726</td>\n      <td>5617</td>\n      <td>10301</td>\n      <td>41550</td>\n      <td>Ford</td>\n      <td>F150</td>\n      <td>2004</td>\n      <td>0</td>\n    </tr>\n  </tbody>\n</table>\n<p>5 rows × 38 columns</p>\n</div>"
     },
     "execution_count": 4,
     "metadata": {},
     "output_type": "execute_result"
    }
   ],
   "source": [
    "train  = pd.read_csv('train.csv')\n",
    "train.head()"
   ],
   "metadata": {
    "collapsed": false
   }
  },
  {
   "cell_type": "code",
   "execution_count": 3,
   "outputs": [],
   "source": [
    "import os\n",
    "os.chdir(r'C:\\Users\\fzh00\\Desktop\\文件\\excel\\阿里天池\\保险反欺诈')\n",
    "import numpy as np\n",
    "import pandas as pd"
   ],
   "metadata": {
    "collapsed": false
   }
  }
 ],
 "metadata": {
  "kernelspec": {
   "name": "cda_python",
   "language": "python",
   "display_name": "cda_python"
  },
  "language_info": {
   "codemirror_mode": {
    "name": "ipython",
    "version": 2
   },
   "file_extension": ".py",
   "mimetype": "text/x-python",
   "name": "python",
   "nbconvert_exporter": "python",
   "pygments_lexer": "ipython2",
   "version": "2.7.6"
  }
 },
 "nbformat": 4,
 "nbformat_minor": 0
}
