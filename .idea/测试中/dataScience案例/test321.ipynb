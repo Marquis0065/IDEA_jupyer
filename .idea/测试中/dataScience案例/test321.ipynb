{
 "cells": [
  {
   "cell_type": "code",
   "execution_count": 5,
   "outputs": [
    {
     "ename": "AttributeError",
     "evalue": "module 'base' has no attribute 'head'",
     "output_type": "error",
     "traceback": [
      "\u001B[1;31m---------------------------------------------------------------------------\u001B[0m",
      "\u001B[1;31mAttributeError\u001B[0m                            Traceback (most recent call last)",
      "\u001B[1;32m<ipython-input-5-12f7316b0756>\u001B[0m in \u001B[0;36m<module>\u001B[1;34m\u001B[0m\n\u001B[1;32m----> 1\u001B[1;33m \u001B[0mbase\u001B[0m\u001B[1;33m.\u001B[0m\u001B[0mhead\u001B[0m\u001B[1;33m(\u001B[0m\u001B[0miris\u001B[0m\u001B[1;33m)\u001B[0m\u001B[1;33m\u001B[0m\u001B[1;33m\u001B[0m\u001B[0m\n\u001B[0m",
      "\u001B[1;31mAttributeError\u001B[0m: module 'base' has no attribute 'head'"
     ]
    }
   ],
   "source": [],
   "metadata": {
    "collapsed": false
   }
  },
  {
   "cell_type": "code",
   "execution_count": 4,
   "outputs": [],
   "source": [
    "from rpy2.robjects.packages import importr\n",
    "base = importr('base')"
   ],
   "metadata": {
    "collapsed": false
   }
  },
  {
   "cell_type": "code",
   "execution_count": 5,
   "outputs": [
    {
     "data": {
      "text/plain": "rpy2.rinterface.NULL"
     },
     "execution_count": 5,
     "metadata": {},
     "output_type": "execute_result"
    }
   ],
   "source": [
    "from rpy2.robjects.packages import importr\n",
    "base = importr('base')\n",
    "stats = importr('stats')\n",
    "graphics = importr('graphics')\n",
    "plot = graphics.plot\n",
    "rnorm = stats.rnorm\n",
    "plot(rnorm(100), ylab=\"random\")"
   ],
   "metadata": {
    "collapsed": false
   }
  },
  {
   "cell_type": "code",
   "execution_count": 4,
   "outputs": [],
   "source": [
    "import rpy2.robjects as ro"
   ],
   "metadata": {
    "collapsed": false
   }
  },
  {
   "cell_type": "code",
   "execution_count": 3,
   "outputs": [
    {
     "data": {
      "text/plain": "R object with classes: ('data.frame',) mapped to:\n<DataFrame - Python:0x00000259B6B48AC8 / R:0x00000259D60674D8>\n[FloatVe..., FloatVe..., FloatVe..., FloatVe..., FactorV...]\n  Sepal.Length: <class 'rpy2.robjects.vectors.FloatVector'>\n  R object with classes: ('numeric',) mapped to:\n<FloatVector - Python:0x0000025A2A5F8348 / R:0x00000259D83DDAE8>\n[5.100000, 4.900000]\n  Sepal.Width: <class 'rpy2.robjects.vectors.FloatVector'>\n  R object with classes: ('numeric',) mapped to:\n<FloatVector - Python:0x0000025A2A7A5148 / R:0x00000259D83DDAA8>\n[3.500000, 3.000000]\n  Petal.Length: <class 'rpy2.robjects.vectors.FloatVector'>\n  R object with classes: ('numeric',) mapped to:\n<FloatVector - Python:0x0000025A2A7A5C08 / R:0x00000259D83DDA68>\n[1.400000, 1.400000]\n  Petal.Width: <class 'rpy2.robjects.vectors.FloatVector'>\n  R object with classes: ('numeric',) mapped to:\n<FloatVector - Python:0x0000025A2A7A5B88 / R:0x00000259D83DDA28>\n[0.200000, 0.200000]\n  Species: <class 'rpy2.robjects.vectors.FactorVector'>\n  R object with classes: ('factor',) mapped to:\n<FactorVector - Python:0x0000025A2A5F8248 / R:0x0000025A2A8048D8>\n[setosa, setosa]",
      "text/html": "\n    <span>R/rpy2 DataFrame (2 x 5)</span>\n    <table>\n      <thead>\n        <tr>\n        \n          <th>Sepal.Length</th>\n        \n          <th>Sepal.Width</th>\n        \n          <th>Petal.Length</th>\n        \n          <th>Petal.Width</th>\n        \n          <th>Species</th>\n        \n        </tr>\n      </thead>\n      <tbody>\n      \n      <tr>\n      \n      <td>\n        5.100000\n      </td>\n      \n      <td>\n        3.500000\n      </td>\n      \n      <td>\n        1.400000\n      </td>\n      \n      <td>\n        0.200000\n      </td>\n      \n      <td>\n        setosa\n      </td>\n      \n      </tr>\n      \n      <tr>\n      \n      <td>\n        4.900000\n      </td>\n      \n      <td>\n        3.000000\n      </td>\n      \n      <td>\n        1.400000\n      </td>\n      \n      <td>\n        0.200000\n      </td>\n      \n      <td>\n        setosa\n      </td>\n      \n      </tr>\n      \n      </tbody>\n    </table>\n    "
     },
     "execution_count": 3,
     "metadata": {},
     "output_type": "execute_result"
    }
   ],
   "source": [
    "data = r('iris')\n",
    "data.head(2)"
   ],
   "metadata": {
    "collapsed": false
   }
  },
  {
   "cell_type": "code",
   "execution_count": null,
   "outputs": [],
   "source": [
    "%load_ext rpy2.ipython\n",
    "from rpy2.robjects import r"
   ],
   "metadata": {
    "collapsed": false,
    "pycharm": {
     "is_executing": true
    }
   }
  },
  {
   "cell_type": "code",
   "execution_count": 3,
   "outputs": [
    {
     "data": {
      "text/plain": "R object with classes: ('data.frame',) mapped to:\n<DataFrame - Python:0x000001E16E268448 / R:0x000001E1A7F474D8>\n[FloatVe..., FloatVe..., FloatVe..., FloatVe..., FactorV...]\n  Sepal.Length: <class 'rpy2.robjects.vectors.FloatVector'>\n  R object with classes: ('numeric',) mapped to:\n<FloatVector - Python:0x000001E188A0D988 / R:0x000001E1A7F47F58>\n[5.100000, 4.900000, 4.700000, 4.600000, 5.000000, 5.400000]\n  Sepal.Width: <class 'rpy2.robjects.vectors.FloatVector'>\n  R object with classes: ('numeric',) mapped to:\n<FloatVector - Python:0x000001E1A9D47148 / R:0x000001E1A7F480A8>\n[3.500000, 3.000000, 3.200000, 3.100000, 3.600000, 3.900000]\n  Petal.Length: <class 'rpy2.robjects.vectors.FloatVector'>\n  R object with classes: ('numeric',) mapped to:\n<FloatVector - Python:0x000001E1A9D47EC8 / R:0x000001E1A7F482D8>\n[1.400000, 1.400000, 1.300000, 1.500000, 1.400000, 1.700000]\n  Petal.Width: <class 'rpy2.robjects.vectors.FloatVector'>\n  R object with classes: ('numeric',) mapped to:\n<FloatVector - Python:0x000001E1A9D47E08 / R:0x000001E1A7F48428>\n[0.200000, 0.200000, 0.200000, 0.200000, 0.200000, 0.400000]\n  Species: <class 'rpy2.robjects.vectors.FactorVector'>\n  R object with classes: ('factor',) mapped to:\n<FactorVector - Python:0x000001E1A9C5D748 / R:0x000001E1AA392588>\n[setosa, setosa, setosa, setosa, setosa, setosa]",
      "text/html": "\n    <span>R/rpy2 DataFrame (6 x 5)</span>\n    <table>\n      <thead>\n        <tr>\n        \n          <th>Sepal.Length</th>\n        \n          <th>Sepal.Width</th>\n        \n          <th>Petal.Length</th>\n        \n          <th>Petal.Width</th>\n        \n          <th>Species</th>\n        \n        </tr>\n      </thead>\n      <tbody>\n      \n      <tr>\n      \n      <td>\n        5.100000\n      </td>\n      \n      <td>\n        3.500000\n      </td>\n      \n      <td>\n        1.400000\n      </td>\n      \n      <td>\n        0.200000\n      </td>\n      \n      <td>\n        setosa\n      </td>\n      \n      </tr>\n      \n      <tr>\n      \n      <td>\n        4.900000\n      </td>\n      \n      <td>\n        3.000000\n      </td>\n      \n      <td>\n        1.400000\n      </td>\n      \n      <td>\n        0.200000\n      </td>\n      \n      <td>\n        setosa\n      </td>\n      \n      </tr>\n      \n      <tr>\n      \n      <td>\n        4.700000\n      </td>\n      \n      <td>\n        3.200000\n      </td>\n      \n      <td>\n        1.300000\n      </td>\n      \n      <td>\n        0.200000\n      </td>\n      \n      <td>\n        setosa\n      </td>\n      \n      </tr>\n      \n      <tr>\n      \n      <td>\n        4.600000\n      </td>\n      \n      <td>\n        3.100000\n      </td>\n      \n      <td>\n        1.500000\n      </td>\n      \n      <td>\n        0.200000\n      </td>\n      \n      <td>\n        setosa\n      </td>\n      \n      </tr>\n      \n      <tr>\n      \n      <td>\n        5.000000\n      </td>\n      \n      <td>\n        3.600000\n      </td>\n      \n      <td>\n        1.400000\n      </td>\n      \n      <td>\n        0.200000\n      </td>\n      \n      <td>\n        setosa\n      </td>\n      \n      </tr>\n      \n      <tr>\n      \n      <td>\n        5.400000\n      </td>\n      \n      <td>\n        3.900000\n      </td>\n      \n      <td>\n        1.700000\n      </td>\n      \n      <td>\n        0.400000\n      </td>\n      \n      <td>\n        setosa\n      </td>\n      \n      </tr>\n      \n      </tbody>\n    </table>\n    "
     },
     "execution_count": 3,
     "metadata": {},
     "output_type": "execute_result"
    }
   ],
   "source": [
    "r('iris').head()"
   ],
   "metadata": {
    "collapsed": false
   }
  },
  {
   "cell_type": "code",
   "execution_count": 2,
   "outputs": [],
   "source": [
    "%load_ext rpy2.ipython\n",
    "from rpy2.robjects import r"
   ],
   "metadata": {
    "collapsed": false
   }
  },
  {
   "cell_type": "code",
   "execution_count": 1,
   "outputs": [
    {
     "data": {
      "text/plain": "R object with classes: ('data.frame',) mapped to:\n<DataFrame - Python:0x000001ED3410D708 / R:0x000001ED5382EDC8>\n[FloatVe..., FloatVe..., FloatVe..., FloatVe..., FactorV...]\n  Sepal.Length: <class 'rpy2.robjects.vectors.FloatVector'>\n  R object with classes: ('numeric',) mapped to:\n<FloatVector - Python:0x000001ED55354A08 / R:0x000001ED53108AC0>\n[5.100000, 4.900000]\n  Sepal.Width: <class 'rpy2.robjects.vectors.FloatVector'>\n  R object with classes: ('numeric',) mapped to:\n<FloatVector - Python:0x000001ED5592B408 / R:0x000001ED53108B80>\n[3.500000, 3.000000]\n  Petal.Length: <class 'rpy2.robjects.vectors.FloatVector'>\n  R object with classes: ('numeric',) mapped to:\n<FloatVector - Python:0x000001ED5592B488 / R:0x000001ED53108C40>\n[1.400000, 1.400000]\n  Petal.Width: <class 'rpy2.robjects.vectors.FloatVector'>\n  R object with classes: ('numeric',) mapped to:\n<FloatVector - Python:0x000001ED5592B508 / R:0x000001ED53108D00>\n[0.200000, 0.200000]\n  Species: <class 'rpy2.robjects.vectors.FactorVector'>\n  R object with classes: ('factor',) mapped to:\n<FactorVector - Python:0x000001ED340E3388 / R:0x000001ED559F6568>\n[setosa, setosa]",
      "text/html": "\n    <span>R/rpy2 DataFrame (2 x 5)</span>\n    <table>\n      <thead>\n        <tr>\n        \n          <th>Sepal.Length</th>\n        \n          <th>Sepal.Width</th>\n        \n          <th>Petal.Length</th>\n        \n          <th>Petal.Width</th>\n        \n          <th>Species</th>\n        \n        </tr>\n      </thead>\n      <tbody>\n      \n      <tr>\n      \n      <td>\n        5.100000\n      </td>\n      \n      <td>\n        3.500000\n      </td>\n      \n      <td>\n        1.400000\n      </td>\n      \n      <td>\n        0.200000\n      </td>\n      \n      <td>\n        setosa\n      </td>\n      \n      </tr>\n      \n      <tr>\n      \n      <td>\n        4.900000\n      </td>\n      \n      <td>\n        3.000000\n      </td>\n      \n      <td>\n        1.400000\n      </td>\n      \n      <td>\n        0.200000\n      </td>\n      \n      <td>\n        setosa\n      </td>\n      \n      </tr>\n      \n      </tbody>\n    </table>\n    "
     },
     "execution_count": 1,
     "metadata": {},
     "output_type": "execute_result"
    }
   ],
   "source": [
    "from rpy2.robjects import r\n",
    "r('iris').head(2)"
   ],
   "metadata": {
    "collapsed": false
   }
  },
  {
   "cell_type": "code",
   "execution_count": 13,
   "outputs": [
    {
     "data": {
      "image/png": "[encoded data removed]"
     },
     "metadata": {},
     "output_type": "display_data"
    }
   ],
   "source": [
    "from numpy import linspace,sin\n",
    "x = linspace(0,10,100)\n",
    "y = sin(x)+0.5*x\n",
    "%R -i x\n",
    "%R -i y\n",
    "%R plot(x,y)"
   ],
   "metadata": {
    "collapsed": false
   }
  },
  {
   "cell_type": "code",
   "execution_count": 12,
   "outputs": [
    {
     "ename": "TypeError",
     "evalue": "Parameter 'categories' must be list-like, was <rpy2.rinterface.StrSexpVector - Python:0x00000248B092CFD8 / R:0x000002482A4B0048>",
     "output_type": "error",
     "traceback": [
      "\u001B[1;31m---------------------------------------------------------------------------\u001B[0m",
      "\u001B[1;31mTypeError\u001B[0m                                 Traceback (most recent call last)",
      "\u001B[1;32m<ipython-input-12-b77bb68c7f66>\u001B[0m in \u001B[0;36m<module>\u001B[1;34m\u001B[0m\n\u001B[1;32m----> 1\u001B[1;33m \u001B[0mdata\u001B[0m \u001B[1;33m=\u001B[0m \u001B[0mget_ipython\u001B[0m\u001B[1;33m(\u001B[0m\u001B[1;33m)\u001B[0m\u001B[1;33m.\u001B[0m\u001B[0mrun_line_magic\u001B[0m\u001B[1;33m(\u001B[0m\u001B[1;34m'R'\u001B[0m\u001B[1;33m,\u001B[0m \u001B[1;34m'iris'\u001B[0m\u001B[1;33m)\u001B[0m\u001B[1;33m\u001B[0m\u001B[1;33m\u001B[0m\u001B[0m\n\u001B[0m",
      "\u001B[1;32mC:\\ProgramData\\Anaconda3\\envs\\py36\\lib\\site-packages\\IPython\\core\\interactiveshell.py\u001B[0m in \u001B[0;36mrun_line_magic\u001B[1;34m(self, magic_name, line, _stack_depth)\u001B[0m\n\u001B[0;32m   2324\u001B[0m                 \u001B[0mkwargs\u001B[0m\u001B[1;33m[\u001B[0m\u001B[1;34m'local_ns'\u001B[0m\u001B[1;33m]\u001B[0m \u001B[1;33m=\u001B[0m \u001B[0msys\u001B[0m\u001B[1;33m.\u001B[0m\u001B[0m_getframe\u001B[0m\u001B[1;33m(\u001B[0m\u001B[0mstack_depth\u001B[0m\u001B[1;33m)\u001B[0m\u001B[1;33m.\u001B[0m\u001B[0mf_locals\u001B[0m\u001B[1;33m\u001B[0m\u001B[1;33m\u001B[0m\u001B[0m\n\u001B[0;32m   2325\u001B[0m             \u001B[1;32mwith\u001B[0m \u001B[0mself\u001B[0m\u001B[1;33m.\u001B[0m\u001B[0mbuiltin_trap\u001B[0m\u001B[1;33m:\u001B[0m\u001B[1;33m\u001B[0m\u001B[1;33m\u001B[0m\u001B[0m\n\u001B[1;32m-> 2326\u001B[1;33m                 \u001B[0mresult\u001B[0m \u001B[1;33m=\u001B[0m \u001B[0mfn\u001B[0m\u001B[1;33m(\u001B[0m\u001B[1;33m*\u001B[0m\u001B[0margs\u001B[0m\u001B[1;33m,\u001B[0m \u001B[1;33m**\u001B[0m\u001B[0mkwargs\u001B[0m\u001B[1;33m)\u001B[0m\u001B[1;33m\u001B[0m\u001B[1;33m\u001B[0m\u001B[0m\n\u001B[0m\u001B[0;32m   2327\u001B[0m             \u001B[1;32mreturn\u001B[0m \u001B[0mresult\u001B[0m\u001B[1;33m\u001B[0m\u001B[1;33m\u001B[0m\u001B[0m\n\u001B[0;32m   2328\u001B[0m \u001B[1;33m\u001B[0m\u001B[0m\n",
      "\u001B[1;32mC:\\ProgramData\\Anaconda3\\envs\\py36\\lib\\site-packages\\decorator.py\u001B[0m in \u001B[0;36mfun\u001B[1;34m(*args, **kw)\u001B[0m\n\u001B[0;32m    230\u001B[0m             \u001B[1;32mif\u001B[0m \u001B[1;32mnot\u001B[0m \u001B[0mkwsyntax\u001B[0m\u001B[1;33m:\u001B[0m\u001B[1;33m\u001B[0m\u001B[1;33m\u001B[0m\u001B[0m\n\u001B[0;32m    231\u001B[0m                 \u001B[0margs\u001B[0m\u001B[1;33m,\u001B[0m \u001B[0mkw\u001B[0m \u001B[1;33m=\u001B[0m \u001B[0mfix\u001B[0m\u001B[1;33m(\u001B[0m\u001B[0margs\u001B[0m\u001B[1;33m,\u001B[0m \u001B[0mkw\u001B[0m\u001B[1;33m,\u001B[0m \u001B[0msig\u001B[0m\u001B[1;33m)\u001B[0m\u001B[1;33m\u001B[0m\u001B[1;33m\u001B[0m\u001B[0m\n\u001B[1;32m--> 232\u001B[1;33m             \u001B[1;32mreturn\u001B[0m \u001B[0mcaller\u001B[0m\u001B[1;33m(\u001B[0m\u001B[0mfunc\u001B[0m\u001B[1;33m,\u001B[0m \u001B[1;33m*\u001B[0m\u001B[1;33m(\u001B[0m\u001B[0mextras\u001B[0m \u001B[1;33m+\u001B[0m \u001B[0margs\u001B[0m\u001B[1;33m)\u001B[0m\u001B[1;33m,\u001B[0m \u001B[1;33m**\u001B[0m\u001B[0mkw\u001B[0m\u001B[1;33m)\u001B[0m\u001B[1;33m\u001B[0m\u001B[1;33m\u001B[0m\u001B[0m\n\u001B[0m\u001B[0;32m    233\u001B[0m     \u001B[0mfun\u001B[0m\u001B[1;33m.\u001B[0m\u001B[0m__name__\u001B[0m \u001B[1;33m=\u001B[0m \u001B[0mfunc\u001B[0m\u001B[1;33m.\u001B[0m\u001B[0m__name__\u001B[0m\u001B[1;33m\u001B[0m\u001B[1;33m\u001B[0m\u001B[0m\n\u001B[0;32m    234\u001B[0m     \u001B[0mfun\u001B[0m\u001B[1;33m.\u001B[0m\u001B[0m__doc__\u001B[0m \u001B[1;33m=\u001B[0m \u001B[0mfunc\u001B[0m\u001B[1;33m.\u001B[0m\u001B[0m__doc__\u001B[0m\u001B[1;33m\u001B[0m\u001B[1;33m\u001B[0m\u001B[0m\n",
      "\u001B[1;32mC:\\ProgramData\\Anaconda3\\envs\\py36\\lib\\site-packages\\IPython\\core\\magic.py\u001B[0m in \u001B[0;36m<lambda>\u001B[1;34m(f, *a, **k)\u001B[0m\n\u001B[0;32m    185\u001B[0m     \u001B[1;31m# but it's overkill for just that one bit of state.\u001B[0m\u001B[1;33m\u001B[0m\u001B[1;33m\u001B[0m\u001B[1;33m\u001B[0m\u001B[0m\n\u001B[0;32m    186\u001B[0m     \u001B[1;32mdef\u001B[0m \u001B[0mmagic_deco\u001B[0m\u001B[1;33m(\u001B[0m\u001B[0marg\u001B[0m\u001B[1;33m)\u001B[0m\u001B[1;33m:\u001B[0m\u001B[1;33m\u001B[0m\u001B[1;33m\u001B[0m\u001B[0m\n\u001B[1;32m--> 187\u001B[1;33m         \u001B[0mcall\u001B[0m \u001B[1;33m=\u001B[0m \u001B[1;32mlambda\u001B[0m \u001B[0mf\u001B[0m\u001B[1;33m,\u001B[0m \u001B[1;33m*\u001B[0m\u001B[0ma\u001B[0m\u001B[1;33m,\u001B[0m \u001B[1;33m**\u001B[0m\u001B[0mk\u001B[0m\u001B[1;33m:\u001B[0m \u001B[0mf\u001B[0m\u001B[1;33m(\u001B[0m\u001B[1;33m*\u001B[0m\u001B[0ma\u001B[0m\u001B[1;33m,\u001B[0m \u001B[1;33m**\u001B[0m\u001B[0mk\u001B[0m\u001B[1;33m)\u001B[0m\u001B[1;33m\u001B[0m\u001B[1;33m\u001B[0m\u001B[0m\n\u001B[0m\u001B[0;32m    188\u001B[0m \u001B[1;33m\u001B[0m\u001B[0m\n\u001B[0;32m    189\u001B[0m         \u001B[1;32mif\u001B[0m \u001B[0mcallable\u001B[0m\u001B[1;33m(\u001B[0m\u001B[0marg\u001B[0m\u001B[1;33m)\u001B[0m\u001B[1;33m:\u001B[0m\u001B[1;33m\u001B[0m\u001B[1;33m\u001B[0m\u001B[0m\n",
      "\u001B[1;32mC:\\ProgramData\\Anaconda3\\envs\\py36\\lib\\site-packages\\rpy2\\ipython\\rmagic.py\u001B[0m in \u001B[0;36mR\u001B[1;34m(self, line, cell, local_ns)\u001B[0m\n\u001B[0;32m    755\u001B[0m             \u001B[1;32mif\u001B[0m \u001B[0mresult\u001B[0m \u001B[1;32mis\u001B[0m \u001B[1;32mnot\u001B[0m \u001B[0mri\u001B[0m\u001B[1;33m.\u001B[0m\u001B[0mNULL\u001B[0m\u001B[1;33m:\u001B[0m\u001B[1;33m\u001B[0m\u001B[1;33m\u001B[0m\u001B[0m\n\u001B[0;32m    756\u001B[0m                 \u001B[1;32mwith\u001B[0m \u001B[0mlocalconverter\u001B[0m\u001B[1;33m(\u001B[0m\u001B[0mconverter\u001B[0m\u001B[1;33m)\u001B[0m \u001B[1;32mas\u001B[0m \u001B[0mcv\u001B[0m\u001B[1;33m:\u001B[0m\u001B[1;33m\u001B[0m\u001B[1;33m\u001B[0m\u001B[0m\n\u001B[1;32m--> 757\u001B[1;33m                     \u001B[0mres\u001B[0m \u001B[1;33m=\u001B[0m \u001B[0mcv\u001B[0m\u001B[1;33m.\u001B[0m\u001B[0mri2py\u001B[0m\u001B[1;33m(\u001B[0m\u001B[0mresult\u001B[0m\u001B[1;33m)\u001B[0m\u001B[1;33m\u001B[0m\u001B[1;33m\u001B[0m\u001B[0m\n\u001B[0m\u001B[0;32m    758\u001B[0m                 \u001B[1;32mreturn\u001B[0m \u001B[0mres\u001B[0m\u001B[1;33m\u001B[0m\u001B[1;33m\u001B[0m\u001B[0m\n\u001B[0;32m    759\u001B[0m \u001B[1;33m\u001B[0m\u001B[0m\n",
      "\u001B[1;32mC:\\ProgramData\\Anaconda3\\envs\\py36\\lib\\functools.py\u001B[0m in \u001B[0;36mwrapper\u001B[1;34m(*args, **kw)\u001B[0m\n\u001B[0;32m    805\u001B[0m                             '1 positional argument')\n\u001B[0;32m    806\u001B[0m \u001B[1;33m\u001B[0m\u001B[0m\n\u001B[1;32m--> 807\u001B[1;33m         \u001B[1;32mreturn\u001B[0m \u001B[0mdispatch\u001B[0m\u001B[1;33m(\u001B[0m\u001B[0margs\u001B[0m\u001B[1;33m[\u001B[0m\u001B[1;36m0\u001B[0m\u001B[1;33m]\u001B[0m\u001B[1;33m.\u001B[0m\u001B[0m__class__\u001B[0m\u001B[1;33m)\u001B[0m\u001B[1;33m(\u001B[0m\u001B[1;33m*\u001B[0m\u001B[0margs\u001B[0m\u001B[1;33m,\u001B[0m \u001B[1;33m**\u001B[0m\u001B[0mkw\u001B[0m\u001B[1;33m)\u001B[0m\u001B[1;33m\u001B[0m\u001B[1;33m\u001B[0m\u001B[0m\n\u001B[0m\u001B[0;32m    808\u001B[0m \u001B[1;33m\u001B[0m\u001B[0m\n\u001B[0;32m    809\u001B[0m     \u001B[0mfuncname\u001B[0m \u001B[1;33m=\u001B[0m \u001B[0mgetattr\u001B[0m\u001B[1;33m(\u001B[0m\u001B[0mfunc\u001B[0m\u001B[1;33m,\u001B[0m \u001B[1;34m'__name__'\u001B[0m\u001B[1;33m,\u001B[0m \u001B[1;34m'singledispatch function'\u001B[0m\u001B[1;33m)\u001B[0m\u001B[1;33m\u001B[0m\u001B[1;33m\u001B[0m\u001B[0m\n",
      "\u001B[1;32mC:\\ProgramData\\Anaconda3\\envs\\py36\\lib\\site-packages\\rpy2\\robjects\\pandas2ri.py\u001B[0m in \u001B[0;36mri2py_dataframe\u001B[1;34m(obj)\u001B[0m\n\u001B[0;32m    188\u001B[0m \u001B[1;33m@\u001B[0m\u001B[0mri2py\u001B[0m\u001B[1;33m.\u001B[0m\u001B[0mregister\u001B[0m\u001B[1;33m(\u001B[0m\u001B[0mDataFrame\u001B[0m\u001B[1;33m)\u001B[0m\u001B[1;33m\u001B[0m\u001B[1;33m\u001B[0m\u001B[0m\n\u001B[0;32m    189\u001B[0m \u001B[1;32mdef\u001B[0m \u001B[0mri2py_dataframe\u001B[0m\u001B[1;33m(\u001B[0m\u001B[0mobj\u001B[0m\u001B[1;33m)\u001B[0m\u001B[1;33m:\u001B[0m\u001B[1;33m\u001B[0m\u001B[1;33m\u001B[0m\u001B[0m\n\u001B[1;32m--> 190\u001B[1;33m     \u001B[0mitems\u001B[0m \u001B[1;33m=\u001B[0m \u001B[0mtuple\u001B[0m\u001B[1;33m(\u001B[0m\u001B[1;33m(\u001B[0m\u001B[0mk\u001B[0m\u001B[1;33m,\u001B[0m \u001B[0mri2py\u001B[0m\u001B[1;33m(\u001B[0m\u001B[0mv\u001B[0m\u001B[1;33m)\u001B[0m\u001B[1;33m)\u001B[0m \u001B[1;32mfor\u001B[0m \u001B[0mk\u001B[0m\u001B[1;33m,\u001B[0m \u001B[0mv\u001B[0m \u001B[1;32min\u001B[0m \u001B[0mobj\u001B[0m\u001B[1;33m.\u001B[0m\u001B[0mitems\u001B[0m\u001B[1;33m(\u001B[0m\u001B[1;33m)\u001B[0m\u001B[1;33m)\u001B[0m\u001B[1;33m\u001B[0m\u001B[1;33m\u001B[0m\u001B[0m\n\u001B[0m\u001B[0;32m    191\u001B[0m     \u001B[0mres\u001B[0m \u001B[1;33m=\u001B[0m \u001B[0mPandasDataFrame\u001B[0m\u001B[1;33m.\u001B[0m\u001B[0mfrom_items\u001B[0m\u001B[1;33m(\u001B[0m\u001B[0mitems\u001B[0m\u001B[1;33m)\u001B[0m\u001B[1;33m\u001B[0m\u001B[1;33m\u001B[0m\u001B[0m\n\u001B[0;32m    192\u001B[0m     \u001B[1;32mreturn\u001B[0m \u001B[0mres\u001B[0m\u001B[1;33m\u001B[0m\u001B[1;33m\u001B[0m\u001B[0m\n",
      "\u001B[1;32mC:\\ProgramData\\Anaconda3\\envs\\py36\\lib\\site-packages\\rpy2\\robjects\\pandas2ri.py\u001B[0m in \u001B[0;36m<genexpr>\u001B[1;34m(.0)\u001B[0m\n\u001B[0;32m    188\u001B[0m \u001B[1;33m@\u001B[0m\u001B[0mri2py\u001B[0m\u001B[1;33m.\u001B[0m\u001B[0mregister\u001B[0m\u001B[1;33m(\u001B[0m\u001B[0mDataFrame\u001B[0m\u001B[1;33m)\u001B[0m\u001B[1;33m\u001B[0m\u001B[1;33m\u001B[0m\u001B[0m\n\u001B[0;32m    189\u001B[0m \u001B[1;32mdef\u001B[0m \u001B[0mri2py_dataframe\u001B[0m\u001B[1;33m(\u001B[0m\u001B[0mobj\u001B[0m\u001B[1;33m)\u001B[0m\u001B[1;33m:\u001B[0m\u001B[1;33m\u001B[0m\u001B[1;33m\u001B[0m\u001B[0m\n\u001B[1;32m--> 190\u001B[1;33m     \u001B[0mitems\u001B[0m \u001B[1;33m=\u001B[0m \u001B[0mtuple\u001B[0m\u001B[1;33m(\u001B[0m\u001B[1;33m(\u001B[0m\u001B[0mk\u001B[0m\u001B[1;33m,\u001B[0m \u001B[0mri2py\u001B[0m\u001B[1;33m(\u001B[0m\u001B[0mv\u001B[0m\u001B[1;33m)\u001B[0m\u001B[1;33m)\u001B[0m \u001B[1;32mfor\u001B[0m \u001B[0mk\u001B[0m\u001B[1;33m,\u001B[0m \u001B[0mv\u001B[0m \u001B[1;32min\u001B[0m \u001B[0mobj\u001B[0m\u001B[1;33m.\u001B[0m\u001B[0mitems\u001B[0m\u001B[1;33m(\u001B[0m\u001B[1;33m)\u001B[0m\u001B[1;33m)\u001B[0m\u001B[1;33m\u001B[0m\u001B[1;33m\u001B[0m\u001B[0m\n\u001B[0m\u001B[0;32m    191\u001B[0m     \u001B[0mres\u001B[0m \u001B[1;33m=\u001B[0m \u001B[0mPandasDataFrame\u001B[0m\u001B[1;33m.\u001B[0m\u001B[0mfrom_items\u001B[0m\u001B[1;33m(\u001B[0m\u001B[0mitems\u001B[0m\u001B[1;33m)\u001B[0m\u001B[1;33m\u001B[0m\u001B[1;33m\u001B[0m\u001B[0m\n\u001B[0;32m    192\u001B[0m     \u001B[1;32mreturn\u001B[0m \u001B[0mres\u001B[0m\u001B[1;33m\u001B[0m\u001B[1;33m\u001B[0m\u001B[0m\n",
      "\u001B[1;32mC:\\ProgramData\\Anaconda3\\envs\\py36\\lib\\functools.py\u001B[0m in \u001B[0;36mwrapper\u001B[1;34m(*args, **kw)\u001B[0m\n\u001B[0;32m    805\u001B[0m                             '1 positional argument')\n\u001B[0;32m    806\u001B[0m \u001B[1;33m\u001B[0m\u001B[0m\n\u001B[1;32m--> 807\u001B[1;33m         \u001B[1;32mreturn\u001B[0m \u001B[0mdispatch\u001B[0m\u001B[1;33m(\u001B[0m\u001B[0margs\u001B[0m\u001B[1;33m[\u001B[0m\u001B[1;36m0\u001B[0m\u001B[1;33m]\u001B[0m\u001B[1;33m.\u001B[0m\u001B[0m__class__\u001B[0m\u001B[1;33m)\u001B[0m\u001B[1;33m(\u001B[0m\u001B[1;33m*\u001B[0m\u001B[0margs\u001B[0m\u001B[1;33m,\u001B[0m \u001B[1;33m**\u001B[0m\u001B[0mkw\u001B[0m\u001B[1;33m)\u001B[0m\u001B[1;33m\u001B[0m\u001B[1;33m\u001B[0m\u001B[0m\n\u001B[0m\u001B[0;32m    808\u001B[0m \u001B[1;33m\u001B[0m\u001B[0m\n\u001B[0;32m    809\u001B[0m     \u001B[0mfuncname\u001B[0m \u001B[1;33m=\u001B[0m \u001B[0mgetattr\u001B[0m\u001B[1;33m(\u001B[0m\u001B[0mfunc\u001B[0m\u001B[1;33m,\u001B[0m \u001B[1;34m'__name__'\u001B[0m\u001B[1;33m,\u001B[0m \u001B[1;34m'singledispatch function'\u001B[0m\u001B[1;33m)\u001B[0m\u001B[1;33m\u001B[0m\u001B[1;33m\u001B[0m\u001B[0m\n",
      "\u001B[1;32mC:\\ProgramData\\Anaconda3\\envs\\py36\\lib\\site-packages\\rpy2\\robjects\\pandas2ri.py\u001B[0m in \u001B[0;36mri2py_intvector\u001B[1;34m(obj)\u001B[0m\n\u001B[0;32m    146\u001B[0m         res = pandas.Categorical.from_codes(numpy.asarray(obj) - 1,\n\u001B[0;32m    147\u001B[0m                                             \u001B[0mcategories\u001B[0m \u001B[1;33m=\u001B[0m \u001B[0mobj\u001B[0m\u001B[1;33m.\u001B[0m\u001B[0mdo_slot\u001B[0m\u001B[1;33m(\u001B[0m\u001B[1;34m'levels'\u001B[0m\u001B[1;33m)\u001B[0m\u001B[1;33m,\u001B[0m\u001B[1;33m\u001B[0m\u001B[1;33m\u001B[0m\u001B[0m\n\u001B[1;32m--> 148\u001B[1;33m                                             ordered = 'ordered' in obj.rclass)\n\u001B[0m\u001B[0;32m    149\u001B[0m     \u001B[1;32melse\u001B[0m\u001B[1;33m:\u001B[0m\u001B[1;33m\u001B[0m\u001B[1;33m\u001B[0m\u001B[0m\n\u001B[0;32m    150\u001B[0m         \u001B[0mres\u001B[0m \u001B[1;33m=\u001B[0m \u001B[0mnumpy2ri\u001B[0m\u001B[1;33m.\u001B[0m\u001B[0mri2py\u001B[0m\u001B[1;33m(\u001B[0m\u001B[0mobj\u001B[0m\u001B[1;33m)\u001B[0m\u001B[1;33m\u001B[0m\u001B[1;33m\u001B[0m\u001B[0m\n",
      "\u001B[1;32mC:\\ProgramData\\Anaconda3\\envs\\py36\\lib\\site-packages\\pandas\\core\\arrays\\categorical.py\u001B[0m in \u001B[0;36mfrom_codes\u001B[1;34m(cls, codes, categories, ordered, dtype)\u001B[0m\n\u001B[0;32m    605\u001B[0m         \"\"\"\n\u001B[0;32m    606\u001B[0m         dtype = CategoricalDtype._from_values_or_dtype(\n\u001B[1;32m--> 607\u001B[1;33m             \u001B[0mcategories\u001B[0m\u001B[1;33m=\u001B[0m\u001B[0mcategories\u001B[0m\u001B[1;33m,\u001B[0m \u001B[0mordered\u001B[0m\u001B[1;33m=\u001B[0m\u001B[0mordered\u001B[0m\u001B[1;33m,\u001B[0m \u001B[0mdtype\u001B[0m\u001B[1;33m=\u001B[0m\u001B[0mdtype\u001B[0m\u001B[1;33m\u001B[0m\u001B[1;33m\u001B[0m\u001B[0m\n\u001B[0m\u001B[0;32m    608\u001B[0m         )\n\u001B[0;32m    609\u001B[0m         \u001B[1;32mif\u001B[0m \u001B[0mdtype\u001B[0m\u001B[1;33m.\u001B[0m\u001B[0mcategories\u001B[0m \u001B[1;32mis\u001B[0m \u001B[1;32mNone\u001B[0m\u001B[1;33m:\u001B[0m\u001B[1;33m\u001B[0m\u001B[1;33m\u001B[0m\u001B[0m\n",
      "\u001B[1;32mC:\\ProgramData\\Anaconda3\\envs\\py36\\lib\\site-packages\\pandas\\core\\dtypes\\dtypes.py\u001B[0m in \u001B[0;36m_from_values_or_dtype\u001B[1;34m(cls, values, categories, ordered, dtype)\u001B[0m\n\u001B[0;32m    275\u001B[0m             \u001B[1;31m# Note: This could potentially have categories=None and\u001B[0m\u001B[1;33m\u001B[0m\u001B[1;33m\u001B[0m\u001B[1;33m\u001B[0m\u001B[0m\n\u001B[0;32m    276\u001B[0m             \u001B[1;31m# ordered=None.\u001B[0m\u001B[1;33m\u001B[0m\u001B[1;33m\u001B[0m\u001B[1;33m\u001B[0m\u001B[0m\n\u001B[1;32m--> 277\u001B[1;33m             \u001B[0mdtype\u001B[0m \u001B[1;33m=\u001B[0m \u001B[0mCategoricalDtype\u001B[0m\u001B[1;33m(\u001B[0m\u001B[0mcategories\u001B[0m\u001B[1;33m,\u001B[0m \u001B[0mordered\u001B[0m\u001B[1;33m)\u001B[0m\u001B[1;33m\u001B[0m\u001B[1;33m\u001B[0m\u001B[0m\n\u001B[0m\u001B[0;32m    278\u001B[0m \u001B[1;33m\u001B[0m\u001B[0m\n\u001B[0;32m    279\u001B[0m         \u001B[1;32mreturn\u001B[0m \u001B[0mdtype\u001B[0m\u001B[1;33m\u001B[0m\u001B[1;33m\u001B[0m\u001B[0m\n",
      "\u001B[1;32mC:\\ProgramData\\Anaconda3\\envs\\py36\\lib\\site-packages\\pandas\\core\\dtypes\\dtypes.py\u001B[0m in \u001B[0;36m__init__\u001B[1;34m(self, categories, ordered)\u001B[0m\n\u001B[0;32m    162\u001B[0m \u001B[1;33m\u001B[0m\u001B[0m\n\u001B[0;32m    163\u001B[0m     \u001B[1;32mdef\u001B[0m \u001B[0m__init__\u001B[0m\u001B[1;33m(\u001B[0m\u001B[0mself\u001B[0m\u001B[1;33m,\u001B[0m \u001B[0mcategories\u001B[0m\u001B[1;33m=\u001B[0m\u001B[1;32mNone\u001B[0m\u001B[1;33m,\u001B[0m \u001B[0mordered\u001B[0m\u001B[1;33m:\u001B[0m \u001B[0mOrdered\u001B[0m \u001B[1;33m=\u001B[0m \u001B[1;32mFalse\u001B[0m\u001B[1;33m)\u001B[0m\u001B[1;33m:\u001B[0m\u001B[1;33m\u001B[0m\u001B[1;33m\u001B[0m\u001B[0m\n\u001B[1;32m--> 164\u001B[1;33m         \u001B[0mself\u001B[0m\u001B[1;33m.\u001B[0m\u001B[0m_finalize\u001B[0m\u001B[1;33m(\u001B[0m\u001B[0mcategories\u001B[0m\u001B[1;33m,\u001B[0m \u001B[0mordered\u001B[0m\u001B[1;33m,\u001B[0m \u001B[0mfastpath\u001B[0m\u001B[1;33m=\u001B[0m\u001B[1;32mFalse\u001B[0m\u001B[1;33m)\u001B[0m\u001B[1;33m\u001B[0m\u001B[1;33m\u001B[0m\u001B[0m\n\u001B[0m\u001B[0;32m    165\u001B[0m \u001B[1;33m\u001B[0m\u001B[0m\n\u001B[0;32m    166\u001B[0m     \u001B[1;33m@\u001B[0m\u001B[0mclassmethod\u001B[0m\u001B[1;33m\u001B[0m\u001B[1;33m\u001B[0m\u001B[0m\n",
      "\u001B[1;32mC:\\ProgramData\\Anaconda3\\envs\\py36\\lib\\site-packages\\pandas\\core\\dtypes\\dtypes.py\u001B[0m in \u001B[0;36m_finalize\u001B[1;34m(self, categories, ordered, fastpath)\u001B[0m\n\u001B[0;32m    316\u001B[0m \u001B[1;33m\u001B[0m\u001B[0m\n\u001B[0;32m    317\u001B[0m         \u001B[1;32mif\u001B[0m \u001B[0mcategories\u001B[0m \u001B[1;32mis\u001B[0m \u001B[1;32mnot\u001B[0m \u001B[1;32mNone\u001B[0m\u001B[1;33m:\u001B[0m\u001B[1;33m\u001B[0m\u001B[1;33m\u001B[0m\u001B[0m\n\u001B[1;32m--> 318\u001B[1;33m             \u001B[0mcategories\u001B[0m \u001B[1;33m=\u001B[0m \u001B[0mself\u001B[0m\u001B[1;33m.\u001B[0m\u001B[0mvalidate_categories\u001B[0m\u001B[1;33m(\u001B[0m\u001B[0mcategories\u001B[0m\u001B[1;33m,\u001B[0m \u001B[0mfastpath\u001B[0m\u001B[1;33m=\u001B[0m\u001B[0mfastpath\u001B[0m\u001B[1;33m)\u001B[0m\u001B[1;33m\u001B[0m\u001B[1;33m\u001B[0m\u001B[0m\n\u001B[0m\u001B[0;32m    319\u001B[0m \u001B[1;33m\u001B[0m\u001B[0m\n\u001B[0;32m    320\u001B[0m         \u001B[0mself\u001B[0m\u001B[1;33m.\u001B[0m\u001B[0m_categories\u001B[0m \u001B[1;33m=\u001B[0m \u001B[0mcategories\u001B[0m\u001B[1;33m\u001B[0m\u001B[1;33m\u001B[0m\u001B[0m\n",
      "\u001B[1;32mC:\\ProgramData\\Anaconda3\\envs\\py36\\lib\\site-packages\\pandas\\core\\dtypes\\dtypes.py\u001B[0m in \u001B[0;36mvalidate_categories\u001B[1;34m(categories, fastpath)\u001B[0m\n\u001B[0;32m    482\u001B[0m         \u001B[1;32mif\u001B[0m \u001B[1;32mnot\u001B[0m \u001B[0mfastpath\u001B[0m \u001B[1;32mand\u001B[0m \u001B[1;32mnot\u001B[0m \u001B[0mis_list_like\u001B[0m\u001B[1;33m(\u001B[0m\u001B[0mcategories\u001B[0m\u001B[1;33m)\u001B[0m\u001B[1;33m:\u001B[0m\u001B[1;33m\u001B[0m\u001B[1;33m\u001B[0m\u001B[0m\n\u001B[0;32m    483\u001B[0m             raise TypeError(\n\u001B[1;32m--> 484\u001B[1;33m                 \u001B[1;34mf\"Parameter 'categories' must be list-like, was {repr(categories)}\"\u001B[0m\u001B[1;33m\u001B[0m\u001B[1;33m\u001B[0m\u001B[0m\n\u001B[0m\u001B[0;32m    485\u001B[0m             )\n\u001B[0;32m    486\u001B[0m         \u001B[1;32melif\u001B[0m \u001B[1;32mnot\u001B[0m \u001B[0misinstance\u001B[0m\u001B[1;33m(\u001B[0m\u001B[0mcategories\u001B[0m\u001B[1;33m,\u001B[0m \u001B[0mABCIndexClass\u001B[0m\u001B[1;33m)\u001B[0m\u001B[1;33m:\u001B[0m\u001B[1;33m\u001B[0m\u001B[1;33m\u001B[0m\u001B[0m\n",
      "\u001B[1;31mTypeError\u001B[0m: Parameter 'categories' must be list-like, was <rpy2.rinterface.StrSexpVector - Python:0x00000248B092CFD8 / R:0x000002482A4B0048>"
     ]
    }
   ],
   "source": [
    "data = %R iris"
   ],
   "metadata": {
    "collapsed": false
   }
  },
  {
   "cell_type": "code",
   "execution_count": 11,
   "outputs": [
    {
     "ename": "TypeError",
     "evalue": "Parameter 'categories' must be list-like, was <rpy2.rinterface.StrSexpVector - Python:0x00000248B092CF18 / R:0x000002482A4B0048>",
     "output_type": "error",
     "traceback": [
      "\u001B[1;31m---------------------------------------------------------------------------\u001B[0m",
      "\u001B[1;31mTypeError\u001B[0m                                 Traceback (most recent call last)",
      "\u001B[1;32m<ipython-input-11-1335105f96ac>\u001B[0m in \u001B[0;36m<module>\u001B[1;34m\u001B[0m\n\u001B[1;32m----> 1\u001B[1;33m \u001B[0mget_ipython\u001B[0m\u001B[1;33m(\u001B[0m\u001B[1;33m)\u001B[0m\u001B[1;33m.\u001B[0m\u001B[0mrun_line_magic\u001B[0m\u001B[1;33m(\u001B[0m\u001B[1;34m'R'\u001B[0m\u001B[1;33m,\u001B[0m \u001B[1;34m'-o data'\u001B[0m\u001B[1;33m)\u001B[0m\u001B[1;33m\u001B[0m\u001B[1;33m\u001B[0m\u001B[0m\n\u001B[0m\u001B[0;32m      2\u001B[0m \u001B[0mdata\u001B[0m \u001B[1;33m=\u001B[0m \u001B[0miris\u001B[0m\u001B[1;33m\u001B[0m\u001B[1;33m\u001B[0m\u001B[0m\n",
      "\u001B[1;32mC:\\ProgramData\\Anaconda3\\envs\\py36\\lib\\site-packages\\IPython\\core\\interactiveshell.py\u001B[0m in \u001B[0;36mrun_line_magic\u001B[1;34m(self, magic_name, line, _stack_depth)\u001B[0m\n\u001B[0;32m   2324\u001B[0m                 \u001B[0mkwargs\u001B[0m\u001B[1;33m[\u001B[0m\u001B[1;34m'local_ns'\u001B[0m\u001B[1;33m]\u001B[0m \u001B[1;33m=\u001B[0m \u001B[0msys\u001B[0m\u001B[1;33m.\u001B[0m\u001B[0m_getframe\u001B[0m\u001B[1;33m(\u001B[0m\u001B[0mstack_depth\u001B[0m\u001B[1;33m)\u001B[0m\u001B[1;33m.\u001B[0m\u001B[0mf_locals\u001B[0m\u001B[1;33m\u001B[0m\u001B[1;33m\u001B[0m\u001B[0m\n\u001B[0;32m   2325\u001B[0m             \u001B[1;32mwith\u001B[0m \u001B[0mself\u001B[0m\u001B[1;33m.\u001B[0m\u001B[0mbuiltin_trap\u001B[0m\u001B[1;33m:\u001B[0m\u001B[1;33m\u001B[0m\u001B[1;33m\u001B[0m\u001B[0m\n\u001B[1;32m-> 2326\u001B[1;33m                 \u001B[0mresult\u001B[0m \u001B[1;33m=\u001B[0m \u001B[0mfn\u001B[0m\u001B[1;33m(\u001B[0m\u001B[1;33m*\u001B[0m\u001B[0margs\u001B[0m\u001B[1;33m,\u001B[0m \u001B[1;33m**\u001B[0m\u001B[0mkwargs\u001B[0m\u001B[1;33m)\u001B[0m\u001B[1;33m\u001B[0m\u001B[1;33m\u001B[0m\u001B[0m\n\u001B[0m\u001B[0;32m   2327\u001B[0m             \u001B[1;32mreturn\u001B[0m \u001B[0mresult\u001B[0m\u001B[1;33m\u001B[0m\u001B[1;33m\u001B[0m\u001B[0m\n\u001B[0;32m   2328\u001B[0m \u001B[1;33m\u001B[0m\u001B[0m\n",
      "\u001B[1;32mC:\\ProgramData\\Anaconda3\\envs\\py36\\lib\\site-packages\\decorator.py\u001B[0m in \u001B[0;36mfun\u001B[1;34m(*args, **kw)\u001B[0m\n\u001B[0;32m    230\u001B[0m             \u001B[1;32mif\u001B[0m \u001B[1;32mnot\u001B[0m \u001B[0mkwsyntax\u001B[0m\u001B[1;33m:\u001B[0m\u001B[1;33m\u001B[0m\u001B[1;33m\u001B[0m\u001B[0m\n\u001B[0;32m    231\u001B[0m                 \u001B[0margs\u001B[0m\u001B[1;33m,\u001B[0m \u001B[0mkw\u001B[0m \u001B[1;33m=\u001B[0m \u001B[0mfix\u001B[0m\u001B[1;33m(\u001B[0m\u001B[0margs\u001B[0m\u001B[1;33m,\u001B[0m \u001B[0mkw\u001B[0m\u001B[1;33m,\u001B[0m \u001B[0msig\u001B[0m\u001B[1;33m)\u001B[0m\u001B[1;33m\u001B[0m\u001B[1;33m\u001B[0m\u001B[0m\n\u001B[1;32m--> 232\u001B[1;33m             \u001B[1;32mreturn\u001B[0m \u001B[0mcaller\u001B[0m\u001B[1;33m(\u001B[0m\u001B[0mfunc\u001B[0m\u001B[1;33m,\u001B[0m \u001B[1;33m*\u001B[0m\u001B[1;33m(\u001B[0m\u001B[0mextras\u001B[0m \u001B[1;33m+\u001B[0m \u001B[0margs\u001B[0m\u001B[1;33m)\u001B[0m\u001B[1;33m,\u001B[0m \u001B[1;33m**\u001B[0m\u001B[0mkw\u001B[0m\u001B[1;33m)\u001B[0m\u001B[1;33m\u001B[0m\u001B[1;33m\u001B[0m\u001B[0m\n\u001B[0m\u001B[0;32m    233\u001B[0m     \u001B[0mfun\u001B[0m\u001B[1;33m.\u001B[0m\u001B[0m__name__\u001B[0m \u001B[1;33m=\u001B[0m \u001B[0mfunc\u001B[0m\u001B[1;33m.\u001B[0m\u001B[0m__name__\u001B[0m\u001B[1;33m\u001B[0m\u001B[1;33m\u001B[0m\u001B[0m\n\u001B[0;32m    234\u001B[0m     \u001B[0mfun\u001B[0m\u001B[1;33m.\u001B[0m\u001B[0m__doc__\u001B[0m \u001B[1;33m=\u001B[0m \u001B[0mfunc\u001B[0m\u001B[1;33m.\u001B[0m\u001B[0m__doc__\u001B[0m\u001B[1;33m\u001B[0m\u001B[1;33m\u001B[0m\u001B[0m\n",
      "\u001B[1;32mC:\\ProgramData\\Anaconda3\\envs\\py36\\lib\\site-packages\\IPython\\core\\magic.py\u001B[0m in \u001B[0;36m<lambda>\u001B[1;34m(f, *a, **k)\u001B[0m\n\u001B[0;32m    185\u001B[0m     \u001B[1;31m# but it's overkill for just that one bit of state.\u001B[0m\u001B[1;33m\u001B[0m\u001B[1;33m\u001B[0m\u001B[1;33m\u001B[0m\u001B[0m\n\u001B[0;32m    186\u001B[0m     \u001B[1;32mdef\u001B[0m \u001B[0mmagic_deco\u001B[0m\u001B[1;33m(\u001B[0m\u001B[0marg\u001B[0m\u001B[1;33m)\u001B[0m\u001B[1;33m:\u001B[0m\u001B[1;33m\u001B[0m\u001B[1;33m\u001B[0m\u001B[0m\n\u001B[1;32m--> 187\u001B[1;33m         \u001B[0mcall\u001B[0m \u001B[1;33m=\u001B[0m \u001B[1;32mlambda\u001B[0m \u001B[0mf\u001B[0m\u001B[1;33m,\u001B[0m \u001B[1;33m*\u001B[0m\u001B[0ma\u001B[0m\u001B[1;33m,\u001B[0m \u001B[1;33m**\u001B[0m\u001B[0mk\u001B[0m\u001B[1;33m:\u001B[0m \u001B[0mf\u001B[0m\u001B[1;33m(\u001B[0m\u001B[1;33m*\u001B[0m\u001B[0ma\u001B[0m\u001B[1;33m,\u001B[0m \u001B[1;33m**\u001B[0m\u001B[0mk\u001B[0m\u001B[1;33m)\u001B[0m\u001B[1;33m\u001B[0m\u001B[1;33m\u001B[0m\u001B[0m\n\u001B[0m\u001B[0;32m    188\u001B[0m \u001B[1;33m\u001B[0m\u001B[0m\n\u001B[0;32m    189\u001B[0m         \u001B[1;32mif\u001B[0m \u001B[0mcallable\u001B[0m\u001B[1;33m(\u001B[0m\u001B[0marg\u001B[0m\u001B[1;33m)\u001B[0m\u001B[1;33m:\u001B[0m\u001B[1;33m\u001B[0m\u001B[1;33m\u001B[0m\u001B[0m\n",
      "\u001B[1;32mC:\\ProgramData\\Anaconda3\\envs\\py36\\lib\\site-packages\\rpy2\\ipython\\rmagic.py\u001B[0m in \u001B[0;36mR\u001B[1;34m(self, line, cell, local_ns)\u001B[0m\n\u001B[0;32m    740\u001B[0m             \u001B[1;32mwith\u001B[0m \u001B[0mlocalconverter\u001B[0m\u001B[1;33m(\u001B[0m\u001B[0mconverter\u001B[0m\u001B[1;33m)\u001B[0m \u001B[1;32mas\u001B[0m \u001B[0mcv\u001B[0m\u001B[1;33m:\u001B[0m\u001B[1;33m\u001B[0m\u001B[1;33m\u001B[0m\u001B[0m\n\u001B[0;32m    741\u001B[0m                 \u001B[1;32mfor\u001B[0m \u001B[0moutput\u001B[0m \u001B[1;32min\u001B[0m \u001B[1;34m','\u001B[0m\u001B[1;33m.\u001B[0m\u001B[0mjoin\u001B[0m\u001B[1;33m(\u001B[0m\u001B[0margs\u001B[0m\u001B[1;33m.\u001B[0m\u001B[0moutput\u001B[0m\u001B[1;33m)\u001B[0m\u001B[1;33m.\u001B[0m\u001B[0msplit\u001B[0m\u001B[1;33m(\u001B[0m\u001B[1;34m','\u001B[0m\u001B[1;33m)\u001B[0m\u001B[1;33m:\u001B[0m\u001B[1;33m\u001B[0m\u001B[1;33m\u001B[0m\u001B[0m\n\u001B[1;32m--> 742\u001B[1;33m                     \u001B[0moutput_ipy\u001B[0m \u001B[1;33m=\u001B[0m \u001B[0mro\u001B[0m\u001B[1;33m.\u001B[0m\u001B[0mglobalenv\u001B[0m\u001B[1;33m.\u001B[0m\u001B[0mget\u001B[0m\u001B[1;33m(\u001B[0m\u001B[0moutput\u001B[0m\u001B[1;33m)\u001B[0m\u001B[1;33m\u001B[0m\u001B[1;33m\u001B[0m\u001B[0m\n\u001B[0m\u001B[0;32m    743\u001B[0m                     \u001B[0mself\u001B[0m\u001B[1;33m.\u001B[0m\u001B[0mshell\u001B[0m\u001B[1;33m.\u001B[0m\u001B[0mpush\u001B[0m\u001B[1;33m(\u001B[0m\u001B[1;33m{\u001B[0m\u001B[0moutput\u001B[0m\u001B[1;33m:\u001B[0m \u001B[0moutput_ipy\u001B[0m \u001B[1;33m}\u001B[0m\u001B[1;33m)\u001B[0m\u001B[1;33m\u001B[0m\u001B[1;33m\u001B[0m\u001B[0m\n\u001B[0;32m    744\u001B[0m \u001B[1;33m\u001B[0m\u001B[0m\n",
      "\u001B[1;32mC:\\ProgramData\\Anaconda3\\envs\\py36\\lib\\site-packages\\rpy2\\robjects\\environments.py\u001B[0m in \u001B[0;36mget\u001B[1;34m(self, item, wantfun)\u001B[0m\n\u001B[0;32m     38\u001B[0m         \"\"\"\n\u001B[0;32m     39\u001B[0m         \u001B[0mres\u001B[0m \u001B[1;33m=\u001B[0m \u001B[0msuper\u001B[0m\u001B[1;33m(\u001B[0m\u001B[0mEnvironment\u001B[0m\u001B[1;33m,\u001B[0m \u001B[0mself\u001B[0m\u001B[1;33m)\u001B[0m\u001B[1;33m.\u001B[0m\u001B[0mget\u001B[0m\u001B[1;33m(\u001B[0m\u001B[0mitem\u001B[0m\u001B[1;33m,\u001B[0m \u001B[0mwantfun\u001B[0m \u001B[1;33m=\u001B[0m \u001B[0mwantfun\u001B[0m\u001B[1;33m)\u001B[0m\u001B[1;33m\u001B[0m\u001B[1;33m\u001B[0m\u001B[0m\n\u001B[1;32m---> 40\u001B[1;33m         \u001B[0mres\u001B[0m \u001B[1;33m=\u001B[0m \u001B[0mconversion\u001B[0m\u001B[1;33m.\u001B[0m\u001B[0mconverter\u001B[0m\u001B[1;33m.\u001B[0m\u001B[0mri2ro\u001B[0m\u001B[1;33m(\u001B[0m\u001B[0mres\u001B[0m\u001B[1;33m)\u001B[0m\u001B[1;33m\u001B[0m\u001B[1;33m\u001B[0m\u001B[0m\n\u001B[0m\u001B[0;32m     41\u001B[0m         \u001B[0mres\u001B[0m\u001B[1;33m.\u001B[0m\u001B[0m__rname__\u001B[0m \u001B[1;33m=\u001B[0m \u001B[0mitem\u001B[0m\u001B[1;33m\u001B[0m\u001B[1;33m\u001B[0m\u001B[0m\n\u001B[0;32m     42\u001B[0m         \u001B[1;32mreturn\u001B[0m \u001B[0mres\u001B[0m\u001B[1;33m\u001B[0m\u001B[1;33m\u001B[0m\u001B[0m\n",
      "\u001B[1;32mC:\\ProgramData\\Anaconda3\\envs\\py36\\lib\\functools.py\u001B[0m in \u001B[0;36mwrapper\u001B[1;34m(*args, **kw)\u001B[0m\n\u001B[0;32m    805\u001B[0m                             '1 positional argument')\n\u001B[0;32m    806\u001B[0m \u001B[1;33m\u001B[0m\u001B[0m\n\u001B[1;32m--> 807\u001B[1;33m         \u001B[1;32mreturn\u001B[0m \u001B[0mdispatch\u001B[0m\u001B[1;33m(\u001B[0m\u001B[0margs\u001B[0m\u001B[1;33m[\u001B[0m\u001B[1;36m0\u001B[0m\u001B[1;33m]\u001B[0m\u001B[1;33m.\u001B[0m\u001B[0m__class__\u001B[0m\u001B[1;33m)\u001B[0m\u001B[1;33m(\u001B[0m\u001B[1;33m*\u001B[0m\u001B[0margs\u001B[0m\u001B[1;33m,\u001B[0m \u001B[1;33m**\u001B[0m\u001B[0mkw\u001B[0m\u001B[1;33m)\u001B[0m\u001B[1;33m\u001B[0m\u001B[1;33m\u001B[0m\u001B[0m\n\u001B[0m\u001B[0;32m    808\u001B[0m \u001B[1;33m\u001B[0m\u001B[0m\n\u001B[0;32m    809\u001B[0m     \u001B[0mfuncname\u001B[0m \u001B[1;33m=\u001B[0m \u001B[0mgetattr\u001B[0m\u001B[1;33m(\u001B[0m\u001B[0mfunc\u001B[0m\u001B[1;33m,\u001B[0m \u001B[1;34m'__name__'\u001B[0m\u001B[1;33m,\u001B[0m \u001B[1;34m'singledispatch function'\u001B[0m\u001B[1;33m)\u001B[0m\u001B[1;33m\u001B[0m\u001B[1;33m\u001B[0m\u001B[0m\n",
      "\u001B[1;32mC:\\ProgramData\\Anaconda3\\envs\\py36\\lib\\site-packages\\rpy2\\ipython\\rmagic.py\u001B[0m in \u001B[0;36m_\u001B[1;34m(obj)\u001B[0m\n\u001B[0;32m    147\u001B[0m     \u001B[1;32mif\u001B[0m \u001B[1;34m'data.frame'\u001B[0m \u001B[1;32min\u001B[0m \u001B[0mobj\u001B[0m\u001B[1;33m.\u001B[0m\u001B[0mrclass\u001B[0m\u001B[1;33m:\u001B[0m\u001B[1;33m\u001B[0m\u001B[1;33m\u001B[0m\u001B[0m\n\u001B[0;32m    148\u001B[0m         \u001B[1;31m# request to turn it to a pandas DataFrame\u001B[0m\u001B[1;33m\u001B[0m\u001B[1;33m\u001B[0m\u001B[1;33m\u001B[0m\u001B[0m\n\u001B[1;32m--> 149\u001B[1;33m         \u001B[0mres\u001B[0m \u001B[1;33m=\u001B[0m \u001B[0mconverter\u001B[0m\u001B[1;33m.\u001B[0m\u001B[0mri2py\u001B[0m\u001B[1;33m(\u001B[0m\u001B[0mobj\u001B[0m\u001B[1;33m)\u001B[0m\u001B[1;33m\u001B[0m\u001B[1;33m\u001B[0m\u001B[0m\n\u001B[0m\u001B[0;32m    150\u001B[0m     \u001B[1;32melse\u001B[0m\u001B[1;33m:\u001B[0m\u001B[1;33m\u001B[0m\u001B[1;33m\u001B[0m\u001B[0m\n\u001B[0;32m    151\u001B[0m         \u001B[0mres\u001B[0m \u001B[1;33m=\u001B[0m \u001B[0mro\u001B[0m\u001B[1;33m.\u001B[0m\u001B[0msexpvector_to_ro\u001B[0m\u001B[1;33m(\u001B[0m\u001B[0mobj\u001B[0m\u001B[1;33m)\u001B[0m\u001B[1;33m\u001B[0m\u001B[1;33m\u001B[0m\u001B[0m\n",
      "\u001B[1;32mC:\\ProgramData\\Anaconda3\\envs\\py36\\lib\\functools.py\u001B[0m in \u001B[0;36mwrapper\u001B[1;34m(*args, **kw)\u001B[0m\n\u001B[0;32m    805\u001B[0m                             '1 positional argument')\n\u001B[0;32m    806\u001B[0m \u001B[1;33m\u001B[0m\u001B[0m\n\u001B[1;32m--> 807\u001B[1;33m         \u001B[1;32mreturn\u001B[0m \u001B[0mdispatch\u001B[0m\u001B[1;33m(\u001B[0m\u001B[0margs\u001B[0m\u001B[1;33m[\u001B[0m\u001B[1;36m0\u001B[0m\u001B[1;33m]\u001B[0m\u001B[1;33m.\u001B[0m\u001B[0m__class__\u001B[0m\u001B[1;33m)\u001B[0m\u001B[1;33m(\u001B[0m\u001B[1;33m*\u001B[0m\u001B[0margs\u001B[0m\u001B[1;33m,\u001B[0m \u001B[1;33m**\u001B[0m\u001B[0mkw\u001B[0m\u001B[1;33m)\u001B[0m\u001B[1;33m\u001B[0m\u001B[1;33m\u001B[0m\u001B[0m\n\u001B[0m\u001B[0;32m    808\u001B[0m \u001B[1;33m\u001B[0m\u001B[0m\n\u001B[0;32m    809\u001B[0m     \u001B[0mfuncname\u001B[0m \u001B[1;33m=\u001B[0m \u001B[0mgetattr\u001B[0m\u001B[1;33m(\u001B[0m\u001B[0mfunc\u001B[0m\u001B[1;33m,\u001B[0m \u001B[1;34m'__name__'\u001B[0m\u001B[1;33m,\u001B[0m \u001B[1;34m'singledispatch function'\u001B[0m\u001B[1;33m)\u001B[0m\u001B[1;33m\u001B[0m\u001B[1;33m\u001B[0m\u001B[0m\n",
      "\u001B[1;32mC:\\ProgramData\\Anaconda3\\envs\\py36\\lib\\site-packages\\rpy2\\robjects\\pandas2ri.py\u001B[0m in \u001B[0;36mri2py_listvector\u001B[1;34m(obj)\u001B[0m\n\u001B[0;32m    181\u001B[0m \u001B[1;32mdef\u001B[0m \u001B[0mri2py_listvector\u001B[0m\u001B[1;33m(\u001B[0m\u001B[0mobj\u001B[0m\u001B[1;33m)\u001B[0m\u001B[1;33m:\u001B[0m\u001B[1;33m\u001B[0m\u001B[1;33m\u001B[0m\u001B[0m\n\u001B[0;32m    182\u001B[0m     \u001B[1;32mif\u001B[0m \u001B[1;34m'data.frame'\u001B[0m \u001B[1;32min\u001B[0m \u001B[0mobj\u001B[0m\u001B[1;33m.\u001B[0m\u001B[0mrclass\u001B[0m\u001B[1;33m:\u001B[0m\u001B[1;33m\u001B[0m\u001B[1;33m\u001B[0m\u001B[0m\n\u001B[1;32m--> 183\u001B[1;33m         \u001B[0mres\u001B[0m \u001B[1;33m=\u001B[0m \u001B[0mri2py\u001B[0m\u001B[1;33m(\u001B[0m\u001B[0mDataFrame\u001B[0m\u001B[1;33m(\u001B[0m\u001B[0mobj\u001B[0m\u001B[1;33m)\u001B[0m\u001B[1;33m)\u001B[0m\u001B[1;33m\u001B[0m\u001B[1;33m\u001B[0m\u001B[0m\n\u001B[0m\u001B[0;32m    184\u001B[0m     \u001B[1;32melse\u001B[0m\u001B[1;33m:\u001B[0m\u001B[1;33m\u001B[0m\u001B[1;33m\u001B[0m\u001B[0m\n\u001B[0;32m    185\u001B[0m         \u001B[0mres\u001B[0m \u001B[1;33m=\u001B[0m \u001B[0mnumpy2ri\u001B[0m\u001B[1;33m.\u001B[0m\u001B[0mri2py\u001B[0m\u001B[1;33m(\u001B[0m\u001B[0mobj\u001B[0m\u001B[1;33m)\u001B[0m\u001B[1;33m\u001B[0m\u001B[1;33m\u001B[0m\u001B[0m\n",
      "\u001B[1;32mC:\\ProgramData\\Anaconda3\\envs\\py36\\lib\\functools.py\u001B[0m in \u001B[0;36mwrapper\u001B[1;34m(*args, **kw)\u001B[0m\n\u001B[0;32m    805\u001B[0m                             '1 positional argument')\n\u001B[0;32m    806\u001B[0m \u001B[1;33m\u001B[0m\u001B[0m\n\u001B[1;32m--> 807\u001B[1;33m         \u001B[1;32mreturn\u001B[0m \u001B[0mdispatch\u001B[0m\u001B[1;33m(\u001B[0m\u001B[0margs\u001B[0m\u001B[1;33m[\u001B[0m\u001B[1;36m0\u001B[0m\u001B[1;33m]\u001B[0m\u001B[1;33m.\u001B[0m\u001B[0m__class__\u001B[0m\u001B[1;33m)\u001B[0m\u001B[1;33m(\u001B[0m\u001B[1;33m*\u001B[0m\u001B[0margs\u001B[0m\u001B[1;33m,\u001B[0m \u001B[1;33m**\u001B[0m\u001B[0mkw\u001B[0m\u001B[1;33m)\u001B[0m\u001B[1;33m\u001B[0m\u001B[1;33m\u001B[0m\u001B[0m\n\u001B[0m\u001B[0;32m    808\u001B[0m \u001B[1;33m\u001B[0m\u001B[0m\n\u001B[0;32m    809\u001B[0m     \u001B[0mfuncname\u001B[0m \u001B[1;33m=\u001B[0m \u001B[0mgetattr\u001B[0m\u001B[1;33m(\u001B[0m\u001B[0mfunc\u001B[0m\u001B[1;33m,\u001B[0m \u001B[1;34m'__name__'\u001B[0m\u001B[1;33m,\u001B[0m \u001B[1;34m'singledispatch function'\u001B[0m\u001B[1;33m)\u001B[0m\u001B[1;33m\u001B[0m\u001B[1;33m\u001B[0m\u001B[0m\n",
      "\u001B[1;32mC:\\ProgramData\\Anaconda3\\envs\\py36\\lib\\site-packages\\rpy2\\robjects\\pandas2ri.py\u001B[0m in \u001B[0;36mri2py_dataframe\u001B[1;34m(obj)\u001B[0m\n\u001B[0;32m    188\u001B[0m \u001B[1;33m@\u001B[0m\u001B[0mri2py\u001B[0m\u001B[1;33m.\u001B[0m\u001B[0mregister\u001B[0m\u001B[1;33m(\u001B[0m\u001B[0mDataFrame\u001B[0m\u001B[1;33m)\u001B[0m\u001B[1;33m\u001B[0m\u001B[1;33m\u001B[0m\u001B[0m\n\u001B[0;32m    189\u001B[0m \u001B[1;32mdef\u001B[0m \u001B[0mri2py_dataframe\u001B[0m\u001B[1;33m(\u001B[0m\u001B[0mobj\u001B[0m\u001B[1;33m)\u001B[0m\u001B[1;33m:\u001B[0m\u001B[1;33m\u001B[0m\u001B[1;33m\u001B[0m\u001B[0m\n\u001B[1;32m--> 190\u001B[1;33m     \u001B[0mitems\u001B[0m \u001B[1;33m=\u001B[0m \u001B[0mtuple\u001B[0m\u001B[1;33m(\u001B[0m\u001B[1;33m(\u001B[0m\u001B[0mk\u001B[0m\u001B[1;33m,\u001B[0m \u001B[0mri2py\u001B[0m\u001B[1;33m(\u001B[0m\u001B[0mv\u001B[0m\u001B[1;33m)\u001B[0m\u001B[1;33m)\u001B[0m \u001B[1;32mfor\u001B[0m \u001B[0mk\u001B[0m\u001B[1;33m,\u001B[0m \u001B[0mv\u001B[0m \u001B[1;32min\u001B[0m \u001B[0mobj\u001B[0m\u001B[1;33m.\u001B[0m\u001B[0mitems\u001B[0m\u001B[1;33m(\u001B[0m\u001B[1;33m)\u001B[0m\u001B[1;33m)\u001B[0m\u001B[1;33m\u001B[0m\u001B[1;33m\u001B[0m\u001B[0m\n\u001B[0m\u001B[0;32m    191\u001B[0m     \u001B[0mres\u001B[0m \u001B[1;33m=\u001B[0m \u001B[0mPandasDataFrame\u001B[0m\u001B[1;33m.\u001B[0m\u001B[0mfrom_items\u001B[0m\u001B[1;33m(\u001B[0m\u001B[0mitems\u001B[0m\u001B[1;33m)\u001B[0m\u001B[1;33m\u001B[0m\u001B[1;33m\u001B[0m\u001B[0m\n\u001B[0;32m    192\u001B[0m     \u001B[1;32mreturn\u001B[0m \u001B[0mres\u001B[0m\u001B[1;33m\u001B[0m\u001B[1;33m\u001B[0m\u001B[0m\n",
      "\u001B[1;32mC:\\ProgramData\\Anaconda3\\envs\\py36\\lib\\site-packages\\rpy2\\robjects\\pandas2ri.py\u001B[0m in \u001B[0;36m<genexpr>\u001B[1;34m(.0)\u001B[0m\n\u001B[0;32m    188\u001B[0m \u001B[1;33m@\u001B[0m\u001B[0mri2py\u001B[0m\u001B[1;33m.\u001B[0m\u001B[0mregister\u001B[0m\u001B[1;33m(\u001B[0m\u001B[0mDataFrame\u001B[0m\u001B[1;33m)\u001B[0m\u001B[1;33m\u001B[0m\u001B[1;33m\u001B[0m\u001B[0m\n\u001B[0;32m    189\u001B[0m \u001B[1;32mdef\u001B[0m \u001B[0mri2py_dataframe\u001B[0m\u001B[1;33m(\u001B[0m\u001B[0mobj\u001B[0m\u001B[1;33m)\u001B[0m\u001B[1;33m:\u001B[0m\u001B[1;33m\u001B[0m\u001B[1;33m\u001B[0m\u001B[0m\n\u001B[1;32m--> 190\u001B[1;33m     \u001B[0mitems\u001B[0m \u001B[1;33m=\u001B[0m \u001B[0mtuple\u001B[0m\u001B[1;33m(\u001B[0m\u001B[1;33m(\u001B[0m\u001B[0mk\u001B[0m\u001B[1;33m,\u001B[0m \u001B[0mri2py\u001B[0m\u001B[1;33m(\u001B[0m\u001B[0mv\u001B[0m\u001B[1;33m)\u001B[0m\u001B[1;33m)\u001B[0m \u001B[1;32mfor\u001B[0m \u001B[0mk\u001B[0m\u001B[1;33m,\u001B[0m \u001B[0mv\u001B[0m \u001B[1;32min\u001B[0m \u001B[0mobj\u001B[0m\u001B[1;33m.\u001B[0m\u001B[0mitems\u001B[0m\u001B[1;33m(\u001B[0m\u001B[1;33m)\u001B[0m\u001B[1;33m)\u001B[0m\u001B[1;33m\u001B[0m\u001B[1;33m\u001B[0m\u001B[0m\n\u001B[0m\u001B[0;32m    191\u001B[0m     \u001B[0mres\u001B[0m \u001B[1;33m=\u001B[0m \u001B[0mPandasDataFrame\u001B[0m\u001B[1;33m.\u001B[0m\u001B[0mfrom_items\u001B[0m\u001B[1;33m(\u001B[0m\u001B[0mitems\u001B[0m\u001B[1;33m)\u001B[0m\u001B[1;33m\u001B[0m\u001B[1;33m\u001B[0m\u001B[0m\n\u001B[0;32m    192\u001B[0m     \u001B[1;32mreturn\u001B[0m \u001B[0mres\u001B[0m\u001B[1;33m\u001B[0m\u001B[1;33m\u001B[0m\u001B[0m\n",
      "\u001B[1;32mC:\\ProgramData\\Anaconda3\\envs\\py36\\lib\\functools.py\u001B[0m in \u001B[0;36mwrapper\u001B[1;34m(*args, **kw)\u001B[0m\n\u001B[0;32m    805\u001B[0m                             '1 positional argument')\n\u001B[0;32m    806\u001B[0m \u001B[1;33m\u001B[0m\u001B[0m\n\u001B[1;32m--> 807\u001B[1;33m         \u001B[1;32mreturn\u001B[0m \u001B[0mdispatch\u001B[0m\u001B[1;33m(\u001B[0m\u001B[0margs\u001B[0m\u001B[1;33m[\u001B[0m\u001B[1;36m0\u001B[0m\u001B[1;33m]\u001B[0m\u001B[1;33m.\u001B[0m\u001B[0m__class__\u001B[0m\u001B[1;33m)\u001B[0m\u001B[1;33m(\u001B[0m\u001B[1;33m*\u001B[0m\u001B[0margs\u001B[0m\u001B[1;33m,\u001B[0m \u001B[1;33m**\u001B[0m\u001B[0mkw\u001B[0m\u001B[1;33m)\u001B[0m\u001B[1;33m\u001B[0m\u001B[1;33m\u001B[0m\u001B[0m\n\u001B[0m\u001B[0;32m    808\u001B[0m \u001B[1;33m\u001B[0m\u001B[0m\n\u001B[0;32m    809\u001B[0m     \u001B[0mfuncname\u001B[0m \u001B[1;33m=\u001B[0m \u001B[0mgetattr\u001B[0m\u001B[1;33m(\u001B[0m\u001B[0mfunc\u001B[0m\u001B[1;33m,\u001B[0m \u001B[1;34m'__name__'\u001B[0m\u001B[1;33m,\u001B[0m \u001B[1;34m'singledispatch function'\u001B[0m\u001B[1;33m)\u001B[0m\u001B[1;33m\u001B[0m\u001B[1;33m\u001B[0m\u001B[0m\n",
      "\u001B[1;32mC:\\ProgramData\\Anaconda3\\envs\\py36\\lib\\site-packages\\rpy2\\robjects\\pandas2ri.py\u001B[0m in \u001B[0;36mri2py_intvector\u001B[1;34m(obj)\u001B[0m\n\u001B[0;32m    146\u001B[0m         res = pandas.Categorical.from_codes(numpy.asarray(obj) - 1,\n\u001B[0;32m    147\u001B[0m                                             \u001B[0mcategories\u001B[0m \u001B[1;33m=\u001B[0m \u001B[0mobj\u001B[0m\u001B[1;33m.\u001B[0m\u001B[0mdo_slot\u001B[0m\u001B[1;33m(\u001B[0m\u001B[1;34m'levels'\u001B[0m\u001B[1;33m)\u001B[0m\u001B[1;33m,\u001B[0m\u001B[1;33m\u001B[0m\u001B[1;33m\u001B[0m\u001B[0m\n\u001B[1;32m--> 148\u001B[1;33m                                             ordered = 'ordered' in obj.rclass)\n\u001B[0m\u001B[0;32m    149\u001B[0m     \u001B[1;32melse\u001B[0m\u001B[1;33m:\u001B[0m\u001B[1;33m\u001B[0m\u001B[1;33m\u001B[0m\u001B[0m\n\u001B[0;32m    150\u001B[0m         \u001B[0mres\u001B[0m \u001B[1;33m=\u001B[0m \u001B[0mnumpy2ri\u001B[0m\u001B[1;33m.\u001B[0m\u001B[0mri2py\u001B[0m\u001B[1;33m(\u001B[0m\u001B[0mobj\u001B[0m\u001B[1;33m)\u001B[0m\u001B[1;33m\u001B[0m\u001B[1;33m\u001B[0m\u001B[0m\n",
      "\u001B[1;32mC:\\ProgramData\\Anaconda3\\envs\\py36\\lib\\site-packages\\pandas\\core\\arrays\\categorical.py\u001B[0m in \u001B[0;36mfrom_codes\u001B[1;34m(cls, codes, categories, ordered, dtype)\u001B[0m\n\u001B[0;32m    605\u001B[0m         \"\"\"\n\u001B[0;32m    606\u001B[0m         dtype = CategoricalDtype._from_values_or_dtype(\n\u001B[1;32m--> 607\u001B[1;33m             \u001B[0mcategories\u001B[0m\u001B[1;33m=\u001B[0m\u001B[0mcategories\u001B[0m\u001B[1;33m,\u001B[0m \u001B[0mordered\u001B[0m\u001B[1;33m=\u001B[0m\u001B[0mordered\u001B[0m\u001B[1;33m,\u001B[0m \u001B[0mdtype\u001B[0m\u001B[1;33m=\u001B[0m\u001B[0mdtype\u001B[0m\u001B[1;33m\u001B[0m\u001B[1;33m\u001B[0m\u001B[0m\n\u001B[0m\u001B[0;32m    608\u001B[0m         )\n\u001B[0;32m    609\u001B[0m         \u001B[1;32mif\u001B[0m \u001B[0mdtype\u001B[0m\u001B[1;33m.\u001B[0m\u001B[0mcategories\u001B[0m \u001B[1;32mis\u001B[0m \u001B[1;32mNone\u001B[0m\u001B[1;33m:\u001B[0m\u001B[1;33m\u001B[0m\u001B[1;33m\u001B[0m\u001B[0m\n",
      "\u001B[1;32mC:\\ProgramData\\Anaconda3\\envs\\py36\\lib\\site-packages\\pandas\\core\\dtypes\\dtypes.py\u001B[0m in \u001B[0;36m_from_values_or_dtype\u001B[1;34m(cls, values, categories, ordered, dtype)\u001B[0m\n\u001B[0;32m    275\u001B[0m             \u001B[1;31m# Note: This could potentially have categories=None and\u001B[0m\u001B[1;33m\u001B[0m\u001B[1;33m\u001B[0m\u001B[1;33m\u001B[0m\u001B[0m\n\u001B[0;32m    276\u001B[0m             \u001B[1;31m# ordered=None.\u001B[0m\u001B[1;33m\u001B[0m\u001B[1;33m\u001B[0m\u001B[1;33m\u001B[0m\u001B[0m\n\u001B[1;32m--> 277\u001B[1;33m             \u001B[0mdtype\u001B[0m \u001B[1;33m=\u001B[0m \u001B[0mCategoricalDtype\u001B[0m\u001B[1;33m(\u001B[0m\u001B[0mcategories\u001B[0m\u001B[1;33m,\u001B[0m \u001B[0mordered\u001B[0m\u001B[1;33m)\u001B[0m\u001B[1;33m\u001B[0m\u001B[1;33m\u001B[0m\u001B[0m\n\u001B[0m\u001B[0;32m    278\u001B[0m \u001B[1;33m\u001B[0m\u001B[0m\n\u001B[0;32m    279\u001B[0m         \u001B[1;32mreturn\u001B[0m \u001B[0mdtype\u001B[0m\u001B[1;33m\u001B[0m\u001B[1;33m\u001B[0m\u001B[0m\n",
      "\u001B[1;32mC:\\ProgramData\\Anaconda3\\envs\\py36\\lib\\site-packages\\pandas\\core\\dtypes\\dtypes.py\u001B[0m in \u001B[0;36m__init__\u001B[1;34m(self, categories, ordered)\u001B[0m\n\u001B[0;32m    162\u001B[0m \u001B[1;33m\u001B[0m\u001B[0m\n\u001B[0;32m    163\u001B[0m     \u001B[1;32mdef\u001B[0m \u001B[0m__init__\u001B[0m\u001B[1;33m(\u001B[0m\u001B[0mself\u001B[0m\u001B[1;33m,\u001B[0m \u001B[0mcategories\u001B[0m\u001B[1;33m=\u001B[0m\u001B[1;32mNone\u001B[0m\u001B[1;33m,\u001B[0m \u001B[0mordered\u001B[0m\u001B[1;33m:\u001B[0m \u001B[0mOrdered\u001B[0m \u001B[1;33m=\u001B[0m \u001B[1;32mFalse\u001B[0m\u001B[1;33m)\u001B[0m\u001B[1;33m:\u001B[0m\u001B[1;33m\u001B[0m\u001B[1;33m\u001B[0m\u001B[0m\n\u001B[1;32m--> 164\u001B[1;33m         \u001B[0mself\u001B[0m\u001B[1;33m.\u001B[0m\u001B[0m_finalize\u001B[0m\u001B[1;33m(\u001B[0m\u001B[0mcategories\u001B[0m\u001B[1;33m,\u001B[0m \u001B[0mordered\u001B[0m\u001B[1;33m,\u001B[0m \u001B[0mfastpath\u001B[0m\u001B[1;33m=\u001B[0m\u001B[1;32mFalse\u001B[0m\u001B[1;33m)\u001B[0m\u001B[1;33m\u001B[0m\u001B[1;33m\u001B[0m\u001B[0m\n\u001B[0m\u001B[0;32m    165\u001B[0m \u001B[1;33m\u001B[0m\u001B[0m\n\u001B[0;32m    166\u001B[0m     \u001B[1;33m@\u001B[0m\u001B[0mclassmethod\u001B[0m\u001B[1;33m\u001B[0m\u001B[1;33m\u001B[0m\u001B[0m\n",
      "\u001B[1;32mC:\\ProgramData\\Anaconda3\\envs\\py36\\lib\\site-packages\\pandas\\core\\dtypes\\dtypes.py\u001B[0m in \u001B[0;36m_finalize\u001B[1;34m(self, categories, ordered, fastpath)\u001B[0m\n\u001B[0;32m    316\u001B[0m \u001B[1;33m\u001B[0m\u001B[0m\n\u001B[0;32m    317\u001B[0m         \u001B[1;32mif\u001B[0m \u001B[0mcategories\u001B[0m \u001B[1;32mis\u001B[0m \u001B[1;32mnot\u001B[0m \u001B[1;32mNone\u001B[0m\u001B[1;33m:\u001B[0m\u001B[1;33m\u001B[0m\u001B[1;33m\u001B[0m\u001B[0m\n\u001B[1;32m--> 318\u001B[1;33m             \u001B[0mcategories\u001B[0m \u001B[1;33m=\u001B[0m \u001B[0mself\u001B[0m\u001B[1;33m.\u001B[0m\u001B[0mvalidate_categories\u001B[0m\u001B[1;33m(\u001B[0m\u001B[0mcategories\u001B[0m\u001B[1;33m,\u001B[0m \u001B[0mfastpath\u001B[0m\u001B[1;33m=\u001B[0m\u001B[0mfastpath\u001B[0m\u001B[1;33m)\u001B[0m\u001B[1;33m\u001B[0m\u001B[1;33m\u001B[0m\u001B[0m\n\u001B[0m\u001B[0;32m    319\u001B[0m \u001B[1;33m\u001B[0m\u001B[0m\n\u001B[0;32m    320\u001B[0m         \u001B[0mself\u001B[0m\u001B[1;33m.\u001B[0m\u001B[0m_categories\u001B[0m \u001B[1;33m=\u001B[0m \u001B[0mcategories\u001B[0m\u001B[1;33m\u001B[0m\u001B[1;33m\u001B[0m\u001B[0m\n",
      "\u001B[1;32mC:\\ProgramData\\Anaconda3\\envs\\py36\\lib\\site-packages\\pandas\\core\\dtypes\\dtypes.py\u001B[0m in \u001B[0;36mvalidate_categories\u001B[1;34m(categories, fastpath)\u001B[0m\n\u001B[0;32m    482\u001B[0m         \u001B[1;32mif\u001B[0m \u001B[1;32mnot\u001B[0m \u001B[0mfastpath\u001B[0m \u001B[1;32mand\u001B[0m \u001B[1;32mnot\u001B[0m \u001B[0mis_list_like\u001B[0m\u001B[1;33m(\u001B[0m\u001B[0mcategories\u001B[0m\u001B[1;33m)\u001B[0m\u001B[1;33m:\u001B[0m\u001B[1;33m\u001B[0m\u001B[1;33m\u001B[0m\u001B[0m\n\u001B[0;32m    483\u001B[0m             raise TypeError(\n\u001B[1;32m--> 484\u001B[1;33m                 \u001B[1;34mf\"Parameter 'categories' must be list-like, was {repr(categories)}\"\u001B[0m\u001B[1;33m\u001B[0m\u001B[1;33m\u001B[0m\u001B[0m\n\u001B[0m\u001B[0;32m    485\u001B[0m             )\n\u001B[0;32m    486\u001B[0m         \u001B[1;32melif\u001B[0m \u001B[1;32mnot\u001B[0m \u001B[0misinstance\u001B[0m\u001B[1;33m(\u001B[0m\u001B[0mcategories\u001B[0m\u001B[1;33m,\u001B[0m \u001B[0mABCIndexClass\u001B[0m\u001B[1;33m)\u001B[0m\u001B[1;33m:\u001B[0m\u001B[1;33m\u001B[0m\u001B[1;33m\u001B[0m\u001B[0m\n",
      "\u001B[1;31mTypeError\u001B[0m: Parameter 'categories' must be list-like, was <rpy2.rinterface.StrSexpVector - Python:0x00000248B092CF18 / R:0x000002482A4B0048>"
     ]
    }
   ],
   "source": [
    "%R -o data\n",
    "data = iris"
   ],
   "metadata": {
    "collapsed": false
   }
  },
  {
   "cell_type": "code",
   "execution_count": 7,
   "outputs": [],
   "source": [
    "import rpy2.rinterface"
   ],
   "metadata": {
    "collapsed": false
   }
  },
  {
   "cell_type": "code",
   "execution_count": 1,
   "outputs": [
    {
     "name": "stderr",
     "output_type": "stream",
     "text": [
      "C:\\ProgramData\\Anaconda3\\envs\\py36\\lib\\site-packages\\rpy2\\robjects\\pandas2ri.py:17: FutureWarning: pandas.core.index is deprecated and will be removed in a future version.  The public classes are available in the top-level namespace.\n",
      "  from pandas.core.index import Index as PandasIndex\n"
     ]
    }
   ],
   "source": [
    "%load_ext rpy2.ipython"
   ],
   "metadata": {
    "collapsed": false
   }
  },
  {
   "cell_type": "code",
   "execution_count": null,
   "outputs": [],
   "source": [
    "data = r('iris')\n",
    "data.head()"
   ],
   "metadata": {
    "collapsed": false
   }
  },
  {
   "cell_type": "code",
   "execution_count": null,
   "outputs": [],
   "source": [
    "from rpy2 import robjects\n",
    "r = robjects.r"
   ],
   "metadata": {
    "collapsed": false,
    "pycharm": {
     "is_executing": true
    }
   }
  },
  {
   "cell_type": "code",
   "execution_count": 31,
   "outputs": [
    {
     "name": "stdout",
     "output_type": "stream",
     "text": [
      "              precision    recall  f1-score   support\n",
      "\n",
      "           0       0.84      0.95      0.89     17267\n",
      "           1       0.74      0.44      0.55      5526\n",
      "\n",
      "    accuracy                           0.83     22793\n",
      "   macro avg       0.79      0.69      0.72     22793\n",
      "weighted avg       0.81      0.83      0.81     22793\n",
      "\n"
     ]
    }
   ],
   "source": [
    "#输出预测概率\n",
    "temp = test.copy()\n",
    "tem=temp.pop('income')\n",
    "pre = model.predict(temp)\n",
    "#预测标签（默认阈值0.5）\n",
    "# 生成预测标签\n",
    "pre_label = (pre>0.5).astype('int')\n",
    "#输出分类报告，Y的真实值，Y的预测标签\n",
    "# 模型评估（召回率），选择0.5为阈值\n",
    "from sklearn.metrics import classification_report # 用于分类报告\n",
    "print(classification_report(tem, pre_label))\n",
    "# precision 精确率；recall 召回率 ；f1-score 相当于精确率与召回率的平均"
   ],
   "metadata": {
    "collapsed": false
   }
  },
  {
   "cell_type": "code",
   "execution_count": 30,
   "outputs": [
    {
     "name": "stdout",
     "output_type": "stream",
     "text": [
      "Warning: Maximum number of iterations has been exceeded.\n",
      "         Current function value: 0.383370\n",
      "         Iterations: 35\n"
     ]
    },
    {
     "name": "stderr",
     "output_type": "stream",
     "text": [
      "C:\\Users\\fzh00\\AppData\\Roaming\\Python\\Python310\\site-packages\\statsmodels\\base\\model.py:604: ConvergenceWarning: Maximum Likelihood optimization failed to converge. Check mle_retvals\n",
      "  warnings.warn(\"Maximum Likelihood optimization failed to \"\n"
     ]
    },
    {
     "data": {
      "text/plain": "<class 'statsmodels.iolib.summary.Summary'>\n\"\"\"\n                           Logit Regression Results                           \n==============================================================================\nDep. Variable:                 income   No. Observations:                 9768\nModel:                          Logit   Df Residuals:                     9749\nMethod:                           MLE   Df Model:                           18\nDate:                Tue, 21 Mar 2023   Pseudo R-squ.:                  0.2999\nTime:                        13:09:01   Log-Likelihood:                -3744.8\nconverged:                      False   LL-Null:                       -5348.9\nCovariance Type:            nonrobust   LLR p-value:                     0.000\n=================================================================================\n                    coef    std err          z      P>|z|      [0.025      0.975]\n---------------------------------------------------------------------------------\nIntercept        -9.2991      0.291    -31.980      0.000      -9.869      -8.729\nage               0.0426      0.002     17.725      0.000       0.038       0.047\nfnlwgt         5.696e-07   2.86e-07      1.990      0.047    8.56e-09    1.13e-06\neducation_num     0.3302      0.013     24.973      0.000       0.304       0.356\nsex               1.1950      0.075     15.845      0.000       1.047       1.343\ncapital_gain      0.0003   1.85e-05     17.702      0.000       0.000       0.000\ncapital_loss      0.0007   5.98e-05     11.569      0.000       0.001       0.001\nhr_per_week       0.0298      0.003     11.673      0.000       0.025       0.035\ntype_1            0.1301      0.180      0.721      0.471      -0.224       0.484\ntype_2            0.4454      0.156      2.861      0.004       0.140       0.751\ntype_3            1.0141      0.208      4.886      0.000       0.607       1.421\ntype_4            0.3818      0.183      2.084      0.037       0.023       0.741\ntype_5           -0.3708      0.233     -1.593      0.111      -0.827       0.085\ntype_6            0.6808      0.203      3.349      0.001       0.282       1.079\ntype_7          -14.5452   9165.235     -0.002      0.999    -1.8e+04    1.79e+04\nrace_1           -0.4809      0.121     -3.970      0.000      -0.718      -0.243\nrace_2           -0.0407      0.159     -0.255      0.798      -0.353       0.271\nrace_3           -0.6442      0.355     -1.815      0.070      -1.340       0.052\nrace_4           -1.2103      0.519     -2.330      0.020      -2.228      -0.192\n=================================================================================\n\"\"\"",
      "text/html": "<table class=\"simpletable\">\n<caption>Logit Regression Results</caption>\n<tr>\n  <th>Dep. Variable:</th>        <td>income</td>      <th>  No. Observations:  </th>  <td>  9768</td> \n</tr>\n<tr>\n  <th>Model:</th>                 <td>Logit</td>      <th>  Df Residuals:      </th>  <td>  9749</td> \n</tr>\n<tr>\n  <th>Method:</th>                 <td>MLE</td>       <th>  Df Model:          </th>  <td>    18</td> \n</tr>\n<tr>\n  <th>Date:</th>            <td>Tue, 21 Mar 2023</td> <th>  Pseudo R-squ.:     </th>  <td>0.2999</td> \n</tr>\n<tr>\n  <th>Time:</th>                <td>13:09:01</td>     <th>  Log-Likelihood:    </th> <td> -3744.8</td>\n</tr>\n<tr>\n  <th>converged:</th>             <td>False</td>      <th>  LL-Null:           </th> <td> -5348.9</td>\n</tr>\n<tr>\n  <th>Covariance Type:</th>     <td>nonrobust</td>    <th>  LLR p-value:       </th>  <td> 0.000</td> \n</tr>\n</table>\n<table class=\"simpletable\">\n<tr>\n        <td></td>           <th>coef</th>     <th>std err</th>      <th>z</th>      <th>P>|z|</th>  <th>[0.025</th>    <th>0.975]</th>  \n</tr>\n<tr>\n  <th>Intercept</th>     <td>   -9.2991</td> <td>    0.291</td> <td>  -31.980</td> <td> 0.000</td> <td>   -9.869</td> <td>   -8.729</td>\n</tr>\n<tr>\n  <th>age</th>           <td>    0.0426</td> <td>    0.002</td> <td>   17.725</td> <td> 0.000</td> <td>    0.038</td> <td>    0.047</td>\n</tr>\n<tr>\n  <th>fnlwgt</th>        <td> 5.696e-07</td> <td> 2.86e-07</td> <td>    1.990</td> <td> 0.047</td> <td> 8.56e-09</td> <td> 1.13e-06</td>\n</tr>\n<tr>\n  <th>education_num</th> <td>    0.3302</td> <td>    0.013</td> <td>   24.973</td> <td> 0.000</td> <td>    0.304</td> <td>    0.356</td>\n</tr>\n<tr>\n  <th>sex</th>           <td>    1.1950</td> <td>    0.075</td> <td>   15.845</td> <td> 0.000</td> <td>    1.047</td> <td>    1.343</td>\n</tr>\n<tr>\n  <th>capital_gain</th>  <td>    0.0003</td> <td> 1.85e-05</td> <td>   17.702</td> <td> 0.000</td> <td>    0.000</td> <td>    0.000</td>\n</tr>\n<tr>\n  <th>capital_loss</th>  <td>    0.0007</td> <td> 5.98e-05</td> <td>   11.569</td> <td> 0.000</td> <td>    0.001</td> <td>    0.001</td>\n</tr>\n<tr>\n  <th>hr_per_week</th>   <td>    0.0298</td> <td>    0.003</td> <td>   11.673</td> <td> 0.000</td> <td>    0.025</td> <td>    0.035</td>\n</tr>\n<tr>\n  <th>type_1</th>        <td>    0.1301</td> <td>    0.180</td> <td>    0.721</td> <td> 0.471</td> <td>   -0.224</td> <td>    0.484</td>\n</tr>\n<tr>\n  <th>type_2</th>        <td>    0.4454</td> <td>    0.156</td> <td>    2.861</td> <td> 0.004</td> <td>    0.140</td> <td>    0.751</td>\n</tr>\n<tr>\n  <th>type_3</th>        <td>    1.0141</td> <td>    0.208</td> <td>    4.886</td> <td> 0.000</td> <td>    0.607</td> <td>    1.421</td>\n</tr>\n<tr>\n  <th>type_4</th>        <td>    0.3818</td> <td>    0.183</td> <td>    2.084</td> <td> 0.037</td> <td>    0.023</td> <td>    0.741</td>\n</tr>\n<tr>\n  <th>type_5</th>        <td>   -0.3708</td> <td>    0.233</td> <td>   -1.593</td> <td> 0.111</td> <td>   -0.827</td> <td>    0.085</td>\n</tr>\n<tr>\n  <th>type_6</th>        <td>    0.6808</td> <td>    0.203</td> <td>    3.349</td> <td> 0.001</td> <td>    0.282</td> <td>    1.079</td>\n</tr>\n<tr>\n  <th>type_7</th>        <td>  -14.5452</td> <td> 9165.235</td> <td>   -0.002</td> <td> 0.999</td> <td> -1.8e+04</td> <td> 1.79e+04</td>\n</tr>\n<tr>\n  <th>race_1</th>        <td>   -0.4809</td> <td>    0.121</td> <td>   -3.970</td> <td> 0.000</td> <td>   -0.718</td> <td>   -0.243</td>\n</tr>\n<tr>\n  <th>race_2</th>        <td>   -0.0407</td> <td>    0.159</td> <td>   -0.255</td> <td> 0.798</td> <td>   -0.353</td> <td>    0.271</td>\n</tr>\n<tr>\n  <th>race_3</th>        <td>   -0.6442</td> <td>    0.355</td> <td>   -1.815</td> <td> 0.070</td> <td>   -1.340</td> <td>    0.052</td>\n</tr>\n<tr>\n  <th>race_4</th>        <td>   -1.2103</td> <td>    0.519</td> <td>   -2.330</td> <td> 0.020</td> <td>   -2.228</td> <td>   -0.192</td>\n</tr>\n</table>"
     },
     "execution_count": 30,
     "metadata": {},
     "output_type": "execute_result"
    }
   ],
   "source": [
    "formula = 'income~age+fnlwgt+education_num+sex+capital_gain+capital_loss+hr_per_week+type_1+type_2+type_3+type_4+type_5+type_6+type_7+race_1+race_2+race_3+race_4'\n",
    "#实例化\n",
    "model = smf.logit(formula=formula, data=train)\n",
    "#拟合模型\n",
    "model = model.fit()\n",
    "#输出拟合结果\n",
    "model.summary()"
   ],
   "metadata": {
    "collapsed": false
   }
  },
  {
   "cell_type": "code",
   "execution_count": 22,
   "outputs": [
    {
     "data": {
      "text/plain": "       age  fnlwgt  education_num  sex  capital_gain  capital_loss  \\\n27487   58  215190              7    1             0             0   \n8959    27  123116              9    1             0             0   \n25278   46  441542             13    1             0             0   \n22438   28  197905              9    1             0             0   \n14415   64  134378             14    1             0             0   \n\n       hr_per_week  income  type_1  type_2  type_3  type_4  type_5  type_6  \\\n27487           20       0       0       1       0       0       0       0   \n8959            40       0       1       0       0       0       0       0   \n25278           40       0       0       0       0       1       0       0   \n22438           50       0       0       1       0       0       0       0   \n14415           50       1       0       1       0       0       0       0   \n\n       type_7  type_8  race_1  race_2  race_3  race_4  \n27487       0       0       0       0       0       0  \n8959        0       0       0       0       0       0  \n25278       0       0       1       0       0       0  \n22438       0       0       0       0       0       0  \n14415       0       0       0       0       0       0  ",
      "text/html": "<div>\n<style scoped>\n    .dataframe tbody tr th:only-of-type {\n        vertical-align: middle;\n    }\n\n    .dataframe tbody tr th {\n        vertical-align: top;\n    }\n\n    .dataframe thead th {\n        text-align: right;\n    }\n</style>\n<table border=\"1\" class=\"dataframe\">\n  <thead>\n    <tr style=\"text-align: right;\">\n      <th></th>\n      <th>age</th>\n      <th>fnlwgt</th>\n      <th>education_num</th>\n      <th>sex</th>\n      <th>capital_gain</th>\n      <th>capital_loss</th>\n      <th>hr_per_week</th>\n      <th>income</th>\n      <th>type_1</th>\n      <th>type_2</th>\n      <th>type_3</th>\n      <th>type_4</th>\n      <th>type_5</th>\n      <th>type_6</th>\n      <th>type_7</th>\n      <th>type_8</th>\n      <th>race_1</th>\n      <th>race_2</th>\n      <th>race_3</th>\n      <th>race_4</th>\n    </tr>\n  </thead>\n  <tbody>\n    <tr>\n      <th>27487</th>\n      <td>58</td>\n      <td>215190</td>\n      <td>7</td>\n      <td>1</td>\n      <td>0</td>\n      <td>0</td>\n      <td>20</td>\n      <td>0</td>\n      <td>0</td>\n      <td>1</td>\n      <td>0</td>\n      <td>0</td>\n      <td>0</td>\n      <td>0</td>\n      <td>0</td>\n      <td>0</td>\n      <td>0</td>\n      <td>0</td>\n      <td>0</td>\n      <td>0</td>\n    </tr>\n    <tr>\n      <th>8959</th>\n      <td>27</td>\n      <td>123116</td>\n      <td>9</td>\n      <td>1</td>\n      <td>0</td>\n      <td>0</td>\n      <td>40</td>\n      <td>0</td>\n      <td>1</td>\n      <td>0</td>\n      <td>0</td>\n      <td>0</td>\n      <td>0</td>\n      <td>0</td>\n      <td>0</td>\n      <td>0</td>\n      <td>0</td>\n      <td>0</td>\n      <td>0</td>\n      <td>0</td>\n    </tr>\n    <tr>\n      <th>25278</th>\n      <td>46</td>\n      <td>441542</td>\n      <td>13</td>\n      <td>1</td>\n      <td>0</td>\n      <td>0</td>\n      <td>40</td>\n      <td>0</td>\n      <td>0</td>\n      <td>0</td>\n      <td>0</td>\n      <td>1</td>\n      <td>0</td>\n      <td>0</td>\n      <td>0</td>\n      <td>0</td>\n      <td>1</td>\n      <td>0</td>\n      <td>0</td>\n      <td>0</td>\n    </tr>\n    <tr>\n      <th>22438</th>\n      <td>28</td>\n      <td>197905</td>\n      <td>9</td>\n      <td>1</td>\n      <td>0</td>\n      <td>0</td>\n      <td>50</td>\n      <td>0</td>\n      <td>0</td>\n      <td>1</td>\n      <td>0</td>\n      <td>0</td>\n      <td>0</td>\n      <td>0</td>\n      <td>0</td>\n      <td>0</td>\n      <td>0</td>\n      <td>0</td>\n      <td>0</td>\n      <td>0</td>\n    </tr>\n    <tr>\n      <th>14415</th>\n      <td>64</td>\n      <td>134378</td>\n      <td>14</td>\n      <td>1</td>\n      <td>0</td>\n      <td>0</td>\n      <td>50</td>\n      <td>1</td>\n      <td>0</td>\n      <td>1</td>\n      <td>0</td>\n      <td>0</td>\n      <td>0</td>\n      <td>0</td>\n      <td>0</td>\n      <td>0</td>\n      <td>0</td>\n      <td>0</td>\n      <td>0</td>\n      <td>0</td>\n    </tr>\n  </tbody>\n</table>\n</div>"
     },
     "execution_count": 22,
     "metadata": {},
     "output_type": "execute_result"
    }
   ],
   "source": [
    "train.head()"
   ],
   "metadata": {
    "collapsed": false
   }
  },
  {
   "cell_type": "code",
   "execution_count": 20,
   "outputs": [],
   "source": [
    "#划分数据集\n",
    "from sklearn.model_selection import train_test_split\n",
    "# train, test= train_test_split(df4, test_size= 0.3,random_state= 6)\n",
    "train,test = train_test_split(df4,train_size=0.3,random_state=0)"
   ],
   "metadata": {
    "collapsed": false
   }
  },
  {
   "cell_type": "code",
   "execution_count": 14,
   "outputs": [],
   "source": [
    "from scipy import stats\n",
    "import matplotlib.pyplot as plt\n",
    "import statsmodels.formula.api as smf"
   ],
   "metadata": {
    "collapsed": false
   }
  },
  {
   "cell_type": "code",
   "execution_count": 13,
   "outputs": [],
   "source": [
    "df4 = df3.copy()"
   ],
   "metadata": {
    "collapsed": false
   }
  },
  {
   "cell_type": "code",
   "execution_count": 12,
   "outputs": [
    {
     "data": {
      "text/plain": "0    24720\n1     7841\nName: income, dtype: int64"
     },
     "execution_count": 12,
     "metadata": {},
     "output_type": "execute_result"
    }
   ],
   "source": [
    "df3['income']=df3['income'].replace({'<=50K\\n':0,'>50K\\n':1})\n",
    "df3.income.value_counts()"
   ],
   "metadata": {
    "collapsed": false
   }
  },
  {
   "cell_type": "code",
   "execution_count": 10,
   "outputs": [],
   "source": [
    "df3.drop(['type_employer','race'],axis=1,inplace=True)"
   ],
   "metadata": {
    "collapsed": false
   }
  },
  {
   "cell_type": "code",
   "execution_count": 9,
   "outputs": [],
   "source": [
    "dummy_race = pd.get_dummies(df2['race'], prefix='race', drop_first=True)\n",
    "df2=df2.join(dummy_race)\n",
    "df3=df2.copy()"
   ],
   "metadata": {
    "collapsed": false
   }
  },
  {
   "cell_type": "code",
   "execution_count": 8,
   "outputs": [
    {
     "data": {
      "text/plain": "['White', 'Black', 'Asian-Pac-Islander', 'Amer-Indian-Eskimo', 'Other']"
     },
     "execution_count": 8,
     "metadata": {},
     "output_type": "execute_result"
    },
    {
     "data": {
      "text/plain": "   age  type_employer  fnlwgt  education_num  race  sex  capital_gain  \\\n0   39              0   77516             13     0    1          2174   \n1   50              1   83311             13     0    1             0   \n2   38              2  215646              9     0    1             0   \n3   53              2  234721              7     1    1             0   \n4   28              2  338409             13     1    0             0   \n\n   capital_loss  hr_per_week   income  type_1  type_2  type_3  type_4  type_5  \\\n0             0           40  <=50K\\n       0       0       0       0       0   \n1             0           13  <=50K\\n       1       0       0       0       0   \n2             0           40  <=50K\\n       0       1       0       0       0   \n3             0           40  <=50K\\n       0       1       0       0       0   \n4             0           40  <=50K\\n       0       1       0       0       0   \n\n   type_6  type_7  type_8  \n0       0       0       0  \n1       0       0       0  \n2       0       0       0  \n3       0       0       0  \n4       0       0       0  ",
      "text/html": "<div>\n<style scoped>\n    .dataframe tbody tr th:only-of-type {\n        vertical-align: middle;\n    }\n\n    .dataframe tbody tr th {\n        vertical-align: top;\n    }\n\n    .dataframe thead th {\n        text-align: right;\n    }\n</style>\n<table border=\"1\" class=\"dataframe\">\n  <thead>\n    <tr style=\"text-align: right;\">\n      <th></th>\n      <th>age</th>\n      <th>type_employer</th>\n      <th>fnlwgt</th>\n      <th>education_num</th>\n      <th>race</th>\n      <th>sex</th>\n      <th>capital_gain</th>\n      <th>capital_loss</th>\n      <th>hr_per_week</th>\n      <th>income</th>\n      <th>type_1</th>\n      <th>type_2</th>\n      <th>type_3</th>\n      <th>type_4</th>\n      <th>type_5</th>\n      <th>type_6</th>\n      <th>type_7</th>\n      <th>type_8</th>\n    </tr>\n  </thead>\n  <tbody>\n    <tr>\n      <th>0</th>\n      <td>39</td>\n      <td>0</td>\n      <td>77516</td>\n      <td>13</td>\n      <td>0</td>\n      <td>1</td>\n      <td>2174</td>\n      <td>0</td>\n      <td>40</td>\n      <td>&lt;=50K\\n</td>\n      <td>0</td>\n      <td>0</td>\n      <td>0</td>\n      <td>0</td>\n      <td>0</td>\n      <td>0</td>\n      <td>0</td>\n      <td>0</td>\n    </tr>\n    <tr>\n      <th>1</th>\n      <td>50</td>\n      <td>1</td>\n      <td>83311</td>\n      <td>13</td>\n      <td>0</td>\n      <td>1</td>\n      <td>0</td>\n      <td>0</td>\n      <td>13</td>\n      <td>&lt;=50K\\n</td>\n      <td>1</td>\n      <td>0</td>\n      <td>0</td>\n      <td>0</td>\n      <td>0</td>\n      <td>0</td>\n      <td>0</td>\n      <td>0</td>\n    </tr>\n    <tr>\n      <th>2</th>\n      <td>38</td>\n      <td>2</td>\n      <td>215646</td>\n      <td>9</td>\n      <td>0</td>\n      <td>1</td>\n      <td>0</td>\n      <td>0</td>\n      <td>40</td>\n      <td>&lt;=50K\\n</td>\n      <td>0</td>\n      <td>1</td>\n      <td>0</td>\n      <td>0</td>\n      <td>0</td>\n      <td>0</td>\n      <td>0</td>\n      <td>0</td>\n    </tr>\n    <tr>\n      <th>3</th>\n      <td>53</td>\n      <td>2</td>\n      <td>234721</td>\n      <td>7</td>\n      <td>1</td>\n      <td>1</td>\n      <td>0</td>\n      <td>0</td>\n      <td>40</td>\n      <td>&lt;=50K\\n</td>\n      <td>0</td>\n      <td>1</td>\n      <td>0</td>\n      <td>0</td>\n      <td>0</td>\n      <td>0</td>\n      <td>0</td>\n      <td>0</td>\n    </tr>\n    <tr>\n      <th>4</th>\n      <td>28</td>\n      <td>2</td>\n      <td>338409</td>\n      <td>13</td>\n      <td>1</td>\n      <td>0</td>\n      <td>0</td>\n      <td>0</td>\n      <td>40</td>\n      <td>&lt;=50K\\n</td>\n      <td>0</td>\n      <td>1</td>\n      <td>0</td>\n      <td>0</td>\n      <td>0</td>\n      <td>0</td>\n      <td>0</td>\n      <td>0</td>\n    </tr>\n  </tbody>\n</table>\n</div>"
     },
     "execution_count": 8,
     "metadata": {},
     "output_type": "execute_result"
    }
   ],
   "source": [
    "label_race = df2['race'].unique().tolist()\n",
    "label_race\n",
    "#对原数据进行编码\n",
    "df2['race'] = df2['race'].apply(lambda x: label_race.index(x))\n",
    "df2.head()"
   ],
   "metadata": {
    "collapsed": false
   }
  },
  {
   "cell_type": "code",
   "execution_count": 7,
   "outputs": [],
   "source": [
    "df2=df2.join(dummy)"
   ],
   "metadata": {
    "collapsed": false
   }
  },
  {
   "cell_type": "code",
   "execution_count": 6,
   "outputs": [
    {
     "data": {
      "text/plain": "       type_1  type_2  type_3  type_4  type_5  type_6  type_7  type_8\n32556       0       1       0       0       0       0       0       0\n32557       0       1       0       0       0       0       0       0\n32558       0       1       0       0       0       0       0       0\n32559       0       1       0       0       0       0       0       0\n32560       0       0       0       0       0       1       0       0",
      "text/html": "<div>\n<style scoped>\n    .dataframe tbody tr th:only-of-type {\n        vertical-align: middle;\n    }\n\n    .dataframe tbody tr th {\n        vertical-align: top;\n    }\n\n    .dataframe thead th {\n        text-align: right;\n    }\n</style>\n<table border=\"1\" class=\"dataframe\">\n  <thead>\n    <tr style=\"text-align: right;\">\n      <th></th>\n      <th>type_1</th>\n      <th>type_2</th>\n      <th>type_3</th>\n      <th>type_4</th>\n      <th>type_5</th>\n      <th>type_6</th>\n      <th>type_7</th>\n      <th>type_8</th>\n    </tr>\n  </thead>\n  <tbody>\n    <tr>\n      <th>32556</th>\n      <td>0</td>\n      <td>1</td>\n      <td>0</td>\n      <td>0</td>\n      <td>0</td>\n      <td>0</td>\n      <td>0</td>\n      <td>0</td>\n    </tr>\n    <tr>\n      <th>32557</th>\n      <td>0</td>\n      <td>1</td>\n      <td>0</td>\n      <td>0</td>\n      <td>0</td>\n      <td>0</td>\n      <td>0</td>\n      <td>0</td>\n    </tr>\n    <tr>\n      <th>32558</th>\n      <td>0</td>\n      <td>1</td>\n      <td>0</td>\n      <td>0</td>\n      <td>0</td>\n      <td>0</td>\n      <td>0</td>\n      <td>0</td>\n    </tr>\n    <tr>\n      <th>32559</th>\n      <td>0</td>\n      <td>1</td>\n      <td>0</td>\n      <td>0</td>\n      <td>0</td>\n      <td>0</td>\n      <td>0</td>\n      <td>0</td>\n    </tr>\n    <tr>\n      <th>32560</th>\n      <td>0</td>\n      <td>0</td>\n      <td>0</td>\n      <td>0</td>\n      <td>0</td>\n      <td>1</td>\n      <td>0</td>\n      <td>0</td>\n    </tr>\n  </tbody>\n</table>\n</div>"
     },
     "execution_count": 6,
     "metadata": {},
     "output_type": "execute_result"
    }
   ],
   "source": [
    "dummy = pd.get_dummies(df2['type_employer'], prefix='type', drop_first=True)\n",
    "dummy.tail()"
   ],
   "metadata": {
    "collapsed": false
   }
  },
  {
   "cell_type": "code",
   "execution_count": 5,
   "outputs": [
    {
     "data": {
      "text/plain": "   age  type_employer  fnlwgt  education_num   race  sex  capital_gain  \\\n0   39              0   77516             13  White    1          2174   \n1   50              1   83311             13  White    1             0   \n2   38              2  215646              9  White    1             0   \n3   53              2  234721              7  Black    1             0   \n4   28              2  338409             13  Black    0             0   \n\n   capital_loss  hr_per_week   income  \n0             0           40  <=50K\\n  \n1             0           13  <=50K\\n  \n2             0           40  <=50K\\n  \n3             0           40  <=50K\\n  \n4             0           40  <=50K\\n  ",
      "text/html": "<div>\n<style scoped>\n    .dataframe tbody tr th:only-of-type {\n        vertical-align: middle;\n    }\n\n    .dataframe tbody tr th {\n        vertical-align: top;\n    }\n\n    .dataframe thead th {\n        text-align: right;\n    }\n</style>\n<table border=\"1\" class=\"dataframe\">\n  <thead>\n    <tr style=\"text-align: right;\">\n      <th></th>\n      <th>age</th>\n      <th>type_employer</th>\n      <th>fnlwgt</th>\n      <th>education_num</th>\n      <th>race</th>\n      <th>sex</th>\n      <th>capital_gain</th>\n      <th>capital_loss</th>\n      <th>hr_per_week</th>\n      <th>income</th>\n    </tr>\n  </thead>\n  <tbody>\n    <tr>\n      <th>0</th>\n      <td>39</td>\n      <td>0</td>\n      <td>77516</td>\n      <td>13</td>\n      <td>White</td>\n      <td>1</td>\n      <td>2174</td>\n      <td>0</td>\n      <td>40</td>\n      <td>&lt;=50K\\n</td>\n    </tr>\n    <tr>\n      <th>1</th>\n      <td>50</td>\n      <td>1</td>\n      <td>83311</td>\n      <td>13</td>\n      <td>White</td>\n      <td>1</td>\n      <td>0</td>\n      <td>0</td>\n      <td>13</td>\n      <td>&lt;=50K\\n</td>\n    </tr>\n    <tr>\n      <th>2</th>\n      <td>38</td>\n      <td>2</td>\n      <td>215646</td>\n      <td>9</td>\n      <td>White</td>\n      <td>1</td>\n      <td>0</td>\n      <td>0</td>\n      <td>40</td>\n      <td>&lt;=50K\\n</td>\n    </tr>\n    <tr>\n      <th>3</th>\n      <td>53</td>\n      <td>2</td>\n      <td>234721</td>\n      <td>7</td>\n      <td>Black</td>\n      <td>1</td>\n      <td>0</td>\n      <td>0</td>\n      <td>40</td>\n      <td>&lt;=50K\\n</td>\n    </tr>\n    <tr>\n      <th>4</th>\n      <td>28</td>\n      <td>2</td>\n      <td>338409</td>\n      <td>13</td>\n      <td>Black</td>\n      <td>0</td>\n      <td>0</td>\n      <td>0</td>\n      <td>40</td>\n      <td>&lt;=50K\\n</td>\n    </tr>\n  </tbody>\n</table>\n</div>"
     },
     "execution_count": 5,
     "metadata": {},
     "output_type": "execute_result"
    }
   ],
   "source": [
    "df2['sex']=df2['sex'].replace({'Male':1,'Female':0})\n",
    "df2.head()"
   ],
   "metadata": {
    "collapsed": false
   }
  },
  {
   "cell_type": "code",
   "execution_count": 4,
   "outputs": [
    {
     "data": {
      "text/plain": "['State-gov',\n 'Self-emp-not-inc',\n 'Private',\n 'Federal-gov',\n 'Local-gov',\n '?',\n 'Self-emp-inc',\n 'Without-pay',\n 'Never-worked']"
     },
     "execution_count": 4,
     "metadata": {},
     "output_type": "execute_result"
    }
   ],
   "source": [
    "df2 = df.copy()\n",
    "label = df2['type_employer'].unique().tolist()\n",
    "label\n",
    "#对原数据进行编码\n",
    "df2['type_employer'] = df2['type_employer'].apply(lambda x: label.index(x))\n",
    "df2.drop(['education','marital','occupation','relationship','country'],axis=1,inplace=True)"
   ],
   "metadata": {
    "collapsed": false
   }
  },
  {
   "cell_type": "code",
   "execution_count": 3,
   "outputs": [
    {
     "data": {
      "text/plain": "   age     type_employer  fnlwgt  education  education_num  \\\n0   39         State-gov   77516  Bachelors             13   \n1   50  Self-emp-not-inc   83311  Bachelors             13   \n2   38           Private  215646    HS-grad              9   \n\n              marital         occupation   relationship   race   sex  \\\n0       Never-married       Adm-clerical  Not-in-family  White  Male   \n1  Married-civ-spouse    Exec-managerial        Husband  White  Male   \n2            Divorced  Handlers-cleaners  Not-in-family  White  Male   \n\n   capital_gain  capital_loss  hr_per_week        country   income  \n0          2174             0           40  United-States  <=50K\\n  \n1             0             0           13  United-States  <=50K\\n  \n2             0             0           40  United-States  <=50K\\n  ",
      "text/html": "<div>\n<style scoped>\n    .dataframe tbody tr th:only-of-type {\n        vertical-align: middle;\n    }\n\n    .dataframe tbody tr th {\n        vertical-align: top;\n    }\n\n    .dataframe thead th {\n        text-align: right;\n    }\n</style>\n<table border=\"1\" class=\"dataframe\">\n  <thead>\n    <tr style=\"text-align: right;\">\n      <th></th>\n      <th>age</th>\n      <th>type_employer</th>\n      <th>fnlwgt</th>\n      <th>education</th>\n      <th>education_num</th>\n      <th>marital</th>\n      <th>occupation</th>\n      <th>relationship</th>\n      <th>race</th>\n      <th>sex</th>\n      <th>capital_gain</th>\n      <th>capital_loss</th>\n      <th>hr_per_week</th>\n      <th>country</th>\n      <th>income</th>\n    </tr>\n  </thead>\n  <tbody>\n    <tr>\n      <th>0</th>\n      <td>39</td>\n      <td>State-gov</td>\n      <td>77516</td>\n      <td>Bachelors</td>\n      <td>13</td>\n      <td>Never-married</td>\n      <td>Adm-clerical</td>\n      <td>Not-in-family</td>\n      <td>White</td>\n      <td>Male</td>\n      <td>2174</td>\n      <td>0</td>\n      <td>40</td>\n      <td>United-States</td>\n      <td>&lt;=50K\\n</td>\n    </tr>\n    <tr>\n      <th>1</th>\n      <td>50</td>\n      <td>Self-emp-not-inc</td>\n      <td>83311</td>\n      <td>Bachelors</td>\n      <td>13</td>\n      <td>Married-civ-spouse</td>\n      <td>Exec-managerial</td>\n      <td>Husband</td>\n      <td>White</td>\n      <td>Male</td>\n      <td>0</td>\n      <td>0</td>\n      <td>13</td>\n      <td>United-States</td>\n      <td>&lt;=50K\\n</td>\n    </tr>\n    <tr>\n      <th>2</th>\n      <td>38</td>\n      <td>Private</td>\n      <td>215646</td>\n      <td>HS-grad</td>\n      <td>9</td>\n      <td>Divorced</td>\n      <td>Handlers-cleaners</td>\n      <td>Not-in-family</td>\n      <td>White</td>\n      <td>Male</td>\n      <td>0</td>\n      <td>0</td>\n      <td>40</td>\n      <td>United-States</td>\n      <td>&lt;=50K\\n</td>\n    </tr>\n  </tbody>\n</table>\n</div>"
     },
     "execution_count": 3,
     "metadata": {},
     "output_type": "execute_result"
    }
   ],
   "source": [
    "df = pd.DataFrame(data) #  Two-dimensional size-mutable, potentially heterogeneous tabular data structure with labeled axes\n",
    "\n",
    "df.columns = ['age', 'type_employer', 'fnlwgt', 'education',\n",
    "              \"education_num\",\"marital\", \"occupation\", \"relationship\", \"race\",\"sex\",\n",
    "              \"capital_gain\", \"capital_loss\", \"hr_per_week\",\"country\",\"income\"]\n",
    "df.head(3)"
   ],
   "metadata": {
    "collapsed": false
   }
  },
  {
   "cell_type": "code",
   "execution_count": 2,
   "outputs": [
    {
     "data": {
      "text/plain": "'C:\\\\ProgramData\\\\Anaconda3\\\\envs\\\\cda_python\\\\lib\\\\os.py'"
     },
     "execution_count": 2,
     "metadata": {},
     "output_type": "execute_result"
    }
   ],
   "source": [
    "import pandas as pd\n",
    "import numpy as np\n",
    "import os\n",
    "os.__file__\n",
    "os.chdir(r'C:\\Data\\Jupyter_file\\DataScienceUB\\introduction-datascience-python-book\\files')\n",
    "file = open('ch03/adult.data', 'r')\n",
    "def chr_int(a):\n",
    "    if a.isdigit():\n",
    "        return int(a)\n",
    "    else:\n",
    "        return 0\n",
    "\n",
    "data=[]\n",
    "for line in file:\n",
    "    data1=line.split(', ')\n",
    "    if len(data1)==15:\n",
    "        data.append([chr_int(data1[0]),data1[1],chr_int(data1[2]),data1[3],chr_int(data1[4]),data1[5],data1[6],\\\n",
    "            data1[7],data1[8],data1[9],chr_int(data1[10]),chr_int(data1[11]),chr_int(data1[12]),data1[13],\\\n",
    "            data1[14]])\n"
   ],
   "metadata": {
    "collapsed": false
   }
  },
  {
   "cell_type": "code",
   "execution_count": 1,
   "outputs": [],
   "source": [
    "from IPython.core.interactiveshell import InteractiveShell\n",
    "InteractiveShell.ast_node_interactivity = \"all\"\n",
    "import warnings\n",
    "warnings.filterwarnings(\"ignore\")"
   ],
   "metadata": {
    "collapsed": false
   }
  }
 ],
 "metadata": {
  "kernelspec": {
   "name": "cda_python",
   "language": "python",
   "display_name": "cda_python"
  },
  "language_info": {
   "codemirror_mode": {
    "name": "ipython",
    "version": 2
   },
   "file_extension": ".py",
   "mimetype": "text/x-python",
   "name": "python",
   "nbconvert_exporter": "python",
   "pygments_lexer": "ipython2",
   "version": "2.7.6"
  }
 },
 "nbformat": 4,
 "nbformat_minor": 0
}
