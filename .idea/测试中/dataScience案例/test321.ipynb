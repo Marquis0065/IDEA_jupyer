{
 "cells": [
  {
   "cell_type": "code",
   "execution_count": 31,
   "outputs": [
    {
     "name": "stdout",
     "output_type": "stream",
     "text": [
      "              precision    recall  f1-score   support\n",
      "\n",
      "           0       0.84      0.95      0.89     17267\n",
      "           1       0.74      0.44      0.55      5526\n",
      "\n",
      "    accuracy                           0.83     22793\n",
      "   macro avg       0.79      0.69      0.72     22793\n",
      "weighted avg       0.81      0.83      0.81     22793\n",
      "\n"
     ]
    }
   ],
   "source": [
    "#输出预测概率\n",
    "temp = test.copy()\n",
    "tem=temp.pop('income')\n",
    "pre = model.predict(temp)\n",
    "#预测标签（默认阈值0.5）\n",
    "# 生成预测标签\n",
    "pre_label = (pre>0.5).astype('int')\n",
    "#输出分类报告，Y的真实值，Y的预测标签\n",
    "# 模型评估（召回率），选择0.5为阈值\n",
    "from sklearn.metrics import classification_report # 用于分类报告\n",
    "print(classification_report(tem, pre_label))\n",
    "# precision 精确率；recall 召回率 ；f1-score 相当于精确率与召回率的平均"
   ],
   "metadata": {
    "collapsed": false
   }
  },
  {
   "cell_type": "code",
   "execution_count": 30,
   "outputs": [
    {
     "name": "stdout",
     "output_type": "stream",
     "text": [
      "Warning: Maximum number of iterations has been exceeded.\n",
      "         Current function value: 0.383370\n",
      "         Iterations: 35\n"
     ]
    },
    {
     "name": "stderr",
     "output_type": "stream",
     "text": [
      "C:\\Users\\fzh00\\AppData\\Roaming\\Python\\Python310\\site-packages\\statsmodels\\base\\model.py:604: ConvergenceWarning: Maximum Likelihood optimization failed to converge. Check mle_retvals\n",
      "  warnings.warn(\"Maximum Likelihood optimization failed to \"\n"
     ]
    },
    {
     "data": {
      "text/plain": "<class 'statsmodels.iolib.summary.Summary'>\n\"\"\"\n                           Logit Regression Results                           \n==============================================================================\nDep. Variable:                 income   No. Observations:                 9768\nModel:                          Logit   Df Residuals:                     9749\nMethod:                           MLE   Df Model:                           18\nDate:                Tue, 21 Mar 2023   Pseudo R-squ.:                  0.2999\nTime:                        13:09:01   Log-Likelihood:                -3744.8\nconverged:                      False   LL-Null:                       -5348.9\nCovariance Type:            nonrobust   LLR p-value:                     0.000\n=================================================================================\n                    coef    std err          z      P>|z|      [0.025      0.975]\n---------------------------------------------------------------------------------\nIntercept        -9.2991      0.291    -31.980      0.000      -9.869      -8.729\nage               0.0426      0.002     17.725      0.000       0.038       0.047\nfnlwgt         5.696e-07   2.86e-07      1.990      0.047    8.56e-09    1.13e-06\neducation_num     0.3302      0.013     24.973      0.000       0.304       0.356\nsex               1.1950      0.075     15.845      0.000       1.047       1.343\ncapital_gain      0.0003   1.85e-05     17.702      0.000       0.000       0.000\ncapital_loss      0.0007   5.98e-05     11.569      0.000       0.001       0.001\nhr_per_week       0.0298      0.003     11.673      0.000       0.025       0.035\ntype_1            0.1301      0.180      0.721      0.471      -0.224       0.484\ntype_2            0.4454      0.156      2.861      0.004       0.140       0.751\ntype_3            1.0141      0.208      4.886      0.000       0.607       1.421\ntype_4            0.3818      0.183      2.084      0.037       0.023       0.741\ntype_5           -0.3708      0.233     -1.593      0.111      -0.827       0.085\ntype_6            0.6808      0.203      3.349      0.001       0.282       1.079\ntype_7          -14.5452   9165.235     -0.002      0.999    -1.8e+04    1.79e+04\nrace_1           -0.4809      0.121     -3.970      0.000      -0.718      -0.243\nrace_2           -0.0407      0.159     -0.255      0.798      -0.353       0.271\nrace_3           -0.6442      0.355     -1.815      0.070      -1.340       0.052\nrace_4           -1.2103      0.519     -2.330      0.020      -2.228      -0.192\n=================================================================================\n\"\"\"",
      "text/html": "<table class=\"simpletable\">\n<caption>Logit Regression Results</caption>\n<tr>\n  <th>Dep. Variable:</th>        <td>income</td>      <th>  No. Observations:  </th>  <td>  9768</td> \n</tr>\n<tr>\n  <th>Model:</th>                 <td>Logit</td>      <th>  Df Residuals:      </th>  <td>  9749</td> \n</tr>\n<tr>\n  <th>Method:</th>                 <td>MLE</td>       <th>  Df Model:          </th>  <td>    18</td> \n</tr>\n<tr>\n  <th>Date:</th>            <td>Tue, 21 Mar 2023</td> <th>  Pseudo R-squ.:     </th>  <td>0.2999</td> \n</tr>\n<tr>\n  <th>Time:</th>                <td>13:09:01</td>     <th>  Log-Likelihood:    </th> <td> -3744.8</td>\n</tr>\n<tr>\n  <th>converged:</th>             <td>False</td>      <th>  LL-Null:           </th> <td> -5348.9</td>\n</tr>\n<tr>\n  <th>Covariance Type:</th>     <td>nonrobust</td>    <th>  LLR p-value:       </th>  <td> 0.000</td> \n</tr>\n</table>\n<table class=\"simpletable\">\n<tr>\n        <td></td>           <th>coef</th>     <th>std err</th>      <th>z</th>      <th>P>|z|</th>  <th>[0.025</th>    <th>0.975]</th>  \n</tr>\n<tr>\n  <th>Intercept</th>     <td>   -9.2991</td> <td>    0.291</td> <td>  -31.980</td> <td> 0.000</td> <td>   -9.869</td> <td>   -8.729</td>\n</tr>\n<tr>\n  <th>age</th>           <td>    0.0426</td> <td>    0.002</td> <td>   17.725</td> <td> 0.000</td> <td>    0.038</td> <td>    0.047</td>\n</tr>\n<tr>\n  <th>fnlwgt</th>        <td> 5.696e-07</td> <td> 2.86e-07</td> <td>    1.990</td> <td> 0.047</td> <td> 8.56e-09</td> <td> 1.13e-06</td>\n</tr>\n<tr>\n  <th>education_num</th> <td>    0.3302</td> <td>    0.013</td> <td>   24.973</td> <td> 0.000</td> <td>    0.304</td> <td>    0.356</td>\n</tr>\n<tr>\n  <th>sex</th>           <td>    1.1950</td> <td>    0.075</td> <td>   15.845</td> <td> 0.000</td> <td>    1.047</td> <td>    1.343</td>\n</tr>\n<tr>\n  <th>capital_gain</th>  <td>    0.0003</td> <td> 1.85e-05</td> <td>   17.702</td> <td> 0.000</td> <td>    0.000</td> <td>    0.000</td>\n</tr>\n<tr>\n  <th>capital_loss</th>  <td>    0.0007</td> <td> 5.98e-05</td> <td>   11.569</td> <td> 0.000</td> <td>    0.001</td> <td>    0.001</td>\n</tr>\n<tr>\n  <th>hr_per_week</th>   <td>    0.0298</td> <td>    0.003</td> <td>   11.673</td> <td> 0.000</td> <td>    0.025</td> <td>    0.035</td>\n</tr>\n<tr>\n  <th>type_1</th>        <td>    0.1301</td> <td>    0.180</td> <td>    0.721</td> <td> 0.471</td> <td>   -0.224</td> <td>    0.484</td>\n</tr>\n<tr>\n  <th>type_2</th>        <td>    0.4454</td> <td>    0.156</td> <td>    2.861</td> <td> 0.004</td> <td>    0.140</td> <td>    0.751</td>\n</tr>\n<tr>\n  <th>type_3</th>        <td>    1.0141</td> <td>    0.208</td> <td>    4.886</td> <td> 0.000</td> <td>    0.607</td> <td>    1.421</td>\n</tr>\n<tr>\n  <th>type_4</th>        <td>    0.3818</td> <td>    0.183</td> <td>    2.084</td> <td> 0.037</td> <td>    0.023</td> <td>    0.741</td>\n</tr>\n<tr>\n  <th>type_5</th>        <td>   -0.3708</td> <td>    0.233</td> <td>   -1.593</td> <td> 0.111</td> <td>   -0.827</td> <td>    0.085</td>\n</tr>\n<tr>\n  <th>type_6</th>        <td>    0.6808</td> <td>    0.203</td> <td>    3.349</td> <td> 0.001</td> <td>    0.282</td> <td>    1.079</td>\n</tr>\n<tr>\n  <th>type_7</th>        <td>  -14.5452</td> <td> 9165.235</td> <td>   -0.002</td> <td> 0.999</td> <td> -1.8e+04</td> <td> 1.79e+04</td>\n</tr>\n<tr>\n  <th>race_1</th>        <td>   -0.4809</td> <td>    0.121</td> <td>   -3.970</td> <td> 0.000</td> <td>   -0.718</td> <td>   -0.243</td>\n</tr>\n<tr>\n  <th>race_2</th>        <td>   -0.0407</td> <td>    0.159</td> <td>   -0.255</td> <td> 0.798</td> <td>   -0.353</td> <td>    0.271</td>\n</tr>\n<tr>\n  <th>race_3</th>        <td>   -0.6442</td> <td>    0.355</td> <td>   -1.815</td> <td> 0.070</td> <td>   -1.340</td> <td>    0.052</td>\n</tr>\n<tr>\n  <th>race_4</th>        <td>   -1.2103</td> <td>    0.519</td> <td>   -2.330</td> <td> 0.020</td> <td>   -2.228</td> <td>   -0.192</td>\n</tr>\n</table>"
     },
     "execution_count": 30,
     "metadata": {},
     "output_type": "execute_result"
    }
   ],
   "source": [
    "formula = 'income~age+fnlwgt+education_num+sex+capital_gain+capital_loss+hr_per_week+type_1+type_2+type_3+type_4+type_5+type_6+type_7+race_1+race_2+race_3+race_4'\n",
    "#实例化\n",
    "model = smf.logit(formula=formula, data=train)\n",
    "#拟合模型\n",
    "model = model.fit()\n",
    "#输出拟合结果\n",
    "model.summary()"
   ],
   "metadata": {
    "collapsed": false
   }
  },
  {
   "cell_type": "code",
   "execution_count": 22,
   "outputs": [
    {
     "data": {
      "text/plain": "       age  fnlwgt  education_num  sex  capital_gain  capital_loss  \\\n27487   58  215190              7    1             0             0   \n8959    27  123116              9    1             0             0   \n25278   46  441542             13    1             0             0   \n22438   28  197905              9    1             0             0   \n14415   64  134378             14    1             0             0   \n\n       hr_per_week  income  type_1  type_2  type_3  type_4  type_5  type_6  \\\n27487           20       0       0       1       0       0       0       0   \n8959            40       0       1       0       0       0       0       0   \n25278           40       0       0       0       0       1       0       0   \n22438           50       0       0       1       0       0       0       0   \n14415           50       1       0       1       0       0       0       0   \n\n       type_7  type_8  race_1  race_2  race_3  race_4  \n27487       0       0       0       0       0       0  \n8959        0       0       0       0       0       0  \n25278       0       0       1       0       0       0  \n22438       0       0       0       0       0       0  \n14415       0       0       0       0       0       0  ",
      "text/html": "<div>\n<style scoped>\n    .dataframe tbody tr th:only-of-type {\n        vertical-align: middle;\n    }\n\n    .dataframe tbody tr th {\n        vertical-align: top;\n    }\n\n    .dataframe thead th {\n        text-align: right;\n    }\n</style>\n<table border=\"1\" class=\"dataframe\">\n  <thead>\n    <tr style=\"text-align: right;\">\n      <th></th>\n      <th>age</th>\n      <th>fnlwgt</th>\n      <th>education_num</th>\n      <th>sex</th>\n      <th>capital_gain</th>\n      <th>capital_loss</th>\n      <th>hr_per_week</th>\n      <th>income</th>\n      <th>type_1</th>\n      <th>type_2</th>\n      <th>type_3</th>\n      <th>type_4</th>\n      <th>type_5</th>\n      <th>type_6</th>\n      <th>type_7</th>\n      <th>type_8</th>\n      <th>race_1</th>\n      <th>race_2</th>\n      <th>race_3</th>\n      <th>race_4</th>\n    </tr>\n  </thead>\n  <tbody>\n    <tr>\n      <th>27487</th>\n      <td>58</td>\n      <td>215190</td>\n      <td>7</td>\n      <td>1</td>\n      <td>0</td>\n      <td>0</td>\n      <td>20</td>\n      <td>0</td>\n      <td>0</td>\n      <td>1</td>\n      <td>0</td>\n      <td>0</td>\n      <td>0</td>\n      <td>0</td>\n      <td>0</td>\n      <td>0</td>\n      <td>0</td>\n      <td>0</td>\n      <td>0</td>\n      <td>0</td>\n    </tr>\n    <tr>\n      <th>8959</th>\n      <td>27</td>\n      <td>123116</td>\n      <td>9</td>\n      <td>1</td>\n      <td>0</td>\n      <td>0</td>\n      <td>40</td>\n      <td>0</td>\n      <td>1</td>\n      <td>0</td>\n      <td>0</td>\n      <td>0</td>\n      <td>0</td>\n      <td>0</td>\n      <td>0</td>\n      <td>0</td>\n      <td>0</td>\n      <td>0</td>\n      <td>0</td>\n      <td>0</td>\n    </tr>\n    <tr>\n      <th>25278</th>\n      <td>46</td>\n      <td>441542</td>\n      <td>13</td>\n      <td>1</td>\n      <td>0</td>\n      <td>0</td>\n      <td>40</td>\n      <td>0</td>\n      <td>0</td>\n      <td>0</td>\n      <td>0</td>\n      <td>1</td>\n      <td>0</td>\n      <td>0</td>\n      <td>0</td>\n      <td>0</td>\n      <td>1</td>\n      <td>0</td>\n      <td>0</td>\n      <td>0</td>\n    </tr>\n    <tr>\n      <th>22438</th>\n      <td>28</td>\n      <td>197905</td>\n      <td>9</td>\n      <td>1</td>\n      <td>0</td>\n      <td>0</td>\n      <td>50</td>\n      <td>0</td>\n      <td>0</td>\n      <td>1</td>\n      <td>0</td>\n      <td>0</td>\n      <td>0</td>\n      <td>0</td>\n      <td>0</td>\n      <td>0</td>\n      <td>0</td>\n      <td>0</td>\n      <td>0</td>\n      <td>0</td>\n    </tr>\n    <tr>\n      <th>14415</th>\n      <td>64</td>\n      <td>134378</td>\n      <td>14</td>\n      <td>1</td>\n      <td>0</td>\n      <td>0</td>\n      <td>50</td>\n      <td>1</td>\n      <td>0</td>\n      <td>1</td>\n      <td>0</td>\n      <td>0</td>\n      <td>0</td>\n      <td>0</td>\n      <td>0</td>\n      <td>0</td>\n      <td>0</td>\n      <td>0</td>\n      <td>0</td>\n      <td>0</td>\n    </tr>\n  </tbody>\n</table>\n</div>"
     },
     "execution_count": 22,
     "metadata": {},
     "output_type": "execute_result"
    }
   ],
   "source": [
    "train.head()"
   ],
   "metadata": {
    "collapsed": false
   }
  },
  {
   "cell_type": "code",
   "execution_count": 20,
   "outputs": [],
   "source": [
    "#划分数据集\n",
    "from sklearn.model_selection import train_test_split\n",
    "# train, test= train_test_split(df4, test_size= 0.3,random_state= 6)\n",
    "train,test = train_test_split(df4,train_size=0.3,random_state=0)"
   ],
   "metadata": {
    "collapsed": false
   }
  },
  {
   "cell_type": "code",
   "execution_count": 14,
   "outputs": [],
   "source": [
    "from scipy import stats\n",
    "import matplotlib.pyplot as plt\n",
    "import statsmodels.formula.api as smf"
   ],
   "metadata": {
    "collapsed": false
   }
  },
  {
   "cell_type": "code",
   "execution_count": 13,
   "outputs": [],
   "source": [
    "df4 = df3.copy()"
   ],
   "metadata": {
    "collapsed": false
   }
  },
  {
   "cell_type": "code",
   "execution_count": 12,
   "outputs": [
    {
     "data": {
      "text/plain": "0    24720\n1     7841\nName: income, dtype: int64"
     },
     "execution_count": 12,
     "metadata": {},
     "output_type": "execute_result"
    }
   ],
   "source": [
    "df3['income']=df3['income'].replace({'<=50K\\n':0,'>50K\\n':1})\n",
    "df3.income.value_counts()"
   ],
   "metadata": {
    "collapsed": false
   }
  },
  {
   "cell_type": "code",
   "execution_count": 10,
   "outputs": [],
   "source": [
    "df3.drop(['type_employer','race'],axis=1,inplace=True)"
   ],
   "metadata": {
    "collapsed": false
   }
  },
  {
   "cell_type": "code",
   "execution_count": 9,
   "outputs": [],
   "source": [
    "dummy_race = pd.get_dummies(df2['race'], prefix='race', drop_first=True)\n",
    "df2=df2.join(dummy_race)\n",
    "df3=df2.copy()"
   ],
   "metadata": {
    "collapsed": false
   }
  },
  {
   "cell_type": "code",
   "execution_count": 8,
   "outputs": [
    {
     "data": {
      "text/plain": "['White', 'Black', 'Asian-Pac-Islander', 'Amer-Indian-Eskimo', 'Other']"
     },
     "execution_count": 8,
     "metadata": {},
     "output_type": "execute_result"
    },
    {
     "data": {
      "text/plain": "   age  type_employer  fnlwgt  education_num  race  sex  capital_gain  \\\n0   39              0   77516             13     0    1          2174   \n1   50              1   83311             13     0    1             0   \n2   38              2  215646              9     0    1             0   \n3   53              2  234721              7     1    1             0   \n4   28              2  338409             13     1    0             0   \n\n   capital_loss  hr_per_week   income  type_1  type_2  type_3  type_4  type_5  \\\n0             0           40  <=50K\\n       0       0       0       0       0   \n1             0           13  <=50K\\n       1       0       0       0       0   \n2             0           40  <=50K\\n       0       1       0       0       0   \n3             0           40  <=50K\\n       0       1       0       0       0   \n4             0           40  <=50K\\n       0       1       0       0       0   \n\n   type_6  type_7  type_8  \n0       0       0       0  \n1       0       0       0  \n2       0       0       0  \n3       0       0       0  \n4       0       0       0  ",
      "text/html": "<div>\n<style scoped>\n    .dataframe tbody tr th:only-of-type {\n        vertical-align: middle;\n    }\n\n    .dataframe tbody tr th {\n        vertical-align: top;\n    }\n\n    .dataframe thead th {\n        text-align: right;\n    }\n</style>\n<table border=\"1\" class=\"dataframe\">\n  <thead>\n    <tr style=\"text-align: right;\">\n      <th></th>\n      <th>age</th>\n      <th>type_employer</th>\n      <th>fnlwgt</th>\n      <th>education_num</th>\n      <th>race</th>\n      <th>sex</th>\n      <th>capital_gain</th>\n      <th>capital_loss</th>\n      <th>hr_per_week</th>\n      <th>income</th>\n      <th>type_1</th>\n      <th>type_2</th>\n      <th>type_3</th>\n      <th>type_4</th>\n      <th>type_5</th>\n      <th>type_6</th>\n      <th>type_7</th>\n      <th>type_8</th>\n    </tr>\n  </thead>\n  <tbody>\n    <tr>\n      <th>0</th>\n      <td>39</td>\n      <td>0</td>\n      <td>77516</td>\n      <td>13</td>\n      <td>0</td>\n      <td>1</td>\n      <td>2174</td>\n      <td>0</td>\n      <td>40</td>\n      <td>&lt;=50K\\n</td>\n      <td>0</td>\n      <td>0</td>\n      <td>0</td>\n      <td>0</td>\n      <td>0</td>\n      <td>0</td>\n      <td>0</td>\n      <td>0</td>\n    </tr>\n    <tr>\n      <th>1</th>\n      <td>50</td>\n      <td>1</td>\n      <td>83311</td>\n      <td>13</td>\n      <td>0</td>\n      <td>1</td>\n      <td>0</td>\n      <td>0</td>\n      <td>13</td>\n      <td>&lt;=50K\\n</td>\n      <td>1</td>\n      <td>0</td>\n      <td>0</td>\n      <td>0</td>\n      <td>0</td>\n      <td>0</td>\n      <td>0</td>\n      <td>0</td>\n    </tr>\n    <tr>\n      <th>2</th>\n      <td>38</td>\n      <td>2</td>\n      <td>215646</td>\n      <td>9</td>\n      <td>0</td>\n      <td>1</td>\n      <td>0</td>\n      <td>0</td>\n      <td>40</td>\n      <td>&lt;=50K\\n</td>\n      <td>0</td>\n      <td>1</td>\n      <td>0</td>\n      <td>0</td>\n      <td>0</td>\n      <td>0</td>\n      <td>0</td>\n      <td>0</td>\n    </tr>\n    <tr>\n      <th>3</th>\n      <td>53</td>\n      <td>2</td>\n      <td>234721</td>\n      <td>7</td>\n      <td>1</td>\n      <td>1</td>\n      <td>0</td>\n      <td>0</td>\n      <td>40</td>\n      <td>&lt;=50K\\n</td>\n      <td>0</td>\n      <td>1</td>\n      <td>0</td>\n      <td>0</td>\n      <td>0</td>\n      <td>0</td>\n      <td>0</td>\n      <td>0</td>\n    </tr>\n    <tr>\n      <th>4</th>\n      <td>28</td>\n      <td>2</td>\n      <td>338409</td>\n      <td>13</td>\n      <td>1</td>\n      <td>0</td>\n      <td>0</td>\n      <td>0</td>\n      <td>40</td>\n      <td>&lt;=50K\\n</td>\n      <td>0</td>\n      <td>1</td>\n      <td>0</td>\n      <td>0</td>\n      <td>0</td>\n      <td>0</td>\n      <td>0</td>\n      <td>0</td>\n    </tr>\n  </tbody>\n</table>\n</div>"
     },
     "execution_count": 8,
     "metadata": {},
     "output_type": "execute_result"
    }
   ],
   "source": [
    "label_race = df2['race'].unique().tolist()\n",
    "label_race\n",
    "#对原数据进行编码\n",
    "df2['race'] = df2['race'].apply(lambda x: label_race.index(x))\n",
    "df2.head()"
   ],
   "metadata": {
    "collapsed": false
   }
  },
  {
   "cell_type": "code",
   "execution_count": 7,
   "outputs": [],
   "source": [
    "df2=df2.join(dummy)"
   ],
   "metadata": {
    "collapsed": false
   }
  },
  {
   "cell_type": "code",
   "execution_count": 6,
   "outputs": [
    {
     "data": {
      "text/plain": "       type_1  type_2  type_3  type_4  type_5  type_6  type_7  type_8\n32556       0       1       0       0       0       0       0       0\n32557       0       1       0       0       0       0       0       0\n32558       0       1       0       0       0       0       0       0\n32559       0       1       0       0       0       0       0       0\n32560       0       0       0       0       0       1       0       0",
      "text/html": "<div>\n<style scoped>\n    .dataframe tbody tr th:only-of-type {\n        vertical-align: middle;\n    }\n\n    .dataframe tbody tr th {\n        vertical-align: top;\n    }\n\n    .dataframe thead th {\n        text-align: right;\n    }\n</style>\n<table border=\"1\" class=\"dataframe\">\n  <thead>\n    <tr style=\"text-align: right;\">\n      <th></th>\n      <th>type_1</th>\n      <th>type_2</th>\n      <th>type_3</th>\n      <th>type_4</th>\n      <th>type_5</th>\n      <th>type_6</th>\n      <th>type_7</th>\n      <th>type_8</th>\n    </tr>\n  </thead>\n  <tbody>\n    <tr>\n      <th>32556</th>\n      <td>0</td>\n      <td>1</td>\n      <td>0</td>\n      <td>0</td>\n      <td>0</td>\n      <td>0</td>\n      <td>0</td>\n      <td>0</td>\n    </tr>\n    <tr>\n      <th>32557</th>\n      <td>0</td>\n      <td>1</td>\n      <td>0</td>\n      <td>0</td>\n      <td>0</td>\n      <td>0</td>\n      <td>0</td>\n      <td>0</td>\n    </tr>\n    <tr>\n      <th>32558</th>\n      <td>0</td>\n      <td>1</td>\n      <td>0</td>\n      <td>0</td>\n      <td>0</td>\n      <td>0</td>\n      <td>0</td>\n      <td>0</td>\n    </tr>\n    <tr>\n      <th>32559</th>\n      <td>0</td>\n      <td>1</td>\n      <td>0</td>\n      <td>0</td>\n      <td>0</td>\n      <td>0</td>\n      <td>0</td>\n      <td>0</td>\n    </tr>\n    <tr>\n      <th>32560</th>\n      <td>0</td>\n      <td>0</td>\n      <td>0</td>\n      <td>0</td>\n      <td>0</td>\n      <td>1</td>\n      <td>0</td>\n      <td>0</td>\n    </tr>\n  </tbody>\n</table>\n</div>"
     },
     "execution_count": 6,
     "metadata": {},
     "output_type": "execute_result"
    }
   ],
   "source": [
    "dummy = pd.get_dummies(df2['type_employer'], prefix='type', drop_first=True)\n",
    "dummy.tail()"
   ],
   "metadata": {
    "collapsed": false
   }
  },
  {
   "cell_type": "code",
   "execution_count": 5,
   "outputs": [
    {
     "data": {
      "text/plain": "   age  type_employer  fnlwgt  education_num   race  sex  capital_gain  \\\n0   39              0   77516             13  White    1          2174   \n1   50              1   83311             13  White    1             0   \n2   38              2  215646              9  White    1             0   \n3   53              2  234721              7  Black    1             0   \n4   28              2  338409             13  Black    0             0   \n\n   capital_loss  hr_per_week   income  \n0             0           40  <=50K\\n  \n1             0           13  <=50K\\n  \n2             0           40  <=50K\\n  \n3             0           40  <=50K\\n  \n4             0           40  <=50K\\n  ",
      "text/html": "<div>\n<style scoped>\n    .dataframe tbody tr th:only-of-type {\n        vertical-align: middle;\n    }\n\n    .dataframe tbody tr th {\n        vertical-align: top;\n    }\n\n    .dataframe thead th {\n        text-align: right;\n    }\n</style>\n<table border=\"1\" class=\"dataframe\">\n  <thead>\n    <tr style=\"text-align: right;\">\n      <th></th>\n      <th>age</th>\n      <th>type_employer</th>\n      <th>fnlwgt</th>\n      <th>education_num</th>\n      <th>race</th>\n      <th>sex</th>\n      <th>capital_gain</th>\n      <th>capital_loss</th>\n      <th>hr_per_week</th>\n      <th>income</th>\n    </tr>\n  </thead>\n  <tbody>\n    <tr>\n      <th>0</th>\n      <td>39</td>\n      <td>0</td>\n      <td>77516</td>\n      <td>13</td>\n      <td>White</td>\n      <td>1</td>\n      <td>2174</td>\n      <td>0</td>\n      <td>40</td>\n      <td>&lt;=50K\\n</td>\n    </tr>\n    <tr>\n      <th>1</th>\n      <td>50</td>\n      <td>1</td>\n      <td>83311</td>\n      <td>13</td>\n      <td>White</td>\n      <td>1</td>\n      <td>0</td>\n      <td>0</td>\n      <td>13</td>\n      <td>&lt;=50K\\n</td>\n    </tr>\n    <tr>\n      <th>2</th>\n      <td>38</td>\n      <td>2</td>\n      <td>215646</td>\n      <td>9</td>\n      <td>White</td>\n      <td>1</td>\n      <td>0</td>\n      <td>0</td>\n      <td>40</td>\n      <td>&lt;=50K\\n</td>\n    </tr>\n    <tr>\n      <th>3</th>\n      <td>53</td>\n      <td>2</td>\n      <td>234721</td>\n      <td>7</td>\n      <td>Black</td>\n      <td>1</td>\n      <td>0</td>\n      <td>0</td>\n      <td>40</td>\n      <td>&lt;=50K\\n</td>\n    </tr>\n    <tr>\n      <th>4</th>\n      <td>28</td>\n      <td>2</td>\n      <td>338409</td>\n      <td>13</td>\n      <td>Black</td>\n      <td>0</td>\n      <td>0</td>\n      <td>0</td>\n      <td>40</td>\n      <td>&lt;=50K\\n</td>\n    </tr>\n  </tbody>\n</table>\n</div>"
     },
     "execution_count": 5,
     "metadata": {},
     "output_type": "execute_result"
    }
   ],
   "source": [
    "df2['sex']=df2['sex'].replace({'Male':1,'Female':0})\n",
    "df2.head()"
   ],
   "metadata": {
    "collapsed": false
   }
  },
  {
   "cell_type": "code",
   "execution_count": 4,
   "outputs": [
    {
     "data": {
      "text/plain": "['State-gov',\n 'Self-emp-not-inc',\n 'Private',\n 'Federal-gov',\n 'Local-gov',\n '?',\n 'Self-emp-inc',\n 'Without-pay',\n 'Never-worked']"
     },
     "execution_count": 4,
     "metadata": {},
     "output_type": "execute_result"
    }
   ],
   "source": [
    "df2 = df.copy()\n",
    "label = df2['type_employer'].unique().tolist()\n",
    "label\n",
    "#对原数据进行编码\n",
    "df2['type_employer'] = df2['type_employer'].apply(lambda x: label.index(x))\n",
    "df2.drop(['education','marital','occupation','relationship','country'],axis=1,inplace=True)"
   ],
   "metadata": {
    "collapsed": false
   }
  },
  {
   "cell_type": "code",
   "execution_count": 3,
   "outputs": [
    {
     "data": {
      "text/plain": "   age     type_employer  fnlwgt  education  education_num  \\\n0   39         State-gov   77516  Bachelors             13   \n1   50  Self-emp-not-inc   83311  Bachelors             13   \n2   38           Private  215646    HS-grad              9   \n\n              marital         occupation   relationship   race   sex  \\\n0       Never-married       Adm-clerical  Not-in-family  White  Male   \n1  Married-civ-spouse    Exec-managerial        Husband  White  Male   \n2            Divorced  Handlers-cleaners  Not-in-family  White  Male   \n\n   capital_gain  capital_loss  hr_per_week        country   income  \n0          2174             0           40  United-States  <=50K\\n  \n1             0             0           13  United-States  <=50K\\n  \n2             0             0           40  United-States  <=50K\\n  ",
      "text/html": "<div>\n<style scoped>\n    .dataframe tbody tr th:only-of-type {\n        vertical-align: middle;\n    }\n\n    .dataframe tbody tr th {\n        vertical-align: top;\n    }\n\n    .dataframe thead th {\n        text-align: right;\n    }\n</style>\n<table border=\"1\" class=\"dataframe\">\n  <thead>\n    <tr style=\"text-align: right;\">\n      <th></th>\n      <th>age</th>\n      <th>type_employer</th>\n      <th>fnlwgt</th>\n      <th>education</th>\n      <th>education_num</th>\n      <th>marital</th>\n      <th>occupation</th>\n      <th>relationship</th>\n      <th>race</th>\n      <th>sex</th>\n      <th>capital_gain</th>\n      <th>capital_loss</th>\n      <th>hr_per_week</th>\n      <th>country</th>\n      <th>income</th>\n    </tr>\n  </thead>\n  <tbody>\n    <tr>\n      <th>0</th>\n      <td>39</td>\n      <td>State-gov</td>\n      <td>77516</td>\n      <td>Bachelors</td>\n      <td>13</td>\n      <td>Never-married</td>\n      <td>Adm-clerical</td>\n      <td>Not-in-family</td>\n      <td>White</td>\n      <td>Male</td>\n      <td>2174</td>\n      <td>0</td>\n      <td>40</td>\n      <td>United-States</td>\n      <td>&lt;=50K\\n</td>\n    </tr>\n    <tr>\n      <th>1</th>\n      <td>50</td>\n      <td>Self-emp-not-inc</td>\n      <td>83311</td>\n      <td>Bachelors</td>\n      <td>13</td>\n      <td>Married-civ-spouse</td>\n      <td>Exec-managerial</td>\n      <td>Husband</td>\n      <td>White</td>\n      <td>Male</td>\n      <td>0</td>\n      <td>0</td>\n      <td>13</td>\n      <td>United-States</td>\n      <td>&lt;=50K\\n</td>\n    </tr>\n    <tr>\n      <th>2</th>\n      <td>38</td>\n      <td>Private</td>\n      <td>215646</td>\n      <td>HS-grad</td>\n      <td>9</td>\n      <td>Divorced</td>\n      <td>Handlers-cleaners</td>\n      <td>Not-in-family</td>\n      <td>White</td>\n      <td>Male</td>\n      <td>0</td>\n      <td>0</td>\n      <td>40</td>\n      <td>United-States</td>\n      <td>&lt;=50K\\n</td>\n    </tr>\n  </tbody>\n</table>\n</div>"
     },
     "execution_count": 3,
     "metadata": {},
     "output_type": "execute_result"
    }
   ],
   "source": [
    "df = pd.DataFrame(data) #  Two-dimensional size-mutable, potentially heterogeneous tabular data structure with labeled axes\n",
    "\n",
    "df.columns = ['age', 'type_employer', 'fnlwgt', 'education',\n",
    "              \"education_num\",\"marital\", \"occupation\", \"relationship\", \"race\",\"sex\",\n",
    "              \"capital_gain\", \"capital_loss\", \"hr_per_week\",\"country\",\"income\"]\n",
    "df.head(3)"
   ],
   "metadata": {
    "collapsed": false
   }
  },
  {
   "cell_type": "code",
   "execution_count": 2,
   "outputs": [
    {
     "data": {
      "text/plain": "'C:\\\\ProgramData\\\\Anaconda3\\\\envs\\\\cda_python\\\\lib\\\\os.py'"
     },
     "execution_count": 2,
     "metadata": {},
     "output_type": "execute_result"
    }
   ],
   "source": [
    "import pandas as pd\n",
    "import numpy as np\n",
    "import os\n",
    "os.__file__\n",
    "os.chdir(r'C:\\Data\\Jupyter_file\\DataScienceUB\\introduction-datascience-python-book\\files')\n",
    "file = open('ch03/adult.data', 'r')\n",
    "def chr_int(a):\n",
    "    if a.isdigit():\n",
    "        return int(a)\n",
    "    else:\n",
    "        return 0\n",
    "\n",
    "data=[]\n",
    "for line in file:\n",
    "    data1=line.split(', ')\n",
    "    if len(data1)==15:\n",
    "        data.append([chr_int(data1[0]),data1[1],chr_int(data1[2]),data1[3],chr_int(data1[4]),data1[5],data1[6],\\\n",
    "            data1[7],data1[8],data1[9],chr_int(data1[10]),chr_int(data1[11]),chr_int(data1[12]),data1[13],\\\n",
    "            data1[14]])\n"
   ],
   "metadata": {
    "collapsed": false
   }
  },
  {
   "cell_type": "code",
   "execution_count": null,
   "outputs": [],
   "source": [
    "from IPython.core.interactiveshell import InteractiveShell\n",
    "InteractiveShell.ast_node_interactivity = \"all\"\n",
    "import warnings\n",
    "warnings.filterwarnings(\"ignore\")"
   ],
   "metadata": {
    "collapsed": false,
    "pycharm": {
     "is_executing": true
    }
   }
  }
 ],
 "metadata": {
  "kernelspec": {
   "display_name": "Python 3",
   "language": "python",
   "name": "python3"
  },
  "language_info": {
   "codemirror_mode": {
    "name": "ipython",
    "version": 2
   },
   "file_extension": ".py",
   "mimetype": "text/x-python",
   "name": "python",
   "nbconvert_exporter": "python",
   "pygments_lexer": "ipython2",
   "version": "2.7.6"
  }
 },
 "nbformat": 4,
 "nbformat_minor": 0
}
