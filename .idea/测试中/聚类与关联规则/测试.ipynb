{
 "cells": [
  {
   "cell_type": "code",
   "execution_count": 9,
   "outputs": [
    {
     "data": {
      "text/plain": "'C:\\\\ProgramData\\\\Anaconda3\\\\envs\\\\cda_python\\\\lib\\\\os.py'"
     },
     "execution_count": 9,
     "metadata": {},
     "output_type": "execute_result"
    }
   ],
   "source": [
    "import os\n",
    "os.__file__"
   ],
   "metadata": {
    "collapsed": false
   }
  },
  {
   "cell_type": "code",
   "execution_count": 8,
   "outputs": [
    {
     "ename": "AttributeError",
     "evalue": "module 'pandas.io.date_converters' has no attribute 'DataReader'",
     "output_type": "error",
     "traceback": [
      "\u001B[1;31m---------------------------------------------------------------------------\u001B[0m",
      "\u001B[1;31mAttributeError\u001B[0m                            Traceback (most recent call last)",
      "Cell \u001B[1;32mIn[8], line 4\u001B[0m\n\u001B[0;32m      2\u001B[0m \u001B[38;5;28;01mimport\u001B[39;00m \u001B[38;5;21;01mdatetime\u001B[39;00m\n\u001B[0;32m      3\u001B[0m \u001B[38;5;28;01mimport\u001B[39;00m \u001B[38;5;21;01mpandas\u001B[39;00m\u001B[38;5;21;01m.\u001B[39;00m\u001B[38;5;21;01mio\u001B[39;00m\u001B[38;5;21;01m.\u001B[39;00m\u001B[38;5;21;01mdate_converters\u001B[39;00m \u001B[38;5;28;01mas\u001B[39;00m \u001B[38;5;21;01mweb\u001B[39;00m\n\u001B[1;32m----> 4\u001B[0m spy \u001B[38;5;241m=\u001B[39m \u001B[43mweb\u001B[49m\u001B[38;5;241;43m.\u001B[39;49m\u001B[43mDataReader\u001B[49m(\n\u001B[0;32m      5\u001B[0m     \u001B[38;5;124m'\u001B[39m\u001B[38;5;124mSPY\u001B[39m\u001B[38;5;124m'\u001B[39m,\u001B[38;5;124m'\u001B[39m\u001B[38;5;124myahoo\u001B[39m\u001B[38;5;124m'\u001B[39m,\n\u001B[0;32m      6\u001B[0m     datetime\u001B[38;5;241m.\u001B[39mdatetime(\u001B[38;5;241m2020\u001B[39m,\u001B[38;5;241m1\u001B[39m,\u001B[38;5;241m1\u001B[39m),\n\u001B[0;32m      7\u001B[0m     datetime\u001B[38;5;241m.\u001B[39mdatetime(\u001B[38;5;241m2023\u001B[39m,\u001B[38;5;241m4\u001B[39m,\u001B[38;5;241m14\u001B[39m)\n\u001B[0;32m      8\u001B[0m )\n\u001B[0;32m      9\u001B[0m spy\n",
      "\u001B[1;31mAttributeError\u001B[0m: module 'pandas.io.date_converters' has no attribute 'DataReader'"
     ]
    }
   ],
   "source": [
    "from __future__ import print_function\n",
    "import datetime\n",
    "import pandas.io.date_converters as web\n",
    "spy = web.DataReader(\n",
    "    'SPY','yahoo',\n",
    "    datetime.datetime(2020,1,1),\n",
    "    datetime.datetime(2023,4,14)\n",
    ")\n",
    "spy"
   ],
   "metadata": {
    "collapsed": false
   }
  },
  {
   "cell_type": "code",
   "execution_count": 5,
   "outputs": [
    {
     "ename": "AttributeError",
     "evalue": "'NoneType' object has no attribute 'split'",
     "output_type": "error",
     "traceback": [
      "\u001B[1;31m---------------------------------------------------------------------------\u001B[0m",
      "\u001B[1;31mAttributeError\u001B[0m                            Traceback (most recent call last)",
      "Cell \u001B[1;32mIn[5], line 3\u001B[0m\n\u001B[0;32m      1\u001B[0m \u001B[38;5;28;01mfrom\u001B[39;00m \u001B[38;5;21;01msklearn\u001B[39;00m\u001B[38;5;21;01m.\u001B[39;00m\u001B[38;5;21;01mcluster\u001B[39;00m \u001B[38;5;28;01mimport\u001B[39;00m KMeans\n\u001B[0;32m      2\u001B[0m km \u001B[38;5;241m=\u001B[39m KMeans(n_clusters\u001B[38;5;241m=\u001B[39m\u001B[38;5;241m3\u001B[39m)\n\u001B[1;32m----> 3\u001B[0m label \u001B[38;5;241m=\u001B[39m \u001B[43mkm\u001B[49m\u001B[38;5;241;43m.\u001B[39;49m\u001B[43mfit_predict\u001B[49m\u001B[43m(\u001B[49m\u001B[43mmodel_data\u001B[49m\u001B[43m)\u001B[49m\n\u001B[0;32m      4\u001B[0m expense \u001B[38;5;241m=\u001B[39m np\u001B[38;5;241m.\u001B[39msum(km\u001B[38;5;241m.\u001B[39mcluster_centers_,axis\u001B[38;5;241m=\u001B[39m\u001B[38;5;241m1\u001B[39m)\n\u001B[0;32m      5\u001B[0m expense\n",
      "File \u001B[1;32mC:\\ProgramData\\Anaconda3\\envs\\cda_python\\lib\\site-packages\\sklearn\\cluster\\_kmeans.py:1033\u001B[0m, in \u001B[0;36m_BaseKMeans.fit_predict\u001B[1;34m(self, X, y, sample_weight)\u001B[0m\n\u001B[0;32m   1010\u001B[0m \u001B[38;5;28;01mdef\u001B[39;00m \u001B[38;5;21mfit_predict\u001B[39m(\u001B[38;5;28mself\u001B[39m, X, y\u001B[38;5;241m=\u001B[39m\u001B[38;5;28;01mNone\u001B[39;00m, sample_weight\u001B[38;5;241m=\u001B[39m\u001B[38;5;28;01mNone\u001B[39;00m):\n\u001B[0;32m   1011\u001B[0m     \u001B[38;5;124;03m\"\"\"Compute cluster centers and predict cluster index for each sample.\u001B[39;00m\n\u001B[0;32m   1012\u001B[0m \n\u001B[0;32m   1013\u001B[0m \u001B[38;5;124;03m    Convenience method; equivalent to calling fit(X) followed by\u001B[39;00m\n\u001B[1;32m   (...)\u001B[0m\n\u001B[0;32m   1031\u001B[0m \u001B[38;5;124;03m        Index of the cluster each sample belongs to.\u001B[39;00m\n\u001B[0;32m   1032\u001B[0m \u001B[38;5;124;03m    \"\"\"\u001B[39;00m\n\u001B[1;32m-> 1033\u001B[0m     \u001B[38;5;28;01mreturn\u001B[39;00m \u001B[38;5;28;43mself\u001B[39;49m\u001B[38;5;241;43m.\u001B[39;49m\u001B[43mfit\u001B[49m\u001B[43m(\u001B[49m\u001B[43mX\u001B[49m\u001B[43m,\u001B[49m\u001B[43m \u001B[49m\u001B[43msample_weight\u001B[49m\u001B[38;5;241;43m=\u001B[39;49m\u001B[43msample_weight\u001B[49m\u001B[43m)\u001B[49m\u001B[38;5;241m.\u001B[39mlabels_\n",
      "File \u001B[1;32mC:\\ProgramData\\Anaconda3\\envs\\cda_python\\lib\\site-packages\\sklearn\\cluster\\_kmeans.py:1455\u001B[0m, in \u001B[0;36mKMeans.fit\u001B[1;34m(self, X, y, sample_weight)\u001B[0m\n\u001B[0;32m   1453\u001B[0m \u001B[38;5;28;01melse\u001B[39;00m:\n\u001B[0;32m   1454\u001B[0m     kmeans_single \u001B[38;5;241m=\u001B[39m _kmeans_single_lloyd\n\u001B[1;32m-> 1455\u001B[0m     \u001B[38;5;28;43mself\u001B[39;49m\u001B[38;5;241;43m.\u001B[39;49m\u001B[43m_check_mkl_vcomp\u001B[49m\u001B[43m(\u001B[49m\u001B[43mX\u001B[49m\u001B[43m,\u001B[49m\u001B[43m \u001B[49m\u001B[43mX\u001B[49m\u001B[38;5;241;43m.\u001B[39;49m\u001B[43mshape\u001B[49m\u001B[43m[\u001B[49m\u001B[38;5;241;43m0\u001B[39;49m\u001B[43m]\u001B[49m\u001B[43m)\u001B[49m\n\u001B[0;32m   1457\u001B[0m best_inertia, best_labels \u001B[38;5;241m=\u001B[39m \u001B[38;5;28;01mNone\u001B[39;00m, \u001B[38;5;28;01mNone\u001B[39;00m\n\u001B[0;32m   1459\u001B[0m \u001B[38;5;28;01mfor\u001B[39;00m i \u001B[38;5;129;01min\u001B[39;00m \u001B[38;5;28mrange\u001B[39m(\u001B[38;5;28mself\u001B[39m\u001B[38;5;241m.\u001B[39m_n_init):\n\u001B[0;32m   1460\u001B[0m     \u001B[38;5;66;03m# Initialize centers\u001B[39;00m\n",
      "File \u001B[1;32mC:\\ProgramData\\Anaconda3\\envs\\cda_python\\lib\\site-packages\\sklearn\\cluster\\_kmeans.py:911\u001B[0m, in \u001B[0;36m_BaseKMeans._check_mkl_vcomp\u001B[1;34m(self, X, n_samples)\u001B[0m\n\u001B[0;32m    909\u001B[0m n_active_threads \u001B[38;5;241m=\u001B[39m \u001B[38;5;28mint\u001B[39m(np\u001B[38;5;241m.\u001B[39mceil(n_samples \u001B[38;5;241m/\u001B[39m CHUNK_SIZE))\n\u001B[0;32m    910\u001B[0m \u001B[38;5;28;01mif\u001B[39;00m n_active_threads \u001B[38;5;241m<\u001B[39m \u001B[38;5;28mself\u001B[39m\u001B[38;5;241m.\u001B[39m_n_threads:\n\u001B[1;32m--> 911\u001B[0m     modules \u001B[38;5;241m=\u001B[39m \u001B[43mthreadpool_info\u001B[49m\u001B[43m(\u001B[49m\u001B[43m)\u001B[49m\n\u001B[0;32m    912\u001B[0m     has_vcomp \u001B[38;5;241m=\u001B[39m \u001B[38;5;124m\"\u001B[39m\u001B[38;5;124mvcomp\u001B[39m\u001B[38;5;124m\"\u001B[39m \u001B[38;5;129;01min\u001B[39;00m [module[\u001B[38;5;124m\"\u001B[39m\u001B[38;5;124mprefix\u001B[39m\u001B[38;5;124m\"\u001B[39m] \u001B[38;5;28;01mfor\u001B[39;00m module \u001B[38;5;129;01min\u001B[39;00m modules]\n\u001B[0;32m    913\u001B[0m     has_mkl \u001B[38;5;241m=\u001B[39m (\u001B[38;5;124m\"\u001B[39m\u001B[38;5;124mmkl\u001B[39m\u001B[38;5;124m\"\u001B[39m, \u001B[38;5;124m\"\u001B[39m\u001B[38;5;124mintel\u001B[39m\u001B[38;5;124m\"\u001B[39m) \u001B[38;5;129;01min\u001B[39;00m [\n\u001B[0;32m    914\u001B[0m         (module[\u001B[38;5;124m\"\u001B[39m\u001B[38;5;124minternal_api\u001B[39m\u001B[38;5;124m\"\u001B[39m], module\u001B[38;5;241m.\u001B[39mget(\u001B[38;5;124m\"\u001B[39m\u001B[38;5;124mthreading_layer\u001B[39m\u001B[38;5;124m\"\u001B[39m, \u001B[38;5;28;01mNone\u001B[39;00m))\n\u001B[0;32m    915\u001B[0m         \u001B[38;5;28;01mfor\u001B[39;00m module \u001B[38;5;129;01min\u001B[39;00m modules\n\u001B[0;32m    916\u001B[0m     ]\n",
      "File \u001B[1;32mC:\\ProgramData\\Anaconda3\\envs\\cda_python\\lib\\site-packages\\sklearn\\utils\\fixes.py:150\u001B[0m, in \u001B[0;36mthreadpool_info\u001B[1;34m()\u001B[0m\n\u001B[0;32m    148\u001B[0m     \u001B[38;5;28;01mreturn\u001B[39;00m controller\u001B[38;5;241m.\u001B[39minfo()\n\u001B[0;32m    149\u001B[0m \u001B[38;5;28;01melse\u001B[39;00m:\n\u001B[1;32m--> 150\u001B[0m     \u001B[38;5;28;01mreturn\u001B[39;00m \u001B[43mthreadpoolctl\u001B[49m\u001B[38;5;241;43m.\u001B[39;49m\u001B[43mthreadpool_info\u001B[49m\u001B[43m(\u001B[49m\u001B[43m)\u001B[49m\n",
      "File \u001B[1;32mC:\\ProgramData\\Anaconda3\\envs\\cda_python\\lib\\site-packages\\threadpoolctl.py:124\u001B[0m, in \u001B[0;36mthreadpool_info\u001B[1;34m()\u001B[0m\n\u001B[0;32m    107\u001B[0m \u001B[38;5;129m@_format_docstring\u001B[39m(USER_APIS\u001B[38;5;241m=\u001B[39m\u001B[38;5;28mlist\u001B[39m(_ALL_USER_APIS),\n\u001B[0;32m    108\u001B[0m                    INTERNAL_APIS\u001B[38;5;241m=\u001B[39m_ALL_INTERNAL_APIS)\n\u001B[0;32m    109\u001B[0m \u001B[38;5;28;01mdef\u001B[39;00m \u001B[38;5;21mthreadpool_info\u001B[39m():\n\u001B[0;32m    110\u001B[0m     \u001B[38;5;124;03m\"\"\"Return the maximal number of threads for each detected library.\u001B[39;00m\n\u001B[0;32m    111\u001B[0m \n\u001B[0;32m    112\u001B[0m \u001B[38;5;124;03m    Return a list with all the supported modules that have been found. Each\u001B[39;00m\n\u001B[1;32m   (...)\u001B[0m\n\u001B[0;32m    122\u001B[0m \u001B[38;5;124;03m    In addition, each module may contain internal_api specific entries.\u001B[39;00m\n\u001B[0;32m    123\u001B[0m \u001B[38;5;124;03m    \"\"\"\u001B[39;00m\n\u001B[1;32m--> 124\u001B[0m     \u001B[38;5;28;01mreturn\u001B[39;00m \u001B[43m_ThreadpoolInfo\u001B[49m\u001B[43m(\u001B[49m\u001B[43muser_api\u001B[49m\u001B[38;5;241;43m=\u001B[39;49m\u001B[43m_ALL_USER_APIS\u001B[49m\u001B[43m)\u001B[49m\u001B[38;5;241m.\u001B[39mtodicts()\n",
      "File \u001B[1;32mC:\\ProgramData\\Anaconda3\\envs\\cda_python\\lib\\site-packages\\threadpoolctl.py:340\u001B[0m, in \u001B[0;36m_ThreadpoolInfo.__init__\u001B[1;34m(self, user_api, prefixes, modules)\u001B[0m\n\u001B[0;32m    337\u001B[0m     \u001B[38;5;28mself\u001B[39m\u001B[38;5;241m.\u001B[39muser_api \u001B[38;5;241m=\u001B[39m [] \u001B[38;5;28;01mif\u001B[39;00m user_api \u001B[38;5;129;01mis\u001B[39;00m \u001B[38;5;28;01mNone\u001B[39;00m \u001B[38;5;28;01melse\u001B[39;00m user_api\n\u001B[0;32m    339\u001B[0m     \u001B[38;5;28mself\u001B[39m\u001B[38;5;241m.\u001B[39mmodules \u001B[38;5;241m=\u001B[39m []\n\u001B[1;32m--> 340\u001B[0m     \u001B[38;5;28;43mself\u001B[39;49m\u001B[38;5;241;43m.\u001B[39;49m\u001B[43m_load_modules\u001B[49m\u001B[43m(\u001B[49m\u001B[43m)\u001B[49m\n\u001B[0;32m    341\u001B[0m     \u001B[38;5;28mself\u001B[39m\u001B[38;5;241m.\u001B[39m_warn_if_incompatible_openmp()\n\u001B[0;32m    342\u001B[0m \u001B[38;5;28;01melse\u001B[39;00m:\n",
      "File \u001B[1;32mC:\\ProgramData\\Anaconda3\\envs\\cda_python\\lib\\site-packages\\threadpoolctl.py:373\u001B[0m, in \u001B[0;36m_ThreadpoolInfo._load_modules\u001B[1;34m(self)\u001B[0m\n\u001B[0;32m    371\u001B[0m     \u001B[38;5;28mself\u001B[39m\u001B[38;5;241m.\u001B[39m_find_modules_with_dyld()\n\u001B[0;32m    372\u001B[0m \u001B[38;5;28;01melif\u001B[39;00m sys\u001B[38;5;241m.\u001B[39mplatform \u001B[38;5;241m==\u001B[39m \u001B[38;5;124m\"\u001B[39m\u001B[38;5;124mwin32\u001B[39m\u001B[38;5;124m\"\u001B[39m:\n\u001B[1;32m--> 373\u001B[0m     \u001B[38;5;28;43mself\u001B[39;49m\u001B[38;5;241;43m.\u001B[39;49m\u001B[43m_find_modules_with_enum_process_module_ex\u001B[49m\u001B[43m(\u001B[49m\u001B[43m)\u001B[49m\n\u001B[0;32m    374\u001B[0m \u001B[38;5;28;01melse\u001B[39;00m:\n\u001B[0;32m    375\u001B[0m     \u001B[38;5;28mself\u001B[39m\u001B[38;5;241m.\u001B[39m_find_modules_with_dl_iterate_phdr()\n",
      "File \u001B[1;32mC:\\ProgramData\\Anaconda3\\envs\\cda_python\\lib\\site-packages\\threadpoolctl.py:485\u001B[0m, in \u001B[0;36m_ThreadpoolInfo._find_modules_with_enum_process_module_ex\u001B[1;34m(self)\u001B[0m\n\u001B[0;32m    482\u001B[0m         filepath \u001B[38;5;241m=\u001B[39m buf\u001B[38;5;241m.\u001B[39mvalue\n\u001B[0;32m    484\u001B[0m         \u001B[38;5;66;03m# Store the module if it is supported and selected\u001B[39;00m\n\u001B[1;32m--> 485\u001B[0m         \u001B[38;5;28;43mself\u001B[39;49m\u001B[38;5;241;43m.\u001B[39;49m\u001B[43m_make_module_from_path\u001B[49m\u001B[43m(\u001B[49m\u001B[43mfilepath\u001B[49m\u001B[43m)\u001B[49m\n\u001B[0;32m    486\u001B[0m \u001B[38;5;28;01mfinally\u001B[39;00m:\n\u001B[0;32m    487\u001B[0m     kernel_32\u001B[38;5;241m.\u001B[39mCloseHandle(h_process)\n",
      "File \u001B[1;32mC:\\ProgramData\\Anaconda3\\envs\\cda_python\\lib\\site-packages\\threadpoolctl.py:515\u001B[0m, in \u001B[0;36m_ThreadpoolInfo._make_module_from_path\u001B[1;34m(self, filepath)\u001B[0m\n\u001B[0;32m    513\u001B[0m \u001B[38;5;28;01mif\u001B[39;00m prefix \u001B[38;5;129;01min\u001B[39;00m \u001B[38;5;28mself\u001B[39m\u001B[38;5;241m.\u001B[39mprefixes \u001B[38;5;129;01mor\u001B[39;00m user_api \u001B[38;5;129;01min\u001B[39;00m \u001B[38;5;28mself\u001B[39m\u001B[38;5;241m.\u001B[39muser_api:\n\u001B[0;32m    514\u001B[0m     module_class \u001B[38;5;241m=\u001B[39m \u001B[38;5;28mglobals\u001B[39m()[module_class]\n\u001B[1;32m--> 515\u001B[0m     module \u001B[38;5;241m=\u001B[39m \u001B[43mmodule_class\u001B[49m\u001B[43m(\u001B[49m\u001B[43mfilepath\u001B[49m\u001B[43m,\u001B[49m\u001B[43m \u001B[49m\u001B[43mprefix\u001B[49m\u001B[43m,\u001B[49m\u001B[43m \u001B[49m\u001B[43muser_api\u001B[49m\u001B[43m,\u001B[49m\u001B[43m \u001B[49m\u001B[43minternal_api\u001B[49m\u001B[43m)\u001B[49m\n\u001B[0;32m    516\u001B[0m     \u001B[38;5;28mself\u001B[39m\u001B[38;5;241m.\u001B[39mmodules\u001B[38;5;241m.\u001B[39mappend(module)\n",
      "File \u001B[1;32mC:\\ProgramData\\Anaconda3\\envs\\cda_python\\lib\\site-packages\\threadpoolctl.py:606\u001B[0m, in \u001B[0;36m_Module.__init__\u001B[1;34m(self, filepath, prefix, user_api, internal_api)\u001B[0m\n\u001B[0;32m    604\u001B[0m \u001B[38;5;28mself\u001B[39m\u001B[38;5;241m.\u001B[39minternal_api \u001B[38;5;241m=\u001B[39m internal_api\n\u001B[0;32m    605\u001B[0m \u001B[38;5;28mself\u001B[39m\u001B[38;5;241m.\u001B[39m_dynlib \u001B[38;5;241m=\u001B[39m ctypes\u001B[38;5;241m.\u001B[39mCDLL(filepath, mode\u001B[38;5;241m=\u001B[39m_RTLD_NOLOAD)\n\u001B[1;32m--> 606\u001B[0m \u001B[38;5;28mself\u001B[39m\u001B[38;5;241m.\u001B[39mversion \u001B[38;5;241m=\u001B[39m \u001B[38;5;28;43mself\u001B[39;49m\u001B[38;5;241;43m.\u001B[39;49m\u001B[43mget_version\u001B[49m\u001B[43m(\u001B[49m\u001B[43m)\u001B[49m\n\u001B[0;32m    607\u001B[0m \u001B[38;5;28mself\u001B[39m\u001B[38;5;241m.\u001B[39mnum_threads \u001B[38;5;241m=\u001B[39m \u001B[38;5;28mself\u001B[39m\u001B[38;5;241m.\u001B[39mget_num_threads()\n\u001B[0;32m    608\u001B[0m \u001B[38;5;28mself\u001B[39m\u001B[38;5;241m.\u001B[39m_get_extra_info()\n",
      "File \u001B[1;32mC:\\ProgramData\\Anaconda3\\envs\\cda_python\\lib\\site-packages\\threadpoolctl.py:646\u001B[0m, in \u001B[0;36m_OpenBLASModule.get_version\u001B[1;34m(self)\u001B[0m\n\u001B[0;32m    643\u001B[0m get_config \u001B[38;5;241m=\u001B[39m \u001B[38;5;28mgetattr\u001B[39m(\u001B[38;5;28mself\u001B[39m\u001B[38;5;241m.\u001B[39m_dynlib, \u001B[38;5;124m\"\u001B[39m\u001B[38;5;124mopenblas_get_config\u001B[39m\u001B[38;5;124m\"\u001B[39m,\n\u001B[0;32m    644\u001B[0m                      \u001B[38;5;28;01mlambda\u001B[39;00m: \u001B[38;5;28;01mNone\u001B[39;00m)\n\u001B[0;32m    645\u001B[0m get_config\u001B[38;5;241m.\u001B[39mrestype \u001B[38;5;241m=\u001B[39m ctypes\u001B[38;5;241m.\u001B[39mc_char_p\n\u001B[1;32m--> 646\u001B[0m config \u001B[38;5;241m=\u001B[39m \u001B[43mget_config\u001B[49m\u001B[43m(\u001B[49m\u001B[43m)\u001B[49m\u001B[38;5;241;43m.\u001B[39;49m\u001B[43msplit\u001B[49m()\n\u001B[0;32m    647\u001B[0m \u001B[38;5;28;01mif\u001B[39;00m config[\u001B[38;5;241m0\u001B[39m] \u001B[38;5;241m==\u001B[39m \u001B[38;5;124mb\u001B[39m\u001B[38;5;124m\"\u001B[39m\u001B[38;5;124mOpenBLAS\u001B[39m\u001B[38;5;124m\"\u001B[39m:\n\u001B[0;32m    648\u001B[0m     \u001B[38;5;28;01mreturn\u001B[39;00m config[\u001B[38;5;241m1\u001B[39m]\u001B[38;5;241m.\u001B[39mdecode(\u001B[38;5;124m\"\u001B[39m\u001B[38;5;124mutf-8\u001B[39m\u001B[38;5;124m\"\u001B[39m)\n",
      "\u001B[1;31mAttributeError\u001B[0m: 'NoneType' object has no attribute 'split'"
     ]
    }
   ],
   "source": [
    "from sklearn.cluster import KMeans\n",
    "km = KMeans(n_clusters=3)\n",
    "label = km.fit_predict(model_data)\n",
    "expense = np.sum(km.cluster_centers_,axis=1)\n",
    "expense"
   ],
   "metadata": {
    "collapsed": false
   }
  },
  {
   "cell_type": "code",
   "execution_count": 6,
   "outputs": [
    {
     "data": {
      "text/plain": "        X1     X2      X3      X4      X5      X6      X7     X8     X9\n0   5458.2  13000  1376.2  2258.4  1315.9   529.0  2258.4  123.7  399.7\n1  10550.0  11643  3502.5  3851.0  2288.7  1070.7  3181.9  211.1  610.2\n2   6076.6   9047  1406.7  2092.6  1161.6   597.1  1968.3   45.9  302.3\n3   2022.6  22068   822.8   960.0   703.7   361.9   941.4  115.7  171.8\n4  10636.3  14397  3536.3  3967.2  2320.0  1141.3  3215.8  384.7  643.7",
      "text/html": "<div>\n<style scoped>\n    .dataframe tbody tr th:only-of-type {\n        vertical-align: middle;\n    }\n\n    .dataframe tbody tr th {\n        vertical-align: top;\n    }\n\n    .dataframe thead th {\n        text-align: right;\n    }\n</style>\n<table border=\"1\" class=\"dataframe\">\n  <thead>\n    <tr style=\"text-align: right;\">\n      <th></th>\n      <th>X1</th>\n      <th>X2</th>\n      <th>X3</th>\n      <th>X4</th>\n      <th>X5</th>\n      <th>X6</th>\n      <th>X7</th>\n      <th>X8</th>\n      <th>X9</th>\n    </tr>\n  </thead>\n  <tbody>\n    <tr>\n      <th>0</th>\n      <td>5458.2</td>\n      <td>13000</td>\n      <td>1376.2</td>\n      <td>2258.4</td>\n      <td>1315.9</td>\n      <td>529.0</td>\n      <td>2258.4</td>\n      <td>123.7</td>\n      <td>399.7</td>\n    </tr>\n    <tr>\n      <th>1</th>\n      <td>10550.0</td>\n      <td>11643</td>\n      <td>3502.5</td>\n      <td>3851.0</td>\n      <td>2288.7</td>\n      <td>1070.7</td>\n      <td>3181.9</td>\n      <td>211.1</td>\n      <td>610.2</td>\n    </tr>\n    <tr>\n      <th>2</th>\n      <td>6076.6</td>\n      <td>9047</td>\n      <td>1406.7</td>\n      <td>2092.6</td>\n      <td>1161.6</td>\n      <td>597.1</td>\n      <td>1968.3</td>\n      <td>45.9</td>\n      <td>302.3</td>\n    </tr>\n    <tr>\n      <th>3</th>\n      <td>2022.6</td>\n      <td>22068</td>\n      <td>822.8</td>\n      <td>960.0</td>\n      <td>703.7</td>\n      <td>361.9</td>\n      <td>941.4</td>\n      <td>115.7</td>\n      <td>171.8</td>\n    </tr>\n    <tr>\n      <th>4</th>\n      <td>10636.3</td>\n      <td>14397</td>\n      <td>3536.3</td>\n      <td>3967.2</td>\n      <td>2320.0</td>\n      <td>1141.3</td>\n      <td>3215.8</td>\n      <td>384.7</td>\n      <td>643.7</td>\n    </tr>\n  </tbody>\n</table>\n</div>"
     },
     "execution_count": 6,
     "metadata": {},
     "output_type": "execute_result"
    }
   ],
   "source": [
    "#获取要用的特征\n",
    "model_data=df.loc[:,\"X1\":]\n",
    "model_data.head()"
   ],
   "metadata": {
    "collapsed": false
   }
  },
  {
   "cell_type": "code",
   "execution_count": 3,
   "outputs": [
    {
     "data": {
      "text/plain": "  AREA       X1     X2      X3      X4      X5      X6      X7     X8     X9\n0   辽宁   5458.2  13000  1376.2  2258.4  1315.9   529.0  2258.4  123.7  399.7\n1   山东  10550.0  11643  3502.5  3851.0  2288.7  1070.7  3181.9  211.1  610.2\n2   河北   6076.6   9047  1406.7  2092.6  1161.6   597.1  1968.3   45.9  302.3\n3   天津   2022.6  22068   822.8   960.0   703.7   361.9   941.4  115.7  171.8\n4   江苏  10636.3  14397  3536.3  3967.2  2320.0  1141.3  3215.8  384.7  643.7",
      "text/html": "<div>\n<style scoped>\n    .dataframe tbody tr th:only-of-type {\n        vertical-align: middle;\n    }\n\n    .dataframe tbody tr th {\n        vertical-align: top;\n    }\n\n    .dataframe thead th {\n        text-align: right;\n    }\n</style>\n<table border=\"1\" class=\"dataframe\">\n  <thead>\n    <tr style=\"text-align: right;\">\n      <th></th>\n      <th>AREA</th>\n      <th>X1</th>\n      <th>X2</th>\n      <th>X3</th>\n      <th>X4</th>\n      <th>X5</th>\n      <th>X6</th>\n      <th>X7</th>\n      <th>X8</th>\n      <th>X9</th>\n    </tr>\n  </thead>\n  <tbody>\n    <tr>\n      <th>0</th>\n      <td>辽宁</td>\n      <td>5458.2</td>\n      <td>13000</td>\n      <td>1376.2</td>\n      <td>2258.4</td>\n      <td>1315.9</td>\n      <td>529.0</td>\n      <td>2258.4</td>\n      <td>123.7</td>\n      <td>399.7</td>\n    </tr>\n    <tr>\n      <th>1</th>\n      <td>山东</td>\n      <td>10550.0</td>\n      <td>11643</td>\n      <td>3502.5</td>\n      <td>3851.0</td>\n      <td>2288.7</td>\n      <td>1070.7</td>\n      <td>3181.9</td>\n      <td>211.1</td>\n      <td>610.2</td>\n    </tr>\n    <tr>\n      <th>2</th>\n      <td>河北</td>\n      <td>6076.6</td>\n      <td>9047</td>\n      <td>1406.7</td>\n      <td>2092.6</td>\n      <td>1161.6</td>\n      <td>597.1</td>\n      <td>1968.3</td>\n      <td>45.9</td>\n      <td>302.3</td>\n    </tr>\n    <tr>\n      <th>3</th>\n      <td>天津</td>\n      <td>2022.6</td>\n      <td>22068</td>\n      <td>822.8</td>\n      <td>960.0</td>\n      <td>703.7</td>\n      <td>361.9</td>\n      <td>941.4</td>\n      <td>115.7</td>\n      <td>171.8</td>\n    </tr>\n    <tr>\n      <th>4</th>\n      <td>江苏</td>\n      <td>10636.3</td>\n      <td>14397</td>\n      <td>3536.3</td>\n      <td>3967.2</td>\n      <td>2320.0</td>\n      <td>1141.3</td>\n      <td>3215.8</td>\n      <td>384.7</td>\n      <td>643.7</td>\n    </tr>\n  </tbody>\n</table>\n</div>"
     },
     "execution_count": 3,
     "metadata": {},
     "output_type": "execute_result"
    }
   ],
   "source": [
    "#读取数据\n",
    "df=pd.read_csv(\"cities_10.csv\",encoding=\"gbk\")\n",
    "df.head()"
   ],
   "metadata": {
    "collapsed": false
   }
  },
  {
   "cell_type": "code",
   "execution_count": 2,
   "outputs": [],
   "source": [
    "import matplotlib.pyplot as plt\n",
    "plt.style.use('seaborn')\n",
    "#设置字体为黑色\n",
    "plt.rcParams['font.family']='SimHei'\n",
    "#显示符号\n",
    "plt.rcParams['axes.unicode_minus']= False"
   ],
   "metadata": {
    "collapsed": false
   }
  },
  {
   "cell_type": "code",
   "execution_count": null,
   "outputs": [],
   "source": [
    "from IPython.core.interactiveshell import InteractiveShell\n",
    "InteractiveShell.ast_node_interactivity = \"all\"\n",
    "\n",
    "import numpy as np\n",
    "import pandas as pd\n",
    "\n",
    "import warnings\n",
    "warnings.filterwarnings(\"ignore\")\n",
    "import os\n",
    "os.chdir('C:\\Data\\Jupyter_file\\统计建模\\连续变量降维')"
   ],
   "metadata": {
    "collapsed": false,
    "pycharm": {
     "is_executing": true
    }
   }
  }
 ],
 "metadata": {
  "kernelspec": {
   "display_name": "Python 3",
   "language": "python",
   "name": "python3"
  },
  "language_info": {
   "codemirror_mode": {
    "name": "ipython",
    "version": 2
   },
   "file_extension": ".py",
   "mimetype": "text/x-python",
   "name": "python",
   "nbconvert_exporter": "python",
   "pygments_lexer": "ipython2",
   "version": "2.7.6"
  }
 },
 "nbformat": 4,
 "nbformat_minor": 0
}
