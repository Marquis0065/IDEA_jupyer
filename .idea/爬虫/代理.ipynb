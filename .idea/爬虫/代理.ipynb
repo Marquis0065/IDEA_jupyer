{
 "cells": [
  {
   "cell_type": "code",
   "execution_count": null,
   "metadata": {
    "collapsed": true
   },
   "outputs": [],
   "source": [
    "import urllib\n",
    "import random\n",
    "url = ''\n",
    "proxies_pool=[\n",
    "    {'http':'119.24.219.151:16899'},\n",
    "    {'http':'119.24.219.151:16899'}\n",
    "]\n",
    "proxies = random.choice(proxies_pool)\n",
    "header={\n",
    "\n",
    "}\n",
    "requess = urllib.request.Request(url,header)\n",
    "#使用handler\n",
    "handler = urllib.request.ProxyHandler(proxies)\n",
    "opener = urllib.request.build_opener(handler)\n",
    "response = opener.open(request)\n",
    "content = response.read().decode('utf-8')\n"
   ]
  }
 ],
 "metadata": {
  "kernelspec": {
   "display_name": "Python 3",
   "language": "python",
   "name": "python3"
  },
  "language_info": {
   "codemirror_mode": {
    "name": "ipython",
    "version": 2
   },
   "file_extension": ".py",
   "mimetype": "text/x-python",
   "name": "python",
   "nbconvert_exporter": "python",
   "pygments_lexer": "ipython2",
   "version": "2.7.6"
  }
 },
 "nbformat": 4,
 "nbformat_minor": 0
}
