{
 "cells": [
  {
   "cell_type": "code",
   "execution_count": 10,
   "outputs": [
    {
     "data": {
      "text/plain": "200"
     },
     "execution_count": 10,
     "metadata": {},
     "output_type": "execute_result"
    },
    {
     "data": {
      "text/plain": "{'errno': 0,\n 'data': [{'k': 'elevated',\n   'v': 'adj. 升高的; 高层的; 高尚的 n. <美><口>高架铁路 v. 提升; 提高; 举起( el'},\n  {'k': 'elevated goal', 'v': '[体]球篮'},\n  {'k': 'elevated road', 'v': '高架道路'},\n  {'k': 'elevated tank', 'v': '高位槽[罐]，压力罐'},\n  {'k': 'elevated railway', 'v': 'n. 高架铁道'}]}"
     },
     "execution_count": 10,
     "metadata": {},
     "output_type": "execute_result"
    }
   ],
   "source": [
    "# post 翻译\n",
    "import json\n",
    "import requests\n",
    "url = 'https://fanyi.baidu.com/sug'\n",
    "header={\n",
    "    'User-Agent': 'Mozilla/5.0 (Windows NT 10.0; Win64; x64) AppleWebKit/537.36 (KHTML, like Gecko) Chrome/114.0.0.0 Safari/537.36'\n",
    "}\n",
    "data = {\n",
    "    'kw':'elevated'\n",
    "}\n",
    "# data:请求参数； kwargs:字典\n",
    "response = requests.post(url,data,header)\n",
    "response.status_code\n",
    "response.encoding='utf-8'\n",
    "obj = json.loads(response.text)\n",
    "obj"
   ],
   "metadata": {
    "collapsed": false
   }
  },
  {
   "cell_type": "code",
   "execution_count": 7,
   "outputs": [
    {
     "data": {
      "text/plain": "200"
     },
     "execution_count": 7,
     "metadata": {},
     "output_type": "execute_result"
    }
   ],
   "source": [
    "import requests\n",
    "url = 'https://www.baidu.com/s?'   # ？号也可以删除\n",
    "header={\n",
    "    'User-Agent': 'Mozilla/5.0 (Windows NT 10.0; Win64; x64) AppleWebKit/537.36 (KHTML, like Gecko) Chrome/114.0.0.0 Safari/537.36'\n",
    "}\n",
    "data = {\n",
    "    'wd':'马尼拉'\n",
    "}\n",
    "# 参数：params:参数，kwargs: 字典\n",
    "# 参数使用params传递，无需urlencode编码，不需要请求对象定制\n",
    "response = requests.get(url,data,headers=header)\n",
    "response.status_code"
   ],
   "metadata": {
    "collapsed": false
   }
  },
  {
   "cell_type": "code",
   "execution_count": null,
   "outputs": [],
   "source": [
    "# 对比 urllib库\n",
    "# (1)一个类型，6个方法\n",
    "# (2) get 请求\n",
    "# (3) post 请求\n",
    "# (4) ajax的get请求\n",
    "# (5) ajax的post请求\n",
    "# (6) cookie的登录\n",
    "# (7) proxie 代理"
   ],
   "metadata": {
    "collapsed": false
   }
  },
  {
   "cell_type": "code",
   "execution_count": 6,
   "outputs": [
    {
     "data": {
      "text/plain": "'http://www.baidu.com/'"
     },
     "execution_count": 6,
     "metadata": {},
     "output_type": "execute_result"
    },
    {
     "data": {
      "text/plain": "200"
     },
     "execution_count": 6,
     "metadata": {},
     "output_type": "execute_result"
    },
    {
     "data": {
      "text/plain": "{'Cache-Control': 'private, no-cache, no-store, proxy-revalidate, no-transform', 'Connection': 'keep-alive', 'Content-Encoding': 'gzip', 'Content-Type': 'text/html', 'Date': 'Wed, 19 Jul 2023 00:58:42 GMT', 'Last-Modified': 'Mon, 23 Jan 2017 13:28:12 GMT', 'Pragma': 'no-cache', 'Server': 'bfe/1.0.8.18', 'Set-Cookie': 'BDORZ=27315; max-age=86400; domain=.baidu.com; path=/', 'Transfer-Encoding': 'chunked'}"
     },
     "execution_count": 6,
     "metadata": {},
     "output_type": "execute_result"
    }
   ],
   "source": [
    "# 一个类型，6个属性\n",
    "# response.text #网站源码,以字符串的形式\n",
    "response.url\n",
    "response.encoding='utf-8' # 设置响应的编码格式\n",
    "# response.content # 返回二进制的数据\n",
    "response.status_code # 返回状态码\n",
    "response.headers"
   ],
   "metadata": {
    "collapsed": false
   }
  },
  {
   "cell_type": "code",
   "execution_count": 3,
   "outputs": [
    {
     "data": {
      "text/plain": "requests.models.Response"
     },
     "execution_count": 3,
     "metadata": {},
     "output_type": "execute_result"
    }
   ],
   "source": [
    "import requests\n",
    "url = 'http://www.baidu.com'\n",
    "response = requests.get(url)\n",
    "type(response)"
   ],
   "metadata": {
    "collapsed": false
   }
  },
  {
   "cell_type": "code",
   "execution_count": 1,
   "outputs": [],
   "source": [
    "from IPython.core.interactiveshell import InteractiveShell\n",
    "InteractiveShell.ast_node_interactivity = \"all\""
   ],
   "metadata": {
    "collapsed": false
   }
  }
 ],
 "metadata": {
  "kernelspec": {
   "name": "pythonproject1",
   "language": "python",
   "display_name": "pythonProject1"
  },
  "language_info": {
   "codemirror_mode": {
    "name": "ipython",
    "version": 2
   },
   "file_extension": ".py",
   "mimetype": "text/x-python",
   "name": "python",
   "nbconvert_exporter": "python",
   "pygments_lexer": "ipython2",
   "version": "2.7.6"
  }
 },
 "nbformat": 4,
 "nbformat_minor": 0
}
