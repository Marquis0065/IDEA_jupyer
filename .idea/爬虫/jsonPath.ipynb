{
 "cells": [
  {
   "cell_type": "code",
   "execution_count": 23,
   "outputs": [
    {
     "data": {
      "text/plain": "[{'category': '修改', 'author': '天蚕土豆', 'title': '斗破苍穹', 'price': 12.99},\n {'category': '修真',\n  'author': '南派三叔',\n  'title': '星辰变',\n  'isbn': '0-395-19395-8',\n  'price': 22.99}]"
     },
     "execution_count": 23,
     "metadata": {},
     "output_type": "execute_result"
    }
   ],
   "source": [
    "#哪本书超过10元\n",
    "jsonpath.jsonpath(obj,'$..book[?(@.price>10)]')"
   ],
   "metadata": {
    "collapsed": false
   }
  },
  {
   "cell_type": "code",
   "execution_count": 20,
   "outputs": [
    {
     "data": {
      "text/plain": "[{'category': '修真',\n  'author': '唐家三少',\n  'title': '斗罗大陆',\n  'isbn': '0-553-21311-3',\n  'price': 8.99},\n {'category': '修真',\n  'author': '南派三叔',\n  'title': '星辰变',\n  'isbn': '0-395-19395-8',\n  'price': 22.99}]"
     },
     "execution_count": 20,
     "metadata": {},
     "output_type": "execute_result"
    }
   ],
   "source": [
    "#过滤包含版本号的,条件过滤，需要在圆括号内加一个？号\n",
    "jsonpath.jsonpath(obj,'$..book[?(@.isbn)]')"
   ],
   "metadata": {
    "collapsed": false
   }
  },
  {
   "cell_type": "code",
   "execution_count": 17,
   "outputs": [
    {
     "data": {
      "text/plain": "[{'category': '修真', 'author': '六道', 'title': '坏蛋是怎样练成的', 'price': 8.95},\n {'category': '修改', 'author': '天蚕土豆', 'title': '斗破苍穹', 'price': 12.99}]"
     },
     "execution_count": 17,
     "metadata": {},
     "output_type": "execute_result"
    },
    {
     "data": {
      "text/plain": "[{'category': '修真', 'author': '六道', 'title': '坏蛋是怎样练成的', 'price': 8.95},\n {'category': '修改', 'author': '天蚕土豆', 'title': '斗破苍穹', 'price': 12.99}]"
     },
     "execution_count": 17,
     "metadata": {},
     "output_type": "execute_result"
    }
   ],
   "source": [
    "#前二本书,切片模式\n",
    "jsonpath.jsonpath(obj,'$.store.book[:2]')\n",
    "jsonpath.jsonpath(obj,'$.store.book[0,1]')"
   ],
   "metadata": {
    "collapsed": false
   }
  },
  {
   "cell_type": "code",
   "execution_count": 13,
   "outputs": [
    {
     "data": {
      "text/plain": "[{'category': '修真',\n  'author': '南派三叔',\n  'title': '星辰变',\n  'isbn': '0-395-19395-8',\n  'price': 22.99}]"
     },
     "execution_count": 13,
     "metadata": {},
     "output_type": "execute_result"
    }
   ],
   "source": [
    "#最后一本书\n",
    "jsonpath.jsonpath(obj,'$..book[(@.length-1)]')"
   ],
   "metadata": {
    "collapsed": false
   }
  },
  {
   "cell_type": "code",
   "execution_count": 12,
   "outputs": [
    {
     "data": {
      "text/plain": "[{'category': '修真',\n  'author': '南派三叔',\n  'title': '星辰变',\n  'isbn': '0-395-19395-8',\n  'price': 22.99}]"
     },
     "execution_count": 12,
     "metadata": {},
     "output_type": "execute_result"
    }
   ],
   "source": [
    "#第三本书\n",
    "jsonpath.jsonpath(obj,'$.store.book[3]')"
   ],
   "metadata": {
    "collapsed": false
   }
  },
  {
   "cell_type": "code",
   "execution_count": 11,
   "outputs": [
    {
     "data": {
      "text/plain": "[8.95, 12.99, 8.99, 22.99, 19.95]"
     },
     "execution_count": 11,
     "metadata": {},
     "output_type": "execute_result"
    }
   ],
   "source": [
    "#所有的price\n",
    "jsonpath.jsonpath(obj,'$.store..price')"
   ],
   "metadata": {
    "collapsed": false
   }
  },
  {
   "cell_type": "code",
   "execution_count": 9,
   "outputs": [
    {
     "data": {
      "text/plain": "[[{'category': '修真', 'author': '六道', 'title': '坏蛋是怎样练成的', 'price': 8.95},\n  {'category': '修改', 'author': '天蚕土豆', 'title': '斗破苍穹', 'price': 12.99},\n  {'category': '修真',\n   'author': '唐家三少',\n   'title': '斗罗大陆',\n   'isbn': '0-553-21311-3',\n   'price': 8.99},\n  {'category': '修真',\n   'author': '南派三叔',\n   'title': '星辰变',\n   'isbn': '0-395-19395-8',\n   'price': 22.99}],\n {'color': '黑色', 'price': 19.95}]"
     },
     "execution_count": 9,
     "metadata": {},
     "output_type": "execute_result"
    }
   ],
   "source": [
    "#提取全部元素\n",
    "jsonpath.jsonpath(obj,'$.store.*')"
   ],
   "metadata": {
    "collapsed": false
   }
  },
  {
   "cell_type": "code",
   "execution_count": 7,
   "outputs": [
    {
     "data": {
      "text/plain": "['六道', '天蚕土豆', '唐家三少', '南派三叔']"
     },
     "execution_count": 7,
     "metadata": {},
     "output_type": "execute_result"
    }
   ],
   "source": [
    "#所有的作者\n",
    "jsonpath.jsonpath(obj,'$.store..author')"
   ],
   "metadata": {
    "collapsed": false
   }
  },
  {
   "cell_type": "code",
   "execution_count": 6,
   "outputs": [
    {
     "data": {
      "text/plain": "['六道', '天蚕土豆', '唐家三少', '南派三叔']"
     },
     "execution_count": 6,
     "metadata": {},
     "output_type": "execute_result"
    }
   ],
   "source": [
    "#提取json的数据\n",
    "jsonpath.jsonpath(obj,'$.store.book[*].author')"
   ],
   "metadata": {
    "collapsed": false
   }
  },
  {
   "cell_type": "code",
   "execution_count": 5,
   "outputs": [
    {
     "data": {
      "text/plain": "{'store': {'book': [{'category': '修真',\n    'author': '六道',\n    'title': '坏蛋是怎样练成的',\n    'price': 8.95},\n   {'category': '修改', 'author': '天蚕土豆', 'title': '斗破苍穹', 'price': 12.99},\n   {'category': '修真',\n    'author': '唐家三少',\n    'title': '斗罗大陆',\n    'isbn': '0-553-21311-3',\n    'price': 8.99},\n   {'category': '修真',\n    'author': '南派三叔',\n    'title': '星辰变',\n    'isbn': '0-395-19395-8',\n    'price': 22.99}],\n  'bicycle': {'color': '黑色', 'price': 19.95}}}"
     },
     "execution_count": 5,
     "metadata": {},
     "output_type": "execute_result"
    }
   ],
   "source": [
    "obj = json.load(open('store.json','r',encoding='utf-8'))\n",
    "obj"
   ],
   "metadata": {
    "collapsed": false
   }
  },
  {
   "cell_type": "code",
   "execution_count": null,
   "outputs": [],
   "source": [],
   "metadata": {
    "collapsed": false
   }
  },
  {
   "cell_type": "code",
   "execution_count": 2,
   "outputs": [],
   "source": [
    "import jsonpath\n",
    "import json"
   ],
   "metadata": {
    "collapsed": false
   }
  },
  {
   "cell_type": "code",
   "execution_count": 1,
   "outputs": [],
   "source": [
    "from IPython.core.interactiveshell import InteractiveShell\n",
    "InteractiveShell.ast_node_interactivity = \"all\""
   ],
   "metadata": {
    "collapsed": false
   }
  }
 ],
 "metadata": {
  "kernelspec": {
   "name": "pythonproject1",
   "language": "python",
   "display_name": "pythonProject1"
  },
  "language_info": {
   "codemirror_mode": {
    "name": "ipython",
    "version": 2
   },
   "file_extension": ".py",
   "mimetype": "text/x-python",
   "name": "python",
   "nbconvert_exporter": "python",
   "pygments_lexer": "ipython2",
   "version": "2.7.6"
  }
 },
 "nbformat": 4,
 "nbformat_minor": 0
}
