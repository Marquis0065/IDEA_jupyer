{
 "cells": [
  {
   "cell_type": "code",
   "execution_count": 4,
   "outputs": [
    {
     "ename": "FileNotFoundError",
     "evalue": "[Errno 2] No such file or directory: '文件'",
     "output_type": "error",
     "traceback": [
      "\u001B[1;31m---------------------------------------------------------------------------\u001B[0m",
      "\u001B[1;31mFileNotFoundError\u001B[0m                         Traceback (most recent call last)",
      "Cell \u001B[1;32mIn[4], line 1\u001B[0m\n\u001B[1;32m----> 1\u001B[0m soup \u001B[38;5;241m=\u001B[39m BeautifulSoup(\u001B[38;5;28;43mopen\u001B[39;49m\u001B[43m(\u001B[49m\u001B[38;5;124;43m'\u001B[39;49m\u001B[38;5;124;43m文件\u001B[39;49m\u001B[38;5;124;43m'\u001B[39;49m\u001B[43m,\u001B[49m\u001B[43mencoding\u001B[49m\u001B[38;5;241;43m=\u001B[39;49m\u001B[38;5;124;43m'\u001B[39;49m\u001B[38;5;124;43mutf-8\u001B[39;49m\u001B[38;5;124;43m'\u001B[39;49m\u001B[43m)\u001B[49m,\u001B[38;5;124m'\u001B[39m\u001B[38;5;124mlxml\u001B[39m\u001B[38;5;124m'\u001B[39m)\n\u001B[0;32m      2\u001B[0m soup\u001B[38;5;241m.\u001B[39ma \u001B[38;5;66;03m# 每一个a\u001B[39;00m\n\u001B[0;32m      3\u001B[0m soup\u001B[38;5;241m.\u001B[39ma\u001B[38;5;241m.\u001B[39mattrs \u001B[38;5;66;03m# 标签的属性\u001B[39;00m\n",
      "File \u001B[1;32mC:\\ProgramData\\Anaconda3\\envs\\pythonProject1\\lib\\site-packages\\IPython\\core\\interactiveshell.py:282\u001B[0m, in \u001B[0;36m_modified_open\u001B[1;34m(file, *args, **kwargs)\u001B[0m\n\u001B[0;32m    275\u001B[0m \u001B[38;5;28;01mif\u001B[39;00m file \u001B[38;5;129;01min\u001B[39;00m {\u001B[38;5;241m0\u001B[39m, \u001B[38;5;241m1\u001B[39m, \u001B[38;5;241m2\u001B[39m}:\n\u001B[0;32m    276\u001B[0m     \u001B[38;5;28;01mraise\u001B[39;00m \u001B[38;5;167;01mValueError\u001B[39;00m(\n\u001B[0;32m    277\u001B[0m         \u001B[38;5;124mf\u001B[39m\u001B[38;5;124m\"\u001B[39m\u001B[38;5;124mIPython won\u001B[39m\u001B[38;5;124m'\u001B[39m\u001B[38;5;124mt let you open fd=\u001B[39m\u001B[38;5;132;01m{\u001B[39;00mfile\u001B[38;5;132;01m}\u001B[39;00m\u001B[38;5;124m by default \u001B[39m\u001B[38;5;124m\"\u001B[39m\n\u001B[0;32m    278\u001B[0m         \u001B[38;5;124m\"\u001B[39m\u001B[38;5;124mas it is likely to crash IPython. If you know what you are doing, \u001B[39m\u001B[38;5;124m\"\u001B[39m\n\u001B[0;32m    279\u001B[0m         \u001B[38;5;124m\"\u001B[39m\u001B[38;5;124myou can use builtins\u001B[39m\u001B[38;5;124m'\u001B[39m\u001B[38;5;124m open.\u001B[39m\u001B[38;5;124m\"\u001B[39m\n\u001B[0;32m    280\u001B[0m     )\n\u001B[1;32m--> 282\u001B[0m \u001B[38;5;28;01mreturn\u001B[39;00m io_open(file, \u001B[38;5;241m*\u001B[39margs, \u001B[38;5;241m*\u001B[39m\u001B[38;5;241m*\u001B[39mkwargs)\n",
      "\u001B[1;31mFileNotFoundError\u001B[0m: [Errno 2] No such file or directory: '文件'"
     ]
    }
   ],
   "source": [
    "soup = BeautifulSoup(open('文件',encoding='utf-8'),'lxml')\n",
    "soup.a # 每一个a\n",
    "soup.a.attrs # 标签的属性\n",
    "soup.find('a') # 第一个a\n",
    "soup.find('a',title='属性值')\n",
    "#因为class是关键字,应用class_\n",
    "soup.find('a',class_='')\n",
    "soup.find_all('a') # 返回一个列表，所有的a标签\n",
    "soup.find_all(['a','b']) # 多个标签用列表格式\n",
    "soup.find_all('li',limit=2) # 筛选前几个\n",
    "# select 选择器\n",
    "# 通过标签\n",
    "soup.select('a')\n",
    "# 类选择器 标签前加.\n",
    "soup.select('.cl2')\n",
    "# id选择器\n",
    "soup.select('#id3')  # id='id3'\n",
    "# 属性选择器\n",
    "soup.select('li[id]') # li中有Id的\n",
    "soup.select('li[id=\"cc\"]') # id = 'cc'的标签\n",
    "# 层级选择器\n",
    "# 后代选择器\n",
    "soup.select('div li')\n",
    "# 子代选择器\n",
    "soup.select('div>ul>li') # 注意，空格如果不加，可能有问题\n",
    "#\n",
    "soup.select('a,li')\n",
    "\n",
    "# 节点信息,select 返回列表\n",
    "# 如果标签中只有内容，string,get_text()一样，如果有其它标签，仅能用get_text()\n",
    "soup.select('#id1')[0].get_text()\n",
    "# 节点属性\n",
    "soup.select('#id2')[0].name  # 返回标签名称\n",
    "soup.select('#id2')[0].attrs # 属性值 作为一个字典返回\n",
    "soup.select('#id2')[0].attrs.get('class')  # 获取类的值\n",
    "soup.select('#id2')[0].get('class') # 不推荐\n",
    "soup.select('#id2')[0]['class']\n",
    "\n",
    "\n",
    "\n",
    "\n",
    "\n",
    "\n",
    "\n"
   ],
   "metadata": {
    "collapsed": false
   }
  },
  {
   "cell_type": "code",
   "execution_count": 3,
   "outputs": [],
   "source": [
    "from bs4 import BeautifulSoup"
   ],
   "metadata": {
    "collapsed": false
   }
  },
  {
   "cell_type": "code",
   "execution_count": null,
   "outputs": [],
   "source": [
    "from IPython.core.interactiveshell import InteractiveShell\n",
    "InteractiveShell.ast_node_interactivity = \"all\"\n",
    "import json\n",
    "import jsonpath\n",
    "from bs4 import BeautifulSoup"
   ],
   "metadata": {
    "collapsed": false,
    "pycharm": {
     "is_executing": true
    }
   }
  }
 ],
 "metadata": {
  "kernelspec": {
   "name": "pythonproject1",
   "language": "python",
   "display_name": "pythonProject1"
  },
  "language_info": {
   "codemirror_mode": {
    "name": "ipython",
    "version": 2
   },
   "file_extension": ".py",
   "mimetype": "text/x-python",
   "name": "python",
   "nbconvert_exporter": "python",
   "pygments_lexer": "ipython2",
   "version": "2.7.6"
  }
 },
 "nbformat": 4,
 "nbformat_minor": 0
}
