{
 "cells": [
  {
   "cell_type": "code",
   "execution_count": 10,
   "outputs": [
    {
     "data": {
      "text/plain": "[]"
     },
     "execution_count": 10,
     "metadata": {},
     "output_type": "execute_result"
    }
   ],
   "source": [
    "tree.xpath('//body/em[1]/text()')[:-1]"
   ],
   "metadata": {
    "collapsed": false
   }
  },
  {
   "cell_type": "code",
   "execution_count": 7,
   "outputs": [
    {
     "data": {
      "text/plain": "['5300',\n '6860',\n '4200',\n '3200',\n '2800',\n '4036-4654',\n '7600',\n '9900',\n '5800',\n '2140-2199',\n '12000',\n '4268-4850',\n '9200',\n '3850-4268',\n '3300',\n '15000',\n '18800',\n '4850',\n '4500',\n '6100',\n '7000',\n '3024',\n '3600',\n '3393-4164',\n '8000',\n '4100-4200',\n '7000',\n '3306',\n '4800',\n '3817']"
     },
     "execution_count": 7,
     "metadata": {},
     "output_type": "execute_result"
    }
   ],
   "source": [
    "from lxml import etree\n",
    "import urllib\n",
    "url='https://bj.lianjia.com/zufang/'\n",
    "response = urllib.request.urlopen(url)\n",
    "# etree.parse 只能解析本地文件\n",
    "tree= etree.HTML(response.read().decode('utf-8'))\n",
    "tree.xpath('//body//em/text()')[:-1]"
   ],
   "metadata": {
    "collapsed": false
   }
  }
 ],
 "metadata": {
  "kernelspec": {
   "name": "pythonproject1",
   "language": "python",
   "display_name": "pythonProject1"
  },
  "language_info": {
   "codemirror_mode": {
    "name": "ipython",
    "version": 2
   },
   "file_extension": ".py",
   "mimetype": "text/x-python",
   "name": "python",
   "nbconvert_exporter": "python",
   "pygments_lexer": "ipython2",
   "version": "2.7.6"
  }
 },
 "nbformat": 4,
 "nbformat_minor": 0
}
