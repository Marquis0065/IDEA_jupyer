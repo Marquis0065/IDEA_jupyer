{
 "cells": [
  {
   "cell_type": "code",
   "execution_count": 9,
   "outputs": [
    {
     "data": {
      "text/plain": "   com_姓名  com_养老保险   com_失业保险  com_医疗保险 aut_姓名  aut_养老保险   aut_失业保险  \\\n1     蔡凌艳    1471.30    113.72    802.50    蔡凌艳     1471.3     113.7   \n10    高建东     946.16     73.11    516.13    NaN        NaN       NaN   \n11    胡建强    1207.50     93.30    658.60    胡建强     1003.2      77.5   \n19    刘红智    1158.78     89.52    632.00    刘红智     1158.7      89.5   \n20    刘华强     725.30     56.00    395.60    NaN        NaN       NaN   \n33    王小建     342.80      0.00     93.50    NaN        NaN       NaN   \n38    俞瑊尧     906.70     87.10    494.60    俞瑊尧      900.5      69.6   \n41     赵虎    1200.90     92.82    655.08     赵虎     1200.9      92.8   \n48    邹海前     827.10     63.90    451.10    NaN        NaN       NaN   \n49    NaN        NaN       NaN       NaN     熊佳     1672.4     129.2   \n50    NaN        NaN       NaN       NaN    瞿庆龙     1127.4      87.1   \n51    NaN        NaN       NaN       NaN    位小建      342.8       0.0   \n52    NaN        NaN       NaN       NaN     胡娜      342.8       0.0   \n53    NaN        NaN       NaN       NaN     王飞      735.0      56.8   \n54    NaN        NaN       NaN       NaN    郑克超      913.3      70.6   \n55    NaN        NaN       NaN       NaN     郭君      342.8       0.0   \n\n    aut_医疗保险   差异_养老  差异_失业   差异_医疗  \n1      802.5    0.00   0.02    0.00  \n10       NaN     NaN    NaN     NaN  \n11     547.2  204.30  15.80  111.40  \n19     632.0    0.08   0.02    0.00  \n20       NaN     NaN    NaN     NaN  \n33       NaN     NaN    NaN     NaN  \n38     491.2    6.20  17.50    3.40  \n41     655.0    0.00   0.02    0.08  \n48       NaN     NaN    NaN     NaN  \n49     912.2     NaN    NaN     NaN  \n50     615.0     NaN    NaN     NaN  \n51      93.5     NaN    NaN     NaN  \n52      93.5     NaN    NaN     NaN  \n53     400.9     NaN    NaN     NaN  \n54     498.2     NaN    NaN     NaN  \n55      93.5     NaN    NaN     NaN  ",
      "text/html": "<div>\n<style scoped>\n    .dataframe tbody tr th:only-of-type {\n        vertical-align: middle;\n    }\n\n    .dataframe tbody tr th {\n        vertical-align: top;\n    }\n\n    .dataframe thead th {\n        text-align: right;\n    }\n</style>\n<table border=\"1\" class=\"dataframe\">\n  <thead>\n    <tr style=\"text-align: right;\">\n      <th></th>\n      <th>com_姓名</th>\n      <th>com_养老保险</th>\n      <th>com_失业保险</th>\n      <th>com_医疗保险</th>\n      <th>aut_姓名</th>\n      <th>aut_养老保险</th>\n      <th>aut_失业保险</th>\n      <th>aut_医疗保险</th>\n      <th>差异_养老</th>\n      <th>差异_失业</th>\n      <th>差异_医疗</th>\n    </tr>\n  </thead>\n  <tbody>\n    <tr>\n      <th>1</th>\n      <td>蔡凌艳</td>\n      <td>1471.30</td>\n      <td>113.72</td>\n      <td>802.50</td>\n      <td>蔡凌艳</td>\n      <td>1471.3</td>\n      <td>113.7</td>\n      <td>802.5</td>\n      <td>0.00</td>\n      <td>0.02</td>\n      <td>0.00</td>\n    </tr>\n    <tr>\n      <th>10</th>\n      <td>高建东</td>\n      <td>946.16</td>\n      <td>73.11</td>\n      <td>516.13</td>\n      <td>NaN</td>\n      <td>NaN</td>\n      <td>NaN</td>\n      <td>NaN</td>\n      <td>NaN</td>\n      <td>NaN</td>\n      <td>NaN</td>\n    </tr>\n    <tr>\n      <th>11</th>\n      <td>胡建强</td>\n      <td>1207.50</td>\n      <td>93.30</td>\n      <td>658.60</td>\n      <td>胡建强</td>\n      <td>1003.2</td>\n      <td>77.5</td>\n      <td>547.2</td>\n      <td>204.30</td>\n      <td>15.80</td>\n      <td>111.40</td>\n    </tr>\n    <tr>\n      <th>19</th>\n      <td>刘红智</td>\n      <td>1158.78</td>\n      <td>89.52</td>\n      <td>632.00</td>\n      <td>刘红智</td>\n      <td>1158.7</td>\n      <td>89.5</td>\n      <td>632.0</td>\n      <td>0.08</td>\n      <td>0.02</td>\n      <td>0.00</td>\n    </tr>\n    <tr>\n      <th>20</th>\n      <td>刘华强</td>\n      <td>725.30</td>\n      <td>56.00</td>\n      <td>395.60</td>\n      <td>NaN</td>\n      <td>NaN</td>\n      <td>NaN</td>\n      <td>NaN</td>\n      <td>NaN</td>\n      <td>NaN</td>\n      <td>NaN</td>\n    </tr>\n    <tr>\n      <th>33</th>\n      <td>王小建</td>\n      <td>342.80</td>\n      <td>0.00</td>\n      <td>93.50</td>\n      <td>NaN</td>\n      <td>NaN</td>\n      <td>NaN</td>\n      <td>NaN</td>\n      <td>NaN</td>\n      <td>NaN</td>\n      <td>NaN</td>\n    </tr>\n    <tr>\n      <th>38</th>\n      <td>俞瑊尧</td>\n      <td>906.70</td>\n      <td>87.10</td>\n      <td>494.60</td>\n      <td>俞瑊尧</td>\n      <td>900.5</td>\n      <td>69.6</td>\n      <td>491.2</td>\n      <td>6.20</td>\n      <td>17.50</td>\n      <td>3.40</td>\n    </tr>\n    <tr>\n      <th>41</th>\n      <td>赵虎</td>\n      <td>1200.90</td>\n      <td>92.82</td>\n      <td>655.08</td>\n      <td>赵虎</td>\n      <td>1200.9</td>\n      <td>92.8</td>\n      <td>655.0</td>\n      <td>0.00</td>\n      <td>0.02</td>\n      <td>0.08</td>\n    </tr>\n    <tr>\n      <th>48</th>\n      <td>邹海前</td>\n      <td>827.10</td>\n      <td>63.90</td>\n      <td>451.10</td>\n      <td>NaN</td>\n      <td>NaN</td>\n      <td>NaN</td>\n      <td>NaN</td>\n      <td>NaN</td>\n      <td>NaN</td>\n      <td>NaN</td>\n    </tr>\n    <tr>\n      <th>49</th>\n      <td>NaN</td>\n      <td>NaN</td>\n      <td>NaN</td>\n      <td>NaN</td>\n      <td>熊佳</td>\n      <td>1672.4</td>\n      <td>129.2</td>\n      <td>912.2</td>\n      <td>NaN</td>\n      <td>NaN</td>\n      <td>NaN</td>\n    </tr>\n    <tr>\n      <th>50</th>\n      <td>NaN</td>\n      <td>NaN</td>\n      <td>NaN</td>\n      <td>NaN</td>\n      <td>瞿庆龙</td>\n      <td>1127.4</td>\n      <td>87.1</td>\n      <td>615.0</td>\n      <td>NaN</td>\n      <td>NaN</td>\n      <td>NaN</td>\n    </tr>\n    <tr>\n      <th>51</th>\n      <td>NaN</td>\n      <td>NaN</td>\n      <td>NaN</td>\n      <td>NaN</td>\n      <td>位小建</td>\n      <td>342.8</td>\n      <td>0.0</td>\n      <td>93.5</td>\n      <td>NaN</td>\n      <td>NaN</td>\n      <td>NaN</td>\n    </tr>\n    <tr>\n      <th>52</th>\n      <td>NaN</td>\n      <td>NaN</td>\n      <td>NaN</td>\n      <td>NaN</td>\n      <td>胡娜</td>\n      <td>342.8</td>\n      <td>0.0</td>\n      <td>93.5</td>\n      <td>NaN</td>\n      <td>NaN</td>\n      <td>NaN</td>\n    </tr>\n    <tr>\n      <th>53</th>\n      <td>NaN</td>\n      <td>NaN</td>\n      <td>NaN</td>\n      <td>NaN</td>\n      <td>王飞</td>\n      <td>735.0</td>\n      <td>56.8</td>\n      <td>400.9</td>\n      <td>NaN</td>\n      <td>NaN</td>\n      <td>NaN</td>\n    </tr>\n    <tr>\n      <th>54</th>\n      <td>NaN</td>\n      <td>NaN</td>\n      <td>NaN</td>\n      <td>NaN</td>\n      <td>郑克超</td>\n      <td>913.3</td>\n      <td>70.6</td>\n      <td>498.2</td>\n      <td>NaN</td>\n      <td>NaN</td>\n      <td>NaN</td>\n    </tr>\n    <tr>\n      <th>55</th>\n      <td>NaN</td>\n      <td>NaN</td>\n      <td>NaN</td>\n      <td>NaN</td>\n      <td>郭君</td>\n      <td>342.8</td>\n      <td>0.0</td>\n      <td>93.5</td>\n      <td>NaN</td>\n      <td>NaN</td>\n      <td>NaN</td>\n    </tr>\n  </tbody>\n</table>\n</div>"
     },
     "execution_count": 9,
     "metadata": {},
     "output_type": "execute_result"
    }
   ],
   "source": [
    "df[(df['差异_养老']!=0) | (df['差异_医疗']!=0) | (df['差异_失业']!=0)]"
   ],
   "metadata": {
    "collapsed": false
   }
  },
  {
   "cell_type": "code",
   "execution_count": 7,
   "outputs": [
    {
     "data": {
      "text/plain": "  com_姓名  com_养老保险   com_失业保险  com_医疗保险 aut_姓名  aut_养老保险   aut_失业保险  aut_医疗保险  \\\n0    张庆光     1461.3    112.90     797.1    张庆光     1461.3     112.9     797.1   \n1    蔡凌艳     1471.3    113.72     802.5    蔡凌艳     1471.3     113.7     802.5   \n2     曹琦      804.3     62.10     438.7     曹琦      804.3      62.1     438.7   \n3    陈正林     1219.2     94.20     665.0    陈正林     1219.2      94.2     665.0   \n4    邓传英     2251.0    173.90    1227.8    邓传英     2251.0     173.9    1227.8   \n\n   差异_养老  差异_失业  差异_医疗  \n0    0.0   0.00    0.0  \n1    0.0   0.02    0.0  \n2    0.0   0.00    0.0  \n3    0.0   0.00    0.0  \n4    0.0   0.00    0.0  ",
      "text/html": "<div>\n<style scoped>\n    .dataframe tbody tr th:only-of-type {\n        vertical-align: middle;\n    }\n\n    .dataframe tbody tr th {\n        vertical-align: top;\n    }\n\n    .dataframe thead th {\n        text-align: right;\n    }\n</style>\n<table border=\"1\" class=\"dataframe\">\n  <thead>\n    <tr style=\"text-align: right;\">\n      <th></th>\n      <th>com_姓名</th>\n      <th>com_养老保险</th>\n      <th>com_失业保险</th>\n      <th>com_医疗保险</th>\n      <th>aut_姓名</th>\n      <th>aut_养老保险</th>\n      <th>aut_失业保险</th>\n      <th>aut_医疗保险</th>\n      <th>差异_养老</th>\n      <th>差异_失业</th>\n      <th>差异_医疗</th>\n    </tr>\n  </thead>\n  <tbody>\n    <tr>\n      <th>0</th>\n      <td>张庆光</td>\n      <td>1461.3</td>\n      <td>112.90</td>\n      <td>797.1</td>\n      <td>张庆光</td>\n      <td>1461.3</td>\n      <td>112.9</td>\n      <td>797.1</td>\n      <td>0.0</td>\n      <td>0.00</td>\n      <td>0.0</td>\n    </tr>\n    <tr>\n      <th>1</th>\n      <td>蔡凌艳</td>\n      <td>1471.3</td>\n      <td>113.72</td>\n      <td>802.5</td>\n      <td>蔡凌艳</td>\n      <td>1471.3</td>\n      <td>113.7</td>\n      <td>802.5</td>\n      <td>0.0</td>\n      <td>0.02</td>\n      <td>0.0</td>\n    </tr>\n    <tr>\n      <th>2</th>\n      <td>曹琦</td>\n      <td>804.3</td>\n      <td>62.10</td>\n      <td>438.7</td>\n      <td>曹琦</td>\n      <td>804.3</td>\n      <td>62.1</td>\n      <td>438.7</td>\n      <td>0.0</td>\n      <td>0.00</td>\n      <td>0.0</td>\n    </tr>\n    <tr>\n      <th>3</th>\n      <td>陈正林</td>\n      <td>1219.2</td>\n      <td>94.20</td>\n      <td>665.0</td>\n      <td>陈正林</td>\n      <td>1219.2</td>\n      <td>94.2</td>\n      <td>665.0</td>\n      <td>0.0</td>\n      <td>0.00</td>\n      <td>0.0</td>\n    </tr>\n    <tr>\n      <th>4</th>\n      <td>邓传英</td>\n      <td>2251.0</td>\n      <td>173.90</td>\n      <td>1227.8</td>\n      <td>邓传英</td>\n      <td>2251.0</td>\n      <td>173.9</td>\n      <td>1227.8</td>\n      <td>0.0</td>\n      <td>0.00</td>\n      <td>0.0</td>\n    </tr>\n  </tbody>\n</table>\n</div>"
     },
     "execution_count": 7,
     "metadata": {},
     "output_type": "execute_result"
    }
   ],
   "source": [
    "df['差异_养老'] = df.iloc[:,1]-df.iloc[:,5]\n",
    "df['差异_失业']=df['com_失业保险']-df['aut_失业保险']\n",
    "df['差异_医疗']=df['com_医疗保险']-df['aut_医疗保险']\n",
    "df.head()"
   ],
   "metadata": {
    "collapsed": false
   }
  },
  {
   "cell_type": "code",
   "execution_count": 6,
   "outputs": [
    {
     "data": {
      "text/plain": "  com_姓名  com_养老保险   com_失业保险  com_医疗保险 aut_姓名  aut_养老保险   aut_失业保险  aut_医疗保险\n0    张庆光     1461.3    112.90     797.1    张庆光     1461.3     112.9     797.1\n1    蔡凌艳     1471.3    113.72     802.5    蔡凌艳     1471.3     113.7     802.5\n2     曹琦      804.3     62.10     438.7     曹琦      804.3      62.1     438.7\n3    陈正林     1219.2     94.20     665.0    陈正林     1219.2      94.2     665.0\n4    邓传英     2251.0    173.90    1227.8    邓传英     2251.0     173.9    1227.8",
      "text/html": "<div>\n<style scoped>\n    .dataframe tbody tr th:only-of-type {\n        vertical-align: middle;\n    }\n\n    .dataframe tbody tr th {\n        vertical-align: top;\n    }\n\n    .dataframe thead th {\n        text-align: right;\n    }\n</style>\n<table border=\"1\" class=\"dataframe\">\n  <thead>\n    <tr style=\"text-align: right;\">\n      <th></th>\n      <th>com_姓名</th>\n      <th>com_养老保险</th>\n      <th>com_失业保险</th>\n      <th>com_医疗保险</th>\n      <th>aut_姓名</th>\n      <th>aut_养老保险</th>\n      <th>aut_失业保险</th>\n      <th>aut_医疗保险</th>\n    </tr>\n  </thead>\n  <tbody>\n    <tr>\n      <th>0</th>\n      <td>张庆光</td>\n      <td>1461.3</td>\n      <td>112.90</td>\n      <td>797.1</td>\n      <td>张庆光</td>\n      <td>1461.3</td>\n      <td>112.9</td>\n      <td>797.1</td>\n    </tr>\n    <tr>\n      <th>1</th>\n      <td>蔡凌艳</td>\n      <td>1471.3</td>\n      <td>113.72</td>\n      <td>802.5</td>\n      <td>蔡凌艳</td>\n      <td>1471.3</td>\n      <td>113.7</td>\n      <td>802.5</td>\n    </tr>\n    <tr>\n      <th>2</th>\n      <td>曹琦</td>\n      <td>804.3</td>\n      <td>62.10</td>\n      <td>438.7</td>\n      <td>曹琦</td>\n      <td>804.3</td>\n      <td>62.1</td>\n      <td>438.7</td>\n    </tr>\n    <tr>\n      <th>3</th>\n      <td>陈正林</td>\n      <td>1219.2</td>\n      <td>94.20</td>\n      <td>665.0</td>\n      <td>陈正林</td>\n      <td>1219.2</td>\n      <td>94.2</td>\n      <td>665.0</td>\n    </tr>\n    <tr>\n      <th>4</th>\n      <td>邓传英</td>\n      <td>2251.0</td>\n      <td>173.90</td>\n      <td>1227.8</td>\n      <td>邓传英</td>\n      <td>2251.0</td>\n      <td>173.9</td>\n      <td>1227.8</td>\n    </tr>\n  </tbody>\n</table>\n</div>"
     },
     "execution_count": 6,
     "metadata": {},
     "output_type": "execute_result"
    }
   ],
   "source": [
    "df.head()"
   ],
   "metadata": {
    "collapsed": false
   }
  },
  {
   "cell_type": "code",
   "execution_count": 5,
   "outputs": [
    {
     "data": {
      "text/plain": "(56, 8)"
     },
     "execution_count": 5,
     "metadata": {},
     "output_type": "execute_result"
    }
   ],
   "source": [
    "df = pd.merge(data1,data2,left_on='com_姓名',right_on='aut_姓名',\n",
    "              how = 'outer')\n",
    "df.shape"
   ],
   "metadata": {
    "collapsed": false
   }
  },
  {
   "cell_type": "code",
   "execution_count": 4,
   "outputs": [
    {
     "data": {
      "text/plain": "(49, 4)"
     },
     "execution_count": 4,
     "metadata": {},
     "output_type": "execute_result"
    },
    {
     "data": {
      "text/plain": "(52, 4)"
     },
     "execution_count": 4,
     "metadata": {},
     "output_type": "execute_result"
    }
   ],
   "source": [
    "data1.shape\n",
    "data2.shape"
   ],
   "metadata": {
    "collapsed": false
   }
  },
  {
   "cell_type": "code",
   "execution_count": 3,
   "outputs": [
    {
     "data": {
      "text/plain": "  com_姓名  com_养老保险   com_失业保险  com_医疗保险\n0    张庆光     1461.3    112.90     797.1\n1    蔡凌艳     1471.3    113.72     802.5",
      "text/html": "<div>\n<style scoped>\n    .dataframe tbody tr th:only-of-type {\n        vertical-align: middle;\n    }\n\n    .dataframe tbody tr th {\n        vertical-align: top;\n    }\n\n    .dataframe thead th {\n        text-align: right;\n    }\n</style>\n<table border=\"1\" class=\"dataframe\">\n  <thead>\n    <tr style=\"text-align: right;\">\n      <th></th>\n      <th>com_姓名</th>\n      <th>com_养老保险</th>\n      <th>com_失业保险</th>\n      <th>com_医疗保险</th>\n    </tr>\n  </thead>\n  <tbody>\n    <tr>\n      <th>0</th>\n      <td>张庆光</td>\n      <td>1461.3</td>\n      <td>112.90</td>\n      <td>797.1</td>\n    </tr>\n    <tr>\n      <th>1</th>\n      <td>蔡凌艳</td>\n      <td>1471.3</td>\n      <td>113.72</td>\n      <td>802.5</td>\n    </tr>\n  </tbody>\n</table>\n</div>"
     },
     "execution_count": 3,
     "metadata": {},
     "output_type": "execute_result"
    },
    {
     "data": {
      "text/plain": "  aut_姓名  aut_养老保险   aut_失业保险  aut_医疗保险\n0    李秀娟     1994.9     154.2    1088.1\n1     熊佳     1672.4     129.2     912.2",
      "text/html": "<div>\n<style scoped>\n    .dataframe tbody tr th:only-of-type {\n        vertical-align: middle;\n    }\n\n    .dataframe tbody tr th {\n        vertical-align: top;\n    }\n\n    .dataframe thead th {\n        text-align: right;\n    }\n</style>\n<table border=\"1\" class=\"dataframe\">\n  <thead>\n    <tr style=\"text-align: right;\">\n      <th></th>\n      <th>aut_姓名</th>\n      <th>aut_养老保险</th>\n      <th>aut_失业保险</th>\n      <th>aut_医疗保险</th>\n    </tr>\n  </thead>\n  <tbody>\n    <tr>\n      <th>0</th>\n      <td>李秀娟</td>\n      <td>1994.9</td>\n      <td>154.2</td>\n      <td>1088.1</td>\n    </tr>\n    <tr>\n      <th>1</th>\n      <td>熊佳</td>\n      <td>1672.4</td>\n      <td>129.2</td>\n      <td>912.2</td>\n    </tr>\n  </tbody>\n</table>\n</div>"
     },
     "execution_count": 3,
     "metadata": {},
     "output_type": "execute_result"
    }
   ],
   "source": [
    "data1.columns = ['com_'+i for i in data1.columns]\n",
    "data2.columns = ['aut_'+i for i in data2.columns]\n",
    "data1[:2]\n",
    "data2 = data2.iloc[:,:4]\n",
    "data2[:2]"
   ],
   "metadata": {
    "collapsed": false
   }
  },
  {
   "cell_type": "code",
   "execution_count": 2,
   "outputs": [
    {
     "data": {
      "text/plain": "    姓名   养老保险     失业保险   医疗保险\n0  张庆光  1461.3  112.90  797.1\n1  蔡凌艳  1471.3  113.72  802.5\n2   曹琦   804.3   62.10  438.7",
      "text/html": "<div>\n<style scoped>\n    .dataframe tbody tr th:only-of-type {\n        vertical-align: middle;\n    }\n\n    .dataframe tbody tr th {\n        vertical-align: top;\n    }\n\n    .dataframe thead th {\n        text-align: right;\n    }\n</style>\n<table border=\"1\" class=\"dataframe\">\n  <thead>\n    <tr style=\"text-align: right;\">\n      <th></th>\n      <th>姓名</th>\n      <th>养老保险</th>\n      <th>失业保险</th>\n      <th>医疗保险</th>\n    </tr>\n  </thead>\n  <tbody>\n    <tr>\n      <th>0</th>\n      <td>张庆光</td>\n      <td>1461.3</td>\n      <td>112.90</td>\n      <td>797.1</td>\n    </tr>\n    <tr>\n      <th>1</th>\n      <td>蔡凌艳</td>\n      <td>1471.3</td>\n      <td>113.72</td>\n      <td>802.5</td>\n    </tr>\n    <tr>\n      <th>2</th>\n      <td>曹琦</td>\n      <td>804.3</td>\n      <td>62.10</td>\n      <td>438.7</td>\n    </tr>\n  </tbody>\n</table>\n</div>"
     },
     "execution_count": 2,
     "metadata": {},
     "output_type": "execute_result"
    },
    {
     "data": {
      "text/plain": "    姓名   养老保险    失业保险    医疗保险  Unnamed: 4  Unnamed: 5  Unnamed: 6 Unnamed: 7  \\\n0  李秀娟  1994.9  154.2  1088.1         NaN         NaN         NaN        NaN   \n1   熊佳  1672.4  129.2   912.2         NaN         NaN         NaN        NaN   \n2  邓传英  2251.0  173.9  1227.8         NaN         NaN         NaN        NaN   \n\n   Unnamed: 8  Unnamed: 9  Unnamed: 10 Unnamed: 11  Unnamed: 12 Unnamed: 13  \\\n0         NaN         NaN          NaN         NaN          NaN         NaN   \n1         NaN         NaN          NaN         NaN          NaN         NaN   \n2         NaN         NaN          NaN         NaN          NaN         NaN   \n\n   Unnamed: 14  \n0          NaN  \n1          NaN  \n2          NaN  ",
      "text/html": "<div>\n<style scoped>\n    .dataframe tbody tr th:only-of-type {\n        vertical-align: middle;\n    }\n\n    .dataframe tbody tr th {\n        vertical-align: top;\n    }\n\n    .dataframe thead th {\n        text-align: right;\n    }\n</style>\n<table border=\"1\" class=\"dataframe\">\n  <thead>\n    <tr style=\"text-align: right;\">\n      <th></th>\n      <th>姓名</th>\n      <th>养老保险</th>\n      <th>失业保险</th>\n      <th>医疗保险</th>\n      <th>Unnamed: 4</th>\n      <th>Unnamed: 5</th>\n      <th>Unnamed: 6</th>\n      <th>Unnamed: 7</th>\n      <th>Unnamed: 8</th>\n      <th>Unnamed: 9</th>\n      <th>Unnamed: 10</th>\n      <th>Unnamed: 11</th>\n      <th>Unnamed: 12</th>\n      <th>Unnamed: 13</th>\n      <th>Unnamed: 14</th>\n    </tr>\n  </thead>\n  <tbody>\n    <tr>\n      <th>0</th>\n      <td>李秀娟</td>\n      <td>1994.9</td>\n      <td>154.2</td>\n      <td>1088.1</td>\n      <td>NaN</td>\n      <td>NaN</td>\n      <td>NaN</td>\n      <td>NaN</td>\n      <td>NaN</td>\n      <td>NaN</td>\n      <td>NaN</td>\n      <td>NaN</td>\n      <td>NaN</td>\n      <td>NaN</td>\n      <td>NaN</td>\n    </tr>\n    <tr>\n      <th>1</th>\n      <td>熊佳</td>\n      <td>1672.4</td>\n      <td>129.2</td>\n      <td>912.2</td>\n      <td>NaN</td>\n      <td>NaN</td>\n      <td>NaN</td>\n      <td>NaN</td>\n      <td>NaN</td>\n      <td>NaN</td>\n      <td>NaN</td>\n      <td>NaN</td>\n      <td>NaN</td>\n      <td>NaN</td>\n      <td>NaN</td>\n    </tr>\n    <tr>\n      <th>2</th>\n      <td>邓传英</td>\n      <td>2251.0</td>\n      <td>173.9</td>\n      <td>1227.8</td>\n      <td>NaN</td>\n      <td>NaN</td>\n      <td>NaN</td>\n      <td>NaN</td>\n      <td>NaN</td>\n      <td>NaN</td>\n      <td>NaN</td>\n      <td>NaN</td>\n      <td>NaN</td>\n      <td>NaN</td>\n      <td>NaN</td>\n    </tr>\n  </tbody>\n</table>\n</div>"
     },
     "execution_count": 2,
     "metadata": {},
     "output_type": "execute_result"
    }
   ],
   "source": [
    "import pandas as pd\n",
    "data1 = pd.read_excel(r\"C:\\Data\\Jupyter_file\\Python数据清洗基础\\办公自动化\\5、社保核对\\社保核对.xlsx\",'企业')\n",
    "data2 = pd.read_excel(r\"C:\\Data\\Jupyter_file\\Python数据清洗基础\\办公自动化\\5、社保核对\\社保核对.xlsx\",'社保所')\n",
    "data1.head(3)\n",
    "data2.head(3)"
   ],
   "metadata": {
    "collapsed": false
   }
  },
  {
   "cell_type": "code",
   "execution_count": 1,
   "outputs": [],
   "source": [
    "from IPython.core.interactiveshell import InteractiveShell\n",
    "InteractiveShell.ast_node_interactivity = \"all\""
   ],
   "metadata": {
    "collapsed": false
   }
  }
 ],
 "metadata": {
  "kernelspec": {
   "name": "pythonproject1",
   "language": "python",
   "display_name": "pythonProject1"
  },
  "language_info": {
   "codemirror_mode": {
    "name": "ipython",
    "version": 2
   },
   "file_extension": ".py",
   "mimetype": "text/x-python",
   "name": "python",
   "nbconvert_exporter": "python",
   "pygments_lexer": "ipython2",
   "version": "2.7.6"
  }
 },
 "nbformat": 4,
 "nbformat_minor": 0
}
