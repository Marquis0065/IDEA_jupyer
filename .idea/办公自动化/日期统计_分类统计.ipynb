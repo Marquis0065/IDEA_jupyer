{
 "cells": [
  {
   "cell_type": "code",
   "execution_count": null,
   "outputs": [],
   "source": [
    "import os\n",
    "os.__file__\n",
    "df = pd.DataFrame()\n",
    "for i in os.listdir(r\"C:\\Data\\Jupyter_file\\Python数据清洗基础\\办公自动化\\3、汇总多个工作簿数据\\销售统计\"):\n",
    "    if i.startswith('~$'):\n",
    "        continue\n",
    "    data = pd.read_excel(r\"C:\\Data\\Jupyter_file\\Python数据清洗基础\\办公自动化\\3、汇总多个工作簿数据\\销售统计\\{}\".format(i))\n",
    "    df1 = data.groupby('产品名称').agg({'销售数量（个）':sum})\n",
    "    df1.columns = [i.split('.')[0]]\n",
    "    df = pd.concat([df,df1],axis=1)"
   ],
   "metadata": {
    "collapsed": false
   }
  },
  {
   "cell_type": "code",
   "execution_count": 16,
   "outputs": [
    {
     "data": {
      "text/plain": "             日期 物品名称  数量    单价    采购金额\n18   2020-01-30   U盘   3  54.9   164.7\n30   2020-02-15   U盘  48  54.9  2635.2\n99   2020-07-17   U盘  44  54.9  2415.6\n111  2020-08-18   U盘  49  54.9  2690.1\n173  2020-12-20   U盘  49  54.9  2690.1",
      "text/html": "<div>\n<style scoped>\n    .dataframe tbody tr th:only-of-type {\n        vertical-align: middle;\n    }\n\n    .dataframe tbody tr th {\n        vertical-align: top;\n    }\n\n    .dataframe thead th {\n        text-align: right;\n    }\n</style>\n<table border=\"1\" class=\"dataframe\">\n  <thead>\n    <tr style=\"text-align: right;\">\n      <th></th>\n      <th>日期</th>\n      <th>物品名称</th>\n      <th>数量</th>\n      <th>单价</th>\n      <th>采购金额</th>\n    </tr>\n  </thead>\n  <tbody>\n    <tr>\n      <th>18</th>\n      <td>2020-01-30</td>\n      <td>U盘</td>\n      <td>3</td>\n      <td>54.9</td>\n      <td>164.7</td>\n    </tr>\n    <tr>\n      <th>30</th>\n      <td>2020-02-15</td>\n      <td>U盘</td>\n      <td>48</td>\n      <td>54.9</td>\n      <td>2635.2</td>\n    </tr>\n    <tr>\n      <th>99</th>\n      <td>2020-07-17</td>\n      <td>U盘</td>\n      <td>44</td>\n      <td>54.9</td>\n      <td>2415.6</td>\n    </tr>\n    <tr>\n      <th>111</th>\n      <td>2020-08-18</td>\n      <td>U盘</td>\n      <td>49</td>\n      <td>54.9</td>\n      <td>2690.1</td>\n    </tr>\n    <tr>\n      <th>173</th>\n      <td>2020-12-20</td>\n      <td>U盘</td>\n      <td>49</td>\n      <td>54.9</td>\n      <td>2690.1</td>\n    </tr>\n  </tbody>\n</table>\n</div>"
     },
     "execution_count": 16,
     "metadata": {},
     "output_type": "execute_result"
    }
   ],
   "source": [
    "gp.get_group('U盘')"
   ],
   "metadata": {
    "collapsed": false
   }
  },
  {
   "cell_type": "code",
   "execution_count": 15,
   "outputs": [
    {
     "data": {
      "text/plain": "物品名称\nU盘      5\n中性笔     9\n便签纸     8\n切纸刀     9\n办公桌     9\n办公椅     9\n回形针     6\n墨盒     11\n复印纸     8\n拉链袋     6\n插线板     7\n文件篮     5\n档案柜    11\n活页本    11\n白板笔    10\n硒鼓      8\n票据夹     5\n网线      9\n计算器     7\n订书机     5\n路由器     4\n键盘      5\n饮水机     4\n鼠标      7\ndtype: int64"
     },
     "execution_count": 15,
     "metadata": {},
     "output_type": "execute_result"
    }
   ],
   "source": [
    "gp.size()"
   ],
   "metadata": {
    "collapsed": false
   }
  },
  {
   "cell_type": "code",
   "execution_count": 13,
   "outputs": [
    {
     "data": {
      "text/plain": "物品名称\nU盘      5\n中性笔     9\n便签纸     8\n切纸刀     9\n办公桌     9\n办公椅     9\n回形针     6\n墨盒     11\n复印纸     8\n拉链袋     6\n插线板     7\n文件篮     5\n档案柜    11\n活页本    11\n白板笔    10\n硒鼓      8\n票据夹     5\n网线      9\n计算器     7\n订书机     5\n路由器     4\n键盘      5\n饮水机     4\n鼠标      7\ndtype: int64"
     },
     "execution_count": 13,
     "metadata": {},
     "output_type": "execute_result"
    }
   ],
   "source": [
    "import matplotlib.pyplot as plt\n",
    "import seaborn as sns\n",
    "plt.style.use('seaborn')\n",
    "#设置字体为黑色\n",
    "plt.rcParams['font.family']='SimHei'\n",
    "#显示符号\n",
    "plt.rcParams['axes.unicode_minus']= False\n",
    "gp.size()"
   ],
   "metadata": {
    "collapsed": false
   }
  },
  {
   "cell_type": "code",
   "execution_count": 9,
   "outputs": [
    {
     "data": {
      "text/plain": "pandas.core.groupby.generic.DataFrameGroupBy"
     },
     "execution_count": 9,
     "metadata": {},
     "output_type": "execute_result"
    }
   ],
   "source": [
    "data1 = pd.read_excel(r\"C:\\Data\\Jupyter_file\\Python数据清洗基础\\办公自动化\\3、汇总多个工作簿数据\\销售统计\\1月.xlsx\")\n",
    "data1.groupby('产品名称').agg({'销售数量（个）':sum})\n",
    "data1.groupby('产品名称')['销售数量（个）'].sum()"
   ],
   "metadata": {
    "collapsed": false
   }
  },
  {
   "cell_type": "code",
   "execution_count": null,
   "outputs": [],
   "source": [
    "def auto_change_230206(io_from,gpb,io_to):\n",
    "    '''\n",
    "    函数作用：把按日期汇总的数据，转为按类别汇总\n",
    "    输出：转换后的数据表\n",
    "    io_from,目标工作簿地址\n",
    "    gpb:按哪个类别分类\n",
    "    io_to:导出的数据表地址\n",
    "    '''\n",
    "    import xlwings as xw\n",
    "    import pandas as pd\n",
    "    app = xw.App(visible=False,add_book=False)\n",
    "    book = app.books.open(io_from)\n",
    "    sheet = book.sheets #获取所有工作表的名字\n",
    "    df = pd.DataFrame()\n",
    "    for i in range(len(sheet)):\n",
    "        data = pd.read_excel(io_from,\n",
    "                             i)\n",
    "        #拼接\n",
    "        df = pd.concat([df,data])\n",
    "    book.close()\n",
    "    app.quit()\n",
    "    df.reset_index(drop=True,inplace=True)\n",
    "    gp = df.groupby(gpb)\n",
    "    excelWrite = pd.ExcelWriter(io_to)\n",
    "    for i in df[gpb].unique():\n",
    "        gp.get_group(i).to_excel(excelWrite,index=False,sheet_name = i)\n",
    "    excelWrite.save()\n",
    "    excelWrite.close()"
   ],
   "metadata": {
    "collapsed": false
   }
  },
  {
   "cell_type": "code",
   "execution_count": 7,
   "outputs": [],
   "source": [
    "gp = df.groupby('物品名称')\n",
    "excelWrite = pd.ExcelWriter('物品分类表.xlsx')\n",
    "for i in df['物品名称'].unique():\n",
    "    gp.get_group(i).to_excel(excelWrite,index=False,sheet_name = i)\n",
    "excelWrite.save()\n",
    "excelWrite.close()"
   ],
   "metadata": {
    "collapsed": false
   }
  },
  {
   "cell_type": "code",
   "execution_count": 6,
   "outputs": [
    {
     "data": {
      "text/plain": "       数量      单价      采购金额\n物品名称                       \nU盘    193   274.5   10595.7\n中性笔   245    89.1    2425.5\n便签纸   263    79.2    2603.7\n切纸刀   198   711.0   15642.0\n办公桌   198  2322.0   51084.0\n办公椅   250  3501.0   97250.0\n回形针   136    69.0    1564.0\n墨盒    236  1529.0   32804.0\n复印纸   136   896.0   15232.0\n拉链袋   153    75.0    1912.5\n插线板   169   693.0   16731.0\n文件篮   141   169.5    4779.9\n档案柜   335  5819.0  177215.0\n活页本   287   107.8    2812.6\n白板笔   203   109.0    2212.7\n硒鼓    188  1192.0   28012.0\n票据夹    64    29.5     377.6\n网线    203    89.1    2009.7\n计算器   182    73.5    1911.0\n订书机   148    77.5    2294.0\n路由器   106   596.0   15794.0\n键盘    177   545.0   19293.0\n饮水机   106  1436.0   38054.0\n鼠标    141   903.0   18189.0",
      "text/html": "<div>\n<style scoped>\n    .dataframe tbody tr th:only-of-type {\n        vertical-align: middle;\n    }\n\n    .dataframe tbody tr th {\n        vertical-align: top;\n    }\n\n    .dataframe thead th {\n        text-align: right;\n    }\n</style>\n<table border=\"1\" class=\"dataframe\">\n  <thead>\n    <tr style=\"text-align: right;\">\n      <th></th>\n      <th>数量</th>\n      <th>单价</th>\n      <th>采购金额</th>\n    </tr>\n    <tr>\n      <th>物品名称</th>\n      <th></th>\n      <th></th>\n      <th></th>\n    </tr>\n  </thead>\n  <tbody>\n    <tr>\n      <th>U盘</th>\n      <td>193</td>\n      <td>274.5</td>\n      <td>10595.7</td>\n    </tr>\n    <tr>\n      <th>中性笔</th>\n      <td>245</td>\n      <td>89.1</td>\n      <td>2425.5</td>\n    </tr>\n    <tr>\n      <th>便签纸</th>\n      <td>263</td>\n      <td>79.2</td>\n      <td>2603.7</td>\n    </tr>\n    <tr>\n      <th>切纸刀</th>\n      <td>198</td>\n      <td>711.0</td>\n      <td>15642.0</td>\n    </tr>\n    <tr>\n      <th>办公桌</th>\n      <td>198</td>\n      <td>2322.0</td>\n      <td>51084.0</td>\n    </tr>\n    <tr>\n      <th>办公椅</th>\n      <td>250</td>\n      <td>3501.0</td>\n      <td>97250.0</td>\n    </tr>\n    <tr>\n      <th>回形针</th>\n      <td>136</td>\n      <td>69.0</td>\n      <td>1564.0</td>\n    </tr>\n    <tr>\n      <th>墨盒</th>\n      <td>236</td>\n      <td>1529.0</td>\n      <td>32804.0</td>\n    </tr>\n    <tr>\n      <th>复印纸</th>\n      <td>136</td>\n      <td>896.0</td>\n      <td>15232.0</td>\n    </tr>\n    <tr>\n      <th>拉链袋</th>\n      <td>153</td>\n      <td>75.0</td>\n      <td>1912.5</td>\n    </tr>\n    <tr>\n      <th>插线板</th>\n      <td>169</td>\n      <td>693.0</td>\n      <td>16731.0</td>\n    </tr>\n    <tr>\n      <th>文件篮</th>\n      <td>141</td>\n      <td>169.5</td>\n      <td>4779.9</td>\n    </tr>\n    <tr>\n      <th>档案柜</th>\n      <td>335</td>\n      <td>5819.0</td>\n      <td>177215.0</td>\n    </tr>\n    <tr>\n      <th>活页本</th>\n      <td>287</td>\n      <td>107.8</td>\n      <td>2812.6</td>\n    </tr>\n    <tr>\n      <th>白板笔</th>\n      <td>203</td>\n      <td>109.0</td>\n      <td>2212.7</td>\n    </tr>\n    <tr>\n      <th>硒鼓</th>\n      <td>188</td>\n      <td>1192.0</td>\n      <td>28012.0</td>\n    </tr>\n    <tr>\n      <th>票据夹</th>\n      <td>64</td>\n      <td>29.5</td>\n      <td>377.6</td>\n    </tr>\n    <tr>\n      <th>网线</th>\n      <td>203</td>\n      <td>89.1</td>\n      <td>2009.7</td>\n    </tr>\n    <tr>\n      <th>计算器</th>\n      <td>182</td>\n      <td>73.5</td>\n      <td>1911.0</td>\n    </tr>\n    <tr>\n      <th>订书机</th>\n      <td>148</td>\n      <td>77.5</td>\n      <td>2294.0</td>\n    </tr>\n    <tr>\n      <th>路由器</th>\n      <td>106</td>\n      <td>596.0</td>\n      <td>15794.0</td>\n    </tr>\n    <tr>\n      <th>键盘</th>\n      <td>177</td>\n      <td>545.0</td>\n      <td>19293.0</td>\n    </tr>\n    <tr>\n      <th>饮水机</th>\n      <td>106</td>\n      <td>1436.0</td>\n      <td>38054.0</td>\n    </tr>\n    <tr>\n      <th>鼠标</th>\n      <td>141</td>\n      <td>903.0</td>\n      <td>18189.0</td>\n    </tr>\n  </tbody>\n</table>\n</div>"
     },
     "execution_count": 6,
     "metadata": {},
     "output_type": "execute_result"
    }
   ],
   "source": [
    "df.groupby('物品名称').sum()"
   ],
   "metadata": {
    "collapsed": false
   }
  },
  {
   "cell_type": "code",
   "execution_count": 5,
   "outputs": [
    {
     "data": {
      "text/plain": "             日期 物品名称  数量     单价    采购金额\n0    2020-01-01  便签纸  14    9.9   138.6\n1    2020-01-02  拉链袋  24   12.5   300.0\n2    2020-01-05  计算器  14   10.5   147.0\n3    2020-01-06  活页本  18    9.8   176.4\n4    2020-01-08  白板笔   6   10.9    65.4\n..          ...  ...  ..    ...     ...\n173  2020-12-20   U盘  49   54.9  2690.1\n174  2020-12-22   键盘  41  109.0  4469.0\n175  2020-12-26   鼠标   5  129.0   645.0\n176  2020-12-28   硒鼓  17  149.0  2533.0\n177  2020-12-30  办公桌  13  258.0  3354.0\n\n[178 rows x 5 columns]",
      "text/html": "<div>\n<style scoped>\n    .dataframe tbody tr th:only-of-type {\n        vertical-align: middle;\n    }\n\n    .dataframe tbody tr th {\n        vertical-align: top;\n    }\n\n    .dataframe thead th {\n        text-align: right;\n    }\n</style>\n<table border=\"1\" class=\"dataframe\">\n  <thead>\n    <tr style=\"text-align: right;\">\n      <th></th>\n      <th>日期</th>\n      <th>物品名称</th>\n      <th>数量</th>\n      <th>单价</th>\n      <th>采购金额</th>\n    </tr>\n  </thead>\n  <tbody>\n    <tr>\n      <th>0</th>\n      <td>2020-01-01</td>\n      <td>便签纸</td>\n      <td>14</td>\n      <td>9.9</td>\n      <td>138.6</td>\n    </tr>\n    <tr>\n      <th>1</th>\n      <td>2020-01-02</td>\n      <td>拉链袋</td>\n      <td>24</td>\n      <td>12.5</td>\n      <td>300.0</td>\n    </tr>\n    <tr>\n      <th>2</th>\n      <td>2020-01-05</td>\n      <td>计算器</td>\n      <td>14</td>\n      <td>10.5</td>\n      <td>147.0</td>\n    </tr>\n    <tr>\n      <th>3</th>\n      <td>2020-01-06</td>\n      <td>活页本</td>\n      <td>18</td>\n      <td>9.8</td>\n      <td>176.4</td>\n    </tr>\n    <tr>\n      <th>4</th>\n      <td>2020-01-08</td>\n      <td>白板笔</td>\n      <td>6</td>\n      <td>10.9</td>\n      <td>65.4</td>\n    </tr>\n    <tr>\n      <th>...</th>\n      <td>...</td>\n      <td>...</td>\n      <td>...</td>\n      <td>...</td>\n      <td>...</td>\n    </tr>\n    <tr>\n      <th>173</th>\n      <td>2020-12-20</td>\n      <td>U盘</td>\n      <td>49</td>\n      <td>54.9</td>\n      <td>2690.1</td>\n    </tr>\n    <tr>\n      <th>174</th>\n      <td>2020-12-22</td>\n      <td>键盘</td>\n      <td>41</td>\n      <td>109.0</td>\n      <td>4469.0</td>\n    </tr>\n    <tr>\n      <th>175</th>\n      <td>2020-12-26</td>\n      <td>鼠标</td>\n      <td>5</td>\n      <td>129.0</td>\n      <td>645.0</td>\n    </tr>\n    <tr>\n      <th>176</th>\n      <td>2020-12-28</td>\n      <td>硒鼓</td>\n      <td>17</td>\n      <td>149.0</td>\n      <td>2533.0</td>\n    </tr>\n    <tr>\n      <th>177</th>\n      <td>2020-12-30</td>\n      <td>办公桌</td>\n      <td>13</td>\n      <td>258.0</td>\n      <td>3354.0</td>\n    </tr>\n  </tbody>\n</table>\n<p>178 rows × 5 columns</p>\n</div>"
     },
     "execution_count": 5,
     "metadata": {},
     "output_type": "execute_result"
    }
   ],
   "source": [
    "# 重置索引,并删除原索引\n",
    "df.reset_index(drop=True,inplace=True)\n",
    "df"
   ],
   "metadata": {
    "collapsed": false
   }
  },
  {
   "cell_type": "code",
   "execution_count": 2,
   "outputs": [
    {
     "data": {
      "text/plain": "(178, 5)"
     },
     "execution_count": 2,
     "metadata": {},
     "output_type": "execute_result"
    }
   ],
   "source": [
    "import xlwings as xw\n",
    "# 建立连接,不必要弹出工作簿,也不用新增工作簿\n",
    "app = xw.App(visible=False,add_book=False)\n",
    "# 打开指定工作簿\n",
    "book = app.books.open('办公用品采购表_2020年.xlsx')\n",
    "\n",
    "df = pd.DataFrame()\n",
    "for i in range(len(book.sheets)):\n",
    "    data =pd.read_excel('办公用品采购表_2020年.xlsx',i)\n",
    "    df=df.append(data)\n",
    "book.close() # 关闭工作簿\n",
    "app.quit() # 退出连接\n",
    "df.shape"
   ],
   "metadata": {
    "collapsed": false
   }
  },
  {
   "cell_type": "code",
   "execution_count": null,
   "outputs": [],
   "source": [
    "from IPython.core.interactiveshell import InteractiveShell\n",
    "InteractiveShell.ast_node_interactivity = \"all\"\n",
    "\n",
    "import numpy as np\n",
    "import pandas as pd\n",
    "\n",
    "import warnings\n",
    "warnings.filterwarnings(\"ignore\")\n",
    "import os\n",
    "os.chdir(r'C:\\Users\\fzh00\\Desktop\\文件\\python资料\\Python数据清洗基础\\data\\办公自动化\\2、按日期统计的表转换成按类别统计')"
   ],
   "metadata": {
    "collapsed": false,
    "pycharm": {
     "is_executing": true
    }
   }
  }
 ],
 "metadata": {
  "kernelspec": {
   "display_name": "Python 3",
   "language": "python",
   "name": "python3"
  },
  "language_info": {
   "codemirror_mode": {
    "name": "ipython",
    "version": 2
   },
   "file_extension": ".py",
   "mimetype": "text/x-python",
   "name": "python",
   "nbconvert_exporter": "python",
   "pygments_lexer": "ipython2",
   "version": "2.7.6"
  }
 },
 "nbformat": 4,
 "nbformat_minor": 0
}
