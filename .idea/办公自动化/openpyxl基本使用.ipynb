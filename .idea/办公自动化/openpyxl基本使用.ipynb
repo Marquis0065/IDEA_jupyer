{
 "cells": [
  {
   "cell_type": "code",
   "execution_count": 4,
   "outputs": [
    {
     "data": {
      "text/plain": "<Worksheet \"12月\">"
     },
     "execution_count": 4,
     "metadata": {},
     "output_type": "execute_result"
    }
   ],
   "source": [
    "wb.active"
   ],
   "metadata": {
    "collapsed": false
   }
  },
  {
   "cell_type": "code",
   "execution_count": 2,
   "outputs": [
    {
     "name": "stdout",
     "output_type": "stream",
     "text": [
      "TIME\tTITLE\tA-Z\t\n",
      "21:01:24\t1688907684.036408\tAI\t\n",
      "21:01:24\t1688907684.036408\tAK\t\n",
      "21:01:24\t1688907684.036408\tV\t\n",
      "21:01:24\t1688907684.036408\tAK\t\n",
      "21:01:24\t1688907684.036408\tK\t\n",
      "21:01:24\t1688907684.036408\tAG\t\n",
      "21:01:24\t1688907684.036408\tP\t\n",
      "21:01:24\t1688907684.036408\tD\t\n",
      "21:01:24\t1688907684.036408\tAR\t\n",
      "21:01:24\t1688907684.036408\tAK\t\n",
      "21:01:24\t1688907684.036408\tAS\t\n",
      "21:01:24\t1688907684.036408\tV\t\n",
      "21:01:24\t1688907684.036408\tAV\t\n",
      "21:01:24\t1688907684.036408\tE\t\n",
      "21:01:24\t1688907684.036408\tH\t\n",
      "21:01:24\t1688907684.036408\tA\t\n",
      "21:01:24\t1688907684.036408\tAJ\t\n",
      "21:01:24\t1688907684.036408\tA\t\n",
      "21:01:24\t1688907684.036408\tU\t\n",
      "21:01:24\t1688907684.036408\tAG\t\n",
      "21:01:24\t1688907684.036408\tP\t\n",
      "21:01:24\t1688907684.036408\tR\t\n",
      "21:01:24\t1688907684.036408\tAQ\t\n",
      "21:01:24\t1688907684.036408\tX\t\n",
      "21:01:24\t1688907684.036408\tA\t\n",
      "21:01:24\t1688907684.036408\tAM\t\n",
      "21:01:24\t1688907684.036408\tAC\t\n",
      "21:01:24\t1688907684.036408\tI\t\n",
      "21:01:24\t1688907684.036408\tG\t\n",
      "21:01:24\t1688907684.036408\tG\t\n",
      "21:01:24\t1688907684.036408\tK\t\n",
      "21:01:24\t1688907684.036408\tAO\t\n",
      "21:01:24\t1688907684.036408\tB\t\n",
      "21:01:24\t1688907684.036408\tAC\t\n",
      "21:01:24\t1688907684.036408\tAS\t\n",
      "21:01:24\t1688907684.036408\tAC\t\n",
      "21:01:24\t1688907684.036408\tB\t\n",
      "21:01:24\t1688907684.036408\tAE\t\n",
      "21:01:24\t1688907684.036408\tC\t\n",
      "21:01:24\t1688907684.036408\tZ\t\n",
      "21:01:24\t1688907684.036408\tAR\t\n",
      "21:01:24\t1688907684.036408\tX\t\n",
      "21:01:24\t1688907684.036408\tZ\t\n",
      "21:01:24\t1688907684.036408\tM\t\n",
      "21:01:24\t1688907684.036408\tZ\t\n",
      "21:01:24\t1688907684.036408\tAH\t\n",
      "21:01:24\t1688907684.036408\tAS\t\n",
      "21:01:24\t1688907684.037408\tF\t\n",
      "21:01:24\t1688907684.037408\tZ\t\n",
      "21:01:24\t1688907684.037408\tU\t\n",
      "21:01:24\t1688907684.037408\tZ\t\n",
      "21:01:24\t1688907684.037408\tM\t\n",
      "21:01:24\t1688907684.037408\tAJ\t\n",
      "21:01:24\t1688907684.037408\tR\t\n",
      "21:01:24\t1688907684.037408\tAP\t\n",
      "21:01:24\t1688907684.037408\tAM\t\n",
      "21:01:24\t1688907684.037408\tAO\t\n",
      "21:01:24\t1688907684.037408\tAN\t\n",
      "21:01:24\t1688907684.037408\tP\t\n",
      "21:01:24\t1688907684.037408\tAH\t\n",
      "21:01:24\t1688907684.037408\tAN\t\n",
      "21:01:24\t1688907684.037408\tQ\t\n",
      "21:01:24\t1688907684.037408\tF\t\n",
      "21:01:24\t1688907684.037408\tAF\t\n",
      "21:01:24\t1688907684.037408\tK\t\n",
      "21:01:24\t1688907684.037408\tN\t\n",
      "21:01:24\t1688907684.037408\tAI\t\n",
      "21:01:24\t1688907684.037408\tS\t\n",
      "21:01:24\t1688907684.037408\tAH\t\n",
      "21:01:24\t1688907684.037408\tJ\t\n",
      "21:01:24\t1688907684.037408\tAI\t\n",
      "21:01:24\t1688907684.037408\tK\t\n",
      "21:01:24\t1688907684.037408\tAC\t\n",
      "21:01:24\t1688907684.037408\tAN\t\n",
      "21:01:24\t1688907684.037408\tA\t\n",
      "21:01:24\t1688907684.037408\tZ\t\n",
      "21:01:24\t1688907684.037408\tAQ\t\n",
      "21:01:24\t1688907684.037408\tJ\t\n",
      "21:01:24\t1688907684.037408\tAD\t\n",
      "21:01:24\t1688907684.037408\tP\t\n",
      "21:01:24\t1688907684.037408\tW\t\n",
      "21:01:24\t1688907684.037408\tS\t\n",
      "21:01:24\t1688907684.037408\tQ\t\n",
      "21:01:24\t1688907684.037408\tAA\t\n",
      "21:01:24\t1688907684.037408\tE\t\n",
      "21:01:24\t1688907684.037408\tAS\t\n",
      "21:01:24\t1688907684.037408\tG\t\n",
      "21:01:24\t1688907684.037408\tR\t\n",
      "21:01:24\t1688907684.037408\tX\t\n",
      "21:01:24\t1688907684.037408\tE\t\n",
      "21:01:24\t1688907684.037408\tB\t\n",
      "21:01:24\t1688907684.037408\tAM\t\n",
      "21:01:24\t1688907684.037408\tS\t\n",
      "21:01:24\t1688907684.037408\tU\t\n",
      "21:01:24\t1688907684.037408\tAS\t\n",
      "21:01:24\t1688907684.037408\tAS\t\n",
      "21:01:24\t1688907684.037408\tAT\t\n",
      "21:01:24\t1688907684.037408\tQ\t\n",
      "21:01:24\t1688907684.037408\tC\t\n",
      "21:01:24\t1688907684.037408\tS\t\n",
      "21:01:24\t1688907684.037408\tC\t\n",
      "21:01:24\t1688907684.037408\tAI\t\n",
      "21:01:24\t1688907684.037408\tAF\t\n",
      "21:01:24\t1688907684.037408\tH\t\n",
      "21:01:24\t1688907684.037408\tM\t\n",
      "21:01:24\t1688907684.037408\tAW\t\n",
      "21:01:24\t1688907684.037408\tAI\t\n",
      "21:01:24\t1688907684.037408\tAO\t\n",
      "21:01:24\t1688907684.037408\tZ\t\n",
      "21:01:24\t1688907684.0384083\tG\t\n",
      "21:01:24\t1688907684.0384083\tJ\t\n",
      "21:01:24\t1688907684.0384083\tE\t\n",
      "21:01:24\t1688907684.0384083\tAK\t\n",
      "21:01:24\t1688907684.0384083\tS\t\n",
      "21:01:24\t1688907684.0384083\tAI\t\n",
      "21:01:24\t1688907684.0384083\tE\t\n",
      "21:01:24\t1688907684.0384083\tJ\t\n",
      "21:01:24\t1688907684.0384083\tL\t\n",
      "21:01:24\t1688907684.0384083\tS\t\n",
      "21:01:24\t1688907684.0384083\tA\t\n",
      "21:01:24\t1688907684.0384083\tAD\t\n",
      "21:01:24\t1688907684.0384083\tU\t\n",
      "21:01:24\t1688907684.0384083\tI\t\n",
      "21:01:24\t1688907684.0384083\tT\t\n",
      "21:01:24\t1688907684.0384083\tO\t\n",
      "21:01:24\t1688907684.0384083\tH\t\n",
      "21:01:24\t1688907684.0384083\tI\t\n",
      "21:01:24\t1688907684.0384083\tAP\t\n",
      "21:01:24\t1688907684.0384083\tAV\t\n",
      "21:01:24\t1688907684.0384083\tE\t\n",
      "21:01:24\t1688907684.0384083\tAV\t\n",
      "21:01:24\t1688907684.0384083\tM\t\n",
      "21:01:24\t1688907684.0384083\tW\t\n",
      "21:01:24\t1688907684.0384083\tAA\t\n",
      "21:01:24\t1688907684.0384083\tW\t\n",
      "21:01:24\t1688907684.0384083\tL\t\n",
      "21:01:24\t1688907684.0384083\tW\t\n",
      "21:01:24\t1688907684.0384083\tI\t\n",
      "21:01:24\t1688907684.0384083\tU\t\n",
      "21:01:24\t1688907684.0384083\tAT\t\n",
      "21:01:24\t1688907684.0384083\tAU\t\n",
      "21:01:24\t1688907684.0384083\tA\t\n",
      "21:01:24\t1688907684.0384083\tO\t\n",
      "21:01:24\t1688907684.0384083\tE\t\n",
      "21:01:24\t1688907684.0384083\tI\t\n",
      "21:01:24\t1688907684.0384083\tC\t\n",
      "21:01:24\t1688907684.0384083\tV\t\n",
      "21:01:24\t1688907684.0384083\tAN\t\n",
      "21:01:24\t1688907684.0384083\tAF\t\n",
      "21:01:24\t1688907684.0384083\tAC\t\n",
      "21:01:24\t1688907684.0384083\tAM\t\n",
      "21:01:24\t1688907684.0384083\tAO\t\n",
      "21:01:24\t1688907684.0384083\tC\t\n",
      "21:01:24\t1688907684.0384083\tP\t\n",
      "21:01:24\t1688907684.0384083\tAW\t\n",
      "21:01:24\t1688907684.0384083\tAC\t\n",
      "21:01:24\t1688907684.0384083\tAE\t\n",
      "21:01:24\t1688907684.0384083\tN\t\n",
      "21:01:24\t1688907684.0384083\tR\t\n",
      "21:01:24\t1688907684.0384083\tAE\t\n",
      "21:01:24\t1688907684.0384083\tAT\t\n",
      "21:01:24\t1688907684.0384083\tAU\t\n",
      "21:01:24\t1688907684.0384083\tAV\t\n",
      "21:01:24\t1688907684.0384083\tS\t\n",
      "21:01:24\t1688907684.0384083\tI\t\n",
      "21:01:24\t1688907684.0384083\tAM\t\n",
      "21:01:24\t1688907684.0394087\tR\t\n",
      "21:01:24\t1688907684.0394087\tAN\t\n",
      "21:01:24\t1688907684.0394087\tAC\t\n",
      "21:01:24\t1688907684.0394087\tAF\t\n",
      "21:01:24\t1688907684.0394087\tV\t\n",
      "21:01:24\t1688907684.0394087\tC\t\n",
      "21:01:24\t1688907684.0394087\tAV\t\n",
      "21:01:24\t1688907684.0394087\tB\t\n",
      "21:01:24\t1688907684.0394087\tAF\t\n",
      "21:01:24\t1688907684.0394087\tAN\t\n",
      "21:01:24\t1688907684.0394087\tAP\t\n",
      "21:01:24\t1688907684.0394087\tAB\t\n",
      "21:01:24\t1688907684.0394087\tN\t\n",
      "21:01:24\t1688907684.0394087\tE\t\n",
      "21:01:24\t1688907684.0394087\tV\t\n",
      "21:01:24\t1688907684.0394087\tG\t\n",
      "21:01:24\t1688907684.0394087\tAC\t\n",
      "21:01:24\t1688907684.0394087\tAO\t\n",
      "21:01:24\t1688907684.0394087\tAU\t\n",
      "21:01:24\t1688907684.0394087\tT\t\n",
      "21:01:24\t1688907684.0394087\tAS\t\n",
      "21:01:24\t1688907684.0394087\tAT\t\n",
      "21:01:24\t1688907684.0394087\tS\t\n",
      "21:01:24\t1688907684.0394087\tS\t\n",
      "21:01:24\t1688907684.0394087\tAJ\t\n",
      "21:01:24\t1688907684.0394087\tN\t\n",
      "21:01:24\t1688907684.0394087\tL\t\n",
      "21:01:24\t1688907684.0394087\tJ\t\n",
      "21:01:24\t1688907684.0394087\tY\t\n",
      "21:01:24\t1688907684.0394087\tE\t\n",
      "21:01:24\t1688907684.0394087\tE\t\n",
      "21:01:24\t1688907684.0394087\tAS\t\n",
      "21:01:24\t1688907684.0394087\tY\t\n",
      "21:01:24\t1688907684.0394087\tP\t\n",
      "21:01:24\t1688907684.0394087\tN\t\n",
      "21:01:24\t1688907684.0394087\tG\t\n",
      "21:01:24\t1688907684.0394087\tR\t\n",
      "21:01:24\t1688907684.0394087\tAB\t\n",
      "21:01:24\t1688907684.0394087\tX\t\n",
      "21:01:24\t1688907684.0394087\tAH\t\n",
      "21:01:24\t1688907684.0394087\tU\t\n",
      "21:01:24\t1688907684.0394087\tV\t\n",
      "21:01:24\t1688907684.0394087\tX\t\n",
      "21:01:24\t1688907684.0394087\tP\t\n",
      "21:01:24\t1688907684.0394087\tK\t\n",
      "21:01:24\t1688907684.0394087\tQ\t\n",
      "21:01:24\t1688907684.0394087\tI\t\n",
      "21:01:24\t1688907684.0394087\tZ\t\n",
      "21:01:24\t1688907684.0394087\tAR\t\n",
      "21:01:24\t1688907684.0394087\tAF\t\n",
      "21:01:24\t1688907684.0394087\tW\t\n",
      "21:01:24\t1688907684.0394087\tU\t\n",
      "21:01:24\t1688907684.0394087\tAV\t\n",
      "21:01:24\t1688907684.0394087\tV\t\n",
      "21:01:24\t1688907684.0394087\tO\t\n",
      "21:01:24\t1688907684.0394087\tN\t\n",
      "21:01:24\t1688907684.0394087\tAP\t\n",
      "21:01:24\t1688907684.0394087\tF\t\n",
      "21:01:24\t1688907684.0394087\tA\t\n",
      "21:01:24\t1688907684.0394087\tAQ\t\n",
      "21:01:24\t1688907684.0394087\tW\t\n",
      "21:01:24\t1688907684.0404088\tP\t\n",
      "21:01:24\t1688907684.0404088\tM\t\n",
      "21:01:24\t1688907684.0404088\tV\t\n",
      "21:01:24\t1688907684.0404088\tB\t\n",
      "21:01:24\t1688907684.0404088\tAV\t\n",
      "21:01:24\t1688907684.0404088\tJ\t\n",
      "21:01:24\t1688907684.0404088\tAU\t\n",
      "21:01:24\t1688907684.0404088\tAL\t\n",
      "21:01:24\t1688907684.0404088\tAF\t\n",
      "21:01:24\t1688907684.0404088\tAI\t\n",
      "21:01:24\t1688907684.0404088\tG\t\n",
      "21:01:24\t1688907684.0404088\tB\t\n",
      "21:01:24\t1688907684.0404088\tX\t\n",
      "21:01:24\t1688907684.0404088\tS\t\n",
      "21:01:24\t1688907684.0404088\tAV\t\n",
      "21:01:24\t1688907684.0404088\tAU\t\n",
      "21:01:24\t1688907684.0404088\tAV\t\n",
      "21:01:24\t1688907684.0404088\tV\t\n",
      "21:01:24\t1688907684.0404088\tR\t\n",
      "21:01:24\t1688907684.0404088\tK\t\n",
      "21:01:24\t1688907684.0404088\tAP\t\n",
      "21:01:24\t1688907684.0404088\tAO\t\n",
      "21:01:24\t1688907684.0404088\tAQ\t\n",
      "21:01:24\t1688907684.0404088\tY\t\n",
      "21:01:24\t1688907684.0404088\tAU\t\n",
      "21:01:24\t1688907684.0404088\tAW\t\n",
      "21:01:24\t1688907684.0404088\tAB\t\n",
      "21:01:24\t1688907684.0404088\tAR\t\n",
      "21:01:24\t1688907684.0404088\tW\t\n",
      "21:01:24\t1688907684.0404088\tAJ\t\n",
      "21:01:24\t1688907684.0404088\tAJ\t\n",
      "21:01:24\t1688907684.0404088\tG\t\n",
      "21:01:24\t1688907684.0404088\tAV\t\n",
      "21:01:24\t1688907684.0404088\tAB\t\n",
      "21:01:24\t1688907684.0404088\tAH\t\n",
      "21:01:24\t1688907684.0404088\tAE\t\n",
      "21:01:24\t1688907684.0404088\tAO\t\n",
      "21:01:24\t1688907684.0404088\tO\t\n",
      "21:01:24\t1688907684.0404088\tE\t\n",
      "21:01:24\t1688907684.0404088\tS\t\n",
      "21:01:24\t1688907684.0404088\tAW\t\n",
      "21:01:24\t1688907684.0404088\tU\t\n",
      "21:01:24\t1688907684.0404088\tR\t\n",
      "21:01:24\t1688907684.0404088\tAM\t\n",
      "21:01:24\t1688907684.0404088\tM\t\n",
      "21:01:24\t1688907684.0404088\tZ\t\n",
      "21:01:24\t1688907684.0404088\tAV\t\n",
      "21:01:24\t1688907684.0404088\tAV\t\n",
      "21:01:24\t1688907684.0404088\tAQ\t\n",
      "21:01:24\t1688907684.0404088\tJ\t\n",
      "21:01:24\t1688907684.0404088\tM\t\n",
      "21:01:24\t1688907684.0404088\tAE\t\n",
      "21:01:24\t1688907684.0404088\tAJ\t\n",
      "21:01:24\t1688907684.0404088\tZ\t\n",
      "21:01:24\t1688907684.0404088\tAS\t\n",
      "21:01:24\t1688907684.0404088\tL\t\n",
      "21:01:24\t1688907684.0404088\tAL\t\n",
      "21:01:24\t1688907684.0404088\tAD\t\n",
      "21:01:24\t1688907684.0404088\tAE\t\n",
      "21:01:24\t1688907684.0404088\tM\t\n",
      "21:01:24\t1688907684.0404088\tA\t\n",
      "21:01:24\t1688907684.0404088\tG\t\n",
      "21:01:24\t1688907684.041409\tM\t\n",
      "21:01:24\t1688907684.041409\tAB\t\n",
      "21:01:24\t1688907684.041409\tN\t\n",
      "21:01:24\t1688907684.041409\tD\t\n",
      "21:01:24\t1688907684.041409\tAJ\t\n",
      "21:01:24\t1688907684.041409\tQ\t\n",
      "21:01:24\t1688907684.041409\tAG\t\n",
      "21:01:24\t1688907684.041409\tI\t\n",
      "21:01:24\t1688907684.041409\tC\t\n",
      "21:01:24\t1688907684.041409\tAW\t\n",
      "21:01:24\t1688907684.041409\tP\t\n",
      "21:01:24\t1688907684.041409\tI\t\n",
      "21:01:24\t1688907684.041409\tT\t\n",
      "21:01:24\t1688907684.041409\tJ\t\n",
      "21:01:24\t1688907684.041409\tW\t\n",
      "21:01:24\t1688907684.041409\tAK\t\n",
      "21:01:24\t1688907684.041409\tX\t\n",
      "21:01:24\t1688907684.041409\tAR\t\n",
      "21:01:24\t1688907684.041409\tAF\t\n",
      "21:01:24\t1688907684.041409\tF\t\n",
      "21:01:24\t1688907684.041409\tAW\t\n",
      "21:01:24\t1688907684.041409\tY\t\n",
      "21:01:24\t1688907684.041409\tT\t\n",
      "21:01:24\t1688907684.041409\tAE\t\n",
      "21:01:24\t1688907684.041409\tAJ\t\n",
      "21:01:24\t1688907684.041409\tAT\t\n",
      "21:01:24\t1688907684.041409\tD\t\n",
      "21:01:24\t1688907684.041409\tAS\t\n",
      "21:01:24\t1688907684.041409\tJ\t\n",
      "21:01:24\t1688907684.041409\tA\t\n",
      "21:01:24\t1688907684.041409\tAV\t\n",
      "21:01:24\t1688907684.041409\tAL\t\n",
      "21:01:24\t1688907684.041409\tR\t\n",
      "21:01:24\t1688907684.041409\tAO\t\n",
      "21:01:24\t1688907684.041409\tAI\t\n",
      "21:01:24\t1688907684.041409\tD\t\n",
      "21:01:24\t1688907684.041409\tJ\t\n",
      "21:01:24\t1688907684.041409\tAE\t\n",
      "21:01:24\t1688907684.041409\tW\t\n",
      "21:01:24\t1688907684.041409\tAF\t\n",
      "21:01:24\t1688907684.041409\tAJ\t\n",
      "21:01:24\t1688907684.041409\tP\t\n",
      "21:01:24\t1688907684.041409\tA\t\n",
      "21:01:24\t1688907684.041409\tC\t\n",
      "21:01:24\t1688907684.041409\tAE\t\n",
      "21:01:24\t1688907684.041409\tAJ\t\n",
      "21:01:24\t1688907684.041409\tAC\t\n",
      "21:01:24\t1688907684.041409\tAO\t\n",
      "21:01:24\t1688907684.041409\tR\t\n",
      "21:01:24\t1688907684.041409\tT\t\n",
      "21:01:24\t1688907684.041409\tAA\t\n",
      "21:01:24\t1688907684.041409\tZ\t\n",
      "21:01:24\t1688907684.041409\tAK\t\n",
      "21:01:24\t1688907684.041409\tK\t\n",
      "21:01:24\t1688907684.041409\tAV\t\n",
      "21:01:24\t1688907684.04241\tR\t\n",
      "21:01:24\t1688907684.04241\tD\t\n",
      "21:01:24\t1688907684.04241\tAH\t\n",
      "21:01:24\t1688907684.04241\tAK\t\n",
      "21:01:24\t1688907684.04241\tS\t\n",
      "21:01:24\t1688907684.04241\tE\t\n",
      "21:01:24\t1688907684.04241\tAS\t\n",
      "21:01:24\t1688907684.04241\tK\t\n",
      "21:01:24\t1688907684.04241\tAJ\t\n",
      "21:01:24\t1688907684.04241\tP\t\n",
      "21:01:24\t1688907684.04241\tAS\t\n",
      "21:01:24\t1688907684.04241\tAJ\t\n",
      "21:01:24\t1688907684.04241\tC\t\n",
      "21:01:24\t1688907684.04241\tO\t\n",
      "21:01:24\t1688907684.04241\tS\t\n",
      "21:01:24\t1688907684.04241\tAJ\t\n",
      "21:01:24\t1688907684.04241\tAU\t\n",
      "21:01:24\t1688907684.04241\tAP\t\n",
      "21:01:24\t1688907684.04241\tAN\t\n",
      "21:01:24\t1688907684.04241\tJ\t\n",
      "21:01:24\t1688907684.04241\tAQ\t\n",
      "21:01:24\t1688907684.04241\tAN\t\n",
      "21:01:24\t1688907684.04241\tC\t\n",
      "21:01:24\t1688907684.04241\tR\t\n",
      "21:01:24\t1688907684.04241\tF\t\n",
      "21:01:24\t1688907684.04241\tAT\t\n",
      "21:01:24\t1688907684.04241\tV\t\n",
      "21:01:24\t1688907684.04241\tAF\t\n",
      "21:01:24\t1688907684.04241\tJ\t\n",
      "21:01:24\t1688907684.04241\tAI\t\n",
      "21:01:24\t1688907684.04241\tJ\t\n",
      "21:01:24\t1688907684.04241\tAQ\t\n",
      "21:01:24\t1688907684.04241\tA\t\n",
      "21:01:24\t1688907684.04241\tP\t\n",
      "21:01:24\t1688907684.04241\tV\t\n",
      "21:01:24\t1688907684.04241\tAW\t\n",
      "21:01:24\t1688907684.04241\tAW\t\n",
      "21:01:24\t1688907684.04241\tAR\t\n",
      "21:01:24\t1688907684.04241\tAT\t\n",
      "21:01:24\t1688907684.04241\tAM\t\n",
      "21:01:24\t1688907684.04241\tAG\t\n",
      "21:01:24\t1688907684.04241\tAJ\t\n",
      "21:01:24\t1688907684.04241\tAU\t\n",
      "21:01:24\t1688907684.04241\tAV\t\n",
      "21:01:24\t1688907684.04241\tAV\t\n",
      "21:01:24\t1688907684.04241\tP\t\n",
      "21:01:24\t1688907684.04241\tAW\t\n",
      "21:01:24\t1688907684.04241\tAR\t\n",
      "21:01:24\t1688907684.04241\tC\t\n",
      "21:01:24\t1688907684.04241\tAD\t\n",
      "21:01:24\t1688907684.04241\tAC\t\n",
      "21:01:24\t1688907684.04241\tR\t\n",
      "21:01:24\t1688907684.04241\tAK\t\n",
      "21:01:24\t1688907684.04241\tR\t\n",
      "21:01:24\t1688907684.0434031\tV\t\n",
      "21:01:24\t1688907684.0434031\tAP\t\n",
      "21:01:24\t1688907684.0434031\tAK\t\n",
      "21:01:24\t1688907684.0434031\tAJ\t\n",
      "21:01:24\t1688907684.0434031\tM\t\n",
      "21:01:24\t1688907684.0434031\tZ\t\n",
      "21:01:24\t1688907684.0434031\tZ\t\n",
      "21:01:24\t1688907684.0434031\tAG\t\n",
      "21:01:24\t1688907684.0434031\tF\t\n",
      "21:01:24\t1688907684.0434031\tAM\t\n",
      "21:01:24\t1688907684.0434031\tC\t\n",
      "21:01:24\t1688907684.0434031\tAW\t\n",
      "21:01:24\t1688907684.0434031\tS\t\n",
      "21:01:24\t1688907684.0434031\tG\t\n",
      "21:01:24\t1688907684.0434031\tAG\t\n",
      "21:01:24\t1688907684.0434031\tY\t\n",
      "21:01:24\t1688907684.0434031\tW\t\n",
      "21:01:24\t1688907684.0434031\tAM\t\n",
      "21:01:24\t1688907684.0434031\tT\t\n",
      "21:01:24\t1688907684.0434031\tAB\t\n",
      "21:01:24\t1688907684.0434031\tP\t\n",
      "21:01:24\t1688907684.0434031\tAH\t\n",
      "21:01:24\t1688907684.0434031\tL\t\n",
      "21:01:24\t1688907684.0434031\tB\t\n",
      "21:01:24\t1688907684.0434031\tAN\t\n",
      "21:01:24\t1688907684.0434031\tX\t\n",
      "21:01:24\t1688907684.0434031\tS\t\n",
      "21:01:24\t1688907684.0434031\tAG\t\n",
      "21:01:24\t1688907684.0434031\tZ\t\n",
      "21:01:24\t1688907684.0434031\tAD\t\n",
      "21:01:24\t1688907684.0434031\tA\t\n",
      "21:01:24\t1688907684.0434031\tAF\t\n",
      "21:01:24\t1688907684.0434031\tH\t\n",
      "21:01:24\t1688907684.0434031\tX\t\n",
      "21:01:24\t1688907684.0434031\tK\t\n",
      "21:01:24\t1688907684.0434031\tT\t\n",
      "21:01:24\t1688907684.0434031\tAJ\t\n",
      "21:01:24\t1688907684.0434031\tAA\t\n",
      "21:01:24\t1688907684.0434031\tAR\t\n",
      "21:01:24\t1688907684.0434031\tM\t\n",
      "21:01:24\t1688907684.0434031\tAL\t\n",
      "21:01:24\t1688907684.0434031\tAL\t\n",
      "21:01:24\t1688907684.0434031\tF\t\n",
      "21:01:24\t1688907684.0434031\tH\t\n",
      "21:01:24\t1688907684.0434031\tT\t\n",
      "21:01:24\t1688907684.0434031\tAE\t\n",
      "21:01:24\t1688907684.0434031\tY\t\n",
      "21:01:24\t1688907684.0434031\tAB\t\n",
      "21:01:24\t1688907684.0434031\tAM\t\n",
      "21:01:24\t1688907684.0434031\tP\t\n",
      "21:01:24\t1688907684.0434031\tI\t\n",
      "21:01:24\t1688907684.0434031\tB\t\n",
      "21:01:24\t1688907684.0434031\tAU\t\n",
      "21:01:24\t1688907684.0434031\tS\t\n",
      "21:01:24\t1688907684.0434031\tAG\t\n",
      "21:01:24\t1688907684.0434031\tA\t\n",
      "21:01:24\t1688907684.0434031\tT\t\n",
      "21:01:24\t1688907684.0434031\tJ\t\n",
      "21:01:24\t1688907684.0434031\tAB\t\n",
      "21:01:24\t1688907684.0434031\tW\t\n",
      "21:01:24\t1688907684.0434031\tAG\t\n",
      "21:01:24\t1688907684.0434031\tAH\t\n",
      "21:01:24\t1688907684.0444112\tAP\t\n",
      "21:01:24\t1688907684.0444112\tU\t\n",
      "21:01:24\t1688907684.0444112\tAS\t\n",
      "21:01:24\t1688907684.0444112\tAU\t\n",
      "21:01:24\t1688907684.0444112\tAP\t\n",
      "21:01:24\t1688907684.0444112\tAI\t\n",
      "21:01:24\t1688907684.0444112\tN\t\n",
      "21:01:24\t1688907684.0444112\tV\t\n",
      "21:01:24\t1688907684.0444112\tL\t\n",
      "21:01:24\t1688907684.0444112\tS\t\n",
      "21:01:24\t1688907684.0444112\tAJ\t\n",
      "21:01:24\t1688907684.0444112\tAH\t\n",
      "21:01:24\t1688907684.0444112\tJ\t\n",
      "21:01:24\t1688907684.0444112\tAM\t\n",
      "21:01:24\t1688907684.0444112\tK\t\n",
      "21:01:24\t1688907684.0444112\tC\t\n",
      "21:01:24\t1688907684.0444112\tAQ\t\n",
      "21:01:24\t1688907684.0444112\tE\t\n",
      "21:01:24\t1688907684.0444112\tAK\t\n",
      "21:01:24\t1688907684.0444112\tAT\t\n",
      "21:01:24\t1688907684.0444112\tAM\t\n",
      "21:01:24\t1688907684.0444112\tAM\t\n",
      "21:01:24\t1688907684.0444112\tR\t\n",
      "21:01:24\t1688907684.0444112\tAS\t\n",
      "21:01:24\t1688907684.0444112\tM\t\n",
      "21:01:24\t1688907684.0444112\tE\t\n",
      "21:01:24\t1688907684.0444112\tM\t\n",
      "21:01:24\t1688907684.0444112\tA\t\n",
      "21:01:24\t1688907684.0444112\tR\t\n",
      "21:01:24\t1688907684.0444112\tAW\t\n",
      "21:01:24\t1688907684.0444112\tAU\t\n",
      "21:01:24\t1688907684.0444112\tF\t\n",
      "21:01:24\t1688907684.0444112\tU\t\n",
      "21:01:24\t1688907684.0444112\tAQ\t\n",
      "21:01:24\t1688907684.0444112\tJ\t\n",
      "21:01:24\t1688907684.0444112\tZ\t\n",
      "21:01:24\t1688907684.0444112\tV\t\n",
      "21:01:24\t1688907684.0444112\tAN\t\n",
      "21:01:24\t1688907684.0444112\tAV\t\n",
      "21:01:24\t1688907684.0444112\tA\t\n"
     ]
    }
   ],
   "source": [
    "import datetime\n",
    "from random import choice\n",
    "from time import time\n",
    "from openpyxl import load_workbook\n",
    "from openpyxl.utils import get_column_letter\n",
    "# 设置文件 mingc\n",
    "fileName = r\"C:\\Data\\Jupyter_file\\Python数据清洗基础\\办公自动化\\1、从多个表中提取指定数据到新表\\办公用品采购表_2020年.xlsx\"\n",
    "# 打开文件\n",
    "wb = load_workbook(fileName)\n",
    "# 创建一张新表\n",
    "ws = wb.create_sheet()\n",
    "# 第一行输入\n",
    "ws.append(['TIME', 'TITLE', 'A-Z'])\n",
    "# 输入内容（500行数据）\n",
    "for i in range(500):\n",
    "    TIME = datetime.datetime.now().strftime(\"%H:%M:%S\")\n",
    "    TITLE = str(time())\n",
    "    A_Z = get_column_letter(choice(range(1, 50)))\n",
    "    ws.append([TIME, TITLE, A_Z])\n",
    "# 获取最大行\n",
    "row_max = ws.max_row\n",
    "# 获取最大列\n",
    "con_max = ws.max_column\n",
    "# 把上面写入内容打印在控制台\n",
    "for j in ws.rows:    # we.rows 获取每一行数据\n",
    "    for n in j:\n",
    "        print(n.value, end=\"\\t\")   # n.value 获取单元格的值\n",
    "    print()\n",
    "# 保存，save（必须要写文件名（绝对地址）默认 py 同级目录下，只支持 xlsx 格式）\n",
    "wb.save(r'C:\\Users\\fzh00\\Desktop\\openpyxl.xlsx')"
   ],
   "metadata": {
    "collapsed": false
   }
  },
  {
   "cell_type": "code",
   "execution_count": 1,
   "outputs": [
    {
     "ename": "ImportError",
     "evalue": "cannot import name 'coordinate_from_string' from 'openpyxl.utils' (C:\\ProgramData\\Anaconda3\\envs\\auto_report\\Lib\\site-packages\\openpyxl\\utils\\__init__.py)",
     "output_type": "error",
     "traceback": [
      "\u001B[1;31m---------------------------------------------------------------------------\u001B[0m",
      "\u001B[1;31mImportError\u001B[0m                               Traceback (most recent call last)",
      "Cell \u001B[1;32mIn[1], line 1\u001B[0m\n\u001B[1;32m----> 1\u001B[0m \u001B[38;5;28;01mfrom\u001B[39;00m \u001B[38;5;21;01mopenpyxl\u001B[39;00m\u001B[38;5;21;01m.\u001B[39;00m\u001B[38;5;21;01mutils\u001B[39;00m \u001B[38;5;28;01mimport\u001B[39;00m coordinate_from_string,get_column_letter,column_index_from_string\n\u001B[0;32m      2\u001B[0m \u001B[38;5;28mprint\u001B[39m(coordinate_from_string(\u001B[38;5;124m'\u001B[39m\u001B[38;5;124ma11\u001B[39m\u001B[38;5;124m'\u001B[39m)) \u001B[38;5;66;03m#返回单元格列与行的元组形式\u001B[39;00m\n\u001B[0;32m      3\u001B[0m (\u001B[38;5;124m'\u001B[39m\u001B[38;5;124mA\u001B[39m\u001B[38;5;124m'\u001B[39m, \u001B[38;5;241m11\u001B[39m)\n",
      "\u001B[1;31mImportError\u001B[0m: cannot import name 'coordinate_from_string' from 'openpyxl.utils' (C:\\ProgramData\\Anaconda3\\envs\\auto_report\\Lib\\site-packages\\openpyxl\\utils\\__init__.py)"
     ]
    }
   ],
   "source": [
    "from openpyxl.utils import coordinate_from_string,get_column_letter,column_index_from_string\n",
    "print(coordinate_from_string('a11')) #返回单元格列与行的元组形式\n",
    "('A', 11)\n",
    "print(get_column_letter(12)) #根据列索引返回对应的字母\n",
    "L\n",
    "print(column_index_from_string(\"B\")) #根据字母返回对应的列索引"
   ],
   "metadata": {
    "collapsed": false
   }
  },
  {
   "cell_type": "code",
   "execution_count": 53,
   "outputs": [
    {
     "data": {
      "text/plain": "'D4'"
     },
     "execution_count": 53,
     "metadata": {},
     "output_type": "execute_result"
    }
   ],
   "source": [
    "wb['1月'].cell(4,4).coordinate"
   ],
   "metadata": {
    "collapsed": false
   }
  },
  {
   "cell_type": "code",
   "execution_count": 52,
   "outputs": [
    {
     "data": {
      "text/plain": "'F1'"
     },
     "execution_count": 52,
     "metadata": {},
     "output_type": "execute_result"
    }
   ],
   "source": [
    "wb['1月']['f1'].coordinate"
   ],
   "metadata": {
    "collapsed": false
   }
  },
  {
   "cell_type": "code",
   "execution_count": 51,
   "outputs": [
    {
     "data": {
      "text/plain": "1"
     },
     "execution_count": 51,
     "metadata": {},
     "output_type": "execute_result"
    },
    {
     "data": {
      "text/plain": "6"
     },
     "execution_count": 51,
     "metadata": {},
     "output_type": "execute_result"
    }
   ],
   "source": [
    "wb['1月']['f1'].row\n",
    "wb['1月']['f1'].column"
   ],
   "metadata": {
    "collapsed": false
   }
  },
  {
   "cell_type": "code",
   "execution_count": 50,
   "outputs": [
    {
     "data": {
      "text/plain": "'新增一列'"
     },
     "execution_count": 50,
     "metadata": {},
     "output_type": "execute_result"
    }
   ],
   "source": [
    "wb['1月']['f1'].value"
   ],
   "metadata": {
    "collapsed": false
   }
  },
  {
   "cell_type": "code",
   "execution_count": 48,
   "outputs": [],
   "source": [
    "wb['1月']['f1']='新增一列'\n",
    "wb.save(r'C:\\Users\\fzh00\\Desktop\\新增一列.xlsx')"
   ],
   "metadata": {
    "collapsed": false
   }
  },
  {
   "cell_type": "code",
   "execution_count": 47,
   "outputs": [
    {
     "name": "stdout",
     "output_type": "stream",
     "text": [
      "(<Cell '1月'.A1>, <Cell '1月'.B1>, <Cell '1月'.C1>, <Cell '1月'.D1>, <Cell '1月'.E1>)\n",
      "(<Cell '1月'.A2>, <Cell '1月'.B2>, <Cell '1月'.C2>, <Cell '1月'.D2>, <Cell '1月'.E2>)\n",
      "(<Cell '1月'.A3>, <Cell '1月'.B3>, <Cell '1月'.C3>, <Cell '1月'.D3>, <Cell '1月'.E3>)\n",
      "(<Cell '1月'.A4>, <Cell '1月'.B4>, <Cell '1月'.C4>, <Cell '1月'.D4>, <Cell '1月'.E4>)\n",
      "(<Cell '1月'.A5>, <Cell '1月'.B5>, <Cell '1月'.C5>, <Cell '1月'.D5>, <Cell '1月'.E5>)\n",
      "(<Cell '1月'.A6>, <Cell '1月'.B6>, <Cell '1月'.C6>, <Cell '1月'.D6>, <Cell '1月'.E6>)\n",
      "(<Cell '1月'.A7>, <Cell '1月'.B7>, <Cell '1月'.C7>, <Cell '1月'.D7>, <Cell '1月'.E7>)\n",
      "(<Cell '1月'.A8>, <Cell '1月'.B8>, <Cell '1月'.C8>, <Cell '1月'.D8>, <Cell '1月'.E8>)\n",
      "(<Cell '1月'.A9>, <Cell '1月'.B9>, <Cell '1月'.C9>, <Cell '1月'.D9>, <Cell '1月'.E9>)\n",
      "(<Cell '1月'.A10>, <Cell '1月'.B10>, <Cell '1月'.C10>, <Cell '1月'.D10>, <Cell '1月'.E10>)\n",
      "(<Cell '1月'.A11>, <Cell '1月'.B11>, <Cell '1月'.C11>, <Cell '1月'.D11>, <Cell '1月'.E11>)\n",
      "(<Cell '1月'.A12>, <Cell '1月'.B12>, <Cell '1月'.C12>, <Cell '1月'.D12>, <Cell '1月'.E12>)\n",
      "(<Cell '1月'.A13>, <Cell '1月'.B13>, <Cell '1月'.C13>, <Cell '1月'.D13>, <Cell '1月'.E13>)\n",
      "(<Cell '1月'.A14>, <Cell '1月'.B14>, <Cell '1月'.C14>, <Cell '1月'.D14>, <Cell '1月'.E14>)\n",
      "(<Cell '1月'.A15>, <Cell '1月'.B15>, <Cell '1月'.C15>, <Cell '1月'.D15>, <Cell '1月'.E15>)\n",
      "(<Cell '1月'.A16>, <Cell '1月'.B16>, <Cell '1月'.C16>, <Cell '1月'.D16>, <Cell '1月'.E16>)\n",
      "(<Cell '1月'.A17>, <Cell '1月'.B17>, <Cell '1月'.C17>, <Cell '1月'.D17>, <Cell '1月'.E17>)\n",
      "(<Cell '1月'.A18>, <Cell '1月'.B18>, <Cell '1月'.C18>, <Cell '1月'.D18>, <Cell '1月'.E18>)\n",
      "(<Cell '1月'.A19>, <Cell '1月'.B19>, <Cell '1月'.C19>, <Cell '1月'.D19>, <Cell '1月'.E19>)\n",
      "(<Cell '1月'.A20>, <Cell '1月'.B20>, <Cell '1月'.C20>, <Cell '1月'.D20>, <Cell '1月'.E20>)\n"
     ]
    }
   ],
   "source": [
    "for i in list(wb['1月'].rows):\n",
    "    print(i)\n"
   ],
   "metadata": {
    "collapsed": false
   }
  },
  {
   "cell_type": "code",
   "execution_count": 41,
   "outputs": [
    {
     "data": {
      "text/plain": "<generator object Worksheet._cells_by_row at 0x0000018EF1EC95B0>"
     },
     "execution_count": 41,
     "metadata": {},
     "output_type": "execute_result"
    },
    {
     "data": {
      "text/plain": "[(<Cell '1月'.A1>,\n  <Cell '1月'.A2>,\n  <Cell '1月'.A3>,\n  <Cell '1月'.A4>,\n  <Cell '1月'.A5>,\n  <Cell '1月'.A6>,\n  <Cell '1月'.A7>,\n  <Cell '1月'.A8>,\n  <Cell '1月'.A9>,\n  <Cell '1月'.A10>,\n  <Cell '1月'.A11>,\n  <Cell '1月'.A12>,\n  <Cell '1月'.A13>,\n  <Cell '1月'.A14>,\n  <Cell '1月'.A15>,\n  <Cell '1月'.A16>,\n  <Cell '1月'.A17>,\n  <Cell '1月'.A18>,\n  <Cell '1月'.A19>,\n  <Cell '1月'.A20>),\n (<Cell '1月'.B1>,\n  <Cell '1月'.B2>,\n  <Cell '1月'.B3>,\n  <Cell '1月'.B4>,\n  <Cell '1月'.B5>,\n  <Cell '1月'.B6>,\n  <Cell '1月'.B7>,\n  <Cell '1月'.B8>,\n  <Cell '1月'.B9>,\n  <Cell '1月'.B10>,\n  <Cell '1月'.B11>,\n  <Cell '1月'.B12>,\n  <Cell '1月'.B13>,\n  <Cell '1月'.B14>,\n  <Cell '1月'.B15>,\n  <Cell '1月'.B16>,\n  <Cell '1月'.B17>,\n  <Cell '1月'.B18>,\n  <Cell '1月'.B19>,\n  <Cell '1月'.B20>),\n (<Cell '1月'.C1>,\n  <Cell '1月'.C2>,\n  <Cell '1月'.C3>,\n  <Cell '1月'.C4>,\n  <Cell '1月'.C5>,\n  <Cell '1月'.C6>,\n  <Cell '1月'.C7>,\n  <Cell '1月'.C8>,\n  <Cell '1月'.C9>,\n  <Cell '1月'.C10>,\n  <Cell '1月'.C11>,\n  <Cell '1月'.C12>,\n  <Cell '1月'.C13>,\n  <Cell '1月'.C14>,\n  <Cell '1月'.C15>,\n  <Cell '1月'.C16>,\n  <Cell '1月'.C17>,\n  <Cell '1月'.C18>,\n  <Cell '1月'.C19>,\n  <Cell '1月'.C20>),\n (<Cell '1月'.D1>,\n  <Cell '1月'.D2>,\n  <Cell '1月'.D3>,\n  <Cell '1月'.D4>,\n  <Cell '1月'.D5>,\n  <Cell '1月'.D6>,\n  <Cell '1月'.D7>,\n  <Cell '1月'.D8>,\n  <Cell '1月'.D9>,\n  <Cell '1月'.D10>,\n  <Cell '1月'.D11>,\n  <Cell '1月'.D12>,\n  <Cell '1月'.D13>,\n  <Cell '1月'.D14>,\n  <Cell '1月'.D15>,\n  <Cell '1月'.D16>,\n  <Cell '1月'.D17>,\n  <Cell '1月'.D18>,\n  <Cell '1月'.D19>,\n  <Cell '1月'.D20>),\n (<Cell '1月'.E1>,\n  <Cell '1月'.E2>,\n  <Cell '1月'.E3>,\n  <Cell '1月'.E4>,\n  <Cell '1月'.E5>,\n  <Cell '1月'.E6>,\n  <Cell '1月'.E7>,\n  <Cell '1月'.E8>,\n  <Cell '1月'.E9>,\n  <Cell '1月'.E10>,\n  <Cell '1月'.E11>,\n  <Cell '1月'.E12>,\n  <Cell '1月'.E13>,\n  <Cell '1月'.E14>,\n  <Cell '1月'.E15>,\n  <Cell '1月'.E16>,\n  <Cell '1月'.E17>,\n  <Cell '1月'.E18>,\n  <Cell '1月'.E19>,\n  <Cell '1月'.E20>)]"
     },
     "execution_count": 41,
     "metadata": {},
     "output_type": "execute_result"
    }
   ],
   "source": [
    "wb['1月'].rows\n",
    "list(wb['1月'].columns)"
   ],
   "metadata": {
    "collapsed": false
   }
  },
  {
   "cell_type": "code",
   "execution_count": 36,
   "outputs": [
    {
     "data": {
      "text/plain": "<generator object Worksheet._cells_by_row at 0x0000018EE1E25E70>"
     },
     "execution_count": 36,
     "metadata": {},
     "output_type": "execute_result"
    },
    {
     "data": {
      "text/plain": "<bound method Worksheet.iter_cols of <Worksheet \"1月\">>"
     },
     "execution_count": 36,
     "metadata": {},
     "output_type": "execute_result"
    }
   ],
   "source": [
    "wb['1月'].iter_rows()\n",
    "wb['1月'].iter_cols"
   ],
   "metadata": {
    "collapsed": false
   }
  },
  {
   "cell_type": "code",
   "execution_count": 32,
   "outputs": [
    {
     "data": {
      "text/plain": "<Cell '1月'.E5>"
     },
     "execution_count": 32,
     "metadata": {},
     "output_type": "execute_result"
    },
    {
     "data": {
      "text/plain": "'数量'"
     },
     "execution_count": 32,
     "metadata": {},
     "output_type": "execute_result"
    }
   ],
   "source": [
    "wb['1月']['e5']\n",
    "wb['1月'].cell(1,3).value"
   ],
   "metadata": {
    "collapsed": false
   }
  },
  {
   "cell_type": "code",
   "execution_count": 29,
   "outputs": [
    {
     "name": "stdout",
     "output_type": "stream",
     "text": [
      "物品名称\n",
      "便签纸\n",
      "拉链袋\n",
      "计算器\n",
      "活页本\n",
      "白板笔\n",
      "票据夹\n",
      "网线\n",
      "切纸刀\n",
      "硒鼓\n",
      "墨盒\n",
      "档案柜\n",
      "订书机\n",
      "复印纸\n",
      "键盘\n",
      "文件篮\n",
      "中性笔\n",
      "插线板\n",
      "鼠标\n",
      "U盘\n"
     ]
    }
   ],
   "source": [
    "for raw in range(1,wb['1月'].max_row+1):\n",
    "    print(wb['1月'].cell(raw,2).value)"
   ],
   "metadata": {
    "collapsed": false
   }
  },
  {
   "cell_type": "code",
   "execution_count": 26,
   "outputs": [
    {
     "data": {
      "text/plain": "20"
     },
     "execution_count": 26,
     "metadata": {},
     "output_type": "execute_result"
    },
    {
     "data": {
      "text/plain": "5"
     },
     "execution_count": 26,
     "metadata": {},
     "output_type": "execute_result"
    }
   ],
   "source": [
    "wb['1月'].max_row\n",
    "wb['1月'].max_column"
   ],
   "metadata": {
    "collapsed": false
   }
  },
  {
   "cell_type": "code",
   "execution_count": 23,
   "outputs": [
    {
     "data": {
      "text/plain": "147"
     },
     "execution_count": 23,
     "metadata": {},
     "output_type": "execute_result"
    }
   ],
   "source": [
    "wb['1月']['e4'].value"
   ],
   "metadata": {
    "collapsed": false
   }
  },
  {
   "cell_type": "code",
   "execution_count": null,
   "outputs": [],
   "source": [],
   "metadata": {
    "collapsed": false
   }
  },
  {
   "cell_type": "code",
   "execution_count": 18,
   "outputs": [
    {
     "name": "stderr",
     "output_type": "stream",
     "text": [
      "C:\\Users\\fzh00\\AppData\\Local\\Temp\\ipykernel_2432\\1251898269.py:5: FutureWarning: The frame.append method is deprecated and will be removed from pandas in a future version. Use pandas.concat instead.\n",
      "  df2= df2.append(tem)\n",
      "C:\\Users\\fzh00\\AppData\\Local\\Temp\\ipykernel_2432\\1251898269.py:5: FutureWarning: The frame.append method is deprecated and will be removed from pandas in a future version. Use pandas.concat instead.\n",
      "  df2= df2.append(tem)\n",
      "C:\\Users\\fzh00\\AppData\\Local\\Temp\\ipykernel_2432\\1251898269.py:5: FutureWarning: The frame.append method is deprecated and will be removed from pandas in a future version. Use pandas.concat instead.\n",
      "  df2= df2.append(tem)\n",
      "C:\\Users\\fzh00\\AppData\\Local\\Temp\\ipykernel_2432\\1251898269.py:5: FutureWarning: The frame.append method is deprecated and will be removed from pandas in a future version. Use pandas.concat instead.\n",
      "  df2= df2.append(tem)\n",
      "C:\\Users\\fzh00\\AppData\\Local\\Temp\\ipykernel_2432\\1251898269.py:5: FutureWarning: The frame.append method is deprecated and will be removed from pandas in a future version. Use pandas.concat instead.\n",
      "  df2= df2.append(tem)\n",
      "C:\\Users\\fzh00\\AppData\\Local\\Temp\\ipykernel_2432\\1251898269.py:5: FutureWarning: The frame.append method is deprecated and will be removed from pandas in a future version. Use pandas.concat instead.\n",
      "  df2= df2.append(tem)\n",
      "C:\\Users\\fzh00\\AppData\\Local\\Temp\\ipykernel_2432\\1251898269.py:5: FutureWarning: The frame.append method is deprecated and will be removed from pandas in a future version. Use pandas.concat instead.\n",
      "  df2= df2.append(tem)\n",
      "C:\\Users\\fzh00\\AppData\\Local\\Temp\\ipykernel_2432\\1251898269.py:5: FutureWarning: The frame.append method is deprecated and will be removed from pandas in a future version. Use pandas.concat instead.\n",
      "  df2= df2.append(tem)\n",
      "C:\\Users\\fzh00\\AppData\\Local\\Temp\\ipykernel_2432\\1251898269.py:5: FutureWarning: The frame.append method is deprecated and will be removed from pandas in a future version. Use pandas.concat instead.\n",
      "  df2= df2.append(tem)\n",
      "C:\\Users\\fzh00\\AppData\\Local\\Temp\\ipykernel_2432\\1251898269.py:5: FutureWarning: The frame.append method is deprecated and will be removed from pandas in a future version. Use pandas.concat instead.\n",
      "  df2= df2.append(tem)\n",
      "C:\\Users\\fzh00\\AppData\\Local\\Temp\\ipykernel_2432\\1251898269.py:5: FutureWarning: The frame.append method is deprecated and will be removed from pandas in a future version. Use pandas.concat instead.\n",
      "  df2= df2.append(tem)\n",
      "C:\\Users\\fzh00\\AppData\\Local\\Temp\\ipykernel_2432\\1251898269.py:5: FutureWarning: The frame.append method is deprecated and will be removed from pandas in a future version. Use pandas.concat instead.\n",
      "  df2= df2.append(tem)\n"
     ]
    },
    {
     "data": {
      "text/plain": "           日期 物品名称  数量    单价   采购金额\n1  2020-01-02  拉链袋  24  12.5  300.0\n4  2020-03-11  拉链袋  10  12.5  125.0\n4  2020-05-20  拉链袋  36  12.5  450.0\n4  2020-08-18  拉链袋  23  12.5  287.5\n5  2020-09-13  拉链袋  43  12.5  537.5\n7  2020-11-21  拉链袋  17  12.5  212.5",
      "text/html": "<div>\n<style scoped>\n    .dataframe tbody tr th:only-of-type {\n        vertical-align: middle;\n    }\n\n    .dataframe tbody tr th {\n        vertical-align: top;\n    }\n\n    .dataframe thead th {\n        text-align: right;\n    }\n</style>\n<table border=\"1\" class=\"dataframe\">\n  <thead>\n    <tr style=\"text-align: right;\">\n      <th></th>\n      <th>日期</th>\n      <th>物品名称</th>\n      <th>数量</th>\n      <th>单价</th>\n      <th>采购金额</th>\n    </tr>\n  </thead>\n  <tbody>\n    <tr>\n      <th>1</th>\n      <td>2020-01-02</td>\n      <td>拉链袋</td>\n      <td>24</td>\n      <td>12.5</td>\n      <td>300.0</td>\n    </tr>\n    <tr>\n      <th>4</th>\n      <td>2020-03-11</td>\n      <td>拉链袋</td>\n      <td>10</td>\n      <td>12.5</td>\n      <td>125.0</td>\n    </tr>\n    <tr>\n      <th>4</th>\n      <td>2020-05-20</td>\n      <td>拉链袋</td>\n      <td>36</td>\n      <td>12.5</td>\n      <td>450.0</td>\n    </tr>\n    <tr>\n      <th>4</th>\n      <td>2020-08-18</td>\n      <td>拉链袋</td>\n      <td>23</td>\n      <td>12.5</td>\n      <td>287.5</td>\n    </tr>\n    <tr>\n      <th>5</th>\n      <td>2020-09-13</td>\n      <td>拉链袋</td>\n      <td>43</td>\n      <td>12.5</td>\n      <td>537.5</td>\n    </tr>\n    <tr>\n      <th>7</th>\n      <td>2020-11-21</td>\n      <td>拉链袋</td>\n      <td>17</td>\n      <td>12.5</td>\n      <td>212.5</td>\n    </tr>\n  </tbody>\n</table>\n</div>"
     },
     "execution_count": 18,
     "metadata": {},
     "output_type": "execute_result"
    }
   ],
   "source": [
    "df2 = pd.DataFrame()\n",
    "for i in range(len(wb.sheetnames)):\n",
    "    data = pd.read_excel(r\"C:\\Data\\Jupyter_file\\Python数据清洗基础\\办公自动化\\1、从多个表中提取指定数据到新表\\办公用品采购表_2020年.xlsx\",i)\n",
    "    tem = data[data.物品名称 == '拉链袋']\n",
    "    df2= df2.append(tem)\n",
    "df2"
   ],
   "metadata": {
    "collapsed": false
   }
  },
  {
   "cell_type": "code",
   "execution_count": 11,
   "outputs": [
    {
     "data": {
      "text/plain": "['1月', '2月', '3月', '4月', '5月', '6月', '7月', '8月', '9月', '10月', '11月', '12月']"
     },
     "execution_count": 11,
     "metadata": {},
     "output_type": "execute_result"
    },
    {
     "data": {
      "text/plain": "            日期 物品名称  数量    单价   采购金额\n2   2020-01-05  计算器  14  10.5  147.0\n7   2020-03-18  计算器  15  10.5  157.5\n0   2020-04-09  计算器  48  10.5  504.0\n3   2020-05-18  计算器  34  10.5  357.0\n5   2020-06-07  计算器  31  10.5  325.5\n7   2020-09-13  计算器  11  10.5  115.5\n10  2020-11-26  计算器  29  10.5  304.5",
      "text/html": "<div>\n<style scoped>\n    .dataframe tbody tr th:only-of-type {\n        vertical-align: middle;\n    }\n\n    .dataframe tbody tr th {\n        vertical-align: top;\n    }\n\n    .dataframe thead th {\n        text-align: right;\n    }\n</style>\n<table border=\"1\" class=\"dataframe\">\n  <thead>\n    <tr style=\"text-align: right;\">\n      <th></th>\n      <th>日期</th>\n      <th>物品名称</th>\n      <th>数量</th>\n      <th>单价</th>\n      <th>采购金额</th>\n    </tr>\n  </thead>\n  <tbody>\n    <tr>\n      <th>2</th>\n      <td>2020-01-05</td>\n      <td>计算器</td>\n      <td>14</td>\n      <td>10.5</td>\n      <td>147.0</td>\n    </tr>\n    <tr>\n      <th>7</th>\n      <td>2020-03-18</td>\n      <td>计算器</td>\n      <td>15</td>\n      <td>10.5</td>\n      <td>157.5</td>\n    </tr>\n    <tr>\n      <th>0</th>\n      <td>2020-04-09</td>\n      <td>计算器</td>\n      <td>48</td>\n      <td>10.5</td>\n      <td>504.0</td>\n    </tr>\n    <tr>\n      <th>3</th>\n      <td>2020-05-18</td>\n      <td>计算器</td>\n      <td>34</td>\n      <td>10.5</td>\n      <td>357.0</td>\n    </tr>\n    <tr>\n      <th>5</th>\n      <td>2020-06-07</td>\n      <td>计算器</td>\n      <td>31</td>\n      <td>10.5</td>\n      <td>325.5</td>\n    </tr>\n    <tr>\n      <th>7</th>\n      <td>2020-09-13</td>\n      <td>计算器</td>\n      <td>11</td>\n      <td>10.5</td>\n      <td>115.5</td>\n    </tr>\n    <tr>\n      <th>10</th>\n      <td>2020-11-26</td>\n      <td>计算器</td>\n      <td>29</td>\n      <td>10.5</td>\n      <td>304.5</td>\n    </tr>\n  </tbody>\n</table>\n</div>"
     },
     "execution_count": 11,
     "metadata": {},
     "output_type": "execute_result"
    }
   ],
   "source": [
    "import openpyxl\n",
    "import pandas as pd\n",
    "wb = openpyxl.load_workbook(r\"C:\\Data\\Jupyter_file\\Python数据清洗基础\\办公自动化\\1、从多个表中提取指定数据到新表\\办公用品采购表_2020年.xlsx\")\n",
    "wb.sheetnames\n",
    "df = pd.DataFrame()\n",
    "for i in range(len(wb.sheetnames)):\n",
    "    data = pd.read_excel(r\"C:\\Data\\Jupyter_file\\Python数据清洗基础\\办公自动化\\1、从多个表中提取指定数据到新表\\办公用品采购表_2020年.xlsx\",i)\n",
    "    tem = data[data.物品名称 == '计算器']\n",
    "    df= pd.concat([df,tem])\n",
    "df\n",
    "wb.close()"
   ],
   "metadata": {
    "collapsed": false
   }
  },
  {
   "cell_type": "code",
   "execution_count": 7,
   "outputs": [
    {
     "data": {
      "text/plain": "'A1单元格'"
     },
     "execution_count": 7,
     "metadata": {},
     "output_type": "execute_result"
    }
   ],
   "source": [
    "import openpyxl\n",
    "#新建工作簿\n",
    "#wb = openpyxl.Workbook()\n",
    "#打开现有工作簿\n",
    "# filename：文件名\n",
    "# read_only：是否只读（type: bool）\n",
    "# keep_vba：是否保留VBA内容（type: bool）\n",
    "# data_only：是否只读取数据，不读取公式（type: bool）\n",
    "# keep_links：是否保留链接（type: bool）\n",
    "wb = openpyxl.load_workbook(r\"C:\\Data\\Jupyter_file\\Python数据清洗基础\\办公自动化\\1、从多个表中提取指定数据到新表\\办公用品采购表_2020年.xlsx\")\n",
    "sheet = wb['1月']\n",
    "#第一种写法\n",
    "sheet.cell(row=1,column=1,value='A1单元格').value\n",
    "sheet.cell(1,1).value = 'A1单元格'\n",
    "#第二种写法\n",
    "sheet['A2'].value = 'A2单元格'\n",
    "#新建工作表\n",
    "# title：工作表的名称\n",
    "# index：新生成的工作表要放在哪个位置\n",
    "# 不填 默认放在最后一个位置\n",
    "# 0 代表放在第一个位置\n",
    "# -1 代表放在倒数第二个位置\n",
    "#sheet= wb.create_sheet(参数)\n",
    "wb.save(r'C:\\Users\\fzh00\\Desktop\\test.xlsx')\n",
    "wb.close()"
   ],
   "metadata": {
    "collapsed": false
   }
  },
  {
   "cell_type": "code",
   "execution_count": 1,
   "outputs": [
    {
     "data": {
      "text/plain": "'C:\\\\ProgramData\\\\Anaconda3\\\\envs\\\\pythonProject1\\\\lib\\\\os.py'"
     },
     "execution_count": 1,
     "metadata": {},
     "output_type": "execute_result"
    }
   ],
   "source": [
    "import os\n",
    "os.__file__"
   ],
   "metadata": {
    "collapsed": false
   }
  },
  {
   "cell_type": "code",
   "execution_count": 2,
   "outputs": [],
   "source": [
    "from IPython.core.interactiveshell import InteractiveShell\n",
    "InteractiveShell.ast_node_interactivity = \"all\""
   ],
   "metadata": {
    "collapsed": false
   }
  }
 ],
 "metadata": {
  "kernelspec": {
   "name": "auto_report",
   "language": "python",
   "display_name": "auto_report"
  },
  "language_info": {
   "codemirror_mode": {
    "name": "ipython",
    "version": 2
   },
   "file_extension": ".py",
   "mimetype": "text/x-python",
   "name": "python",
   "nbconvert_exporter": "python",
   "pygments_lexer": "ipython2",
   "version": "2.7.6"
  }
 },
 "nbformat": 4,
 "nbformat_minor": 0
}
