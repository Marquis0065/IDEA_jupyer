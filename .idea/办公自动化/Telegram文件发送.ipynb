{
 "cells": [
  {
   "cell_type": "code",
   "execution_count": 21,
   "outputs": [
    {
     "ename": "SyntaxError",
     "evalue": "future feature annotations is not defined (types.py, line 2)",
     "output_type": "error",
     "traceback": [
      "Traceback \u001B[1;36m(most recent call last)\u001B[0m:\n",
      "  File \u001B[0;32m\"C:\\ProgramData\\Anaconda3\\envs\\py36\\lib\\site-packages\\IPython\\core\\interactiveshell.py\"\u001B[0m, line \u001B[0;32m3343\u001B[0m, in \u001B[0;35mrun_code\u001B[0m\n    exec(code_obj, self.user_global_ns, self.user_ns)\n",
      "  File \u001B[0;32m\"<ipython-input-21-ab233f9b7810>\"\u001B[0m, line \u001B[0;32m1\u001B[0m, in \u001B[0;35m<module>\u001B[0m\n    import telebot\n",
      "  File \u001B[0;32m\"C:\\ProgramData\\Anaconda3\\envs\\py36\\lib\\site-packages\\telebot\\__init__.py\"\u001B[0m, line \u001B[0;32m13\u001B[0m, in \u001B[0;35m<module>\u001B[0m\n    import telebot.util\n",
      "\u001B[1;36m  File \u001B[1;32m\"C:\\ProgramData\\Anaconda3\\envs\\py36\\lib\\site-packages\\telebot\\util.py\"\u001B[1;36m, line \u001B[1;32m14\u001B[1;36m, in \u001B[1;35m<module>\u001B[1;36m\u001B[0m\n\u001B[1;33m    from telebot import types\u001B[0m\n",
      "\u001B[1;36m  File \u001B[1;32m\"C:\\ProgramData\\Anaconda3\\envs\\py36\\lib\\site-packages\\telebot\\types.py\"\u001B[1;36m, line \u001B[1;32m2\u001B[0m\n\u001B[1;33m    from __future__ import annotations\u001B[0m\n\u001B[1;37m                                      ^\u001B[0m\n\u001B[1;31mSyntaxError\u001B[0m\u001B[1;31m:\u001B[0m future feature annotations is not defined\n"
     ]
    }
   ],
   "source": [
    "import telebot\n",
    "bot = telebot.TeleBot(\"6377312623:AAGz3ZSMVswWq0QVlihRPklw8b7skSBP16Y\")\n",
    "bot.send_message(-677235937,'bot.send_message')"
   ],
   "metadata": {
    "collapsed": false
   }
  },
  {
   "cell_type": "code",
   "execution_count": 19,
   "outputs": [
    {
     "data": {
      "text/plain": "<telegram.message.Message at 0x157749c5758>"
     },
     "execution_count": 19,
     "metadata": {},
     "output_type": "execute_result"
    }
   ],
   "source": [
    "#发送视频\n",
    "import telegram\n",
    "bot = telegram.Bot('6377312623:AAGz3ZSMVswWq0QVlihRPklw8b7skSBP16Y')\n",
    "bot.sendVideo(-677235937,open(r\"C:\\Users\\fzh00\\Desktop\\测试视频.mp4\",'rb'))"
   ],
   "metadata": {
    "collapsed": false
   }
  },
  {
   "cell_type": "code",
   "execution_count": 16,
   "outputs": [
    {
     "data": {
      "text/plain": "<telegram.message.Message at 0x157749c4bc8>"
     },
     "execution_count": 16,
     "metadata": {},
     "output_type": "execute_result"
    }
   ],
   "source": [
    "#发送图片3\n",
    "import telegram\n",
    "bot = telegram.Bot('6377312623:AAGz3ZSMVswWq0QVlihRPklw8b7skSBP16Y')\n",
    "with open(r\"C:\\Users\\fzh00\\Desktop\\文件\\R截图\\一个总体参数的区间估计.png\",'rb') as f:\n",
    "    file = f.read()\n",
    "bot.sendPhoto(chat_id=-677235937,photo=file)"
   ],
   "metadata": {
    "collapsed": false
   }
  },
  {
   "cell_type": "code",
   "execution_count": 15,
   "outputs": [],
   "source": [
    "#发送图片2\n",
    "import telegram\n",
    "bot = telegram.Bot('6377312623:AAGz3ZSMVswWq0QVlihRPklw8b7skSBP16Y')\n",
    "file = open(r'C:\\Users\\fzh00\\Pictures\\先天64卦.png','rb')\n",
    "files = file.read()\n",
    "bot.sendPhoto(chat_id=-677235937,photo=files)\n",
    "file.close()"
   ],
   "metadata": {
    "collapsed": false
   }
  },
  {
   "cell_type": "code",
   "execution_count": null,
   "outputs": [],
   "source": [
    "#发送文件1\n",
    "import telegram\n",
    "bot = telegram.Bot('6377312623:AAGz3ZSMVswWq0QVlihRPklw8b7skSBP16Y')\n",
    "bot.sendPhoto(chat_id=-677235937, document=open(r\"C:\\Users\\fzh00\\Desktop\\文件\\日本签证材\\29CB2AA19EDCEA678B096B48EE600781.png\", 'rb'))"
   ],
   "metadata": {
    "collapsed": false
   }
  },
  {
   "cell_type": "code",
   "execution_count": 12,
   "outputs": [
    {
     "data": {
      "text/plain": "<telegram.message.Message at 0x157749c62e8>"
     },
     "execution_count": 12,
     "metadata": {},
     "output_type": "execute_result"
    }
   ],
   "source": [
    "#发送文件\n",
    "import telegram\n",
    "bot = telegram.Bot('6377312623:AAGz3ZSMVswWq0QVlihRPklw8b7skSBP16Y')\n",
    "bot.sendDocument(chat_id=-677235937, document=open(r\"C:\\Users\\fzh00\\Desktop\\文件\\日本签证材\\29CB2AA19EDCEA678B096B48EE600781.png\", 'rb'))"
   ],
   "metadata": {
    "collapsed": false
   }
  },
  {
   "cell_type": "code",
   "execution_count": 6,
   "outputs": [
    {
     "data": {
      "text/plain": "<telegram.message.Message at 0x157749c6788>"
     },
     "execution_count": 6,
     "metadata": {},
     "output_type": "execute_result"
    }
   ],
   "source": [
    "import telegram\n",
    "bot = telegram.Bot('6377312623:AAGz3ZSMVswWq0QVlihRPklw8b7skSBP16Y')\n",
    "bot.send_message(chat_id=-677235937, text='这是7月15日的群消息') # 發送訊息"
   ],
   "metadata": {
    "collapsed": false
   }
  },
  {
   "cell_type": "code",
   "execution_count": 5,
   "outputs": [
    {
     "data": {
      "text/plain": "<telegram.message.Message at 0x157749c4978>"
     },
     "execution_count": 5,
     "metadata": {},
     "output_type": "execute_result"
    }
   ],
   "source": [
    "# from telegram.ext import Updater # 更新管家\n",
    "from telegram import InputMediaAudio, InputMediaDocument, InputMediaPhoto, InputMediaVideo # 媒體發送\n",
    "import telegram\n",
    "import os\n",
    "import pandas, numpy\n",
    "import datetime\n",
    "\n",
    "# 定義型態字典\n",
    "media_type = {'A': InputMediaAudio,    # 聲音\n",
    "              'D': InputMediaDocument, # 壓縮文件\n",
    "              'P': InputMediaPhoto,    # 圖片\n",
    "              'V': InputMediaVideo     # 影片\n",
    "              }\n",
    "bot = telegram.Bot('6377312623:AAGz3ZSMVswWq0QVlihRPklw8b7skSBP16Y')\n",
    "bot.send_message(chat_id=6210512460, text='新模式消息') # 發送訊息"
   ],
   "metadata": {
    "collapsed": false
   }
  },
  {
   "cell_type": "code",
   "execution_count": null,
   "outputs": [],
   "source": [
    "from telegram.ext import Updater # 更新管家\n",
    "from telegram import InputMediaAudio, InputMediaDocument, InputMediaPhoto, InputMediaVideo # 媒體發送\n",
    "import telegram\n",
    "import os\n",
    "import pandas, numpy\n",
    "import datetime\n",
    "\n",
    "# 定義型態字典\n",
    "media_type = {'A': InputMediaAudio,    # 聲音\n",
    "              'D': InputMediaDocument, # 壓縮文件\n",
    "              'P': InputMediaPhoto,    # 圖片\n",
    "              'V': InputMediaVideo     # 影片\n",
    "              }\n",
    "\n",
    "\n",
    "# 對某人或群組發話\n",
    "def speaking(who, text):\n",
    "    dispatcher.bot.send_message(chat_id=who, text=text) # 發送訊息\n",
    "\n",
    "\n",
    "# 發送圖片\n",
    "def sending_photo(who, photo):\n",
    "    dispatcher.bot.send_photo(chat_id=who, photo=open(photo, 'rb'))\n",
    "\n",
    "\n",
    "# 發送media_group\n",
    "def making_media_group(InputMedias:tuple):\n",
    "    reset_media_group = []\n",
    "    try:\n",
    "        for media in InputMedias:\n",
    "            if media[0] == 'P' or 'D': # 圖片\n",
    "                m = media_type[media[0]](media=open(media[1], 'rb'))\n",
    "            else:\n",
    "                m = media_type[media[0]](media=media[1]) # 一般的\n",
    "            reset_media_group.append(m)\n",
    "\n",
    "        return reset_media_group\n",
    "    except:\n",
    "        print('error making!')\n",
    "\n",
    "def sending_media_group(who, media_group:list):\n",
    "    reset_media_group = making_media_group(media_group)\n",
    "    dispatcher.bot.send_media_group(chat_id=who, media=reset_media_group)\n",
    "\n",
    "\n",
    "# 使用時\n",
    "media_group = [('D', photo1), ('D', photo2), ('D', data)]\n",
    "sending_media_group(who, media_group)"
   ],
   "metadata": {
    "collapsed": false
   }
  },
  {
   "cell_type": "code",
   "execution_count": null,
   "outputs": [],
   "source": [],
   "metadata": {
    "collapsed": false
   }
  },
  {
   "cell_type": "code",
   "execution_count": 1,
   "outputs": [
    {
     "ename": "SyntaxError",
     "evalue": "future feature annotations is not defined (types.py, line 2)",
     "output_type": "error",
     "traceback": [
      "Traceback \u001B[1;36m(most recent call last)\u001B[0m:\n",
      "  File \u001B[0;32m\"C:\\ProgramData\\Anaconda3\\envs\\py36\\lib\\site-packages\\IPython\\core\\interactiveshell.py\"\u001B[0m, line \u001B[0;32m3343\u001B[0m, in \u001B[0;35mrun_code\u001B[0m\n    exec(code_obj, self.user_global_ns, self.user_ns)\n",
      "  File \u001B[0;32m\"<ipython-input-1-b54cffd67882>\"\u001B[0m, line \u001B[0;32m1\u001B[0m, in \u001B[0;35m<module>\u001B[0m\n    import telebot\n",
      "  File \u001B[0;32m\"C:\\ProgramData\\Anaconda3\\envs\\py36\\lib\\site-packages\\telebot\\__init__.py\"\u001B[0m, line \u001B[0;32m13\u001B[0m, in \u001B[0;35m<module>\u001B[0m\n    import telebot.util\n",
      "\u001B[1;36m  File \u001B[1;32m\"C:\\ProgramData\\Anaconda3\\envs\\py36\\lib\\site-packages\\telebot\\util.py\"\u001B[1;36m, line \u001B[1;32m14\u001B[1;36m, in \u001B[1;35m<module>\u001B[1;36m\u001B[0m\n\u001B[1;33m    from telebot import types\u001B[0m\n",
      "\u001B[1;36m  File \u001B[1;32m\"C:\\ProgramData\\Anaconda3\\envs\\py36\\lib\\site-packages\\telebot\\types.py\"\u001B[1;36m, line \u001B[1;32m2\u001B[0m\n\u001B[1;33m    from __future__ import annotations\u001B[0m\n\u001B[1;37m                                      ^\u001B[0m\n\u001B[1;31mSyntaxError\u001B[0m\u001B[1;31m:\u001B[0m future feature annotations is not defined\n"
     ]
    }
   ],
   "source": [
    "import telebot\n",
    "file=open(r\"C:\\Users\\fzh00\\Pictures\\2.png\", 'rb')\n",
    "bot = telebot.TeleBot(token='6377312623:AAGz3ZSMVswWq0QVlihRPklw8b7skSBP16Y')\n",
    "bot.sendDocument(chat_id=-677235937, document=file)\n",
    "# 还可以发送 图片 视频 等\n",
    "file.close()"
   ],
   "metadata": {
    "collapsed": false
   }
  },
  {
   "cell_type": "code",
   "execution_count": 1,
   "outputs": [
    {
     "data": {
      "text/plain": "'C:\\\\ProgramData\\\\Anaconda3\\\\envs\\\\telegram\\\\Lib\\\\os.py'"
     },
     "execution_count": 1,
     "metadata": {},
     "output_type": "execute_result"
    }
   ],
   "source": [
    "import os\n",
    "os.__file__"
   ],
   "metadata": {
    "collapsed": false
   }
  },
  {
   "cell_type": "code",
   "execution_count": 11,
   "outputs": [
    {
     "ename": "SyntaxError",
     "evalue": "future feature annotations is not defined (types.py, line 2)",
     "output_type": "error",
     "traceback": [
      "Traceback \u001B[1;36m(most recent call last)\u001B[0m:\n",
      "  File \u001B[0;32m\"C:\\ProgramData\\Anaconda3\\envs\\py36\\lib\\site-packages\\IPython\\core\\interactiveshell.py\"\u001B[0m, line \u001B[0;32m3343\u001B[0m, in \u001B[0;35mrun_code\u001B[0m\n    exec(code_obj, self.user_global_ns, self.user_ns)\n",
      "  File \u001B[0;32m\"<ipython-input-11-13d8f6459c1e>\"\u001B[0m, line \u001B[0;32m1\u001B[0m, in \u001B[0;35m<module>\u001B[0m\n    import telebot\n",
      "  File \u001B[0;32m\"C:\\ProgramData\\Anaconda3\\envs\\py36\\lib\\site-packages\\telebot\\__init__.py\"\u001B[0m, line \u001B[0;32m13\u001B[0m, in \u001B[0;35m<module>\u001B[0m\n    import telebot.util\n",
      "\u001B[1;36m  File \u001B[1;32m\"C:\\ProgramData\\Anaconda3\\envs\\py36\\lib\\site-packages\\telebot\\util.py\"\u001B[1;36m, line \u001B[1;32m14\u001B[1;36m, in \u001B[1;35m<module>\u001B[1;36m\u001B[0m\n\u001B[1;33m    from telebot import types\u001B[0m\n",
      "\u001B[1;36m  File \u001B[1;32m\"C:\\ProgramData\\Anaconda3\\envs\\py36\\lib\\site-packages\\telebot\\types.py\"\u001B[1;36m, line \u001B[1;32m2\u001B[0m\n\u001B[1;33m    from __future__ import annotations\u001B[0m\n\u001B[1;37m                                      ^\u001B[0m\n\u001B[1;31mSyntaxError\u001B[0m\u001B[1;31m:\u001B[0m future feature annotations is not defined\n"
     ]
    }
   ],
   "source": [
    "import telebot\n",
    "bot = telebot.TeleBot('6377312623:AAGz3ZSMVswWq0QVlihRPklw8b7skSBP16Y')\n",
    "file=open(r\"C:\\Users\\fzh00\\Desktop\\文件\\日本签证材\\本人页.png\",'rb')\n",
    "bot.send_document(chat_id=-677235937,document=file)\n",
    "file.close()"
   ],
   "metadata": {
    "collapsed": false
   }
  },
  {
   "cell_type": "code",
   "execution_count": 1,
   "outputs": [
    {
     "ename": "AttributeError",
     "evalue": "module 'telegram' has no attribute 'Bot'",
     "output_type": "error",
     "traceback": [
      "\u001B[1;31m---------------------------------------------------------------------------\u001B[0m",
      "\u001B[1;31mAttributeError\u001B[0m                            Traceback (most recent call last)",
      "Cell \u001B[1;32mIn[1], line 2\u001B[0m\n\u001B[0;32m      1\u001B[0m \u001B[38;5;28;01mimport\u001B[39;00m \u001B[38;5;21;01mtelegram\u001B[39;00m\n\u001B[1;32m----> 2\u001B[0m bot \u001B[38;5;241m=\u001B[39m \u001B[43mtelegram\u001B[49m\u001B[38;5;241;43m.\u001B[39;49m\u001B[43mBot\u001B[49m(\u001B[38;5;124m\"\u001B[39m\u001B[38;5;124m6377312623:AAGz3ZSMVswWq0QVlihRPklw8b7skSBP16Y\u001B[39m\u001B[38;5;124m\"\u001B[39m)\n\u001B[0;32m      3\u001B[0m bot\u001B[38;5;241m.\u001B[39mget_me()\n",
      "\u001B[1;31mAttributeError\u001B[0m: module 'telegram' has no attribute 'Bot'"
     ]
    }
   ],
   "source": [
    "import telegram\n",
    "bot = telegram.Bot(\"6377312623:AAGz3ZSMVswWq0QVlihRPklw8b7skSBP16Y\")\n",
    "bot.get_me()"
   ],
   "metadata": {
    "collapsed": false
   }
  }
 ],
 "metadata": {
  "kernelspec": {
   "name": "py36",
   "language": "python",
   "display_name": "py36"
  },
  "language_info": {
   "codemirror_mode": {
    "name": "ipython",
    "version": 2
   },
   "file_extension": ".py",
   "mimetype": "text/x-python",
   "name": "python",
   "nbconvert_exporter": "python",
   "pygments_lexer": "ipython2",
   "version": "2.7.6"
  }
 },
 "nbformat": 4,
 "nbformat_minor": 0
}
