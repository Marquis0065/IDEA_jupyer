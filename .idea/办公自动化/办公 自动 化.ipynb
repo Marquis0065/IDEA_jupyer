{
 "cells": [
  {
   "cell_type": "code",
   "execution_count": null,
   "outputs": [],
   "source": [
    "# import os\n",
    "# path1=os.path.abspath('.')  # 表示当前所处的文件夹的绝对路径\n",
    "# print(path1)\n",
    "# path2=os.path.abspath('..') # 表示当前所处的文件夹上一级文件夹的绝对路径\n",
    "# print(path2)\n",
    "# 显示警报（）\n",
    "app.display_alerts = True\n",
    "# 屏幕更新（应用中）\n",
    "app.screen_updating = True"
   ],
   "metadata": {
    "collapsed": false
   }
  },
  {
   "cell_type": "code",
   "execution_count": 4,
   "outputs": [
    {
     "name": "stdout",
     "output_type": "stream",
     "text": [
      "你好，这里面是python代码\n"
     ]
    },
    {
     "data": {
      "text/plain": "'None'"
     },
     "execution_count": 4,
     "metadata": {},
     "output_type": "execute_result"
    }
   ],
   "source": [
    "f'{print(\"你好，这里面是python代码\")}'"
   ],
   "metadata": {
    "collapsed": false
   }
  },
  {
   "cell_type": "code",
   "execution_count": 2,
   "outputs": [
    {
     "name": "stdout",
     "output_type": "stream",
     "text": [
      "3\n"
     ]
    }
   ],
   "source": [
    "import xlwings as xw\n",
    "app=xw.App(visible=False,add_book=False)\n",
    "app.display_alerts=False\n",
    "app.screen_updating=False\n",
    "wb=app.books.open(r\"C:\\Data\\Jupyter_file\\Python数据清洗基础\\办公自动化\\4、考勤统计\\排班.xlsx\")\n",
    "print(wb.sheets.count)\n",
    "wb.close()\n",
    "app.quit()"
   ],
   "metadata": {
    "collapsed": false
   }
  },
  {
   "cell_type": "code",
   "execution_count": null,
   "outputs": [],
   "source": [
    "# 多个sheet合并\n",
    "import openpyxl\n",
    "from openpyxl.utils import coordinate_from_string,column_index_from_string,get_column_letter\n",
    "import os\n",
    "from openpyxl.workbook import Workbook\n",
    "class Info_day:\n",
    "    def __init__(self,filename,start_name,rowend_name,colend_name):\n",
    "\n",
    "        self.file_name=filename  ##读取的文件名\n",
    "        self.start_name=start_name   #每个表所需内容的起始参数名\n",
    "        self.rowend_name=rowend_name #每个表所需内容的结束行名\n",
    "        self.colend_name=colend_name  #每个表所需内容的结束列名\n",
    "\n",
    "    def col_and_row(self,sn):\n",
    "        \"\"\"读取每个工作表起始与结束数据的行列\"\"\"\n",
    "        count_a1 = 0\n",
    "        count_a2 = 0\n",
    "        count_b2 = 0\n",
    "        list_index=[]\n",
    "        for row in sn.iter_rows(min_row=1,max_row= 20,max_col=20):\n",
    "            for cell in row:\n",
    "                if type(cell.value) is  str and cell.value.replace(\"\\n\",\"\") == self.start_name and count_a1==0: #加==0是因为防止迭代范围内遇到与结束行列名字相同的cell，加type=str是因为所需要的数值内容是str(如果type为其他类型可以根据需要更改）\n",
    "                    a1 =  cell.coordinate\n",
    "                    row_start_letter=cell.row   #开始行index\n",
    "                    column_start_letter = column_index_from_string(cell.column) #开始列index\n",
    "                    count_a1 += 1\n",
    "                    list_index.append(row_start_letter)\n",
    "                    list_index.append(column_start_letter)\n",
    "                elif type(cell.value) is str and cell.value.replace(\"\\n\",\"\") == self.rowend_name and count_a2==0:\n",
    "                    row_end_letter=cell.row   #结束行index\n",
    "                    count_a2 += 1\n",
    "                    list_index.append(row_end_letter)\n",
    "                elif type(cell.value) is str and cell.value.replace(\"\\n\",\"\") == self.colend_name and count_b2 ==0:\n",
    "                    column_end_letter = column_index_from_string(cell.column) #结束列index\n",
    "                    count_b2 += 1\n",
    "                    list_index.append(column_end_letter)\n",
    "                else:\n",
    "                    if count_a1 == 1 and count_a2 == 1 and count_b2 ==1:\n",
    "\n",
    "                        break\n",
    "                    else:\n",
    "                        continue\n",
    "\n",
    "        return list_index #返回一个列表\n",
    "\n",
    "    def handle_excel(self,n_file_path): ##n_file_path 为新Excel保存的位置\n",
    "        wb=openpyxl.load_workbook(self.file_name,data_only=True)  ##加载excel表\n",
    "        if os.path.exists(n_file_path):  ##如果文件存在，则删除\n",
    "            os.remove(n_file_path)\n",
    "        n_wb=Workbook()     #新建一个文件\n",
    "        n_ws=n_wb.active\n",
    "        for snames in wb.sheetnames:\n",
    "            sb=wb[snames]\n",
    "            list_index = self.col_and_row(sb)\n",
    "            print(list_index)\n",
    "            rowindex_start=list_index[0]\n",
    "            rowindex_end = list_index[3]\n",
    "            colindex_start=list_index[1]\n",
    "            colindex_end = list_index[2]\n",
    "\n",
    "            #最后一列后增加一列每行数据来源的sheetname\n",
    "            letter_name=get_column_letter(colindex_end+1)  #返回列的字母形式\n",
    "            start_name = letter_name + str(rowindex_start)\n",
    "            end_name = letter_name + str(rowindex_end)\n",
    "            print(snames,start_name,end_name)\n",
    "\n",
    "            for cell_range in sb[start_name:end_name]:\n",
    "                for cell in cell_range:\n",
    "                    cell.value=snames\n",
    "\n",
    "            for row in sb.iter_rows(min_row=rowindex_start,max_row=rowindex_end,\n",
    "                                    min_col=colindex_start,max_col=colindex_end+1):\n",
    "                n_ws.append((cell.value for cell in row)) #这种方式可以直接将一行或列d的数据append到其他sheet中\n",
    "        n_wb.save(n_file_path)\n",
    "\n"
   ],
   "metadata": {
    "collapsed": false
   }
  },
  {
   "cell_type": "code",
   "execution_count": 7,
   "outputs": [
    {
     "name": "stdout",
     "output_type": "stream",
     "text": [
      "周一\n",
      "早班\n",
      "None\n",
      "周一\n",
      "周二\n",
      "周三\n",
      "周四\n",
      "周五\n",
      "周六\n",
      "周日\n",
      "早班\n",
      "张三\n",
      "钱七\n",
      "王五\n",
      "张三\n",
      "孙九\n",
      "钱七\n",
      "王五\n",
      "None\n",
      "李四\n",
      "刘八\n",
      "赵六\n",
      "李四\n",
      "武十\n",
      "刘八\n",
      "赵六\n",
      "晚班\n",
      "王五\n",
      "张三\n",
      "孙九\n",
      "钱七\n",
      "王五\n",
      "张三\n",
      "孙九\n",
      "None\n",
      "赵六\n",
      "李四\n",
      "武十\n",
      "刘八\n",
      "赵六\n",
      "李四\n",
      "武十\n"
     ]
    }
   ],
   "source": [
    "import openpyxl\n",
    "wb = openpyxl.load_workbook(r\"C:\\Data\\Jupyter_file\\Python数据清洗基础\\办公自动化\\4、考勤统计\\排班.xlsx\")\n",
    "sheet =  wb['第一周']\n",
    "print(sheet.cell(1,2).value)\n",
    "print(sheet['a2'].value)\n",
    "#逐行读取\n",
    "for row in sheet.iter_rows(min_row=1,max_row=5,min_col=1,max_col=8):\n",
    "    for cell in row:\n",
    "        print(cell.value)\n",
    "from openpyxl.utils import coordinate_from_string,get_column_letter,column_index_from_string\n",
    "print(coordinate_from_string('a11')) #返回单元格列与行的元组形式\n",
    "('A', 11)\n",
    "print(get_column_letter(12)) #根据列索引返回对应的字母\n",
    "L\n",
    "print(column_index_from_string(\"B\")) #根据字母返回对应的列索引\n",
    "2\n",
    "\n",
    "wb.close()"
   ],
   "metadata": {
    "collapsed": false
   }
  },
  {
   "cell_type": "code",
   "execution_count": 2,
   "outputs": [],
   "source": [
    "import xlwings as xw\n",
    "import os\n",
    "for i in xw.apps.keys():\n",
    "    i = 'taskkill/pid ' + str(i) + ' -t -f'\n",
    "    os.system(i)"
   ],
   "metadata": {
    "collapsed": false
   }
  },
  {
   "cell_type": "code",
   "execution_count": 25,
   "outputs": [
    {
     "data": {
      "text/plain": "'第一周'"
     },
     "execution_count": 25,
     "metadata": {},
     "output_type": "execute_result"
    },
    {
     "data": {
      "text/plain": "'$A$22'"
     },
     "execution_count": 25,
     "metadata": {},
     "output_type": "execute_result"
    },
    {
     "data": {
      "text/plain": "<bound method Range.get_address of <Range [排班.xlsx]第一周!$A$22>>"
     },
     "execution_count": 25,
     "metadata": {},
     "output_type": "execute_result"
    },
    {
     "data": {
      "text/plain": "<Range [排班.xlsx]第一周!$1:$1048576>"
     },
     "execution_count": 25,
     "metadata": {},
     "output_type": "execute_result"
    },
    {
     "data": {
      "text/plain": "200"
     },
     "execution_count": 25,
     "metadata": {},
     "output_type": "execute_result"
    },
    {
     "data": {
      "text/plain": "26"
     },
     "execution_count": 25,
     "metadata": {},
     "output_type": "execute_result"
    },
    {
     "data": {
      "text/plain": "1"
     },
     "execution_count": 25,
     "metadata": {},
     "output_type": "execute_result"
    },
    {
     "data": {
      "text/plain": "'C:\\\\Data\\\\Jupyter_file\\\\Python数据清洗基础\\\\办公自动化\\\\4、考勤统计\\\\排班.xlsx'"
     },
     "execution_count": 25,
     "metadata": {},
     "output_type": "execute_result"
    },
    {
     "data": {
      "text/plain": "Charts([])"
     },
     "execution_count": 25,
     "metadata": {},
     "output_type": "execute_result"
    },
    {
     "data": {
      "text/plain": "<Book [排班.xlsx]>"
     },
     "execution_count": 25,
     "metadata": {},
     "output_type": "execute_result"
    }
   ],
   "source": [
    "app=xw.App(visible=False,add_book=False)\n",
    "app.display_alerts=False\n",
    "app.screen_updating=False\n",
    "wb=app.books.open(r\"C:\\Data\\Jupyter_file\\Python数据清洗基础\\办公自动化\\4、考勤统计\\排班.xlsx\")\n",
    "sheet = wb.sheets('第一周')\n",
    "sheet.name\n",
    "sheet.range('a22').address\n",
    "sheet.range('a22').get_address\n",
    "sheet.cells\n",
    "sheet.used_range.last_cell.row\n",
    "sheet.used_range.last_cell.column\n",
    "rng = sheet.range('a2').expand('table')\n",
    "rng.rows.count # 行数量\n",
    "wb.fullname\n",
    "\n",
    "#获取图表合集\n",
    "sheet.charts\n",
    "sheet.book\n",
    "wb.close()\n",
    "app.quit()"
   ],
   "metadata": {
    "collapsed": false
   }
  },
  {
   "cell_type": "code",
   "execution_count": 13,
   "outputs": [
    {
     "data": {
      "text/plain": "[20108]"
     },
     "execution_count": 13,
     "metadata": {},
     "output_type": "execute_result"
    },
    {
     "data": {
      "text/plain": "Books([<Book [排班.xlsx]>])"
     },
     "execution_count": 13,
     "metadata": {},
     "output_type": "execute_result"
    },
    {
     "data": {
      "text/plain": "<Book [排班.xlsx]>"
     },
     "execution_count": 13,
     "metadata": {},
     "output_type": "execute_result"
    },
    {
     "data": {
      "text/plain": "0"
     },
     "execution_count": 13,
     "metadata": {},
     "output_type": "execute_result"
    },
    {
     "ename": "com_error",
     "evalue": "(-2147023170, '远程过程调用失败。', None, None)",
     "output_type": "error",
     "traceback": [
      "\u001B[1;31m---------------------------------------------------------------------------\u001B[0m",
      "\u001B[1;31mcom_error\u001B[0m                                 Traceback (most recent call last)",
      "Cell \u001B[1;32mIn[13], line 18\u001B[0m\n\u001B[0;32m     16\u001B[0m     i \u001B[38;5;241m=\u001B[39m \u001B[38;5;124m'\u001B[39m\u001B[38;5;124mtaskkill/pid \u001B[39m\u001B[38;5;124m'\u001B[39m \u001B[38;5;241m+\u001B[39m \u001B[38;5;28mstr\u001B[39m(i) \u001B[38;5;241m+\u001B[39m \u001B[38;5;124m'\u001B[39m\u001B[38;5;124m -t -f\u001B[39m\u001B[38;5;124m'\u001B[39m\n\u001B[0;32m     17\u001B[0m     os\u001B[38;5;241m.\u001B[39msystem(i)\n\u001B[1;32m---> 18\u001B[0m \u001B[43mwb\u001B[49m\u001B[38;5;241;43m.\u001B[39;49m\u001B[43mclose\u001B[49m\u001B[43m(\u001B[49m\u001B[43m)\u001B[49m\n\u001B[0;32m     19\u001B[0m app\u001B[38;5;241m.\u001B[39mquit()\n",
      "File \u001B[1;32mC:\\ProgramData\\Anaconda3\\envs\\cda_python\\lib\\site-packages\\xlwings\\main.py:1114\u001B[0m, in \u001B[0;36mBook.close\u001B[1;34m(self)\u001B[0m\n\u001B[0;32m   1108\u001B[0m \u001B[38;5;28;01mdef\u001B[39;00m \u001B[38;5;21mclose\u001B[39m(\u001B[38;5;28mself\u001B[39m):\n\u001B[0;32m   1109\u001B[0m \u001B[38;5;250m    \u001B[39m\u001B[38;5;124;03m\"\"\"\u001B[39;00m\n\u001B[0;32m   1110\u001B[0m \u001B[38;5;124;03m    Closes the book without saving it.\u001B[39;00m\n\u001B[0;32m   1111\u001B[0m \n\u001B[0;32m   1112\u001B[0m \u001B[38;5;124;03m    .. versionadded:: 0.1.1\u001B[39;00m\n\u001B[0;32m   1113\u001B[0m \u001B[38;5;124;03m    \"\"\"\u001B[39;00m\n\u001B[1;32m-> 1114\u001B[0m     \u001B[38;5;28;43mself\u001B[39;49m\u001B[38;5;241;43m.\u001B[39;49m\u001B[43mimpl\u001B[49m\u001B[38;5;241;43m.\u001B[39;49m\u001B[43mclose\u001B[49m\u001B[43m(\u001B[49m\u001B[43m)\u001B[49m\n",
      "File \u001B[1;32mC:\\ProgramData\\Anaconda3\\envs\\cda_python\\lib\\site-packages\\xlwings\\_xlwindows.py:800\u001B[0m, in \u001B[0;36mBook.close\u001B[1;34m(self)\u001B[0m\n\u001B[0;32m    799\u001B[0m \u001B[38;5;28;01mdef\u001B[39;00m \u001B[38;5;21mclose\u001B[39m(\u001B[38;5;28mself\u001B[39m):\n\u001B[1;32m--> 800\u001B[0m     \u001B[38;5;28;43mself\u001B[39;49m\u001B[38;5;241;43m.\u001B[39;49m\u001B[43mxl\u001B[49m\u001B[38;5;241;43m.\u001B[39;49m\u001B[43mClose\u001B[49m\u001B[43m(\u001B[49m\u001B[43mSaveChanges\u001B[49m\u001B[38;5;241;43m=\u001B[39;49m\u001B[38;5;28;43;01mFalse\u001B[39;49;00m\u001B[43m)\u001B[49m\n",
      "File \u001B[1;32mC:\\ProgramData\\Anaconda3\\envs\\cda_python\\lib\\site-packages\\xlwings\\_xlwindows.py:109\u001B[0m, in \u001B[0;36mCOMRetryMethodWrapper.__call__\u001B[1;34m(self, *args, **kwargs)\u001B[0m\n\u001B[0;32m    107\u001B[0m \u001B[38;5;28;01mwhile\u001B[39;00m \u001B[38;5;28;01mTrue\u001B[39;00m:\n\u001B[0;32m    108\u001B[0m     \u001B[38;5;28;01mtry\u001B[39;00m:\n\u001B[1;32m--> 109\u001B[0m         v \u001B[38;5;241m=\u001B[39m \u001B[38;5;28mself\u001B[39m\u001B[38;5;241m.\u001B[39m__method(\u001B[38;5;241m*\u001B[39margs, \u001B[38;5;241m*\u001B[39m\u001B[38;5;241m*\u001B[39mkwargs)\n\u001B[0;32m    110\u001B[0m         \u001B[38;5;28;01mif\u001B[39;00m \u001B[38;5;28misinstance\u001B[39m(v, (CDispatch, CoClassBaseClass, DispatchBaseClass)):\n\u001B[0;32m    111\u001B[0m             \u001B[38;5;28;01mreturn\u001B[39;00m COMRetryObjectWrapper(v)\n",
      "File \u001B[1;32mC:\\ProgramData\\Anaconda3\\envs\\cda_python\\lib\\site-packages\\win32com\\gen_py\\00020813-0000-0000-C000-000000000046x0x1x9.py:46598\u001B[0m, in \u001B[0;36m_Workbook.Close\u001B[1;34m(self, SaveChanges, Filename, RouteWorkbook)\u001B[0m\n\u001B[0;32m  46597\u001B[0m \u001B[38;5;28;01mdef\u001B[39;00m \u001B[38;5;21mClose\u001B[39m(\u001B[38;5;28mself\u001B[39m, SaveChanges\u001B[38;5;241m=\u001B[39mdefaultNamedOptArg, Filename\u001B[38;5;241m=\u001B[39mdefaultNamedOptArg, RouteWorkbook\u001B[38;5;241m=\u001B[39mdefaultNamedOptArg):\n\u001B[1;32m> 46598\u001B[0m \t\u001B[38;5;28;01mreturn\u001B[39;00m \u001B[38;5;28;43mself\u001B[39;49m\u001B[38;5;241;43m.\u001B[39;49m\u001B[43m_oleobj_\u001B[49m\u001B[38;5;241;43m.\u001B[39;49m\u001B[43mInvokeTypes\u001B[49m\u001B[43m(\u001B[49m\u001B[38;5;241;43m277\u001B[39;49m\u001B[43m,\u001B[49m\u001B[43m \u001B[49m\u001B[43mLCID\u001B[49m\u001B[43m,\u001B[49m\u001B[43m \u001B[49m\u001B[38;5;241;43m1\u001B[39;49m\u001B[43m,\u001B[49m\u001B[43m \u001B[49m\u001B[43m(\u001B[49m\u001B[38;5;241;43m24\u001B[39;49m\u001B[43m,\u001B[49m\u001B[43m \u001B[49m\u001B[38;5;241;43m0\u001B[39;49m\u001B[43m)\u001B[49m\u001B[43m,\u001B[49m\u001B[43m \u001B[49m\u001B[43m(\u001B[49m\u001B[43m(\u001B[49m\u001B[38;5;241;43m12\u001B[39;49m\u001B[43m,\u001B[49m\u001B[43m \u001B[49m\u001B[38;5;241;43m17\u001B[39;49m\u001B[43m)\u001B[49m\u001B[43m,\u001B[49m\u001B[43m \u001B[49m\u001B[43m(\u001B[49m\u001B[38;5;241;43m12\u001B[39;49m\u001B[43m,\u001B[49m\u001B[43m \u001B[49m\u001B[38;5;241;43m17\u001B[39;49m\u001B[43m)\u001B[49m\u001B[43m,\u001B[49m\u001B[43m \u001B[49m\u001B[43m(\u001B[49m\u001B[38;5;241;43m12\u001B[39;49m\u001B[43m,\u001B[49m\u001B[43m \u001B[49m\u001B[38;5;241;43m17\u001B[39;49m\u001B[43m)\u001B[49m\u001B[43m)\u001B[49m\u001B[43m,\u001B[49m\u001B[43mSaveChanges\u001B[49m\n\u001B[0;32m  46599\u001B[0m \u001B[43m\t\t\u001B[49m\u001B[43m,\u001B[49m\u001B[43m \u001B[49m\u001B[43mFilename\u001B[49m\u001B[43m,\u001B[49m\u001B[43m \u001B[49m\u001B[43mRouteWorkbook\u001B[49m\u001B[43m)\u001B[49m\n",
      "\u001B[1;31mcom_error\u001B[0m: (-2147023170, '远程过程调用失败。', None, None)"
     ]
    }
   ],
   "source": [
    "# 打开Excel程序，默认设置：程序可见，只打开不新建工作薄，屏幕更新关闭\n",
    "app=xw.App(visible=False,add_book=False)\n",
    "app.display_alerts=False\n",
    "app.screen_updating=False\n",
    "wb=app.books.open(r\"C:\\Data\\Jupyter_file\\Python数据清洗基础\\办公自动化\\4、考勤统计\\排班.xlsx\")\n",
    "xw.apps.keys()\n",
    "xw.books\n",
    "xw.books.active\n",
    "sheet = xw.sheets.active\n",
    "\n",
    "# 其他操作：\n",
    "# app.screen_updating = False\n",
    "# :屏幕更新，就是说代码对于excel的操作你可以看见，关闭实时更新可以加快脚本运行。默认是True。\n",
    "# app.pid    #App进程pid\n",
    "#kill所有的实例进程：\n",
    "import os\n",
    "for i in xw.apps.keys():\n",
    "    i = 'taskkill/pid ' + str(i) + ' -t -f'\n",
    "    os.system(i)\n",
    "wb.close()\n",
    "app.quit()"
   ],
   "metadata": {
    "collapsed": false
   }
  },
  {
   "cell_type": "code",
   "execution_count": 7,
   "outputs": [],
   "source": [
    "import xlwings as xw\n",
    "app = xw.App(visible=False,add_book=False)\n",
    "wb = app.books.open(r\"C:\\Data\\Jupyter_file\\Python数据清洗基础\\办公自动化\\4、考勤统计\\排班.xlsx\")\n",
    "wb.sheets('第一周').range('e8').expand('table').value=[[11,22],[33,44]]\n",
    "wb.save()\n",
    "wb.close()\n",
    "app.quit()"
   ],
   "metadata": {
    "collapsed": false
   }
  },
  {
   "cell_type": "code",
   "execution_count": 5,
   "outputs": [],
   "source": [
    "import xlwings as xw\n",
    "app = xw.App(visible=False,add_book=False)\n",
    "wb = app.books.open(r\"C:\\Data\\Jupyter_file\\Python数据清洗基础\\办公自动化\\4、考勤统计\\排班.xlsx\")\n",
    "wb.sheets('第一周').range('g8').options(transpose='table').value=[[11,22],[33,44]]\n",
    "wb.save()\n",
    "wb.close()\n",
    "app.quit()"
   ],
   "metadata": {
    "collapsed": false
   }
  },
  {
   "cell_type": "code",
   "execution_count": 3,
   "outputs": [],
   "source": [
    "import xlwings as xw\n",
    "app = xw.App(visible=False,add_book=False)\n",
    "wb = app.books.open(r\"C:\\Data\\Jupyter_file\\Python数据清洗基础\\办公自动化\\4、考勤统计\\排班.xlsx\")\n",
    "wb.sheets('第一周').range('i2').options(transpose=True).value=[i+1 for i in range(12)]\n",
    "wb.save()\n",
    "wb.close()\n",
    "app.quit()"
   ],
   "metadata": {
    "collapsed": false
   }
  },
  {
   "cell_type": "code",
   "execution_count": 1,
   "outputs": [],
   "source": [
    "from IPython.core.interactiveshell import InteractiveShell\n",
    "InteractiveShell.ast_node_interactivity = \"all\""
   ],
   "metadata": {
    "collapsed": false
   }
  },
  {
   "cell_type": "code",
   "execution_count": 10,
   "outputs": [
    {
     "ename": "ModuleNotFoundError",
     "evalue": "No module named 'PIL'",
     "output_type": "error",
     "traceback": [
      "\u001B[1;31m---------------------------------------------------------------------------\u001B[0m",
      "\u001B[1;31mModuleNotFoundError\u001B[0m                       Traceback (most recent call last)",
      "Cell \u001B[1;32mIn[10], line 1\u001B[0m\n\u001B[1;32m----> 1\u001B[0m \u001B[38;5;28;01mimport\u001B[39;00m \u001B[38;5;21;01mmatplotlib\u001B[39;00m\u001B[38;5;21;01m.\u001B[39;00m\u001B[38;5;21;01mpyplot\u001B[39;00m \u001B[38;5;28;01mas\u001B[39;00m \u001B[38;5;21;01mplt\u001B[39;00m\n\u001B[0;32m      2\u001B[0m \u001B[38;5;28;01mimport\u001B[39;00m \u001B[38;5;21;01mnumpy\u001B[39;00m \u001B[38;5;28;01mas\u001B[39;00m \u001B[38;5;21;01mnp\u001B[39;00m\n\u001B[0;32m      3\u001B[0m \u001B[38;5;28;01mimport\u001B[39;00m \u001B[38;5;21;01mpandas\u001B[39;00m \u001B[38;5;28;01mas\u001B[39;00m \u001B[38;5;21;01mpd\u001B[39;00m\n",
      "File \u001B[1;32m~\\AppData\\Roaming\\Python\\Python310\\site-packages\\matplotlib\\__init__.py:113\u001B[0m\n\u001B[0;32m    109\u001B[0m \u001B[38;5;28;01mfrom\u001B[39;00m \u001B[38;5;21;01mpackaging\u001B[39;00m\u001B[38;5;21;01m.\u001B[39;00m\u001B[38;5;21;01mversion\u001B[39;00m \u001B[38;5;28;01mimport\u001B[39;00m parse \u001B[38;5;28;01mas\u001B[39;00m parse_version\n\u001B[0;32m    111\u001B[0m \u001B[38;5;66;03m# cbook must import matplotlib only within function\u001B[39;00m\n\u001B[0;32m    112\u001B[0m \u001B[38;5;66;03m# definitions, so it is safe to import from it here.\u001B[39;00m\n\u001B[1;32m--> 113\u001B[0m \u001B[38;5;28;01mfrom\u001B[39;00m \u001B[38;5;21;01m.\u001B[39;00m \u001B[38;5;28;01mimport\u001B[39;00m _api, _version, cbook, _docstring, rcsetup\n\u001B[0;32m    114\u001B[0m \u001B[38;5;28;01mfrom\u001B[39;00m \u001B[38;5;21;01mmatplotlib\u001B[39;00m\u001B[38;5;21;01m.\u001B[39;00m\u001B[38;5;21;01mcbook\u001B[39;00m \u001B[38;5;28;01mimport\u001B[39;00m sanitize_sequence\n\u001B[0;32m    115\u001B[0m \u001B[38;5;28;01mfrom\u001B[39;00m \u001B[38;5;21;01mmatplotlib\u001B[39;00m\u001B[38;5;21;01m.\u001B[39;00m\u001B[38;5;21;01m_api\u001B[39;00m \u001B[38;5;28;01mimport\u001B[39;00m MatplotlibDeprecationWarning\n",
      "File \u001B[1;32m~\\AppData\\Roaming\\Python\\Python310\\site-packages\\matplotlib\\rcsetup.py:27\u001B[0m\n\u001B[0;32m     25\u001B[0m \u001B[38;5;28;01mfrom\u001B[39;00m \u001B[38;5;21;01mmatplotlib\u001B[39;00m \u001B[38;5;28;01mimport\u001B[39;00m _api, cbook\n\u001B[0;32m     26\u001B[0m \u001B[38;5;28;01mfrom\u001B[39;00m \u001B[38;5;21;01mmatplotlib\u001B[39;00m\u001B[38;5;21;01m.\u001B[39;00m\u001B[38;5;21;01mcbook\u001B[39;00m \u001B[38;5;28;01mimport\u001B[39;00m ls_mapper\n\u001B[1;32m---> 27\u001B[0m \u001B[38;5;28;01mfrom\u001B[39;00m \u001B[38;5;21;01mmatplotlib\u001B[39;00m\u001B[38;5;21;01m.\u001B[39;00m\u001B[38;5;21;01mcolors\u001B[39;00m \u001B[38;5;28;01mimport\u001B[39;00m Colormap, is_color_like\n\u001B[0;32m     28\u001B[0m \u001B[38;5;28;01mfrom\u001B[39;00m \u001B[38;5;21;01mmatplotlib\u001B[39;00m\u001B[38;5;21;01m.\u001B[39;00m\u001B[38;5;21;01m_fontconfig_pattern\u001B[39;00m \u001B[38;5;28;01mimport\u001B[39;00m parse_fontconfig_pattern\n\u001B[0;32m     29\u001B[0m \u001B[38;5;28;01mfrom\u001B[39;00m \u001B[38;5;21;01mmatplotlib\u001B[39;00m\u001B[38;5;21;01m.\u001B[39;00m\u001B[38;5;21;01m_enums\u001B[39;00m \u001B[38;5;28;01mimport\u001B[39;00m JoinStyle, CapStyle\n",
      "File \u001B[1;32m~\\AppData\\Roaming\\Python\\Python310\\site-packages\\matplotlib\\colors.py:51\u001B[0m\n\u001B[0;32m     49\u001B[0m \u001B[38;5;28;01mfrom\u001B[39;00m \u001B[38;5;21;01mnumbers\u001B[39;00m \u001B[38;5;28;01mimport\u001B[39;00m Number\n\u001B[0;32m     50\u001B[0m \u001B[38;5;28;01mimport\u001B[39;00m \u001B[38;5;21;01mre\u001B[39;00m\n\u001B[1;32m---> 51\u001B[0m \u001B[38;5;28;01mfrom\u001B[39;00m \u001B[38;5;21;01mPIL\u001B[39;00m \u001B[38;5;28;01mimport\u001B[39;00m Image\n\u001B[0;32m     52\u001B[0m \u001B[38;5;28;01mfrom\u001B[39;00m \u001B[38;5;21;01mPIL\u001B[39;00m\u001B[38;5;21;01m.\u001B[39;00m\u001B[38;5;21;01mPngImagePlugin\u001B[39;00m \u001B[38;5;28;01mimport\u001B[39;00m PngInfo\n\u001B[0;32m     54\u001B[0m \u001B[38;5;28;01mimport\u001B[39;00m \u001B[38;5;21;01mmatplotlib\u001B[39;00m \u001B[38;5;28;01mas\u001B[39;00m \u001B[38;5;21;01mmpl\u001B[39;00m\n",
      "\u001B[1;31mModuleNotFoundError\u001B[0m: No module named 'PIL'"
     ]
    }
   ],
   "source": [
    "import matplotlib.pyplot as plt\n",
    "import numpy as np\n",
    "import pandas as pd"
   ],
   "metadata": {
    "collapsed": false
   }
  },
  {
   "cell_type": "code",
   "execution_count": 3,
   "outputs": [
    {
     "name": "stderr",
     "output_type": "stream",
     "text": [
      "C:\\Users\\fzh00\\AppData\\Local\\Temp\\ipykernel_4480\\381268240.py:2: MatplotlibDeprecationWarning: The seaborn styles shipped by Matplotlib are deprecated since 3.6, as they no longer correspond to the styles shipped by seaborn. However, they will remain available as 'seaborn-v0_8-<style>'. Alternatively, directly use the seaborn API instead.\n",
      "  plt.style.use('seaborn')\n"
     ]
    }
   ],
   "source": [
    "#设置绘图风格\n",
    "plt.style.use('seaborn')\n",
    "#设置字体为黑色\n",
    "plt.rcParams['font.family']='SimHei'\n",
    "#显示符号\n",
    "plt.rcParams['axes.unicode_minus']= False"
   ],
   "metadata": {
    "collapsed": false
   }
  },
  {
   "cell_type": "code",
   "execution_count": 4,
   "outputs": [],
   "source": [
    "data1 = pd.read_excel(r\"C:\\Data\\Jupyter_file\\Python数据清洗基础\\办公自动化\\1、从多个表中提取指定数据到新表\\办公用品采购表_2020年.xlsx\")"
   ],
   "metadata": {
    "collapsed": false
   }
  },
  {
   "cell_type": "code",
   "execution_count": 5,
   "outputs": [
    {
     "data": {
      "text/plain": "           日期 物品名称  数量   单价   采购金额\n0  2020-01-01  便签纸  14  9.9  138.6",
      "text/html": "<div>\n<style scoped>\n    .dataframe tbody tr th:only-of-type {\n        vertical-align: middle;\n    }\n\n    .dataframe tbody tr th {\n        vertical-align: top;\n    }\n\n    .dataframe thead th {\n        text-align: right;\n    }\n</style>\n<table border=\"1\" class=\"dataframe\">\n  <thead>\n    <tr style=\"text-align: right;\">\n      <th></th>\n      <th>日期</th>\n      <th>物品名称</th>\n      <th>数量</th>\n      <th>单价</th>\n      <th>采购金额</th>\n    </tr>\n  </thead>\n  <tbody>\n    <tr>\n      <th>0</th>\n      <td>2020-01-01</td>\n      <td>便签纸</td>\n      <td>14</td>\n      <td>9.9</td>\n      <td>138.6</td>\n    </tr>\n  </tbody>\n</table>\n</div>"
     },
     "execution_count": 5,
     "metadata": {},
     "output_type": "execute_result"
    }
   ],
   "source": [
    "data1.head(1)"
   ],
   "metadata": {
    "collapsed": false
   }
  },
  {
   "cell_type": "code",
   "execution_count": 6,
   "outputs": [
    {
     "name": "stdout",
     "output_type": "stream",
     "text": [
      "<class 'pandas.core.frame.DataFrame'>\n",
      "RangeIndex: 19 entries, 0 to 18\n",
      "Data columns (total 5 columns):\n",
      " #   Column  Non-Null Count  Dtype  \n",
      "---  ------  --------------  -----  \n",
      " 0   日期      19 non-null     object \n",
      " 1   物品名称    19 non-null     object \n",
      " 2   数量      19 non-null     int64  \n",
      " 3   单价      19 non-null     float64\n",
      " 4   采购金额    19 non-null     float64\n",
      "dtypes: float64(2), int64(1), object(2)\n",
      "memory usage: 888.0+ bytes\n"
     ]
    }
   ],
   "source": [
    "data1.info()"
   ],
   "metadata": {
    "collapsed": false
   }
  },
  {
   "cell_type": "code",
   "execution_count": 8,
   "outputs": [
    {
     "data": {
      "text/plain": "              数量          单价          采购金额\ncount  19.000000   19.000000     19.000000\nmean   22.105263   80.452632   2200.336842\nstd    13.731127  120.347822   4075.311722\nmin     3.000000    5.900000     39.600000\n25%    14.000000   10.200000    155.850000\n50%    20.000000   33.900000    475.200000\n75%    31.500000  110.500000   2305.000000\nmax    48.000000  529.000000  17457.000000",
      "text/html": "<div>\n<style scoped>\n    .dataframe tbody tr th:only-of-type {\n        vertical-align: middle;\n    }\n\n    .dataframe tbody tr th {\n        vertical-align: top;\n    }\n\n    .dataframe thead th {\n        text-align: right;\n    }\n</style>\n<table border=\"1\" class=\"dataframe\">\n  <thead>\n    <tr style=\"text-align: right;\">\n      <th></th>\n      <th>数量</th>\n      <th>单价</th>\n      <th>采购金额</th>\n    </tr>\n  </thead>\n  <tbody>\n    <tr>\n      <th>count</th>\n      <td>19.000000</td>\n      <td>19.000000</td>\n      <td>19.000000</td>\n    </tr>\n    <tr>\n      <th>mean</th>\n      <td>22.105263</td>\n      <td>80.452632</td>\n      <td>2200.336842</td>\n    </tr>\n    <tr>\n      <th>std</th>\n      <td>13.731127</td>\n      <td>120.347822</td>\n      <td>4075.311722</td>\n    </tr>\n    <tr>\n      <th>min</th>\n      <td>3.000000</td>\n      <td>5.900000</td>\n      <td>39.600000</td>\n    </tr>\n    <tr>\n      <th>25%</th>\n      <td>14.000000</td>\n      <td>10.200000</td>\n      <td>155.850000</td>\n    </tr>\n    <tr>\n      <th>50%</th>\n      <td>20.000000</td>\n      <td>33.900000</td>\n      <td>475.200000</td>\n    </tr>\n    <tr>\n      <th>75%</th>\n      <td>31.500000</td>\n      <td>110.500000</td>\n      <td>2305.000000</td>\n    </tr>\n    <tr>\n      <th>max</th>\n      <td>48.000000</td>\n      <td>529.000000</td>\n      <td>17457.000000</td>\n    </tr>\n  </tbody>\n</table>\n</div>"
     },
     "execution_count": 8,
     "metadata": {},
     "output_type": "execute_result"
    }
   ],
   "source": [
    "data1.describe()"
   ],
   "metadata": {
    "collapsed": false
   }
  },
  {
   "cell_type": "code",
   "execution_count": 11,
   "outputs": [
    {
     "data": {
      "text/plain": "'C:\\\\Users\\\\fzh00\\\\IdeaProjects\\\\python_idea\\\\.idea\\\\办公自动化'"
     },
     "execution_count": 11,
     "metadata": {},
     "output_type": "execute_result"
    }
   ],
   "source": [
    "%pwd"
   ],
   "metadata": {
    "collapsed": false
   }
  },
  {
   "cell_type": "code",
   "execution_count": 15,
   "outputs": [
    {
     "data": {
      "text/plain": "           日期 物品名称  数量     单价     采购金额\n3  2020-02-05  饮水机  37  359.0  13283.0\n1  2020-03-02  饮水机  12  359.0   4308.0\n8  2020-06-11  饮水机  34  359.0  12206.0\n5  2020-10-12  饮水机  23  359.0   8257.0",
      "text/html": "<div>\n<style scoped>\n    .dataframe tbody tr th:only-of-type {\n        vertical-align: middle;\n    }\n\n    .dataframe tbody tr th {\n        vertical-align: top;\n    }\n\n    .dataframe thead th {\n        text-align: right;\n    }\n</style>\n<table border=\"1\" class=\"dataframe\">\n  <thead>\n    <tr style=\"text-align: right;\">\n      <th></th>\n      <th>日期</th>\n      <th>物品名称</th>\n      <th>数量</th>\n      <th>单价</th>\n      <th>采购金额</th>\n    </tr>\n  </thead>\n  <tbody>\n    <tr>\n      <th>3</th>\n      <td>2020-02-05</td>\n      <td>饮水机</td>\n      <td>37</td>\n      <td>359.0</td>\n      <td>13283.0</td>\n    </tr>\n    <tr>\n      <th>1</th>\n      <td>2020-03-02</td>\n      <td>饮水机</td>\n      <td>12</td>\n      <td>359.0</td>\n      <td>4308.0</td>\n    </tr>\n    <tr>\n      <th>8</th>\n      <td>2020-06-11</td>\n      <td>饮水机</td>\n      <td>34</td>\n      <td>359.0</td>\n      <td>12206.0</td>\n    </tr>\n    <tr>\n      <th>5</th>\n      <td>2020-10-12</td>\n      <td>饮水机</td>\n      <td>23</td>\n      <td>359.0</td>\n      <td>8257.0</td>\n    </tr>\n  </tbody>\n</table>\n</div>"
     },
     "execution_count": 15,
     "metadata": {},
     "output_type": "execute_result"
    }
   ],
   "source": [
    "df = pd.DataFrame()\n",
    "for i in range(12):\n",
    "    data = pd.read_excel(r\"C:\\Data\\Jupyter_file\\Python数据清洗基础\\办公自动化\\1、从多个表中提取指定数据到新表\\办公用品采购表_2020年.xlsx\",i)\n",
    "    temp = data[data['物品名称']=='饮水机']\n",
    "df = pd.concat([df,temp])\n",
    "df.head()"
   ],
   "metadata": {
    "collapsed": false
   }
  },
  {
   "cell_type": "code",
   "execution_count": 27,
   "outputs": [
    {
     "name": "stdout",
     "output_type": "stream",
     "text": [
      "InteractiveShell\t app\t pydev_jupyter_vars\t remove_imported_pydev_package\t sys\t wb\t xw\t \n"
     ]
    }
   ],
   "source": [
    "who"
   ],
   "metadata": {
    "collapsed": false
   }
  },
  {
   "cell_type": "code",
   "execution_count": 16,
   "outputs": [],
   "source": [
    "import xlwings as xw\n",
    "app = xw.App(visible=False,add_book=False)\n",
    "wb = app.books.open(r\"C:\\Data\\Jupyter_file\\Python数据清洗基础\\办公自动化\\4、考勤统计\\排班.xlsx\")\n",
    "wb.sheets('第一周').range('i1:i12').value=[i+1 for i in range(12)]\n",
    "wb.save()\n",
    "wb.close()\n",
    "app.quit()"
   ],
   "metadata": {
    "collapsed": false
   }
  },
  {
   "cell_type": "code",
   "execution_count": 14,
   "outputs": [
    {
     "data": {
      "text/plain": "[1, 2, 3, 4, 5, 6, 7, 8, 9, 10, 11, 12]"
     },
     "execution_count": 14,
     "metadata": {},
     "output_type": "execute_result"
    }
   ],
   "source": [
    "[i+1 for i in range(12)]"
   ],
   "metadata": {
    "collapsed": false
   }
  },
  {
   "cell_type": "code",
   "execution_count": 5,
   "outputs": [
    {
     "data": {
      "text/plain": "[['张三', '钱七', '王五', '张三'],\n ['李四', '刘八', '赵六', '李四'],\n ['王五', '张三', '孙九', '钱七'],\n ['赵六', '李四', '武十', '刘八']]"
     },
     "execution_count": 5,
     "metadata": {},
     "output_type": "execute_result"
    }
   ],
   "source": [
    "import xlwings as xw\n",
    "app = xw.App(visible=False,add_book=False)\n",
    "wb = app.books.open(r\"C:\\Data\\Jupyter_file\\Python数据清洗基础\\办公自动化\\4、考勤统计\\排班.xlsx\")\n",
    "wb.sheets('第一周').range('b2:h5')[:,:4].value\n",
    "wb.save()\n",
    "wb.close()\n",
    "app.quit()"
   ],
   "metadata": {
    "collapsed": false
   }
  },
  {
   "cell_type": "code",
   "execution_count": 30,
   "outputs": [
    {
     "data": {
      "text/plain": "Sheets([<Sheet [办公用品采购表_2020年.xlsx]1月>, <Sheet [办公用品采购表_2020年.xlsx]2月>, <Sheet [办公用品采购表_2020年.xlsx]3月>, ...])"
     },
     "execution_count": 30,
     "metadata": {},
     "output_type": "execute_result"
    }
   ],
   "source": [
    "import xlwings as xw\n",
    "#建议连接\n",
    "app = xw.App(visible=False,add_book=False)\n",
    "book = app.books.open(r\"C:\\Data\\Jupyter_file\\Python数据清洗基础\\办公自动化\\1、从多个表中提取指定数据到新表\\办公用品采购表_2020年.xlsx\")\n",
    "sheets = book.sheets #获取所有工作表的名字\n",
    "sheets\n",
    "book.close()\n",
    "app.quit()"
   ],
   "metadata": {
    "collapsed": false
   }
  },
  {
   "cell_type": "code",
   "execution_count": 17,
   "outputs": [
    {
     "data": {
      "text/plain": "           日期 物品名称  数量    单价   采购金额\n1  2020-01-02  拉链袋  24  12.5  300.0\n4  2020-03-11  拉链袋  10  12.5  125.0\n4  2020-05-20  拉链袋  36  12.5  450.0\n4  2020-08-18  拉链袋  23  12.5  287.5\n5  2020-09-13  拉链袋  43  12.5  537.5\n7  2020-11-21  拉链袋  17  12.5  212.5",
      "text/html": "<div>\n<style scoped>\n    .dataframe tbody tr th:only-of-type {\n        vertical-align: middle;\n    }\n\n    .dataframe tbody tr th {\n        vertical-align: top;\n    }\n\n    .dataframe thead th {\n        text-align: right;\n    }\n</style>\n<table border=\"1\" class=\"dataframe\">\n  <thead>\n    <tr style=\"text-align: right;\">\n      <th></th>\n      <th>日期</th>\n      <th>物品名称</th>\n      <th>数量</th>\n      <th>单价</th>\n      <th>采购金额</th>\n    </tr>\n  </thead>\n  <tbody>\n    <tr>\n      <th>1</th>\n      <td>2020-01-02</td>\n      <td>拉链袋</td>\n      <td>24</td>\n      <td>12.5</td>\n      <td>300.0</td>\n    </tr>\n    <tr>\n      <th>4</th>\n      <td>2020-03-11</td>\n      <td>拉链袋</td>\n      <td>10</td>\n      <td>12.5</td>\n      <td>125.0</td>\n    </tr>\n    <tr>\n      <th>4</th>\n      <td>2020-05-20</td>\n      <td>拉链袋</td>\n      <td>36</td>\n      <td>12.5</td>\n      <td>450.0</td>\n    </tr>\n    <tr>\n      <th>4</th>\n      <td>2020-08-18</td>\n      <td>拉链袋</td>\n      <td>23</td>\n      <td>12.5</td>\n      <td>287.5</td>\n    </tr>\n    <tr>\n      <th>5</th>\n      <td>2020-09-13</td>\n      <td>拉链袋</td>\n      <td>43</td>\n      <td>12.5</td>\n      <td>537.5</td>\n    </tr>\n    <tr>\n      <th>7</th>\n      <td>2020-11-21</td>\n      <td>拉链袋</td>\n      <td>17</td>\n      <td>12.5</td>\n      <td>212.5</td>\n    </tr>\n  </tbody>\n</table>\n</div>"
     },
     "execution_count": 17,
     "metadata": {},
     "output_type": "execute_result"
    }
   ],
   "source": [
    "df = pd.DataFrame()\n",
    "for i in range(len(sheets)):\n",
    "    data = pd.read_excel(r\"C:\\Data\\Jupyter_file\\Python数据清洗基础\\办公自动化\\1、从多个表中提取指定数据到新表\\办公用品采购表_2020年.xlsx\",i)\n",
    "    df1 = data[data.物品名称 == '拉链袋']\n",
    "    df= pd.concat([df,df1])\n",
    "df\n",
    "book.close() #关闭工作簿\n",
    "app.quit() #断开连接"
   ],
   "metadata": {
    "collapsed": false
   }
  },
  {
   "cell_type": "code",
   "execution_count": 18,
   "outputs": [],
   "source": [
    "#封闭函数\n",
    "def auto_(io_from,name,io_to):\n",
    "    '''\n",
    "    提取指定工作簿中多个工作表的数据\n",
    "    输出值：一个工作表\n",
    "    参数：io_from 目标工作簿的地址名称,name：需要查看的名称\n",
    "          io_to:导出的文件地址\n",
    "    '''\n",
    "    import xlwings as xw\n",
    "    import pandas as pd\n",
    "    #建议连接\n",
    "    app = xw.App(visible=False,add_book=False)\n",
    "    book = app.books.open(r\"{}\".format(io_from))\n",
    "    sheets = book.sheets #获取所有工作表的名字\n",
    "\n",
    "\n",
    "    df = pd.DataFrame()\n",
    "    for i in range(len(sheets)):\n",
    "        data = pd.read_excel(io_from,i)\n",
    "        df1 = data[data.物品名称 == name]\n",
    "        df= pd.concat([df,df1])\n",
    "    df.to_excel(io_to,index=False)\n",
    "    book.close() #关闭工作簿\n",
    "    app.quit() #断开连接"
   ],
   "metadata": {
    "collapsed": false
   }
  },
  {
   "cell_type": "code",
   "execution_count": 19,
   "outputs": [],
   "source": [
    "auto_(r\"C:\\Data\\Jupyter_file\\Python数据清洗基础\\办公自动化\\1、从多个表中提取指定数据到新表\\办公用品采购表_2020年.xlsx\",\n",
    "     '拉链袋','auto自动导出_拉链袋2.xlsx')"
   ],
   "metadata": {
    "collapsed": false
   }
  },
  {
   "cell_type": "code",
   "execution_count": 21,
   "outputs": [
    {
     "data": {
      "text/plain": "           日期 物品名称  数量    单价   采购金额\n1  2020-01-02  拉链袋  24  12.5  300.0\n4  2020-03-11  拉链袋  10  12.5  125.0\n4  2020-05-20  拉链袋  36  12.5  450.0\n4  2020-08-18  拉链袋  23  12.5  287.5\n5  2020-09-13  拉链袋  43  12.5  537.5",
      "text/html": "<div>\n<style scoped>\n    .dataframe tbody tr th:only-of-type {\n        vertical-align: middle;\n    }\n\n    .dataframe tbody tr th {\n        vertical-align: top;\n    }\n\n    .dataframe thead th {\n        text-align: right;\n    }\n</style>\n<table border=\"1\" class=\"dataframe\">\n  <thead>\n    <tr style=\"text-align: right;\">\n      <th></th>\n      <th>日期</th>\n      <th>物品名称</th>\n      <th>数量</th>\n      <th>单价</th>\n      <th>采购金额</th>\n    </tr>\n  </thead>\n  <tbody>\n    <tr>\n      <th>1</th>\n      <td>2020-01-02</td>\n      <td>拉链袋</td>\n      <td>24</td>\n      <td>12.5</td>\n      <td>300.0</td>\n    </tr>\n    <tr>\n      <th>4</th>\n      <td>2020-03-11</td>\n      <td>拉链袋</td>\n      <td>10</td>\n      <td>12.5</td>\n      <td>125.0</td>\n    </tr>\n    <tr>\n      <th>4</th>\n      <td>2020-05-20</td>\n      <td>拉链袋</td>\n      <td>36</td>\n      <td>12.5</td>\n      <td>450.0</td>\n    </tr>\n    <tr>\n      <th>4</th>\n      <td>2020-08-18</td>\n      <td>拉链袋</td>\n      <td>23</td>\n      <td>12.5</td>\n      <td>287.5</td>\n    </tr>\n    <tr>\n      <th>5</th>\n      <td>2020-09-13</td>\n      <td>拉链袋</td>\n      <td>43</td>\n      <td>12.5</td>\n      <td>537.5</td>\n    </tr>\n  </tbody>\n</table>\n</div>"
     },
     "execution_count": 21,
     "metadata": {},
     "output_type": "execute_result"
    }
   ],
   "source": [
    "df.head()"
   ],
   "metadata": {
    "collapsed": false
   }
  },
  {
   "cell_type": "code",
   "execution_count": 25,
   "outputs": [
    {
     "data": {
      "text/plain": "           日期 物品名称  数量     单价     采购金额\n0  2020-12-01  档案柜  45  529.0  23805.0\n1  2020-12-05  插线板  26   99.0   2574.0\n2  2020-12-06   墨盒  45  139.0   6255.0\n3  2020-12-07  活页本  36    9.8    352.8\n4  2020-12-07  便签纸  42    9.9    415.8",
      "text/html": "<div>\n<style scoped>\n    .dataframe tbody tr th:only-of-type {\n        vertical-align: middle;\n    }\n\n    .dataframe tbody tr th {\n        vertical-align: top;\n    }\n\n    .dataframe thead th {\n        text-align: right;\n    }\n</style>\n<table border=\"1\" class=\"dataframe\">\n  <thead>\n    <tr style=\"text-align: right;\">\n      <th></th>\n      <th>日期</th>\n      <th>物品名称</th>\n      <th>数量</th>\n      <th>单价</th>\n      <th>采购金额</th>\n    </tr>\n  </thead>\n  <tbody>\n    <tr>\n      <th>0</th>\n      <td>2020-12-01</td>\n      <td>档案柜</td>\n      <td>45</td>\n      <td>529.0</td>\n      <td>23805.0</td>\n    </tr>\n    <tr>\n      <th>1</th>\n      <td>2020-12-05</td>\n      <td>插线板</td>\n      <td>26</td>\n      <td>99.0</td>\n      <td>2574.0</td>\n    </tr>\n    <tr>\n      <th>2</th>\n      <td>2020-12-06</td>\n      <td>墨盒</td>\n      <td>45</td>\n      <td>139.0</td>\n      <td>6255.0</td>\n    </tr>\n    <tr>\n      <th>3</th>\n      <td>2020-12-07</td>\n      <td>活页本</td>\n      <td>36</td>\n      <td>9.8</td>\n      <td>352.8</td>\n    </tr>\n    <tr>\n      <th>4</th>\n      <td>2020-12-07</td>\n      <td>便签纸</td>\n      <td>42</td>\n      <td>9.9</td>\n      <td>415.8</td>\n    </tr>\n  </tbody>\n</table>\n</div>"
     },
     "execution_count": 25,
     "metadata": {},
     "output_type": "execute_result"
    }
   ],
   "source": [
    "data.head()"
   ],
   "metadata": {
    "collapsed": false
   }
  },
  {
   "cell_type": "code",
   "execution_count": 29,
   "outputs": [
    {
     "data": {
      "text/plain": "           日期 物品名称  数量    单价   采购金额\n0  2020-01-01  便签纸  14   9.9  138.6\n1  2020-01-02  拉链袋  24  12.5  300.0\n2  2020-01-05  计算器  14  10.5  147.0\n3  2020-01-06  活页本  18   9.8  176.4\n4  2020-01-08  白板笔   6  10.9   65.4",
      "text/html": "<div>\n<style scoped>\n    .dataframe tbody tr th:only-of-type {\n        vertical-align: middle;\n    }\n\n    .dataframe tbody tr th {\n        vertical-align: top;\n    }\n\n    .dataframe thead th {\n        text-align: right;\n    }\n</style>\n<table border=\"1\" class=\"dataframe\">\n  <thead>\n    <tr style=\"text-align: right;\">\n      <th></th>\n      <th>日期</th>\n      <th>物品名称</th>\n      <th>数量</th>\n      <th>单价</th>\n      <th>采购金额</th>\n    </tr>\n  </thead>\n  <tbody>\n    <tr>\n      <th>0</th>\n      <td>2020-01-01</td>\n      <td>便签纸</td>\n      <td>14</td>\n      <td>9.9</td>\n      <td>138.6</td>\n    </tr>\n    <tr>\n      <th>1</th>\n      <td>2020-01-02</td>\n      <td>拉链袋</td>\n      <td>24</td>\n      <td>12.5</td>\n      <td>300.0</td>\n    </tr>\n    <tr>\n      <th>2</th>\n      <td>2020-01-05</td>\n      <td>计算器</td>\n      <td>14</td>\n      <td>10.5</td>\n      <td>147.0</td>\n    </tr>\n    <tr>\n      <th>3</th>\n      <td>2020-01-06</td>\n      <td>活页本</td>\n      <td>18</td>\n      <td>9.8</td>\n      <td>176.4</td>\n    </tr>\n    <tr>\n      <th>4</th>\n      <td>2020-01-08</td>\n      <td>白板笔</td>\n      <td>6</td>\n      <td>10.9</td>\n      <td>65.4</td>\n    </tr>\n  </tbody>\n</table>\n</div>"
     },
     "execution_count": 29,
     "metadata": {},
     "output_type": "execute_result"
    }
   ],
   "source": [
    "data1.head()"
   ],
   "metadata": {
    "collapsed": false
   }
  },
  {
   "cell_type": "code",
   "execution_count": 30,
   "outputs": [
    {
     "data": {
      "text/plain": "物品名称\nU盘      3\n中性笔    48\n便签纸    14\n切纸刀    30\n墨盒     16\n复印纸    20\n拉链袋    24\n插线板     7\n文件篮    36\n档案柜    33\n活页本    18\n白板笔     6\n硒鼓     41\n票据夹    14\n网线      4\n计算器    14\n订书机    27\n键盘     45\n鼠标     20\nName: 数量, dtype: int64"
     },
     "execution_count": 30,
     "metadata": {},
     "output_type": "execute_result"
    }
   ],
   "source": [
    "data1.groupby('物品名称').数量.sum()"
   ],
   "metadata": {
    "collapsed": false
   }
  },
  {
   "cell_type": "code",
   "execution_count": 31,
   "outputs": [
    {
     "data": {
      "text/plain": "<pandas.core.groupby.generic.DataFrameGroupBy object at 0x0000021E0729EA40>"
     },
     "execution_count": 31,
     "metadata": {},
     "output_type": "execute_result"
    }
   ],
   "source": [
    "data1.groupby('物品名称')"
   ],
   "metadata": {
    "collapsed": false
   }
  },
  {
   "cell_type": "code",
   "execution_count": 33,
   "outputs": [
    {
     "data": {
      "text/plain": "           日期 物品名称  数量    单价   采购金额\n2  2020-01-05  计算器  14  10.5  147.0",
      "text/html": "<div>\n<style scoped>\n    .dataframe tbody tr th:only-of-type {\n        vertical-align: middle;\n    }\n\n    .dataframe tbody tr th {\n        vertical-align: top;\n    }\n\n    .dataframe thead th {\n        text-align: right;\n    }\n</style>\n<table border=\"1\" class=\"dataframe\">\n  <thead>\n    <tr style=\"text-align: right;\">\n      <th></th>\n      <th>日期</th>\n      <th>物品名称</th>\n      <th>数量</th>\n      <th>单价</th>\n      <th>采购金额</th>\n    </tr>\n  </thead>\n  <tbody>\n    <tr>\n      <th>2</th>\n      <td>2020-01-05</td>\n      <td>计算器</td>\n      <td>14</td>\n      <td>10.5</td>\n      <td>147.0</td>\n    </tr>\n  </tbody>\n</table>\n</div>"
     },
     "execution_count": 33,
     "metadata": {},
     "output_type": "execute_result"
    }
   ],
   "source": [
    "data1.groupby('物品名称').get_group('计算器')"
   ],
   "metadata": {
    "collapsed": false
   }
  },
  {
   "cell_type": "code",
   "execution_count": 36,
   "outputs": [
    {
     "data": {
      "text/plain": "['1月.xlsx', '2月.xlsx', '3月.xlsx', '4月.xlsx', '5月.xlsx', '6月.xlsx', '~$1月.xlsx']"
     },
     "execution_count": 36,
     "metadata": {},
     "output_type": "execute_result"
    }
   ],
   "source": [
    "import os\n",
    "os.listdir(r\"C:\\Data\\Jupyter_file\\Python数据清洗基础\\办公自动化\\汇总多个工作簿数据\\销售统计\")"
   ],
   "metadata": {
    "collapsed": false
   }
  },
  {
   "cell_type": "code",
   "execution_count": 39,
   "outputs": [
    {
     "data": {
      "text/plain": "        1月   2月   3月   4月   5月   6月\n产品名称                               \n单肩包    699  233  323  377  413  481\n手提包    648  216  296  344  376  406\n背包    1029  343  473  551  603  659\n行李箱   1110  370  490  562  610  733\n钱包     735  245  325  373  405  483",
      "text/html": "<div>\n<style scoped>\n    .dataframe tbody tr th:only-of-type {\n        vertical-align: middle;\n    }\n\n    .dataframe tbody tr th {\n        vertical-align: top;\n    }\n\n    .dataframe thead th {\n        text-align: right;\n    }\n</style>\n<table border=\"1\" class=\"dataframe\">\n  <thead>\n    <tr style=\"text-align: right;\">\n      <th></th>\n      <th>1月</th>\n      <th>2月</th>\n      <th>3月</th>\n      <th>4月</th>\n      <th>5月</th>\n      <th>6月</th>\n    </tr>\n    <tr>\n      <th>产品名称</th>\n      <th></th>\n      <th></th>\n      <th></th>\n      <th></th>\n      <th></th>\n      <th></th>\n    </tr>\n  </thead>\n  <tbody>\n    <tr>\n      <th>单肩包</th>\n      <td>699</td>\n      <td>233</td>\n      <td>323</td>\n      <td>377</td>\n      <td>413</td>\n      <td>481</td>\n    </tr>\n    <tr>\n      <th>手提包</th>\n      <td>648</td>\n      <td>216</td>\n      <td>296</td>\n      <td>344</td>\n      <td>376</td>\n      <td>406</td>\n    </tr>\n    <tr>\n      <th>背包</th>\n      <td>1029</td>\n      <td>343</td>\n      <td>473</td>\n      <td>551</td>\n      <td>603</td>\n      <td>659</td>\n    </tr>\n    <tr>\n      <th>行李箱</th>\n      <td>1110</td>\n      <td>370</td>\n      <td>490</td>\n      <td>562</td>\n      <td>610</td>\n      <td>733</td>\n    </tr>\n    <tr>\n      <th>钱包</th>\n      <td>735</td>\n      <td>245</td>\n      <td>325</td>\n      <td>373</td>\n      <td>405</td>\n      <td>483</td>\n    </tr>\n  </tbody>\n</table>\n</div>"
     },
     "execution_count": 39,
     "metadata": {},
     "output_type": "execute_result"
    }
   ],
   "source": [
    "df = pd.DataFrame()\n",
    "for i in os.listdir(r\"C:\\Data\\Jupyter_file\\Python数据清洗基础\\办公自动化\\汇总多个工作簿数据\\销售统计\"):\n",
    "    if i.startswith('~$'):\n",
    "            continue\n",
    "    data = pd.read_excel(r\"C:\\Data\\Jupyter_file\\Python数据清洗基础\\办公自动化\\汇总多个工作簿数据\\销售统计\\{}\".format(i))\n",
    "    df1 = data.groupby('产品名称').agg({'销售数量（个）':sum})\n",
    "    df1.columns = [i.split('.')[0]]\n",
    "    df = pd.concat([df,df1],axis=1)\n",
    "df"
   ],
   "metadata": {
    "collapsed": false
   }
  },
  {
   "cell_type": "code",
   "execution_count": null,
   "outputs": [],
   "source": [],
   "metadata": {
    "collapsed": false
   }
  }
 ],
 "metadata": {
  "kernelspec": {
   "name": "cda_python",
   "language": "python",
   "display_name": "cda_python"
  },
  "language_info": {
   "codemirror_mode": {
    "name": "ipython",
    "version": 2
   },
   "file_extension": ".py",
   "mimetype": "text/x-python",
   "name": "python",
   "nbconvert_exporter": "python",
   "pygments_lexer": "ipython2",
   "version": "2.7.6"
  }
 },
 "nbformat": 4,
 "nbformat_minor": 0
}
