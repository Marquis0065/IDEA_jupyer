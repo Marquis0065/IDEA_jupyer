{
 "cells": [
  {
   "cell_type": "code",
   "execution_count": null,
   "outputs": [],
   "source": [],
   "metadata": {
    "collapsed": false
   }
  },
  {
   "cell_type": "code",
   "execution_count": null,
   "outputs": [],
   "source": [
    "c"
   ],
   "metadata": {
    "collapsed": false
   }
  },
  {
   "cell_type": "code",
   "execution_count": 5,
   "outputs": [
    {
     "data": {
      "text/plain": "Sheets([<Sheet [办公用品采购表_2020年.xlsx]1月>, <Sheet [办公用品采购表_2020年.xlsx]2月>, <Sheet [办公用品采购表_2020年.xlsx]3月>, ...])"
     },
     "execution_count": 5,
     "metadata": {},
     "output_type": "execute_result"
    },
    {
     "data": {
      "text/plain": "           日期 物品名称  数量    单价   采购金额\n1  2020-01-02  拉链袋  24  12.5  300.0\n4  2020-03-11  拉链袋  10  12.5  125.0\n4  2020-05-20  拉链袋  36  12.5  450.0\n4  2020-08-18  拉链袋  23  12.5  287.5\n5  2020-09-13  拉链袋  43  12.5  537.5\n7  2020-11-21  拉链袋  17  12.5  212.5",
      "text/html": "<div>\n<style scoped>\n    .dataframe tbody tr th:only-of-type {\n        vertical-align: middle;\n    }\n\n    .dataframe tbody tr th {\n        vertical-align: top;\n    }\n\n    .dataframe thead th {\n        text-align: right;\n    }\n</style>\n<table border=\"1\" class=\"dataframe\">\n  <thead>\n    <tr style=\"text-align: right;\">\n      <th></th>\n      <th>日期</th>\n      <th>物品名称</th>\n      <th>数量</th>\n      <th>单价</th>\n      <th>采购金额</th>\n    </tr>\n  </thead>\n  <tbody>\n    <tr>\n      <th>1</th>\n      <td>2020-01-02</td>\n      <td>拉链袋</td>\n      <td>24</td>\n      <td>12.5</td>\n      <td>300.0</td>\n    </tr>\n    <tr>\n      <th>4</th>\n      <td>2020-03-11</td>\n      <td>拉链袋</td>\n      <td>10</td>\n      <td>12.5</td>\n      <td>125.0</td>\n    </tr>\n    <tr>\n      <th>4</th>\n      <td>2020-05-20</td>\n      <td>拉链袋</td>\n      <td>36</td>\n      <td>12.5</td>\n      <td>450.0</td>\n    </tr>\n    <tr>\n      <th>4</th>\n      <td>2020-08-18</td>\n      <td>拉链袋</td>\n      <td>23</td>\n      <td>12.5</td>\n      <td>287.5</td>\n    </tr>\n    <tr>\n      <th>5</th>\n      <td>2020-09-13</td>\n      <td>拉链袋</td>\n      <td>43</td>\n      <td>12.5</td>\n      <td>537.5</td>\n    </tr>\n    <tr>\n      <th>7</th>\n      <td>2020-11-21</td>\n      <td>拉链袋</td>\n      <td>17</td>\n      <td>12.5</td>\n      <td>212.5</td>\n    </tr>\n  </tbody>\n</table>\n</div>"
     },
     "execution_count": 5,
     "metadata": {},
     "output_type": "execute_result"
    }
   ],
   "source": [
    "import xlwings as xw\n",
    "#建议连接\n",
    "app = xw.App(visible=False,add_book=False)\n",
    "book = app.books.open(r\"C:\\Data\\Jupyter_file\\Python数据清洗基础\\办公自动化\\1、从多个表中提取指定数据到新表\\办公用品采购表_2020年.xlsx\")\n",
    "sheets = book.sheets #获取所有工作表的名字\n",
    "\n",
    "sheets\n",
    "df2 = pd.DataFrame()\n",
    "for i in range(len(sheets)):\n",
    "    data = pd.read_excel(r\"C:\\Data\\Jupyter_file\\Python数据清洗基础\\办公自动化\\1、从多个表中提取指定数据到新表\\办公用品采购表_2020年.xlsx\",i)\n",
    "    tem = data[data.物品名称 == '拉链袋']\n",
    "    df2= pd.concat([df2,tem])\n",
    "df2\n",
    "book.close() #关闭工作簿\n",
    "app.quit() #断开连接"
   ],
   "metadata": {
    "collapsed": false
   }
  },
  {
   "cell_type": "code",
   "execution_count": 4,
   "outputs": [
    {
     "data": {
      "text/plain": "(6, 5)"
     },
     "execution_count": 4,
     "metadata": {},
     "output_type": "execute_result"
    }
   ],
   "source": [
    "#建一个空表\n",
    "df = pd.DataFrame()\n",
    "for i in range(12):\n",
    "    data = pd.read_excel(r\"C:\\Data\\Jupyter_file\\Python数据清洗基础\\办公自动化\\1、从多个表中提取指定数据到新表\\办公用品采购表_2020年.xlsx\",i)\n",
    "    df1 = data[data.物品名称 == '拉链袋']\n",
    "    df= pd.concat([df,df1])\n",
    "df.shape"
   ],
   "metadata": {
    "collapsed": false
   }
  },
  {
   "cell_type": "code",
   "execution_count": 3,
   "outputs": [
    {
     "data": {
      "text/plain": "           日期 物品名称  数量    单价   采购金额\n0  2020-01-01  便签纸  14   9.9  138.6\n1  2020-01-02  拉链袋  24  12.5  300.0\n2  2020-01-05  计算器  14  10.5  147.0\n3  2020-01-06  活页本  18   9.8  176.4\n4  2020-01-08  白板笔   6  10.9   65.4",
      "text/html": "<div>\n<style scoped>\n    .dataframe tbody tr th:only-of-type {\n        vertical-align: middle;\n    }\n\n    .dataframe tbody tr th {\n        vertical-align: top;\n    }\n\n    .dataframe thead th {\n        text-align: right;\n    }\n</style>\n<table border=\"1\" class=\"dataframe\">\n  <thead>\n    <tr style=\"text-align: right;\">\n      <th></th>\n      <th>日期</th>\n      <th>物品名称</th>\n      <th>数量</th>\n      <th>单价</th>\n      <th>采购金额</th>\n    </tr>\n  </thead>\n  <tbody>\n    <tr>\n      <th>0</th>\n      <td>2020-01-01</td>\n      <td>便签纸</td>\n      <td>14</td>\n      <td>9.9</td>\n      <td>138.6</td>\n    </tr>\n    <tr>\n      <th>1</th>\n      <td>2020-01-02</td>\n      <td>拉链袋</td>\n      <td>24</td>\n      <td>12.5</td>\n      <td>300.0</td>\n    </tr>\n    <tr>\n      <th>2</th>\n      <td>2020-01-05</td>\n      <td>计算器</td>\n      <td>14</td>\n      <td>10.5</td>\n      <td>147.0</td>\n    </tr>\n    <tr>\n      <th>3</th>\n      <td>2020-01-06</td>\n      <td>活页本</td>\n      <td>18</td>\n      <td>9.8</td>\n      <td>176.4</td>\n    </tr>\n    <tr>\n      <th>4</th>\n      <td>2020-01-08</td>\n      <td>白板笔</td>\n      <td>6</td>\n      <td>10.9</td>\n      <td>65.4</td>\n    </tr>\n  </tbody>\n</table>\n</div>"
     },
     "execution_count": 3,
     "metadata": {},
     "output_type": "execute_result"
    }
   ],
   "source": [
    "data = pd.read_excel(r\"C:\\Data\\Jupyter_file\\Python数据清洗基础\\办公自动化\\1、从多个表中提取指定数据到新表\\办公用品采购表_2020年.xlsx\")\n",
    "data.head()"
   ],
   "metadata": {
    "collapsed": false
   }
  },
  {
   "cell_type": "code",
   "execution_count": 2,
   "outputs": [
    {
     "name": "stderr",
     "output_type": "stream",
     "text": [
      "C:\\Users\\fzh00\\AppData\\Local\\Temp\\ipykernel_7968\\977187474.py:6: MatplotlibDeprecationWarning: The seaborn styles shipped by Matplotlib are deprecated since 3.6, as they no longer correspond to the styles shipped by seaborn. However, they will remain available as 'seaborn-v0_8-<style>'. Alternatively, directly use the seaborn API instead.\n",
      "  plt.style.use('seaborn')\n"
     ]
    }
   ],
   "source": [
    "import matplotlib.pyplot as plt\n",
    "import numpy as np\n",
    "import pandas as pd\n",
    "\n",
    "#设置绘图风格\n",
    "plt.style.use('seaborn')\n",
    "#设置字体为黑色\n",
    "plt.rcParams['font.family']='SimHei'\n",
    "#显示符号\n",
    "plt.rcParams['axes.unicode_minus']= False"
   ],
   "metadata": {
    "collapsed": false
   }
  },
  {
   "cell_type": "code",
   "execution_count": 1,
   "outputs": [],
   "source": [
    "from IPython.core.interactiveshell import InteractiveShell\n",
    "InteractiveShell.ast_node_interactivity = \"all\""
   ],
   "metadata": {
    "collapsed": false
   }
  }
 ],
 "metadata": {
  "kernelspec": {
   "name": "pythonproject_anaconda",
   "language": "python",
   "display_name": "pythonProject_anaconda"
  },
  "language_info": {
   "codemirror_mode": {
    "name": "ipython",
    "version": 2
   },
   "file_extension": ".py",
   "mimetype": "text/x-python",
   "name": "python",
   "nbconvert_exporter": "python",
   "pygments_lexer": "ipython2",
   "version": "2.7.6"
  }
 },
 "nbformat": 4,
 "nbformat_minor": 0
}
