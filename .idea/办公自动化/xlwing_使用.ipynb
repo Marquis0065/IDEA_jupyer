{
 "cells": [
  {
   "cell_type": "code",
   "execution_count": 4,
   "outputs": [
    {
     "name": "stdout",
     "output_type": "stream",
     "text": [
      "1*1=1 \r\n",
      "2*1=2 2*2=4 \r\n",
      "3*1=3 3*2=6 3*3=9 \r\n",
      "4*1=4 4*2=8 4*3=12 4*4=16 \r\n",
      "5*1=5 5*2=10 5*3=15 5*4=20 5*5=25 \r\n",
      "6*1=6 6*2=12 6*3=18 6*4=24 6*5=30 6*6=36 \r\n",
      "7*1=7 7*2=14 7*3=21 7*4=28 7*5=35 7*6=42 7*7=49 \r\n"
     ]
    }
   ],
   "source": [
    "for i in range(1,8):\n",
    "    for j in range(1,i+1):\n",
    "        print(f'{i}*{j}={i*j} ',end='')\n",
    "        if i==j:\n",
    "            print('\\r')"
   ],
   "metadata": {
    "collapsed": false
   }
  },
  {
   "cell_type": "code",
   "execution_count": 24,
   "outputs": [
    {
     "data": {
      "text/plain": "Apps([])"
     },
     "execution_count": 24,
     "metadata": {},
     "output_type": "execute_result"
    }
   ],
   "source": [
    "xw.apps"
   ],
   "metadata": {
    "collapsed": false
   }
  },
  {
   "cell_type": "code",
   "execution_count": 13,
   "outputs": [
    {
     "data": {
      "text/plain": "Sheets([<Sheet [办公用品采购表_2020年.xlsx]1月>, <Sheet [办公用品采购表_2020年.xlsx]2月>, <Sheet [办公用品采购表_2020年.xlsx]3月>, ...])"
     },
     "execution_count": 13,
     "metadata": {},
     "output_type": "execute_result"
    }
   ],
   "source": [
    "import xlwings as xw\n",
    "wb = xw.Book(\"C:/Data\\Jupyter_file/Python数据清洗基础/办公自动化/1、从多个表中提取指定数据到新表/办公用品采购表_2020年.xlsx\")\n",
    "wb.sheets"
   ],
   "metadata": {
    "collapsed": false
   }
  },
  {
   "cell_type": "code",
   "execution_count": 25,
   "outputs": [],
   "source": [
    "import xlwings as xw\n",
    "import pandas as pd\n",
    "df = pd.DataFrame()\n",
    "app = xw.App(visible=False,add_book=False)\n",
    "book = app.books.open(r\"C:\\Data\\Jupyter_file\\Python数据清洗基础\\办公自动化\\1、从多个表中提取指定数据到新表\\办公用品采购表_2020年.xlsx\")\n",
    "for i in range(len(book.sheets)):\n",
    "    data = pd.read_excel(r\"C:\\Data\\Jupyter_file\\Python数据清洗基础\\办公自动化\\1、从多个表中提取指定数据到新表\\办公用品采购表_2020年.xlsx\",i)\n",
    "    df1 = data[data.物品名称 == '网线']\n",
    "    df= pd.concat([df,df1])\n",
    "df\n",
    "book.close() #关闭工作簿\n",
    "app.quit()"
   ],
   "metadata": {
    "collapsed": false
   }
  },
  {
   "cell_type": "code",
   "execution_count": null,
   "outputs": [],
   "source": [
    "#coding=utf-8\n",
    "import xlwings as xw\n",
    "import pandas as pd\n",
    "import time\n",
    "start_row = 2 # 处理Excel文件开始行\n",
    "end_row = 10002 # 处理Excel结束行\n",
    "#记录打开表单开始时间\n",
    "start_open_time = time.time()\n",
    "#指定不显示地打开Excel，读取Excel文件\n",
    "app = xw.App(visible=False, add_book=False)\n",
    "wb = app.books.open(r\"C:\\Data\\Jupyter_file\\Python数据清洗基础\\办公自动化\\1、从多个表中提取指定数据到新表\\办公用品采购表_2020年.xlsx\") # 打开Excel文件\n",
    "sheet = wb.sheets.add('新加工作表',0) # 选择第0个表单\n",
    "#记录打开Excel表单结束时间\n",
    "end_open_time = time.time()\n",
    "#记录开始循环计算时间\n",
    "start_run = time.time()\n",
    "row_content = []\n",
    "#读取Excel表单前10000行的数据，Python的in range是左闭右开的,到10002结束,但区间只包含2到10001这一万条\n",
    "for row in range(start_row, end_row):\n",
    "    row_str = str(row)\n",
    "    #循环中引用Excel的sheet和range的对象，读取B列和C列的每一行的值，对比计算\n",
    "    start_value = sheet.range('B' + row_str).value\n",
    "    end_value = sheet.range('C' + row_str).value\n",
    "    if start_value <= end_value:\n",
    "        values = end_value - start_value\n",
    "        #同时测试List数组添加记录\n",
    "        row_content.append(values)\n",
    "#计算和\n",
    "total_values = sum(row_content)\n",
    "#记录结束循环计算时间\n",
    "end_run = time.time()\n",
    "sheet.range('E2').value = str(total_values)\n",
    "sheet.range('E3').value = '使用Sheet计算时间(秒):' + str(end_run - start_run)\n",
    "#保存并关闭Excel文件\n",
    "wb.save()\n",
    "wb.close()\n",
    "print ('结果总和:', total_values)\n",
    "print ('打开并读取Excel表单时间(秒):',   end_open_time - start_open_time)\n",
    "print ('计算时间(秒):',   end_run - start_run)\n",
    "print ('处理数据条数:' , len(row_content))"
   ],
   "metadata": {
    "collapsed": false
   }
  }
 ],
 "metadata": {
  "kernelspec": {
   "name": "pythonproject_anaconda",
   "language": "python",
   "display_name": "pythonProject_anaconda"
  },
  "language_info": {
   "codemirror_mode": {
    "name": "ipython",
    "version": 2
   },
   "file_extension": ".py",
   "mimetype": "text/x-python",
   "name": "python",
   "nbconvert_exporter": "python",
   "pygments_lexer": "ipython2",
   "version": "2.7.6"
  }
 },
 "nbformat": 4,
 "nbformat_minor": 0
}
