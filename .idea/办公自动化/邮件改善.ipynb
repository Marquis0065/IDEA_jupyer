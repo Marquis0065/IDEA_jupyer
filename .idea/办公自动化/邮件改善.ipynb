{
 "cells": [
  {
   "cell_type": "code",
   "execution_count": 24,
   "outputs": [
    {
     "data": {
      "text/plain": "(235, b'Authentication successful')"
     },
     "execution_count": 24,
     "metadata": {},
     "output_type": "execute_result"
    },
    {
     "data": {
      "text/plain": "{}"
     },
     "execution_count": 24,
     "metadata": {},
     "output_type": "execute_result"
    }
   ],
   "source": [
    "# 带附件简化\n",
    "# 发送附件简化版\n",
    "import smtplib\n",
    "from email.header import Header\n",
    "from email.mime.multipart import MIMEMultipart\n",
    "from email.mime.text import MIMEText\n",
    "\n",
    "user_ = '1071255432@qq.com'  # 发件人账号\n",
    "password_ = 'ebskndibyzbrbbfb'  # 发件账号密码（授权码）\n",
    "receivers_ = ['fzh006591@hotmail.com','fzh006591@sohu.com','78330316@qq.com']  # 收件人账号列表\n",
    "# 2发送邮件，需要指定邮件正文，通过MIMEMultipart函数\n",
    "message = MIMEMultipart()  # 生成带有附件的邮件正文对象\n",
    "message[\"Subject\"] = Header('来自pycharm的主题', charset=\"utf-8\")  # 添加邮件的主题到邮件正文对象中\n",
    "message[\"From\"] = user_  # 添加发件邮箱到邮件对象\n",
    "message[\"To\"] = \";\".join(receivers_)  # #添加收件邮箱到邮件对象\n",
    "text = '''\n",
    "    import smtplib\n",
    "    from email.header import Header\n",
    "    from email.mime.multipart import MIMEMultipart\n",
    "    from email.mime.text import MIMEText\n",
    "\n",
    "    user_ = \"1071255432@qq.com\"  # 发件人账号\n",
    "    password_ = \"ebskndibyzbrbbfb\"  # 发件账号密码（授权码）\n",
    "    receivers_ = ['fzh006591@hotmail.com','fzh006591@sohu.com','78330316@qq.com']  # 收件人账号列表\n",
    "    # 2发送邮件，需要指定邮件正文，通过MIMEMultipart函数\n",
    "    message = MIMEMultipart()  # 生成带有附件的邮件正文对象\n",
    "    message[\"Subject\"] = Header(\"来自pycharm的主题\", charset=\"utf-8\")  # 添加邮件的主题到邮件正文对象中\n",
    "    message[\"From\"] = user_  # 添加发件邮箱到邮件对象\n",
    "    message[\"To\"] = \";\".join(receivers_)  # #添加收件邮箱到邮件对象\n",
    "    message.attach(MIMEText(\"修改后的pycharm内容\", _subtype=\"plain\", _charset=\"utf-8\"))  # 带有带附件的正文内容\n",
    "\n",
    "    # 3构造附件\n",
    "    att = MIMEText(open(\"C:/Users/fzh00/PycharmProjects/pythonProject1/物品分类显示.xlsx\", \"rb\").read(), \"base64\", \"utf-8\")  # rb表示以二进制的形式读取数据\n",
    "    # att[\"Content-Type\"] = \"application/octet-stream\"  # 八位组流协议\n",
    "    # att[\"Content-Disposition\"] = \"attachment;filename=利润表_附件.xlsx\"  # 附件\n",
    "    att.add_header(\"Content-Type\", \"octet-stream\")\n",
    "    att.add_header('Content-Disposition', 'attachment', filename='物品分类.xlsx')\n",
    "    message.attach(att)\n",
    "    # 4. 邮箱服务连接\n",
    "    conn = smtplib.SMTP_SSL(\"smtp.qq.com\", 465)\n",
    "    # 5. 发送邮件\n",
    "    conn.login(user_, password_)  # 登录smtp服务，是用账号与授权码，而不是账号与密码。\n",
    "    conn.sendmail(user_, receivers_, message.as_string())  # 邮件发送\n",
    "    # 6.关闭smtp服务\n",
    "    conn.close()\n",
    "    '''\n",
    "\n",
    "message.attach(MIMEText(text, _subtype='plain', _charset=\"utf-8\"))  # 带有带附件的正文内容\n",
    "\n",
    "# 3构造附件\n",
    "att = MIMEText(open(r\"C:\\Users\\fzh00\\IdeaProjects\\python_idea\\.idea\\测试中\\_Data\\prices.txt\", 'rb').read(), \"base64\", 'utf-8')  # rb表示以二进制的形式读取数据\n",
    "# att[\"Content-Type\"] = 'application/octet-stream'  # 八位组流协议\n",
    "# att[\"Content-Disposition\"] = \"attachment;filename=利润表_附件.xlsx\"  # 附件\n",
    "att.add_header('Content-Type', 'octet-stream')\n",
    "att.add_header('Content-Disposition', 'attachment', filename='price.txt')\n",
    "message.attach(att)\n",
    "# 4. 邮箱服务连接\n",
    "conn = smtplib.SMTP_SSL('smtp.qq.com', 465)\n",
    "# 5. 发送邮件\n",
    "conn.login(user_, password_)  # 登录smtp服务，是用账号与授权码，而不是账号与密码。\n",
    "conn.sendmail(user_, receivers_, message.as_string())  # 邮件发送\n",
    "# 6.关闭smtp服务\n",
    "conn.close()"
   ],
   "metadata": {
    "collapsed": false
   }
  },
  {
   "cell_type": "code",
   "execution_count": 21,
   "outputs": [
    {
     "data": {
      "text/plain": "[]"
     },
     "execution_count": 21,
     "metadata": {},
     "output_type": "execute_result"
    }
   ],
   "source": [],
   "metadata": {
    "collapsed": false
   }
  },
  {
   "cell_type": "code",
   "execution_count": 19,
   "outputs": [
    {
     "data": {
      "text/plain": "(235, b'Authentication successful')"
     },
     "execution_count": 19,
     "metadata": {},
     "output_type": "execute_result"
    },
    {
     "data": {
      "text/plain": "{}"
     },
     "execution_count": 19,
     "metadata": {},
     "output_type": "execute_result"
    }
   ],
   "source": [
    "# 简化邮件发送\n",
    "from email.header import Header\n",
    "from email.mime.text import MIMEText\n",
    "import smtplib #SMTP协议客户端\n",
    "\n",
    "user_ = '1071255432@qq.com'  # 发件人账号\n",
    "password_ = 'ebskndibyzbrbbfb'  # 发件账号密码（授权码）\n",
    "receivers_ = ['fzh006591@hotmail.com', 'fzh006591@sohu.com']  # 收件人账号列表\n",
    "content = MIMEText('这里写邮件正文,简化版测试', 'plain', 'utf-8')  # 实现邮件发送的内容定义，信封\n",
    "# 1. 定义收件人与发件人，邮件主题等相关信息\n",
    "content['From'] = user_  # 发件人\n",
    "content['To'] = ';'.join(receivers_)  # 收件人\n",
    "content['Subject'] = Header('邮件主题随便写', 'utf-8')  # 实现邮件主题的添加。\n",
    "# 2. 邮箱服务连接\n",
    "conn = smtplib.SMTP_SSL('smtp.qq.com', 465)\n",
    "# 3. 发送邮件\n",
    "conn.login(user_, password_)  # 登录smtp服务，是用账号与授权码，而不是账号与密码。\n",
    "conn.sendmail(user_, receiver_, content.as_string())  # 邮件发送\n",
    "# 4.关闭smtp服务\n",
    "conn.close()"
   ],
   "metadata": {
    "collapsed": false
   }
  },
  {
   "cell_type": "code",
   "execution_count": 18,
   "outputs": [
    {
     "data": {
      "text/plain": "(220, b'newxmesmtplogicsvrszb9-0.qq.com XMail Esmtp QQ Mail Server.')"
     },
     "execution_count": 18,
     "metadata": {},
     "output_type": "execute_result"
    },
    {
     "data": {
      "text/plain": "(235, b'Authentication successful')"
     },
     "execution_count": 18,
     "metadata": {},
     "output_type": "execute_result"
    },
    {
     "data": {
      "text/plain": "{}"
     },
     "execution_count": 18,
     "metadata": {},
     "output_type": "execute_result"
    },
    {
     "name": "stdout",
     "output_type": "stream",
     "text": [
      "邮件发送成功\n"
     ]
    }
   ],
   "source": [
    "# 带附件的邮件\n",
    "from email.header import Header\n",
    "from email.mime.text import MIMEText\n",
    "import smtplib #SMTP协议客户端\n",
    "from  email.mime.multipart import MIMEMultipart\n",
    "import time\n",
    "\n",
    "\n",
    "# 发送邮件\n",
    "# 1定义变量接收 邮箱服务器地址、端口、发件人账号、密码、收件人账号和邮件标题及邮件内容\n",
    "host_ = \"smtp.qq.com\"  # 服务器地址\n",
    "port_ = 465  # 端口号\n",
    "user_ = '1071255432@qq.com'  # 发件人账号\n",
    "password_ = 'ebskndibyzbrbbfb'  # 发件账号密码（授权码）\n",
    "receivers_ = ['fzh006591@hotmail.com', 'fzh006591@sohu.com']  # 收件人账号列表\n",
    "title_ = \"账龄日报\"  # 邮件标题\n",
    "html = \"\"\"\n",
    "<h1>大标题</h1>\n",
    "\n",
    "\"\"\"  # 邮件正文\n",
    "# 2发送邮件，需要指定邮件正文，通过MIMEMultipart函数\n",
    "message = MIMEMultipart()  # 生成带有附件的邮件正文对象\n",
    "message[\"Subject\"] = Header(title_, charset=\"utf-8\")  # 添加邮件的主题到邮件正文对象中\n",
    "message[\"From\"] = user_  # 添加发件邮箱到邮件对象\n",
    "message[\"To\"] = \";\".join(receivers_)  # #添加收件邮箱到邮件对象\n",
    "message.attach(MIMEText(html, _subtype='html', _charset=\"utf-8\"))  # 带有带附件的正文内容\n",
    "# 构造附件\n",
    "att1 = MIMEText(open(r\"C:\\Users\\fzh00\\PycharmProjects\\pythonProject1\\bar2.html\", 'rb').read(), \"base64\", 'utf-8')  # rb表示以二进制的形式读取数据\n",
    "att1[\"Content-Type\"] = 'application/octet-stream'  # 八位组流协议\n",
    "att1[\"Content-Disposition\"] = \"attachment;filename=bar2.html\"  # 附件\n",
    "message.attach(att1)\n",
    "# 发送邮件\n",
    "smtp = smtplib.SMTP_SSL(host_)  # 指定服务器地址\n",
    "smtp.connect(host_, port_)  # 链接到指定的服务器地址和端口号\n",
    "smtp.login(user_, password_)  # 进行身份验证\n",
    "smtp.sendmail(user_, receivers_, message.as_string())  # 参数包含发件人账号，收件人账号，邮件对象(数据类型要求字符串)\n",
    "print(\"邮件发送成功\")"
   ],
   "metadata": {
    "collapsed": false
   }
  },
  {
   "cell_type": "code",
   "execution_count": 12,
   "outputs": [
    {
     "data": {
      "text/plain": "(235, b'Authentication successful')"
     },
     "execution_count": 12,
     "metadata": {},
     "output_type": "execute_result"
    },
    {
     "data": {
      "text/plain": "{}"
     },
     "execution_count": 12,
     "metadata": {},
     "output_type": "execute_result"
    }
   ],
   "source": [
    "#  发送HTML格式的邮件\n",
    "import smtplib\n",
    "from email.header import Header\n",
    "from email.mime.text import MIMEText\n",
    "\n",
    "# 1. 配置邮箱信息\n",
    "sender = '1071255432@qq.com'  # 发件人\n",
    "receiver = ['78330316@qq.com','fzh006591@sohu.com','fzh006591@hotmail.com']  # 收件人\n",
    "pass_code = 'ebskndibyzbrbbfb'  # 授权码：是发件人的授权码，也就是你之前开启SMTP服务时返回的字符串\n",
    "\n",
    "# 2. 邮箱服务连接\n",
    "conn = smtplib.SMTP_SSL('smtp.qq.com', 465)  # qq邮箱的smtp服务地址：smtp.qq.com，默认端口：25\n",
    "\n",
    "# 3. 邮件内容的定义\n",
    "# 邮件正文，html内容\n",
    "html = '''\n",
    "    <title>可以修改邮件的标题</title>\n",
    "    <h1>大标题</h1>\n",
    "    <h2>2号标题</h2>\n",
    "    <p>邮件内容可以写这里</p>\n",
    "    <p><a href=\"http://www.baidu.com\">百度地址</a></p>\n",
    "    <ol>有序列表a</ol>\n",
    "    <ol>有序列表b</ol>\n",
    "    <ol>有序列表c</ol>\n",
    "    <ol>有序列表d</ol>\n",
    "'''\n",
    "content = MIMEText(html, 'html', 'utf-8')  # 实现邮件发送的内容定义，信封，因为是html内容，所以将plain改为html\n",
    "\n",
    "# 4. 定义收件人与发件人，邮件主题等相关信息\n",
    "content['From'] = sender  # 发件人\n",
    "content['To'] = ';'.join(receiver)  # 收件人\n",
    "# 添加邮件的主题\n",
    "email_theme = 'IDEA发送来HTML格式的邮件'\n",
    "content['Subject'] = Header(email_theme, 'utf-8')  # 实现邮件主题的添加。\n",
    "\n",
    "# 5. 发送邮件\n",
    "conn.login(sender, pass_code)  # 登录smtp服务，是用账号与授权码，而不是账号与密码。\n",
    "conn.sendmail(sender,receiver , content.as_string())  # 邮件发送\n",
    "\n",
    "# 6.关闭smtp服务\n",
    "conn.close()"
   ],
   "metadata": {
    "collapsed": false
   }
  },
  {
   "cell_type": "code",
   "execution_count": 10,
   "outputs": [
    {
     "data": {
      "text/plain": "(220, b'newxmesmtplogicsvrsza7-0.qq.com XMail Esmtp QQ Mail Server.')"
     },
     "execution_count": 10,
     "metadata": {},
     "output_type": "execute_result"
    },
    {
     "data": {
      "text/plain": "(235, b'Authentication successful')"
     },
     "execution_count": 10,
     "metadata": {},
     "output_type": "execute_result"
    },
    {
     "data": {
      "text/plain": "{}"
     },
     "execution_count": 10,
     "metadata": {},
     "output_type": "execute_result"
    }
   ],
   "source": [
    "#加入标题，及收件人\n",
    "message['Subject'] = Header(title_,'utf-8')\n",
    "message['From'] = user_\n",
    "message['To'] = ';'.join(receivers_)\n",
    "#发送邮件\n",
    "smtp = smtplib.SMTP_SSL(host_)\n",
    "smtp.connect(host=host_,port=port_)\n",
    "smtp.login(user_,password_)\n",
    "#发送，指定发件人账号，收件人账号，内容\n",
    "smtp.sendmail(user_,receivers_,message.as_string())"
   ],
   "metadata": {
    "collapsed": false
   }
  },
  {
   "cell_type": "code",
   "execution_count": 6,
   "outputs": [
    {
     "data": {
      "text/plain": "<email.mime.text.MIMEText at 0x23a6ba5b010>"
     },
     "execution_count": 6,
     "metadata": {},
     "output_type": "execute_result"
    }
   ],
   "source": [
    "# 生成邮件正文\n",
    "message = MIMEText(text_,_subtype='plain',_charset='utf8')\n",
    "message"
   ],
   "metadata": {
    "collapsed": false
   }
  },
  {
   "cell_type": "code",
   "execution_count": 8,
   "outputs": [],
   "source": [
    "host_ = 'smtp.qq.com'\n",
    "port_ = 465\n",
    "user_ = '1071255432@qq.com'\n",
    "password_ = 'ebskndibyzbrbbfb'\n",
    "receivers_ = ['fzh006591@sohu.com','fzh006591@hotmail.com','78330316@qq.com']\n",
    "title_ = '重新测试邮件通道'\n",
    "text_ = '邮件内容'"
   ],
   "metadata": {
    "collapsed": false
   }
  },
  {
   "cell_type": "code",
   "execution_count": 4,
   "outputs": [],
   "source": [
    "import smtplib\n",
    "from email.header import Header\n",
    "from email.mime.text import MIMEText"
   ],
   "metadata": {
    "collapsed": false
   }
  },
  {
   "cell_type": "code",
   "execution_count": 3,
   "outputs": [
    {
     "data": {
      "text/plain": "'C:\\\\Users\\\\fzh00\\\\IdeaProjects\\\\python_idea\\\\.idea\\\\办公自动化'"
     },
     "execution_count": 3,
     "metadata": {},
     "output_type": "execute_result"
    }
   ],
   "source": [
    "os.getcwd()"
   ],
   "metadata": {
    "collapsed": false
   }
  },
  {
   "cell_type": "code",
   "execution_count": 2,
   "outputs": [
    {
     "data": {
      "text/plain": "'C:\\\\ProgramData\\\\Anaconda3\\\\envs\\\\cda_python\\\\lib\\\\os.py'"
     },
     "execution_count": 2,
     "metadata": {},
     "output_type": "execute_result"
    },
    {
     "data": {
      "text/plain": "'C:\\\\Users\\\\fzh00\\\\IdeaProjects\\\\python_idea\\\\.idea\\\\办公自动化'"
     },
     "execution_count": 2,
     "metadata": {},
     "output_type": "execute_result"
    },
    {
     "ename": "ModuleNotFoundError",
     "evalue": "No module named 'c'",
     "output_type": "error",
     "traceback": [
      "\u001B[1;31m---------------------------------------------------------------------------\u001B[0m",
      "\u001B[1;31mModuleNotFoundError\u001B[0m                       Traceback (most recent call last)",
      "Cell \u001B[1;32mIn[2], line 4\u001B[0m\n\u001B[0;32m      2\u001B[0m os\u001B[38;5;241m.\u001B[39m\u001B[38;5;18m__file__\u001B[39m\n\u001B[0;32m      3\u001B[0m get_ipython()\u001B[38;5;241m.\u001B[39mrun_line_magic(\u001B[38;5;124m'\u001B[39m\u001B[38;5;124mpwd\u001B[39m\u001B[38;5;124m'\u001B[39m, \u001B[38;5;124m'\u001B[39m\u001B[38;5;124m'\u001B[39m)\n\u001B[1;32m----> 4\u001B[0m \u001B[38;5;28;01mimport\u001B[39;00m \u001B[38;5;21;01mc\u001B[39;00m\n\u001B[0;32m      5\u001B[0m c\u001B[38;5;241m.\u001B[39mNotebookApp\u001B[38;5;241m.\u001B[39mnotebook_dir \u001B[38;5;241m=\u001B[39m \u001B[38;5;124mu\u001B[39m\u001B[38;5;124m\"\u001B[39m\u001B[38;5;124mC:\u001B[39m\u001B[38;5;124m\\\u001B[39m\u001B[38;5;124mData\u001B[39m\u001B[38;5;124m\\\u001B[39m\u001B[38;5;124mJupyter_file\u001B[39m\u001B[38;5;130;01m\\r\u001B[39;00m\u001B[38;5;124mesult_data\u001B[39m\u001B[38;5;124m\"\u001B[39m\n\u001B[0;32m      6\u001B[0m get_ipython()\u001B[38;5;241m.\u001B[39mrun_line_magic(\u001B[38;5;124m'\u001B[39m\u001B[38;5;124mpwd\u001B[39m\u001B[38;5;124m'\u001B[39m, \u001B[38;5;124m'\u001B[39m\u001B[38;5;124m'\u001B[39m)\n",
      "\u001B[1;31mModuleNotFoundError\u001B[0m: No module named 'c'"
     ]
    }
   ],
   "source": [
    "import os\n",
    "os.__file__\n",
    "%pwd\n",
    "import c\n",
    "c.NotebookApp.notebook_dir = u\"C:\\Data\\Jupyter_file\\result_data\"\n",
    "%pwd"
   ],
   "metadata": {
    "collapsed": false
   }
  },
  {
   "cell_type": "code",
   "execution_count": 1,
   "outputs": [],
   "source": [
    "from IPython.core.interactiveshell import InteractiveShell\n",
    "InteractiveShell.ast_node_interactivity = \"all\""
   ],
   "metadata": {
    "collapsed": false
   }
  }
 ],
 "metadata": {
  "kernelspec": {
   "name": "cda_python",
   "language": "python",
   "display_name": "cda_python"
  },
  "language_info": {
   "codemirror_mode": {
    "name": "ipython",
    "version": 2
   },
   "file_extension": ".py",
   "mimetype": "text/x-python",
   "name": "python",
   "nbconvert_exporter": "python",
   "pygments_lexer": "ipython2",
   "version": "2.7.6"
  }
 },
 "nbformat": 4,
 "nbformat_minor": 0
}
